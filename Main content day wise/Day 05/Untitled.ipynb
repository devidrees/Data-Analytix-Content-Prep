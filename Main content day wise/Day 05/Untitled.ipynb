{
 "cells": [
  {
   "cell_type": "code",
   "execution_count": 2,
   "id": "d33c1e22-4ae9-4617-be7e-b6bd76d6c82d",
   "metadata": {},
   "outputs": [
    {
     "name": "stdout",
     "output_type": "stream",
     "text": [
      "CSV file created successfully.\n"
     ]
    }
   ],
   "source": [
    "import csv\n",
    "\n",
    "header = ['Id','Species','Location']\n",
    "\n",
    "rows = [\n",
    "    [1,'Versicolor','India'],[2,'Versicolor','India'],[3,'Versicolor','India'],\n",
    "    [4,'Versicolor','India'],[5,'Versicolor','India'],[6,'Versicolor','India']\n",
    "]\n",
    "\n",
    "with open('species.csv', mode='w', newline='') as file:\n",
    "    writer = csv.writer(file)\n",
    "\n",
    "    # Write the header\n",
    "    writer.writerow(header)\n",
    "\n",
    "    # Write the data rows\n",
    "    writer.writerows(rows)\n",
    "\n",
    "print(\"CSV file created successfully.\")"
   ]
  },
  {
   "cell_type": "code",
   "execution_count": 6,
   "id": "cdfe7812-9050-47f0-8ffc-110158dba661",
   "metadata": {},
   "outputs": [
    {
     "data": {
      "text/html": [
       "<div>\n",
       "<style scoped>\n",
       "    .dataframe tbody tr th:only-of-type {\n",
       "        vertical-align: middle;\n",
       "    }\n",
       "\n",
       "    .dataframe tbody tr th {\n",
       "        vertical-align: top;\n",
       "    }\n",
       "\n",
       "    .dataframe thead th {\n",
       "        text-align: right;\n",
       "    }\n",
       "</style>\n",
       "<table border=\"1\" class=\"dataframe\">\n",
       "  <thead>\n",
       "    <tr style=\"text-align: right;\">\n",
       "      <th></th>\n",
       "      <th>Id</th>\n",
       "      <th>Species</th>\n",
       "      <th>Location</th>\n",
       "    </tr>\n",
       "  </thead>\n",
       "  <tbody>\n",
       "    <tr>\n",
       "      <th>0</th>\n",
       "      <td>1</td>\n",
       "      <td>Versicolor</td>\n",
       "      <td>India</td>\n",
       "    </tr>\n",
       "    <tr>\n",
       "      <th>1</th>\n",
       "      <td>2</td>\n",
       "      <td>Versicolor</td>\n",
       "      <td>India</td>\n",
       "    </tr>\n",
       "    <tr>\n",
       "      <th>2</th>\n",
       "      <td>3</td>\n",
       "      <td>Versicolor</td>\n",
       "      <td>India</td>\n",
       "    </tr>\n",
       "    <tr>\n",
       "      <th>3</th>\n",
       "      <td>4</td>\n",
       "      <td>Versicolor</td>\n",
       "      <td>India</td>\n",
       "    </tr>\n",
       "    <tr>\n",
       "      <th>4</th>\n",
       "      <td>5</td>\n",
       "      <td>Versicolor</td>\n",
       "      <td>India</td>\n",
       "    </tr>\n",
       "    <tr>\n",
       "      <th>5</th>\n",
       "      <td>6</td>\n",
       "      <td>Versicolor</td>\n",
       "      <td>India</td>\n",
       "    </tr>\n",
       "  </tbody>\n",
       "</table>\n",
       "</div>"
      ],
      "text/plain": [
       "   Id     Species Location\n",
       "0   1  Versicolor    India\n",
       "1   2  Versicolor    India\n",
       "2   3  Versicolor    India\n",
       "3   4  Versicolor    India\n",
       "4   5  Versicolor    India\n",
       "5   6  Versicolor    India"
      ]
     },
     "execution_count": 6,
     "metadata": {},
     "output_type": "execute_result"
    }
   ],
   "source": [
    "import pandas as pd\n",
    "\n",
    "df = pd.read_csv('species.csv')\n",
    "df"
   ]
  },
  {
   "cell_type": "code",
   "execution_count": 8,
   "id": "29c31329-fdb3-46d3-861c-d3e930c8ae76",
   "metadata": {},
   "outputs": [
    {
     "data": {
      "text/plain": [
       "[{'id': 10, 'specie': 'gentoo', 'location': 'New York'},\n",
       " {'id': 11, 'specie': 'gentoo', 'location': 'London'},\n",
       " {'id': 12, 'specie': 'king', 'location': 'New York'},\n",
       " {'id': 13, 'specie': 'gentoo', 'location': 'London'},\n",
       " {'id': 14, 'specie': 'king', 'location': 'New York'}]"
      ]
     },
     "execution_count": 8,
     "metadata": {},
     "output_type": "execute_result"
    }
   ],
   "source": [
    "[ \n",
    " {\n",
    "    \"id\": 10,\n",
    "    \"specie\": 'gentoo',\n",
    "    \"location\": \"New York\"\n",
    "  },\n",
    " {\n",
    "    \"id\": 11,\n",
    "    \"specie\": 'gentoo',\n",
    "    \"location\": \"London\"\n",
    "  },\n",
    " {\n",
    "    \"id\": 12,\n",
    "    \"specie\": 'king',\n",
    "    \"location\": \"New York\"\n",
    "  }, {\n",
    "    \"id\": 13,\n",
    "    \"specie\": 'gentoo',\n",
    "    \"location\": \"London\"\n",
    "  }, {\n",
    "    \"id\": 14,\n",
    "    \"specie\": 'king',\n",
    "    \"location\": \"New York\"\n",
    "  },    \n",
    "]"
   ]
  },
  {
   "cell_type": "code",
   "execution_count": 10,
   "id": "f7adc880-88c8-432b-b31f-f2c5e4044056",
   "metadata": {},
   "outputs": [],
   "source": [
    "import json\n",
    "\n",
    "data = [ \n",
    " {\n",
    "    \"id\": 10,\n",
    "    \"specie\": 'gentoo',\n",
    "    \"location\": \"New York\"\n",
    "  },\n",
    " {\n",
    "    \"id\": 11,\n",
    "    \"specie\": 'gentoo',\n",
    "    \"location\": \"London\"\n",
    "  },\n",
    " {\n",
    "    \"id\": 12,\n",
    "    \"specie\": 'king',\n",
    "    \"location\": \"New York\"\n",
    "  }, {\n",
    "    \"id\": 13,\n",
    "    \"specie\": 'gentoo',\n",
    "    \"location\": \"London\"\n",
    "  }, {\n",
    "    \"id\": 14,\n",
    "    \"specie\": 'king',\n",
    "    \"location\": \"New York\"\n",
    "  },    \n",
    "]\n",
    "\n",
    "with open('penguins.json', mode='w') as file:\n",
    "    json.dump(data, file, indent=4)  # The indent parameter makes the JSON file readable\n",
    "\n"
   ]
  },
  {
   "cell_type": "code",
   "execution_count": null,
   "id": "09225cb4-cab3-469e-a74b-25f3e272fa97",
   "metadata": {},
   "outputs": [],
   "source": [
    "tags\n",
    "\n"
   ]
  },
  {
   "cell_type": "markdown",
   "id": "55fccff9-e965-4002-9689-064c576687b0",
   "metadata": {},
   "source": [
    "python, c, java script,\n",
    "\n",
    "html -> webpages\n",
    "\n",
    "SQL syntax -> querry data\n",
    "\n",
    "\r\n",
    "</people>"
   ]
  },
  {
   "cell_type": "markdown",
   "id": "7fd7b0be-e9c7-475f-b125-533b3735dafa",
   "metadata": {},
   "source": [
    "database management XXXXX\n",
    "basics that can help us manipulate data"
   ]
  },
  {
   "cell_type": "markdown",
   "id": "ef71adae-22f9-47a6-80e8-ee9eeb409bd6",
   "metadata": {},
   "source": [
    "SQL - syntax differs.... google \n",
    "\n",
    "concepts; SQL \n",
    "\n"
   ]
  },
  {
   "cell_type": "markdown",
   "id": "1752e880-40ee-4eb1-8a3f-db79c4ffced7",
   "metadata": {},
   "source": [
    "databases -> db that have tables, \n",
    "school db\n",
    "\n",
    "student table\n",
    "teachers table\n",
    "\n",
    "class table  -> id subject teachers students\n",
    "\n",
    "(primary and foriegn keys)"
   ]
  },
  {
   "cell_type": "code",
   "execution_count": 16,
   "id": "2141e9a7-f362-4925-83e3-8c4e12898ed0",
   "metadata": {},
   "outputs": [],
   "source": [
    "import sqlite3 as sql\n",
    "\n",
    "# Connect to a database (or create it if it doesn't exist)\n",
    "connection = sql.connect('idrees.db')\n",
    "\n",
    "# Create a cursor object using the connection. A cursor is a control structure that enables traversal over the records in a database.\n",
    "cursor = connection.cursor()"
   ]
  },
  {
   "cell_type": "code",
   "execution_count": 18,
   "id": "ffd8273f-657c-43c6-ba4d-39b01cb98c23",
   "metadata": {},
   "outputs": [
    {
     "data": {
      "text/plain": [
       "<sqlite3.Cursor at 0x2113afe2140>"
      ]
     },
     "execution_count": 18,
     "metadata": {},
     "output_type": "execute_result"
    }
   ],
   "source": [
    "# Create an sql table in python\n",
    "\n",
    "cursor.execute('''\n",
    "CREATE TABLE idrees_students(\n",
    "    id INTEGER PRIMARY KEY,\n",
    "    name TEXT NOT NULL,\n",
    "    city TEXT\n",
    ");\n",
    "''')"
   ]
  },
  {
   "cell_type": "code",
   "execution_count": 20,
   "id": "7406db8b-623c-438c-ab38-aedf5d509089",
   "metadata": {},
   "outputs": [],
   "source": [
    "# Commit the changes and close the connection\n",
    "connection.commit()"
   ]
  },
  {
   "cell_type": "code",
   "execution_count": 28,
   "id": "d5aa8ac2-3515-4302-8b8e-ef443607fa37",
   "metadata": {},
   "outputs": [],
   "source": [
    "# Insert data in sql table in python\n",
    "cursor.execute(\"INSERT INTO idrees_students (id, name, city) VALUES (3, 'Sagar','Texas')\")\n",
    "\n",
    "# Commit the changes\n",
    "connection.commit()"
   ]
  },
  {
   "cell_type": "code",
   "execution_count": 30,
   "id": "0b302ae8-ff1a-4ea3-aa3a-bca2c95c89cc",
   "metadata": {},
   "outputs": [],
   "source": [
    "# Insert data in sql table in python\n",
    "cursor.execute(\"INSERT INTO idrees_students (id, name, city) VALUES (4, 'Santosh','Austin')\")\n",
    "\n",
    "# Commit the changes\n",
    "connection.commit()"
   ]
  },
  {
   "cell_type": "code",
   "execution_count": 36,
   "id": "2008d63b-e23b-443e-8fab-b55c2413dba7",
   "metadata": {},
   "outputs": [],
   "source": [
    "# Query the data from sql table using python\n",
    "cursor.execute(\"SELECT * FROM idrees_students\")\n",
    "\n",
    "# Fetch all results\n",
    "res = cursor.fetchall()"
   ]
  },
  {
   "cell_type": "code",
   "execution_count": 40,
   "id": "ec6be982-d102-44dc-a9b9-677f08785dda",
   "metadata": {},
   "outputs": [
    {
     "data": {
      "text/plain": [
       "[(1, 'Sagar', 'Texas'),\n",
       " (2, 'Ritika', 'Irving'),\n",
       " (3, 'Sagar', 'Texas'),\n",
       " (4, 'Santosh', 'Austin')]"
      ]
     },
     "execution_count": 40,
     "metadata": {},
     "output_type": "execute_result"
    }
   ],
   "source": [
    "res"
   ]
  },
  {
   "cell_type": "code",
   "execution_count": 42,
   "id": "3d80f1c2-0c17-4c67-804a-a5fde3f92ba1",
   "metadata": {},
   "outputs": [],
   "source": [
    "import pandas as pd\n",
    "\n",
    "x = pd.DataFrame(res)"
   ]
  },
  {
   "cell_type": "code",
   "execution_count": 44,
   "id": "635261ff-d298-4d26-87d4-e5383e3ca4d8",
   "metadata": {},
   "outputs": [
    {
     "data": {
      "text/html": [
       "<div>\n",
       "<style scoped>\n",
       "    .dataframe tbody tr th:only-of-type {\n",
       "        vertical-align: middle;\n",
       "    }\n",
       "\n",
       "    .dataframe tbody tr th {\n",
       "        vertical-align: top;\n",
       "    }\n",
       "\n",
       "    .dataframe thead th {\n",
       "        text-align: right;\n",
       "    }\n",
       "</style>\n",
       "<table border=\"1\" class=\"dataframe\">\n",
       "  <thead>\n",
       "    <tr style=\"text-align: right;\">\n",
       "      <th></th>\n",
       "      <th>0</th>\n",
       "      <th>1</th>\n",
       "      <th>2</th>\n",
       "    </tr>\n",
       "  </thead>\n",
       "  <tbody>\n",
       "    <tr>\n",
       "      <th>0</th>\n",
       "      <td>1</td>\n",
       "      <td>Sagar</td>\n",
       "      <td>Texas</td>\n",
       "    </tr>\n",
       "    <tr>\n",
       "      <th>1</th>\n",
       "      <td>2</td>\n",
       "      <td>Ritika</td>\n",
       "      <td>Irving</td>\n",
       "    </tr>\n",
       "    <tr>\n",
       "      <th>2</th>\n",
       "      <td>3</td>\n",
       "      <td>Sagar</td>\n",
       "      <td>Texas</td>\n",
       "    </tr>\n",
       "    <tr>\n",
       "      <th>3</th>\n",
       "      <td>4</td>\n",
       "      <td>Santosh</td>\n",
       "      <td>Austin</td>\n",
       "    </tr>\n",
       "  </tbody>\n",
       "</table>\n",
       "</div>"
      ],
      "text/plain": [
       "   0        1       2\n",
       "0  1    Sagar   Texas\n",
       "1  2   Ritika  Irving\n",
       "2  3    Sagar   Texas\n",
       "3  4  Santosh  Austin"
      ]
     },
     "execution_count": 44,
     "metadata": {},
     "output_type": "execute_result"
    }
   ],
   "source": [
    "x"
   ]
  },
  {
   "cell_type": "code",
   "execution_count": 46,
   "id": "7e5ceabb-decb-42da-8222-53b74b9637b4",
   "metadata": {},
   "outputs": [],
   "source": [
    "# Close the connection\n",
    "connection.close()"
   ]
  },
  {
   "cell_type": "code",
   "execution_count": 48,
   "id": "129e3aa0-57d7-4ee4-835e-9eb9524ac682",
   "metadata": {},
   "outputs": [
    {
     "ename": "ProgrammingError",
     "evalue": "Cannot operate on a closed database.",
     "output_type": "error",
     "traceback": [
      "\u001b[1;31m---------------------------------------------------------------------------\u001b[0m",
      "\u001b[1;31mProgrammingError\u001b[0m                          Traceback (most recent call last)",
      "Cell \u001b[1;32mIn[48], line 2\u001b[0m\n\u001b[0;32m      1\u001b[0m \u001b[38;5;66;03m# Query the data from sql table using python\u001b[39;00m\n\u001b[1;32m----> 2\u001b[0m cursor\u001b[38;5;241m.\u001b[39mexecute(\u001b[38;5;124m\"\u001b[39m\u001b[38;5;124mSELECT * FROM idrees_students\u001b[39m\u001b[38;5;124m\"\u001b[39m)\n\u001b[0;32m      4\u001b[0m \u001b[38;5;66;03m# Fetch all results\u001b[39;00m\n\u001b[0;32m      5\u001b[0m res \u001b[38;5;241m=\u001b[39m cursor\u001b[38;5;241m.\u001b[39mfetchall()\n",
      "\u001b[1;31mProgrammingError\u001b[0m: Cannot operate on a closed database."
     ]
    }
   ],
   "source": [
    "# Query the data from sql table using python\n",
    "cursor.execute(\"SELECT * FROM idrees_students\")\n",
    "\n",
    "# Fetch all results\n",
    "res = cursor.fetchall()"
   ]
  },
  {
   "cell_type": "code",
   "execution_count": 50,
   "id": "6a76341e-d481-4764-9a22-08689218e121",
   "metadata": {},
   "outputs": [
    {
     "name": "stdout",
     "output_type": "stream",
     "text": [
      "Note: you may need to restart the kernel to use updated packages.\n"
     ]
    },
    {
     "name": "stderr",
     "output_type": "stream",
     "text": [
      "ERROR: Could not find a version that satisfies the requirement sqlite3 (from versions: none)\n",
      "ERROR: No matching distribution found for sqlite3\n"
     ]
    }
   ],
   "source": [
    "pip install sqlite3"
   ]
  },
  {
   "cell_type": "code",
   "execution_count": 52,
   "id": "fbd5d38d-8cc5-44ad-8b6b-add5d3ac96d6",
   "metadata": {},
   "outputs": [],
   "source": [
    "import sqlite3 as sql"
   ]
  },
  {
   "cell_type": "code",
   "execution_count": 54,
   "id": "e96508bf-0f10-420d-b2b2-ac529ca9cab9",
   "metadata": {},
   "outputs": [],
   "source": [
    "# import mysql dependency\n",
    "import mysql.connector # cmd/terminal -> pip install \n",
    "import pandas as pd"
   ]
  },
  {
   "cell_type": "code",
   "execution_count": 56,
   "id": "72be1a00-a8d8-4ab8-9e88-37dbe15acc1f",
   "metadata": {},
   "outputs": [],
   "source": [
    "# Connect to the MySQL database\n",
    "connection = mysql.connector.connect(\n",
    "    host='localhost',\n",
    "    user='idrees',\n",
    "    password='qwerty12345',\n",
    "    database='idrees_db'\n",
    ")"
   ]
  },
  {
   "cell_type": "code",
   "execution_count": 60,
   "id": "8f1f8d5a-2816-427c-bde6-dd142dbf236a",
   "metadata": {},
   "outputs": [],
   "source": [
    "# Create a cursor object\n",
    "cursor = connection.cursor()"
   ]
  },
  {
   "cell_type": "code",
   "execution_count": 62,
   "id": "3db88696-8774-4101-93b6-96899ad90e2d",
   "metadata": {},
   "outputs": [],
   "source": [
    "# Query the data\n",
    "cursor.execute(\"SELECT * FROM users\")\n",
    "\n",
    "# Fetch all results\n",
    "results = cursor.fetchall()"
   ]
  },
  {
   "cell_type": "code",
   "execution_count": 64,
   "id": "1fe4b699-2ff9-4093-9a0e-9918b3562c73",
   "metadata": {},
   "outputs": [
    {
     "data": {
      "text/plain": [
       "[(1, 'Alice', 30), (2, 'Bob', 25)]"
      ]
     },
     "execution_count": 64,
     "metadata": {},
     "output_type": "execute_result"
    }
   ],
   "source": [
    "results"
   ]
  },
  {
   "cell_type": "code",
   "execution_count": 66,
   "id": "b70097a1-f95b-4bee-af49-b7131c27cd20",
   "metadata": {},
   "outputs": [
    {
     "data": {
      "text/html": [
       "<div>\n",
       "<style scoped>\n",
       "    .dataframe tbody tr th:only-of-type {\n",
       "        vertical-align: middle;\n",
       "    }\n",
       "\n",
       "    .dataframe tbody tr th {\n",
       "        vertical-align: top;\n",
       "    }\n",
       "\n",
       "    .dataframe thead th {\n",
       "        text-align: right;\n",
       "    }\n",
       "</style>\n",
       "<table border=\"1\" class=\"dataframe\">\n",
       "  <thead>\n",
       "    <tr style=\"text-align: right;\">\n",
       "      <th></th>\n",
       "      <th>0</th>\n",
       "      <th>1</th>\n",
       "      <th>2</th>\n",
       "    </tr>\n",
       "  </thead>\n",
       "  <tbody>\n",
       "    <tr>\n",
       "      <th>0</th>\n",
       "      <td>1</td>\n",
       "      <td>Alice</td>\n",
       "      <td>30</td>\n",
       "    </tr>\n",
       "    <tr>\n",
       "      <th>1</th>\n",
       "      <td>2</td>\n",
       "      <td>Bob</td>\n",
       "      <td>25</td>\n",
       "    </tr>\n",
       "  </tbody>\n",
       "</table>\n",
       "</div>"
      ],
      "text/plain": [
       "   0      1   2\n",
       "0  1  Alice  30\n",
       "1  2    Bob  25"
      ]
     },
     "execution_count": 66,
     "metadata": {},
     "output_type": "execute_result"
    }
   ],
   "source": [
    "df = pd.DataFrame(results)\n",
    "df"
   ]
  },
  {
   "cell_type": "code",
   "execution_count": 2,
   "id": "7e9f840b-55fe-41bd-856d-fc69af040454",
   "metadata": {},
   "outputs": [],
   "source": [
    "# import mysql dependency\n",
    "import mysql.connector # cmd/terminal -> pip install \n",
    "import pandas as pd"
   ]
  },
  {
   "cell_type": "code",
   "execution_count": 4,
   "id": "b4f8413f-9d19-41c9-a321-f49b070d7283",
   "metadata": {},
   "outputs": [],
   "source": [
    "# Connect to the MySQL database\n",
    "connection = mysql.connector.connect(\n",
    "    host='localhost',\n",
    "    user='idrees',\n",
    "    password='qwerty12345',\n",
    "    database='idrees_db'\n",
    ")\n",
    "\n",
    "# Create a cursor object\n",
    "cursor = connection.cursor()"
   ]
  },
  {
   "cell_type": "code",
   "execution_count": 34,
   "id": "98597577-dd57-4b97-a5d0-1e77fa9cbfc4",
   "metadata": {},
   "outputs": [],
   "source": [
    "import requests\n",
    "\n",
    "# API endpoint for fetching a random dog image\n",
    "url = \"https://dog.ceo/api/breeds/image/random\""
   ]
  },
  {
   "cell_type": "code",
   "execution_count": 36,
   "id": "185bdfe5-b001-4860-8833-7ba51af7f851",
   "metadata": {},
   "outputs": [],
   "source": [
    "# Make a GET request to fetch data\n",
    "response = requests.get(url)"
   ]
  },
  {
   "cell_type": "code",
   "execution_count": 32,
   "id": "4007c8a1-c2d4-4e98-86cf-871fe457bae5",
   "metadata": {},
   "outputs": [
    {
     "data": {
      "text/plain": [
       "<Response [200]>"
      ]
     },
     "execution_count": 32,
     "metadata": {},
     "output_type": "execute_result"
    }
   ],
   "source": [
    "response"
   ]
  },
  {
   "cell_type": "code",
   "execution_count": 24,
   "id": "7a8b9f57-045e-41f8-8ec8-85b3087ea427",
   "metadata": {},
   "outputs": [
    {
     "data": {
      "text/plain": [
       "200"
      ]
     },
     "execution_count": 24,
     "metadata": {},
     "output_type": "execute_result"
    }
   ],
   "source": [
    "response.status_code # (e.g., 200 for \"OK\", 404 for \"Not Found\")"
   ]
  },
  {
   "cell_type": "code",
   "execution_count": 26,
   "id": "851d3984-95d8-4f38-83ac-6de34dc27a85",
   "metadata": {},
   "outputs": [
    {
     "name": "stdout",
     "output_type": "stream",
     "text": [
      "Here is a random dog image for you:\n",
      "https://images.dog.ceo/breeds/collie-border/n02106166_6659.jpg\n"
     ]
    }
   ],
   "source": [
    "# Check if the request was successful\n",
    "if response.status_code == 200:\n",
    "    data = response.json()  # Parse JSON response\n",
    "    # Extracting the URL of the random dog image\n",
    "    dog_image_url = data['message']\n",
    "    \n",
    "    # Print the dog image URL\n",
    "    print(\"Here is a random dog image for you:\")\n",
    "    print(dog_image_url)\n",
    "else:\n",
    "    print(\"Failed to fetch data.\")"
   ]
  },
  {
   "cell_type": "code",
   "execution_count": 16,
   "id": "3d93eecf-66aa-4338-aa4c-7b67bbb3d9d1",
   "metadata": {},
   "outputs": [
    {
     "data": {
      "text/plain": [
       "{'message': 'https://images.dog.ceo/breeds/retriever-curly/n02099429_2650.jpg',\n",
       " 'status': 'success'}"
      ]
     },
     "execution_count": 16,
     "metadata": {},
     "output_type": "execute_result"
    }
   ],
   "source": [
    "data"
   ]
  },
  {
   "cell_type": "code",
   "execution_count": 38,
   "id": "68c08681-49c8-4822-a9c1-3a732343a19e",
   "metadata": {},
   "outputs": [],
   "source": [
    "import requests as rq\n",
    "\n",
    "url = \"https://google.com\"\n",
    "\n",
    "response = rq.get(url)"
   ]
  },
  {
   "cell_type": "code",
   "execution_count": 42,
   "id": "83244cba-690b-43e8-8e79-4e0128c8eb2c",
   "metadata": {},
   "outputs": [
    {
     "data": {
      "text/html": [
       "<div>\n",
       "<style scoped>\n",
       "    .dataframe tbody tr th:only-of-type {\n",
       "        vertical-align: middle;\n",
       "    }\n",
       "\n",
       "    .dataframe tbody tr th {\n",
       "        vertical-align: top;\n",
       "    }\n",
       "\n",
       "    .dataframe thead th {\n",
       "        text-align: right;\n",
       "    }\n",
       "</style>\n",
       "<table border=\"1\" class=\"dataframe\">\n",
       "  <thead>\n",
       "    <tr style=\"text-align: right;\">\n",
       "      <th></th>\n",
       "      <th>0</th>\n",
       "    </tr>\n",
       "  </thead>\n",
       "  <tbody>\n",
       "    <tr>\n",
       "      <th>0</th>\n",
       "      <td>b'&lt;!doctype html&gt;&lt;html itemscope=\"\" itemtype=\"...</td>\n",
       "    </tr>\n",
       "    <tr>\n",
       "      <th>1</th>\n",
       "      <td>b'8\" http-equiv=\"Content-Type\"&gt;&lt;meta content=\"...</td>\n",
       "    </tr>\n",
       "    <tr>\n",
       "      <th>2</th>\n",
       "      <td>b'e&gt;Google&lt;/title&gt;&lt;script nonce=\"3tRwBb86E_CDk...</td>\n",
       "    </tr>\n",
       "    <tr>\n",
       "      <th>3</th>\n",
       "      <td>b'48528,90133,2872,2891,8349,64701,34266,16243...</td>\n",
       "    </tr>\n",
       "    <tr>\n",
       "      <th>4</th>\n",
       "      <td>b'64,17620,7734,27535,13446,9710,19568,11106,1...</td>\n",
       "    </tr>\n",
       "    <tr>\n",
       "      <th>...</th>\n",
       "      <td>...</td>\n",
       "    </tr>\n",
       "    <tr>\n",
       "      <th>181</th>\n",
       "      <td>b'];!(m=d.next()).done;)B.push(m.value);d=B}E=...</td>\n",
       "    </tr>\n",
       "    <tr>\n",
       "      <th>182</th>\n",
       "      <td>b'gth-1]-E[E.length-4])/1E3&lt;5;if(c){c=google.g...</td>\n",
       "    </tr>\n",
       "    <tr>\n",
       "      <th>183</th>\n",
       "      <td>b'f)||\"\":\"\";f=f||\"\";if(a.hasAttribute(\"jsname\"...</td>\n",
       "    </tr>\n",
       "    <tr>\n",
       "      <th>184</th>\n",
       "      <td>b'etAttribute(\"jsname\")}google.log(\"rcm\",\"&amp;ei=...</td>\n",
       "    </tr>\n",
       "    <tr>\n",
       "      <th>185</th>\n",
       "      <td>b'r(\"DOMContentLoaded\",function(){document.bod...</td>\n",
       "    </tr>\n",
       "  </tbody>\n",
       "</table>\n",
       "<p>186 rows × 1 columns</p>\n",
       "</div>"
      ],
      "text/plain": [
       "                                                     0\n",
       "0    b'<!doctype html><html itemscope=\"\" itemtype=\"...\n",
       "1    b'8\" http-equiv=\"Content-Type\"><meta content=\"...\n",
       "2    b'e>Google</title><script nonce=\"3tRwBb86E_CDk...\n",
       "3    b'48528,90133,2872,2891,8349,64701,34266,16243...\n",
       "4    b'64,17620,7734,27535,13446,9710,19568,11106,1...\n",
       "..                                                 ...\n",
       "181  b'];!(m=d.next()).done;)B.push(m.value);d=B}E=...\n",
       "182  b'gth-1]-E[E.length-4])/1E3<5;if(c){c=google.g...\n",
       "183  b'f)||\"\":\"\";f=f||\"\";if(a.hasAttribute(\"jsname\"...\n",
       "184  b'etAttribute(\"jsname\")}google.log(\"rcm\",\"&ei=...\n",
       "185  b'r(\"DOMContentLoaded\",function(){document.bod...\n",
       "\n",
       "[186 rows x 1 columns]"
      ]
     },
     "execution_count": 42,
     "metadata": {},
     "output_type": "execute_result"
    }
   ],
   "source": [
    "import pandas as pd\n",
    "\n",
    "df = pd.DataFrame(response)\n",
    "df"
   ]
  },
  {
   "cell_type": "code",
   "execution_count": 44,
   "id": "2b284d9b-08e5-4b87-8bb6-1020643ce676",
   "metadata": {},
   "outputs": [],
   "source": [
    "import requests\n",
    "import pandas as pd"
   ]
  },
  {
   "cell_type": "code",
   "execution_count": 46,
   "id": "7b56127a-cb8a-4d88-8848-39122dab54ca",
   "metadata": {},
   "outputs": [],
   "source": [
    "# Your OpenWeatherMap API key\n",
    "api_key = \"154efb44830a0c05dc04eba77d69f205\""
   ]
  },
  {
   "cell_type": "code",
   "execution_count": 89,
   "id": "c3460286-01ad-419b-8886-b51aa329b4d5",
   "metadata": {},
   "outputs": [
    {
     "name": "stdin",
     "output_type": "stream",
     "text": [
      "Which city's weather do you want? Texas\n"
     ]
    }
   ],
   "source": [
    "# Ask user for the city\n",
    "city = input(\"Which city's weather do you want?\")"
   ]
  },
  {
   "cell_type": "code",
   "execution_count": 91,
   "id": "d205b7f1-d9e5-4c9f-9ea4-78cd9cfd298e",
   "metadata": {},
   "outputs": [],
   "source": [
    "# Set the city and API URL\n",
    "#city = \"London\"\n",
    "url = f\"http://api.openweathermap.org/data/2.5/weather?q={city}&appid={api_key}&units=metric\""
   ]
  },
  {
   "cell_type": "markdown",
   "id": "c45792d2-800d-4c97-a352-5c0aef971215",
   "metadata": {},
   "source": [
    "url = f\"http://api.openweathermap.org/data/2.5/weather?q={city}&appid={api_key}&units=metric\""
   ]
  },
  {
   "cell_type": "code",
   "execution_count": 94,
   "id": "6adcec9d-61e8-4a51-827e-d146ffad42f0",
   "metadata": {},
   "outputs": [
    {
     "data": {
      "text/plain": [
       "200"
      ]
     },
     "execution_count": 94,
     "metadata": {},
     "output_type": "execute_result"
    }
   ],
   "source": [
    "# Send a GET request to the API\n",
    "response = requests.get(url)\n",
    "#response.url\n",
    "response.status_code"
   ]
  },
  {
   "cell_type": "code",
   "execution_count": 96,
   "id": "dc5f1c5a-0012-4a52-a68c-fb7a380d7859",
   "metadata": {},
   "outputs": [
    {
     "name": "stdout",
     "output_type": "stream",
     "text": [
      "Extraction successful\n"
     ]
    }
   ],
   "source": [
    "# Check if the request was successful\n",
    "if response.status_code == 200:\n",
    "    # Convert the response to JSON format\n",
    "    data = response.json()\n",
    "\n",
    "    # Extract relevant numerical data\n",
    "    main_data = data['main']\n",
    "    temperature = main_data['temp']\n",
    "    humidity = main_data['humidity']\n",
    "    pressure = main_data['pressure']\n",
    "    print(\"Extraction successful\")\n",
    "else:\n",
    "    print(f\"Failed to retrieve data: {response.status_code}\")"
   ]
  },
  {
   "cell_type": "code",
   "execution_count": 98,
   "id": "94cb4205-1049-4a6a-9ce9-1916ce9e045b",
   "metadata": {},
   "outputs": [
    {
     "name": "stdout",
     "output_type": "stream",
     "text": [
      "City: Texas\n",
      "Temperature: 25.51°C\n",
      "Humidity: 41%\n",
      "Pressure: 1015 hPa\n"
     ]
    }
   ],
   "source": [
    "    # Display the data\n",
    "    print(f\"City: {city}\")\n",
    "    print(f\"Temperature: {temperature}°C\")\n",
    "    print(f\"Humidity: {humidity}%\")\n",
    "    print(f\"Pressure: {pressure} hPa\")"
   ]
  },
  {
   "cell_type": "code",
   "execution_count": 100,
   "id": "694cb4ae-6959-4cbc-acb2-375fb851acfd",
   "metadata": {},
   "outputs": [],
   "source": [
    "    # Create a DataFrame to store the data\n",
    "    weather_df = pd.DataFrame({\n",
    "        \"City\": [city],\n",
    "        \"Temperature (°C)\": [temperature],\n",
    "        \"Humidity (%)\": [humidity],\n",
    "        \"Pressure (hPa)\": [pressure]\n",
    "    })"
   ]
  },
  {
   "cell_type": "code",
   "execution_count": 102,
   "id": "813b0466-94b1-41f4-9bcd-3d2cd2da9d36",
   "metadata": {},
   "outputs": [
    {
     "data": {
      "text/html": [
       "<div>\n",
       "<style scoped>\n",
       "    .dataframe tbody tr th:only-of-type {\n",
       "        vertical-align: middle;\n",
       "    }\n",
       "\n",
       "    .dataframe tbody tr th {\n",
       "        vertical-align: top;\n",
       "    }\n",
       "\n",
       "    .dataframe thead th {\n",
       "        text-align: right;\n",
       "    }\n",
       "</style>\n",
       "<table border=\"1\" class=\"dataframe\">\n",
       "  <thead>\n",
       "    <tr style=\"text-align: right;\">\n",
       "      <th></th>\n",
       "      <th>City</th>\n",
       "      <th>Temperature (°C)</th>\n",
       "      <th>Humidity (%)</th>\n",
       "      <th>Pressure (hPa)</th>\n",
       "    </tr>\n",
       "  </thead>\n",
       "  <tbody>\n",
       "    <tr>\n",
       "      <th>0</th>\n",
       "      <td>Texas</td>\n",
       "      <td>25.51</td>\n",
       "      <td>41</td>\n",
       "      <td>1015</td>\n",
       "    </tr>\n",
       "  </tbody>\n",
       "</table>\n",
       "</div>"
      ],
      "text/plain": [
       "    City  Temperature (°C)  Humidity (%)  Pressure (hPa)\n",
       "0  Texas             25.51            41            1015"
      ]
     },
     "execution_count": 102,
     "metadata": {},
     "output_type": "execute_result"
    }
   ],
   "source": [
    "weather_df"
   ]
  },
  {
   "cell_type": "code",
   "execution_count": 106,
   "id": "bfa0a1d6-a5ec-4369-a786-d27719069496",
   "metadata": {},
   "outputs": [
    {
     "name": "stdout",
     "output_type": "stream",
     "text": [
      "Extraction successful\n"
     ]
    },
    {
     "data": {
      "text/html": [
       "<div>\n",
       "<style scoped>\n",
       "    .dataframe tbody tr th:only-of-type {\n",
       "        vertical-align: middle;\n",
       "    }\n",
       "\n",
       "    .dataframe tbody tr th {\n",
       "        vertical-align: top;\n",
       "    }\n",
       "\n",
       "    .dataframe thead th {\n",
       "        text-align: right;\n",
       "    }\n",
       "</style>\n",
       "<table border=\"1\" class=\"dataframe\">\n",
       "  <thead>\n",
       "    <tr style=\"text-align: right;\">\n",
       "      <th></th>\n",
       "      <th>City</th>\n",
       "      <th>Temperature (°C)</th>\n",
       "      <th>Humidity (%)</th>\n",
       "      <th>Pressure (hPa)</th>\n",
       "    </tr>\n",
       "  </thead>\n",
       "  <tbody>\n",
       "    <tr>\n",
       "      <th>0</th>\n",
       "      <td>London</td>\n",
       "      <td>25.51</td>\n",
       "      <td>41</td>\n",
       "      <td>1015</td>\n",
       "    </tr>\n",
       "  </tbody>\n",
       "</table>\n",
       "</div>"
      ],
      "text/plain": [
       "     City  Temperature (°C)  Humidity (%)  Pressure (hPa)\n",
       "0  London             25.51            41            1015"
      ]
     },
     "execution_count": 106,
     "metadata": {},
     "output_type": "execute_result"
    }
   ],
   "source": [
    "import requests\n",
    "import pandas as pd\n",
    "\n",
    "# Your OpenWeatherMap API key\n",
    "api_key = \"154efb44830a0c05dc04eba77d69f205\"\n",
    "\n",
    "# Set the city and API URL\n",
    "city = \"London\"\n",
    "url = f\"http://api.openweathermap.org/data/2.5/weather?q={city}&appid={api_key}&units=metric\"\n",
    "\n",
    "# Check if the request was successful\n",
    "if response.status_code == 200:\n",
    "    # Convert the response to JSON format\n",
    "    data = response.json()\n",
    "\n",
    "    # Extract relevant numerical data\n",
    "    main_data = data['main']\n",
    "    temperature = main_data['temp']\n",
    "    humidity = main_data['humidity']\n",
    "    pressure = main_data['pressure']\n",
    "    print(\"Extraction successful\")\n",
    "else:\n",
    "    print(f\"Failed to retrieve data: {response.status_code}\")\n",
    "\n",
    "# Create a DataFrame to store the data\n",
    "weather_df = pd.DataFrame({\n",
    "    \"City\": [city],\n",
    "    \"Temperature (°C)\": [temperature],\n",
    "    \"Humidity (%)\": [humidity],\n",
    "    \"Pressure (hPa)\": [pressure]\n",
    "})\n",
    "\n",
    "weather_df"
   ]
  },
  {
   "cell_type": "code",
   "execution_count": 112,
   "id": "2da3f99f-6547-4b61-98dd-dffec556833b",
   "metadata": {},
   "outputs": [],
   "source": [
    "html_doc = \"\"\"<!DOCTYPE html>\n",
    "<html lang=\"en\">\n",
    "<head>\n",
    "    <meta charset=\"UTF-8\">\n",
    "    <meta name=\"viewport\" content=\"width=device-width, initial-scale=1.0\">\n",
    "    <title>Sample Books Data</title>\n",
    "    <style>\n",
    "        body {\n",
    "            font-family: Arial, sans-serif;\n",
    "            margin: 20px;\n",
    "            background-color: #f8f8f8;\n",
    "        }\n",
    "        h1 {\n",
    "            text-align: center;\n",
    "            color: #333;\n",
    "        }\n",
    "        .book {\n",
    "            border: 1px solid #ccc;\n",
    "            padding: 15px;\n",
    "            margin: 10px;\n",
    "            border-radius: 5px;\n",
    "            background-color: #fff;\n",
    "        }\n",
    "        .title {\n",
    "            font-size: 1.5em;\n",
    "            color: #0056b3;\n",
    "        }\n",
    "        .author {\n",
    "            font-style: italic;\n",
    "            color: #555;\n",
    "        }\n",
    "        .price {\n",
    "            color: #d9534f;\n",
    "            font-weight: bold;\n",
    "        }\n",
    "        .description {\n",
    "            margin-top: 10px;\n",
    "        }\n",
    "        a {\n",
    "            color: #007bff;\n",
    "            text-decoration: none;\n",
    "        }\n",
    "        a:hover {\n",
    "            text-decoration: underline;\n",
    "        }\n",
    "    </style>\n",
    "</head>\n",
    "<body>\n",
    "    <h1>Books List</h1>\n",
    "    <div class=\"book\">\n",
    "        <p class=\"title\">\n",
    "            <b>The Great Gatsby</b>\n",
    "        </p>\n",
    "        <p class=\"author\">Author: F. Scott Fitzgerald</p>\n",
    "        <p class=\"price\">Price: $10.99</p>\n",
    "        <p class=\"publication-year\">Publication Year: 1925</p>\n",
    "        <p class=\"genre\">Genre: Fiction</p>\n",
    "        <p class=\"description\">\n",
    "            A novel about the American dream, set in the 1920s on Long Island.\n",
    "        </p>\n",
    "        <p>More Info: <a class=\"info-link\" href=\"http://example.com/gatsby\" id=\"link1\">Learn More</a></p>\n",
    "    </div>\n",
    "    <div class=\"book\">\n",
    "        <p class=\"title\">\n",
    "            <b>1984</b>\n",
    "        </p>\n",
    "        <p class=\"author\">Author: George Orwell</p>\n",
    "        <p class=\"price\">Price: $8.99</p>\n",
    "        <p class=\"publication-year\">Publication Year: 1949</p>\n",
    "        <p class=\"genre\">Genre: Dystopian</p>\n",
    "        <p class=\"description\">\n",
    "            A story about a totalitarian regime that uses surveillance and propaganda to control its citizens.\n",
    "        </p>\n",
    "        <p>More Info: <a class=\"info-link\" href=\"http://example.com/1984\" id=\"link2\">Learn More</a></p>\n",
    "    </div>\n",
    "    <div class=\"book\">\n",
    "        <p class=\"title\">\n",
    "            <b>To Kill a Mockingbird</b>\n",
    "        </p>\n",
    "        <p class=\"author\">Author: Harper Lee</p>\n",
    "        <p class=\"price\">Price: $7.99</p>\n",
    "        <p class=\"publication-year\">Publication Year: 1960</p>\n",
    "        <p class=\"genre\">Genre: Fiction</p>\n",
    "        <p class=\"description\">\n",
    "            A novel set in the Great Depression that addresses serious issues of race and injustice.\n",
    "        </p>\n",
    "        <p>More Info: <a class=\"info-link\" href=\"http://example.com/mockingbird\" id=\"link3\">Learn More</a></p>\n",
    "    </div>\n",
    "</body>\n",
    "</html>\n",
    "\"\"\""
   ]
  },
  {
   "cell_type": "code",
   "execution_count": 114,
   "id": "5c236967-7e52-4a3a-8e53-d2b691753188",
   "metadata": {},
   "outputs": [
    {
     "name": "stdout",
     "output_type": "stream",
     "text": [
      "<!DOCTYPE html>\n",
      "<html lang=\"en\">\n",
      "<head>\n",
      "    <meta charset=\"UTF-8\">\n",
      "    <meta name=\"viewport\" content=\"width=device-width, initial-scale=1.0\">\n",
      "    <title>Sample Books Data</title>\n",
      "    <style>\n",
      "        body {\n",
      "            font-family: Arial, sans-serif;\n",
      "            margin: 20px;\n",
      "            background-color: #f8f8f8;\n",
      "        }\n",
      "        h1 {\n",
      "            text-align: center;\n",
      "            color: #333;\n",
      "        }\n",
      "        .book {\n",
      "            border: 1px solid #ccc;\n",
      "            padding: 15px;\n",
      "            margin: 10px;\n",
      "            border-radius: 5px;\n",
      "            background-color: #fff;\n",
      "        }\n",
      "        .title {\n",
      "            font-size: 1.5em;\n",
      "            color: #0056b3;\n",
      "        }\n",
      "        .author {\n",
      "            font-style: italic;\n",
      "            color: #555;\n",
      "        }\n",
      "        .price {\n",
      "            color: #d9534f;\n",
      "            font-weight: bold;\n",
      "        }\n",
      "        .description {\n",
      "            margin-top: 10px;\n",
      "        }\n",
      "        a {\n",
      "            color: #007bff;\n",
      "            text-decoration: none;\n",
      "        }\n",
      "        a:hover {\n",
      "            text-decoration: underline;\n",
      "        }\n",
      "    </style>\n",
      "</head>\n",
      "<body>\n",
      "    <h1>Books List</h1>\n",
      "    <div class=\"book\">\n",
      "        <p class=\"title\">\n",
      "            <b>The Great Gatsby</b>\n",
      "        </p>\n",
      "        <p class=\"author\">Author: F. Scott Fitzgerald</p>\n",
      "        <p class=\"price\">Price: $10.99</p>\n",
      "        <p class=\"publication-year\">Publication Year: 1925</p>\n",
      "        <p class=\"genre\">Genre: Fiction</p>\n",
      "        <p class=\"description\">\n",
      "            A novel about the American dream, set in the 1920s on Long Island.\n",
      "        </p>\n",
      "        <p>More Info: <a class=\"info-link\" href=\"http://example.com/gatsby\" id=\"link1\">Learn More</a></p>\n",
      "    </div>\n",
      "    <div class=\"book\">\n",
      "        <p class=\"title\">\n",
      "            <b>1984</b>\n",
      "        </p>\n",
      "        <p class=\"author\">Author: George Orwell</p>\n",
      "        <p class=\"price\">Price: $8.99</p>\n",
      "        <p class=\"publication-year\">Publication Year: 1949</p>\n",
      "        <p class=\"genre\">Genre: Dystopian</p>\n",
      "        <p class=\"description\">\n",
      "            A story about a totalitarian regime that uses surveillance and propaganda to control its citizens.\n",
      "        </p>\n",
      "        <p>More Info: <a class=\"info-link\" href=\"http://example.com/1984\" id=\"link2\">Learn More</a></p>\n",
      "    </div>\n",
      "    <div class=\"book\">\n",
      "        <p class=\"title\">\n",
      "            <b>To Kill a Mockingbird</b>\n",
      "        </p>\n",
      "        <p class=\"author\">Author: Harper Lee</p>\n",
      "        <p class=\"price\">Price: $7.99</p>\n",
      "        <p class=\"publication-year\">Publication Year: 1960</p>\n",
      "        <p class=\"genre\">Genre: Fiction</p>\n",
      "        <p class=\"description\">\n",
      "            A novel set in the Great Depression that addresses serious issues of race and injustice.\n",
      "        </p>\n",
      "        <p>More Info: <a class=\"info-link\" href=\"http://example.com/mockingbird\" id=\"link3\">Learn More</a></p>\n",
      "    </div>\n",
      "</body>\n",
      "</html>\n",
      "\n"
     ]
    }
   ],
   "source": [
    "print(html_doc)"
   ]
  },
  {
   "cell_type": "code",
   "execution_count": 118,
   "id": "a115ea11-40a8-4cfe-a461-8c8f77338581",
   "metadata": {},
   "outputs": [],
   "source": [
    "# Import necessary libraries\n",
    "from bs4 import BeautifulSoup as bs\n",
    "import pandas as pd"
   ]
  },
  {
   "cell_type": "code",
   "execution_count": 120,
   "id": "d751e2f8-ea11-47bb-a1cb-c91f375908fe",
   "metadata": {},
   "outputs": [],
   "source": [
    "# Parse the HTML content with Beautiful Soup\n",
    "soup = bs(html_doc, 'html.parser')"
   ]
  },
  {
   "cell_type": "code",
   "execution_count": 122,
   "id": "028f4387-ae0e-4ccf-af48-fd82b0ec759b",
   "metadata": {},
   "outputs": [
    {
     "data": {
      "text/plain": [
       "<!DOCTYPE html>\n",
       "\n",
       "<html lang=\"en\">\n",
       "<head>\n",
       "<meta charset=\"utf-8\"/>\n",
       "<meta content=\"width=device-width, initial-scale=1.0\" name=\"viewport\"/>\n",
       "<title>Sample Books Data</title>\n",
       "<style>\n",
       "        body {\n",
       "            font-family: Arial, sans-serif;\n",
       "            margin: 20px;\n",
       "            background-color: #f8f8f8;\n",
       "        }\n",
       "        h1 {\n",
       "            text-align: center;\n",
       "            color: #333;\n",
       "        }\n",
       "        .book {\n",
       "            border: 1px solid #ccc;\n",
       "            padding: 15px;\n",
       "            margin: 10px;\n",
       "            border-radius: 5px;\n",
       "            background-color: #fff;\n",
       "        }\n",
       "        .title {\n",
       "            font-size: 1.5em;\n",
       "            color: #0056b3;\n",
       "        }\n",
       "        .author {\n",
       "            font-style: italic;\n",
       "            color: #555;\n",
       "        }\n",
       "        .price {\n",
       "            color: #d9534f;\n",
       "            font-weight: bold;\n",
       "        }\n",
       "        .description {\n",
       "            margin-top: 10px;\n",
       "        }\n",
       "        a {\n",
       "            color: #007bff;\n",
       "            text-decoration: none;\n",
       "        }\n",
       "        a:hover {\n",
       "            text-decoration: underline;\n",
       "        }\n",
       "    </style>\n",
       "</head>\n",
       "<body>\n",
       "<h1>Books List</h1>\n",
       "<div class=\"book\">\n",
       "<p class=\"title\">\n",
       "<b>The Great Gatsby</b>\n",
       "</p>\n",
       "<p class=\"author\">Author: F. Scott Fitzgerald</p>\n",
       "<p class=\"price\">Price: $10.99</p>\n",
       "<p class=\"publication-year\">Publication Year: 1925</p>\n",
       "<p class=\"genre\">Genre: Fiction</p>\n",
       "<p class=\"description\">\n",
       "            A novel about the American dream, set in the 1920s on Long Island.\n",
       "        </p>\n",
       "<p>More Info: <a class=\"info-link\" href=\"http://example.com/gatsby\" id=\"link1\">Learn More</a></p>\n",
       "</div>\n",
       "<div class=\"book\">\n",
       "<p class=\"title\">\n",
       "<b>1984</b>\n",
       "</p>\n",
       "<p class=\"author\">Author: George Orwell</p>\n",
       "<p class=\"price\">Price: $8.99</p>\n",
       "<p class=\"publication-year\">Publication Year: 1949</p>\n",
       "<p class=\"genre\">Genre: Dystopian</p>\n",
       "<p class=\"description\">\n",
       "            A story about a totalitarian regime that uses surveillance and propaganda to control its citizens.\n",
       "        </p>\n",
       "<p>More Info: <a class=\"info-link\" href=\"http://example.com/1984\" id=\"link2\">Learn More</a></p>\n",
       "</div>\n",
       "<div class=\"book\">\n",
       "<p class=\"title\">\n",
       "<b>To Kill a Mockingbird</b>\n",
       "</p>\n",
       "<p class=\"author\">Author: Harper Lee</p>\n",
       "<p class=\"price\">Price: $7.99</p>\n",
       "<p class=\"publication-year\">Publication Year: 1960</p>\n",
       "<p class=\"genre\">Genre: Fiction</p>\n",
       "<p class=\"description\">\n",
       "            A novel set in the Great Depression that addresses serious issues of race and injustice.\n",
       "        </p>\n",
       "<p>More Info: <a class=\"info-link\" href=\"http://example.com/mockingbird\" id=\"link3\">Learn More</a></p>\n",
       "</div>\n",
       "</body>\n",
       "</html>"
      ]
     },
     "execution_count": 122,
     "metadata": {},
     "output_type": "execute_result"
    }
   ],
   "source": []
  },
  {
   "cell_type": "code",
   "execution_count": 124,
   "id": "e4dbcf45-2983-442c-8de1-09431be77919",
   "metadata": {},
   "outputs": [],
   "source": [
    "with open('../../webfile.html', 'r', encoding='utf-8') as file:\n",
    "    html_content = file.read()\n",
    "    \n",
    "# Parse the HTML content with Beautiful Soup\n",
    "soup = BeautifulSoup(html_content, 'html.parser')"
   ]
  },
  {
   "cell_type": "code",
   "execution_count": 136,
   "id": "c669f679-21dd-4f6a-9e45-d15d5f9edfe2",
   "metadata": {},
   "outputs": [
    {
     "data": {
      "text/plain": [
       "'<!DOCTYPE html>\\n<html lang=\"en\">\\n <head>\\n  <meta charset=\"utf-8\"/>\\n  <meta content=\"width=device-width, initial-scale=1.0\" name=\"viewport\"/>\\n  <title>\\n   Sample Books Data\\n  </title>\\n  <style>\\n   body {\\n            font-family: Arial, sans-serif;\\n            margin: 20px;\\n            background-color: #f8f8f8;\\n        }\\n        h1 {\\n            text-align: center;\\n            color: #333;\\n        }\\n        .book {\\n            border: 1px solid #ccc;\\n            padding: 15px;\\n            margin: 10px;\\n            border-radius: 5px;\\n            background-color: #fff;\\n        }\\n        .title {\\n            font-size: 1.5em;\\n            color: #0056b3;\\n        }\\n        .author {\\n            '"
      ]
     },
     "execution_count": 136,
     "metadata": {},
     "output_type": "execute_result"
    }
   ],
   "source": [
    "soup.prettify()[:700]"
   ]
  },
  {
   "cell_type": "code",
   "execution_count": 138,
   "id": "11304f4f-699d-4d90-9139-c4642f3f2dff",
   "metadata": {},
   "outputs": [],
   "source": [
    "# Find all book entries\n",
    "books = soup.find_all('div', class_='book')"
   ]
  },
  {
   "cell_type": "code",
   "execution_count": 142,
   "id": "33fd93b2-cff8-420c-b951-330cd6a5026a",
   "metadata": {},
   "outputs": [
    {
     "name": "stdout",
     "output_type": "stream",
     "text": [
      "Number of books found: 3\n"
     ]
    }
   ],
   "source": [
    "# Print the number of books found\n",
    "print(f\"Number of books found: {len(books)}\")"
   ]
  },
  {
   "cell_type": "code",
   "execution_count": 146,
   "id": "975b8643-fb75-4ed3-8da3-7bb41d745e64",
   "metadata": {},
   "outputs": [],
   "source": [
    "# Initialize an empty list to hold book data\n",
    "book_data = []"
   ]
  },
  {
   "cell_type": "code",
   "execution_count": 148,
   "id": "832cab17-7fed-4697-a288-ef35479e9639",
   "metadata": {},
   "outputs": [],
   "source": [
    "# Loop through each book and extract details\n",
    "for book in books:\n",
    "    title = book.find('p', class_='title').get_text(strip=True)\n",
    "    author = book.find('p', class_='author').get_text(strip=True)\n",
    "    price = book.find('p', class_='price').get_text(strip=True)\n",
    "    publication_year = book.find('p', class_='publication-year').get_text(strip=True)\n",
    "    genre = book.find('p', class_='genre').get_text(strip=True)\n",
    "    description = book.find('p', class_='description').get_text(strip=True)\n",
    "\n",
    "    # Append the extracted data to the list\n",
    "    book_data.append({\n",
    "        'Title': title,\n",
    "        'Author': author,\n",
    "        'Price': price,\n",
    "        'Publication Year': publication_year,\n",
    "        'Genre': genre,\n",
    "        'Description': description\n",
    "    })"
   ]
  },
  {
   "cell_type": "code",
   "execution_count": 150,
   "id": "97857577-c884-4134-8574-06ebe2df7af5",
   "metadata": {},
   "outputs": [
    {
     "data": {
      "text/plain": [
       "[{'Title': 'The Great Gatsby',\n",
       "  'Author': 'Author: F. Scott Fitzgerald',\n",
       "  'Price': 'Price: $10.99',\n",
       "  'Publication Year': 'Publication Year: 1925',\n",
       "  'Genre': 'Genre: Fiction',\n",
       "  'Description': 'A novel about the American dream, set in the 1920s on Long Island.'},\n",
       " {'Title': '1984',\n",
       "  'Author': 'Author: George Orwell',\n",
       "  'Price': 'Price: $8.99',\n",
       "  'Publication Year': 'Publication Year: 1949',\n",
       "  'Genre': 'Genre: Dystopian',\n",
       "  'Description': 'A story about a totalitarian regime that uses surveillance and propaganda to control its citizens.'},\n",
       " {'Title': 'To Kill a Mockingbird',\n",
       "  'Author': 'Author: Harper Lee',\n",
       "  'Price': 'Price: $7.99',\n",
       "  'Publication Year': 'Publication Year: 1960',\n",
       "  'Genre': 'Genre: Fiction',\n",
       "  'Description': 'A novel set in the Great Depression that addresses serious issues of race and injustice.'}]"
      ]
     },
     "execution_count": 150,
     "metadata": {},
     "output_type": "execute_result"
    }
   ],
   "source": [
    "book_data"
   ]
  },
  {
   "cell_type": "code",
   "execution_count": 152,
   "id": "32c349ef-927a-456a-afad-69bb6b73eb68",
   "metadata": {},
   "outputs": [
    {
     "data": {
      "text/html": [
       "<div>\n",
       "<style scoped>\n",
       "    .dataframe tbody tr th:only-of-type {\n",
       "        vertical-align: middle;\n",
       "    }\n",
       "\n",
       "    .dataframe tbody tr th {\n",
       "        vertical-align: top;\n",
       "    }\n",
       "\n",
       "    .dataframe thead th {\n",
       "        text-align: right;\n",
       "    }\n",
       "</style>\n",
       "<table border=\"1\" class=\"dataframe\">\n",
       "  <thead>\n",
       "    <tr style=\"text-align: right;\">\n",
       "      <th></th>\n",
       "      <th>Title</th>\n",
       "      <th>Author</th>\n",
       "      <th>Price</th>\n",
       "      <th>Publication Year</th>\n",
       "      <th>Genre</th>\n",
       "      <th>Description</th>\n",
       "    </tr>\n",
       "  </thead>\n",
       "  <tbody>\n",
       "    <tr>\n",
       "      <th>0</th>\n",
       "      <td>The Great Gatsby</td>\n",
       "      <td>Author: F. Scott Fitzgerald</td>\n",
       "      <td>Price: $10.99</td>\n",
       "      <td>Publication Year: 1925</td>\n",
       "      <td>Genre: Fiction</td>\n",
       "      <td>A novel about the American dream, set in the 1...</td>\n",
       "    </tr>\n",
       "    <tr>\n",
       "      <th>1</th>\n",
       "      <td>1984</td>\n",
       "      <td>Author: George Orwell</td>\n",
       "      <td>Price: $8.99</td>\n",
       "      <td>Publication Year: 1949</td>\n",
       "      <td>Genre: Dystopian</td>\n",
       "      <td>A story about a totalitarian regime that uses ...</td>\n",
       "    </tr>\n",
       "    <tr>\n",
       "      <th>2</th>\n",
       "      <td>To Kill a Mockingbird</td>\n",
       "      <td>Author: Harper Lee</td>\n",
       "      <td>Price: $7.99</td>\n",
       "      <td>Publication Year: 1960</td>\n",
       "      <td>Genre: Fiction</td>\n",
       "      <td>A novel set in the Great Depression that addre...</td>\n",
       "    </tr>\n",
       "  </tbody>\n",
       "</table>\n",
       "</div>"
      ],
      "text/plain": [
       "                   Title                       Author          Price  \\\n",
       "0       The Great Gatsby  Author: F. Scott Fitzgerald  Price: $10.99   \n",
       "1                   1984        Author: George Orwell   Price: $8.99   \n",
       "2  To Kill a Mockingbird           Author: Harper Lee   Price: $7.99   \n",
       "\n",
       "         Publication Year             Genre  \\\n",
       "0  Publication Year: 1925    Genre: Fiction   \n",
       "1  Publication Year: 1949  Genre: Dystopian   \n",
       "2  Publication Year: 1960    Genre: Fiction   \n",
       "\n",
       "                                         Description  \n",
       "0  A novel about the American dream, set in the 1...  \n",
       "1  A story about a totalitarian regime that uses ...  \n",
       "2  A novel set in the Great Depression that addre...  "
      ]
     },
     "execution_count": 152,
     "metadata": {},
     "output_type": "execute_result"
    }
   ],
   "source": [
    "# Create a DataFrame from the extracted book data\n",
    "df = pd.DataFrame(book_data)\n",
    "\n",
    "# Display the DataFrame\n",
    "df"
   ]
  },
  {
   "cell_type": "code",
   "execution_count": 154,
   "id": "9906d109-ca1b-4811-a943-49180317e856",
   "metadata": {},
   "outputs": [
    {
     "data": {
      "text/plain": [
       "<title>Sample Books Data</title>"
      ]
     },
     "execution_count": 154,
     "metadata": {},
     "output_type": "execute_result"
    }
   ],
   "source": [
    "soup.title"
   ]
  },
  {
   "cell_type": "code",
   "execution_count": null,
   "id": "58f3e9e8-8421-4b42-8c13-98f9b7251a64",
   "metadata": {},
   "outputs": [],
   "source": []
  }
 ],
 "metadata": {
  "kernelspec": {
   "display_name": "Python 3 (ipykernel)",
   "language": "python",
   "name": "python3"
  },
  "language_info": {
   "codemirror_mode": {
    "name": "ipython",
    "version": 3
   },
   "file_extension": ".py",
   "mimetype": "text/x-python",
   "name": "python",
   "nbconvert_exporter": "python",
   "pygments_lexer": "ipython3",
   "version": "3.12.4"
  }
 },
 "nbformat": 4,
 "nbformat_minor": 5
}
