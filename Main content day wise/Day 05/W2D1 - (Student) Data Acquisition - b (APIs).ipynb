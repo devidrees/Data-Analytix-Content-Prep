{
 "cells": [
  {
   "cell_type": "markdown",
   "id": "9edd9b9c-9afd-4e01-aa1a-d4697b8d8c55",
   "metadata": {},
   "source": [
    "<!--- Mohammad Idrees Bhat | Tech Skills Trainer | AI/ML Consultant --->"
   ]
  },
  {
   "cell_type": "markdown",
   "id": "8c4bc666-34a1-47b6-8018-1ad79dafae95",
   "metadata": {},
   "source": [
    "<div style=\"background-color: #add8e6; padding: 10px; height: 70px; border-radius: 15px;\">\n",
    "    <div style=\"font-family: 'Georgia', serif; font-size: 20px; padding: 10px; text-align: right; position: absolute; right: 20px;\">\n",
    "        Mohammad Idrees Bhat<br>\n",
    "        <span style=\"font-family: 'Arial', sans-serif;font-size: 12px; color: #0a0a0a;\">Tech Skills Trainer | AI/ML Consultant</span>\n",
    "    </div>\n",
    "</div>"
   ]
  },
  {
   "cell_type": "markdown",
   "id": "151ad3d8-0bce-4e29-86da-5ea91b5a69df",
   "metadata": {},
   "source": [
    "<h2 style=\"background-color: #002147; padding: 20px; text-align: center; color: white; font-size: 32px; font-family: 'Arial', sans-serif;\">\n",
    "    Data Acquisition: Understanding data sources, using SQL and APIs\n",
    "</h2>\n"
   ]
  },
  {
   "cell_type": "markdown",
   "id": "19e9ec83-cf6b-4000-aa3b-4b2194c2bbf1",
   "metadata": {},
   "source": [
    "<div style=\"background-color: lightgreen; color: black; padding: 10px;\">\n",
    "    <h3> Week 2 - Day 1 (APIs)\n",
    "</h1> </div>"
   ]
  },
  {
   "cell_type": "markdown",
   "id": "155e8ec7-547b-41f4-b6f6-6e6e719c198c",
   "metadata": {},
   "source": [
    "<div style=\"background-color: grey; color: black;\">\n",
    "    <h4><b>AGENDA</b><p><p>\n",
    "3. Using APIs for Data Acquisition <br><br>\n",
    "4. Create a small script to gather weather data\n",
    "</h4> </div>"
   ]
  },
  {
   "cell_type": "markdown",
   "id": "53ec8637",
   "metadata": {},
   "source": [
    "<!-- Now, use the font inside your div -->\n",
    "<div style=\"background-color: #baf733; padding: 40px; border-radius: 15px; font-family: 'Montserrat', sans-serif; font-weight: 700; font-size: 20px;\">\n",
    "    If you were a superhero, what would your superpower be?<br>\n",
    "</div>"
   ]
  },
  {
   "cell_type": "markdown",
   "id": "10a27b2a-0370-43aa-b972-7cc31b88203d",
   "metadata": {},
   "source": [
    "<div style=\"background-color: lightblue; color: black; padding: 4px;\">\n",
    "    <h4> What is an API?\n",
    "</h4> </div>"
   ]
  },
  {
   "cell_type": "markdown",
   "id": "1bd7bf3d-ea0e-4959-8448-ac666514452f",
   "metadata": {},
   "source": [
    "\n",
    "An **API (Application Programming Interface)** is a set of rules and protocols that allows one piece of software to interact with another. It defines methods and data formats that applications can use to communicate with external services.\n",
    "\n",
    "APIs are commonly used to retrieve or send data between different systems. For example, a weather application on your phone can use an API to get real-time weather updates from a server.\n",
    "\n",
    "- **Key Points:**\n",
    "  - APIs allow different systems to communicate and share data.\n",
    "  - APIs can be used to automate data retrieval and integration into an analysis pipeline.\n",
    "  - Most APIs work over the internet using protocols like HTTP.\n",
    "\n",
    "#### Simple Analogy:\n",
    "Think of an API as a **waiter in a restaurant**. When you visit a restaurant, you don't go into the kitchen and cook your own food. Instead, you tell the waiter what you want, and they take your request to the kitchen. The kitchen prepares your food and the waiter brings it back to you. \n",
    "\n",
    "In this analogy:\n",
    "- **You** are the software making a request.\n",
    "- **The waiter** is the API.\n",
    "- **The kitchen** is the server or external system providing data.\n",
    "- **The food** is thee, humidity, and forecast.\n"
   ]
  },
  {
   "cell_type": "markdown",
   "id": "b4977be6-7076-42c5-8dbf-3fc59fc11e92",
   "metadata": {},
   "source": [
    "#### Example of a Real-World API:\n",
    "\n",
    "Let’s say you want to get current weather data for your location. You can use a weather service API like **OpenWeatherMap** to get this information. You send a request with your location (just like ordering food), and the API sends back the weather data for that location (like receiving your meal).\n",
    "\n",
    "Here’s what happens in the background:\n",
    "1. You send a request to the weather API with your location.\n",
    "2. The API communicates with a weather database.\n",
    "3. The API sends back data (in JSON format) with details like temperature, humidity, and forecast."
   ]
  },
  {
   "cell_type": "markdown",
   "id": "bee168bc-e106-441a-a4f3-1d803663933c",
   "metadata": {},
   "source": [
    "<div style=\"background-color: lightblue; color: black; padding: 4px;\">\n",
    "    <h4> Activity 1 - Dog CEO’s Dog API\n",
    "</h4> </div>"
   ]
  },
  {
   "cell_type": "markdown",
   "id": "82194bd4-7d0e-452c-8cdd-5b0d48e4c719",
   "metadata": {},
   "source": [
    "To make things easy, let's start with a fun API that gives us random pictures of dogs! This will help us understand how APIs work without the need for complex setup.\n",
    "\n",
    "#### Steps:\n",
    "1. Use Python’s `requests` library to make an HTTP GET request.\n",
    "2. Retrieve a JSON response from the **Dog CEO’s Dog API**.\n",
    "3. Extract and print the URL of the dog image from the response."
   ]
  },
  {
   "cell_type": "code",
   "execution_count": null,
   "id": "025aac65-7e08-4f3d-a41e-7855814d2d13",
   "metadata": {},
   "outputs": [],
   "source": [
    "### Code Example: Fetching a Random Dog Image\n",
    "# First, install the requests library if you don't have it installed:\n",
    "# !pip install requests"
   ]
  },
  {
   "cell_type": "code",
   "execution_count": 154,
   "id": "999392f3-a7be-409b-826b-947cf98d2910",
   "metadata": {},
   "outputs": [],
   "source": [
    "import requests\n",
    "\n",
    "# API endpoint for fetching a random dog image\n",
    "url = \"https://dog.ceo/api/breeds/image/random\""
   ]
  },
  {
   "cell_type": "code",
   "execution_count": 156,
   "id": "b7b1d6cd-aed8-4486-9ad2-3ba0d101d763",
   "metadata": {},
   "outputs": [],
   "source": [
    "# Make a GET request to fetch data\n",
    "response = requests.get(url)"
   ]
  },
  {
   "cell_type": "markdown",
   "id": "d5892765-3238-4517-b822-e28ea9083d13",
   "metadata": {},
   "source": [
    "The requests library uses the Response class to handle the response data from the server.\n",
    "- Common HTTP Status Codes:\n",
    "    - 200: OK – The request was successful.\n",
    "    - 404: Not Found – The server could not find the requested page or resource.\n",
    "    - 500: Internal Server Error – There was an error on the server while processing the request."
   ]
  },
  {
   "cell_type": "code",
   "execution_count": 158,
   "id": "361bf987-8d88-4f3f-aa3c-070b76c9293c",
   "metadata": {},
   "outputs": [
    {
     "data": {
      "text/plain": [
       "200"
      ]
     },
     "execution_count": 158,
     "metadata": {},
     "output_type": "execute_result"
    }
   ],
   "source": [
    "response.status_code # (e.g., 200 for \"OK\", 404 for \"Not Found\")"
   ]
  },
  {
   "cell_type": "code",
   "execution_count": 160,
   "id": "4fc4fc12-98fd-4107-ba0f-12c88d8580c2",
   "metadata": {},
   "outputs": [
    {
     "name": "stdout",
     "output_type": "stream",
     "text": [
      "Here is a random dog image for you:\n",
      "https://images.dog.ceo/breeds/terrier-russell/iguet4.jpg\n"
     ]
    }
   ],
   "source": [
    "# Check if the request was successful\n",
    "if response.status_code == 200:\n",
    "    data = response.json()  # Parse JSON response\n",
    "    # Extracting the URL of the random dog image\n",
    "    dog_image_url = data['message']\n",
    "    \n",
    "    # Print the dog image URL\n",
    "    print(\"Here is a random dog image for you:\")\n",
    "    print(dog_image_url)\n",
    "else:\n",
    "    print(\"Failed to fetch data.\")"
   ]
  },
  {
   "cell_type": "markdown",
   "id": "f9d4ebea-1a9c-4b0e-b682-b20ad20d0695",
   "metadata": {},
   "source": [
    "<div style=\"background-color: lightblue; color: black; padding: 4px;\">\n",
    "    <h4> Activity 2 - Use the same steps over a random webpage\n",
    "</h4> </div>"
   ]
  },
  {
   "cell_type": "code",
   "execution_count": 174,
   "id": "d7f5b71e-6b33-45ba-964e-4419eddff18a",
   "metadata": {},
   "outputs": [],
   "source": [
    "import requests\n",
    "\n",
    "# A simple website URL\n",
    "url = \"https://google.com\""
   ]
  },
  {
   "cell_type": "code",
   "execution_count": 176,
   "id": "7f56917d-dd7a-45d4-a030-0b88576116f1",
   "metadata": {},
   "outputs": [],
   "source": [
    "# Make an HTTP GET request to fetch the webpage\n",
    "response = requests.get(url) # Returns an object of type Response."
   ]
  },
  {
   "cell_type": "code",
   "execution_count": 162,
   "id": "25fc90e2-ba0e-4bc0-b604-170bc1eafca2",
   "metadata": {},
   "outputs": [
    {
     "data": {
      "text/plain": [
       "<Response [200]>"
      ]
     },
     "execution_count": 162,
     "metadata": {},
     "output_type": "execute_result"
    }
   ],
   "source": [
    "# Print the raw HTML content of the page\n",
    "response\n",
    "#response.status_code # (e.g., 200 for \"OK\", 404 for \"Not Found\")\n",
    "#response.text # The HTML as a string\n",
    "#response.url # Example: https://example.com"
   ]
  },
  {
   "cell_type": "code",
   "execution_count": 178,
   "id": "f6531c8d-696f-4aa2-8dd5-81874a97f6b5",
   "metadata": {},
   "outputs": [
    {
     "data": {
      "text/html": [
       "<div>\n",
       "<style scoped>\n",
       "    .dataframe tbody tr th:only-of-type {\n",
       "        vertical-align: middle;\n",
       "    }\n",
       "\n",
       "    .dataframe tbody tr th {\n",
       "        vertical-align: top;\n",
       "    }\n",
       "\n",
       "    .dataframe thead th {\n",
       "        text-align: right;\n",
       "    }\n",
       "</style>\n",
       "<table border=\"1\" class=\"dataframe\">\n",
       "  <thead>\n",
       "    <tr style=\"text-align: right;\">\n",
       "      <th></th>\n",
       "      <th>0</th>\n",
       "    </tr>\n",
       "  </thead>\n",
       "  <tbody>\n",
       "    <tr>\n",
       "      <th>0</th>\n",
       "      <td>b'&lt;!doctype html&gt;&lt;html itemscope=\"\" itemtype=\"...</td>\n",
       "    </tr>\n",
       "    <tr>\n",
       "      <th>1</th>\n",
       "      <td>b'8\" http-equiv=\"Content-Type\"&gt;&lt;meta content=\"...</td>\n",
       "    </tr>\n",
       "    <tr>\n",
       "      <th>2</th>\n",
       "      <td>b'e&gt;Google&lt;/title&gt;&lt;script nonce=\"XftMZxjRteubA...</td>\n",
       "    </tr>\n",
       "    <tr>\n",
       "      <th>3</th>\n",
       "      <td>b'1083,538661,2872,2891,73050,6397,9708,18161,...</td>\n",
       "    </tr>\n",
       "    <tr>\n",
       "      <th>4</th>\n",
       "      <td>b'34,28,18645,687,7899,13724,13493,15783,11106...</td>\n",
       "    </tr>\n",
       "  </tbody>\n",
       "</table>\n",
       "</div>"
      ],
      "text/plain": [
       "                                                   0\n",
       "0  b'<!doctype html><html itemscope=\"\" itemtype=\"...\n",
       "1  b'8\" http-equiv=\"Content-Type\"><meta content=\"...\n",
       "2  b'e>Google</title><script nonce=\"XftMZxjRteubA...\n",
       "3  b'1083,538661,2872,2891,73050,6397,9708,18161,...\n",
       "4  b'34,28,18645,687,7899,13724,13493,15783,11106..."
      ]
     },
     "execution_count": 178,
     "metadata": {},
     "output_type": "execute_result"
    }
   ],
   "source": [
    "# Convert the response to a pandas DataFrame\n",
    "df = pd.DataFrame(response) \n",
    "df.head()"
   ]
  },
  {
   "cell_type": "markdown",
   "id": "b24df383-2bf6-4e78-8374-8e49c0940557",
   "metadata": {},
   "source": [
    "- raw HTML content returned from the website because **requests.get(url)** retrieves the entire webpage's HTML.\n",
    "\n",
    "- To handle this, you'd need to parse the HTML content using something like BeautifulSoup to extract meaningful data.\n",
    "\n",
    "- HTML isn't naturally tabular like JSON or CSV."
   ]
  },
  {
   "cell_type": "markdown",
   "id": "d9c0be1b-8b77-410c-bcc7-e73f6d7a165d",
   "metadata": {},
   "source": [
    "<div style=\"background-color: lightgreen; color: black; padding: 4px;\">\n",
    "    <h3>Weather API\n",
    "</h4> </div>"
   ]
  },
  {
   "cell_type": "markdown",
   "id": "a8c27635-0002-49f9-96bc-e2e7ec6c72d7",
   "metadata": {},
   "source": [
    "Let's do a fun activity where we'll use an API to gather numerical data. A good example is using the OpenWeatherMap API to get current weather data for a city, and then we can extract temperature, humidity, and other metrics."
   ]
  },
  {
   "cell_type": "markdown",
   "id": "aa1f26da-d0c4-4802-b6b0-e796d6897597",
   "metadata": {},
   "source": [
    "#### Instructions\n",
    "\n",
    "- We'll use the **OpenWeatherMap API** (you can sign up for a free API key if you don't have one yet).\n",
    "- For this example, let's fetch the current weather data for London and showcase the temperature in Celsius"
   ]
  },
  {
   "cell_type": "markdown",
   "id": "267b1be9-b4ae-4a35-aebd-3911c32944f8",
   "metadata": {},
   "source": [
    "<div style=\"background-color: lightblue; color: black; padding: 4px;\">\n",
    "    <h4> Activity 3 - Weather API\n",
    "</h4> </div>"
   ]
  },
  {
   "cell_type": "markdown",
   "id": "f2d0fe9d-4833-4955-960a-75798edbb97d",
   "metadata": {},
   "source": [
    "##### Step 1: Go to: https://openweathermap.org/api\n",
    "##### Step 2: Sign up and create account\n",
    "##### Step 3: Verify your email\n",
    "##### Step 4: Click on API keys and copy\n",
    "##### Sometimes, it takes a few minutes for the API key to activate, so wait a few moments.\n",
    "##### On free plan: 60 calls/minute and 1,000,000 calls/month"
   ]
  },
  {
   "cell_type": "code",
   "execution_count": 237,
   "id": "5edfaf51-bad0-4093-a3b1-fab37eb1fd42",
   "metadata": {},
   "outputs": [],
   "source": [
    "import requests\n",
    "import pandas as pd\n",
    "\n",
    "# Your OpenWeatherMap API key\n",
    "api_key = \"put_in_your_own_key\""
   ]
  },
  {
   "cell_type": "code",
   "execution_count": 255,
   "id": "8113ccfe-bb2c-4ada-a5f8-734c3ea9a012",
   "metadata": {},
   "outputs": [
    {
     "name": "stdout",
     "output_type": "stream",
     "text": [
      "Which city's weather do you want? gg\n"
     ]
    }
   ],
   "source": [
    "# Ask user for the city\n",
    "city = input(\"Which city's weather do you want?\") "
   ]
  },
  {
   "cell_type": "code",
   "execution_count": 263,
   "id": "8bcb70e8-d7e4-47fe-82d8-e7e0e940a3fe",
   "metadata": {},
   "outputs": [],
   "source": [
    "# Set the city and API URL\n",
    "#city = \"London\"\n",
    "url = f\"http://api.openweathermap.org/data/2.5/weather?q={city}&appid={api_key}&units=metric\""
   ]
  },
  {
   "cell_type": "code",
   "execution_count": 265,
   "id": "933c7afe-efc0-446f-9f8f-ecf39d7c8da1",
   "metadata": {},
   "outputs": [
    {
     "data": {
      "text/plain": [
       "404"
      ]
     },
     "execution_count": 265,
     "metadata": {},
     "output_type": "execute_result"
    }
   ],
   "source": [
    "# Send a GET request to the API\n",
    "response = requests.get(url)\n",
    "#response.url\n",
    "response.status_code"
   ]
  },
  {
   "cell_type": "code",
   "execution_count": 267,
   "id": "da41e9a7-ea12-44e8-9e6d-9c5a1c8f3541",
   "metadata": {},
   "outputs": [
    {
     "name": "stdout",
     "output_type": "stream",
     "text": [
      "Failed to retrieve data: 404\n"
     ]
    }
   ],
   "source": [
    "# Check if the request was successful\n",
    "if response.status_code == 200:\n",
    "    # Convert the response to JSON format\n",
    "    data = response.json()\n",
    "\n",
    "    # Extract relevant numerical data\n",
    "    main_data = data['main']\n",
    "    temperature = main_data['temp']\n",
    "    humidity = main_data['humidity']\n",
    "    pressure = main_data['pressure']\n",
    "\n",
    "    # Display the data\n",
    "    print(f\"City: {city}\")\n",
    "    print(f\"Temperature: {temperature}°C\")\n",
    "    print(f\"Humidity: {humidity}%\")\n",
    "    print(f\"Pressure: {pressure} hPa\")\n",
    "\n",
    "    # Create a DataFrame to store the data\n",
    "    weather_df = pd.DataFrame({\n",
    "        \"City\": [city],\n",
    "        \"Temperature (°C)\": [temperature],\n",
    "        \"Humidity (%)\": [humidity],\n",
    "        \"Pressure (hPa)\": [pressure]\n",
    "    })\n",
    "\n",
    "else:\n",
    "    print(f\"Failed to retrieve data: {response.status_code}\")"
   ]
  },
  {
   "cell_type": "code",
   "execution_count": 269,
   "id": "47189d8f-a063-45ad-893b-cad32c0e1002",
   "metadata": {},
   "outputs": [
    {
     "data": {
      "text/html": [
       "<div>\n",
       "<style scoped>\n",
       "    .dataframe tbody tr th:only-of-type {\n",
       "        vertical-align: middle;\n",
       "    }\n",
       "\n",
       "    .dataframe tbody tr th {\n",
       "        vertical-align: top;\n",
       "    }\n",
       "\n",
       "    .dataframe thead th {\n",
       "        text-align: right;\n",
       "    }\n",
       "</style>\n",
       "<table border=\"1\" class=\"dataframe\">\n",
       "  <thead>\n",
       "    <tr style=\"text-align: right;\">\n",
       "      <th></th>\n",
       "      <th>City</th>\n",
       "      <th>Temperature (°C)</th>\n",
       "      <th>Humidity (%)</th>\n",
       "      <th>Pressure (hPa)</th>\n",
       "    </tr>\n",
       "  </thead>\n",
       "  <tbody>\n",
       "    <tr>\n",
       "      <th>0</th>\n",
       "      <td>gg</td>\n",
       "      <td>14.81</td>\n",
       "      <td>86</td>\n",
       "      <td>996</td>\n",
       "    </tr>\n",
       "  </tbody>\n",
       "</table>\n",
       "</div>"
      ],
      "text/plain": [
       "  City  Temperature (°C)  Humidity (%)  Pressure (hPa)\n",
       "0   gg             14.81            86             996"
      ]
     },
     "execution_count": 269,
     "metadata": {},
     "output_type": "execute_result"
    }
   ],
   "source": [
    "df = weather_df\n",
    "df"
   ]
  },
  {
   "cell_type": "code",
   "execution_count": null,
   "id": "a7680781-845f-4592-93e2-1f56d59a782a",
   "metadata": {},
   "outputs": [],
   "source": []
  },
  {
   "cell_type": "markdown",
   "id": "372d9553-3bfd-4957-9482-a64be6f7db7a",
   "metadata": {},
   "source": [
    "### One could try for any of these cities\n",
    "- New York, USA\n",
    "- London, UK\n",
    "- Tokyo, Japan\n",
    "- Sydney, Australia\n",
    "- Paris, France\n",
    "- Berlin, Germany\n",
    "- Mumbai, India\n",
    "- Cape Town, South Africa\n",
    "- Toronto, Canada\n",
    "- Rio de Janeiro, Brazil"
   ]
  },
  {
   "cell_type": "markdown",
   "id": "f2185430-3791-45df-824f-bdec6d7145e3",
   "metadata": {},
   "source": [
    "<div class=\"alert alert-block alert-warning\">\n",
    "    <b><font size=\"5\"> Live Exercise</font> </b>\n",
    "</div>"
   ]
  },
  {
   "cell_type": "markdown",
   "id": "ca748cd5-bc4e-411d-948f-589bc6e3452e",
   "metadata": {},
   "source": [
    "Now it's your turn!\n",
    "### Task 1:  Fetch Weather Data Using OpenWeatherMap AP and create a dataset (Advanced - Optional)\n",
    "\n",
    "\n",
    "- **Objective:**\n",
    "  You will create a JSON file containing weather data for multiple cities over a period of 15 minutes. This task will help you practice your skills in making API calls, handling JSON responses, and converting data into a DataFrame.\n",
    "\n",
    "- **Cities to Include:**\n",
    "  - New York, USA\n",
    "  - London, UK\n",
    "  - Tokyo, Japan\n",
    "  - Sydney, Australia\n",
    "  - Paris, France"
   ]
  },
  {
   "cell_type": "markdown",
   "id": "126d9390-cb3f-4a0f-912c-5821f62f3b08",
   "metadata": {},
   "source": [
    "**Instructions:**\n",
    "  1. **Obtain Your API Key:**\n",
    "     - Go to the [OpenWeatherMap website](https://openweathermap.org/).\n",
    "     - Create a free account if you don’t have one.\n",
    "     - Navigate to the API section and generate your API key.\n",
    "  2. **Write the Python Code:**\n",
    "     - Create a Python script that performs the following:\n",
    "       - Import the necessary libraries (`requests`, `json`, `pandas`).\n",
    "       - Define the list of cities you want to query and your API key.\n",
    "       - Set up a loop to make requests to the OpenWeatherMap API every 1 minute for 15 minutes.\n",
    "       - For each iteration, parse the JSON response and extract the following information:\n",
    "         - City name\n",
    "         - Temperature (in Celsius)\n",
    "         - Weather description\n",
    "         - Humidity\n",
    "         - Wind speed\n",
    "         - Timestamp\n",
    "       - Store this information in a list of dictionaries.\n",
    "       - Convert the list of dictionaries to a DataFrame.\n",
    "       - Save the DataFrame to a JSON file.\n",
    "  3. **Deliverable:**\n",
    "       - Store this information in a list of dictionaries.\n",
    "       - Convert the list of dictionaries to a DataFrame.\n",
    "       - Save the DataFrame to a JSON file.\"\n",
    "       - You must in the end have a dataset with 15 entries of wheather for each city"
   ]
  },
  {
   "cell_type": "markdown",
   "id": "b69ed7ea-1940-434d-bb2d-601d07994783",
   "metadata": {},
   "source": [
    "<div style=\"background-color: lightblue; color: white; padding: 10px; text-align: center;\">\n",
    "    <h1>_________________________________END________________________________\n",
    "</h1> </div>"
   ]
  },
  {
   "cell_type": "markdown",
   "id": "13e86481-eae2-4019-9515-66a43a30f0fb",
   "metadata": {},
   "source": [
    "<div style=\"background-color: #002147; color: #fff; padding: 30px; text-align: center;\">\n",
    "    <h1>THANK YOU!\n",
    "</h1> </div>"
   ]
  },
  {
   "cell_type": "markdown",
   "id": "aefa2f04-f141-405d-8a9f-8cf186d66f41",
   "metadata": {},
   "source": [
    "<div style=\"background-color: lightgreen; color: black; padding: 30px;\">\n",
    "    <h4> Live Exercise Solutions\n",
    "        \n",
    "</h4> </div>"
   ]
  },
  {
   "cell_type": "markdown",
   "id": "b5a4b07f-8108-4124-8ce6-3d3ff1028fc4",
   "metadata": {},
   "source": [
    "### Task 1: Fetch Weather Data Using OpenWeatherMap AP and create a dataset (Advanced - Optional)"
   ]
  },
  {
   "cell_type": "code",
   "execution_count": 290,
   "id": "41d961ea-d250-46bf-ab73-139415180ab6",
   "metadata": {},
   "outputs": [
    {
     "name": "stdout",
     "output_type": "stream",
     "text": [
      "Weather data saved to weather_data.json\n"
     ]
    }
   ],
   "source": [
    "import requests\n",
    "import pandas as pd\n",
    "import time\n",
    "\n",
    "# Define your API key and cities\n",
    "api_key = \"154efb44830a0c05dc04eba77d69f205\"  # Replace with your actual API key\n",
    "cities = [\"New York,US\", \"London,UK\", \"Tokyo,JP\", \"Sydney,AU\", \"Paris,FR\"]\n",
    "\n",
    "# List to hold weather data\n",
    "weather_data = []\n",
    "\n",
    "# Loop to collect data for 15 minutes\n",
    "start_time = time.time()\n",
    "while (time.time() - start_time) < 60:  # Run for 15 minutes (900 seconds)\n",
    "    for city in cities:\n",
    "        # Create the API request URL\n",
    "        url = f\"http://api.openweathermap.org/data/2.5/weather?q={city}&appid={api_key}&units=metric\"\n",
    "        \n",
    "        # Make the request\n",
    "        response = requests.get(url)\n",
    "\n",
    "        if response.status_code == 200:\n",
    "            # Parse the JSON response\n",
    "            data = response.json()\n",
    "            \n",
    "            # Extract required information\n",
    "            entry = {\n",
    "                \"city\": data['name'],\n",
    "                \"temperature\": data['main']['temp'],\n",
    "                \"weather\": data['weather'][0]['description'],\n",
    "                \"humidity\": data['main']['humidity'],\n",
    "                \"wind_speed\": data['wind']['speed'],\n",
    "                \"timestamp\": time.strftime(\"%Y-%m-%d %H:%M:%S\", time.localtime())\n",
    "            }\n",
    "            weather_data.append(entry)\n",
    "        else:\n",
    "            print(f\"Failed to retrieve data for {city}: {response.status_code}\")\n",
    "\n",
    "        # Wait for 1 minute before the next request\n",
    "        time.sleep(5)\n",
    "\n",
    "# Convert to DataFrame\n",
    "df = pd.DataFrame(weather_data)\n",
    "\n",
    "# Save to JSON file\n",
    "df.to_json(\"weather_data.json\", orient=\"records\", lines=True)\n",
    "\n",
    "print(\"Weather data saved to weather_data.json\")\n"
   ]
  },
  {
   "cell_type": "code",
   "execution_count": 292,
   "id": "9dacbbc6-adf8-4eb0-bb4c-140521e0b728",
   "metadata": {},
   "outputs": [
    {
     "data": {
      "text/html": [
       "<div>\n",
       "<style scoped>\n",
       "    .dataframe tbody tr th:only-of-type {\n",
       "        vertical-align: middle;\n",
       "    }\n",
       "\n",
       "    .dataframe tbody tr th {\n",
       "        vertical-align: top;\n",
       "    }\n",
       "\n",
       "    .dataframe thead th {\n",
       "        text-align: right;\n",
       "    }\n",
       "</style>\n",
       "<table border=\"1\" class=\"dataframe\">\n",
       "  <thead>\n",
       "    <tr style=\"text-align: right;\">\n",
       "      <th></th>\n",
       "      <th>city</th>\n",
       "      <th>temperature</th>\n",
       "      <th>weather</th>\n",
       "      <th>humidity</th>\n",
       "      <th>wind_speed</th>\n",
       "      <th>timestamp</th>\n",
       "    </tr>\n",
       "  </thead>\n",
       "  <tbody>\n",
       "    <tr>\n",
       "      <th>0</th>\n",
       "      <td>New York</td>\n",
       "      <td>23.11</td>\n",
       "      <td>broken clouds</td>\n",
       "      <td>42</td>\n",
       "      <td>7.72</td>\n",
       "      <td>2024-10-08 00:59:13</td>\n",
       "    </tr>\n",
       "    <tr>\n",
       "      <th>1</th>\n",
       "      <td>London</td>\n",
       "      <td>14.65</td>\n",
       "      <td>overcast clouds</td>\n",
       "      <td>87</td>\n",
       "      <td>3.09</td>\n",
       "      <td>2024-10-08 00:59:18</td>\n",
       "    </tr>\n",
       "    <tr>\n",
       "      <th>2</th>\n",
       "      <td>Tokyo</td>\n",
       "      <td>22.26</td>\n",
       "      <td>heavy intensity rain</td>\n",
       "      <td>92</td>\n",
       "      <td>6.17</td>\n",
       "      <td>2024-10-08 00:59:24</td>\n",
       "    </tr>\n",
       "    <tr>\n",
       "      <th>3</th>\n",
       "      <td>Sydney</td>\n",
       "      <td>15.22</td>\n",
       "      <td>light intensity drizzle</td>\n",
       "      <td>79</td>\n",
       "      <td>8.23</td>\n",
       "      <td>2024-10-08 00:59:29</td>\n",
       "    </tr>\n",
       "    <tr>\n",
       "      <th>4</th>\n",
       "      <td>Paris</td>\n",
       "      <td>16.81</td>\n",
       "      <td>heavy intensity rain</td>\n",
       "      <td>97</td>\n",
       "      <td>3.09</td>\n",
       "      <td>2024-10-08 00:59:34</td>\n",
       "    </tr>\n",
       "    <tr>\n",
       "      <th>5</th>\n",
       "      <td>New York</td>\n",
       "      <td>23.11</td>\n",
       "      <td>broken clouds</td>\n",
       "      <td>42</td>\n",
       "      <td>7.72</td>\n",
       "      <td>2024-10-08 00:59:39</td>\n",
       "    </tr>\n",
       "    <tr>\n",
       "      <th>6</th>\n",
       "      <td>London</td>\n",
       "      <td>14.65</td>\n",
       "      <td>overcast clouds</td>\n",
       "      <td>87</td>\n",
       "      <td>3.09</td>\n",
       "      <td>2024-10-08 00:59:44</td>\n",
       "    </tr>\n",
       "    <tr>\n",
       "      <th>7</th>\n",
       "      <td>Tokyo</td>\n",
       "      <td>22.26</td>\n",
       "      <td>heavy intensity rain</td>\n",
       "      <td>92</td>\n",
       "      <td>6.17</td>\n",
       "      <td>2024-10-08 00:59:49</td>\n",
       "    </tr>\n",
       "    <tr>\n",
       "      <th>8</th>\n",
       "      <td>Sydney</td>\n",
       "      <td>15.22</td>\n",
       "      <td>light intensity drizzle</td>\n",
       "      <td>79</td>\n",
       "      <td>8.23</td>\n",
       "      <td>2024-10-08 00:59:54</td>\n",
       "    </tr>\n",
       "    <tr>\n",
       "      <th>9</th>\n",
       "      <td>Paris</td>\n",
       "      <td>16.81</td>\n",
       "      <td>heavy intensity rain</td>\n",
       "      <td>97</td>\n",
       "      <td>3.09</td>\n",
       "      <td>2024-10-08 01:00:00</td>\n",
       "    </tr>\n",
       "    <tr>\n",
       "      <th>10</th>\n",
       "      <td>New York</td>\n",
       "      <td>23.11</td>\n",
       "      <td>broken clouds</td>\n",
       "      <td>42</td>\n",
       "      <td>7.72</td>\n",
       "      <td>2024-10-08 01:00:05</td>\n",
       "    </tr>\n",
       "    <tr>\n",
       "      <th>11</th>\n",
       "      <td>London</td>\n",
       "      <td>14.65</td>\n",
       "      <td>overcast clouds</td>\n",
       "      <td>87</td>\n",
       "      <td>3.09</td>\n",
       "      <td>2024-10-08 01:00:10</td>\n",
       "    </tr>\n",
       "    <tr>\n",
       "      <th>12</th>\n",
       "      <td>Tokyo</td>\n",
       "      <td>22.44</td>\n",
       "      <td>moderate rain</td>\n",
       "      <td>91</td>\n",
       "      <td>6.17</td>\n",
       "      <td>2024-10-08 01:00:15</td>\n",
       "    </tr>\n",
       "    <tr>\n",
       "      <th>13</th>\n",
       "      <td>Sydney</td>\n",
       "      <td>15.26</td>\n",
       "      <td>light intensity drizzle</td>\n",
       "      <td>79</td>\n",
       "      <td>8.23</td>\n",
       "      <td>2024-10-08 01:00:21</td>\n",
       "    </tr>\n",
       "    <tr>\n",
       "      <th>14</th>\n",
       "      <td>Paris</td>\n",
       "      <td>16.81</td>\n",
       "      <td>heavy intensity rain</td>\n",
       "      <td>97</td>\n",
       "      <td>3.09</td>\n",
       "      <td>2024-10-08 01:00:26</td>\n",
       "    </tr>\n",
       "  </tbody>\n",
       "</table>\n",
       "</div>"
      ],
      "text/plain": [
       "        city  temperature                  weather  humidity  wind_speed  \\\n",
       "0   New York        23.11            broken clouds        42        7.72   \n",
       "1     London        14.65          overcast clouds        87        3.09   \n",
       "2      Tokyo        22.26     heavy intensity rain        92        6.17   \n",
       "3     Sydney        15.22  light intensity drizzle        79        8.23   \n",
       "4      Paris        16.81     heavy intensity rain        97        3.09   \n",
       "5   New York        23.11            broken clouds        42        7.72   \n",
       "6     London        14.65          overcast clouds        87        3.09   \n",
       "7      Tokyo        22.26     heavy intensity rain        92        6.17   \n",
       "8     Sydney        15.22  light intensity drizzle        79        8.23   \n",
       "9      Paris        16.81     heavy intensity rain        97        3.09   \n",
       "10  New York        23.11            broken clouds        42        7.72   \n",
       "11    London        14.65          overcast clouds        87        3.09   \n",
       "12     Tokyo        22.44            moderate rain        91        6.17   \n",
       "13    Sydney        15.26  light intensity drizzle        79        8.23   \n",
       "14     Paris        16.81     heavy intensity rain        97        3.09   \n",
       "\n",
       "              timestamp  \n",
       "0   2024-10-08 00:59:13  \n",
       "1   2024-10-08 00:59:18  \n",
       "2   2024-10-08 00:59:24  \n",
       "3   2024-10-08 00:59:29  \n",
       "4   2024-10-08 00:59:34  \n",
       "5   2024-10-08 00:59:39  \n",
       "6   2024-10-08 00:59:44  \n",
       "7   2024-10-08 00:59:49  \n",
       "8   2024-10-08 00:59:54  \n",
       "9   2024-10-08 01:00:00  \n",
       "10  2024-10-08 01:00:05  \n",
       "11  2024-10-08 01:00:10  \n",
       "12  2024-10-08 01:00:15  \n",
       "13  2024-10-08 01:00:21  \n",
       "14  2024-10-08 01:00:26  "
      ]
     },
     "execution_count": 292,
     "metadata": {},
     "output_type": "execute_result"
    }
   ],
   "source": [
    "df"
   ]
  },
  {
   "cell_type": "markdown",
   "id": "36f2d487-56ef-4c22-a1c9-d25e9df33e37",
   "metadata": {},
   "source": [
    "<div class=\"alert alert-block alert-warning\"  padding: 10px; text-align: center;\">\n",
    "    <font size=\"3\"> Programming Interveiw Questions</font>\n",
    "</div>"
   ]
  },
  {
   "cell_type": "markdown",
   "id": "d4e08c3f-3e5b-46a6-9fbb-456cbd850553",
   "metadata": {},
   "source": [
    "companies like **Google** and **IBM**.\n"
   ]
  },
  {
   "cell_type": "code",
   "execution_count": null,
   "id": "e7e36dfa-ea9c-4613-9b13-0c9fcc270d60",
   "metadata": {},
   "outputs": [],
   "source": []
  },
  {
   "cell_type": "code",
   "execution_count": null,
   "id": "71b804d2-30ba-4da7-b821-c42b4a367c83",
   "metadata": {},
   "outputs": [],
   "source": []
  },
  {
   "cell_type": "markdown",
   "id": "3e92ba4c-672c-4e9f-b842-2b2d9234e5ff",
   "metadata": {},
   "source": [
    "<h2 style=\"background-color: #ffe4e1; color: #2f4f4f; padding: 10px; border-radius: 10px; width: 350px; text-align: center; float: right; margin: 20px 0;\">\n",
    "    Mohammad Idrees Bhat<br>\n",
    "    <span style=\"font-size: 12px; color: #696969;\">\n",
    "        Tech Skills Trainer | AI/ML Consultant\n",
    "    </span>\n",
    "</h2>"
   ]
  }
 ],
 "metadata": {
  "kernelspec": {
   "display_name": "Python 3 (ipykernel)",
   "language": "python",
   "name": "python3"
  },
  "language_info": {
   "codemirror_mode": {
    "name": "ipython",
    "version": 3
   },
   "file_extension": ".py",
   "mimetype": "text/x-python",
   "name": "python",
   "nbconvert_exporter": "python",
   "pygments_lexer": "ipython3",
   "version": "3.12.4"
  }
 },
 "nbformat": 4,
 "nbformat_minor": 5
}
