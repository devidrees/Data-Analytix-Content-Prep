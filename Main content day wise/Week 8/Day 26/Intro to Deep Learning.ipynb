{
 "cells": [
  {
   "cell_type": "markdown",
   "id": "8c4bc666-34a1-47b6-8018-1ad79dafae95",
   "metadata": {},
   "source": [
    "<div style=\"background-color: #add8e6; padding: 10px; height: 70px; border-radius: 15px;\">\n",
    "    <div style=\"font-family: 'Georgia', serif; font-size: 20px; padding: 10px; text-align: right; position: absolute; right: 20px;\">\n",
    "        Mohammad Idrees Bhat <br>\n",
    "        <span style=\"font-family: 'Arial', sans-serif;font-size: 12px; color: #0a0a0a;\">Tech Skills Trainer | AI/ML Consultant</span> <!--- Mohammad Idrees Bhat | Tech Skills Trainer | AI/ML Consultant --->\n",
    "    </div>\n",
    "</div>"
   ]
  },
  {
   "cell_type": "markdown",
   "id": "ef444d2e-97e9-49a8-bf3d-0119a2dfebb5",
   "metadata": {},
   "source": [
    "<!--- Mohammad Idrees Bhat | Tech Skills Trainer | AI/ML Consultant --->"
   ]
  },
  {
   "cell_type": "markdown",
   "id": "151ad3d8-0bce-4e29-86da-5ea91b5a69df",
   "metadata": {},
   "source": [
    "<div style=\"background-color: #002147; padding: 10px; text-align: center; color: white; font-size: 32px; font-family: 'Arial', sans-serif;\">\n",
    "    Introduction to Deep Learning <br>\n",
    "    <h3 style=\"text-align: center; color: white; font-size: 15px; font-family: 'Arial', sans-serif;\">Basics of neural networks, TensorFlow, and Keras</h3>\n",
    "</div>"
   ]
  },
  {
   "cell_type": "markdown",
   "id": "155e8ec7-547b-41f4-b6f6-6e6e719c198c",
   "metadata": {},
   "source": [
    "<div style=\"background-color: white; color: black; padding: 10px;\">\n",
    "    <h4><b>AGENDA</b> <p><p>\n",
    "1.  Intro to Deep Learning<p><p> \n",
    "2.  Neural Networks <p>\n",
    "3.  Working of Neural Networks <p>\n",
    "4.  Intro to TensorFlow and Keras <p>  \n",
    "</h4> </div>"
   ]
  },
  {
   "cell_type": "markdown",
   "id": "19b1c30b-e766-4658-8d70-1b0af10ae2f4",
   "metadata": {},
   "source": [
    "<!-- Link the Montserrat font -->\n",
    "<link href=\"https://fonts.googleapis.com/css2?family=Montserrat:wght@700&display=swap\" rel=\"stylesheet\">\n",
    "\n",
    "<!-- Main div with centered content and a flexible box size, no scroll bar -->\n",
    "<div style=\"background-color: #baf733; min-height: 100px; width: 100%; display: flex; justify-content: center; align-items: center; position: relative; padding: 20px; box-sizing: border-box; font-family: 'Montserrat', sans-serif; font-weight: 700; font-size: 20px; border-radius: 15px;\">\n",
    "    <div style=\"position: absolute; top: 10px; right: 10px; padding: 5px 10px; font-size: 14px; color: rgba(0, 0, 0, 0.05); border-radius: 10px;\">Mohammad Idrees Bhat</div>\n",
    "    <!-- Fill the below text with question -->\n",
    "    <!-- Fill the below text with question -->\n",
    "    If you were given a million dollars but only 24 hours to spend it, what would you do?\n",
    "    <!-- Fill the above text with question -->\n",
    "    <!-- Fill the above text with question -->\n",
    "\n",
    "</div>"
   ]
  },
  {
   "cell_type": "markdown",
   "id": "53ec8637",
   "metadata": {},
   "source": [
    "<div style=\"background-color: lightgreen; color: black; padding: 4px;\">\n",
    "    <h3>1. Intro to Deep Learning\n",
    "</h3> </div>"
   ]
  },
  {
   "cell_type": "markdown",
   "id": "d1bb3645",
   "metadata": {},
   "source": [
    "Deep Learning is a subset of Machine Learning (ML) that uses artificial neural networks(ANN) to **simulate the way humans learn** from **large amounts** of **data**.\n",
    "\n",
    "It is called \"deep\" because these networks consist of multiple layers, allowing the system to learn complex patterns."
   ]
  },
  {
   "cell_type": "markdown",
   "id": "90aef031-1416-4707-b2a0-fc60ca4ee7ca",
   "metadata": {},
   "source": [
    "Relationship with Machine Learning and AI:\n",
    "\n",
    "- **AI**: The broader concept of machines performing tasks that require human intelligence.\n",
    "- **Machine Learning**: A subset of AI that involves training algorithms to make predictions without being explicitly programmed.\n",
    "- **Deep Learning**: A subset of ML focused on learning from data using neural networks with multiple layers.\n",
    "\n",
    "![](https://media.geeksforgeeks.org/wp-content/uploads/20230413105611/Maachine-Learning.webp)"
   ]
  },
  {
   "cell_type": "markdown",
   "id": "0ebe58fa",
   "metadata": {},
   "source": [
    "# Differences Between Machine Learning (ML) and Deep Learning (DL)\n",
    "\n",
    "| **Aspect**              | **Machine Learning (ML)**                                | **Deep Learning (DL)**                                |\n",
    "|--------------------------|----------------------------------------------------------|------------------------------------------------------|\n",
    "| **Level of Complexity**  | Relies on manual feature engineering and simpler models.  | Uses deep neural networks to learn directly from data. |\n",
    "| **Data Requirements**    | Performs well with small to medium datasets.              | Requires large datasets for optimal performance.      |\n",
    "| **Feature Engineering**  | Manual feature extraction by domain experts.              | Features are automatically extracted during training. |\n",
    "| **Computational Power**  | Works on regular CPUs; requires less computational power. | Needs GPUs/TPUs due to high computation demands.      |\n",
    "| **Algorithm Structure**  | Includes decision trees, SVMs, regression, etc.           | Uses CNNs, RNNs, transformers, and deep architectures.|\n",
    "| **Applications**         | Structured data tasks like fraud detection or segmentation. | Unstructured data tasks like image and speech recognition. |\n",
    "| **Training Time**        | Typically faster to train.                                | Longer training times due to model complexity.        |\n",
    "| **Interpretability**     | Models like decision trees are interpretable.             | Operates as a \"black box\" with limited interpretability. |\n",
    "| **Hardware Dependency**  | Can run on traditional hardware setups.                   | Requires specialized hardware like GPUs/TPUs.         |\n",
    "| **Performance**          | Good for smaller datasets and simple tasks.              | Excels with large, complex datasets and unstructured data. |\n"
   ]
  },
  {
   "cell_type": "markdown",
   "id": "48ab384e",
   "metadata": {},
   "source": [
    "**Real-World Applications of Deep Learning**\n",
    "1. **Image Recognition:**\n",
    "\n",
    "Images are made up of millions of pixels, forming high-dimensional data. \n",
    "\n",
    "Deep learning, specifically Convolutional Neural Networks (CNNs), can efficiently detect intricate patterns, edges, and shapes by learning hierarchical features directly from the raw pixel data.\n",
    "\n",
    "Examples:\n",
    "- Face detection in smartphones.\n",
    "- Object detection in self-driving cars."
   ]
  },
  {
   "cell_type": "markdown",
   "id": "f066fa4c",
   "metadata": {},
   "source": [
    "2. **Natural Language Processing (NLP):**\n",
    "\n",
    "Deep learning models like Recurrent Neural Networks (RNNs) or Transformers (e.g., BERT, GPT) are designed to handle sequential data and understand context across words or sentences. \n",
    "\n",
    "This enables tasks like converting spoken language into meaningful responses.\n",
    "\n",
    "Examples:\n",
    "- Voice assistants like Siri and Alexa.\n",
    "- Machine translation (e.g., Google Translate)."
   ]
  },
  {
   "cell_type": "markdown",
   "id": "1c762cd6-ee35-4e4e-aa54-600db6a9c23d",
   "metadata": {},
   "source": [
    "<div style=\"background-color: lightblue; color: black; padding: 4px;\">\n",
    "    <h4> Current Groundbreaking Work in Deep Learning\n",
    "</h4> </div>"
   ]
  },
  {
   "cell_type": "markdown",
   "id": "892c0e74",
   "metadata": {},
   "source": [
    "**1. GPT-4 and Generative AI Models (NLP)**\n",
    "\n",
    "- Models like ChatGPT are revolutionizing how humans interact with machines by holding human-like conversations, drafting content, and solving problems.\n",
    "\n",
    "**2. Neuralink and Brain-Computer Interfaces (Healthcare and Neural Engineering)**\n",
    "\n",
    "- Neuralink, founded by Elon Musk, is developing devices that enable direct communication between the human brain and computers.\n",
    "\n",
    "**3. AlphaFold (Healthcare and Drug Discovery)**\n",
    "- Developed by DeepMind, AlphaFold predicts protein structures with remarkable accuracy, solving a 50-year-old grand challenge in biology. Its insights are accelerating drug discovery and enabling scientists to understand diseases at a molecular level, offering breakthroughs in treating conditions like cancer and Alzheimer’s.\n",
    "\n",
    "**4. Tesla Autopilot (Autonomous Driving)**\n",
    "- Tesla's Autopilot system employs DL to analyze camera feeds, radar, and other sensor inputs for real-time decision-making in self-driving vehicles. It’s making strides toward safer transportation, reducing accidents, and paving the way for fully autonomous fleets.\n",
    "\n",
    "Similarly:\n",
    "\n",
    "- Deepfake Detection (Cybersecurity)\n",
    "- Climate Change Mitigation (Environmental Science)\n",
    "- AI in Agriculture (AgTech)\n",
    "- AI in Space Exploration (Aerospace)\n",
    "- Multi-Modal AI Models (models combine data from different modalities—such as text, images, and video—into a single model,)\n",
    "- Federated Learning (Privacy-Preserving AI)(models are trained across decentralized devices or servers without needing to share sensitive data between them)\n",
    "- Neuromorphic Computing (Hardware Development) (design computer chips that mimic the human brain’s architecture) "
   ]
  },
  {
   "cell_type": "markdown",
   "id": "a3b10a45",
   "metadata": {},
   "source": [
    "<div style=\"background-color: lightgreen; color: black; padding: 4px;\">\n",
    "    <h3>2. Neural Networks\n",
    "    </h3> </div>"
   ]
  },
  {
   "cell_type": "markdown",
   "id": "d3957c5b",
   "metadata": {},
   "source": [
    "A neuron in a neural network mimics a biological neuron in the brain. It is the basic unit that processes information.\n",
    "\n",
    "\n",
    "A perceptron, the simplest type of artificial neural network (ANN) unit:\n",
    "![](https://miro.medium.com/v2/resize:fit:828/format:webp/0*ZoXnUr87zpRe-CN4.png)"
   ]
  },
  {
   "cell_type": "markdown",
   "id": "86598dc7",
   "metadata": {},
   "source": [
    "Here is how a human brain cell (Neuron) looks like:\n",
    "\n",
    "![](https://www.thoughtco.com/thmb/VKOBml04csZhUbKcigK0csMnpIQ=/1500x1000/filters:no_upscale():max_bytes(150000):strip_icc()/neuron-anatomy-58530ffe3df78ce2c34a7350.jpg)"
   ]
  },
  {
   "cell_type": "markdown",
   "id": "b0d84952",
   "metadata": {},
   "source": [
    "**Neuron: The Building Block of a Neural Network**\n",
    "\n",
    "[Perceptron - W3 Schools](https://www.w3schools.com/ai/ai_perceptrons.asp)\n",
    "\n",
    "A neuron in a neural network mimics a biological neuron in the brain. It is the basic unit that processes information. Let’s break it down step-by-step:\n",
    "\n",
    "\n",
    "![](https://www.simplilearn.com/ice9/free_resources_article_thumb/ArtificalNeuralNetwork.PNG)\n",
    "\n",
    "\n",
    "![](https://vitalflux.com/wp-content/uploads/2021/08/perceptron-single-layer-neural-network-comprising-of-single-neuron.png)\n",
    "\n",
    "\n",
    "**Inputs:**\n",
    "- A neuron receives information in the form of **inputs** (e.g., features like pixel values in an image or numerical data in a spreadsheet).\n",
    "\n",
    "**Weights and Bias:**\n",
    "- **Weights** determine how important each input is. A higher weight gives more significance to that input.\n",
    "- **Bias** is like a threshold that helps the neuron adjust how much influence the input has.\n",
    "\n",
    "**Processing:**\n",
    "The neuron multiplies each input by its weight, adds the bias, and then sums up these values:\n",
    "\n",
    "*z = (w₁ ⋅ x₁) + (w₂ ⋅ x₂) + ... + b*\n",
    "\n",
    "**Activation Function:**\n",
    "The result (*z*) is passed through an **activation function** to introduce non-linearity. This helps the neuron decide whether to activate (output a signal) or not.\n",
    "\n",
    "Think of a neuron as a decision-making unit: \n",
    "- It processes inputs and decides the strength of its signal based on the inputs' significance and its activation function.\n"
   ]
  },
  {
   "cell_type": "markdown",
   "id": "aac5865a",
   "metadata": {},
   "source": [
    "<div style=\"background-color: lightblue; color: black; padding: 4px;\">\n",
    "    <h4> Layers in a Neural Network\n",
    "</h4> </div>"
   ]
  },
  {
   "cell_type": "markdown",
   "id": "21f352e4",
   "metadata": {},
   "source": [
    "A neural network is like a team of neurons working together, organized into layers:\n",
    "\n",
    "**Input Layer:**\n",
    "- This is where the raw data enters the network.\n",
    "- Example: In an image recognition task, the input layer might take pixel values as input.\n",
    "\n",
    "**Hidden Layers:**\n",
    "- These are the \"thinking\" layers of the network, where most of the computation happens.\n",
    "- Each neuron in a hidden layer processes data from the previous layer to learn patterns and features.\n",
    "- Example: In an image, hidden layers might identify edges, textures, or shapes.\n",
    "\n",
    "**Output Layer:**\n",
    "- This layer produces the final result of the network.\n",
    "- Example: In a binary classification task, the output layer might produce a single value (e.g., 0 or 1)."
   ]
  },
  {
   "cell_type": "markdown",
   "id": "bcad7d72",
   "metadata": {},
   "source": [
    "<div style=\"background-color: lightblue; color: black; padding: 4px;\">\n",
    "    <h4> Activation Functions\n",
    "</h4> </div>"
   ]
  },
  {
   "cell_type": "markdown",
   "id": "107aced0",
   "metadata": {},
   "source": [
    "Activation functions help neurons decide whether to \"fire\" or not. They introduce non-linearity, enabling the network to learn complex patterns. Here are the common ones:\n",
    "\n",
    "**Sigmoid Function:** [Learn More...](https://en.wikipedia.org/wiki/Sigmoid_function)\n",
    "- Outputs a value between 0 and 1.\n",
    "- Ideal for binary classification problems (e.g., predicting \"yes\" or \"no\").\n",
    "- Formula:  \n",
    "  ### **Sigmoid(z) = 1 / (1 + e⁻ᶻ)**\n",
    "- **Advantage:** Smooth and differentiable, useful for probabilistic outputs.\n",
    "- Example: A model predicting whether an email is spam might use sigmoid in the output layer."
   ]
  },
  {
   "cell_type": "markdown",
   "id": "1dea75e3",
   "metadata": {},
   "source": [
    "![](https://taewanmerepo.github.io/2017/09/sigmoid/post.jpg)"
   ]
  },
  {
   "cell_type": "markdown",
   "id": "dd5e9bf8",
   "metadata": {},
   "source": [
    "**ReLU (Rectified Linear Unit):**\n",
    "- Outputs the input directly if it’s positive; otherwise, it outputs 0.  \n",
    "- Formula:  \n",
    "  ### **ReLU(z) = max(0, z)**\n",
    "- **Advantage:** Prevents vanishing gradients and enables efficient learning in deep networks.\n",
    "- Example: ReLU is used in hidden layers to identify complex features like shapes in an image."
   ]
  },
  {
   "cell_type": "markdown",
   "id": "3f5b1ef3",
   "metadata": {},
   "source": [
    "![](https://debuggercafe.com/wp-content/uploads/2019/04/relu_plot.png)"
   ]
  },
  {
   "cell_type": "markdown",
   "id": "350cfd6b",
   "metadata": {},
   "source": [
    "**Leaky ReLU:**\n",
    "- Outputs the input directly if positive, but for negative inputs, it outputs a small, non-zero value (αz, where α is typically 0.01).  \n",
    "- Formula:  \n",
    "  ### **LeakyReLU(z) = z if z > 0, otherwise αz**\n",
    "- **Advantage:** Avoids the \"dying ReLU\" problem by allowing a small gradient for negative inputs.\n",
    "- Example: Used in deep networks when standard ReLU leads to inactive neurons.\n"
   ]
  },
  {
   "cell_type": "markdown",
   "id": "2619dd5c",
   "metadata": {},
   "source": [
    "![](https://pbs.twimg.com/media/GFug4opWEAAjOw8.jpg)"
   ]
  },
  {
   "cell_type": "markdown",
   "id": "98350ee1",
   "metadata": {},
   "source": [
    "**Softmax Function:**\n",
    "- Converts raw scores into probabilities, with the sum of all probabilities equal to 1.\n",
    "- Ideal for multi-class classification problems (e.g., categorizing handwritten digits from 0 to 9).\n",
    "- Formula:  \n",
    "  ### **Softmax(zᵢ) = eᶻⁱ / ∑ⱼ eᶻʲ**\n",
    "- **Advantage:** Provides a clear probability distribution for multi-class problems.\n",
    "- Example: Softmax is used in the output layer of models classifying images into multiple categories, like identifying different dog breeds."
   ]
  },
  {
   "cell_type": "markdown",
   "id": "70cc42d8",
   "metadata": {},
   "source": [
    "![](https://miro.medium.com/v2/resize:fit:828/format:webp/1*UG0Bz8OmKxXxpVIH4lwg3Q.png)"
   ]
  },
  {
   "cell_type": "markdown",
   "id": "b0857fbe",
   "metadata": {},
   "source": [
    "![](https://miro.medium.com/v2/resize:fit:828/format:webp/1*3xfZiVD5wqWpi4K2-d2_Sw.png)"
   ]
  },
  {
   "cell_type": "markdown",
   "id": "b2c287a1",
   "metadata": {},
   "source": [
    "![](https://miro.medium.com/v2/resize:fit:828/format:webp/1*PN_PbSbBXSkGFtp6_-eOoQ.png)"
   ]
  },
  {
   "cell_type": "markdown",
   "id": "2495cfca",
   "metadata": {},
   "source": [
    "<div style=\"background-color: lightblue; color: black; padding: 4px;\">\n",
    "    <h4> Commonly used algorithms\n",
    "</h4> </div>"
   ]
  },
  {
   "cell_type": "markdown",
   "id": "e0e44d77",
   "metadata": {},
   "source": [
    "[Learn more from here](https://www.javatpoint.com/deep-learning-algorithms)"
   ]
  },
  {
   "cell_type": "markdown",
   "id": "dc0218bc",
   "metadata": {},
   "source": [
    "**1. Convolutional Neural Networks (CNNs):**  \n",
    "- Designed to process data with a grid-like topology, such as images.  \n",
    "- Uses convolutional layers to detect spatial hierarchies in data, identifying patterns like edges, textures, and shapes.  \n",
    "- Widely used in image classification, object detection, and computer vision tasks."
   ]
  },
  {
   "cell_type": "markdown",
   "id": "9eb5b2e9",
   "metadata": {},
   "source": [
    "![](https://almablog-media.s3.ap-south-1.amazonaws.com/002_96d388217c.png)\n",
    "\n",
    "![](https://images.javatpoint.com/tutorial/deep-learning/images/deep-learning-algorithms2.png)"
   ]
  },
  {
   "cell_type": "markdown",
   "id": "0847d97d",
   "metadata": {},
   "source": [
    "**2. Recurrent Neural Networks (RNNs):**  \n",
    "- Specialized for sequence data, such as time series or text.  \n",
    "- Maintains a \"memory\" of previous inputs using loops within its architecture.  \n",
    "- Commonly applied in natural language processing (NLP) tasks like sentiment analysis, machine translation, and speech recognition."
   ]
  },
  {
   "cell_type": "markdown",
   "id": "dc0230d4",
   "metadata": {},
   "source": [
    "![](https://images.javatpoint.com/tutorial/deep-learning/images/deep-learning-algorithms4.png)"
   ]
  },
  {
   "cell_type": "markdown",
   "id": "85c1c78e",
   "metadata": {},
   "source": [
    "**3. Generative Adversarial Networks (GANs):**  \n",
    "- Consists of two neural networks: a generator (creates data) and a discriminator (evaluates data).  \n",
    "- Both networks compete, resulting in realistic data generation (e.g., synthetic images or videos).  \n",
    "- Popular in tasks like image generation, style transfer, and data augmentation."
   ]
  },
  {
   "cell_type": "markdown",
   "id": "3fe1b40e",
   "metadata": {},
   "source": [
    "![](https://th.bing.com/th/id/OIP.7wr1gFeaILQ2Ipi-UvqSvwAAAA?rs=1&pid=ImgDetMain)\n",
    "\n",
    "![](https://developer.ibm.com/developer/default/articles/generative-adversarial-networks-explained/images/GANs.jpg)"
   ]
  },
  {
   "cell_type": "markdown",
   "id": "83ed3eb3",
   "metadata": {},
   "source": [
    "**4. Autoencoders:**  \n",
    "- Unsupervised learning models that encode input data into a compressed representation and then decode it back to the original form.  \n",
    "- Useful for dimensionality reduction, anomaly detection, and data denoising."
   ]
  },
  {
   "cell_type": "markdown",
   "id": "9e8cb65c",
   "metadata": {},
   "source": [
    "![](https://images.javatpoint.com/tutorial/deep-learning/images/deep-learning-algorithms11.png)"
   ]
  },
  {
   "cell_type": "markdown",
   "id": "e1f598bb",
   "metadata": {},
   "source": [
    "**5. Transformer Models:** \n",
    "- Transformers are neural networks that learn context and understanding through sequential data analysis. The Transformer models use a modern and evolving mathematical techniques set, generally known as attention or self-attention. \n",
    "- Focus on attention mechanisms to process sequences without relying on recurrence.  \n",
    "- Revolutionized NLP tasks (e.g., BERT, GPT) by enabling better understanding of context and long-term dependencies.  \n",
    "- Also gaining popularity in computer vision and other domains."
   ]
  },
  {
   "cell_type": "markdown",
   "id": "bd007822",
   "metadata": {},
   "source": [
    "A Transformer, unlike an RNN, does not perform data processing in sequential order, allowing for greater parallelization and faster training.\n",
    "\n",
    "![](https://images.prismic.io/turing/65980d42531ac2845a27274f_Transformer_architecture_a1d5ffc1e9.webp?auto=format,compress)\n",
    "\n",
    "\n",
    "This figure illustrates the Transformer deep learning model's overall architecture. There are two main components of the Transformer:\n",
    "\n",
    "- The encoder stacks — Nx identical encoder layers (in the original published paper, Nx = 6).\n",
    "- The decoder stacks — Nx identical decoders layers (in the original published paper, Nx =6)"
   ]
  },
  {
   "cell_type": "markdown",
   "id": "16fc12a9",
   "metadata": {},
   "source": [
    "---\n",
    "Others algorithms:\n",
    "\n",
    "- Long Short Term Memory Networks (LSTMs)\n",
    "- Radial Basis Function Networks (RBFNs)\n",
    "- Deep Belief Networks (DBNs)\n",
    "- Neural Style Transfer\n",
    "- Deep Q-Networks (DQNs)"
   ]
  },
  {
   "cell_type": "markdown",
   "id": "b9b0d089",
   "metadata": {},
   "source": [
    "<div style=\"background-color: lightgreen; color: black; padding: 4px;\">\n",
    "    <h3>3.  Working of Neural Networks\n",
    "    </h3> </div>"
   ]
  },
  {
   "cell_type": "markdown",
   "id": "5b3e7721",
   "metadata": {},
   "source": [
    "\n",
    "\n",
    "**1. Forward Propagation**  \n",
    "- Data flows through the network layer by layer, starting from the input layer to the output layer.  \n",
    "- Each neuron processes the data using weights, biases, and an activation function, passing the output to the next layer.  \n",
    "- The final layer produces predictions or outputs based on the input data.  \n",
    "\n",
    "---\n",
    "\n",
    "**2. Backward Propagation**  \n",
    "- After forward propagation, the model's predictions are compared with the actual values to calculate the error (loss).  \n",
    "- The error is propagated backward through the network, adjusting weights and biases in each layer to reduce the loss.  \n",
    "- This process uses the **Gradient Descent algorithm**, which finds the optimal weights by minimizing the loss function.  \n",
    "\n",
    "---\n",
    "\n",
    "**3. Training a Neural Network**  \n",
    "Training involves several steps repeated iteratively until the model performs well:  \n",
    "\n",
    "1. **Initialize Weights and Biases:** Start with random values.  \n",
    "2. **Forward Propagation:** Pass input data through the network to make predictions.  \n",
    "3. **Calculate Loss:** Compute the difference between the predicted and actual values using a loss function.  \n",
    "4. **Backward Propagation:** Adjust weights and biases using the Gradient Descent algorithm to minimize the loss.  \n",
    "5. **Repeat:** Iterate the process with multiple data batches (epochs) until the network learns adequately.  \n",
    "\n",
    "---\n",
    "\n",
    "**4. Testing a Neural Network**  \n",
    "- Once trained, the model is tested on unseen data to evaluate its performance.  \n",
    "- This step ensures the model generalizes well to new data and is not overfitting.  \n",
    "- Metrics like accuracy, precision, recall, or mean squared error are used to assess performance.  \n",
    "\n",
    "---"
   ]
  },
  {
   "cell_type": "markdown",
   "id": "a5373419",
   "metadata": {},
   "source": [
    "<div style=\"background-color: lightgreen; color: black; padding: 4px;\">\n",
    "    <h3>4. Intro to TensorFlow and Keras\n",
    "    </h3> </div>"
   ]
  },
  {
   "cell_type": "markdown",
   "id": "d9cf5c6d",
   "metadata": {},
   "source": [
    "**TensorFlow**\n",
    "\n",
    "TensorFlow is an open-source framework developed by Google for building and deploying machine learning models. \n",
    "\n",
    "It provides powerful tools for training deep learning models and is widely used in both research and industry. \n",
    "\n",
    "TensorFlow supports a range of machine learning tasks, from neural networks to more advanced models.\n",
    "\n"
   ]
  },
  {
   "cell_type": "markdown",
   "id": "c3dd2424",
   "metadata": {},
   "source": [
    "**Keras**\n",
    "\n",
    "Keras is a high-level API that sits on top of TensorFlow, making it simpler to build and train neural networks. \n",
    "\n",
    "It provides an intuitive interface for creating deep learning models with minimal code, allowing you to focus on model design rather than low-level implementation details."
   ]
  },
  {
   "cell_type": "markdown",
   "id": "7b345154",
   "metadata": {},
   "source": [
    "We’ll use TensorFlow and Keras to build and train deep learning models. You'll learn how to set up environments, implement basic neural networks, and experiment with different architectures"
   ]
  },
  {
   "cell_type": "markdown",
   "id": "b95d7fbd",
   "metadata": {},
   "source": [
    "<div style=\"background-color: lightblue; color: black; padding: 4px;\">\n",
    "    <h4> Tensorflow and Keras\n",
    "</h4> </div>"
   ]
  },
  {
   "cell_type": "markdown",
   "id": "aa7c5db8",
   "metadata": {},
   "source": [
    "Let's observe how we can quickly see them in action:"
   ]
  },
  {
   "cell_type": "code",
   "execution_count": 9,
   "id": "a42e7002",
   "metadata": {},
   "outputs": [],
   "source": [
    "# pip install tensorflow # might take upto 5 minutes to install"
   ]
  },
  {
   "cell_type": "markdown",
   "id": "df6538fb",
   "metadata": {},
   "source": []
  },
  {
   "cell_type": "code",
   "execution_count": 10,
   "id": "436ccf4f",
   "metadata": {},
   "outputs": [],
   "source": [
    "import tensorflow as tf\n",
    "from tensorflow.keras import layers, models\n"
   ]
  },
  {
   "cell_type": "markdown",
   "id": "ec866a50",
   "metadata": {},
   "source": [
    "**1. Dummy Data:** \n",
    "\n",
    "In this demonstration, we will use **dummy data** instead of a real dataset. Dummy data is simply random data generated for the purpose of illustration. In this case, we’ll create some 2D input data (features) and corresponding output data (labels or targets).\n"
   ]
  },
  {
   "cell_type": "code",
   "execution_count": 11,
   "id": "5dedfd6c",
   "metadata": {},
   "outputs": [],
   "source": [
    "import numpy as np\n",
    "\n",
    "# Dummy input data (5 data points, 2 features each)\n",
    "X_train = np.array([[1, 2], [2, 3], [3, 4], [4, 5], [5, 6]])\n",
    "\n",
    "# Dummy output data (5 target values)\n",
    "y_train = np.array([0, 1, 0, 1, 0])\n"
   ]
  },
  {
   "cell_type": "markdown",
   "id": "57da72da",
   "metadata": {},
   "source": [
    "**2. Build a Simple Model with Keras:**  \n",
    "Using Keras, we can easily define a neural network. We start by creating a **Sequential model**. This model consists of layers, where each layer performs a specific operation on the input data. In our simple model:\n",
    "- The **input layer** takes in data with 2 features.\n",
    "- The **hidden layer** processes the data and identifies patterns using 3 neurons and a ReLU activation function.\n",
    "- The **output layer** generates predictions, which in this case will be a binary value (0 or 1) using a sigmoid activation function.\n"
   ]
  },
  {
   "cell_type": "code",
   "execution_count": 12,
   "id": "306141b5",
   "metadata": {},
   "outputs": [],
   "source": [
    "model = models.Sequential([\n",
    "    layers.Dense(3, input_dim=2, activation='relu'),  # Hidden layer with 3 neurons\n",
    "    layers.Dense(1, activation='sigmoid')            # Output layer (binary classification)\n",
    "])\n"
   ]
  },
  {
   "cell_type": "markdown",
   "id": "a35e3312",
   "metadata": {},
   "source": [
    "**3. Compile the Model:**  \n",
    "Before training, the model needs to be compiled. Compiling a model means configuring the learning process by selecting an optimizer, loss function, and performance metric:\n",
    "- **Optimizer (Adam):** An algorithm to update the weights of the network to minimize the loss.\n",
    "- **Loss Function (Binary Crossentropy):** A function that measures how well the model's predictions match the actual data (suitable for binary classification).\n",
    "- **Metrics (Accuracy):** Used to evaluate the performance of the model during training.\n"
   ]
  },
  {
   "cell_type": "code",
   "execution_count": 13,
   "id": "48fd2d69",
   "metadata": {},
   "outputs": [],
   "source": [
    "model.compile(optimizer='adam',\n",
    "              loss='binary_crossentropy',\n",
    "              metrics=['accuracy'])\n"
   ]
  },
  {
   "cell_type": "markdown",
   "id": "2b42f8f2",
   "metadata": {},
   "source": [
    "**4. Train the Model:**  \n",
    "Training involves feeding the input data to the model and allowing it to adjust the weights using the loss function and optimizer. The model is trained iteratively over multiple epochs until it learns the patterns in the data.\n"
   ]
  },
  {
   "cell_type": "code",
   "execution_count": 14,
   "id": "85c3943a",
   "metadata": {},
   "outputs": [
    {
     "name": "stdout",
     "output_type": "stream",
     "text": [
      "\u001b[1m1/1\u001b[0m \u001b[32m━━━━━━━━━━━━━━━━━━━━\u001b[0m\u001b[37m\u001b[0m \u001b[1m1s\u001b[0m 834ms/step - accuracy: 0.6000 - loss: 0.6811\n"
     ]
    },
    {
     "data": {
      "text/plain": [
       "<keras.src.callbacks.history.History at 0x2631c4a0920>"
      ]
     },
     "execution_count": 14,
     "metadata": {},
     "output_type": "execute_result"
    }
   ],
   "source": [
    "model.fit(X_train, y_train, epochs=1)"
   ]
  },
  {
   "cell_type": "markdown",
   "id": "d3227ea2",
   "metadata": {},
   "source": [
    "**5. Evaluate the Model:**  \n",
    "After training, we test the model on the same dummy data to see how well it performs. We use metrics like **accuracy** to determine how well the model is making predictions compared to the actual data.\n"
   ]
  },
  {
   "cell_type": "code",
   "execution_count": 15,
   "id": "42c8b961",
   "metadata": {},
   "outputs": [
    {
     "name": "stdout",
     "output_type": "stream",
     "text": [
      "\u001b[1m1/1\u001b[0m \u001b[32m━━━━━━━━━━━━━━━━━━━━\u001b[0m\u001b[37m\u001b[0m \u001b[1m0s\u001b[0m 130ms/step - accuracy: 0.6000 - loss: 0.6805\n",
      "Model accuracy: 0.6000000238418579\n"
     ]
    }
   ],
   "source": [
    "loss, accuracy = model.evaluate(X_train, y_train)\n",
    "print(f\"Model accuracy: {accuracy}\")"
   ]
  },
  {
   "cell_type": "markdown",
   "id": "e434b478",
   "metadata": {},
   "source": [
    "Thus, accuracy is 0.4, means that the model correctly predicted 40% of the time"
   ]
  },
  {
   "cell_type": "markdown",
   "id": "7aebe19f",
   "metadata": {},
   "source": [
    "---\n",
    "Additional Reading Resources:\n",
    "\n",
    "- https://www.datacamp.com/tutorial/tensorflow-tutorial#installing-tensorflow\n",
    "- https://neptune.ai/blog/deep-learning-visualization\n"
   ]
  },
  {
   "cell_type": "markdown",
   "id": "f2185430-3791-45df-824f-bdec6d7145e3",
   "metadata": {},
   "source": [
    "<div class=\"alert alert-block alert-warning\">\n",
    "    <b><font size=\"5\"> Live Exercise</font> </b>\n",
    "</div>\n",
    "\n",
    "<!--- Mohammad Idrees Bhat | Tech Skills Trainer | AI/ML Consultant --->"
   ]
  },
  {
   "cell_type": "markdown",
   "id": "bf8d61af-f3e8-4afc-a66b-3814e160aaf3",
   "metadata": {},
   "source": [
    "Now it's your turn!\n",
    "### Task 1: description of task\n",
    "\n",
    "    - instructions"
   ]
  },
  {
   "cell_type": "markdown",
   "id": "57a91870",
   "metadata": {},
   "source": []
  },
  {
   "cell_type": "markdown",
   "id": "b69ed7ea-1940-434d-bb2d-601d07994783",
   "metadata": {},
   "source": [
    "<div style=\"background-color: lightblue; color: white; padding: 10px; text-align: center;\">\n",
    "    <h1>_________________________________END________________________________\n",
    "        <!--- Mohammad Idrees Bhat | Tech Skills Trainer | AI/ML Consultant --->\n",
    "</h1> </div>"
   ]
  },
  {
   "cell_type": "markdown",
   "id": "13e86481-eae2-4019-9515-66a43a30f0fb",
   "metadata": {},
   "source": [
    "<div style=\"background-color: #002147; color: #fff; padding: 30px; text-align: center;\">\n",
    "    <h1>THANK YOU!\n",
    "        <!--- Mohammad Idrees Bhat | Tech Skills Trainer | AI/ML Consultant --->\n",
    "</h1> </div>"
   ]
  },
  {
   "cell_type": "markdown",
   "id": "aefa2f04-f141-405d-8a9f-8cf186d66f41",
   "metadata": {},
   "source": [
    "<div style=\"background-color: lightgreen; color: black; padding: 30px;\">\n",
    "    <h4> Live Exercise Solutions\n",
    "        \n",
    "</h4> </div>"
   ]
  },
  {
   "cell_type": "code",
   "execution_count": 16,
   "id": "f1f9ddd9-5558-4b1d-a3e7-04c3dca33b6d",
   "metadata": {},
   "outputs": [
    {
     "ename": "NameError",
     "evalue": "name 'solutions' is not defined",
     "output_type": "error",
     "traceback": [
      "\u001b[1;31m---------------------------------------------------------------------------\u001b[0m",
      "\u001b[1;31mNameError\u001b[0m                                 Traceback (most recent call last)",
      "Cell \u001b[1;32mIn[16], line 1\u001b[0m\n\u001b[1;32m----> 1\u001b[0m solutions\n",
      "\u001b[1;31mNameError\u001b[0m: name 'solutions' is not defined"
     ]
    }
   ],
   "source": [
    "solutions"
   ]
  },
  {
   "cell_type": "markdown",
   "id": "36f2d487-56ef-4c22-a1c9-d25e9df33e37",
   "metadata": {},
   "source": [
    "<div class=\"alert alert-block alert-warning\"  padding: 10px; text-align: center;\">\n",
    "    <font size=\"3\"> Programming Interveiw Questions</font>\n",
    "</div>"
   ]
  },
  {
   "cell_type": "markdown",
   "id": "d4e08c3f-3e5b-46a6-9fbb-456cbd850553",
   "metadata": {},
   "source": [
    "1. topic:\n",
    "    - question"
   ]
  },
  {
   "cell_type": "code",
   "execution_count": null,
   "id": "ee2b86c1-64b0-4abd-8ba9-54746bdc9007",
   "metadata": {},
   "outputs": [],
   "source": []
  },
  {
   "cell_type": "markdown",
   "id": "5454f2e3-4fa4-48f9-936a-35be52d769af",
   "metadata": {},
   "source": [
    "<!--- Mohammad Idrees Bhat | Mohammad Idrees Bhat --->"
   ]
  },
  {
   "cell_type": "markdown",
   "id": "3e92ba4c-672c-4e9f-b842-2b2d9234e5ff",
   "metadata": {},
   "source": [
    "<h2 style=\"background-color: #ffe4e1; color: #2f4f4f; padding: 10px; border-radius: 10px; width: 350px; text-align: center; float: right; margin: 20px 0;\">\n",
    "    Mohammad Idrees Bhat<br>\n",
    "    <span style=\"font-size: 12px; color: #696969;\">\n",
    "        Tech Skills Trainer | AI/ML Consultant\n",
    "    </span>\n",
    "</h2>"
   ]
  },
  {
   "cell_type": "markdown",
   "id": "15cc27b3-58d0-431e-8121-f1b4c08377c7",
   "metadata": {},
   "source": [
    "<!--- Mohammad Idrees Bhat | Tech Skills Trainer | AI/ML Consultant --->"
   ]
  }
 ],
 "metadata": {
  "kernelspec": {
   "display_name": "Python 3 (ipykernel)",
   "language": "python",
   "name": "python3"
  },
  "language_info": {
   "codemirror_mode": {
    "name": "ipython",
    "version": 3
   },
   "file_extension": ".py",
   "mimetype": "text/x-python",
   "name": "python",
   "nbconvert_exporter": "python",
   "pygments_lexer": "ipython3",
   "version": "3.12.4"
  }
 },
 "nbformat": 4,
 "nbformat_minor": 5
}
