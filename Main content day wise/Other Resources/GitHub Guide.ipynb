{
 "cells": [
  {
   "cell_type": "markdown",
   "id": "8c4bc666-34a1-47b6-8018-1ad79dafae95",
   "metadata": {},
   "source": [
    "<div style=\"background-color: #add8e6; padding: 10px; height: 70px; border-radius: 15px;\">\n",
    "    <div style=\"font-family: 'Georgia', serif; font-size: 20px; padding: 10px; text-align: right; position: absolute; right: 50px;\">\n",
    "        Mohammad Idrees Bhat <br>\n",
    "        <span style=\"font-family: 'Arial', sans-serif;font-size: 12px; color: #0a0a0a;\">Tech Skills Trainer | AI/ML Consultant</span> <!--- Mohammad Idrees Bhat | Tech Skills Trainer | AI/ML Consultant --->\n",
    "    </div>\n",
    "</div>"
   ]
  },
  {
   "cell_type": "markdown",
   "id": "151ad3d8-0bce-4e29-86da-5ea91b5a69df",
   "metadata": {},
   "source": [
    "<div style=\"background-color: #002147; padding: 10px; text-align: center; color: white; font-size: 32px; font-family: 'Arial', sans-serif; border-radius: 100px;\">\n",
    "    GitHub <br>\n",
    "    <h3 style=\"text-align: center; color: white; font-size: 15px; font-family: 'Arial', sans-serif;\"> A brief guide </h3>\n",
    "</div\n"
   ]
  },
  {
   "cell_type": "markdown",
   "id": "19b1c30b-e766-4658-8d70-1b0af10ae2f4",
   "metadata": {},
   "source": [
    "<!-- Link the Montserrat font -->\n",
    "<link href=\"https://fonts.googleapis.com/css2?family=Montserrat:wght@700&display=swap\" rel=\"stylesheet\">\n",
    "\n",
    "<!-- Main div with centered content and a flexible box size, no scroll bar -->\n",
    "<div style=\"background-color: #baf733; min-height: 100%; width: 100%; display: flex; justify-content: center; align-items: center; position: relative; padding: 20px; box-sizing: border-box; font-family: 'Montserrat', sans-serif; font-weight: 700; font-size: 20px; border-radius: 15px;\">\n",
    "    <div style=\"position: absolute; top: 10px; right: 10px; padding: 5px 10px; font-size: 14px; color: rgba(0, 0, 0, 0.05); border-radius: 10px;\">Mohammad Idrees Bhat</div>\n",
    "    <!-- Fill the below text with question -->\n",
    "    <!-- Fill the below text with question -->\n",
    "    <!-- Fill the above text with question -->\n",
    "    <!-- Fill the above text with question -->\n",
    "</div>"
   ]
  },
  {
   "cell_type": "markdown",
   "id": "53ec8637",
   "metadata": {},
   "source": [
    "<div style=\"background-color: lightgreen; color: black; padding: 4px;\">\n",
    "    <h3> Introduction to GitHub\n",
    "</h3> </div>"
   ]
  },
  {
   "cell_type": "markdown",
   "id": "9a9a0a74-0cc3-4ae6-bda6-0a4fee696267",
   "metadata": {},
   "source": [
    "GitHub is a platform that simplifies collaboration and version control, primarily for software development projects, though it can be used for any kind of collaborative project. \n",
    "\n",
    "It builds upon Git, the most widely used distributed version control system, and provides a web-based interface that enhances Git’s capabilities with features such as bug tracking, project management, continuous integration (CI), and much more.\n",
    "\n",
    "Key Concepts:\n",
    "\n",
    "**1. Version Control:**\n",
    "\n",
    "- A way to track changes in your files and revert to specific versions when necessary. It allows multiple people to collaborate on a project without overriding each other's work."
   ]
  },
  {
   "cell_type": "markdown",
   "id": "9449272e-ed7b-468a-9072-1a30e8af007a",
   "metadata": {},
   "source": [
    "**2. Git:**\n",
    "   - Git is a distributed version control system that lets you manage and track the history of your code. It's used to handle the collaboration between team members and enables efficient project management.\n",
    "\n",
    "    - GitHub is a hosting platform for repositories created with Git. It adds extra functionality like a web interface and tools for team collaboration."
   ]
  },
  {
   "cell_type": "markdown",
   "id": "634ba04f-2b06-4f00-a044-bf5194644036",
   "metadata": {},
   "source": [
    "**3. Repository (Repo):**\n",
    "   - A repository is like a project folder that contains all of your project’s files and the complete revision history of each file. A repository can either be stored locally on your computer or remotely on GitHub."
   ]
  },
  {
   "cell_type": "markdown",
   "id": "b5278f89-e806-4d71-8cd8-542f7e4442c8",
   "metadata": {},
   "source": [
    "**4. Commit:**\n",
    "   - A commit is like a snapshot of your repository at a specific point in time. Every time you make changes and want to save them, you create a commit with a message explaining what was changed."
   ]
  },
  {
   "cell_type": "markdown",
   "id": "68abf922-a832-4f82-985e-87e1ad5d6848",
   "metadata": {},
   "source": [
    "**5. Branch:**\n",
    "   - A branch is an independent line of development. You can use branches to work on different features, bug fixes, or experiments without affecting the main part of your project. Once the work is completed, you can merge it back into the main branch."
   ]
  },
  {
   "cell_type": "markdown",
   "id": "9e2f4f72-2e0a-4163-9e35-2c4e2b345c9c",
   "metadata": {},
   "source": [
    "**6. Fork:**\n",
    "   - A fork is a personal copy of another user's repository. Forking a repository allows you to freely experiment with changes without affecting the original project."
   ]
  },
  {
   "cell_type": "markdown",
   "id": "cd1c103f-876a-443b-baee-742bb3924c75",
   "metadata": {},
   "source": [
    "**7. GitHub Projects:**\n",
    "   - GitHub Projects is a feature that allows you to organize and track the progress of your work in a project board, similar to a Kanban board. It integrates with GitHub Issues and Pull Requests to streamline project management."
   ]
  },
  {
   "cell_type": "markdown",
   "id": "38a4da27",
   "metadata": {},
   "source": [
    "<div style=\"background-color: lightgreen; color: black; padding: 4px;\">\n",
    "    <h3> Commonly Used Commands\n",
    "</h3> </div>"
   ]
  },
  {
   "cell_type": "markdown",
   "id": "508d56c7",
   "metadata": {},
   "source": [
    "- `git config --global user.name \"Your Name\"`  \n",
    "  _Sets the global username for Git._\n",
    "- `git config --global user.email \"you@example.com\"`  \n",
    "  _Sets the global email for Git._\n",
    "- `git init`  \n",
    "  _Initializes a new Git repository._\n",
    "- `git clone <repo-url>`  \n",
    "  _Clones a repository from a remote URL._  \n",
    "  Example: `git clone https://github.com/username/repo.git`\n",
    "- `git branch`  \n",
    "  _Lists, creates, or deletes branches._\n",
    "- `git checkout <branch>`  \n",
    "  _Switches to a different branch._  \n",
    "  Example: `git checkout feature-branch`\n",
    "- `git merge <branch>`  \n",
    "  _Merges the specified branch into the current branch._\n",
    "- `git rebase <branch>`  \n",
    "  _Reapplies commits on top of another branch._\n",
    "- `git add <file>`  \n",
    "  _Stages a file for the next commit._\n",
    "- `git commit -m \"message\"`  \n",
    "  _Commits staged changes with a message._\n",
    "- `git status`  \n",
    "  _Shows the current state of the working directory and staging area._\n",
    "- `git diff`  \n",
    "  _Displays changes between the working directory and the last commit._\n",
    "- `git log`  \n",
    "  _Shows a log of all commits made in the repository._\n",
    "- `git push`  \n",
    "  _Pushes commits to a remote repository._\n",
    "- `git pull`  \n",
    "  _Fetches and merges changes from the remote repository._\n",
    "- `git fetch`  \n",
    "  _Downloads changes from a remote repository without merging._\n",
    "- `git remote -v`  \n",
    "  _Lists all remote connections (URLs of repositories)._\n",
    "- `git stash`  \n",
    "  _Temporarily saves uncommitted changes._\n",
    "- `git stash pop`  \n",
    "  _Restores previously stashed changes._\n",
    "- `git reset <file>`  \n",
    "  _Removes a file from the staging area._\n",
    "- `git rm <file>`  \n",
    "  _Deletes a file from both the working directory and the Git index._\n"
   ]
  },
  {
   "cell_type": "markdown",
   "id": "5f2800db-e384-470c-9c9e-ded21e2c4ded",
   "metadata": {},
   "source": [
    "<div style=\"background-color: lightgreen; color: black; padding: 4px;\">\n",
    "    <h3> Setting Up Git and GitHub\n",
    "</h3> </div>"
   ]
  },
  {
   "cell_type": "markdown",
   "id": "e4fd7c16-4d5b-4c7c-9048-5c68cd264bf3",
   "metadata": {},
   "source": [
    "Before you start using GitHub, you need to install and configure Git on your machine. Follow these essential steps to get up and running quickly.\n",
    "\n",
    "**1. Installing Git**\n",
    "\n",
    "- **Windows**: Download Git from [Git for Windows](https://git-scm.com/download/win) and follow the installation instructions.\n",
    "- **macOS**: Use Homebrew in the terminal:\n",
    "  ```bash\n",
    "  brew install git\n",
    "- **Linux**: Install git using:\n",
    "  ```bash\n",
    "  sudo apt-get install git  # Ubuntu/Debian\n",
    "  sudo yum install git      # CentOS/Fedor"
   ]
  },
  {
   "cell_type": "markdown",
   "id": "53f66a5f-c432-4e51-8c48-c5fe26f1ed22",
   "metadata": {},
   "source": [
    "**2. Configuring Git**\n",
    "\n",
    "- Set your user information:\n",
    "  ```bash\n",
    "  git config --global user.name \"Your Name\"\n",
    "  git config --global user.email \"your_email@example.com\"\n",
    "\n",
    "- Verify the configuration with:\n",
    "  ```bash\n",
    "  git config --list\n",
    "\n",
    "This command will display all your current Git configuration settings, including your username, email, and any other settings you've configured globally or locally. It's a useful way to confirm that Git is set up correctly on your machine."
   ]
  },
  {
   "cell_type": "markdown",
   "id": "b8cb6dbf-8d7c-4d7b-9862-ee945c270263",
   "metadata": {},
   "source": [
    "<div style=\"background-color: lightgreen; color: black; padding: 4px;\">\n",
    "    <h3> Creating repository\n",
    "</h3> </div>"
   ]
  },
  {
   "cell_type": "markdown",
   "id": "2480a5ec-d097-493b-9d08-37287ebb0cbe",
   "metadata": {},
   "source": [
    "You can create a GitHub repository directly from the GitHub website or from the command line using Git. Here's how:\n",
    "\n",
    "**Method 1: Creating a Repository on GitHub (Website)**\n",
    "\n",
    "- **Step 1: Go to GitHub**  \n",
    "  Log in to your [GitHub account](https://github.com) and navigate to the **Repositories** tab.\n",
    "\n",
    "- **Step 2: Click \"New\"**  \n",
    "  Click the **New** button to create a new repository.\n",
    "\n",
    "- **Step 3: Fill in Repository Details**  \n",
    "  - **Repository name**: Choose a descriptive name for your project.\n",
    "  - **Description (optional)**: Add a short description of your project.\n",
    "  - **Public/Private**: Select whether the repository will be public (anyone can see it) or private (only you and people you invite can see it).\n",
    "  - **Initialize with a README**: You can choose to automatically create a README file, which is usually the main entry point for your project documentation.\n",
    "\n",
    "- **Step 4: Create the Repository**  \n",
    "  Click **Create repository** to finish."
   ]
  },
  {
   "attachments": {
    "image.png": {
     "image/png": "[encoded data removed]"
    }
   },
   "cell_type": "markdown",
   "id": "cc14002d-9399-4fa0-ba44-e33ef426ae17",
   "metadata": {},
   "source": [
    "**Method 2: Creating a Repository Using Git (Locally)**\n",
    "\n",
    "If you prefer to create a repository on your local machine and push it to GitHub later, follow these steps. You'll need to have Git installed and a terminal (or Git Bash for Windows) to execute these commands.\n",
    "\n",
    "1. **Create a new directory locally**  \n",
    "   Navigate to the folder where you want to create your project and create a new directory. Use git bash for this activity, which must be installed on your system. This step will create a folder on your system.\n",
    "\n",
    "   \n",
    "![image.png](attachment:image.png)"
   ]
  },
  {
   "cell_type": "markdown",
   "id": "e85918ae-a731-4ca6-85e3-83547a27c1be",
   "metadata": {},
   "source": [
    "```bash\n",
    "   mkdir new-repo-name // use a name for this folder\n",
    "   cd new-repo-name // enter your newly made folder\n",
    "```\n",
    "\n",
    "2. **Initialize a Git repository**\n",
    "\n",
    "   Initialize Git in this new directory:\n",
    "\n",
    "   ```bash\n",
    " \n",
    "   git init\n",
    "   ```\n",
    "\n",
    "\n",
    "   This command creates a hidden .git folder, marking it as a Git repository."
   ]
  },
  {
   "cell_type": "markdown",
   "id": "3d76ce1b-c6b7-4964-82d9-df3573cd7ba9",
   "metadata": {},
   "source": [
    "3. **Add your project files** \n",
    "\n",
    "If you already have files in the folder, you can add them to the repository:\n",
    "``` bash\n",
    "git add . \n",
    "\n",
    "```\n",
    "\n",
    "4. **Commit the files** \n",
    "\n",
    "If you already have files in the folder, you can add them to the repository:\n",
    "``` bash\n",
    "git commit -m \"Initial commit\"\n",
    "```\n",
    "\n",
    "5. **Link to a remote GitHub repository** \n",
    "\n",
    "Now, you need to link your local repository to a remote GitHub repository. First, create a repository on GitHub (without initializing it with any files). Once the repository is created, you'll get the repository URL. Add it as the remote origin for your local repo:\n",
    "``` bash\n",
    "git remote add origin git@github.com:yourusername/repo-name.git\n",
    "\n",
    "```\n",
    "\n",
    "You can replace the yourusername/repo-name.git with the repository link that you get from GitHub.\n",
    "\n",
    "6. **Push your changes to GitHub** \n",
    "\n",
    "Push your local repository to the remote GitHub repository:\n",
    "\n",
    "``` bash\n",
    "git push -u origin master\n",
    "\n",
    "```"
   ]
  },
  {
   "cell_type": "markdown",
   "id": "2503d3dd-b3aa-4478-8a27-8165edfc6ee1",
   "metadata": {},
   "source": [
    "<div style=\"background-color: lightgreen; color: black; padding: 4px;\">\n",
    "    <h3> Pushing and Pulling Changes to GitHub\n",
    "</h3> </div>"
   ]
  },
  {
   "cell_type": "markdown",
   "id": "ac6f9bb6-c467-4b4a-8f13-4ec9b2b49c91",
   "metadata": {},
   "source": [
    "Pushing and pulling changes are crucial Git operations that allow you to sync your local repository with a remote repository (like GitHub).\n",
    "\n",
    "#### 1. Pushing Changes to GitHub\n",
    "\n",
    "1. **Commit Your Local Changes**\n",
    "   - Before pushing, make sure all your changes are committed locally:\n",
    "     ```bash\n",
    "     git add .\n",
    "     git commit -m \"Commit message\"\n",
    "     ```\n",
    "   - `git add .` stages all modified files for commit.\n",
    "   - `git commit -m \"Commit message\"` commits those changes with a message describing what was changed.\n",
    "\n",
    "2. **Push to GitHub**\n",
    "   - To push your changes to the remote repository on GitHub, run:\n",
    "     ```bash\n",
    "     git push origin master\n",
    "     ```\n",
    "     - `origin`: Refers to the default name of the remote repository.\n",
    "     - `master`: The branch you're pushing to (replace `master` with the appropriate branch name if necessary).\n",
    "\n",
    "---\n",
    "\n",
    "#### 2. Pulling Changes from GitHub\n",
    "\n",
    "1. **Pull Changes from GitHub**\n",
    "   - To fetch and merge changes from the remote repository into your local repository, use:\n",
    "     ```bash\n",
    "     git pull origin master\n",
    "     ```\n",
    "     - This command pulls updates from the remote `master` branch and merges them into your local repository.\n",
    "\n",
    "2. **Resolve Conflicts (If Any)**\n",
    "   - If there are conflicts between the remote and local changes, Git will notify you, and you'll need to manually resolve them before committing the changes:\n",
    "     ```bash\n",
    "     git add .\n",
    "     git commit -m \"Resolved conflicts\"\n",
    "     ```\n",
    "\n",
    "- **Push**: Sends your local changes to the remote repository on GitHub.\n",
    "- **Pull**: Fetches changes from the remote repository and merges them into your local repository.\n"
   ]
  },
  {
   "cell_type": "markdown",
   "id": "4ca5dd6a-3c46-4a8e-a32f-4a39d2244e66",
   "metadata": {},
   "source": [
    "<div style=\"background-color: lightgreen; color: black; padding: 4px;\">\n",
    "    <h3> Most commonly used Git commands\n",
    "</h3> </div>"
   ]
  },
  {
   "cell_type": "markdown",
   "id": "89a97607",
   "metadata": {},
   "source": [
    "### 1. **Configuration Commands**  \n",
    "These commands set up your Git environment and are critical before starting any Git project.\n",
    "\n",
    "- `git config --global user.name \"Your Name\"` - Sets the global username.  \n",
    "  Example: `git config --global user.name \"John Doe\"`\n",
    "\n",
    "- `git config --global user.email \"you@example.com\"` - Sets the global email.  \n",
    "  Example: `git config --global user.email \"john@example.com\"`\n",
    "\n",
    "---\n",
    "\n",
    "### 2. **Repository Setup and Initialization**  \n",
    "These commands help initialize and clone repositories, setting up your workspace.\n",
    "\n",
    "- `git init` - Initializes a new Git repository.  \n",
    "\n",
    "- `git clone <repo-url>` - Clones a repository from a remote URL.  \n",
    "  Example: `git clone https://github.com/username/repo.git`\n",
    "\n",
    "---\n",
    "\n",
    "### 3. **Branching and Merging**  \n",
    "These commands allow you to manage different versions of your project using branches and merge them as needed.\n",
    "\n",
    "- `git branch` - Lists, creates, or deletes branches.  \n",
    "  Example: `git branch` (List), `git branch new-branch` (Create)\n",
    "\n",
    "- `git checkout <branch>` - Switches to a specific branch.  \n",
    "  Example: `git checkout feature-branch`\n",
    "\n",
    "- `git merge <branch>` - Merges a branch into the current branch.  \n",
    "  Example: `git merge feature-branch`\n",
    "\n",
    "- `git rebase <branch>` - Reapplies commits on top of another branch.  \n",
    "  Example: `git rebase main`\n",
    "\n",
    "---\n",
    "\n",
    "### 4. **Making Changes (Staging and Committing)**  \n",
    "These commands help you track changes to your files and prepare them for saving in the repository.\n",
    "\n",
    "- `git add <file>` - Stages a file for the next commit.  \n",
    "  Example: `git add filename.txt`\n",
    "\n",
    "- `git commit -m \"message\"` - Commits staged changes with a message.  \n",
    "  Example: `git commit -m \"Initial commit\"`\n",
    "\n",
    "---\n",
    "\n",
    "### 5. **Viewing and Managing Changes**  \n",
    "These commands allow you to check the status of changes and view commit history.\n",
    "\n",
    "- `git status` - Shows the current state of the working directory and staging area.  \n",
    "\n",
    "- `git diff` - Shows changes between commits, branches, or working directory.  \n",
    "\n",
    "- `git log` - Displays the commit history.  \n",
    "\n",
    "---\n",
    "\n",
    "### 6. **Remote Repositories (Syncing with Others)**  \n",
    "These commands help manage connections to remote repositories and fetch/push changes.\n",
    "\n",
    "- `git push` - Pushes commits to a remote repository.  \n",
    "  Example: `git push origin main`\n",
    "\n",
    "- `git pull` - Fetches and merges changes from the remote repository.  \n",
    "  Example: `git pull origin main`\n",
    "\n",
    "- `git fetch` - Downloads changes from a remote repository without merging.  \n",
    "  Example: `git fetch origin`\n",
    "\n",
    "- `git remote -v` - Lists all remote repository connections.\n",
    "\n",
    "---\n",
    "\n",
    "### 7. **Stashing and Resetting**  \n",
    "These commands allow you to temporarily save work or remove files from the staging area.\n",
    "\n",
    "- `git stash` - Temporarily saves uncommitted changes.  \n",
    "\n",
    "- `git stash pop` - Restores stashed changes.  \n",
    "\n",
    "- `git reset <file>` - Removes a file from the staging area.  \n",
    "  Example: `git reset filename.txt`\n",
    "\n",
    "---\n",
    "\n",
    "### 8. **File Management**  \n",
    "These commands deal with file operations in Git.\n",
    "\n",
    "- `git rm <file>` - Deletes a file from both working directory and Git index.  \n",
    "  Example: `git rm filename.txt`\n"
   ]
  },
  {
   "cell_type": "markdown",
   "id": "2bdfdbc6-0ea7-48e2-b9af-997cc28bcebb",
   "metadata": {},
   "source": [
    "- Another good resource - A visual Git Guide\n",
    "\n",
    "https://marklodato.github.io/visual-git-guide/index-en.html\n",
    "\n",
    "\n"
   ]
  },
  {
   "cell_type": "markdown",
   "id": "13e86481-eae2-4019-9515-66a43a30f0fb",
   "metadata": {},
   "source": [
    "<div style=\"background-color: #002147; color: #fff; padding: 30px; text-align: center;\">\n",
    "    <h1>THANK YOU!\n",
    "        <!--- Mohammad Idrees Bhat | Tech Skills Trainer | AI/ML Consultant --->\n",
    "</h1> </div>"
   ]
  },
  {
   "cell_type": "markdown",
   "id": "5454f2e3-4fa4-48f9-936a-35be52d769af",
   "metadata": {},
   "source": [
    "<!--- Mohammad Idrees Bhat | Mohammad Idrees Bhat --->"
   ]
  },
  {
   "cell_type": "markdown",
   "id": "3e92ba4c-672c-4e9f-b842-2b2d9234e5ff",
   "metadata": {},
   "source": [
    "<h2 style=\"background-color: #ffe4e1; color: #2f4f4f; padding: 10px; border-radius: 10px; width: 350px; text-align: center; float: right; margin: 20px 0;\">\n",
    "    Mohammad Idrees Bhat<br>\n",
    "    <span style=\"font-size: 12px; color: #696969;\">\n",
    "        Tech Skills Trainer | AI/ML Consultant\n",
    "    </span>\n",
    "</h2>"
   ]
  },
  {
   "cell_type": "markdown",
   "id": "15cc27b3-58d0-431e-8121-f1b4c08377c7",
   "metadata": {},
   "source": [
    "<!--- Mohammad Idrees Bhat | Tech Skills Trainer | AI/ML Consultant --->"
   ]
  }
 ],
 "metadata": {
  "kernelspec": {
   "display_name": "Python 3 (ipykernel)",
   "language": "python",
   "name": "python3"
  },
  "language_info": {
   "codemirror_mode": {
    "name": "ipython",
    "version": 3
   },
   "file_extension": ".py",
   "mimetype": "text/x-python",
   "name": "python",
   "nbconvert_exporter": "python",
   "pygments_lexer": "ipython3",
   "version": "3.12.4"
  }
 },
 "nbformat": 4,
 "nbformat_minor": 5
}
