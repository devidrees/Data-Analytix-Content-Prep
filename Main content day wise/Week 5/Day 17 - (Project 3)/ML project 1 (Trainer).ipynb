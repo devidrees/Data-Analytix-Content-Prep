{
 "cells": [
  {
   "cell_type": "markdown",
   "id": "8c4bc666-34a1-47b6-8018-1ad79dafae95",
   "metadata": {},
   "source": [
    "<div style=\"background-color: #add8e6; padding: 10px; height: 70px; border-radius: 15px;\">\n",
    "    <div style=\"font-family: 'Georgia', serif; font-size: 20px; padding: 10px; text-align: right; position: absolute; right: 50px;\">\n",
    "        Mohammad Idrees Bhat <br>\n",
    "        <span style=\"font-family: 'Arial', sans-serif;font-size: 12px; color: #0a0a0a;\">Tech Skills Trainer | AI/ML Consultant</span> <!--- Mohammad Idrees Bhat | Tech Skills Trainer | AI/ML Consultant --->\n",
    "    </div>\n",
    "</div>"
   ]
  },
  {
   "cell_type": "markdown",
   "id": "ef444d2e-97e9-49a8-bf3d-0119a2dfebb5",
   "metadata": {},
   "source": [
    "<!--- Mohammad Idrees Bhat | Tech Skills Trainer | AI/ML Consultant --->"
   ]
  },
  {
   "cell_type": "markdown",
   "id": "151ad3d8-0bce-4e29-86da-5ea91b5a69df",
   "metadata": {},
   "source": [
    "<div style=\"background-color: #002147; padding: 10px; text-align: center; color: white; font-size: 32px; font-family: 'Arial', sans-serif; border-radius: 100px;\">\n",
    "    Zillow Predictive Power <br>\n",
    "    <h3 style=\"text-align: center; color: white; font-size: 15px; font-family: 'Arial', sans-serif;\">  House Price Prediction Model</h3>\n",
    "</div\n"
   ]
  },
  {
   "cell_type": "markdown",
   "id": "19b1c30b-e766-4658-8d70-1b0af10ae2f4",
   "metadata": {},
   "source": [
    "<!-- Link the Montserrat font -->\n",
    "<link href=\"https://fonts.googleapis.com/css2?family=Montserrat:wght@700&display=swap\" rel=\"stylesheet\">\n",
    "\n",
    "<!-- Main div with centered content and a flexible box size, no scroll bar -->\n",
    "<div style=\"background-color: #baf733; min-height: 100%; width: 100%; display: flex; justify-content: center; align-items: center; position: relative; padding: 20px; box-sizing: border-box; font-family: 'Montserrat', sans-serif; font-weight: 700; font-size: 20px; border-radius: 15px;\">\n",
    "    <div style=\"position: absolute; top: 10px; right: 10px; padding: 5px 10px; font-size: 14px; color: rgba(0, 0, 0, 0.05); border-radius: 10px;\">Mohammad Idrees Bhat</div>\n",
    "    <!-- Fill the below text with question -->\n",
    "    <!-- Fill the below text with question -->\n",
    "    <!-- Fill the above text with question -->\n",
    "    <!-- Fill the above text with question -->\n",
    "</div>"
   ]
  },
  {
   "cell_type": "markdown",
   "id": "53ec8637",
   "metadata": {},
   "source": [
    "<div style=\"background-color: lightgreen; color: black; padding: 4px;\">\n",
    "    <h3> PROJECT DESCRIPTION \n",
    "</h3> </div>"
   ]
  },
  {
   "cell_type": "markdown",
   "id": "9a9a0a74-0cc3-4ae6-bda6-0a4fee696267",
   "metadata": {},
   "source": [
    "The goal of this project is to build and evaluate a regression model to predict house prices using the \"Ames Housing\" dataset from Kaggle. \n",
    "\n",
    "Students will apply supervised learning techniques to develop and refine their models, analyzing the results to improve accuracy."
   ]
  },
  {
   "cell_type": "markdown",
   "id": "5f2800db-e384-470c-9c9e-ded21e2c4ded",
   "metadata": {},
   "source": [
    "<div style=\"background-color: lightgreen; color: black; padding: 4px;\">\n",
    "    <h3> PROJECT DELIVERABLES\n",
    "</h3> </div>"
   ]
  },
  {
   "cell_type": "markdown",
   "id": "f7e91682-272f-4380-89f9-25897439e77f",
   "metadata": {},
   "source": [
    "1. Model Code\n",
    "2. Evaluation Metric\n",
    "3. Jupyter Notebook - Well documented ipynb that includes:\n",
    "    - Data exploration and preprocessing steps\n",
    "    - Model training and evaluation results\n",
    "    - Conclusions and future improvement suggestions"
   ]
  },
  {
   "cell_type": "markdown",
   "id": "b8cb6dbf-8d7c-4d7b-9862-ee945c270263",
   "metadata": {},
   "source": [
    "<div style=\"background-color: lightgreen; color: black; padding: 4px;\">\n",
    "    <h3> FURTHER INSTRUCTIONS\n",
    "</h3> </div>"
   ]
  },
  {
   "cell_type": "markdown",
   "id": "146b6c1b-15ff-45bd-9643-790cbc3d958a",
   "metadata": {},
   "source": [
    "1. Familiarize yourself with the dataset.\n",
    "2. Load and explore the data.\n",
    "3. Clean the data.\n",
    "4. Handle missing values.\n",
    "5. Convert categorical variables to numerical.\n",
    "6. Select relevant features.\n",
    "7. Split the data into training and testing sets.\n",
    "8. Choose a model.\n",
    "9. Train your model.\n",
    "10. Evaluate your model's performance.\n",
    "11. Optimize model parameters.\n",
    "12. Document your process in a Jupyter Notebook.\n",
    "13. Create visualizations to support your findings.\n",
    "14. Summarize key insights and conclusions.\n",
    "15. Review your notebook for clarity and completeness.\n",
    "16. Prepare your final submission materials.\n"
   ]
  },
  {
   "cell_type": "markdown",
   "id": "b0a16df5",
   "metadata": {},
   "source": [
    "<div style=\"background-color: lightgreen; color: black; padding: 4px;\">\n",
    "    <h3> SOLUTION\n",
    "</h3> </div>"
   ]
  },
  {
   "cell_type": "code",
   "execution_count": null,
   "id": "941f1cf1",
   "metadata": {},
   "outputs": [],
   "source": [
    "# Import necessary libraries\n",
    "import pandas as pd  # For data manipulation and analysis\n",
    "import numpy as np  # For numerical operations\n",
    "import sklearn\n",
    "from sklearn.model_selection import train_test_split  # To split the dataset\n",
    "from sklearn.linear_model import LinearRegression  # A simple regression model\n",
    "from sklearn.metrics import root_mean_squared_error,r2_score  # For model evaluation\n",
    "import matplotlib.pyplot as plt  # For data visualization\n",
    "import seaborn as sns  # For enhanced visualization\n",
    "\n",
    "# Load the dataset\n",
    "# Replace 'path_to_your_dataset.csv' with the actual path to your dataset\n",
    "# For example, you might have a file named 'ames_housing.csv' in your directory\n",
    "data = pd.read_csv('your_dataset.csv')\n",
    "\n",
    "# Explore the dataset\n",
    "print(\"Dataset Shape:\", data.shape)  # Print the dimensions of the dataset\n",
    "print(data.head())  # Print the first few rows of the dataset for a quick overview\n",
    "\n",
    "# Data Cleaning\n",
    "# Check for missing values\n",
    "print(\"Missing Values:\", data.isnull().sum())  # Print the count of missing values for each column\n",
    "\n",
    "# Drop rows with missing target values (house prices)\n",
    "data.dropna(subset=['SalePrice'], inplace=True)\n",
    "\n",
    "# Fill missing values for other columns with the mean (you can choose different strategies)\n",
    "data.fillna(data.mean(), inplace=True)\n",
    "\n",
    "# Feature Selection\n",
    "# Selecting features that are likely to affect house prices\n",
    "# Here we will assume 'GrLivArea' (Ground Living Area) and 'GarageCars' (Number of Cars Garage Holds) are our features\n",
    "X = data[['GrLivArea', 'GarageCars']]  # Features\n",
    "y = data['SalePrice']  # Target variable (house prices)\n",
    "\n",
    "# Split the dataset into training and testing sets\n",
    "# test_size=0.2 means 20% of the data will be used for testing\n",
    "X_train, X_test, y_train, y_test = train_test_split(X, y, test_size=0.2, random_state=0)\n",
    "\n",
    "# Model Training\n",
    "# Initialize the Linear Regression model\n",
    "model = LinearRegression()\n",
    "# Fit the model on the training data\n",
    "model.fit(X_train, y_train)\n",
    "\n",
    "# Model Evaluation\n",
    "# Make predictions on the test data\n",
    "y_pred = model.predict(X_test)\n",
    "\n",
    "# Calculate evaluation metrics\n",
    "mse = root_mean_squared_error(y_test, y_pred)  # Mean Squared Error\n",
    "r2 = r2_score(y_test, y_pred)  # R-squared score\n",
    "\n",
    "# Print evaluation metrics\n",
    "print(f\"Mean Squared Error: {mse:.2f}\")\n",
    "print(f\"R-squared Score: {r2:.2f}\")\n",
    "\n",
    "# Visualize the results\n",
    "plt.figure(figsize=(10, 6))\n",
    "sns.scatterplot(x=y_test, y=y_pred)  # Scatter plot of actual vs predicted prices\n",
    "plt.xlabel('Actual Prices')\n",
    "plt.ylabel('Predicted Prices')\n",
    "plt.title('Actual vs Predicted House Prices')\n",
    "plt.plot([y.min(), y.max()], [y.min(), y.max()], '--', color='red')  # Diagonal line for perfect predictions\n",
    "plt.show()\n",
    "\n",
    "# End of program\n"
   ]
  },
  {
   "cell_type": "markdown",
   "id": "b69ed7ea-1940-434d-bb2d-601d07994783",
   "metadata": {},
   "source": [
    "<div style=\"background-color: lightblue; color: white; padding: 10px; text-align: center;\">\n",
    "    <h1>____________________         BEST OF LUCK   ...  :)        _____________________\n",
    "        <!--- Mohammad Idrees Bhat | Tech Skills Trainer | AI/ML Consultant --->\n",
    "</h1> </div>"
   ]
  },
  {
   "cell_type": "markdown",
   "id": "13e86481-eae2-4019-9515-66a43a30f0fb",
   "metadata": {},
   "source": [
    "<div style=\"background-color: #002147; color: #fff; padding: 30px; text-align: center;\">\n",
    "    <h1>THANK YOU!\n",
    "        <!--- Mohammad Idrees Bhat | Tech Skills Trainer | AI/ML Consultant --->\n",
    "</h1> </div>"
   ]
  },
  {
   "cell_type": "markdown",
   "id": "5454f2e3-4fa4-48f9-936a-35be52d769af",
   "metadata": {},
   "source": [
    "<!--- Mohammad Idrees Bhat | Mohammad Idrees Bhat --->"
   ]
  },
  {
   "cell_type": "markdown",
   "id": "3e92ba4c-672c-4e9f-b842-2b2d9234e5ff",
   "metadata": {},
   "source": [
    "<h2 style=\"background-color: #ffe4e1; color: #2f4f4f; padding: 10px; border-radius: 10px; width: 350px; text-align: center; float: right; margin: 20px 0;\">\n",
    "    Mohammad Idrees Bhat<br>\n",
    "    <span style=\"font-size: 12px; color: #696969;\">\n",
    "        Tech Skills Trainer | AI/ML Consultant\n",
    "    </span>\n",
    "</h2>"
   ]
  },
  {
   "cell_type": "markdown",
   "id": "15cc27b3-58d0-431e-8121-f1b4c08377c7",
   "metadata": {},
   "source": [
    "<!--- Mohammad Idrees Bhat | Tech Skills Trainer | AI/ML Consultant --->"
   ]
  }
 ],
 "metadata": {
  "kernelspec": {
   "display_name": "DABatch",
   "language": "python",
   "name": "python3"
  },
  "language_info": {
   "codemirror_mode": {
    "name": "ipython",
    "version": 3
   },
   "file_extension": ".py",
   "mimetype": "text/x-python",
   "name": "python",
   "nbconvert_exporter": "python",
   "pygments_lexer": "ipython3",
   "version": "3.12.5"
  }
 },
 "nbformat": 4,
 "nbformat_minor": 5
}
