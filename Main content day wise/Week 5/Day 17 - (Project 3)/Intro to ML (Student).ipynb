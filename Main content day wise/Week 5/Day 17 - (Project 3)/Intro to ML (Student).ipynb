{
 "cells": [
  {
   "cell_type": "markdown",
   "metadata": {},
   "source": [
    "<div style=\"background-color: #add8e6; padding: 10px; height: 70px; border-radius: 15px;\">\n",
    "    <div style=\"font-family: 'Georgia', serif; font-size: 20px; padding: 10px; text-align: right; position: absolute; right: 20px;\">\n",
    "        Mohammad Idrees Bhat <br>\n",
    "        <span style=\"font-family: 'Arial', sans-serif;font-size: 12px; color: #0a0a0a;\">Tech Skills Trainer | AI/ML Consultant</span> <!--- Mohammad Idrees Bhat | Tech Skills Trainer | AI/ML Consultant --->\n",
    "    </div>\n",
    "</div>"
   ]
  },
  {
   "cell_type": "markdown",
   "metadata": {},
   "source": [
    "<!--- Mohammad Idrees Bhat | Tech Skills Trainer | AI/ML Consultant --->"
   ]
  },
  {
   "cell_type": "markdown",
   "metadata": {},
   "source": [
    "<div style=\"background-color: #002147; padding: 10px; text-align: center; color: white; font-size: 32px; font-family: 'Arial', sans-serif;\">\n",
    "    Introduction to Machine Learning <br>\n",
    "    <h3 style=\"text-align: center; color: white; font-size: 15px; font-family: 'Arial', sans-serif;\">Types of ML, Scikit-Learn</h3>\n",
    "</div>"
   ]
  },
  {
   "cell_type": "markdown",
   "metadata": {},
   "source": [
    "<div style=\"background-color: white; color: black; padding: 10px;\">\n",
    "    <h4><b>AGENDA</b> <p><p>\n",
    "1.  What is Machine Learning?<p><p> \n",
    "2.  Types of Machine Learning <p>\n",
    "3.  Machine Learning Process <p>\n",
    "4.  Hands-on with Scikit-Learn <p>  \n",
    "</h4> </div>"
   ]
  },
  {
   "cell_type": "markdown",
   "metadata": {},
   "source": [
    "<!-- Link the Montserrat font -->\n",
    "<link href=\"https://fonts.googleapis.com/css2?family=Montserrat:wght@700&display=swap\" rel=\"stylesheet\">\n",
    "\n",
    "<!-- Main div with centered content and a flexible box size, no scroll bar -->\n",
    "<div style=\"background-color: #baf733; min-height: 100px; width: 100%; display: flex; justify-content: center; align-items: center; position: relative; padding: 20px; box-sizing: border-box; font-family: 'Montserrat', sans-serif; font-weight: 700; font-size: 20px; border-radius: 15px;\">\n",
    "    <div style=\"position: absolute; top: 10px; right: 10px; padding: 5px 10px; font-size: 14px; color: rgba(0, 0, 0, 0.05); border-radius: 10px;\">Mohammad Idrees Bhat</div>\n",
    "    <!-- Fill the below text with question -->\n",
    "    <!-- Fill the below text with question -->\n",
    "    What’s the most interesting place you’ve traveled to, or the top spot on your travel bucket list?\n",
    "    <!-- Fill the above text with question -->\n",
    "    <!-- Fill the above text with question -->\n",
    "\n",
    "</div>"
   ]
  },
  {
   "cell_type": "markdown",
   "metadata": {},
   "source": [
    "<div style=\"background-color: lightgreen; color: black; padding: 4px;\">\n",
    "    <h3>1. What is Machine Learning?\n",
    "</h3> </div>"
   ]
  },
  {
   "cell_type": "markdown",
   "metadata": {},
   "source": [
    "Machine Learning (ML) is a field within artificial intelligence (AI) that enables systems to learn from data instead of following explicit programming instructions.\n",
    "\n",
    "ML allows systems to find patterns and make decisions, making it essential in various fields, such as healthcare, finance, and technology."
   ]
  },
  {
   "cell_type": "markdown",
   "metadata": {},
   "source": [
    "<div style=\"background-color: lightblue; color: black; padding: 4px;\">\n",
    "    <h4> Importance of Machine Learning\n",
    "</h4> </div>"
   ]
  },
  {
   "cell_type": "markdown",
   "metadata": {},
   "source": [
    "Machine Learning (ML) is increasingly becoming a vital component in various aspects of our daily lives, influencing how we interact with technology, make decisions, and even experience entertainment. Here’s a closer look at some common applications of ML that cater to both newcomers and those with more advanced knowledge:\n",
    "\n",
    "### 1. Recommendation Systems\n",
    "\n",
    "\n",
    "Recommendation systems are designed to predict what products or content users might like based on their previous interactions. Companies like **YouTube** and **Netflix** use ML algorithms to analyze your viewing history, preferences, and behavior patterns to suggest new shows, movies, or videos.\n",
    "\n",
    "**How It Works**\n",
    "\n",
    "- **Collaborative Filtering**: This approach relies on the preferences of other users who share similar interests. For instance, if User A and User B have similar viewing habits, recommendations for User B may be based on what User A enjoyed.\n",
    "- **Content-Based Filtering**: This method suggests items similar to those the user has liked in the past. If you frequently watch action movies, the system will recommend more titles from that genre.\n",
    "\n",
    "\n",
    "### 2. Image Recognition\n",
    "\n",
    "\n",
    "Image recognition technology, such as **object detection** and facial recognition, is utilized across various fields, from social media platforms to security systems. This technology enables machines to interpret and categorize images just like humans do.\n",
    "\n",
    " **How It Works**\n",
    "\n",
    "- **Convolutional Neural Networks (CNNs)**: These are specialized deep learning models designed to process pixel data in images. They automatically learn hierarchical features, such as edges, shapes, and textures, enabling them to identify objects within images accurately.\n",
    "- **Transfer Learning**: By using pre-trained models, developers can significantly reduce the time and data required to build robust image recognition systems for specific tasks.\n",
    "\n",
    "### 3. Predictive Analysis\n",
    "\n",
    "Predictive analysis involves using historical data to make forecasts about future events, which is valuable in numerous fields like finance, healthcare, and marketing. For example, businesses use ML to predict **stock prices** or forecast **weather patterns**.\n",
    "\n",
    "**How It Works**\n",
    "\n",
    "- **Time Series Analysis**: This involves statistical techniques to analyze time-ordered data points, enabling businesses to forecast trends and seasonal variations.\n",
    "- **Regression Algorithms**: Techniques like linear regression, decision trees, and more complex ensemble methods (e.g., Random Forest, Gradient Boosting) can predict numeric outcomes based on input features.\n",
    "\n"
   ]
  },
  {
   "cell_type": "markdown",
   "metadata": {},
   "source": [
    "<div style=\"background-color: lightgreen; color: black; padding: 4px;\">\n",
    "    <h3>2. Types of Machine Learning\n",
    "</h3> </div>"
   ]
  },
  {
   "cell_type": "markdown",
   "metadata": {},
   "source": [
    "<div style=\"background-color: lightblue; color: black; padding: 4px;\">\n",
    "    <h4> Supervised Learning\n",
    "</h4> </div>"
   ]
  },
  {
   "cell_type": "markdown",
   "metadata": {},
   "source": [
    "![Image](https://databasetown.com/wp-content/uploads/2023/05/Supervised-Learning.jpg)"
   ]
  },
  {
   "cell_type": "markdown",
   "metadata": {},
   "source": [
    "Supervised learning is one of the most widely used techniques in machine learning, where the **model learns from labeled data**. \n",
    "\n",
    "This method is pivotal for tasks that require predictions based on input features, and it plays a crucial role in various real-world applications.\n",
    "\n",
    "#### What is Supervised Learning?\n",
    "\n",
    "In supervised learning, the model is trained on a dataset that contains both the input features and their corresponding known outputs. This means each example in the training data is paired with a label, which serves as the ground truth for the model to learn from. \n",
    "\n",
    "**Example: Predicting Housing Prices**\n",
    "\n",
    "Consider a scenario where we want to predict housing prices based on various features such as:\n",
    "\n",
    "- Square footage\n",
    "- Number of bedrooms\n",
    "- Location\n",
    "- Age of the property\n",
    "\n",
    "In this case, the input features are the attributes of the houses, while the known output is the price at which each house was sold. The model uses this labeled data to learn the relationship between the input features and the housing prices.\n",
    "\n",
    "**How Does the Model Learn?**\n",
    "\n",
    "1. **Training Phase**: During this phase, the model analyzes the training data. It identifies patterns and relationships between the input features and the known outputs. For instance, it might learn that larger houses generally have higher prices, or that houses in certain neighborhoods sell for more.\n",
    "\n",
    "2. **Evaluation Phase**: After training, the model is evaluated using a separate dataset known as the validation or test set. This set contains input features with known outputs that the model has not seen before. The model's performance is measured by comparing its predictions against the actual known outputs. Metrics such as Mean Squared Error (MSE) for regression tasks or accuracy for classification tasks are commonly used.\n",
    "\n",
    "3. **Prediction Phase**: Once the model has been trained and validated, it can be used to make predictions on new, unseen data. For example, if a new house is listed for sale with specific features, the model can provide an estimated price based on what it has learned from the training data."
   ]
  },
  {
   "cell_type": "markdown",
   "metadata": {},
   "source": [
    "![](https://datamapu.com/images/20231017_supervised_unsupervised/supervised.gif)"
   ]
  },
  {
   "cell_type": "markdown",
   "metadata": {},
   "source": [
    "<div style=\"background-color: lightblue; color: black; padding: 4px;\">\n",
    "    <h4> Unsupervised Learning\n",
    "</h4> </div>"
   ]
  },
  {
   "cell_type": "markdown",
   "metadata": {},
   "source": [
    "![](https://th.bing.com/th/id/OIP.DJu0Hpeyv4R6fPcbBWqE7wHaFQ?rs=1&pid=ImgDetMain)"
   ]
  },
  {
   "cell_type": "markdown",
   "metadata": {},
   "source": [
    "Unsupervised learning is another fundamental approach in machine learning, focusing on discovering patterns and structures in unlabeled data. Unlike supervised learning, where each data point has a corresponding label, unsupervised learning seeks to understand the underlying relationships within the data without predefined outcomes.\n",
    "\n",
    "#### What is Unsupervised Learning?\n",
    "\n",
    "In unsupervised learning, the model is presented with data that lacks labels or known outputs. The goal is to identify patterns, groupings, or structures that may not be immediately apparent. This method is particularly useful in exploratory data analysis, helping to uncover insights that can guide further investigation.\n",
    "\n",
    "**Example: Clustering Customers by Purchasing Behavior**\n",
    "\n",
    "Consider a retail scenario where a company wants to analyze customer purchasing behavior. The dataset might include features such as:\n",
    "\n",
    "- Age\n",
    "- Gender\n",
    "- Purchase history\n",
    "- Spending habits\n",
    "\n",
    "Since this data is unlabeled (the company doesn’t know how many types of customers exist or what their purchasing categories are), the model can apply clustering algorithms to identify groups of similar customers based on their behaviors.\n",
    "\n",
    "**How Does the Model Learn?**\n",
    "\n",
    "1. **Data Analysis**: The model processes the data, examining the features to find similarities and differences among data points. It looks for natural groupings or patterns without any guidance from labels.\n",
    "\n",
    "2. **Clustering**: A common technique in unsupervised learning is clustering, where the model groups similar data points together. For example, it might segment customers into distinct groups, such as high spenders, occasional buyers, and bargain hunters, based on their purchasing behavior.\n",
    "\n",
    "3. **Dimensionality Reduction**: Another technique used in unsupervised learning is dimensionality reduction. This method simplifies complex datasets by reducing the number of features while preserving important information. Techniques like Principal Component Analysis (PCA) can help visualize high-dimensional data in two or three dimensions, making it easier to identify patterns."
   ]
  },
  {
   "cell_type": "markdown",
   "metadata": {},
   "source": [
    "![](https://datamapu.com/images/20231017_supervised_unsupervised/unsupervised.gif)"
   ]
  },
  {
   "cell_type": "markdown",
   "metadata": {},
   "source": [
    "<div style=\"background-color: lightblue; color: black; padding: 4px;\">\n",
    "    <h4> Reinforcement Learning\n",
    "</h4> </div>"
   ]
  },
  {
   "cell_type": "markdown",
   "metadata": {},
   "source": [
    "Reinforcement learning (RL) is a unique approach within the field of machine learning that focuses on training models to make decisions by interacting with their environment. \n",
    "\n",
    "Unlike supervised and unsupervised learning, reinforcement learning emphasizes learning through trial and error, using feedback in the form of rewards and penalties to achieve specific objectives."
   ]
  },
  {
   "cell_type": "markdown",
   "metadata": {},
   "source": [
    "![](https://dev-to-uploads.s3.amazonaws.com/i/iyqyvx6prnyfqzki3fna.gif)"
   ]
  },
  {
   "cell_type": "markdown",
   "metadata": {},
   "source": [
    "#### What is Reinforcement Learning?\n",
    "\n",
    "In reinforcement learning, an agent (the model) learns how to navigate an environment by taking actions and receiving feedback based on those actions. The primary goal is to maximize cumulative rewards over time, effectively training the agent to make better decisions based on past experiences.\n",
    "\n",
    "**Example: Robotics and Gaming**\n",
    "\n",
    "One of the most common applications of reinforcement learning is in robotics, where robots learn to perform tasks through interaction with their surroundings. For instance, a robot might learn to pick up objects or navigate a maze. Similarly, in gaming, reinforcement learning has been used to develop intelligent agents that can play video games, making decisions to achieve high scores or win against opponents."
   ]
  },
  {
   "cell_type": "markdown",
   "metadata": {},
   "source": [
    "![](https://huggingface.co/datasets/huggingface-deep-rl-course/course-images/resolve/main/en/unit10/soccertwos.gif)"
   ]
  },
  {
   "cell_type": "markdown",
   "metadata": {},
   "source": [
    "**How Does the Model Learn?**\n",
    "\n",
    "1. **Agent and Environment**: The reinforcement learning framework consists of an agent and an environment. The agent takes actions within the environment, and the environment responds by providing feedback in the form of rewards (positive feedback) or penalties (negative feedback).\n",
    "\n",
    "2. **Exploration vs. Exploitation**: A key aspect of reinforcement learning is the balance between exploration and exploitation. The agent must explore new actions to discover potentially better strategies (exploration) while also leveraging known actions that yield good rewards (exploitation). Striking the right balance is crucial for effective learning.\n",
    "\n",
    "3. **Reward Signal**: The agent receives a reward signal from the environment after each action. Positive rewards reinforce behaviors that lead to desirable outcomes, while penalties discourage actions that result in negative outcomes. Over time, the agent learns to associate specific actions with their corresponding rewards, optimizing its decision-making strategy.\n",
    "\n",
    "4. **Policy and Value Function**: In reinforcement learning, a policy defines the agent’s behavior, dictating which action to take in a given state. The value function estimates the expected reward for being in a particular state, helping the agent evaluate the potential long-term benefits of its actions."
   ]
  },
  {
   "cell_type": "markdown",
   "metadata": {},
   "source": [
    "<div style=\"background-color: lightgreen; color: black; padding: 4px;\">\n",
    "    <h3>3. Machine Learning Process\n",
    "</h3> </div>"
   ]
  },
  {
   "cell_type": "markdown",
   "metadata": {},
   "source": [
    "The machine learning process is a systematic approach that outlines the steps involved in developing, training, and deploying machine learning models. \n",
    "\n",
    "Understanding this process is crucial for effectively leveraging machine learning to solve real-world problems. Below are the key stages of the machine learning process:\n"
   ]
  },
  {
   "cell_type": "markdown",
   "metadata": {},
   "source": [
    "## 1. Problem Definition\n",
    "\n",
    "The first step is to clearly define the problem you are trying to solve. This involves understanding the business objectives and determining how machine learning can provide a solution. It’s essential to articulate the expected outcomes and success criteria for the project.\n",
    "\n",
    "### Example:\n",
    "- **Objective**: Predicting customer churn for a subscription-based service.\n",
    "- **Success Criteria**: Reducing churn rate by 15% over the next quarter.\n",
    "- **4Ws**: Who, What, When, Why. "
   ]
  },
  {
   "cell_type": "markdown",
   "metadata": {},
   "source": [
    "## 2. Data Collection\n",
    "\n",
    "Once the problem is defined, the next step is to gather relevant data. Data can be collected from various sources, such as databases, APIs, or web scraping. The quality and quantity of data are critical as they directly impact model performance.\n",
    "\n",
    "### Considerations:\n",
    "- Ensure that the data is representative of the problem domain.\n",
    "- Address any privacy or ethical concerns related to data usage."
   ]
  },
  {
   "cell_type": "markdown",
   "metadata": {},
   "source": [
    "## 3. Data Preprocessing\n",
    "\n",
    "After collecting the data, it often requires preprocessing to clean and prepare it for analysis. This step involves several tasks:\n",
    "\n",
    "- **Handling Missing Values**: Decide how to deal with any missing data points, either by removing them or imputing values.\n",
    "- **Feature Engineering**: Create new features or modify existing ones to improve model performance.\n",
    "- **Normalization/Standardization**: Scale features to ensure that they contribute equally to the model training."
   ]
  },
  {
   "cell_type": "markdown",
   "metadata": {},
   "source": [
    "## 4. Model Selection\n",
    "\n",
    "In this stage, you choose the appropriate machine learning algorithms based on the problem type (e.g., classification, regression, clustering) and the data characteristics. \n",
    "\n",
    "Common algorithms include:\n",
    "\n",
    "- **Supervised Learning**: Decision trees, logistic regression, support vector machines (SVM).\n",
    "- **Unsupervised Learning**: K-means clustering, hierarchical clustering, principal component analysis (PCA)."
   ]
  },
  {
   "cell_type": "markdown",
   "metadata": {},
   "source": [
    "## 5. Model Training\n",
    "\n",
    "Once you’ve selected a model, the next step is to train it using the prepared dataset. During training, the model learns patterns from the data by adjusting its parameters to minimize errors in predictions.\n",
    "\n",
    "### Tips:\n",
    "- Use techniques such as cross-validation to evaluate model performance during training.\n",
    "- Monitor for overfitting, where the model performs well on training data but poorly on unseen data.\n",
    "\n"
   ]
  },
  {
   "cell_type": "markdown",
   "metadata": {},
   "source": [
    "## 6. Model Evaluation\n",
    "\n",
    "After training, the model's performance is evaluated using a separate test dataset. Metrics such as accuracy, precision, recall, F1 score, or mean squared error (MSE) are calculated to assess how well the model is performing.\n",
    "\n",
    "### Example:\n",
    "- For a classification problem, use confusion matrices to understand true positives, false positives, true negatives, and false negatives.\n",
    "\n"
   ]
  },
  {
   "cell_type": "markdown",
   "metadata": {},
   "source": [
    "\n",
    "\n",
    "## 7. Model Deployment\n",
    "\n",
    "Once the model is validated and meets the success criteria, it is deployed into a production environment where it can be used for making predictions on new data. \n",
    "\n",
    "This process may involve integrating the model with existing software applications or setting up APIs for access.\n",
    "\n"
   ]
  },
  {
   "cell_type": "markdown",
   "metadata": {},
   "source": [
    "## 8. Monitoring and Maintenance (ML Ops)\n",
    "\n",
    "Machine Learning Operations (ML Ops) is a critical aspect of deploying machine learning models. It refers to the practices and tools used to manage and monitor machine learning models in production. \n",
    "\n",
    "Key components include:\n",
    "\n",
    "- **Model Monitoring**: Continuously track the model's performance and data drift over time to ensure it remains effective.\n",
    "\n",
    "- **Versioning**: Maintain versions of models, datasets, and code to ensure reproducibility and manage updates.\n",
    "\n",
    "- **Automated Retraining**: Set up systems to automatically retrain models as new data becomes available or as performance declines.\n",
    "\n",
    "- **Collaboration**: Foster collaboration between data scientists, engineers, and operations teams to streamline the ML lifecycle."
   ]
  },
  {
   "cell_type": "markdown",
   "metadata": {},
   "source": [
    "<div style=\"background-color: lightgreen; color: black; padding: 4px;\">\n",
    "    <h3>4. Hands-on with Sci-kit Learn\n",
    "</h3> </div>"
   ]
  },
  {
   "cell_type": "markdown",
   "metadata": {},
   "source": [
    "### Install Necessary Libraries\n",
    "- Open your Jupyter Notebook and install Scikit-Learn by running:\n",
    "\n",
    "```python\n",
    "pip install scikit-learn"
   ]
  },
  {
   "cell_type": "markdown",
   "metadata": {},
   "source": [
    "### Basic Python Refresher for Data Handling\n",
    "Load Data: Use Python libraries like Pandas to load and view data.\n",
    "\n",
    "```python\n",
    "import pandas as pd\n",
    "```\n",
    "\n",
    "### Exploring Data\n",
    "\n",
    "- Load a Simple Dataset\n",
    "\n",
    "- Load the Iris dataset from Scikit-Learn. \n",
    "- This dataset is popular for beginners, as it contains labeled data about flower species and related features (sepal length, petal length, etc.).\n",
    "\n",
    "```python\n",
    "# Load a sample dataset from Scikit-Learn\n",
    "from sklearn.datasets import load_iris\n",
    "data = load_iris()\n",
    "df = pd.DataFrame(data.data, columns=data.feature_names)\n",
    "df['target'] = data.target\n",
    "df.head()\n",
    "\n",
    "# Explore Data: Check the first few rows, summary statistics, and column types."
   ]
  },
  {
   "cell_type": "markdown",
   "metadata": {},
   "source": [
    "### Visualize Basic Features\n",
    "\n",
    "- Use basic visualizations to understand the data.\n",
    "- Plotting example:\n",
    "\n",
    "```python\n",
    "import matplotlib.pyplot as plt\n",
    "\n",
    "# Scatter plot of sepal length and width\n",
    "plt.scatter(df['sepal length (cm)'], df['sepal width (cm)'], c=data.target)\n",
    "plt.xlabel('Sepal Length (cm)')\n",
    "plt.ylabel('Sepal Width (cm)')\n",
    "plt.title('Iris Dataset - Sepal Length vs Sepal Width')\n",
    "plt.show()"
   ]
  },
  {
   "cell_type": "markdown",
   "metadata": {},
   "source": [
    "<div style=\"background-color: lightblue; color: black; padding: 4px;\">\n",
    "    <h4> Program Breakdown\n",
    "</h4> </div>"
   ]
  },
  {
   "cell_type": "markdown",
   "metadata": {},
   "source": [
    "#### **Pip installs**\n",
    "```python\n",
    "pip install scikit-learn\n",
    "```\n",
    "- Pip is the package installer for Python, allowing you to add libraries that aren't part of the default Python installation.\n",
    "\n",
    "- Variations of use:\n",
    "\n",
    "    - ```pip install <package>``` (Standard Command Line) to directly down load a package from terminal/command prompt. Most common method but might not work directly in Jupyter notebooks or interactive environments\n",
    "\n",
    "    - ```!pip install <package>``` (Shell Magic in Jupyter) to run shell commands. ```!``` is a \"magic command\" in Jupyter that allows running commands as if in a shell. This approach is convenient but can sometimes lead to issues with environment mismatches (e.g., installing in one Python environment while Jupyter is using another).\n",
    "\n",
    "    - ```%pip install <package>``` (IPython Magic) to run in interactive environment. ```%pip``` is environment-aware within Jupyter and ensures the package is installed in the exact Python environment that Jupyter is using.\n",
    "\n",
    "    - ```python -m pip install <package>``` (Python Module Invocation) to run ```pip``` as a module (```-m```). When there are multiple Python versions installed, as it ensures pip runs in the same environment as the specified Python interpreter.\n",
    "\n",
    "    \n",
    "\n"
   ]
  },
  {
   "cell_type": "markdown",
   "metadata": {},
   "source": [
    "#### **Import Commands**\n",
    "\n",
    "`from sklearn.datasets import load_iris`\n",
    "\n",
    "- using `from`, Python knows you are accessing only part of a package, rather than importing the entire package\n",
    "\n",
    "- `sklearn.datasets` targets the submodule `datasets` from library sklearn. It contains small, ready-to-use datasets (like Iris, Digits, and Boston datasets) that are helpful for testing algorithms or learning purposes.\n",
    "    - `load_digits`: A dataset of handwritten digits, ideal for practicing image classification tasks.\n",
    "    - `load_boston`: Contains housing prices in Boston; often used for regression tasks (note: has been deprecated in newer versions).\n",
    "    - `load_wine`: Data on wine samples, with features describing chemical properties, often used in classification.\n",
    "    - `load_breast_cancer`: A dataset with features from breast cancer cases, used for binary classification.\n",
    "- Other important modules in Scikit-Learn include `sklearn.model_selection`, `sklearn.preprocessing`, `sklearn.metrics`, `sklearn.ensemble`\n",
    "- `import` keyword makes the specified code accessible without needing to type out the full module path each time\n",
    "\n",
    "\n"
   ]
  },
  {
   "cell_type": "markdown",
   "metadata": {},
   "source": [
    "#### **Pandas Dataframe**\n",
    "\n",
    "`df = pd.DataFrame(data.data, columns=data.feature_names)`\n",
    "\n",
    "- Actual syntax: \n",
    "\n",
    "`pd.DataFrame(data=None, index=None, columns=None, dtype=None, copy=False)`\n",
    "\n",
    "1. Data - Core data for dataframe can be types like dictionaries, lists, arrays, series or other dataframes\n",
    "\n",
    "\n",
    "2.  Index - Labels for rows, that can be a list or array, example:\n",
    "\n",
    "    ```python\n",
    "    index=['Row1', 'Row2']\n",
    "    ```\n",
    "3.  Columns - Labels for columns, that can be a list or array, example:\n",
    "\n",
    "    ```python\n",
    "    columns=['Column1', 'Column2']\n",
    "    ```\n",
    "4.  Datatype - `dtype` to set the data type of each column, example: \n",
    "    `float` , `int` , `str`.\n",
    "\n",
    "5. Copy - Could be `True` or `False`. When set to `True` creates a copy of the data. `False` changes the original data. "
   ]
  },
  {
   "cell_type": "markdown",
   "metadata": {},
   "source": [
    "#### **Example:**\n",
    "\n",
    "Creating a DataFrame from a Dictionary:\n",
    "```python\n",
    "import pandas as pd\n",
    "data = {'Name': ['Alice', 'Bob','Catlyn'], 'Age': [24, 30, 45], 'Calls': [24, 30, 45]}\n",
    "df = pd.DataFrame(data, index=['Person1', 'Person2','Person3'], columns=['Name', 'Age', 'Calls'], dtype='str', copy=True)\n",
    "```"
   ]
  },
  {
   "cell_type": "code",
   "execution_count": 11,
   "metadata": {},
   "outputs": [],
   "source": [
    "import pandas as pd\n",
    "data = {'Name': ['Alice', 'Bob','Catlyn'], 'Age': [24, 30, 45], 'Calls': [24, 30, 45]}\n",
    "df = pd.DataFrame(data, index=['Person1', 'Person2','Person3'], columns=['Name', 'Age', 'Calls'], dtype='str', copy=True)"
   ]
  },
  {
   "cell_type": "code",
   "execution_count": null,
   "metadata": {},
   "outputs": [],
   "source": [
    "df"
   ]
  },
  {
   "cell_type": "markdown",
   "metadata": {},
   "source": [
    "#### **Visualisation Commands:**\n",
    "\n",
    "`plt.scatter(df['sepal length (cm)'], df['sepal width (cm)'], c=data.target)`\n",
    "\n",
    "- Syntax: \n",
    "\n",
    "    `plt.scatter(x, y, **kwargs)`\n",
    "- `x`: The data for the x-axis (e.g., a list or array of values).\n",
    "- `y`: The data for the y-axis, with the same length as x.\n",
    "- `**kwargs`: Keyword arguments, can take various values:\n",
    "    - c: Color of each point\n",
    "    - s: size of each point\n",
    "    - alpha: Transparency from 0 to 1\n",
    "    - lable: label for the plot"
   ]
  },
  {
   "cell_type": "code",
   "execution_count": null,
   "metadata": {},
   "outputs": [],
   "source": [
    "# Example usage:\n",
    "import matplotlib.pyplot as plt\n",
    "\n",
    "plt.scatter(df['Age'], df['Calls'], c='blue', s=50, alpha=0.7)"
   ]
  },
  {
   "cell_type": "code",
   "execution_count": null,
   "metadata": {},
   "outputs": [],
   "source": [
    "plt.xlabel('Age this is')"
   ]
  },
  {
   "cell_type": "code",
   "execution_count": null,
   "metadata": {},
   "outputs": [],
   "source": [
    "plt.ylabel('This is Calls')"
   ]
  },
  {
   "cell_type": "code",
   "execution_count": null,
   "metadata": {},
   "outputs": [],
   "source": [
    "plt.title(\"It's my life\")"
   ]
  },
  {
   "cell_type": "code",
   "execution_count": 17,
   "metadata": {},
   "outputs": [],
   "source": [
    "\n",
    "# In non-interactive environments (like a Python script), plt.show() is necessary to render the plot. Without it, the plot may not display at all.\n",
    "plt.show() "
   ]
  },
  {
   "cell_type": "code",
   "execution_count": null,
   "metadata": {},
   "outputs": [],
   "source": [
    "# Example usage: All at once\n",
    "import matplotlib.pyplot as plt\n",
    "\n",
    "plt.scatter(df['Age'], df['Calls'], c='blue', s=50, alpha=0.7)\n",
    "plt.xlabel('Age this is')\n",
    "plt.ylabel('This is Calls')\n",
    "plt.title(\"It's my life\")\n",
    "plt.show()\n"
   ]
  },
  {
   "cell_type": "markdown",
   "metadata": {},
   "source": [
    "**Display Scikit-Learn Plots in a New Window**\n",
    "\n",
    "Use the %matplotlib magic command to select a GUI backend. \n",
    "\n",
    "```python\n",
    "%matplotlib tk  # or %matplotlib qt\n",
    "```\n"
   ]
  },
  {
   "cell_type": "code",
   "execution_count": 19,
   "metadata": {},
   "outputs": [],
   "source": [
    "\n",
    "# %matplotlib tk"
   ]
  },
  {
   "cell_type": "markdown",
   "metadata": {},
   "source": [
    "<div class=\"alert alert-block alert-warning\">\n",
    "    <b><font size=\"5\"> Live Exercise (Advanced/Optional)</font> </b>\n",
    "</div>\n",
    "\n",
    "<!--- Mohammad Idrees Bhat | Tech Skills Trainer | AI/ML Consultant --->"
   ]
  },
  {
   "cell_type": "markdown",
   "metadata": {},
   "source": [
    "Now it's your turn!\n",
    "### Task 1: Simple Linear Regression with Scikit-Learn (Optional Activity)\n",
    "\n",
    "#### Objective\n",
    "In this exercise, students will learn the basics of linear regression, a fundamental machine learning technique, by building a simple linear regression model using Scikit-Learn. They will also visualize the results to understand how the model fits the data.\n",
    "\n",
    "#### Dataset\n",
    "We will use a synthetic dataset for this exercise, where we predict the price of a house based on its size (in square feet). \n",
    "\n",
    "#### Steps\n",
    "\n",
    "#### 1. Set Up the Environment\n",
    "Make sure you have the following libraries installed:\n",
    "- `numpy`\n",
    "- `pandas`\n",
    "- `matplotlib`\n",
    "- `scikit-learn`\n",
    "\n",
    "You can install them using `pip install numpy pandas matplotlib scikit-learn`.\n",
    "\n",
    "#### 2. Import Libraries\n",
    "Start by importing the necessary libraries in your Jupyter Notebook.\n",
    "\n",
    "#### 3. Create a Synthetic Dataset\n",
    "Generate a simple dataset: Create a synthetic dataset with 100 samples, where house sizes are generated randomly within a range of 0 to 2.5K square feet. The house prices are calculated using a formula that includes some noise to simulate real-world conditions.\n",
    "\n",
    "#### 4. Split the Dataset\n",
    "Divide the dataset into training and testing sets. Use 80% of the data for training and 20% for testing to evaluate the model's performance.\n",
    "\n",
    "#### 5. Build and Train the Model\n",
    "Create and train the linear regression model using the training data.\n",
    "\n",
    "#### 6. Make Predictions\n",
    "Use the model to make predictions on the test set.\n",
    "\n",
    "#### 7. Visualize the Results\n",
    "Plot the training data, the test data, and the regression line to visually assess the model's performance. The training data points will be displayed in blue, the testing data points in green, and the regression line in red.\n",
    "\n",
    "#### Discussion Points\n",
    "- What do you observe about the regression line?\n",
    "- How well does the model predict the house prices?\n",
    "- What could be improved in this model?"
   ]
  },
  {
   "cell_type": "markdown",
   "metadata": {},
   "source": [
    "<div style=\"background-color: lightblue; color: white; padding: 10px; text-align: center;\">\n",
    "    <h1>_________________________________END________________________________\n",
    "        <!--- Mohammad Idrees Bhat | Tech Skills Trainer | AI/ML Consultant --->\n",
    "</h1> </div>"
   ]
  },
  {
   "cell_type": "markdown",
   "metadata": {},
   "source": [
    "<div style=\"background-color: #002147; color: #fff; padding: 30px; text-align: center;\">\n",
    "    <h1>THANK YOU!\n",
    "        <!--- Mohammad Idrees Bhat | Tech Skills Trainer | AI/ML Consultant --->\n",
    "</h1> </div>"
   ]
  },
  {
   "cell_type": "markdown",
   "metadata": {},
   "source": [
    "<div style=\"background-color: lightgreen; color: black; padding: 30px;\">\n",
    "    <h4> Live Exercise Solutions\n",
    "        \n",
    "</h4> </div>"
   ]
  },
  {
   "cell_type": "markdown",
   "metadata": {},
   "source": [
    "<div class=\"alert alert-block alert-warning\"  padding: 10px; text-align: center;\">\n",
    "    <font size=\"3\"> Programming Interveiw Questions</font>\n",
    "</div>"
   ]
  },
  {
   "cell_type": "markdown",
   "metadata": {},
   "source": [
    "1. topic:\n",
    "    - question"
   ]
  },
  {
   "cell_type": "markdown",
   "metadata": {},
   "source": [
    "<!--- Mohammad Idrees Bhat | Mohammad Idrees Bhat --->"
   ]
  },
  {
   "cell_type": "markdown",
   "metadata": {},
   "source": [
    "<h2 style=\"background-color: #ffe4e1; color: #2f4f4f; padding: 10px; border-radius: 10px; width: 350px; text-align: center; float: right; margin: 20px 0;\">\n",
    "    Mohammad Idrees Bhat<br>\n",
    "    <span style=\"font-size: 12px; color: #696969;\">\n",
    "        Tech Skills Trainer | AI/ML Consultant\n",
    "    </span>\n",
    "</h2>"
   ]
  },
  {
   "cell_type": "markdown",
   "metadata": {},
   "source": [
    "<!--- Mohammad Idrees Bhat | Tech Skills Trainer | AI/ML Consultant --->"
   ]
  }
 ],
 "metadata": {
  "kernelspec": {
   "display_name": "Python 3 (ipykernel)",
   "language": "python",
   "name": "python3"
  },
  "language_info": {
   "codemirror_mode": {
    "name": "ipython",
    "version": 3
   },
   "file_extension": ".py",
   "mimetype": "text/x-python",
   "name": "python",
   "nbconvert_exporter": "python",
   "pygments_lexer": "ipython3",
   "version": "3.12.4"
  }
 },
 "nbformat": 4,
 "nbformat_minor": 4
}
