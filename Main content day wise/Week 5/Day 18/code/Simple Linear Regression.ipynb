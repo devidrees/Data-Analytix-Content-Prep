{
 "cells": [
  {
   "cell_type": "markdown",
   "id": "8c4bc666-34a1-47b6-8018-1ad79dafae95",
   "metadata": {},
   "source": [
    "<div style=\"background-color: #add8e6; padding: 10px; height: 70px; border-radius: 15px;\">\n",
    "    <div style=\"font-family: 'Georgia', serif; font-size: 20px; padding: 10px; text-align: right; position: absolute; right: 20px;\">\n",
    "        Mohammad Idrees Bhat <br>\n",
    "        <span style=\"font-family: 'Arial', sans-serif;font-size: 12px; color: #0a0a0a;\">Tech Skills Trainer | AI/ML Consultant</span> <!--- Mohammad Idrees Bhat | Tech Skills Trainer | AI/ML Consultant --->\n",
    "    </div>\n",
    "</div>"
   ]
  },
  {
   "cell_type": "markdown",
   "id": "ef444d2e-97e9-49a8-bf3d-0119a2dfebb5",
   "metadata": {},
   "source": [
    "<!--- Mohammad Idrees Bhat | Tech Skills Trainer | AI/ML Consultant --->"
   ]
  },
  {
   "cell_type": "markdown",
   "id": "151ad3d8-0bce-4e29-86da-5ea91b5a69df",
   "metadata": {},
   "source": [
    "<div style=\"background-color: #002147; padding: 10px; text-align: center; color: white; font-size: 32px; font-family: 'Arial', sans-serif;\">\n",
    "   Simple Linear Regression with Sklearn <br>\n",
    "    <h3 style=\"text-align: center; color: white; font-size: 15px; font-family: 'Arial', sans-serif;\"></h3>\n",
    "</div>"
   ]
  },
  {
   "cell_type": "markdown",
   "id": "90908c3b",
   "metadata": {},
   "source": [
    "<div style=\"background-color: lightblue; color: black; padding: 4px;\">\n",
    "    <h4> Example 1 - Predicting electic bill based on average usage\n",
    "</h4> </div>"
   ]
  },
  {
   "cell_type": "code",
   "execution_count": null,
   "id": "d95f4a8d",
   "metadata": {},
   "outputs": [],
   "source": [
    "# Import necessary libraries\n",
    "import numpy as np                    # NumPy is used for handling arrays, which organize our dataset\n",
    "from sklearn.linear_model import LinearRegression  # Scikit-Learn's LinearRegression is used for our model\n",
    "\n",
    "# Define the dataset\n",
    "# X represents the average daily usage in hours (our input feature)\n",
    "# y represents the monthly bill in dollars (our target variable)\n",
    "X = np.array([[3], [4], [6], [7], [8], [10], [12]])  # input data formatted as a 2D array\n",
    "y = np.array([50, 60, 80, 95, 110, 130, 150])        # output labels as a 1D array\n",
    "\n",
    "# Initialize the linear regression model\n",
    "model = LinearRegression()  # This creates an instance of LinearRegression, ready to fit data\n",
    "\n",
    "# Train the model on the dataset\n",
    "model.fit(X, y)             # fit() finds the best-fit line that minimizes error between predictions and actual values\n",
    "\n",
    "# Make a prediction\n",
    "# Now, let's predict the monthly bill for a household that uses electricity for 5 hours a day\n",
    "predicted_bill_5_hours = model.predict(np.array([[5]]))  # predict() applies the model to a new input\n",
    "print(\"Predicted monthly bill for 5 hours of daily usage:\", predicted_bill_5_hours[0])  # outputs the predicted value\n",
    "\n",
    "# Extract and print model parameters\n",
    "# The slope (rate of increase per additional hour) and intercept (baseline monthly bill) are useful for interpretation\n",
    "slope = model.coef_[0]        # model.coef_ gives the slope of the line, showing bill increase per hour\n",
    "intercept = model.intercept_   # model.intercept_ is the y-intercept, showing the starting value of the bill\n",
    "print(\"Slope (increase per additional hour):\", slope)\n",
    "print(\"Intercept (base bill):\", intercept)\n"
   ]
  },
  {
   "cell_type": "code",
   "execution_count": null,
   "id": "02146214",
   "metadata": {},
   "outputs": [],
   "source": [
    "import matplotlib.pyplot as plt\n",
    "\n",
    "# Plotting the data points\n",
    "plt.scatter(X, y, color='blue', label='Data Points')  # Scatter plot for actual data points\n",
    "\n",
    "# Creating predictions for the entire range of X values for plotting the regression line\n",
    "X_range = np.array([[x] for x in range(2, 14)])  # Generate X values for the range of interest\n",
    "y_pred = model.predict(X_range)                   # Get predictions for the range of X values\n",
    "\n",
    "# Plotting the regression line\n",
    "plt.plot(X_range, y_pred, color='red', label='Regression Line')  # Plot the regression line\n",
    "\n",
    "# Highlight the predicted value for 5 hours of usage\n",
    "plt.scatter(5, predicted_bill_5_hours, color='green', label='Prediction for 5 hours', s=100, edgecolor='black')  # Point for predicted value\n",
    "\n",
    "# Adding labels and title\n",
    "plt.title('Monthly Electricity Bill Prediction')            # Title of the plot\n",
    "plt.xlabel('Average Daily Usage (hours)')                  # X-axis label\n",
    "plt.ylabel('Monthly Bill (dollars)')                       # Y-axis label\n",
    "plt.legend()                                               # Show the legend\n",
    "plt.grid(True)                                            # Add a grid for better readability\n",
    "\n",
    "# Show the plot\n",
    "plt.show()  "
   ]
  },
  {
   "cell_type": "markdown",
   "id": "07ca3fe1",
   "metadata": {},
   "source": [
    "Final answers based on model output:\n",
    "\n",
    "- Predicted monthly bill for 5 hours of daily usage: $72.00704225352112\n",
    "- Increase in monthly bill for each additional hour of daily usage"
   ]
  },
  {
   "cell_type": "markdown",
   "id": "38a633e5",
   "metadata": {},
   "source": [
    "<div style=\"background-color: lightblue; color: black; padding: 4px;\">\n",
    "    <h4> Code Breakdown of Example 1\n",
    "    \n",
    "</h4> </div>"
   ]
  },
  {
   "cell_type": "code",
   "execution_count": 27,
   "id": "88d2d967",
   "metadata": {},
   "outputs": [],
   "source": [
    "# Import necessary libraries\n",
    "import numpy as np                    # NumPy is used for handling arrays, which organize our dataset\n",
    "from sklearn.linear_model import LinearRegression  # Scikit-Learn's LinearRegression is used for our model"
   ]
  },
  {
   "cell_type": "markdown",
   "id": "dc320c1a",
   "metadata": {},
   "source": [
    "in python\n",
    "\n",
    "`from abc.d import e`\n",
    "\n",
    "Module and Package:\n",
    "\n",
    "A **package** is a collection of Python modules. In our example, `abc` is a package that contains a module named `d`.\n",
    "A **module** is a file containing **Python code (functions, classes, variables)**. The file **d.py** contains the definition of **e**\n",
    "\n"
   ]
  },
  {
   "cell_type": "markdown",
   "id": "b35199d8",
   "metadata": {},
   "source": [
    "Simulate this example:\n",
    "\n",
    "my_package/\n",
    "    ├── __init__.py\n",
    "    └── d.py\n",
    "\n",
    "`__init__.py` can be an empty file that tells Python that my_package is a package.\n",
    "\n",
    "`d.py` will contain a function `e`"
   ]
  },
  {
   "cell_type": "markdown",
   "id": "54bf930c",
   "metadata": {},
   "source": [
    "Content of `d.py`\n",
    "\n",
    "```python\n",
    "# d.py\n",
    "\n",
    "def e():\n",
    "    return \"Hello from function e!\"\n",
    "```\n",
    "\n",
    "Let's create a script that imports and uses the function e from the package.\n",
    "\n",
    "```python\n",
    "# main.py\n",
    "\n",
    "# Importing the function e from the module d in the package my_package\n",
    "from my_package.d import e\n",
    "\n",
    "# Calling the imported function\n",
    "result = e()\n",
    "\n",
    "# Printing the result\n",
    "print(result)\n",
    "```\n",
    "\n"
   ]
  },
  {
   "cell_type": "markdown",
   "id": "2984404e",
   "metadata": {},
   "source": []
  },
  {
   "cell_type": "code",
   "execution_count": 26,
   "id": "dca987d8",
   "metadata": {},
   "outputs": [],
   "source": [
    "# Define the dataset\n",
    "# X represents the average daily usage in hours (our input feature)\n",
    "# y represents the monthly bill in dollars (our target variable)\n",
    "\n",
    "X = np.array([[3], [4], [6], [7], [8], [10], [12]])  # input data formatted as a 2D array\n",
    "\n",
    "y = np.array([50, 60, 80, 95, 110, 130, 150])        # output labels as a 1D array"
   ]
  },
  {
   "cell_type": "markdown",
   "id": "48437519",
   "metadata": {},
   "source": [
    "DataFrame Creation: The pd.DataFrame(data=X, columns=['Size']) creates a DataFrame from the X array, assigning the column name 'Size'.\n",
    "\n",
    "Adding Target Values: The line df['Price'] = y adds a new column named 'Price' to the DataFrame, populated with values from the y array."
   ]
  },
  {
   "cell_type": "code",
   "execution_count": null,
   "id": "b0516c15",
   "metadata": {},
   "outputs": [],
   "source": [
    "import pandas as pd\n",
    "data = pd.DataFrame(X, columns=['Size'])\n",
    "data['try'] = 0\n"
   ]
  },
  {
   "cell_type": "code",
   "execution_count": null,
   "id": "887f5542",
   "metadata": {},
   "outputs": [],
   "source": [
    "data['Prices'] = y"
   ]
  },
  {
   "cell_type": "code",
   "execution_count": null,
   "id": "3eacf7ee",
   "metadata": {},
   "outputs": [],
   "source": [
    "data"
   ]
  },
  {
   "cell_type": "code",
   "execution_count": null,
   "id": "b45e1902",
   "metadata": {},
   "outputs": [],
   "source": [
    "# delete the try column\n",
    "data.drop(columns=['try'])"
   ]
  },
  {
   "cell_type": "markdown",
   "id": "3f29851b",
   "metadata": {},
   "source": [
    "---"
   ]
  },
  {
   "cell_type": "code",
   "execution_count": 28,
   "id": "012fa1d4",
   "metadata": {},
   "outputs": [],
   "source": [
    "# Initialize the linear regression model\n",
    "model = LinearRegression()  # This creates an instance of LinearRegression, ready to fit data"
   ]
  },
  {
   "cell_type": "markdown",
   "id": "36ca5247",
   "metadata": {},
   "source": [
    "`model`: This variable will hold the instance of the `LinearRegression` class.\n",
    "\n",
    "`LinearRegression()`: This is the constructor of the `LinearRegression` class, which initializes a new object of this class."
   ]
  },
  {
   "cell_type": "code",
   "execution_count": 30,
   "id": "573ed7e7",
   "metadata": {},
   "outputs": [
    {
     "data": {
      "text/html": [
       "<style>#sk-container-id-2 {color: black;}#sk-container-id-2 pre{padding: 0;}#sk-container-id-2 div.sk-toggleable {background-color: white;}#sk-container-id-2 label.sk-toggleable__label {cursor: pointer;display: block;width: 100%;margin-bottom: 0;padding: 0.3em;box-sizing: border-box;text-align: center;}#sk-container-id-2 label.sk-toggleable__label-arrow:before {content: \"▸\";float: left;margin-right: 0.25em;color: #696969;}#sk-container-id-2 label.sk-toggleable__label-arrow:hover:before {color: black;}#sk-container-id-2 div.sk-estimator:hover label.sk-toggleable__label-arrow:before {color: black;}#sk-container-id-2 div.sk-toggleable__content {max-height: 0;max-width: 0;overflow: hidden;text-align: left;background-color: #f0f8ff;}#sk-container-id-2 div.sk-toggleable__content pre {margin: 0.2em;color: black;border-radius: 0.25em;background-color: #f0f8ff;}#sk-container-id-2 input.sk-toggleable__control:checked~div.sk-toggleable__content {max-height: 200px;max-width: 100%;overflow: auto;}#sk-container-id-2 input.sk-toggleable__control:checked~label.sk-toggleable__label-arrow:before {content: \"▾\";}#sk-container-id-2 div.sk-estimator input.sk-toggleable__control:checked~label.sk-toggleable__label {background-color: #d4ebff;}#sk-container-id-2 div.sk-label input.sk-toggleable__control:checked~label.sk-toggleable__label {background-color: #d4ebff;}#sk-container-id-2 input.sk-hidden--visually {border: 0;clip: rect(1px 1px 1px 1px);clip: rect(1px, 1px, 1px, 1px);height: 1px;margin: -1px;overflow: hidden;padding: 0;position: absolute;width: 1px;}#sk-container-id-2 div.sk-estimator {font-family: monospace;background-color: #f0f8ff;border: 1px dotted black;border-radius: 0.25em;box-sizing: border-box;margin-bottom: 0.5em;}#sk-container-id-2 div.sk-estimator:hover {background-color: #d4ebff;}#sk-container-id-2 div.sk-parallel-item::after {content: \"\";width: 100%;border-bottom: 1px solid gray;flex-grow: 1;}#sk-container-id-2 div.sk-label:hover label.sk-toggleable__label {background-color: #d4ebff;}#sk-container-id-2 div.sk-serial::before {content: \"\";position: absolute;border-left: 1px solid gray;box-sizing: border-box;top: 0;bottom: 0;left: 50%;z-index: 0;}#sk-container-id-2 div.sk-serial {display: flex;flex-direction: column;align-items: center;background-color: white;padding-right: 0.2em;padding-left: 0.2em;position: relative;}#sk-container-id-2 div.sk-item {position: relative;z-index: 1;}#sk-container-id-2 div.sk-parallel {display: flex;align-items: stretch;justify-content: center;background-color: white;position: relative;}#sk-container-id-2 div.sk-item::before, #sk-container-id-2 div.sk-parallel-item::before {content: \"\";position: absolute;border-left: 1px solid gray;box-sizing: border-box;top: 0;bottom: 0;left: 50%;z-index: -1;}#sk-container-id-2 div.sk-parallel-item {display: flex;flex-direction: column;z-index: 1;position: relative;background-color: white;}#sk-container-id-2 div.sk-parallel-item:first-child::after {align-self: flex-end;width: 50%;}#sk-container-id-2 div.sk-parallel-item:last-child::after {align-self: flex-start;width: 50%;}#sk-container-id-2 div.sk-parallel-item:only-child::after {width: 0;}#sk-container-id-2 div.sk-dashed-wrapped {border: 1px dashed gray;margin: 0 0.4em 0.5em 0.4em;box-sizing: border-box;padding-bottom: 0.4em;background-color: white;}#sk-container-id-2 div.sk-label label {font-family: monospace;font-weight: bold;display: inline-block;line-height: 1.2em;}#sk-container-id-2 div.sk-label-container {text-align: center;}#sk-container-id-2 div.sk-container {/* jupyter's `normalize.less` sets `[hidden] { display: none; }` but bootstrap.min.css set `[hidden] { display: none !important; }` so we also need the `!important` here to be able to override the default hidden behavior on the sphinx rendered scikit-learn.org. See: https://github.com/scikit-learn/scikit-learn/issues/21755 */display: inline-block !important;position: relative;}#sk-container-id-2 div.sk-text-repr-fallback {display: none;}</style><div id=\"sk-container-id-2\" class=\"sk-top-container\"><div class=\"sk-text-repr-fallback\"><pre>LinearRegression()</pre><b>In a Jupyter environment, please rerun this cell to show the HTML representation or trust the notebook. <br />On GitHub, the HTML representation is unable to render, please try loading this page with nbviewer.org.</b></div><div class=\"sk-container\" hidden><div class=\"sk-item\"><div class=\"sk-estimator sk-toggleable\"><input class=\"sk-toggleable__control sk-hidden--visually\" id=\"sk-estimator-id-2\" type=\"checkbox\" checked><label for=\"sk-estimator-id-2\" class=\"sk-toggleable__label sk-toggleable__label-arrow\">LinearRegression</label><div class=\"sk-toggleable__content\"><pre>LinearRegression()</pre></div></div></div></div></div>"
      ],
      "text/plain": [
       "LinearRegression()"
      ]
     },
     "execution_count": 30,
     "metadata": {},
     "output_type": "execute_result"
    }
   ],
   "source": [
    "# Train the model on the dataset\n",
    "model.fit(X, y)             # fit() finds the best-fit line that minimizes error between predictions and actual values"
   ]
  },
  {
   "cell_type": "markdown",
   "id": "3cc6228d",
   "metadata": {},
   "source": [
    "`.fit()` method is a function of a model object, which is an instance of a class in the scikit-learn library (in this case, the `LinearRegression class`)\n",
    "\n",
    "`X` is typically a 2D array (or a DataFrame) representing the input data, where each row is a data sample, and each column is a feature.\n",
    "\n",
    "`y` is a 1D array (or column in a DataFrame) where each entry is the label or target value for a data sample in X.\n",
    "\n"
   ]
  },
  {
   "cell_type": "markdown",
   "id": "c2d69420",
   "metadata": {},
   "source": [
    "`fit()`:\n",
    "- Takes in X and y and analyzes the relationship between them.\n",
    "- For a linear regression model, it calculates the optimal line that best fits the data by minimizing the error between the predicted values and actual values in y.\n",
    "- Internally, it stores the calculated **coefficients** and **intercept** so the model can make predictions on new data.\n",
    "---"
   ]
  },
  {
   "cell_type": "code",
   "execution_count": 35,
   "id": "4c9154d5",
   "metadata": {},
   "outputs": [
    {
     "name": "stdout",
     "output_type": "stream",
     "text": [
      "Predicted monthly bill for 5 hours of daily usage: 128.99061032863852\n"
     ]
    }
   ],
   "source": [
    "# Make a prediction\n",
    "# Now, let's predict the monthly bill for a household that uses electricity for 5 hours a day\n",
    "predicted_bill_5_hours = model.predict(np.array([[10]]))  # predict() applies the model to a new input\n",
    "print(\"Predicted monthly bill for 5 hours of daily usage:\", predicted_bill_5_hours[0])  # outputs the predicted value"
   ]
  },
  {
   "cell_type": "markdown",
   "id": "e0b5122e",
   "metadata": {},
   "source": [
    "`model.predict()`:\n",
    "\n",
    "- `.predict()` is a method associated with the `model` object created after training (in this case, `model`).\n",
    "- The purpose of `.predict()` is to take in new input data (unseen by the model during training) and generate predictions based on the model’s internal parameters (like the coefficients and intercept calculated during fit()).\n",
    "- `.predict()` expects an input formatted similarly to the X used in `.fit(X, y)` , usually a 2D array with each row as a sample and each column as a feature."
   ]
  },
  {
   "cell_type": "code",
   "execution_count": 37,
   "id": "d640b915",
   "metadata": {},
   "outputs": [
    {
     "name": "stdout",
     "output_type": "stream",
     "text": [
      "Slope (increase per additional hour): 11.396713615023478\n",
      "Intercept (base bill): 15.023474178403731\n"
     ]
    }
   ],
   "source": [
    "# Extract and print model parameters\n",
    "# The slope (rate of increase per additional hour) and intercept (baseline monthly bill) are useful for interpretation\n",
    "slope = model.coef_[0]        # model.coef_ gives the slope of the line, showing bill increase per hour\n",
    "intercept = model.intercept_   # model.intercept_ is the y-intercept, showing the starting value of the bill\n",
    "print(\"Slope (increase per additional hour):\", slope)\n",
    "print(\"Intercept (base bill):\", intercept)"
   ]
  },
  {
   "cell_type": "code",
   "execution_count": null,
   "id": "89173525",
   "metadata": {},
   "outputs": [],
   "source": [
    "\n"
   ]
  },
  {
   "cell_type": "code",
   "execution_count": 38,
   "id": "a6300beb",
   "metadata": {},
   "outputs": [
    {
     "data": {
      "image/png": "[encoded data removed]",
      "text/plain": [
       "<Figure size 640x480 with 1 Axes>"
      ]
     },
     "metadata": {},
     "output_type": "display_data"
    }
   ],
   "source": [
    "import matplotlib.pyplot as plt\n",
    "\n",
    "# Plotting the data points\n",
    "plt.scatter(X, y, color='blue', label='Data Points')  # Scatter plot for actual data points\n",
    "\n",
    "# Creating predictions for the entire range of X values for plotting the regression line\n",
    "X_range = np.array([[x] for x in range(2, 14)])  # Generate X values for the range of interest\n",
    "y_pred = model.predict(X_range)                   # Get predictions for the range of X values\n",
    "\n",
    "# Plotting the regression line\n",
    "plt.plot(X_range, y_pred, color='red', label='Regression Line')  # Plot the regression line\n",
    "\n",
    "# Highlight the predicted value for 5 hours of usage\n",
    "plt.scatter(5, predicted_bill_5_hours, color='green', label='Prediction for 5 hours', s=100, edgecolor='black')  # Point for predicted value\n",
    "\n",
    "# Adding labels and title\n",
    "plt.title('Monthly Electricity Bill Prediction')            # Title of the plot\n",
    "plt.xlabel('Average Daily Usage (hours)')                  # X-axis label\n",
    "plt.ylabel('Monthly Bill (dollars)')                       # Y-axis label\n",
    "plt.legend()                                               # Show the legend\n",
    "plt.grid(True)                                            # Add a grid for better readability\n",
    "\n",
    "# Show the plot\n",
    "plt.show()  "
   ]
  },
  {
   "cell_type": "markdown",
   "id": "77ae0e0e",
   "metadata": {},
   "source": [
    "<div style=\"background-color: lightblue; color: black; padding: 4px;\">\n",
    "    <h4> Another example - for prediction of price based on size\n",
    "    \n",
    "</h4> </div>"
   ]
  },
  {
   "cell_type": "code",
   "execution_count": 6,
   "id": "b3cd4c77",
   "metadata": {},
   "outputs": [],
   "source": [
    "# Import necessary libraries\n",
    "import numpy as np\n",
    "import pandas as pd\n",
    "from sklearn.model_selection import train_test_split\n",
    "from sklearn.linear_model import LinearRegression\n",
    "from sklearn.metrics import mean_squared_error, r2_score\n",
    "import matplotlib.pyplot as plt"
   ]
  },
  {
   "cell_type": "code",
   "execution_count": 7,
   "id": "9f58f7ff",
   "metadata": {},
   "outputs": [],
   "source": [
    "# Step 1: Create the Dataset (Size and Price)\n",
    "# Here, we assume you have a dataset with 'Size' and 'Price' columns\n",
    "data = {\n",
    "    'Size': [800, 1000, 1200, 1500, 1800, 2000, 2200, 2500],\n",
    "    'Price': [150000, 200000, 240000, 290000, 330000, 360000, 400000, 440000]\n",
    "}\n",
    "df = pd.DataFrame(data)"
   ]
  },
  {
   "cell_type": "markdown",
   "id": "65b119ee",
   "metadata": {},
   "source": [
    "Generating data with Random function in python\n",
    "\n",
    "```python\n",
    "# Step 1: Create a synthetic dataset\n",
    "# Generate random house sizes (in square feet) between 500 and 2500\n",
    "np.random.seed(0)  # For reproducibility\n",
    "house_sizes = np.random.randint(500, 2500, size=100)\n",
    "\n",
    "# Generate house prices based on sizes with some noise\n",
    "# Price = 50 * size + some random noise\n",
    "house_prices = 50 * house_sizes + np.random.normal(0, 10000, size=100)"
   ]
  },
  {
   "cell_type": "code",
   "execution_count": 25,
   "id": "aef858c7",
   "metadata": {},
   "outputs": [],
   "source": [
    "np.random.seed(0)  # For reproducibility\n",
    "house_sizes = np.random.randint(500, 2500, size=100)\n",
    "\n",
    "# Generate house prices based on sizes with some noise\n",
    "# Price = 50 * size + some random noise\n",
    "house_prices = 50 * house_sizes + np.random.normal(0, 10000, size=100)\n"
   ]
  },
  {
   "cell_type": "code",
   "execution_count": 27,
   "id": "6c368abc",
   "metadata": {},
   "outputs": [
    {
     "data": {
      "text/plain": [
       "array([ 63253.97784018,  54136.06585234, 120194.14068338,  99991.02040789,\n",
       "        59311.4391713 ,  37975.62897205,  96479.03976465, 105640.76125382,\n",
       "        64714.21748056, 123760.42445843,  53944.45082265, 124577.75129464,\n",
       "       109534.10522807,  55098.73316058,  75943.34103835,  99417.76362555,\n",
       "        58679.7447415 ,  95552.76299752,  37676.24867481,  38005.96397788,\n",
       "       107740.06359042,  56140.0276447 ,  40111.21037519,  35621.40834386,\n",
       "       114729.25957501,  67633.5718261 , 114333.03566508,  61812.77834548,\n",
       "        62338.50344099,  35726.78165743,  74983.40349621, 100463.25413642,\n",
       "        26588.88517567,  63091.03008511,  64961.38805129, 100419.42884621,\n",
       "       108042.42043014, 107870.79053328,  62837.16430472,  63478.851108  ,\n",
       "        38597.49101136,  82781.30772753,  70861.60270482,  67727.94613106,\n",
       "        52565.31839815, 102634.62100306,  65742.23999184,  60557.31118318,\n",
       "        79109.24318983, 132307.14552151, 107011.07030158,  69579.79913805,\n",
       "        41438.8088836 ,  54111.43477937,  68197.76070726,  46499.74072157,\n",
       "        12762.17316155,  11986.61449727,  48827.42450066,  60612.85319834,\n",
       "       113154.40083739,  62550.0831563 ,  82792.09309417,  19256.14390168,\n",
       "        60091.61234731,  31956.45342156,  26510.38216822, 119000.77554608,\n",
       "        81447.34653243, 104436.51357165,  94532.05194769,  99407.75899614,\n",
       "        58337.22719998,  17216.44562768,  41850.3776713 ,  38817.77413129,\n",
       "       111859.0565129 ,  72558.57988475,  95775.32403129,  62548.46787435,\n",
       "        69165.20474265,  38744.22289676,  86306.72629248, 121993.03206208,\n",
       "        35277.95712888,  32000.18473403, 118317.17285194,  60900.79730884,\n",
       "        53649.81166958,  41325.4813538 ,  78881.99988231,  16785.1978684 ,\n",
       "       135815.13275381,  61492.7664068 ,  55551.39611962, 119508.38362785,\n",
       "        71445.20923343,  54289.56849422, 131294.35033869,  33228.56438693])"
      ]
     },
     "execution_count": 27,
     "metadata": {},
     "output_type": "execute_result"
    }
   ],
   "source": [
    "house_prices"
   ]
  },
  {
   "cell_type": "code",
   "execution_count": 8,
   "id": "82d5d22c",
   "metadata": {},
   "outputs": [],
   "source": [
    "# Step 2: Split the Data into Features (X) and Target (y)\n",
    "X = df[['Size']]  # Selecting 'Size' as the feature\n",
    "y = df['Price']   # Selecting 'Price' as the target variable"
   ]
  },
  {
   "cell_type": "code",
   "execution_count": 9,
   "id": "4f1383ad",
   "metadata": {},
   "outputs": [],
   "source": [
    "# Step 3: Split the Dataset into Training and Testing Sets\n",
    "X_train, X_test, y_train, y_test = train_test_split(X, y, test_size=0.2, random_state=0)"
   ]
  },
  {
   "cell_type": "code",
   "execution_count": 10,
   "id": "49881057",
   "metadata": {},
   "outputs": [
    {
     "data": {
      "text/html": [
       "<style>#sk-container-id-1 {color: black;}#sk-container-id-1 pre{padding: 0;}#sk-container-id-1 div.sk-toggleable {background-color: white;}#sk-container-id-1 label.sk-toggleable__label {cursor: pointer;display: block;width: 100%;margin-bottom: 0;padding: 0.3em;box-sizing: border-box;text-align: center;}#sk-container-id-1 label.sk-toggleable__label-arrow:before {content: \"▸\";float: left;margin-right: 0.25em;color: #696969;}#sk-container-id-1 label.sk-toggleable__label-arrow:hover:before {color: black;}#sk-container-id-1 div.sk-estimator:hover label.sk-toggleable__label-arrow:before {color: black;}#sk-container-id-1 div.sk-toggleable__content {max-height: 0;max-width: 0;overflow: hidden;text-align: left;background-color: #f0f8ff;}#sk-container-id-1 div.sk-toggleable__content pre {margin: 0.2em;color: black;border-radius: 0.25em;background-color: #f0f8ff;}#sk-container-id-1 input.sk-toggleable__control:checked~div.sk-toggleable__content {max-height: 200px;max-width: 100%;overflow: auto;}#sk-container-id-1 input.sk-toggleable__control:checked~label.sk-toggleable__label-arrow:before {content: \"▾\";}#sk-container-id-1 div.sk-estimator input.sk-toggleable__control:checked~label.sk-toggleable__label {background-color: #d4ebff;}#sk-container-id-1 div.sk-label input.sk-toggleable__control:checked~label.sk-toggleable__label {background-color: #d4ebff;}#sk-container-id-1 input.sk-hidden--visually {border: 0;clip: rect(1px 1px 1px 1px);clip: rect(1px, 1px, 1px, 1px);height: 1px;margin: -1px;overflow: hidden;padding: 0;position: absolute;width: 1px;}#sk-container-id-1 div.sk-estimator {font-family: monospace;background-color: #f0f8ff;border: 1px dotted black;border-radius: 0.25em;box-sizing: border-box;margin-bottom: 0.5em;}#sk-container-id-1 div.sk-estimator:hover {background-color: #d4ebff;}#sk-container-id-1 div.sk-parallel-item::after {content: \"\";width: 100%;border-bottom: 1px solid gray;flex-grow: 1;}#sk-container-id-1 div.sk-label:hover label.sk-toggleable__label {background-color: #d4ebff;}#sk-container-id-1 div.sk-serial::before {content: \"\";position: absolute;border-left: 1px solid gray;box-sizing: border-box;top: 0;bottom: 0;left: 50%;z-index: 0;}#sk-container-id-1 div.sk-serial {display: flex;flex-direction: column;align-items: center;background-color: white;padding-right: 0.2em;padding-left: 0.2em;position: relative;}#sk-container-id-1 div.sk-item {position: relative;z-index: 1;}#sk-container-id-1 div.sk-parallel {display: flex;align-items: stretch;justify-content: center;background-color: white;position: relative;}#sk-container-id-1 div.sk-item::before, #sk-container-id-1 div.sk-parallel-item::before {content: \"\";position: absolute;border-left: 1px solid gray;box-sizing: border-box;top: 0;bottom: 0;left: 50%;z-index: -1;}#sk-container-id-1 div.sk-parallel-item {display: flex;flex-direction: column;z-index: 1;position: relative;background-color: white;}#sk-container-id-1 div.sk-parallel-item:first-child::after {align-self: flex-end;width: 50%;}#sk-container-id-1 div.sk-parallel-item:last-child::after {align-self: flex-start;width: 50%;}#sk-container-id-1 div.sk-parallel-item:only-child::after {width: 0;}#sk-container-id-1 div.sk-dashed-wrapped {border: 1px dashed gray;margin: 0 0.4em 0.5em 0.4em;box-sizing: border-box;padding-bottom: 0.4em;background-color: white;}#sk-container-id-1 div.sk-label label {font-family: monospace;font-weight: bold;display: inline-block;line-height: 1.2em;}#sk-container-id-1 div.sk-label-container {text-align: center;}#sk-container-id-1 div.sk-container {/* jupyter's `normalize.less` sets `[hidden] { display: none; }` but bootstrap.min.css set `[hidden] { display: none !important; }` so we also need the `!important` here to be able to override the default hidden behavior on the sphinx rendered scikit-learn.org. See: https://github.com/scikit-learn/scikit-learn/issues/21755 */display: inline-block !important;position: relative;}#sk-container-id-1 div.sk-text-repr-fallback {display: none;}</style><div id=\"sk-container-id-1\" class=\"sk-top-container\"><div class=\"sk-text-repr-fallback\"><pre>LinearRegression()</pre><b>In a Jupyter environment, please rerun this cell to show the HTML representation or trust the notebook. <br />On GitHub, the HTML representation is unable to render, please try loading this page with nbviewer.org.</b></div><div class=\"sk-container\" hidden><div class=\"sk-item\"><div class=\"sk-estimator sk-toggleable\"><input class=\"sk-toggleable__control sk-hidden--visually\" id=\"sk-estimator-id-1\" type=\"checkbox\" checked><label for=\"sk-estimator-id-1\" class=\"sk-toggleable__label sk-toggleable__label-arrow\">LinearRegression</label><div class=\"sk-toggleable__content\"><pre>LinearRegression()</pre></div></div></div></div></div>"
      ],
      "text/plain": [
       "LinearRegression()"
      ]
     },
     "execution_count": 10,
     "metadata": {},
     "output_type": "execute_result"
    }
   ],
   "source": [
    "# Step 4: Initialize and Train the Linear Regression Model\n",
    "model = LinearRegression()\n",
    "model.fit(X_train, y_train)  # Fit the model on training data"
   ]
  },
  {
   "cell_type": "code",
   "execution_count": 11,
   "id": "2bbae43c",
   "metadata": {},
   "outputs": [],
   "source": [
    "# Step 5: Make Predictions on the Test Set\n",
    "y_pred = model.predict(X_test)"
   ]
  },
  {
   "cell_type": "markdown",
   "id": "078fd2c5",
   "metadata": {},
   "source": [
    "purpose of the predict() method is to generate predictions based on the input features provided\n",
    "\n",
    "takes a single argument, typically a 2D array or a DataFrame, containing the input features for which predictions are to be made.\n",
    "\n"
   ]
  },
  {
   "cell_type": "code",
   "execution_count": 12,
   "id": "9b3c3431",
   "metadata": {},
   "outputs": [],
   "source": [
    "# Step 6: Evaluate the Model\n",
    "mse = mean_squared_error(y_test, y_pred)  # Calculate Mean Squared Error\n",
    "r2 = r2_score(y_test, y_pred)             # Calculate R-squared"
   ]
  },
  {
   "cell_type": "code",
   "execution_count": 13,
   "id": "bef9146a",
   "metadata": {},
   "outputs": [
    {
     "name": "stdout",
     "output_type": "stream",
     "text": [
      "Mean Squared Error: 80837662.97421867\n",
      "R-squared: 0.9873691151602784\n"
     ]
    }
   ],
   "source": [
    "print(\"Mean Squared Error:\", mse)\n",
    "print(\"R-squared:\", r2)"
   ]
  },
  {
   "cell_type": "markdown",
   "id": "0874e74c",
   "metadata": {},
   "source": [
    "MSE is a measure of the average squared differences between predicted and actual values. A high MSE indicates that, on average, predictions deviate significantly from actual values. \n",
    "\n",
    "However, whether this MSE is \"large\" depends on the scale of your data. If the actual values in your dataset are very large (in the millions, for example), then this MSE might be reasonable. But if your data is on a smaller scale, this could indicate higher-than-desired error."
   ]
  },
  {
   "cell_type": "markdown",
   "id": "243d996d",
   "metadata": {},
   "source": [
    "An R2 value close to 1 (like 0.987) suggests that the model explains about 98.7% of the variance in the data, which is generally considered very good. \n",
    "\n",
    "High R2 values indicate a strong correlation between predicted and actual values."
   ]
  },
  {
   "cell_type": "code",
   "execution_count": 14,
   "id": "3ebeb7fa",
   "metadata": {},
   "outputs": [
    {
     "data": {
      "image/png": "[encoded data removed]",
      "text/plain": [
       "<Figure size 640x480 with 1 Axes>"
      ]
     },
     "metadata": {},
     "output_type": "display_data"
    }
   ],
   "source": [
    "# Step 7: Visualize the Results\n",
    "plt.scatter(X, y, color='blue', label='Actual Data')            # Plot actual data\n",
    "plt.plot(X, model.predict(X), color='red', label='Model Fit')    # Plot model's line\n",
    "plt.xlabel(\"Size (square feet)\")\n",
    "plt.ylabel(\"Price (USD)\")\n",
    "plt.title(\"House Size vs. Price Prediction\")\n",
    "plt.legend()\n",
    "plt.show()\n"
   ]
  },
  {
   "cell_type": "code",
   "execution_count": 15,
   "id": "6acad954",
   "metadata": {},
   "outputs": [],
   "source": [
    "new_house_size = 1500\n",
    "new_data_single = np.array([[new_house_size]])\n"
   ]
  },
  {
   "cell_type": "code",
   "execution_count": 16,
   "id": "f3d58119",
   "metadata": {},
   "outputs": [
    {
     "name": "stderr",
     "output_type": "stream",
     "text": [
      "c:\\Users\\devid\\anaconda3\\Lib\\site-packages\\sklearn\\base.py:464: UserWarning: X does not have valid feature names, but LinearRegression was fitted with feature names\n",
      "  warnings.warn(\n"
     ]
    },
    {
     "data": {
      "text/plain": [
       "array([278316.83168317])"
      ]
     },
     "execution_count": 16,
     "metadata": {},
     "output_type": "execute_result"
    }
   ],
   "source": [
    "predicted_price_single = model.predict(new_data_single)\n",
    "predicted_price_single"
   ]
  },
  {
   "cell_type": "code",
   "execution_count": null,
   "id": "338ad2c7",
   "metadata": {},
   "outputs": [],
   "source": [
    "# multiple tests\n",
    "new_data = np.array([[1100], [1700], [2100]])  # Example sizes for prediction\n",
    "new_data"
   ]
  },
  {
   "cell_type": "code",
   "execution_count": 18,
   "id": "3523fa43",
   "metadata": {},
   "outputs": [
    {
     "name": "stderr",
     "output_type": "stream",
     "text": [
      "c:\\Users\\devid\\anaconda3\\Lib\\site-packages\\sklearn\\base.py:464: UserWarning: X does not have valid feature names, but LinearRegression was fitted with feature names\n",
      "  warnings.warn(\n"
     ]
    }
   ],
   "source": [
    "new_predictions = model.predict(new_data)       # Predict prices for new sizes\n",
    "new_predictions"
   ]
  },
  {
   "cell_type": "code",
   "execution_count": 21,
   "id": "62766ec7",
   "metadata": {},
   "outputs": [
    {
     "name": "stdout",
     "output_type": "stream",
     "text": [
      "Predicted price for a house of size 1100 sq ft: $211584158.42\n"
     ]
    }
   ],
   "source": [
    "print(f\"Predicted price for a house of size {new_data[0][0]} sq ft: ${new_predictions[0] * 1000:.2f}\")"
   ]
  },
  {
   "cell_type": "code",
   "execution_count": 22,
   "id": "c57c8024",
   "metadata": {},
   "outputs": [
    {
     "data": {
      "text/html": [
       "<div>\n",
       "<style scoped>\n",
       "    .dataframe tbody tr th:only-of-type {\n",
       "        vertical-align: middle;\n",
       "    }\n",
       "\n",
       "    .dataframe tbody tr th {\n",
       "        vertical-align: top;\n",
       "    }\n",
       "\n",
       "    .dataframe thead th {\n",
       "        text-align: right;\n",
       "    }\n",
       "</style>\n",
       "<table border=\"1\" class=\"dataframe\">\n",
       "  <thead>\n",
       "    <tr style=\"text-align: right;\">\n",
       "      <th></th>\n",
       "      <th>Size</th>\n",
       "    </tr>\n",
       "  </thead>\n",
       "  <tbody>\n",
       "    <tr>\n",
       "      <th>0</th>\n",
       "      <td>1100</td>\n",
       "    </tr>\n",
       "    <tr>\n",
       "      <th>1</th>\n",
       "      <td>1700</td>\n",
       "    </tr>\n",
       "    <tr>\n",
       "      <th>2</th>\n",
       "      <td>2100</td>\n",
       "    </tr>\n",
       "  </tbody>\n",
       "</table>\n",
       "</div>"
      ],
      "text/plain": [
       "   Size\n",
       "0  1100\n",
       "1  1700\n",
       "2  2100"
      ]
     },
     "execution_count": 22,
     "metadata": {},
     "output_type": "execute_result"
    }
   ],
   "source": [
    "# turn 2d array into a df\n",
    "df= pd.DataFrame(new_data, columns=['Size'])\n",
    "df\n"
   ]
  },
  {
   "cell_type": "code",
   "execution_count": 23,
   "id": "06d11c0c",
   "metadata": {},
   "outputs": [],
   "source": [
    "df['predictions']=new_predictions"
   ]
  },
  {
   "cell_type": "code",
   "execution_count": 24,
   "id": "3d8a571e",
   "metadata": {},
   "outputs": [],
   "source": [
    "df.to_csv('house_price_pred.csv', index= False)"
   ]
  },
  {
   "cell_type": "markdown",
   "id": "7b8d1ed7",
   "metadata": {},
   "source": []
  },
  {
   "cell_type": "markdown",
   "id": "724b61dd",
   "metadata": {},
   "source": []
  },
  {
   "cell_type": "markdown",
   "id": "28a09886",
   "metadata": {},
   "source": [
    "## another way of doing the same thing"
   ]
  },
  {
   "cell_type": "code",
   "execution_count": null,
   "id": "87e25884",
   "metadata": {},
   "outputs": [],
   "source": []
  },
  {
   "cell_type": "markdown",
   "id": "ff702fd4",
   "metadata": {},
   "source": [
    "## magic plot of matplotlib"
   ]
  },
  {
   "cell_type": "code",
   "execution_count": null,
   "id": "53fca642",
   "metadata": {},
   "outputs": [],
   "source": [
    "%matplotlib inline\n",
    "plt.xlabel('area')\n",
    "plt.ylabel('price')\n",
    "\n",
    "plt.scatter(data.Size, data.Price, color='red', marker='+')"
   ]
  },
  {
   "cell_type": "code",
   "execution_count": null,
   "id": "03a00feb",
   "metadata": {},
   "outputs": [],
   "source": []
  },
  {
   "cell_type": "code",
   "execution_count": null,
   "id": "a6d177a6",
   "metadata": {},
   "outputs": [],
   "source": []
  },
  {
   "cell_type": "code",
   "execution_count": null,
   "id": "60687523",
   "metadata": {},
   "outputs": [],
   "source": []
  },
  {
   "cell_type": "markdown",
   "id": "5454f2e3-4fa4-48f9-936a-35be52d769af",
   "metadata": {},
   "source": [
    "<!--- Mohammad Idrees Bhat | Mohammad Idrees Bhat --->"
   ]
  },
  {
   "cell_type": "markdown",
   "id": "3e92ba4c-672c-4e9f-b842-2b2d9234e5ff",
   "metadata": {},
   "source": [
    "<h2 style=\"background-color: #ffe4e1; color: #2f4f4f; padding: 10px; border-radius: 10px; width: 350px; text-align: center; float: right; margin: 20px 0;\">\n",
    "    Mohammad Idrees Bhat<br>\n",
    "    <span style=\"font-size: 12px; color: #696969;\">\n",
    "        Tech Skills Trainer | AI/ML Consultant\n",
    "    </span>\n",
    "</h2>"
   ]
  },
  {
   "cell_type": "markdown",
   "id": "15cc27b3-58d0-431e-8121-f1b4c08377c7",
   "metadata": {},
   "source": [
    "<!--- Mohammad Idrees Bhat | Tech Skills Trainer | AI/ML Consultant --->"
   ]
  }
 ],
 "metadata": {
  "kernelspec": {
   "display_name": "Python 3 (ipykernel)",
   "language": "python",
   "name": "python3"
  },
  "language_info": {
   "codemirror_mode": {
    "name": "ipython",
    "version": 3
   },
   "file_extension": ".py",
   "mimetype": "text/x-python",
   "name": "python",
   "nbconvert_exporter": "python",
   "pygments_lexer": "ipython3",
   "version": "3.12.4"
  }
 },
 "nbformat": 4,
 "nbformat_minor": 5
}
