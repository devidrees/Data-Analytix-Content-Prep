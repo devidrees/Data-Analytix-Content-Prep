{
 "cells": [
  {
   "cell_type": "markdown",
   "id": "8c4bc666-34a1-47b6-8018-1ad79dafae95",
   "metadata": {},
   "source": [
    "<div style=\"background-color: #add8e6; padding: 10px; height: 70px; border-radius: 15px;\">\n",
    "    <div style=\"font-family: 'Georgia', serif; font-size: 20px; padding: 10px; text-align: right; position: absolute; right: 20px;\">\n",
    "        Mohammad Idrees Bhat <br>\n",
    "        <span style=\"font-family: 'Arial', sans-serif;font-size: 12px; color: #0a0a0a;\">Tech Skills Trainer | AI/ML Consultant</span> <!--- Mohammad Idrees Bhat | Tech Skills Trainer | AI/ML Consultant --->\n",
    "    </div>\n",
    "</div>"
   ]
  },
  {
   "cell_type": "markdown",
   "id": "ef444d2e-97e9-49a8-bf3d-0119a2dfebb5",
   "metadata": {},
   "source": [
    "<!--- Mohammad Idrees Bhat | Tech Skills Trainer | AI/ML Consultant --->"
   ]
  },
  {
   "cell_type": "markdown",
   "id": "151ad3d8-0bce-4e29-86da-5ea91b5a69df",
   "metadata": {},
   "source": [
    "<div style=\"background-color: #002147; padding: 10px; text-align: center; color: white; font-size: 32px; font-family: 'Arial', sans-serif;\">\n",
    "    Supervised Learning <br>\n",
    "    <h3 style=\"text-align: center; color: white; font-size: 15px; font-family: 'Arial', sans-serif;\"></h3>\n",
    "</div>"
   ]
  },
  {
   "cell_type": "markdown",
   "id": "155e8ec7-547b-41f4-b6f6-6e6e719c198c",
   "metadata": {},
   "source": [
    "<div style=\"background-color: white; color: black; padding: 10px;\">\n",
    "    <h4><b>AGENDA</b> <p><p>\n",
    "1.  Recap - Overview Machine Learning<p><p> \n",
    "2.  Overview of Supervised Learning <p>\n",
    "3.  Various algorithms used in supervised learning <p>\n",
    "4.  Linear Regression in Depth <p>\n",
    "5.  Hands-on Activity - Linear Regression <p>  \n",
    "</h4> </div>"
   ]
  },
  {
   "cell_type": "markdown",
   "id": "19b1c30b-e766-4658-8d70-1b0af10ae2f4",
   "metadata": {},
   "source": [
    "<!-- Link the Montserrat font -->\n",
    "<link href=\"https://fonts.googleapis.com/css2?family=Montserrat:wght@700&display=swap\" rel=\"stylesheet\">\n",
    "\n",
    "<!-- Main div with centered content and a flexible box size, no scroll bar -->\n",
    "<div style=\"background-color: #baf733; min-height: 100px; width: 100%; display: flex; justify-content: center; align-items: center; position: relative; padding: 20px; box-sizing: border-box; font-family: 'Montserrat', sans-serif; font-weight: 700; font-size: 20px; border-radius: 15px;\">\n",
    "    <div style=\"position: absolute; top: 10px; right: 10px; padding: 5px 10px; font-size: 14px; color: rgba(0, 0, 0, 0.05); border-radius: 10px;\">Mohammad Idrees Bhat</div>\n",
    "    <!-- Fill the below text with question -->\n",
    "    <!-- Fill the below text with question -->\n",
    "    What’s an interesting item in your bag or on your desk right now?\n",
    "    <!-- Fill the above text with question -->\n",
    "    <!-- Fill the above text with question -->\n",
    "\n",
    "</div>"
   ]
  },
  {
   "cell_type": "markdown",
   "id": "68049ddf",
   "metadata": {},
   "source": [
    "<div style=\"background-color: lightgreen; color: black; padding: 4px;\">\n",
    "    <h3>1. Recap - Overview Machine Learning \n",
    "</h3> </div>"
   ]
  },
  {
   "cell_type": "markdown",
   "id": "bffda1f5",
   "metadata": {},
   "source": [
    "![](https://www.deviq.io/hs-fs/hubfs/DevIQ%20website%20active%20images/ai-ml-dl-ds-venn-diagram-deviq.png?width=449&name=ai-ml-dl-ds-venn-diagram-deviq.png)"
   ]
  },
  {
   "cell_type": "markdown",
   "id": "62b2387c",
   "metadata": {},
   "source": [
    "- **AI (Artificial Intelligence)**: The simulation of human intelligence processes by machines, particularly computer systems, enabling them to perform tasks that typically require human intelligence, such as reasoning, learning, and problem-solving.\n",
    "\n",
    "- **ML (Machine Learning)**: A subset of AI that focuses on the development of algorithms and statistical models that allow computers to **improve their performance** on a specific task through experience without being explicitly programmed.\n",
    "\n",
    "- **DL (Deep Learning)**: A specialized area of machine learning that utilizes neural networks with many layers (deep networks) to analyze and learn from large amounts of data, particularly effective in tasks like image and speech recognition.\n",
    "\n",
    "- **DS (Data Science)**: An interdisciplinary field that combines statistical analysis, data mining, and machine learning to extract insights and knowledge from structured and unstructured data.\n"
   ]
  },
  {
   "cell_type": "markdown",
   "id": "4a73b8af",
   "metadata": {},
   "source": [
    "<div style=\"background-color: lightblue; color: black; padding: 4px;\">\n",
    "    <h4> Learning vs Not Learning\n",
    "</h4> </div>"
   ]
  },
  {
   "cell_type": "markdown",
   "id": "df2d914c",
   "metadata": {},
   "source": [
    "**Machine Learning (ML)** focuses on algorithms that allow computers to learn from and make predictions. \n",
    "\n",
    "ML algorithms improve their performance as they are exposed to more data over time, to identify patterns and make informed predictions without explicit programming.\n",
    "\n",
    "#### Examples of ML:\n",
    "- **Spam Detection**: An email filtering system that uses ML to classify emails as spam or not spam based on patterns in the text, sender information, and user behavior.\n",
    "- **Recommendation Systems**: Services like Netflix or Amazon that suggest movies or products based on user preferences and past behavior using collaborative filtering techniques.\n",
    "- **Image Recognition**: Applications that can identify objects, people, or scenes in images, such as facial recognition technology used in security systems.\n",
    "- **Predictive Analytics**: A method that uses statistical algorithms and machine learning techniques to identify the likelihood of future outcomes based on historical data. For instance, businesses use predictive analytics to forecast sales trends by analyzing past sales data, helping them make informed decisions on inventory and marketing strategies.\n",
    "\n",
    "**Traditional Programming** (What is Not Machine Learning?)\n",
    "\n",
    "While many coding tasks involve logic and data processing, not all programming tasks fall under the category of machine learning. Traditional coding involves explicitly defining rules and procedures to perform a specific task without the capability to learn from data.\n",
    "\n",
    "#### Examples of Non-ML Coding:\n",
    "- **Basic Programming Tasks**: Writing a simple program to calculate the sum of two numbers or to sort a list of items. These tasks follow fixed instructions without any learning capability.\n",
    "  \n",
    "  *Example 1*: A Python script that takes user input and prints the sum:\n",
    "  ```python\n",
    "  num1 = int(input(\"Enter first number: \"))\n",
    "  num2 = int(input(\"Enter second number: \"))\n",
    "  print(\"Sum:\", num1 + num2)\n",
    "  ```\n",
    "  *Example 2*: A script takes a student's score as input and classifies the grade.\n",
    "    ```python\n",
    "    score = int(input(\"Enter your score: \"))  # Take input from the user\n",
    "\n",
    "    # Conditional logic to classify the grade based on the score\n",
    "    if score >= 90:\n",
    "        grade = \"A\"\n",
    "    elif score >= 80:\n",
    "        grade = \"B\"\n",
    "    elif score >= 70:\n",
    "        grade = \"C\"\n",
    "    elif score >= 60:\n",
    "        grade = \"D\"\n",
    "    else:\n",
    "        grade = \"F\"\n",
    "\n",
    "    # Print the classified grade\n",
    "    print(\"Your grade is:\", grade)\n",
    "    ```"
   ]
  },
  {
   "cell_type": "markdown",
   "id": "cd65d3de",
   "metadata": {},
   "source": [
    "<div style=\"background-color: lightblue; color: black; padding: 4px;\">\n",
    "    <h4> Algorithm vs Model\n",
    "</h4> </div>"
   ]
  },
  {
   "cell_type": "markdown",
   "id": "8084f6d8",
   "metadata": {},
   "source": [
    "- **Algorithm**: A set of rules or instructions that a computer follows to solve a problem or complete a task. In machine learning, algorithms process data and learn from it to make predictions or decisions.\n",
    "\n",
    "  - **Example**: The **linear regression algorithm** is used to find the best-fit line for a set of data points, which helps in predicting outcomes based on input features.\n",
    "\n",
    "- **Model**: The output created by an algorithm after it has been trained on a specific dataset. A model represents the learned patterns or relationships in the data and can make predictions on new, unseen data.\n",
    "\n",
    "  - **Example**: After training the linear regression algorithm on a dataset of house prices and their features (like size and location), the resulting **linear regression model** can predict the price of a new house based on its features.\n"
   ]
  },
  {
   "cell_type": "markdown",
   "id": "53ec8637",
   "metadata": {},
   "source": [
    "<div style=\"background-color: lightgreen; color: black; padding: 4px;\">\n",
    "    <h3>2. Overview of Supervised Learning \n",
    "</h3> </div>"
   ]
  },
  {
   "cell_type": "markdown",
   "id": "0af9bde1",
   "metadata": {},
   "source": [
    "Supervised Learning is a type of machine learning that uses labeled data to train algorithms that classify data or predict outcomes accurately."
   ]
  },
  {
   "cell_type": "markdown",
   "id": "afd725cf",
   "metadata": {},
   "source": [
    "<div style=\"background-color: lightblue; color: black; padding: 4px;\">\n",
    "    <h4> Understanding the key components\n",
    "</h4> </div>"
   ]
  },
  {
   "cell_type": "markdown",
   "id": "2f14c0c9",
   "metadata": {},
   "source": [
    "**Labeled Data**: Each data point is associated with a **known output** (label), which the model uses to learn patterns.\n",
    "\n",
    "**Target Variable**: The variable that the model is trying to predict.\n",
    "\n",
    "**Goal**: The objective in supervised learning is to **predict outcomes** based on input features.\n",
    "\n",
    "---"
   ]
  },
  {
   "cell_type": "markdown",
   "id": "862953ab",
   "metadata": {},
   "source": [
    "#### **Example 1**\n",
    "**Can we predict the price of a car prices if we know the `car age`, `mileage`, `brand`, and `horsepower`?**\n"
   ]
  },
  {
   "cell_type": "markdown",
   "id": "9118da5b",
   "metadata": {},
   "source": [
    "**Labelled Data:**\n",
    "\n",
    "**input features** ( `car age`, `brand`, `mileage`, `horsepower`) and a labeled outcome (the car's price)"
   ]
  },
  {
   "cell_type": "markdown",
   "id": "d8bd60be",
   "metadata": {},
   "source": [
    "- Import the datset from here (without attribute names): https://archive.ics.uci.edu/dataset/10/automobile\n",
    "\n",
    "- Download dataset from here (with attribute names): https://www.kaggle.com/datasets/toramky/automobile-dataset\n",
    "\n",
    "\n",
    "- Full description of these attributes on the UCI Automobile Dataset webpage, under the \"Attribute Information\" section or the Kaggle page."
   ]
  },
  {
   "cell_type": "code",
   "execution_count": 1,
   "id": "e66be021",
   "metadata": {},
   "outputs": [
    {
     "data": {
      "text/plain": [
       "<bound method DataFrame.info of      symboling normalized_losses         make fuel_type aspiration num_doors  \\\n",
       "0            3                 ?  alfa-romero       gas        std       two   \n",
       "1            3                 ?  alfa-romero       gas        std       two   \n",
       "2            1                 ?  alfa-romero       gas        std       two   \n",
       "3            2               164         audi       gas        std      four   \n",
       "4            2               164         audi       gas        std      four   \n",
       "..         ...               ...          ...       ...        ...       ...   \n",
       "200         -1                95        volvo       gas        std      four   \n",
       "201         -1                95        volvo       gas      turbo      four   \n",
       "202         -1                95        volvo       gas        std      four   \n",
       "203         -1                95        volvo    diesel      turbo      four   \n",
       "204         -1                95        volvo       gas      turbo      four   \n",
       "\n",
       "      body_style drive_wheels engine_location  wheel_base  ...  engine_size  \\\n",
       "0    convertible          rwd           front        88.6  ...          130   \n",
       "1    convertible          rwd           front        88.6  ...          130   \n",
       "2      hatchback          rwd           front        94.5  ...          152   \n",
       "3          sedan          fwd           front        99.8  ...          109   \n",
       "4          sedan          4wd           front        99.4  ...          136   \n",
       "..           ...          ...             ...         ...  ...          ...   \n",
       "200        sedan          rwd           front       109.1  ...          141   \n",
       "201        sedan          rwd           front       109.1  ...          141   \n",
       "202        sedan          rwd           front       109.1  ...          173   \n",
       "203        sedan          rwd           front       109.1  ...          145   \n",
       "204        sedan          rwd           front       109.1  ...          141   \n",
       "\n",
       "     fuel_system  bore  stroke compression_ratio horsepower  peak_rpm  \\\n",
       "0           mpfi  3.47    2.68               9.0        111      5000   \n",
       "1           mpfi  3.47    2.68               9.0        111      5000   \n",
       "2           mpfi  2.68    3.47               9.0        154      5000   \n",
       "3           mpfi  3.19    3.40              10.0        102      5500   \n",
       "4           mpfi  3.19    3.40               8.0        115      5500   \n",
       "..           ...   ...     ...               ...        ...       ...   \n",
       "200         mpfi  3.78    3.15               9.5        114      5400   \n",
       "201         mpfi  3.78    3.15               8.7        160      5300   \n",
       "202         mpfi  3.58    2.87               8.8        134      5500   \n",
       "203          idi  3.01    3.40              23.0        106      4800   \n",
       "204         mpfi  3.78    3.15               9.5        114      5400   \n",
       "\n",
       "    city_mpg highway_mpg  price  \n",
       "0         21          27  13495  \n",
       "1         21          27  16500  \n",
       "2         19          26  16500  \n",
       "3         24          30  13950  \n",
       "4         18          22  17450  \n",
       "..       ...         ...    ...  \n",
       "200       23          28  16845  \n",
       "201       19          25  19045  \n",
       "202       18          23  21485  \n",
       "203       26          27  22470  \n",
       "204       19          25  22625  \n",
       "\n",
       "[205 rows x 26 columns]>"
      ]
     },
     "execution_count": 1,
     "metadata": {},
     "output_type": "execute_result"
    }
   ],
   "source": [
    "import pandas as pd\n",
    "\n",
    "url = \"https://archive.ics.uci.edu/ml/machine-learning-databases/autos/imports-85.data\"\n",
    "\n",
    "columns = [\"symboling\", \"normalized_losses\", \"make\", \"fuel_type\", \"aspiration\", \"num_doors\",\n",
    "           \"body_style\", \"drive_wheels\", \"engine_location\", \"wheel_base\", \"length\", \"width\",\n",
    "           \"height\", \"curb_weight\", \"engine_type\", \"num_cylinders\", \"engine_size\", \"fuel_system\",\n",
    "           \"bore\", \"stroke\", \"compression_ratio\", \"horsepower\", \"peak_rpm\", \"city_mpg\", \"highway_mpg\", \"price\"]\n",
    "\n",
    "data = pd.read_csv(url, names=columns)\n",
    "\n",
    "data.info"
   ]
  },
  {
   "cell_type": "markdown",
   "id": "d65d8069",
   "metadata": {},
   "source": [
    "<div style=\"background-color: lightblue; color: black; padding: 4px;\">\n",
    "    <h4> Regression vs Classification\n",
    "</h4> </div>"
   ]
  },
  {
   "cell_type": "markdown",
   "id": "a483373c",
   "metadata": {},
   "source": [
    "**Regression** is a type of supervised learning used to predict a continuous output variable based on one or more input features.\n",
    "\n",
    "The output is a continuous value, meaning it can take any numerical value within a range.\n",
    "\n",
    "*Examples*:\n",
    "- Predicting house prices based on features like size, location, and number of bedrooms.\n",
    "- Estimating a person’s weight based on height and age.\n",
    "\n",
    "Common Algorithms: Linear Regression, Polynomial Regression, Decision Trees (for regression), Support Vector Regression (SVR)"
   ]
  },
  {
   "cell_type": "markdown",
   "id": "12f52b5b",
   "metadata": {},
   "source": [
    "**Classification** is a type of supervised learning used to categorize input data into predefined classes or categories.\n",
    "\n",
    "The output is a discrete label, meaning it represents distinct classes or categories.\n",
    "\n",
    "*Examples*:\n",
    "- Classifying emails as \"spam\" or \"not spam.\"\n",
    "- Identifying whether an image contains a cat or a dog.\n",
    "\n",
    "Common Algorithms: Logistic Regression, Decision Trees (for classification), Random Forest, Support Vector Machines (SVM)."
   ]
  },
  {
   "cell_type": "markdown",
   "id": "1b46f4ba",
   "metadata": {},
   "source": [
    "**Key Differences**:\n",
    "\n",
    "Nature of Output:\n",
    "- Regression predicts *continuous* values (e.g., price, temperature).\n",
    "- Classification predicts *categorical* labels (e.g., yes/no, spam/not spam).\n",
    "\n",
    "Evaluation Metrics:\n",
    "- Regression typically uses metrics like Mean Squared Error (MSE), Mean Absolute Error (MAE), and R-squared.\n",
    "- Classification uses metrics like accuracy, precision, recall, F1-score, and confusion matrix."
   ]
  },
  {
   "cell_type": "markdown",
   "id": "c2668002",
   "metadata": {},
   "source": [
    "<div style=\"background-color: lightgreen; color: black; padding: 4px;\">\n",
    "    <h3>3. Various Algorithms used in Supervised Learning\n",
    "</h3> </div>"
   ]
  },
  {
   "cell_type": "markdown",
   "id": "8ab78124",
   "metadata": {},
   "source": [
    "<div style=\"background-color: lightblue; color: black; padding: 4px;\">\n",
    "    <h4> Various Regression Algorithms\n",
    "</h4> </div>"
   ]
  },
  {
   "cell_type": "markdown",
   "id": "fc02eb44",
   "metadata": {},
   "source": [
    "- **Linear Regression**: \n",
    "  - Used to predict a continuous target variable based on the linear relationship with one or more predictor variables.\n",
    "  \n",
    "- **Polynomial Regression**: \n",
    "  - Extends linear regression by fitting a polynomial curve to capture non-linear relationships.\n",
    "\n",
    "- **Support Vector Regression (SVR)**: \n",
    "  - An extension of SVM for regression problems, it tries to fit as many data points as possible within a specified margin.\n",
    "  \n",
    "- **Decision Trees (Regression Trees)**: \n",
    "  - A tree-based model that splits data into subsets based on feature values, used for predicting continuous outcomes.\n",
    "  \n",
    "- **Random Forest Regression**: \n",
    "  - An ensemble method that builds multiple decision trees and averages their predictions to improve accuracy and robustness.\n",
    "\n",
    "Other used algorithms include: \n",
    "\n",
    "  - **Ridge Regression**: \n",
    "  - A linear regression technique that includes L2 regularization to prevent overfitting by penalizing large coefficients.\n",
    "  \n",
    "- **Lasso Regression**: \n",
    "  - Similar to ridge regression but uses L1 regularization, which can reduce some coefficients to zero, effectively performing variable selection.\n",
    "\n",
    "- **Elastic Net**: \n",
    "  - Combines L1 and L2 regularization, balancing between ridge and lasso regression.\n",
    "\n",
    "- **Gradient Boosting Machines (GBM)**: \n",
    "  - Builds models in a stage-wise fashion by optimizing loss functions and is particularly effective for complex datasets.\n"
   ]
  },
  {
   "cell_type": "markdown",
   "id": "4367bfd4",
   "metadata": {},
   "source": [
    "<div style=\"background-color: lightblue; color: black; padding: 4px;\">\n",
    "    <h4> Classification Algorithms\n",
    "</h4> </div>"
   ]
  },
  {
   "cell_type": "markdown",
   "id": "f3284f60",
   "metadata": {},
   "source": [
    "- **Logistic Regression**: \n",
    "  - Despite its name, it's a classification algorithm used to predict binary outcomes based on one or more predictor variables.\n",
    "  \n",
    "- **Support Vector Machines (SVM)**: \n",
    "  - Finds the hyperplane that best separates data points of different classes, effective in high-dimensional spaces.\n",
    "  \n",
    "- **Decision Trees**: \n",
    "  - A tree-like model that makes decisions based on feature values to classify data into categories.\n",
    "  \n",
    "- **Random Forest**: \n",
    "  - An ensemble method that combines multiple decision trees to improve classification accuracy and reduce overfitting.\n",
    "  \n",
    "- **k-Nearest Neighbors (k-NN)**: \n",
    "  - Classifies a data point based on the majority class of its k-nearest neighbors in the feature space.\n",
    "  \n",
    "- **Naive Bayes**: \n",
    "  - A probabilistic classifier that applies Bayes' theorem, assuming independence between features, often used for text classification.\n",
    "  \n",
    "- **Gradient Boosting Classifiers**: \n",
    "  - Builds models iteratively, optimizing the prediction accuracy by focusing on errors from previous iterations.\n",
    "  \n",
    "- **Artificial Neural Networks (ANN)**: \n",
    "  - A flexible model inspired by biological neural networks, used for both classification and regression tasks.\n"
   ]
  },
  {
   "cell_type": "markdown",
   "id": "b73e407c",
   "metadata": {},
   "source": [
    "<div style=\"background-color: lightblue; color: black; padding: 4px;\">\n",
    "    <h4> Types of Regression\n",
    "</h4> </div>"
   ]
  },
  {
   "cell_type": "markdown",
   "id": "79c73698",
   "metadata": {},
   "source": [
    "**Regression analysis** is a **statistical modeling technique**, a way of mathematically sorting out a series of variables. We use it to determine which variables have an impact and how they relate to one another.\n",
    "\n",
    "It tries to determine how strongly related one **dependent variable** is to a series of other changing variables. We usually refer to them as **independent variables**.\n",
    "\n",
    "![](https://i0.wp.com/marketbusinessnews.com/wp-content/uploads/2018/07/Regression_Analysis.png?w=932&quality=80&ssl=1)"
   ]
  },
  {
   "cell_type": "markdown",
   "id": "7d91d784",
   "metadata": {},
   "source": [
    "Example:\n",
    "\n",
    "This regression analysis chart relates to the situation i.e., where you are a sales manager. Colleagues’ comments that **snowfall** has an impact on **sales** figures appears to be accurate. Each red dot represents one month’s worth of data, i.e., sales totals and how much it snowed that same month.\n",
    "\n",
    "\n",
    "\n",
    "![](https://i0.wp.com/marketbusinessnews.com/wp-content/uploads/2018/07/Regression_Analysis_Sales.png?w=954&quality=80&ssl=1)"
   ]
  },
  {
   "cell_type": "markdown",
   "id": "e0c83069",
   "metadata": {},
   "source": [
    "---\n",
    "In machine learning, **Regression** is a type of supervised learning task where the model’s job is to predict a **continuous outcome variable** (like car price or house price).\n",
    "\n",
    "Based on one or more **input variables** (**independent**), the model learns to predict an outcome. The **outcome** can be any **continuous number** (not categories)."
   ]
  },
  {
   "cell_type": "markdown",
   "id": "5f6f3c06",
   "metadata": {},
   "source": []
  },
  {
   "cell_type": "markdown",
   "id": "1e074b78",
   "metadata": {},
   "source": [
    "**Linear Regression**: Predicts the target as a linear function of the input.\n",
    "\n",
    "Linear regression models the relationship between input features (predictors) and the target variable as a **straight line**.\n",
    "\n"
   ]
  },
  {
   "cell_type": "markdown",
   "id": "d5afd110",
   "metadata": {},
   "source": [
    "- **Example**: In predicting car prices, we might find that as **mileage** increases, the **price** decreases. A linear model would draw a line showing this trend.\n",
    "\n",
    "---"
   ]
  },
  {
   "cell_type": "markdown",
   "id": "3232ceff",
   "metadata": {},
   "source": [
    "**Polynomial Regression**: Fits a polynomial line to capture non-linear relationships between input and target variables.\n",
    "\n",
    "Polynomial regression fits a **curved line** (rather than a straight one) to the data to capture **non-linear** relationships.\n"
   ]
  },
  {
   "cell_type": "markdown",
   "id": "ac7b772c",
   "metadata": {},
   "source": [
    "- **Example**: In car prices, a **non-linear pattern** might show that cars with a specific age or mileage range have higher prices, creating a curve in the plot of price versus age/mileage.\n",
    "\n",
    "---"
   ]
  },
  {
   "attachments": {
    "image.png": {
     "image/png": "[encoded data removed]"
    }
   },
   "cell_type": "markdown",
   "id": "2b04dd65",
   "metadata": {},
   "source": [
    "- **Mathematical Representation for Polynomial Regression (Advanced/Optional)**:\n",
    "  - A polynomial regression equation with a degree of ( n ) can be represented as:\n",
    "  \n",
    "   ![image.png](attachment:image.png)\n",
    "    \n",
    "  - Here:\n",
    "    - ( x ) represents the input feature,\n",
    "    - ( y ) is the target,\n",
    "    - a_n, a_n-1,...,a_0 are coefficients that the model learns to fit the curve.\n",
    "\n",
    "\n",
    "---"
   ]
  },
  {
   "cell_type": "markdown",
   "id": "27029213",
   "metadata": {},
   "source": [
    "<div style=\"background-color: lightgreen; color: black; padding: 4px;\">\n",
    "    <h3>4. Linear Regression in Depth\n",
    "</h3> </div>"
   ]
  },
  {
   "cell_type": "markdown",
   "id": "89437327",
   "metadata": {},
   "source": [
    "Linear regression is one of the simplest yet most commonly used regression techniques. \n",
    "\n",
    "It finds the **best-fit line** that predicts the **target variable** as a function of **input features**."
   ]
  },
  {
   "cell_type": "markdown",
   "id": "49ce9c92",
   "metadata": {},
   "source": [
    "- **Mathematical Representation (Optional/Advanced)**: \n",
    "  - The relationship between the input variable ( x ) and the output (or target) ( y ) is expressed as:\n",
    "\n",
    "  - ### **y = mx + b**\n",
    "    \n",
    "  - Here:\n",
    "    - \\( m \\) is the **slope** of the line (how steep it is),\n",
    "    - \\( b \\) is the **intercept** (where the line crosses the y-axis).\n",
    "\n",
    "  ---\n"
   ]
  },
  {
   "cell_type": "markdown",
   "id": "47e9b565",
   "metadata": {},
   "source": [
    "#### **Example 2**\n",
    "**Can we predict the `price` of a house, if we know the `size`?**\n"
   ]
  },
  {
   "cell_type": "markdown",
   "id": "d1a7f116",
   "metadata": {},
   "source": [
    "Resources for a case study:\n",
    "- https://www.kaggle.com/code/emrearslan123/house-price-prediction\n",
    "- https://www.kaggle.com/code/shreayan98c/boston-house-price-prediction\n",
    "- https://www.kaggle.com/datasets/harishkumardatalab/housing-price-prediction\n",
    "\n",
    "Learners will find the project as well as dataset"
   ]
  },
  {
   "cell_type": "markdown",
   "id": "02586b63",
   "metadata": {},
   "source": [
    "#### Let's understand linear regression using a self made example\n"
   ]
  },
  {
   "cell_type": "markdown",
   "id": "f8e35ed5",
   "metadata": {},
   "source": [
    "#### **Step 1: Create the Dataset**\n",
    "\n",
    "Here is our fictional dataset of house sizes and prices:\n",
    "\n",
    "| House Size (sq ft) | Price ($1000s) |\n",
    "|--------------------|----------------|\n",
    "| 850               | 120            |\n",
    "| 900               | 130            |\n",
    "| 1200              | 150            |\n",
    "| 1500              | 180            |\n",
    "| 1700              | 200            |\n",
    "| 1850              | 210            |\n",
    "| 2000              | 230            |\n",
    "| 2100              | 240            |\n"
   ]
  },
  {
   "cell_type": "markdown",
   "id": "e3a6f9c1",
   "metadata": {},
   "source": [
    "#### **Step 2: Code to Implement Linear Regression**\n",
    "\n",
    "1. **Import the Required Libraries**:\n",
    "   ```python\n",
    "   import numpy as np\n",
    "   from sklearn.linear_model import LinearRegression"
   ]
  },
  {
   "cell_type": "markdown",
   "id": "ef52b747",
   "metadata": {},
   "source": [
    "2. **Create and Visualize the Data**:\n",
    "\n",
    "We’ll manually define `X` as our house sizes and `y` as our house prices.\n",
    "\n",
    "```python\n",
    "# House sizes (sq ft) and prices (in thousands of dollars)\n",
    "X = np.array([[850], [900], [1200], [1500], [1700], [1850], [2000], [2100]])\n",
    "y = np.array([120, 130, 150, 180, 200, 210, 230, 240])"
   ]
  },
  {
   "cell_type": "markdown",
   "id": "b21a2e16",
   "metadata": {},
   "source": [
    "3. **Initialize and Train the Model:**:\n",
    "\n",
    "```python\n",
    "model = LinearRegression() \n",
    "model.fit(X, y)"
   ]
  },
  {
   "cell_type": "markdown",
   "id": "69d39648",
   "metadata": {},
   "source": [
    "The `LinearRegression` class from `sklearn.linear_model` creates a model that finds the best-fit line through data points in a regression task."
   ]
  },
  {
   "cell_type": "markdown",
   "id": "1635869b",
   "metadata": {},
   "source": [
    "4. **Make Predictions**:\n",
    "\n",
    "Let's use the model to predict prices for houses in the dataset and visualize the results.\n",
    "\n",
    "```python\n",
    "predictions = model.predict(X)\n",
    "print(\"Predicted prices:\", predictions)\n",
    "\n",
    "# Create a new input (random size of a house, e.g., 1600 sq ft)\n",
    "new_input = np.array([[1600]])\n",
    "\n",
    "\n",
    "#Make a prediction\n",
    "predicted_price = model.predict(new_input)\n",
    "print(f\"Predicted price for a house of size {new_input[0][0]} sq ft: ${predicted_price[0] * 1000:.2f}\")"
   ]
  },
  {
   "cell_type": "markdown",
   "id": "4dec466b",
   "metadata": {},
   "source": [
    "5. **Output Model Parameters**:\n",
    "\n",
    "Display the slope and intercept of the line:\n",
    "\n",
    "```python\n",
    "print(\"Slope (m):\", model.coef_[0])\n",
    "print(\"Intercept (b):\", model.intercept_)"
   ]
  },
  {
   "cell_type": "markdown",
   "id": "a6254e16",
   "metadata": {},
   "source": [
    "<div style=\"background-color: lightblue; color: black; padding: 4px;\">\n",
    "    <h4> Fitting a Line\n",
    "</h4> </div>"
   ]
  },
  {
   "cell_type": "markdown",
   "id": "16223820",
   "metadata": {},
   "source": [
    "Fitting a line involves **drawing a straight line** through the data points that best represents the overall trend.\n",
    "\n",
    "The line should be **as close as possible** to each data point, **minimizing the error** between the line’s predictions and actual values.\n",
    "\n",
    "This is achieved through a technique called **least squares**, where the line is adjusted to **minimize the sum of squared differences** between predicted and actual values."
   ]
  },
  {
   "cell_type": "markdown",
   "id": "f9e5e466",
   "metadata": {},
   "source": [
    "<div style=\"background-color: lightblue; color: black; padding: 4px;\">\n",
    "    <h4> Slope and Intercept\n",
    "</h4> </div>"
   ]
  },
  {
   "cell_type": "markdown",
   "id": "4f4be08f",
   "metadata": {},
   "source": [
    "**Slope (m)**: This represents the **steepness of the line** and indicates how much the target variable (y) changes for a unit increase in the input variable (x). \n",
    "\n",
    "model.coef_\n",
    "\n",
    "- **Example**: In predicting house prices, if the slope is positive, it might mean that as the area of a house increases, so does its price.\n",
    "\n",
    "**Intercept (b)**: The intercept is the point where the line crosses the y-axis, representing **the predicted value** of \\( y \\) when \\( x = 0 \\).\n",
    "\n",
    "model.intercept_\n",
    "\n",
    "- **Example**: For a house price model, the intercept could represent the base price of a very small or zero-area house.\n"
   ]
  },
  {
   "cell_type": "markdown",
   "id": "4f104fe7",
   "metadata": {},
   "source": [
    "<div style=\"background-color: lightblue; color: black; padding: 4px;\">\n",
    "    <h4> Best-Fit Line\n",
    "</h4> </div>"
   ]
  },
  {
   "cell_type": "markdown",
   "id": "bdade819",
   "metadata": {},
   "source": [
    "The best-fit line is the one that minimizes the error (or distance) between the predicted values on the line and the actual values in the dataset.\n",
    "\n",
    "Linear Regression, `.fit()` method finds the best-fit line, as it minimizes the mean squared error by default\n",
    "\n",
    "**Error Minimization**: Linear regression uses **least squares error** to determine the best-fit line, finding the line that results in the smallest sum of squared differences between actual and predicted values.\n",
    "\n",
    "**Result**: Once found, this line can be used to predict new values based on input features.\n"
   ]
  },
  {
   "cell_type": "markdown",
   "id": "62d41e35",
   "metadata": {},
   "source": [
    "<div style=\"background-color: lightblue; color: black; padding: 4px;\">\n",
    "    <h4> R-squared(R2)  and Mean Squared Error (MSE)\n",
    "</h4> </div>"
   ]
  },
  {
   "cell_type": "markdown",
   "id": "b253f640",
   "metadata": {},
   "source": [
    "Mean Squared Error is the average of the squared differences between the predicted balues y^ and actual values y\n",
    "\n",
    "![](https://suboptimal.wiki/images/mse_5.jpg)"
   ]
  },
  {
   "cell_type": "markdown",
   "id": "236601b3",
   "metadata": {},
   "source": [
    "- MSE measures the average squared error between predicted and actual values. \n",
    "- Lower MSE values indicate that predictions are close to the actual values.\n",
    "- Since MSE squares the errors, it heavily penalizes larger errors, making it sensitive to outliers.\n",
    "- The `.fit()` method minimizes MSE "
   ]
  },
  {
   "cell_type": "markdown",
   "id": "15aa4b07",
   "metadata": {},
   "source": [
    "R-squared, or the coefficient of determination, represents the proportion of variance in the target variable that can be explained by the independent variables in the model. It measures how well a regression model's predictions match the actual data. \n",
    "\n",
    "0 to 1, where 1 indicates that the model perfectly predicts the data, and 0 means the model performs no better than a horizontal line (the mean of the target values). Negative values are also possible if the model performs worse than a simple average prediction.\n",
    "\n",
    "It is calculated as.\n",
    "\n",
    "\n",
    "![](https://th.bing.com/th/id/OIP.sqmt7_SAWBKjW2TLer-FYwAAAA?rs=1&pid=ImgDetMain)\n",
    "\n"
   ]
  },
  {
   "cell_type": "markdown",
   "id": "eff19dbb-c67b-4e23-940c-8c0b5ae36c41",
   "metadata": {},
   "source": [
    "**RSS (Residual Sum of Squares)**: This measures the sum of the squared differences between the actual values (y) and the predicted values (y^) from the model.\n",
    "\n",
    "**TSS (Total Sum of Squares)**: This measures the total variance in the actual values, calculated as the sum of the squared differences between the actual values(y) and the mean of those values (y-)\n",
    "\n",
    "![](https://pbs.twimg.com/media/D-Gu7E0WsAANhLY?format=png&name=900x900)"
   ]
  },
  {
   "cell_type": "markdown",
   "id": "5495450a",
   "metadata": {},
   "source": [
    "## **Understand Residuals:**\n",
    "\n",
    "Residuals are the differences between observed and predicted values in regression analysis.\n",
    "\n",
    "![](https://images.squarespace-cdn.com/content/v1/5acbdd3a25bf024c12f4c8b4/1600368657769-5BJU5FK86VZ6UXZGRC1M/Mean+Squared+Error.png) ![](https://mattsosna.com/images/careers/DS-2/residual.png)"
   ]
  },
  {
   "cell_type": "markdown",
   "id": "be951ff0",
   "metadata": {},
   "source": [
    "\n",
    "![](https://vitalflux.com/wp-content/uploads/2020/09/Regression-terminologies-Page-3.png)"
   ]
  },
  {
   "cell_type": "code",
   "execution_count": null,
   "id": "6c6e6b67-fdb8-445c-b3dd-ca3b4d42af72",
   "metadata": {},
   "outputs": [],
   "source": []
  },
  {
   "cell_type": "markdown",
   "id": "44e472b3",
   "metadata": {},
   "source": [
    "<div style=\"background-color: lightgreen; color: black; padding: 4px;\">\n",
    "    <h3>5. Hands-On Activity \n",
    "</h3> </div>"
   ]
  },
  {
   "cell_type": "markdown",
   "id": "1f55ac74",
   "metadata": {},
   "source": [
    "Refer to the notebook: Simple Linear Regression"
   ]
  },
  {
   "cell_type": "markdown",
   "id": "f2185430-3791-45df-824f-bdec6d7145e3",
   "metadata": {},
   "source": [
    "<div class=\"alert alert-block alert-warning\">\n",
    "    <b><font size=\"5\"> Live Exercise</font> </b>\n",
    "</div>\n",
    "\n",
    "<!--- Mohammad Idrees Bhat | Tech Skills Trainer | AI/ML Consultant --->"
   ]
  },
  {
   "cell_type": "markdown",
   "id": "bf8d61af-f3e8-4afc-a66b-3814e160aaf3",
   "metadata": {},
   "source": [
    "Now it's your turn!\n",
    "### Task 1: Predicting Monthly Electricity Bill\n",
    "\n",
    "You work as a data analyst for an energy consulting firm. The firm wants to help households predict their monthly electricity bill based on the number of hours they use electricity each day on average. This will allow homeowners to manage their energy use more effectively.\n",
    "\n",
    "Using historical data collected from various households, your task is to build a simple linear regression model that predicts the monthly electricity bill based on daily electricity usage in hours. Here is a small dataset to help you get started:\n",
    "\n",
    "| Average Daily Usage (hours) | Monthly Bill ($) |\n",
    "|-----------------------------|------------------|\n",
    "| 3                           | 50              |\n",
    "| 4                           | 60              |\n",
    "| 6                           | 80              |\n",
    "| 7                           | 95              |\n",
    "| 8                           | 110             |\n",
    "| 10                          | 130             |\n",
    "| 12                          | 150             |\n",
    "\n",
    "Using this data, build a linear regression model and answer the following questions:\n",
    "\n",
    "1. **What is the expected monthly bill for a household that uses electricity for 5 hours a day?**\n",
    "2. **How much does the monthly bill increase, on average, for each additional hour of daily usage?**\n",
    "3. **Create a visualisation that shows the data, the linear regressor, and the result value.**\n",
    "\n",
    "By completing this exercise, you’ll better understand how linear regression can be used to predict outcomes based on input features.\n"
   ]
  },
  {
   "cell_type": "markdown",
   "id": "b69ed7ea-1940-434d-bb2d-601d07994783",
   "metadata": {},
   "source": [
    "<div style=\"background-color: lightblue; color: white; padding: 10px; text-align: center;\">\n",
    "    <h1>_________________________________END________________________________\n",
    "        <!--- Mohammad Idrees Bhat | Tech Skills Trainer | AI/ML Consultant --->\n",
    "</h1> </div>"
   ]
  },
  {
   "cell_type": "markdown",
   "id": "13e86481-eae2-4019-9515-66a43a30f0fb",
   "metadata": {},
   "source": [
    "<div style=\"background-color: #002147; color: #fff; padding: 30px; text-align: center;\">\n",
    "    <h1>THANK YOU!\n",
    "        <!--- Mohammad Idrees Bhat | Tech Skills Trainer | AI/ML Consultant --->\n",
    "</h1> </div>"
   ]
  },
  {
   "cell_type": "markdown",
   "id": "aefa2f04-f141-405d-8a9f-8cf186d66f41",
   "metadata": {},
   "source": [
    "<div style=\"background-color: lightgreen; color: black; padding: 30px;\">\n",
    "    <h4> Live Exercise Solutions\n",
    "        \n",
    "</h4> </div>"
   ]
  },
  {
   "cell_type": "markdown",
   "id": "f61af437",
   "metadata": {},
   "source": [
    "### Solution: Predicting Monthly Electricity Bill Using Linear Regression\n",
    "\n",
    "In this solution, we’ll build a simple linear regression model using Python code to predict the monthly electricity bill based on average daily electricity usage. Comments are provided to explain each line and concept.\n",
    "\n",
    "```python\n",
    "\n"
   ]
  },
  {
   "cell_type": "code",
   "execution_count": 2,
   "id": "f1f9ddd9-5558-4b1d-a3e7-04c3dca33b6d",
   "metadata": {},
   "outputs": [
    {
     "name": "stdout",
     "output_type": "stream",
     "text": [
      "Predicted monthly bill for 5 hours of daily usage: 72.00704225352112\n",
      "Slope (increase per additional hour): 11.396713615023478\n",
      "Intercept (base bill): 15.023474178403731\n"
     ]
    }
   ],
   "source": [
    "# Import necessary libraries\n",
    "import numpy as np                    # NumPy is used for handling arrays, which organize our dataset\n",
    "from sklearn.linear_model import LinearRegression  # Scikit-Learn's LinearRegression is used for our model\n",
    "\n",
    "# Define the dataset\n",
    "# X represents the average daily usage in hours (our input feature)\n",
    "# y represents the monthly bill in dollars (our target variable)\n",
    "X = np.array([[3], [4], [6], [7], [8], [10], [12]])  # input data formatted as a 2D array\n",
    "y = np.array([50, 60, 80, 95, 110, 130, 150])        # output labels as a 1D array\n",
    "\n",
    "# Initialize the linear regression model\n",
    "model = LinearRegression()  # This creates an instance of LinearRegression, ready to fit data\n",
    "\n",
    "# Train the model on the dataset\n",
    "model.fit(X, y)             # fit() finds the best-fit line that minimizes error between predictions and actual values\n",
    "\n",
    "# Make a prediction\n",
    "# Now, let's predict the monthly bill for a household that uses electricity for 5 hours a day\n",
    "predicted_bill_5_hours = model.predict(np.array([[5]]))  # predict() applies the model to a new input\n",
    "print(\"Predicted monthly bill for 5 hours of daily usage:\", predicted_bill_5_hours[0])  # outputs the predicted value\n",
    "\n",
    "# Extract and print model parameters\n",
    "# The slope (rate of increase per additional hour) and intercept (baseline monthly bill) are useful for interpretation\n",
    "slope = model.coef_[0]        # model.coef_ gives the slope of the line, showing bill increase per hour\n",
    "intercept = model.intercept_   # model.intercept_ is the y-intercept, showing the starting value of the bill\n",
    "print(\"Slope (increase per additional hour):\", slope)\n",
    "print(\"Intercept (base bill):\", intercept)\n"
   ]
  },
  {
   "cell_type": "code",
   "execution_count": 3,
   "id": "e597db01",
   "metadata": {},
   "outputs": [
    {
     "data": {
      "image/png": "[encoded data removed]",
      "text/plain": [
       "<Figure size 640x480 with 1 Axes>"
      ]
     },
     "metadata": {},
     "output_type": "display_data"
    }
   ],
   "source": [
    "import matplotlib.pyplot as plt\n",
    "\n",
    "# Plotting the data points\n",
    "plt.scatter(X, y, color='blue', label='Data Points')  # Scatter plot for actual data points\n",
    "\n",
    "# Creating predictions for the entire range of X values for plotting the regression line\n",
    "X_range = np.array([[x] for x in range(2, 14)])  # Generate X values for the range of interest\n",
    "y_pred = model.predict(X_range)                   # Get predictions for the range of X values\n",
    "\n",
    "# Plotting the regression line\n",
    "plt.plot(X_range, y_pred, color='red', label='Regression Line')  # Plot the regression line\n",
    "\n",
    "# Highlight the predicted value for 5 hours of usage\n",
    "plt.scatter(5, predicted_bill_5_hours, color='green', label='Prediction for 5 hours', s=100, edgecolor='black')  # Point for predicted value\n",
    "\n",
    "# Adding labels and title\n",
    "plt.title('Monthly Electricity Bill Prediction')            # Title of the plot\n",
    "plt.xlabel('Average Daily Usage (hours)')                  # X-axis label\n",
    "plt.ylabel('Monthly Bill (dollars)')                       # Y-axis label\n",
    "plt.legend()                                               # Show the legend\n",
    "plt.grid(True)                                            # Add a grid for better readability\n",
    "\n",
    "# Show the plot\n",
    "plt.show()  "
   ]
  },
  {
   "cell_type": "markdown",
   "id": "6ba7ad29",
   "metadata": {},
   "source": [
    "### Interpretation of results\n",
    " - Using the equation of the line: \n",
    " \n",
    " ### **bill = (slope * usage) + intercept**\n",
    "\n",
    "- we can interpret that for every additional hour of usage, the bill increases by the slope value.\n",
    "\n",
    "- This gives us the flexibility to predict bills for any daily usage value.\n",
    "\n",
    "Final answers based on model output:\n",
    "\n",
    "- Predicted monthly bill for 5 hours of daily usage: $72.00704225352112\n",
    "- Increase in monthly bill for each additional hour of daily usage"
   ]
  },
  {
   "cell_type": "markdown",
   "id": "36f2d487-56ef-4c22-a1c9-d25e9df33e37",
   "metadata": {},
   "source": [
    "<div class=\"alert alert-block alert-warning\"  padding: 10px; text-align: center;\">\n",
    "    <font size=\"3\"> Programming Interveiw Questions</font>\n",
    "</div>"
   ]
  },
  {
   "cell_type": "markdown",
   "id": "d4e08c3f-3e5b-46a6-9fbb-456cbd850553",
   "metadata": {},
   "source": [
    "1. **What is Machine Learning, and how does it differ from traditional programming?**\n",
    "   - Explain the concept of ML and how it uses data to learn patterns rather than being explicitly programmed for specific tasks.\n",
    "\n",
    "2. **Can you describe the different types of Machine Learning?**\n",
    "   - Discuss the three main categories: supervised, unsupervised, and reinforcement learning.\n",
    "\n",
    "3. **What are some common applications of Machine Learning?**\n",
    "   - Provide examples such as spam detection, recommendation systems, and image recognition.\n",
    "\n",
    "4. **What is the role of data in Machine Learning?**\n",
    "   - Explain how data is used to train models and the importance of data quality and quantity.\n",
    "\n",
    "5. **What is overfitting, and how can it be prevented?** (Optional/Advanced)\n",
    "   - Define overfitting and discuss techniques like cross-validation, regularization, and pruning.\n",
    "\n",
    "6. **What is supervised learning, and how does it work?**\n",
    "   - Describe the process of training a model using labeled data to predict outcomes.\n",
    "\n",
    "7. **What is the difference between regression and classification tasks?**\n",
    "   - Explain the distinction between predicting continuous values (regression) and categorical outcomes (classification).\n",
    "\n",
    "8. **What are some common algorithms used in supervised learning?**\n",
    "   - List algorithms such as linear regression, logistic regression, decision trees, and support vector machines.\n",
    "\n",
    "9. **How do you evaluate the performance of a supervised learning model?** (Optional/Advanced)\n",
    "   - Discuss metrics such as accuracy, precision, recall, F1-score, and confusion matrix.\n",
    "\n",
    "10. **Can you explain the concept of bias-variance tradeoff in supervised learning?** (Optional/Advanced)\n",
    "    - Describe how bias and variance affect model performance and the importance of finding a balance between the two."
   ]
  },
  {
   "cell_type": "markdown",
   "id": "730c993a",
   "metadata": {},
   "source": [
    "### **Answers: Introduction to Machine Learning**\n",
    "\n",
    "1. **What is Machine Learning, and how does it differ from traditional programming?**\n",
    "   - Machine Learning is a branch of artificial intelligence that focuses on building systems that learn from data to make predictions or decisions. Unlike traditional programming, where explicit instructions are given for every task, ML models learn patterns and rules from data and can improve their performance over time without being reprogrammed.\n",
    "\n",
    "2. **Can you describe the different types of Machine Learning?**\n",
    "   - The three main categories of Machine Learning are:\n",
    "     - **Supervised Learning**: The model is trained on labeled data, learning to map inputs to known outputs.\n",
    "     - **Unsupervised Learning**: The model is trained on unlabeled data and identifies patterns or groupings within the data.\n",
    "     - **Reinforcement Learning**: The model learns by interacting with an environment, receiving feedback in the form of rewards or penalties.\n",
    "\n",
    "3. **What are some common applications of Machine Learning?**\n",
    "   - Common applications include:\n",
    "     - **Spam Detection**: Identifying and filtering out unwanted emails.\n",
    "     - **Recommendation Systems**: Suggesting products or content based on user behavior and preferences.\n",
    "     - **Image Recognition**: Identifying objects, faces, or scenes in images.\n",
    "\n",
    "4. **What is the role of data in Machine Learning?**\n",
    "   - Data is crucial in ML as it serves as the foundation for training models. Quality data helps in accurately identifying patterns and making predictions. The quantity of data also matters, as more data can improve model performance by providing a broader perspective of the underlying patterns.\n",
    "\n",
    "5. **What is overfitting, and how can it be prevented?** (Optional/Advanced)\n",
    "   - Overfitting occurs when a model learns noise and details in the training data to the extent that it negatively impacts its performance on new data. It can be prevented by:\n",
    "     - **Cross-validation**: Using different subsets of data to validate the model.\n",
    "     - **Regularization**: Adding a penalty to the model complexity.\n",
    "     - **Pruning**: Reducing the size of decision trees to prevent them from becoming too complex.\n",
    "\n",
    "6. **What is supervised learning, and how does it work?**\n",
    "   - Supervised learning is a type of Machine Learning where the model is trained on a labeled dataset, which includes both input features and their corresponding output labels. The model learns to map inputs to outputs and can then predict the output for new, unseen data.\n",
    "\n",
    "7. **What is the difference between regression and classification tasks?**\n",
    "   - **Regression**: Involves predicting continuous values, such as prices or temperatures. For example, predicting house prices based on features like size and location.\n",
    "   - **Classification**: Involves predicting categorical outcomes, such as whether an email is spam or not. For instance, classifying images of animals into categories like 'dog' or 'cat'.\n",
    "\n",
    "8. **What are some common algorithms used in supervised learning?**\n",
    "   - Common algorithms include:\n",
    "     - **Linear Regression**: Used for regression tasks.\n",
    "     - **Logistic Regression**: Used for binary classification.\n",
    "     - **Decision Trees**: Can be used for both regression and classification.\n",
    "     - **Support Vector Machines (SVM)**: Effective for classification tasks.\n",
    "\n",
    "9. **How do you evaluate the performance of a supervised learning model?** (Optional/Advanced)\n",
    "   - Performance can be evaluated using various metrics, including:\n",
    "     - **Accuracy**: The proportion of correct predictions made by the model.\n",
    "     - **Precision**: The ratio of true positives to the total predicted positives, indicating how many of the predicted positives are actually correct.\n",
    "     - **Recall**: The ratio of true positives to the total actual positives, showing how many actual positives were captured by the model.\n",
    "     - **F1-Score**: The harmonic mean of precision and recall, balancing the two metrics.\n",
    "     - **Confusion Matrix**: A table that outlines the performance of the model on classification tasks.\n",
    "\n",
    "10. **Can you explain the concept of bias-variance tradeoff in supervised learning?** (Optional/Advanced)\n",
    "    - The bias-variance tradeoff is the balance between two types of errors that affect model performance:\n",
    "      - **Bias**: Error due to overly simplistic assumptions in the learning algorithm, which can lead to underfitting.\n",
    "      - **Variance**: Error due to excessive sensitivity to fluctuations in the training data, which can result in overfitting. \n",
    "      - The goal is to find a model that minimizes both bias and variance to achieve the best generalization performance on unseen data.\n"
   ]
  },
  {
   "cell_type": "markdown",
   "id": "5454f2e3-4fa4-48f9-936a-35be52d769af",
   "metadata": {},
   "source": [
    "<!--- Mohammad Idrees Bhat | Mohammad Idrees Bhat --->"
   ]
  },
  {
   "cell_type": "markdown",
   "id": "3e92ba4c-672c-4e9f-b842-2b2d9234e5ff",
   "metadata": {},
   "source": [
    "<h2 style=\"background-color: #ffe4e1; color: #2f4f4f; padding: 10px; border-radius: 10px; width: 350px; text-align: center; float: right; margin: 20px 0;\">\n",
    "    Mohammad Idrees Bhat<br>\n",
    "    <span style=\"font-size: 12px; color: #696969;\">\n",
    "        Tech Skills Trainer | AI/ML Consultant\n",
    "    </span>\n",
    "</h2>"
   ]
  },
  {
   "cell_type": "markdown",
   "id": "15cc27b3-58d0-431e-8121-f1b4c08377c7",
   "metadata": {},
   "source": [
    "<!--- Mohammad Idrees Bhat | Tech Skills Trainer | AI/ML Consultant --->"
   ]
  }
 ],
 "metadata": {
  "kernelspec": {
   "display_name": "Python 3 (ipykernel)",
   "language": "python",
   "name": "python3"
  },
  "language_info": {
   "codemirror_mode": {
    "name": "ipython",
    "version": 3
   },
   "file_extension": ".py",
   "mimetype": "text/x-python",
   "name": "python",
   "nbconvert_exporter": "python",
   "pygments_lexer": "ipython3",
   "version": "3.12.4"
  }
 },
 "nbformat": 4,
 "nbformat_minor": 5
}
