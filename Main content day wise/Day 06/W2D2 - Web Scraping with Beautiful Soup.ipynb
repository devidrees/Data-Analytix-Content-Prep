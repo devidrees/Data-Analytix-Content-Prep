{
 "cells": [
  {
   "cell_type": "markdown",
   "id": "8c4bc666-34a1-47b6-8018-1ad79dafae95",
   "metadata": {},
   "source": [
    "<div style=\"background-color: #add8e6; padding: 10px; height: 70px; border-radius: 15px;\">\n",
    "    <div style=\"font-family: 'Georgia', serif; font-size: 20px; padding: 10px; text-align: right; position: absolute; right: 20px;\">\n",
    "        Mohammad Idrees Bhat <br>\n",
    "        <span style=\"font-family: 'Arial', sans-serif;font-size: 12px; color: #0a0a0a;\">Tech Skills Trainer | AI/ML Consultant</span> <!--- Mohammad Idrees Bhat | Tech Skills Trainer | AI/ML Consultant --->\n",
    "    </div>\n",
    "</div>"
   ]
  },
  {
   "cell_type": "markdown",
   "id": "ef444d2e-97e9-49a8-bf3d-0119a2dfebb5",
   "metadata": {},
   "source": [
    "<!--- Mohammad Idrees Bhat | Tech Skills Trainer | AI/ML Consultant --->"
   ]
  },
  {
   "cell_type": "markdown",
   "id": "72e69350-c215-4816-a196-240babb86113",
   "metadata": {},
   "source": [
    "<div style=\"background-color: #002147; padding: 10px; text-align: center; color: white; font-size: 32px; font-family: 'Arial', sans-serif;\">\n",
    "    Web Scraping <br>\n",
    "    <h3 style=\"text-align: center; color: white; font-size: 15px; font-family: 'Arial', sans-serif;\">Using Beautiful Soup and Scrapy</h3>\n",
    "</div>\n"
   ]
  },
  {
   "cell_type": "markdown",
   "id": "155e8ec7-547b-41f4-b6f6-6e6e719c198c",
   "metadata": {},
   "source": [
    "<div style=\"background-color: grey; color: black; padding: 10px;\">\n",
    "    <h4><b>AGENDA</b> <p><p>\n",
    "1.   Web Scraping<p><p> \n",
    "2.   Understanding Beautiful Soup<p>\n",
    "3.   Web Scraping activity with Beautiful Soup<p>\n",
    "</h4> </div>"
   ]
  },
  {
   "cell_type": "markdown",
   "id": "19b1c30b-e766-4658-8d70-1b0af10ae2f4",
   "metadata": {},
   "source": [
    "<!-- Link the Montserrat font -->\n",
    "<link href=\"https://fonts.googleapis.com/css2?family=Montserrat:wght@700&display=swap\" rel=\"stylesheet\">\n",
    "\n",
    "<!-- Main div with centered content and a flexible box size, no scroll bar -->\n",
    "<div style=\"background-color: #baf733; min-height: 100px; width: 100%; display: flex; justify-content: center; align-items: center; position: relative; padding: 20px; box-sizing: border-box; font-family: 'Montserrat', sans-serif; font-weight: 700; font-size: 20px; border-radius: 15px;\">\n",
    "    <div style=\"position: absolute; top: 10px; right: 10px; padding: 5px 10px; font-size: 14px; color: rgba(0, 0, 0, 0.05); border-radius: 10px;\">Mohammad Idrees Bhat</div>\n",
    "    <!-- Fill the below text with question -->\n",
    "    <!-- Fill the below text with question -->\n",
    "    If you were stuck on a deserted island and could only bring three things, what would they be?\n",
    "    <!-- Fill the above text with question -->\n",
    "    <!-- Fill the above text with question -->\n",
    "\n",
    "</div>"
   ]
  },
  {
   "cell_type": "markdown",
   "id": "53ec8637",
   "metadata": {},
   "source": [
    "<div style=\"background-color: lightgreen; color: black; padding: 4px;\">\n",
    "    <h3>1. Web Scraping \n",
    "</h3> </div>"
   ]
  },
  {
   "cell_type": "markdown",
   "id": "646a8785-a340-43d5-a031-f4d1e91fb487",
   "metadata": {},
   "source": [
    "**Web scraping** is a powerful technique used to extract data from **websites**.\n",
    "\n",
    "It involves **fetching** web pages and **parsing** their content to **retrieve** specific information, which can be stored for further analysis or use. \n",
    "\n",
    "Web scraping is commonly used for data collection, research, and various applications across different industries.\n"
   ]
  },
  {
   "cell_type": "markdown",
   "id": "c77c7630-12b2-46db-bc48-441c05d03853",
   "metadata": {},
   "source": [
    "<div style=\"background-color: lightblue; color: black; padding: 4px;\">\n",
    "    <h4> Why is Web Scraping Needed?\n",
    "</h4> </div>"
   ]
  },
  {
   "cell_type": "markdown",
   "id": "0c2c7e20-5bbe-4d71-860d-ab0422359946",
   "metadata": {},
   "source": [
    "1. **Data Collection**: Web scraping allows for the automated gathering of data from multiple online sources, making it easier to collect large datasets for analysis or research.\n",
    "\n",
    "2. **Dynamic Content Extraction**: Many websites display dynamic content that may be difficult or impossible to collect manually. Web scraping can efficiently extract this data.\n",
    "\n",
    "3. **Time Efficiency**: Automating the data collection process saves time and reduces human error, enabling faster and more accurate results.\n",
    "\n",
    "4. **Access to Unstructured Data**: A significant amount of information on the web is unstructured. Web scraping helps convert this data into structured formats, facilitating analysis and integration.\n",
    "\n",
    "5. **Cost-Effectiveness**: By automating data collection, businesses and researchers can reduce the need for extensive human resources, lowering operational costs."
   ]
  },
  {
   "cell_type": "markdown",
   "id": "42dd7fcb-868e-4ded-86be-b66d0ba13a56",
   "metadata": {},
   "source": [
    "<div style=\"background-color: lightblue; color: black; padding: 4px;\">\n",
    "    <h4> How is Web Scraping Done?\n",
    "</h4> </div>"
   ]
  },
  {
   "cell_type": "markdown",
   "id": "44adfefc-afe6-4bc4-a1d5-09f85111067e",
   "metadata": {},
   "source": [
    "Web scraping typically involves the following steps:\n",
    "\n",
    "1. **Sending an HTTP Request**: A request is sent to the target web server to retrieve the desired web page.\n",
    "\n",
    "2. **Retrieving Web Page Content**: The server responds with the web page content, usually in HTML format.\n",
    "\n",
    "3. **Parsing the HTML**: The HTML content is parsed to locate specific data elements using libraries or tools designed for this purpose (e.g., BeautifulSoup, Scrapy).\n",
    "\n",
    "4. **Extracting Data**: The *relevant data* is extracted from the parsed HTML structure based on predefined rules or criteria.\n",
    "\n",
    "5. **Storing Data**: The extracted data can be stored in various formats, such as CSV, JSON, or databases, for further analysis or processing.\n",
    "\n",
    "6. **Handling Challenges**: Web scrapers may need to address challenges such as anti-scraping measures, dynamic content loading (JavaScript), and legal considerations.\n"
   ]
  },
  {
   "cell_type": "markdown",
   "id": "3fb35369-88ce-4a7e-b31e-5c093ef7762f",
   "metadata": {},
   "source": [
    "<div style=\"background-color: lightblue; color: black; padding: 4px;\">\n",
    "    <h4> Tools for Web Scraping\n",
    "</h4> </div>"
   ]
  },
  {
   "cell_type": "markdown",
   "id": "602fd9cb-1418-4344-a4b3-c9603eb69aa7",
   "metadata": {},
   "source": [
    "Web scraping can be accomplished using various tools and libraries that facilitate data extraction from web pages. Here are some of the most popular ones:\n",
    "\n",
    "#### 1. BeautifulSoup\n",
    "- **Overview**: BeautifulSoup is a Python library used for parsing HTML and XML documents. It provides Pythonic idioms for iterating, searching, and modifying the parse tree.\n",
    "- **Use Cases**: Ideal for simple web scraping tasks and extracting data from static web pages.\n",
    "- **Installation**: \n",
    "  ```pip install beautifulsoup4```"
   ]
  },
  {
   "cell_type": "markdown",
   "id": "90759060-f649-4523-859d-87f5c91dcd3a",
   "metadata": {},
   "source": [
    "#### 2. Scrapy\n",
    "- **Overview**: Scrapy is an open-source web crawling framework for Python. It allows users to extract data from websites, process it, and store it in various formats.\n",
    "- **Use Cases**: Best suited for large-scale web scraping projects and scraping multiple pages efficiently.\n",
    "- **Installation**: \n",
    "  ```pip install scrapy```"
   ]
  },
  {
   "cell_type": "markdown",
   "id": "af0782d4-e71c-489b-bfa5-7be1a2edfb98",
   "metadata": {},
   "source": [
    "#### 3. Other Tools\n",
    "- **Selenium**: Selenium is a web testing library that can also be used for web scraping. It automates web browsers, enabling the retrieval of data from dynamically generated pages (JavaScript-heavy websites). Useful for scraping websites that require user interaction or load content dynamically. \n",
    "- **Requests**: The Requests library is a simple HTTP library for Python that allows users to send HTTP requests and handle responses easily. Often used in conjunction with BeautifulSoup or Scrapy to fetch web pages before parsing. \n",
    "- **Octoparse**:Octoparse is a no-code web scraping tool that allows users to extract data from websites without programming knowledge. Suitable for users who prefer a visual interface and need to scrape data quickly. ParseHub is another visual tool for web scraping. https://youtu.be/3Czz_ynQ2KQ "
   ]
  },
  {
   "cell_type": "markdown",
   "id": "75e02107-502d-4110-9e39-bd0192898182",
   "metadata": {},
   "source": [
    "<div style=\"background-color: lightgreen; color: black; padding: 4px;\">\n",
    "    <h3>2. Understanding Beautiful Soup\n",
    "    </h3> </div>"
   ]
  },
  {
   "cell_type": "markdown",
   "id": "e259c3bd-1c72-4510-b2fe-4122276681b6",
   "metadata": {},
   "source": [
    "#### Overview of Beautiful Soup Functionalities\n",
    "**Parsing HTML:** Load the HTML content and create a Beautiful Soup object.\n",
    "\n",
    "**Searching for Elements:** Use methods to find specific elements based on tags, classes, or attributes.\n",
    "\n",
    "**Extracting Text:** Get the text content from the selected elements.\n",
    "\n",
    "**Creating a DataFrame:** Organize the extracted data into a pandas DataFrame for analysis."
   ]
  },
  {
   "cell_type": "markdown",
   "id": "ff8525e0-21cc-473c-b469-e3bcf27f9bf4",
   "metadata": {},
   "source": [
    "**Parsing** is the process of analyzing a string of symbols, either in natural language or in computer languages, to understand its structure and extract meaningful information. \n",
    "\n",
    "In the context of web scraping and Beautiful Soup, parsing typically refers to the process of converting HTML or XML documents into a format that can be easily traversed and manipulated.\n",
    "\n",
    "When you parse an HTML document using Beautiful Soup, it breaks down the HTML code into a tree structure, allowing you to easily navigate the document's elements, search for specific tags, and extract data."
   ]
  },
  {
   "cell_type": "markdown",
   "id": "1075fad4-4155-4305-8ff6-9fbcdf4dee86",
   "metadata": {},
   "source": [
    "#### Example website:\n",
    "\n",
    "- This example will cover various capabilities of Beautiful Soup, demonstrating how to parse HTML\n",
    "- This website contains a Book List\n",
    "- It contains h-tags, divs, classes, style, title, meta tags etc\n",
    "\n",
    " ---"
   ]
  },
  {
   "cell_type": "code",
   "execution_count": 1,
   "id": "57d0f9ae-395c-4eff-82b4-30eb7b6c23b5",
   "metadata": {},
   "outputs": [],
   "source": [
    "html_doc = \"\"\"<!DOCTYPE html>\n",
    "<html lang=\"en\">\n",
    "<head>\n",
    "    <meta charset=\"UTF-8\">\n",
    "    <meta name=\"viewport\" content=\"width=device-width, initial-scale=1.0\">\n",
    "    <title>Sample Books Data</title>\n",
    "    <style>\n",
    "        body {\n",
    "            font-family: Arial, sans-serif;\n",
    "            margin: 20px;\n",
    "            background-color: #f8f8f8;\n",
    "        }\n",
    "        h1 {\n",
    "            text-align: center;\n",
    "            color: #333;\n",
    "        }\n",
    "        .book {\n",
    "            border: 1px solid #ccc;\n",
    "            padding: 15px;\n",
    "            margin: 10px;\n",
    "            border-radius: 5px;\n",
    "            background-color: #fff;\n",
    "        }\n",
    "        .title {\n",
    "            font-size: 1.5em;\n",
    "            color: #0056b3;\n",
    "        }\n",
    "        .author {\n",
    "            font-style: italic;\n",
    "            color: #555;\n",
    "        }\n",
    "        .price {\n",
    "            color: #d9534f;\n",
    "            font-weight: bold;\n",
    "        }\n",
    "        .description {\n",
    "            margin-top: 10px;\n",
    "        }\n",
    "        a {\n",
    "            color: #007bff;\n",
    "            text-decoration: none;\n",
    "        }\n",
    "        a:hover {\n",
    "            text-decoration: underline;\n",
    "        }\n",
    "    </style>\n",
    "</head>\n",
    "<body>\n",
    "    <h1>Books List</h1>\n",
    "    <div class=\"book\">\n",
    "        <p class=\"title\">\n",
    "            <b>The Great Gatsby</b>\n",
    "        </p>\n",
    "        <p class=\"author\">Author: F. Scott Fitzgerald</p>\n",
    "        <p class=\"price\">Price: $10.99</p>\n",
    "        <p class=\"publication-year\">Publication Year: 1925</p>\n",
    "        <p class=\"genre\">Genre: Fiction</p>\n",
    "        <p class=\"description\">\n",
    "            A novel about the American dream, set in the 1920s on Long Island.\n",
    "        </p>\n",
    "        <p>More Info: <a class=\"info-link\" href=\"http://example.com/gatsby\" id=\"link1\">Learn More</a></p>\n",
    "    </div>\n",
    "    <div class=\"book\">\n",
    "        <p class=\"title\">\n",
    "            <b>1984</b>\n",
    "        </p>\n",
    "        <p class=\"author\">Author: George Orwell</p>\n",
    "        <p class=\"price\">Price: $8.99</p>\n",
    "        <p class=\"publication-year\">Publication Year: 1949</p>\n",
    "        <p class=\"genre\">Genre: Dystopian</p>\n",
    "        <p class=\"description\">\n",
    "            A story about a totalitarian regime that uses surveillance and propaganda to control its citizens.\n",
    "        </p>\n",
    "        <p>More Info: <a class=\"info-link\" href=\"http://example.com/1984\" id=\"link2\">Learn More</a></p>\n",
    "    </div>\n",
    "    <div class=\"book\">\n",
    "        <p class=\"title\">\n",
    "            <b>To Kill a Mockingbird</b>\n",
    "        </p>\n",
    "        <p class=\"author\">Author: Harper Lee</p>\n",
    "        <p class=\"price\">Price: $7.99</p>\n",
    "        <p class=\"publication-year\">Publication Year: 1960</p>\n",
    "        <p class=\"genre\">Genre: Fiction</p>\n",
    "        <p class=\"description\">\n",
    "            A novel set in the Great Depression that addresses serious issues of race and injustice.\n",
    "        </p>\n",
    "        <p>More Info: <a class=\"info-link\" href=\"http://example.com/mockingbird\" id=\"link3\">Learn More</a></p>\n",
    "    </div>\n",
    "</body>\n",
    "</html>\n",
    "\"\"\""
   ]
  },
  {
   "cell_type": "code",
   "execution_count": 2,
   "id": "e7bf7b3b-092d-47df-82b8-5d8c50891ba5",
   "metadata": {},
   "outputs": [],
   "source": [
    "# Import necessary libraries\n",
    "from bs4 import BeautifulSoup\n",
    "import pandas as pd"
   ]
  },
  {
   "cell_type": "markdown",
   "id": "aabb63c9-b6da-4907-bbe5-683f6d3e7b1d",
   "metadata": {},
   "source": [
    "We could load the html file in a lot of ways\n",
    "\n",
    "#### 1. Load the HTML file as text then storing in a variable\n",
    "```python\n",
    "html_doc = \"\"\"<html lang=\"en\">\n",
    "<head>\n",
    "    <meta charset=\"UTF-8\">\n",
    "    <title>Sample Books Data</title>\n",
    "</head>\n",
    "<body>\n",
    "    <h1>Books List</h1>\n",
    "    <h1>Books List</h1>\n",
    "    <h1>Books List</h1>\n",
    "    <h1>Books List</h1>\n",
    "</body>\n",
    "</html>\"\"\" \n",
    "\n",
    "# Parse the HTML content with Beautiful Soup\n",
    "soup = BeautifulSoup(html_doc, 'html.parser')\n",
    "```\n",
    "\n",
    "#### 2. Load the HTML file from system using the path\n",
    "```python\n",
    "with open('webfile.html', 'r', encoding='utf-8') as file:\n",
    "    html_content = file.read()\n",
    "    \n",
    "# Parse the HTML content with Beautiful Soup\n",
    "soup = BeautifulSoup(html_content, 'html.parser')\n",
    "```\n",
    "\n",
    "#### 3. Load using the requests package\n",
    "```python\n",
    "import requests\n",
    "from bs4 import BeautifulSoup\n",
    "\n",
    "# Define the URL of Google's homepage\n",
    "url = 'https://www.google.com'\n",
    "\n",
    "# Send an HTTP GET request to fetch the page content\n",
    "response = requests.get(url)\n",
    "\n",
    "# Check if the request was successful\n",
    "if response.status_code == 200:\n",
    "    # Parse the HTML content with Beautiful Soup\n",
    "    soup = BeautifulSoup(response.content, 'html.parser') # Observe the SOUP variable being loaded here\n",
    "    \n",
    "    # Print the prettified HTML content\n",
    "    print(soup.prettify())\n",
    "else:\n",
    "    print(f\"Failed to retrieve the page. Status code: {response.status_code}\")\n",
    "\n",
    "```"
   ]
  },
  {
   "cell_type": "code",
   "execution_count": 3,
   "id": "73b4415c-2f2a-4210-bf2d-c4e28eca0dd4",
   "metadata": {},
   "outputs": [],
   "source": [
    "# Parse the HTML content with Beautiful Soup\n",
    "soup = BeautifulSoup(html_doc, 'html.parser')"
   ]
  },
  {
   "cell_type": "code",
   "execution_count": 4,
   "id": "39d8de41-c5ba-4368-a30a-9e5c7516e6e1",
   "metadata": {},
   "outputs": [
    {
     "name": "stdout",
     "output_type": "stream",
     "text": [
      "<!DOCTYPE html>\n",
      "<html lang=\"en\">\n",
      " <head>\n",
      "  <meta charset=\"utf-8\"/>\n",
      "  <meta content=\"width=device-width, initial-scale=1.0\" name=\"viewport\"/>\n",
      "  <title>\n",
      "   Sample Books Data\n",
      "  </title>\n",
      "  <style>\n",
      "   body {\n",
      "            font-family: Arial, sans-serif;\n",
      "            margin: 20px;\n",
      "            background-color: #f8f8f8;\n",
      "        }\n",
      "        h1 {\n",
      "            text-align: center;\n",
      "            color: #333;\n",
      "        }\n",
      "        .book {\n",
      "            border: 1px solid #ccc;\n",
      "            padding: 15px;\n",
      "            margin: 10px;\n",
      "            border-radius: 5px;\n",
      "            background-color: #fff;\n",
      "        }\n",
      "        .title {\n",
      "            font-size: 1.5em;\n",
      "            color: #0056b3;\n",
      "        }\n",
      "        .author {\n",
      "            font-style: italic;\n",
      "            color: #555;\n",
      "        }\n",
      "        .price {\n",
      "            color: #d9534f;\n",
      "            font-weight: bold;\n",
      "        }\n",
      "        .description {\n",
      "            margin-top: 10px;\n",
      "        }\n",
      "        a {\n",
      "            color: #007bff;\n",
      "            text-decoration: none;\n",
      "        }\n",
      "        a:hover {\n",
      "            text-decoration: underline;\n",
      "        }\n",
      "  </style>\n",
      " </head>\n",
      " <body>\n",
      "  <h1>\n",
      "   Books List\n",
      "  </h1>\n",
      "  <div class=\"book\">\n",
      "   <p class=\"title\">\n",
      "    <b>\n",
      "     The Great Gatsby\n",
      "    </b>\n",
      "   </p>\n",
      "   <p class=\"author\">\n",
      "    Author: F. Scott Fitzgerald\n",
      "   </p>\n",
      "   <p class=\"price\">\n",
      "    Price: $10.99\n",
      "   </p>\n",
      "   <p class=\"publication-year\">\n",
      "    Publication Year: 1925\n",
      "   </p>\n",
      "   <p class=\"genre\">\n",
      "    Genre: Fiction\n",
      "   </p>\n",
      "   <p class=\"description\">\n",
      "    A novel about the American dream, set in the 1920s on Long Island.\n",
      "   </p>\n",
      "   <p>\n",
      "    More Info:\n",
      "    <a class=\"info-link\" href=\"http://example.com/gatsby\" id=\"link1\">\n",
      "     Learn More\n",
      "    </a>\n",
      "   </p>\n",
      "  </div>\n",
      "  <div class=\"book\">\n",
      "   <p class=\"title\">\n",
      "    <b>\n",
      "     1984\n",
      "    </b>\n",
      "   </p>\n",
      "   <p class=\"author\">\n",
      "    Author: George Orwell\n",
      "   </p>\n",
      "   <p class=\"price\">\n",
      "    Price: $8.99\n",
      "   </p>\n",
      "   <p class=\"publication-year\">\n",
      "    Publication Year: 1949\n",
      "   </p>\n",
      "   <p class=\"genre\">\n",
      "    Genre: Dystopian\n",
      "   </p>\n",
      "   <p class=\"description\">\n",
      "    A story about a totalitarian regime that uses surveillance and propaganda to control its citizens.\n",
      "   </p>\n",
      "   <p>\n",
      "    More Info:\n",
      "    <a class=\"info-link\" href=\"http://example.com/1984\" id=\"link2\">\n",
      "     Learn More\n",
      "    </a>\n",
      "   </p>\n",
      "  </div>\n",
      "  <div class=\"book\">\n",
      "   <p class=\"title\">\n",
      "    <b>\n",
      "     To Kill a Mockingbird\n",
      "    </b>\n",
      "   </p>\n",
      "   <p class=\"author\">\n",
      "    Author: Harper Lee\n",
      "   </p>\n",
      "   <p class=\"price\">\n",
      "    Price: $7.99\n",
      "   </p>\n",
      "   <p class=\"publication-year\">\n",
      "    Publication Year: 1960\n",
      "   </p>\n",
      "   <p class=\"genre\">\n",
      "    Genre: Fiction\n",
      "   </p>\n",
      "   <p class=\"description\">\n",
      "    A novel set in the Great Depression that addresses serious issues of race and injustice.\n",
      "   </p>\n",
      "   <p>\n",
      "    More Info:\n",
      "    <a class=\"info-link\" href=\"http://example.com/mockingbird\" id=\"link3\">\n",
      "     Learn More\n",
      "    </a>\n",
      "   </p>\n",
      "  </div>\n",
      " </body>\n",
      "</html>\n",
      "\n"
     ]
    }
   ],
   "source": [
    "# Print the parsed HTML to verify\n",
    "print(soup.prettify()) # method in Beautiful Soup that formats the parsed HTML content into a more readable structure"
   ]
  },
  {
   "cell_type": "code",
   "execution_count": 5,
   "id": "b8283d84-b8ba-440d-9d04-c11d3d59e852",
   "metadata": {},
   "outputs": [],
   "source": [
    "# Find all book entries\n",
    "books = soup.find_all('div', class_='book')"
   ]
  },
  {
   "cell_type": "code",
   "execution_count": 6,
   "id": "38472df3-3247-40e5-9652-262d3b25e128",
   "metadata": {},
   "outputs": [
    {
     "name": "stdout",
     "output_type": "stream",
     "text": [
      "Number of books found: 3\n"
     ]
    }
   ],
   "source": [
    "# Print the number of books found\n",
    "print(f\"Number of books found: {len(books)}\")"
   ]
  },
  {
   "cell_type": "code",
   "execution_count": 7,
   "id": "96f3a039-a20b-484a-978e-ee35f4538031",
   "metadata": {},
   "outputs": [],
   "source": [
    "# Initialize an empty list to hold book data\n",
    "book_data = []"
   ]
  },
  {
   "cell_type": "code",
   "execution_count": 8,
   "id": "c3a86ca8-cfce-40b3-b40a-63675f371ce0",
   "metadata": {},
   "outputs": [],
   "source": [
    "# Loop through each book and extract details\n",
    "for book in books:\n",
    "    title = book.find('p', class_='title').get_text(strip=True)\n",
    "    author = book.find('p', class_='author').get_text(strip=True)\n",
    "    price = book.find('p', class_='price').get_text(strip=True)\n",
    "    publication_year = book.find('p', class_='publication-year').get_text(strip=True)\n",
    "    genre = book.find('p', class_='genre').get_text(strip=True)\n",
    "    description = book.find('p', class_='description').get_text(strip=True)\n",
    "\n",
    "    # Append the extracted data to the list\n",
    "    book_data.append({\n",
    "        'Title': title,\n",
    "        'Author': author,\n",
    "        'Price': price,\n",
    "        'Publication Year': publication_year,\n",
    "        'Genre': genre,\n",
    "        'Description': description\n",
    "    })"
   ]
  },
  {
   "cell_type": "code",
   "execution_count": 9,
   "id": "89fe0658-f415-4ca7-a989-d85a026a942a",
   "metadata": {},
   "outputs": [
    {
     "data": {
      "text/plain": [
       "[{'Title': 'The Great Gatsby',\n",
       "  'Author': 'Author: F. Scott Fitzgerald',\n",
       "  'Price': 'Price: $10.99',\n",
       "  'Publication Year': 'Publication Year: 1925',\n",
       "  'Genre': 'Genre: Fiction',\n",
       "  'Description': 'A novel about the American dream, set in the 1920s on Long Island.'},\n",
       " {'Title': '1984',\n",
       "  'Author': 'Author: George Orwell',\n",
       "  'Price': 'Price: $8.99',\n",
       "  'Publication Year': 'Publication Year: 1949',\n",
       "  'Genre': 'Genre: Dystopian',\n",
       "  'Description': 'A story about a totalitarian regime that uses surveillance and propaganda to control its citizens.'},\n",
       " {'Title': 'To Kill a Mockingbird',\n",
       "  'Author': 'Author: Harper Lee',\n",
       "  'Price': 'Price: $7.99',\n",
       "  'Publication Year': 'Publication Year: 1960',\n",
       "  'Genre': 'Genre: Fiction',\n",
       "  'Description': 'A novel set in the Great Depression that addresses serious issues of race and injustice.'}]"
      ]
     },
     "execution_count": 9,
     "metadata": {},
     "output_type": "execute_result"
    }
   ],
   "source": [
    "book_data"
   ]
  },
  {
   "cell_type": "code",
   "execution_count": 10,
   "id": "0293fcb7-5fed-4c61-a061-50d503de7f49",
   "metadata": {},
   "outputs": [
    {
     "data": {
      "text/html": [
       "<div>\n",
       "<style scoped>\n",
       "    .dataframe tbody tr th:only-of-type {\n",
       "        vertical-align: middle;\n",
       "    }\n",
       "\n",
       "    .dataframe tbody tr th {\n",
       "        vertical-align: top;\n",
       "    }\n",
       "\n",
       "    .dataframe thead th {\n",
       "        text-align: right;\n",
       "    }\n",
       "</style>\n",
       "<table border=\"1\" class=\"dataframe\">\n",
       "  <thead>\n",
       "    <tr style=\"text-align: right;\">\n",
       "      <th></th>\n",
       "      <th>Title</th>\n",
       "      <th>Author</th>\n",
       "      <th>Price</th>\n",
       "      <th>Publication Year</th>\n",
       "      <th>Genre</th>\n",
       "      <th>Description</th>\n",
       "    </tr>\n",
       "  </thead>\n",
       "  <tbody>\n",
       "    <tr>\n",
       "      <th>0</th>\n",
       "      <td>The Great Gatsby</td>\n",
       "      <td>Author: F. Scott Fitzgerald</td>\n",
       "      <td>Price: $10.99</td>\n",
       "      <td>Publication Year: 1925</td>\n",
       "      <td>Genre: Fiction</td>\n",
       "      <td>A novel about the American dream, set in the 1...</td>\n",
       "    </tr>\n",
       "    <tr>\n",
       "      <th>1</th>\n",
       "      <td>1984</td>\n",
       "      <td>Author: George Orwell</td>\n",
       "      <td>Price: $8.99</td>\n",
       "      <td>Publication Year: 1949</td>\n",
       "      <td>Genre: Dystopian</td>\n",
       "      <td>A story about a totalitarian regime that uses ...</td>\n",
       "    </tr>\n",
       "    <tr>\n",
       "      <th>2</th>\n",
       "      <td>To Kill a Mockingbird</td>\n",
       "      <td>Author: Harper Lee</td>\n",
       "      <td>Price: $7.99</td>\n",
       "      <td>Publication Year: 1960</td>\n",
       "      <td>Genre: Fiction</td>\n",
       "      <td>A novel set in the Great Depression that addre...</td>\n",
       "    </tr>\n",
       "  </tbody>\n",
       "</table>\n",
       "</div>"
      ],
      "text/plain": [
       "                   Title                       Author          Price  \\\n",
       "0       The Great Gatsby  Author: F. Scott Fitzgerald  Price: $10.99   \n",
       "1                   1984        Author: George Orwell   Price: $8.99   \n",
       "2  To Kill a Mockingbird           Author: Harper Lee   Price: $7.99   \n",
       "\n",
       "         Publication Year             Genre  \\\n",
       "0  Publication Year: 1925    Genre: Fiction   \n",
       "1  Publication Year: 1949  Genre: Dystopian   \n",
       "2  Publication Year: 1960    Genre: Fiction   \n",
       "\n",
       "                                         Description  \n",
       "0  A novel about the American dream, set in the 1...  \n",
       "1  A story about a totalitarian regime that uses ...  \n",
       "2  A novel set in the Great Depression that addre...  "
      ]
     },
     "execution_count": 10,
     "metadata": {},
     "output_type": "execute_result"
    }
   ],
   "source": [
    "# Create a DataFrame from the extracted book data\n",
    "df = pd.DataFrame(book_data)\n",
    "\n",
    "# Display the DataFrame\n",
    "df\n"
   ]
  },
  {
   "cell_type": "markdown",
   "id": "a475a76c-e6dc-433f-975a-46b0e0d02add",
   "metadata": {},
   "source": [
    "#### Other commands"
   ]
  },
  {
   "cell_type": "code",
   "execution_count": 11,
   "id": "7c5c4549-24be-4d6a-858d-b64e5d9715a7",
   "metadata": {},
   "outputs": [
    {
     "data": {
      "text/plain": [
       "'head'"
      ]
     },
     "execution_count": 11,
     "metadata": {},
     "output_type": "execute_result"
    }
   ],
   "source": [
    "soup.title # Access the title tag of the parsed HTML document\n",
    "#soup.title.name # This retrieves the tag name of the title element\n",
    "#soup.title.string # This retrieves the text content of the title element\n",
    "soup.title.parent.name # Access the name of the parent tag of the title element (e.g., 'head')"
   ]
  },
  {
   "cell_type": "code",
   "execution_count": 12,
   "id": "e4a636dd-78e1-421b-bc90-f40fcb3e0c24",
   "metadata": {},
   "outputs": [
    {
     "data": {
      "text/plain": [
       "<a class=\"info-link\" href=\"http://example.com/gatsby\" id=\"link1\">Learn More</a>"
      ]
     },
     "execution_count": 12,
     "metadata": {},
     "output_type": "execute_result"
    }
   ],
   "source": [
    "soup.a "
   ]
  },
  {
   "cell_type": "code",
   "execution_count": 13,
   "id": "e8720d8e-a53c-41c9-830f-f67d58a2d831",
   "metadata": {},
   "outputs": [
    {
     "data": {
      "text/plain": [
       "[<a class=\"info-link\" href=\"http://example.com/gatsby\" id=\"link1\">Learn More</a>,\n",
       " <a class=\"info-link\" href=\"http://example.com/1984\" id=\"link2\">Learn More</a>,\n",
       " <a class=\"info-link\" href=\"http://example.com/mockingbird\" id=\"link3\">Learn More</a>]"
      ]
     },
     "execution_count": 13,
     "metadata": {},
     "output_type": "execute_result"
    }
   ],
   "source": [
    "soup.find_all('a') # Find all anchor (<a>) tags in the document and return them as a list"
   ]
  },
  {
   "cell_type": "code",
   "execution_count": 14,
   "id": "dbd4535d-1bee-462e-ab68-cc97c7a85e9e",
   "metadata": {},
   "outputs": [
    {
     "data": {
      "text/plain": [
       "<a class=\"info-link\" href=\"http://example.com/mockingbird\" id=\"link3\">Learn More</a>"
      ]
     },
     "execution_count": 14,
     "metadata": {},
     "output_type": "execute_result"
    }
   ],
   "source": [
    "soup.find(id = 'link3') # Find an element by its ID (in this case, the element with id='link3')"
   ]
  },
  {
   "cell_type": "code",
   "execution_count": 15,
   "id": "6d1e4295-935f-47fe-b446-8a0525758434",
   "metadata": {},
   "outputs": [
    {
     "name": "stdout",
     "output_type": "stream",
     "text": [
      "link1\n",
      "link2\n",
      "link3\n"
     ]
    }
   ],
   "source": [
    "# Iterate through all anchor (<a>) tags found in the document\n",
    "for interator in soup.find_all('a'):  # for each anchor tag:\n",
    "    \n",
    "    print(interator.get('id')) # Print the value of the 'id' attribute of the anchor tag"
   ]
  },
  {
   "cell_type": "code",
   "execution_count": 16,
   "id": "ae2823b7-d2a8-47e2-89d4-e011fcf94204",
   "metadata": {},
   "outputs": [
    {
     "name": "stdout",
     "output_type": "stream",
     "text": [
      "http://example.com/gatsby\n",
      "http://example.com/1984\n",
      "http://example.com/mockingbird\n"
     ]
    }
   ],
   "source": [
    "# Iterate through all anchor (<a>) tags found in the document\n",
    "for interator in soup.find_all('a'):  # for each anchor tag:\n",
    "    \n",
    "    print(interator.get('href')) # Print the value of the 'href' attribute of the anchor tag"
   ]
  },
  {
   "cell_type": "code",
   "execution_count": 17,
   "id": "7b4b4d99-ef1d-4e95-9329-377703babb9d",
   "metadata": {},
   "outputs": [
    {
     "data": {
      "text/plain": [
       "'\\n\\n\\n\\n\\nSample Books Data\\n\\n\\n\\nBooks List\\n\\n\\nThe Great Gatsby\\n\\nAuthor: F. Scott Fitzgerald\\nPrice: $10.99\\nPublication Year: 1925\\nGenre: Fiction\\n\\n            A novel about the American dream, set in the 1920s on Long Island.\\n        \\nMore Info: Learn More\\n\\n\\n\\n1984\\n\\nAuthor: George Orwell\\nPrice: $8.99\\nPublication Year: 1949\\nGenre: Dystopian\\n\\n            A story about a totalitarian regime that uses surveillance and propaganda to control its citizens.\\n        \\nMore Info: Learn More\\n\\n\\n\\nTo Kill a Mockingbird\\n\\nAuthor: Harper Lee\\nPrice: $7.99\\nPublication Year: 1960\\nGenre: Fiction\\n\\n            A novel set in the Great Depression that addresses serious issues of race and injustice.\\n        \\nMore Info: Learn More\\n\\n\\n\\n'"
      ]
     },
     "execution_count": 17,
     "metadata": {},
     "output_type": "execute_result"
    }
   ],
   "source": [
    "# Get all the text content from the entire HTML document\n",
    "soup.get_text()"
   ]
  },
  {
   "cell_type": "code",
   "execution_count": 18,
   "id": "58b098b0-8ca6-4496-b68a-55c233ad075c",
   "metadata": {},
   "outputs": [
    {
     "name": "stdout",
     "output_type": "stream",
     "text": [
      "\n",
      "\n",
      "\n",
      "\n",
      "\n",
      "Sample Books Data\n",
      "\n",
      "\n",
      "\n",
      "Books List\n",
      "\n",
      "\n",
      "The Great Gatsby\n",
      "\n",
      "Author: F. Scott Fitzgerald\n",
      "Price: $10.99\n",
      "Publication Year: 1925\n",
      "Genre: Fiction\n",
      "\n",
      "            A novel about the American dream, set in the 1920s on Long Island.\n",
      "        \n",
      "More Info: Learn More\n",
      "\n",
      "\n",
      "\n",
      "1984\n",
      "\n",
      "Author: George Orwell\n",
      "Price: $8.99\n",
      "Publication Year: 1949\n",
      "Genre: Dystopian\n",
      "\n",
      "            A story about a totalitarian regime that uses surveillance and propaganda to control its citizens.\n",
      "        \n",
      "More Info: Learn More\n",
      "\n",
      "\n",
      "\n",
      "To Kill a Mockingbird\n",
      "\n",
      "Author: Harper Lee\n",
      "Price: $7.99\n",
      "Publication Year: 1960\n",
      "Genre: Fiction\n",
      "\n",
      "            A novel set in the Great Depression that addresses serious issues of race and injustice.\n",
      "        \n",
      "More Info: Learn More\n",
      "\n",
      "\n",
      "\n",
      "\n"
     ]
    }
   ],
   "source": [
    "# Print all the text content from the entire HTML document\n",
    "print(soup.get_text())"
   ]
  },
  {
   "cell_type": "markdown",
   "id": "a3b10a45",
   "metadata": {},
   "source": [
    "<div style=\"background-color: lightgreen; color: black; padding: 4px;\">\n",
    "    <h3>3. Web Scraping with Beautiful Soup (Activity)\n",
    "    </h3> </div>"
   ]
  },
  {
   "cell_type": "markdown",
   "id": "09dda7d8-3bb0-4cd2-b111-f5b8aa27076a",
   "metadata": {},
   "source": [
    "<div style=\"background-color: lightblue; color: black; padding: 4px;\">\n",
    "    <h4> Extract data of the top movies from the IMDb\n",
    "</h4> </div>"
   ]
  },
  {
   "cell_type": "markdown",
   "id": "8a177bac-b11f-4dc8-8c8f-e0e22cfcbdef",
   "metadata": {},
   "source": [
    "#### Objective\n",
    "\n",
    "To scrape data from a popular website that lists movie information—IMDb. In this example, we'll extract the titles, years, and ratings of the top movies from the IMDb Top 250 list.\n",
    "\n",
    "#### Activity Overview\n",
    "    \n",
    "In this activity, we will:\n",
    "\n",
    "    1. Send an HTTP request to the IMDb Top 250 movies page.\n",
    "    2. Parse the HTML content using Beautiful Soup.\n",
    "    3. Extract movie titles, years, and ratings.\n",
    "    4. Store the data in a Pandas DataFrame.\n",
    "    5. Display the DataFrame.\n",
    "\n",
    "---"
   ]
  },
  {
   "cell_type": "markdown",
   "id": "2e7ac6e8-e4cf-4983-b43e-fa08c529eea0",
   "metadata": {},
   "source": [
    "#### 1. Import dependencies"
   ]
  },
  {
   "cell_type": "code",
   "execution_count": 19,
   "id": "54017d69-fe26-4d7c-af86-a76db3fa16f0",
   "metadata": {},
   "outputs": [],
   "source": [
    "# Import the libraries\n",
    "import requests                  # For making HTTP requests\n",
    "from bs4 import BeautifulSoup     # For parsing HTML content\n",
    "import pandas as pd               # For creating, storing and manipulating DataFrames\n"
   ]
  },
  {
   "cell_type": "markdown",
   "id": "87cfba0a-960a-4c87-a3fe-26e767b1fc67",
   "metadata": {},
   "source": [
    "#### 2. Send a Request to IMDb"
   ]
  },
  {
   "cell_type": "code",
   "execution_count": 20,
   "id": "dcba2e1f-560e-471b-a967-dca1caf67f7f",
   "metadata": {},
   "outputs": [],
   "source": [
    "# Define the URL of the IMDb Top 250 movies page\n",
    "url = 'https://www.imdb.com/chart/top/'"
   ]
  },
  {
   "cell_type": "code",
   "execution_count": 21,
   "id": "97cd64e8-a325-45b9-98a5-7acbc374d5d3",
   "metadata": {},
   "outputs": [],
   "source": [
    "# Send an HTTP GET request to fetch the page content\n",
    "response = requests.get(url)"
   ]
  },
  {
   "cell_type": "code",
   "execution_count": 22,
   "id": "5481bd9b-06ca-4706-9def-d9ec904f2e96",
   "metadata": {},
   "outputs": [
    {
     "name": "stdout",
     "output_type": "stream",
     "text": [
      "Failed to retrieve the page. Status code: 403\n"
     ]
    }
   ],
   "source": [
    "# Check if the request was successful (status code 200)\n",
    "if response.status_code == 200:\n",
    "    print(\"Successfully fetched the page!\")\n",
    "else:\n",
    "    print(f\"Failed to retrieve the page. Status code: {response.status_code}\")"
   ]
  },
  {
   "cell_type": "code",
   "execution_count": 23,
   "id": "908bee2b-eaf6-440d-9c90-e0be4ef59749",
   "metadata": {},
   "outputs": [],
   "source": [
    "# Sometimes causes errors with some websites, so let's use headers\n",
    "\n",
    "# Set headers to mimic a browser request\n",
    "headers = {\n",
    "    'User-Agent': 'Mozilla/5.0 (Windows NT 10.0; Win64; x64) AppleWebKit/537.36 (KHTML, like Gecko) Chrome/91.0.4472.124 Safari/537.36'\n",
    "}"
   ]
  },
  {
   "cell_type": "markdown",
   "id": "d2676bc4-012b-4397-aa0c-3d51439e7c9a",
   "metadata": {},
   "source": [
    "The ```User-Agent``` string in the headers simulates a request from a web browser. This often helps bypass simple bot detection mechanisms that websites may have in place."
   ]
  },
  {
   "cell_type": "code",
   "execution_count": 24,
   "id": "f6e2e515-94bf-4e15-81dd-a5cda02d1ff5",
   "metadata": {},
   "outputs": [
    {
     "data": {
      "text/plain": [
       "<Response [200]>"
      ]
     },
     "execution_count": 24,
     "metadata": {},
     "output_type": "execute_result"
    }
   ],
   "source": [
    "# Send an HTTP GET request with the headers\n",
    "response = requests.get(url, headers=headers)\n",
    "response"
   ]
  },
  {
   "cell_type": "code",
   "execution_count": 25,
   "id": "2f5dd874-6743-4128-b38f-96102e5b1e63",
   "metadata": {},
   "outputs": [
    {
     "name": "stdout",
     "output_type": "stream",
     "text": [
      "Successfully fetched the page!\n"
     ]
    }
   ],
   "source": [
    "# Check if the request was successful (status code 200)\n",
    "if response.status_code == 200:\n",
    "    print(\"Successfully fetched the page!\")\n",
    "else:\n",
    "    print(f\"Failed to retrieve the page. Status code: {response.status_code}\")"
   ]
  },
  {
   "cell_type": "markdown",
   "id": "c04623fc-fb36-43d8-834a-aa32cfe9b388",
   "metadata": {},
   "source": [
    "#### 3. Parse the HTML Content"
   ]
  },
  {
   "cell_type": "code",
   "execution_count": 26,
   "id": "4341cbbb-7495-41c3-beb4-1cc5ac13be4c",
   "metadata": {},
   "outputs": [],
   "source": [
    "# Parse the HTML content of the page using Beautiful Soup\n",
    "soup = BeautifulSoup(response.content, 'html.parser')\n",
    "#soup"
   ]
  },
  {
   "cell_type": "code",
   "execution_count": 27,
   "id": "40b68e25-c73d-4bf8-8619-d4b8abb775c3",
   "metadata": {},
   "outputs": [],
   "source": [
    "# Print the parsed HTML to verify\n",
    "#print(soup.prettify()[:2000]) # method in Beautiful Soup that formats the parsed HTML content into a more readable structure"
   ]
  },
  {
   "cell_type": "markdown",
   "id": "fb440c7d-82ed-4f40-b236-03b8b34bab1a",
   "metadata": {},
   "source": [
    "#### 4. Extract Movie Data"
   ]
  },
  {
   "cell_type": "code",
   "execution_count": 28,
   "id": "a3d62373-ffd3-41df-ade0-1e8d64199504",
   "metadata": {},
   "outputs": [
    {
     "data": {
      "text/plain": [
       "[]"
      ]
     },
     "execution_count": 28,
     "metadata": {},
     "output_type": "execute_result"
    }
   ],
   "source": [
    "# Create empty lists to store movie titles, years, ratings, and URLs\n",
    "titles = []\n",
    "years = []\n",
    "ratings = []\n",
    "urls = []\n",
    "\n",
    "# Find all the movie items in the HTML\n",
    "movie_items = soup.find_all('item')\n",
    "movie_items"
   ]
  },
  {
   "cell_type": "markdown",
   "id": "4d7750eb-cd9f-459e-8529-f49903bdef1c",
   "metadata": {},
   "source": [
    "```movie_items``` has come out to be empty\n",
    "- In this case we would observe the soup and try to identify how each element has been stored\n",
    "- Otherwise the flow of program would have been:"
   ]
  },
  {
   "cell_type": "code",
   "execution_count": 29,
   "id": "bf33ca6b-4b25-4df1-8f1a-0dec90d4297a",
   "metadata": {},
   "outputs": [
    {
     "ename": "NameError",
     "evalue": "name 'movie_rows' is not defined",
     "output_type": "error",
     "traceback": [
      "\u001b[1;31m---------------------------------------------------------------------------\u001b[0m",
      "\u001b[1;31mNameError\u001b[0m                                 Traceback (most recent call last)",
      "Cell \u001b[1;32mIn[29], line 2\u001b[0m\n\u001b[0;32m      1\u001b[0m \u001b[38;5;66;03m# Loop through the rows to extract movie information\u001b[39;00m\n\u001b[1;32m----> 2\u001b[0m \u001b[38;5;28;01mfor\u001b[39;00m row \u001b[38;5;129;01min\u001b[39;00m movie_rows:\n\u001b[0;32m      3\u001b[0m     \u001b[38;5;66;03m# Extract title\u001b[39;00m\n\u001b[0;32m      4\u001b[0m     title_column \u001b[38;5;241m=\u001b[39m row\u001b[38;5;241m.\u001b[39mfind(\u001b[38;5;124m'\u001b[39m\u001b[38;5;124mtd\u001b[39m\u001b[38;5;124m'\u001b[39m, class_\u001b[38;5;241m=\u001b[39m\u001b[38;5;124m'\u001b[39m\u001b[38;5;124mtitleColumn\u001b[39m\u001b[38;5;124m'\u001b[39m)\n\u001b[0;32m      5\u001b[0m     \u001b[38;5;28;01mif\u001b[39;00m title_column:  \u001b[38;5;66;03m# Check if title_column is not None\u001b[39;00m\n",
      "\u001b[1;31mNameError\u001b[0m: name 'movie_rows' is not defined"
     ]
    }
   ],
   "source": [
    "# Loop through the rows to extract movie information\n",
    "for row in movie_rows:\n",
    "    # Extract title\n",
    "    title_column = row.find('td', class_='titleColumn')\n",
    "    if title_column:  # Check if title_column is not None\n",
    "        title = title_column.a.text  # Get the movie title\n",
    "        titles.append(title)  # Append title to the list\n",
    "\n",
    "        # Extract year\n",
    "        year = title_column.span.text.strip('()')  # Remove parentheses\n",
    "        years.append(year)  # Append year to the list\n",
    "\n",
    "        # Extract rating\n",
    "        rating_column = row.find('td', class_='ratingColumn imdbRating')\n",
    "        if rating_column:\n",
    "            rating = rating_column.strong.text  # Get the rating\n",
    "            ratings.append(rating)  # Append rating to the list"
   ]
  },
  {
   "cell_type": "code",
   "execution_count": 31,
   "id": "985a7032-e539-4588-b039-dcb68a1ab909",
   "metadata": {},
   "outputs": [
    {
     "name": "stdout",
     "output_type": "stream",
     "text": [
      "Titles: []\n",
      "Years: []\n",
      "Ratings: []\n"
     ]
    }
   ],
   "source": [
    "# Display the first few movie titles, years, and ratings\n",
    "print(\"Titles:\", titles[:5])\n",
    "print(\"Years:\", years[:5])\n",
    "print(\"Ratings:\", ratings[:5])"
   ]
  },
  {
   "cell_type": "markdown",
   "id": "41f75722-cfcb-4453-bf6f-4bbbc7cd7456",
   "metadata": {},
   "source": [
    "##### Observe the empty outputs!"
   ]
  },
  {
   "cell_type": "markdown",
   "id": "e2064f68-6bf0-4fd2-ad41-6956f2fc6853",
   "metadata": {},
   "source": [
    "#### Debugging\n",
    "\n",
    "Let's observe what's wrong. \n",
    "```python\n",
    "# Extract title\n",
    "    title_column = row.find('td', class_='titleColumn')\n",
    "```\n",
    "\n",
    "was not working because ```td``` is not used to encode data here"
   ]
  },
  {
   "cell_type": "code",
   "execution_count": 32,
   "id": "f8e82fc7-e0b0-43fe-8bcd-40511d609337",
   "metadata": {},
   "outputs": [],
   "source": [
    "# Let's check what soup is looking like\n",
    "#print(soup.prettify()[:2000]) # Print the first 500 characters of the prettified  HTML"
   ]
  },
  {
   "cell_type": "markdown",
   "id": "70e5641b-95a1-46b9-9b3f-9bfa2ae787f7",
   "metadata": {},
   "source": [
    "<h4 style=\"background-color: yellow; color: #000; padding: 10px; text-align: left;\">Observing the meta data here</h4>\n",
    "\n",
    "- Data looks like enclosed in a ```<script type=\"application/ld+json\">```\n",
    "\n",
    "- So it is stored in JSON. Let's use the steps to parse data from JSON within an HTML file"
   ]
  },
  {
   "cell_type": "code",
   "execution_count": 38,
   "id": "ce2883ce-03fd-4d2f-81ee-9f6632f44da8",
   "metadata": {},
   "outputs": [],
   "source": [
    "# Find the JSON data in the script tag\n",
    "import json\n",
    "\n",
    "json_data = soup.find('script', type='application/ld+json')"
   ]
  },
  {
   "cell_type": "code",
   "execution_count": 44,
   "id": "796a0807-4f49-4e84-abbb-6f12ba2c636b",
   "metadata": {},
   "outputs": [],
   "source": [
    "if json_data:\n",
    "    # Parse the JSON data\n",
    "    data = json.loads(json_data.string) \n",
    "#data # observe data"
   ]
  },
  {
   "cell_type": "code",
   "execution_count": 40,
   "id": "dc75c348-433a-42c3-9da7-a75f159fafca",
   "metadata": {},
   "outputs": [],
   "source": [
    "# Extract titles and ratings\n",
    "titles = []\n",
    "urls = []\n",
    "descriptions = []\n",
    "best_ratings = []\n",
    "worst_ratings = []\n",
    "ratings = []\n",
    "genres = []\n",
    "durations = []"
   ]
  },
  {
   "cell_type": "markdown",
   "id": "7ffcff85-a5e4-4277-8540-df0c427570c0",
   "metadata": {},
   "source": [
    "data"
   ]
  },
  {
   "cell_type": "code",
   "execution_count": 45,
   "id": "7a848e0e-41f7-4907-8085-a9ee22d2fcd3",
   "metadata": {},
   "outputs": [],
   "source": [
    "# Check if the data contains the expected structure\n",
    "if 'itemListElement' in data:\n",
    "    for item in data['itemListElement']:\n",
    "        movie = item['item']\n",
    "        \n",
    "        # Extract movie details\n",
    "        titles.append(movie['name'])  # Movie name\n",
    "        urls.append(movie['url'])  # Movie URL\n",
    "        descriptions.append(movie['description'])  # Movie description\n",
    "        \n",
    "        # Extract ratings (best, worst, actual rating)\n",
    "        best_ratings.append(movie['aggregateRating']['bestRating'])  # Best rating\n",
    "        worst_ratings.append(movie['aggregateRating']['worstRating'])  # Worst rating\n",
    "        ratings.append(float(movie['aggregateRating']['ratingValue']))  # Rating value\n",
    "        \n",
    "        genres.append(movie['genre'])  # Movie genre\n",
    "        durations.append(movie['duration'])  # Movie duration"
   ]
  },
  {
   "cell_type": "markdown",
   "id": "17b9e65d-c1da-46b2-9d50-43b8817530a3",
   "metadata": {},
   "source": [
    "#### 5. Create a DataFrame"
   ]
  },
  {
   "cell_type": "code",
   "execution_count": 46,
   "id": "39ee65bd-6af6-4a2f-80a8-8c79945a9777",
   "metadata": {},
   "outputs": [
    {
     "data": {
      "text/html": [
       "<div>\n",
       "<style scoped>\n",
       "    .dataframe tbody tr th:only-of-type {\n",
       "        vertical-align: middle;\n",
       "    }\n",
       "\n",
       "    .dataframe tbody tr th {\n",
       "        vertical-align: top;\n",
       "    }\n",
       "\n",
       "    .dataframe thead th {\n",
       "        text-align: right;\n",
       "    }\n",
       "</style>\n",
       "<table border=\"1\" class=\"dataframe\">\n",
       "  <thead>\n",
       "    <tr style=\"text-align: right;\">\n",
       "      <th></th>\n",
       "      <th>Title</th>\n",
       "      <th>URL</th>\n",
       "      <th>Description</th>\n",
       "      <th>Best Rating</th>\n",
       "      <th>Worst Rating</th>\n",
       "      <th>Rating</th>\n",
       "      <th>Genre</th>\n",
       "      <th>Duration</th>\n",
       "    </tr>\n",
       "  </thead>\n",
       "  <tbody>\n",
       "    <tr>\n",
       "      <th>0</th>\n",
       "      <td>The Shawshank Redemption</td>\n",
       "      <td>https://www.imdb.com/title/tt0111161/</td>\n",
       "      <td>A banker convicted of uxoricide forms a friend...</td>\n",
       "      <td>10</td>\n",
       "      <td>1</td>\n",
       "      <td>9.3</td>\n",
       "      <td>Drama</td>\n",
       "      <td>PT2H22M</td>\n",
       "    </tr>\n",
       "    <tr>\n",
       "      <th>1</th>\n",
       "      <td>The Godfather</td>\n",
       "      <td>https://www.imdb.com/title/tt0068646/</td>\n",
       "      <td>The aging patriarch of an organized crime dyna...</td>\n",
       "      <td>10</td>\n",
       "      <td>1</td>\n",
       "      <td>9.2</td>\n",
       "      <td>Crime, Drama</td>\n",
       "      <td>PT2H55M</td>\n",
       "    </tr>\n",
       "    <tr>\n",
       "      <th>2</th>\n",
       "      <td>The Dark Knight</td>\n",
       "      <td>https://www.imdb.com/title/tt0468569/</td>\n",
       "      <td>When a menace known as the Joker wreaks havoc ...</td>\n",
       "      <td>10</td>\n",
       "      <td>1</td>\n",
       "      <td>9.0</td>\n",
       "      <td>Action, Crime, Drama</td>\n",
       "      <td>PT2H32M</td>\n",
       "    </tr>\n",
       "    <tr>\n",
       "      <th>3</th>\n",
       "      <td>The Godfather Part II</td>\n",
       "      <td>https://www.imdb.com/title/tt0071562/</td>\n",
       "      <td>The early life and career of Vito Corleone in ...</td>\n",
       "      <td>10</td>\n",
       "      <td>1</td>\n",
       "      <td>9.0</td>\n",
       "      <td>Crime, Drama</td>\n",
       "      <td>PT3H22M</td>\n",
       "    </tr>\n",
       "    <tr>\n",
       "      <th>4</th>\n",
       "      <td>12 Angry Men</td>\n",
       "      <td>https://www.imdb.com/title/tt0050083/</td>\n",
       "      <td>The jury in a New York City murder trial is fr...</td>\n",
       "      <td>10</td>\n",
       "      <td>1</td>\n",
       "      <td>9.0</td>\n",
       "      <td>Crime, Drama</td>\n",
       "      <td>PT1H36M</td>\n",
       "    </tr>\n",
       "  </tbody>\n",
       "</table>\n",
       "</div>"
      ],
      "text/plain": [
       "                      Title                                    URL  \\\n",
       "0  The Shawshank Redemption  https://www.imdb.com/title/tt0111161/   \n",
       "1             The Godfather  https://www.imdb.com/title/tt0068646/   \n",
       "2           The Dark Knight  https://www.imdb.com/title/tt0468569/   \n",
       "3     The Godfather Part II  https://www.imdb.com/title/tt0071562/   \n",
       "4              12 Angry Men  https://www.imdb.com/title/tt0050083/   \n",
       "\n",
       "                                         Description  Best Rating  \\\n",
       "0  A banker convicted of uxoricide forms a friend...           10   \n",
       "1  The aging patriarch of an organized crime dyna...           10   \n",
       "2  When a menace known as the Joker wreaks havoc ...           10   \n",
       "3  The early life and career of Vito Corleone in ...           10   \n",
       "4  The jury in a New York City murder trial is fr...           10   \n",
       "\n",
       "   Worst Rating  Rating                 Genre Duration  \n",
       "0             1     9.3                 Drama  PT2H22M  \n",
       "1             1     9.2          Crime, Drama  PT2H55M  \n",
       "2             1     9.0  Action, Crime, Drama  PT2H32M  \n",
       "3             1     9.0          Crime, Drama  PT3H22M  \n",
       "4             1     9.0          Crime, Drama  PT1H36M  "
      ]
     },
     "execution_count": 46,
     "metadata": {},
     "output_type": "execute_result"
    }
   ],
   "source": [
    "import pandas as pd\n",
    "\n",
    "# Create a DataFrame to store the scraped data\n",
    "df = pd.DataFrame({\n",
    "    'Title': titles,\n",
    "    'URL': urls,\n",
    "    'Description': descriptions,\n",
    "    'Best Rating': best_ratings,\n",
    "    'Worst Rating': worst_ratings,\n",
    "    'Rating': ratings,\n",
    "    'Genre': genres,\n",
    "    'Duration': durations\n",
    "})\n",
    "\n",
    "# Print the first few rows of the DataFrame\n",
    "df.head()"
   ]
  },
  {
   "cell_type": "markdown",
   "id": "a3447e9d-1e34-4103-af7a-24109fa6166b",
   "metadata": {},
   "source": [
    "#### 6. Save Data to a CSV File (Optional)"
   ]
  },
  {
   "cell_type": "code",
   "execution_count": 47,
   "id": "1cd06cfa-ef1c-4014-8e5c-c144c62edfc6",
   "metadata": {},
   "outputs": [
    {
     "name": "stdout",
     "output_type": "stream",
     "text": [
      "Data saved in CSV format'\n"
     ]
    }
   ],
   "source": [
    "# Save the DataFrame to a CSV file\n",
    "df.to_csv('topIMBDmovies.csv', index=False) # Setting index=False excludes the row index from being written to the file.\n",
    "print(\"Data saved in CSV format'\")"
   ]
  },
  {
   "cell_type": "markdown",
   "id": "f2185430-3791-45df-824f-bdec6d7145e3",
   "metadata": {},
   "source": [
    "<div class=\"alert alert-block alert-warning\">\n",
    "    <b><font size=\"5\"> Live Exercise</font> </b>\n",
    "</div>\n",
    "\n",
    "<!--- Mohammad Idrees Bhat | Tech Skills Trainer | AI/ML Consultant --->"
   ]
  },
  {
   "cell_type": "markdown",
   "id": "bf8d61af-f3e8-4afc-a66b-3814e160aaf3",
   "metadata": {},
   "source": [
    "Now it's your turn!\n",
    "### Task 1: IMDb Most Popular Movies Web Scraping Activity\n",
    "\n",
    "#### Objective:\n",
    "In this exercise, you will scrape data from IMDb's \"Most Popular Movies\" chart using Python and Beautiful Soup. By the end of the activity, you will:\n",
    "- Successfully extract movie titles, URLs, descriptions, ratings, genres, and durations from the webpage.\n",
    "- Organize the scraped data into a pandas DataFrame.\n",
    "- Save the extracted data to a CSV file for further use.\n",
    "\n",
    "#### Instructions:\n",
    "- Step 1: Send a GET request to the IMDb \"Most Popular Movies\" page\n",
    "- Step 2: Parse the HTML using BeautifulSoup\n",
    "- Step 3: Extract the required data:\n",
    "    - You need to scrape the following data for each movie in the \"Most Popular Movies\" chart:\n",
    "\n",
    "    1. Title: The name of the movie.\n",
    "    2. URL: The URL to the movie's IMDb page.\n",
    "    3. Description: A short description of the movie.\n",
    "    4. Best Rating: The highest rating that a movie can achieve (usually 10).\n",
    "    5. Worst Rating: The lowest rating that a movie can receive (usually 1).\n",
    "    6. Rating Value: The actual rating value given by users (e.g., 8.5).\n",
    "    7. Genre: The genre of the movie (e.g., Drama, Comedy).\n",
    "    8. Duration: The duration of the movie (e.g., \"PT2H30M\" which means 2 hours and 30 minutes).\n",
    "- Step 4: Organize the data into a pandas DataFrame\n",
    "- Step 5: Save the data to a CSV file"
   ]
  },
  {
   "cell_type": "markdown",
   "id": "b69ed7ea-1940-434d-bb2d-601d07994783",
   "metadata": {},
   "source": [
    "<div style=\"background-color: lightblue; color: white; padding: 10px; text-align: center;\">\n",
    "    <h1>_________________________________END________________________________\n",
    "        <!--- Mohammad Idrees Bhat | Tech Skills Trainer | AI/ML Consultant --->\n",
    "</h1> </div>"
   ]
  },
  {
   "cell_type": "markdown",
   "id": "13e86481-eae2-4019-9515-66a43a30f0fb",
   "metadata": {},
   "source": [
    "<div style=\"background-color: #002147; color: #fff; padding: 30px; text-align: center;\">\n",
    "    <h1>THANK YOU!\n",
    "        <!--- Mohammad Idrees Bhat | Tech Skills Trainer | AI/ML Consultant --->\n",
    "</h1> </div>"
   ]
  },
  {
   "cell_type": "markdown",
   "id": "aefa2f04-f141-405d-8a9f-8cf186d66f41",
   "metadata": {},
   "source": [
    "<div style=\"background-color: lightgreen; color: black; padding: 30px;\">\n",
    "    <h4> Live Exercise Solutions\n",
    "        \n",
    "</h4> </div>"
   ]
  },
  {
   "cell_type": "markdown",
   "id": "98676925-ac0d-4a6e-8586-3a8d3b40edae",
   "metadata": {},
   "source": [
    "### Task 1: IMDb Most Popular Movies Web Scraping Activity"
   ]
  },
  {
   "cell_type": "code",
   "execution_count": null,
   "id": "f1f9ddd9-5558-4b1d-a3e7-04c3dca33b6d",
   "metadata": {},
   "outputs": [],
   "source": [
    "# Import necessary libraries\n",
    "import requests                  # Used to send HTTP requests to the website\n",
    "from bs4 import BeautifulSoup     # Used to parse and navigate through HTML content\n",
    "import pandas as pd               # Used to create a DataFrame and handle data manipulation\n",
    "import json                       # Used to work with JSON data\n",
    "\n",
    "# Step 1: Send a GET request to the IMDb \"Most Popular Movies\" page\n",
    "# Define the URL of the IMDb chart for most popular movies\n",
    "url = \"https://www.imdb.com/chart/moviemeter\"\n",
    "\n",
    "# Define headers to mimic a browser visit and avoid being blocked by the website\n",
    "headers = {\"User-Agent\": \"Mozilla/5.0\"}\n",
    "\n",
    "# Send a GET request to fetch the content of the webpage\n",
    "response = requests.get(url, headers=headers)\n",
    "\n",
    "# Step 2: Parse the HTML content using BeautifulSoup\n",
    "# Create a BeautifulSoup object and specify the parser (html.parser in this case)\n",
    "soup = BeautifulSoup(response.text, 'html.parser')\n",
    "\n",
    "# Step 3: Extract the JSON-LD structured data containing movie details\n",
    "# IMDb stores movie data in a JSON format inside a <script> tag, which we can extract\n",
    "script_tag = soup.find('script', type='application/ld+json')\n",
    "\n",
    "# Check if the <script> tag with JSON data was found\n",
    "if script_tag:\n",
    "    # Convert the JSON data (string) into a Python dictionary\n",
    "    data = json.loads(script_tag.string)\n",
    "\n",
    "# Step 4: Initialize lists to hold the extracted movie details\n",
    "# These lists will hold the movie titles, URLs, descriptions, ratings, etc.\n",
    "titles = []\n",
    "urls = []\n",
    "descriptions = []\n",
    "best_ratings = []\n",
    "worst_ratings = []\n",
    "rating_values = []\n",
    "genres = []\n",
    "durations = []\n",
    "\n",
    "# Step 5: Extract movie details from the JSON data\n",
    "# Check if the 'itemListElement' key exists in the JSON data (this contains the list of movies)\n",
    "if 'itemListElement' in data:\n",
    "    # Loop through each movie in the 'itemListElement'\n",
    "    for item in data['itemListElement']:\n",
    "        # Access the individual movie data inside 'item'\n",
    "        movie = item['item']\n",
    "        \n",
    "        # Extract movie details and append them to the corresponding lists\n",
    "        # If a specific field is missing, we use 'N/A' as a fallback\n",
    "        titles.append(movie.get('name', 'N/A'))  # Movie title\n",
    "        urls.append(movie.get('url', 'N/A'))     # IMDb page URL\n",
    "        descriptions.append(movie.get('description', 'N/A'))  # Movie description\n",
    "        best_ratings.append(movie.get('aggregateRating', {}).get('bestRating', 'N/A'))  # Best possible rating\n",
    "        worst_ratings.append(movie.get('aggregateRating', {}).get('worstRating', 'N/A'))  # Worst possible rating\n",
    "        rating_values.append(movie.get('aggregateRating', {}).get('ratingValue', 'N/A'))  # Current movie rating\n",
    "        genres.append(movie.get('genre', 'N/A'))  # Movie genre(s)\n",
    "        durations.append(movie.get('duration', 'N/A'))  # Movie duration\n",
    "\n",
    "# Step 6: Create a pandas DataFrame to store the extracted data\n",
    "# A DataFrame is a table-like structure that allows for easy manipulation and analysis of data\n",
    "df = pd.DataFrame({\n",
    "    'Title': titles,              # Column for movie titles\n",
    "    'URL': urls,                  # Column for IMDb URLs\n",
    "    'Description': descriptions,  # Column for movie descriptions\n",
    "    'Best Rating': best_ratings,  # Column for the best possible rating (usually 10)\n",
    "    'Worst Rating': worst_ratings, # Column for the worst possible rating (usually 1)\n",
    "    'Rating Value': rating_values, # Column for the actual user rating\n",
    "    'Genre': genres,              # Column for the movie's genre (e.g., Drama, Comedy)\n",
    "    'Duration': durations         # Column for the movie's duration (in ISO format, e.g., PT2H30M)\n",
    "})\n",
    "\n",
    "# Step 7: Save the DataFrame to a CSV file\n",
    "# This saves the DataFrame as a CSV file called 'most_popular_movies.csv'\n",
    "df.to_csv('most_popular_movies.csv', index=False)  # index=False means we do not save the index column\n",
    "print(\"Data saved to 'most_popular_movies.csv'\")   # Notify the user that the data has been saved\n"
   ]
  },
  {
   "cell_type": "markdown",
   "id": "1f6b33a6-c049-45a9-aa12-c331aaa2876d",
   "metadata": {},
   "source": [
    "#### Alternate syntax has been used for extraction here;\n",
    "\n",
    "```python\n",
    "# Check if the data contains the expected structure\n",
    "if 'itemListElement' in data:\n",
    "    for item in data['itemListElement']:\n",
    "        movie = item['item']\n",
    "        \n",
    "        # Extract movie details\n",
    "        titles.append(movie.get('name', 'N/A'))\n",
    "        urls.append(movie.get('url', 'N/A'))\n",
    "        descriptions.append(movie.get('description', 'N/A'))\n",
    "        best_ratings.append(movie.get('aggregateRating', {}).get('bestRating', 'N/A'))\n",
    "        worst_ratings.append(movie.get('aggregateRating', {}).get('worstRating', 'N/A'))\n",
    "        rating_values.append(movie.get('aggregateRating', {}).get('ratingValue', 'N/A'))\n",
    "        genres.append(movie.get('genre', 'N/A'))\n",
    "        durations.append(movie.get('duration', 'N/A'))```"
   ]
  },
  {
   "cell_type": "markdown",
   "id": "36f2d487-56ef-4c22-a1c9-d25e9df33e37",
   "metadata": {},
   "source": [
    "<div class=\"alert alert-block alert-warning\"  padding: 10px; text-align: center;\">\n",
    "    <font size=\"3\"> Programming Interveiw Questions</font>\n",
    "</div>"
   ]
  },
  {
   "cell_type": "markdown",
   "id": "d4e08c3f-3e5b-46a6-9fbb-456cbd850553",
   "metadata": {},
   "source": [
    "\n",
    "1. Topic: BeautifulSoup vs. Selenium\n",
    "   Question: What are the key differences between using `BeautifulSoup` and `Selenium` for web scraping? When would you use each?\n",
    "\n",
    "2. Topic: Dynamic Content\n",
    "   Question: How do you handle web pages with dynamic content (e.g., loaded via JavaScript) while scraping using Pyh3 task?\n",
    "\n",
    "4. Topic: Navigating HTML\n",
    "   Question: What methods are available in `BeautifulSoup` to navigate through an HTML document? Can you explain the difference between `find`, `find_all`, and CSS 4electors?\n",
    "\n",
    "5. Topic: Efficiency\n",
    "   Question: When scraping data with `BeautifulSoup`, how would you handle large HTML documents efficiently to avoid m5mory issues?\n",
    "\n",
    "6. Topic: Pandas DataFrame\n",
    "   Question: How can you convert a list of extracted data into a Pandas DataFrame, and what are the common issues you might face 6hen doing this?\n",
    "\n",
    "7. Topic: Scraping Authentication\n",
    "   Question: What are some common challenges you face when scraping websites that require login? How would you ha7dle such websites?\n",
    "\n",
    "8. Topic: Nested HTML Tags\n",
    "   Question: How would you extract specific data, such as text from nested HTML tags, using `BeautifulSoup`? Provide an example of handling d8eply nested elements.\n",
    "\n",
    "9. Topic: Legal and Ethical Considerations\n",
    "   Question: What are the legal and ethical considerations to keep in mind whing missing or malformed data?\n",
    "r malformed data?**\n"
   ]
  },
  {
   "cell_type": "markdown",
   "id": "b2cf36ec-351e-4955-8577-8f0276d44099",
   "metadata": {},
   "source": [
    "### Solutions\n",
    "\n",
    "1. **Topic: BeautifulSoup vs. Selenium**  \n",
    "   **Solution:** `BeautifulSoup` is a library used for parsing HTML and XML documents, making it easier to extract data. It is most effective for static pages. On the other hand, `Selenium` is used for automating web browsers and can handle dynamic content loaded via JavaScript. Use `BeautifulSoup` for simpler tasks and `Selenium` for more complex interactions with web pages.\n",
    "\n",
    "2. **Topic: Dynamic Content**  \n",
    "   **Solution:** To handle dynamic content, you can use `Selenium` to render the page and interact with elements. Alternatively, you can analyze network requests in the browser’s developer tools to directly access the APIs that load the data in the background.\n",
    "\n",
    "3. **Topic: Navigating HTML**  \n",
    "   **Solution:** In `BeautifulSoup`, `find()` retrieves the first matching tag, while `find_all()` returns a list of all matches. CSS selectors can also be used with `select()` to target elements more flexibly, which is useful for more complex HTML structures.\n",
    "\n",
    "4. **Topic: Efficiency**  \n",
    "   **Solution:** To handle large HTML documents efficiently, use `lxml` parser with `BeautifulSoup`, as it is faster and consumes less memory. You can also limit the scope of your search using specific tags or attributes to reduce the amount of data processed at once.\n",
    "\n",
    "5. **Topic: Pandas DataFrame**  \n",
    "   **Solution:** You can convert a list of data into a Pandas DataFrame by passing the list to `pd.DataFrame()`. Common issues may include mismatched lengths of lists or missing values, which can be handled by specifying the `columns` parameter and using DataFrame methods like `fillna()` for cleaning.\n",
    "\n",
    "6. **Topic: Scraping Authentication**  \n",
    "   **Solution:** When scraping websites requiring login, you can use `requests` to manage sessions. Start a session using `requests.Session()`, then log in with a POST request that submits your credentials. After authentication, you can scrape protected pages using the same session.\n",
    "\n",
    "7. **Topic: Nested HTML Tags**  \n",
    "   **Solution:** To extract data from nested HTML tags, you can use `find()` or `find_all()` multiple times. For example, if you want to extract text from `<div><span>text</span></div>`, you would first find the `<div>` and then find the `<span>` within that.\n",
    "\n",
    "8. **Topic: Legal and Ethical Considerations**  \n",
    "   **Solution:** Key considerations include checking the website's `robots.txt` file to see what is allowed to be scraped, respecting the website's terms of service, and not overwhelming the server with requests. Always ensure your scraping activities are compliant with local laws."
   ]
  },
  {
   "cell_type": "markdown",
   "id": "5454f2e3-4fa4-48f9-936a-35be52d769af",
   "metadata": {},
   "source": [
    "<!--- Mohammad Idrees Bhat | Mohammad Idrees Bhat --->"
   ]
  },
  {
   "cell_type": "markdown",
   "id": "3e92ba4c-672c-4e9f-b842-2b2d9234e5ff",
   "metadata": {},
   "source": [
    "<h2 style=\"background-color: #ffe4e1; color: #2f4f4f; padding: 10px; border-radius: 10px; width: 350px; text-align: center; float: right; margin: 20px 0;\">\n",
    "    Mohammad Idrees Bhat<br>\n",
    "    <span style=\"font-size: 12px; color: #696969;\">\n",
    "        Tech Skills Trainer | AI/ML Consultant\n",
    "    </span>\n",
    "</h2>"
   ]
  },
  {
   "cell_type": "markdown",
   "id": "15cc27b3-58d0-431e-8121-f1b4c08377c7",
   "metadata": {},
   "source": [
    "<!--- Mohammad Idrees Bhat | Tech Skills Trainer | AI/ML Consultant --->"
   ]
  }
 ],
 "metadata": {
  "kernelspec": {
   "display_name": "Python 3 (ipykernel)",
   "language": "python",
   "name": "python3"
  },
  "language_info": {
   "codemirror_mode": {
    "name": "ipython",
    "version": 3
   },
   "file_extension": ".py",
   "mimetype": "text/x-python",
   "name": "python",
   "nbconvert_exporter": "python",
   "pygments_lexer": "ipython3",
   "version": "3.12.4"
  }
 },
 "nbformat": 4,
 "nbformat_minor": 5
}
