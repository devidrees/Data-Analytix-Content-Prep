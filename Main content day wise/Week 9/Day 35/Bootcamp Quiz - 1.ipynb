{
 "cells": [
  {
   "cell_type": "markdown",
   "id": "8c4bc666-34a1-47b6-8018-1ad79dafae95",
   "metadata": {},
   "source": [
    "<div style=\"background-color: #add8e6; padding: 10px; height: 70px; border-radius: 15px;\">\n",
    "    <div style=\"font-family: 'Georgia', serif; font-size: 20px; padding: 10px; text-align: right; position: absolute; right: 50px;\">\n",
    "        Mohammad Idrees Bhat <br>\n",
    "        <span style=\"font-family: 'Arial', sans-serif;font-size: 12px; color: #0a0a0a;\">Tech Skills Trainer | AI/ML Consultant</span> <!--- Mohammad Idrees Bhat | Tech Skills Trainer | AI/ML Consultant --->\n",
    "    </div>\n",
    "</div>"
   ]
  },
  {
   "cell_type": "markdown",
   "id": "ef444d2e-97e9-49a8-bf3d-0119a2dfebb5",
   "metadata": {},
   "source": [
    "<!--- Mohammad Idrees Bhat | Tech Skills Trainer | AI/ML Consultant --->"
   ]
  },
  {
   "cell_type": "markdown",
   "id": "151ad3d8-0bce-4e29-86da-5ea91b5a69df",
   "metadata": {},
   "source": [
    "<div style=\"background-color: #002147; padding: 10px; text-align: center; color: white; font-size: 32px; font-family: 'Arial', sans-serif; border-radius: 100px;\">\n",
    "    Bootcamp Quiz - 1 <br>\n",
    "    <h3 style=\"text-align: center; color: white; font-size: 15px; font-family: 'Arial', sans-serif;\">Topic: Introduction to Data Analytics</h3>\n",
    "</div>"
   ]
  },
  {
   "cell_type": "markdown",
   "id": "19b1c30b-e766-4658-8d70-1b0af10ae2f4",
   "metadata": {},
   "source": [
    "<!-- Link the Montserrat font -->\n",
    "<link href=\"https://fonts.googleapis.com/css2?family=Montserrat:wght@700&display=swap\" rel=\"stylesheet\">\n",
    "\n",
    "<!-- Main div with centered content and a flexible box size, no scroll bar -->\n",
    "<div style=\"background-color: #baf733; min-height: 100%; width: 100%; display: flex; justify-content: center; align-items: center; position: relative; padding: 20px; box-sizing: border-box; font-family: 'Montserrat', sans-serif; font-weight: 700; font-size: 20px; border-radius: 15px;\">\n",
    "    <div style=\"position: absolute; top: 10px; right: 10px; padding: 5px 10px; font-size: 14px; color: rgba(0, 0, 0, 0.05); border-radius: 10px;\">Mohammad Idrees Bhat</div>\n",
    "    <!-- Fill the below text with question -->\n",
    "    <!-- Fill the below text with question -->\n",
    "    <!-- Fill the above text with question -->\n",
    "    <!-- Fill the above text with question -->\n",
    "</div>"
   ]
  },
  {
   "cell_type": "markdown",
   "id": "53ec8637",
   "metadata": {},
   "source": [
    "<div style=\"background-color: lightgreen; color: black; padding: 4px;\">\n",
    "    <h3> Introduction to Data Analytics - Quiz\n",
    "</h3> </div>"
   ]
  },
  {
   "cell_type": "markdown",
   "id": "21ae9abc",
   "metadata": {},
   "source": [
    "#### Question 1:  \n",
    "**What is the most common format used for storing tabular data that is frequently used in data analytics?**  \n",
    "- A) JSON  \n",
    "- B) CSV  \n",
    "- C) XML  \n",
    "- D) HTML  \n",
    "\n",
    "#### Question 2:  \n",
    "**Which of the following is a valid source of data for data analysts?**  \n",
    "- A) APIs  \n",
    "- B) Surveys  \n",
    "- C) Databases  \n",
    "- D) All of the above  \n",
    "\n",
    "#### Question 3:  \n",
    "**Which data type is used to store textual data in Python?**  \n",
    "- A) Integer  \n",
    "- B) String  \n",
    "- C) Float  \n",
    "- D) Boolean  \n",
    "\n",
    "#### Question 4:  \n",
    "**Which of the following is an example of a data storage format that is typically used for structured data?**  \n",
    "- A) CSV  \n",
    "- B) JSON  \n",
    "- C) XML  \n",
    "- D) All of the above  \n",
    "\n",
    "#### Question 5:  \n",
    "**What does data cleaning primarily involve in data analytics?**  \n",
    "- A) Collecting new data  \n",
    "- B) Removing or correcting errors in the data  \n",
    "- C) Formatting data for storage  \n",
    "- D) Analyzing patterns in the data  \n",
    "\n",
    "#### Question 6:  \n",
    "**Which of the following Python libraries is commonly used for data manipulation and analysis?**  \n",
    "- A) NumPy  \n",
    "- B) Matplotlib  \n",
    "- C) Pandas  \n",
    "- D) Seaborn  \n",
    "\n",
    "#### Question 7:  \n",
    "**What does 'data acquisition' refer to in data analytics?**  \n",
    "- A) Organizing the data  \n",
    "- B) Cleaning the data  \n",
    "- C) Gathering data from various sources  \n",
    "- D) Visualizing the data  \n",
    "\n",
    "#### Question 8:  \n",
    "**Which of the following file formats is commonly used for storing data that includes nested structures?**  \n",
    "- A) CSV  \n",
    "- B) JSON  \n",
    "- C) XML  \n",
    "- D) TXT  \n",
    "\n",
    "#### Question 9:  \n",
    "**What type of data is represented by numbers with decimal points, like 3.14?**  \n",
    "- A) Integer  \n",
    "- B) String  \n",
    "- C) Float  \n",
    "- D) Boolean  \n",
    "\n",
    "#### Question 10:  \n",
    "**Which of the following operations is part of data cleaning?**  \n",
    "- A) Removing duplicate rows  \n",
    "- B) Sorting the data  \n",
    "- C) Plotting the data  \n",
    "- D) Saving the data  \n",
    "\n",
    "---\n",
    "\n"
   ]
  },
  {
   "cell_type": "markdown",
   "id": "13e86481-eae2-4019-9515-66a43a30f0fb",
   "metadata": {},
   "source": [
    "<div style=\"background-color: #002147; color: #fff; padding: 30px; text-align: center;\">\n",
    "    <h1>THANK YOU!\n",
    "        <!--- Mohammad Idrees Bhat | Tech Skills Trainer | AI/ML Consultant --->\n",
    "</h1> </div>"
   ]
  },
  {
   "cell_type": "markdown",
   "id": "7848e130",
   "metadata": {},
   "source": [
    "### Answers to Introduction to Data Analytics Quiz\n",
    "\n",
    "1. **B) CSV**  \n",
    "2. **D) All of the above**  \n",
    "3. **B) String**  \n",
    "4. **D) All of the above**  \n",
    "5. **B) Removing or correcting errors in the data**  \n",
    "6. **C) Pandas**  \n",
    "7. **C) Gathering data from various sources**  \n",
    "8. **B) JSON**  \n",
    "9. **C) Float**  \n",
    "10. **A) Removing duplicate rows**  \n"
   ]
  },
  {
   "cell_type": "markdown",
   "id": "5454f2e3-4fa4-48f9-936a-35be52d769af",
   "metadata": {},
   "source": [
    "<!--- Mohammad Idrees Bhat | Mohammad Idrees Bhat --->"
   ]
  },
  {
   "cell_type": "markdown",
   "id": "3e92ba4c-672c-4e9f-b842-2b2d9234e5ff",
   "metadata": {},
   "source": [
    "<h2 style=\"background-color: #ffe4e1; color: #2f4f4f; padding: 10px; border-radius: 10px; width: 350px; text-align: center; float: right; margin: 20px 0;\">\n",
    "    Mohammad Idrees Bhat<br>\n",
    "    <span style=\"font-size: 12px; color: #696969;\">\n",
    "        Tech Skills Trainer | AI/ML Consultant\n",
    "    </span>\n",
    "</h2>"
   ]
  },
  {
   "cell_type": "markdown",
   "id": "15cc27b3-58d0-431e-8121-f1b4c08377c7",
   "metadata": {},
   "source": [
    "<!--- Mohammad Idrees Bhat | Tech Skills Trainer | AI/ML Consultant --->"
   ]
  }
 ],
 "metadata": {
  "kernelspec": {
   "display_name": "Python 3 (ipykernel)",
   "language": "python",
   "name": "python3"
  },
  "language_info": {
   "codemirror_mode": {
    "name": "ipython",
    "version": 3
   },
   "file_extension": ".py",
   "mimetype": "text/x-python",
   "name": "python",
   "nbconvert_exporter": "python",
   "pygments_lexer": "ipython3",
   "version": "3.12.4"
  }
 },
 "nbformat": 4,
 "nbformat_minor": 5
}
