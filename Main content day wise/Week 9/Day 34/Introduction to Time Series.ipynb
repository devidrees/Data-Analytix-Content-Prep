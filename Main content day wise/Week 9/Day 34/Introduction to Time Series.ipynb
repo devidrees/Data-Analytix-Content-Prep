{
 "cells": [
  {
   "cell_type": "markdown",
   "id": "8c4bc666-34a1-47b6-8018-1ad79dafae95",
   "metadata": {},
   "source": [
    "<div style=\"background-color: #add8e6; padding: 10px; height: 70px; border-radius: 15px;\">\n",
    "    <div style=\"font-family: 'Georgia', serif; font-size: 20px; padding: 10px; text-align: right; position: absolute; right: 20px;\">\n",
    "        Mohammad Idrees Bhat <br>\n",
    "        <span style=\"font-family: 'Arial', sans-serif;font-size: 12px; color: #0a0a0a;\">Tech Skills Trainer | AI/ML Consultant</span> <!--- Mohammad Idrees Bhat | Tech Skills Trainer | AI/ML Consultant --->\n",
    "    </div>\n",
    "</div>"
   ]
  },
  {
   "cell_type": "markdown",
   "id": "ef444d2e-97e9-49a8-bf3d-0119a2dfebb5",
   "metadata": {},
   "source": [
    "<!--- Mohammad Idrees Bhat | Tech Skills Trainer | AI/ML Consultant --->"
   ]
  },
  {
   "cell_type": "markdown",
   "id": "151ad3d8-0bce-4e29-86da-5ea91b5a69df",
   "metadata": {},
   "source": [
    "<div style=\"background-color: #002147; padding: 10px; text-align: center; color: white; font-size: 32px; font-family: 'Arial', sans-serif;\">\n",
    "   Introduction to Time Series Analysis and Forecasting <br>\n",
    "    <h3 style=\"text-align: center; color: white; font-size: 15px; font-family: 'Arial', sans-serif;\">Basics of time series analysis and decomposition</h3>\n",
    "</div>"
   ]
  },
  {
   "cell_type": "markdown",
   "id": "155e8ec7-547b-41f4-b6f6-6e6e719c198c",
   "metadata": {},
   "source": [
    "<div style=\"background-color: white; color: black; padding: 10px;\">\n",
    "    <h4><b>AGENDA</b> <p><p>\n",
    "1.  <p><p> \n",
    "2.   <p>\n",
    "3.   <p>\n",
    "4.   <p>  \n",
    "</h4> </div>"
   ]
  },
  {
   "cell_type": "markdown",
   "id": "de7a3704",
   "metadata": {},
   "source": [
    "Objectives\n",
    "- Understand the basics of time series analysis.\n",
    "- Learn the concept of time series decomposition.\n",
    "- Apply ARIMA (AutoRegressive Integrated Moving Average) and Exponential Smoothing for forecasting.\n"
   ]
  },
  {
   "cell_type": "markdown",
   "id": "19b1c30b-e766-4658-8d70-1b0af10ae2f4",
   "metadata": {},
   "source": [
    "<!-- Link the Montserrat font -->\n",
    "<link href=\"https://fonts.googleapis.com/css2?family=Montserrat:wght@700&display=swap\" rel=\"stylesheet\">\n",
    "\n",
    "<!-- Main div with centered content and a flexible box size, no scroll bar -->\n",
    "<div style=\"background-color: #baf733; min-height: 100px; width: 100%; display: flex; justify-content: center; align-items: center; position: relative; padding: 20px; box-sizing: border-box; font-family: 'Montserrat', sans-serif; font-weight: 700; font-size: 20px; border-radius: 15px;\">\n",
    "    <div style=\"position: absolute; top: 10px; right: 10px; padding: 5px 10px; font-size: 14px; color: rgba(0, 0, 0, 0.05); border-radius: 10px;\">Mohammad Idrees Bhat</div>\n",
    "    <!-- Fill the below text with question -->\n",
    "    <!-- Fill the below text with question -->\n",
    "    If you were a superhero, what would your superpower be?\n",
    "    <!-- Fill the above text with question -->\n",
    "    <!-- Fill the above text with question -->\n",
    "\n",
    "</div>"
   ]
  },
  {
   "cell_type": "markdown",
   "id": "53ec8637",
   "metadata": {},
   "source": [
    "<div style=\"background-color: lightgreen; color: black; padding: 4px;\">\n",
    "    <h3>1. Introduction to Time Series\n",
    "</h3> </div>"
   ]
  },
  {
   "cell_type": "markdown",
   "id": "90aef031-1416-4707-b2a0-fc60ca4ee7ca",
   "metadata": {},
   "source": [
    "xxx"
   ]
  },
  {
   "cell_type": "markdown",
   "id": "1c762cd6-ee35-4e4e-aa54-600db6a9c23d",
   "metadata": {},
   "source": [
    "<div style=\"background-color: lightblue; color: black; padding: 4px;\">\n",
    "    <h4> What is Time Series Data?\n",
    "</h4> </div>"
   ]
  },
  {
   "cell_type": "markdown",
   "id": "2d28dde7",
   "metadata": {},
   "source": [
    "- **Definition:** A series of data points indexed in time order.\n",
    "- **Examples:** \n",
    "  - Financial markets (e.g., stock prices).\n",
    "  - Meteorology (e.g., daily temperatures).\n",
    "  - Sales data (e.g., monthly revenue)."
   ]
  },
  {
   "cell_type": "markdown",
   "id": "15984773",
   "metadata": {},
   "source": [
    "<div style=\"background-color: lightblue; color: black; padding: 4px;\">\n",
    "    <h4> Components of a Time Series\n",
    "</h4> </div>"
   ]
  },
  {
   "cell_type": "markdown",
   "id": "738eed9b",
   "metadata": {},
   "source": [
    "1. **Trend:** \n",
    "   - Long-term movement in the data over time.\n",
    "   - Examples: Increasing sales of a product over years.\n",
    "2. **Seasonality:**\n",
    "   - Regular and periodic fluctuations.\n",
    "   - Examples: Higher sales during holidays.\n",
    "3. **Noise:**\n",
    "   - Random variations in the data.\n",
    "   - Examples: Unexpected spikes in demand."
   ]
  },
  {
   "cell_type": "markdown",
   "id": "f1c25b3e",
   "metadata": {},
   "source": [
    "<div style=\"background-color: lightblue; color: black; padding: 4px;\">\n",
    "    <h4> Time Series Decomposition\n",
    "</h4> </div>"
   ]
  },
  {
   "cell_type": "markdown",
   "id": "5c8c51cb",
   "metadata": {},
   "source": [
    "#### **Additive vs. Multiplicative Models:**\n",
    "- **Additive:** When the time series components add up:  \n",
    "  #### **y(t) = T(t) + S(t) + e(t)**  \n",
    "- **Multiplicative:** When components multiply:  \n",
    "  #### **y(t) = T(t) * S(t) * e(t)**  "
   ]
  },
  {
   "cell_type": "markdown",
   "id": "f3b5235d",
   "metadata": {},
   "source": [
    "#### **Decomposition Process:**\n",
    "1. **Estimate Trend:**\n",
    "   - Use moving averages to identify long-term trends.\n",
    "2. **Seasonality Extraction:**\n",
    "   - Remove trend and focus on periodic patterns.\n",
    "3. **Analyze Residual Noise:**\n",
    "   - Random variations after removing trend and seasonality."
   ]
  },
  {
   "cell_type": "markdown",
   "id": "b23b28ec",
   "metadata": {},
   "source": [
    "#### **Techniques for Decomposition:**\n",
    "- **STL Decomposition (Seasonal-Trend using LOESS):**\n",
    "  - Handles seasonality, trend, and noise effectively.\n",
    "  - Visual output helps in understanding component separation."
   ]
  },
  {
   "cell_type": "markdown",
   "id": "b27a967c",
   "metadata": {},
   "source": [
    "<div style=\"background-color: lightblue; color: black; padding: 4px;\">\n",
    "    <h4> Exploring Time Series Data\n",
    "</h4> </div>"
   ]
  },
  {
   "cell_type": "markdown",
   "id": "affb2e43-d552-4f52-b5e7-c4d8af63b29e",
   "metadata": {},
   "source": [
    "#### **Data Visualization:**\n",
    "- **Line Plots:** Show trends over time.\n",
    "- **Seasonal Plots:** Highlight recurring patterns."
   ]
  },
  {
   "cell_type": "markdown",
   "id": "74a1749b",
   "metadata": {},
   "source": [
    "#### **Autocorrelation:**\n",
    "- **ACF (Autocorrelation Function):** Measure correlation with lagged data.\n",
    "- **PACF (Partial Autocorrelation Function):** Isolate direct relationships with lags.\n"
   ]
  },
  {
   "cell_type": "markdown",
   "id": "9d6811c3",
   "metadata": {},
   "source": [
    "Time series forecasting Methods:"
   ]
  },
  {
   "cell_type": "markdown",
   "id": "889c9214",
   "metadata": {},
   "source": [
    "<div style=\"background-color: lightgreen; color: black; padding: 4px;\">\n",
    "    <h4> 2. ARIMA (AutoRegressive Integrated Moving Average)\n",
    "    </h4> </div>"
   ]
  },
  {
   "cell_type": "markdown",
   "id": "ed9bae19",
   "metadata": {},
   "source": [
    "1. **Components:**\n",
    "   - **AR (AutoRegressive):** Dependency on previous values.\n",
    "   - **I (Integrated):** Differencing to make data stationary.\n",
    "   - **MA (Moving Average):** Dependency on past errors.\n",
    "\n",
    "2. **Steps to Build ARIMA:**\n",
    "   - **Stationarity Check:** Use the ADF (Augmented Dickey-Fuller) test.\n",
    "   - **Differencing:** Remove trends to achieve stationarity.\n",
    "   - **Parameter Selection:** Use ACF and PACF to determine \\( p, d, q \\).\n",
    "\n",
    "3. **Implementation in Python:**\n",
    "   ```python\n",
    "   from statsmodels.tsa.arima.model import ARIMA\n",
    "   model = ARIMA(data, order=(p, d, q))\n",
    "   model_fit = model.fit()\n",
    "   print(model_fit.summary())\n",
    " \n",
    "4. **Evaluation Metrics:**\n",
    "- **AIC (Akaike Information Criterion):** Measures the goodness of fit of a model while penalizing complexity.\n",
    "- **BIC (Bayesian Information Criterion):** Similar to AIC but with a stricter penalty for complexity.\n",
    "- **RMSE (Root Mean Squared Error):** Measures the average magnitude of prediction errors.\n",
    " "
   ]
  },
  {
   "cell_type": "markdown",
   "id": "b9b0d089",
   "metadata": {},
   "source": [
    "<div style=\"background-color: lightgreen; color: black; padding: 4px;\">\n",
    "    <h3>3. Exponential Smoothing\n",
    "    </h3> </div>"
   ]
  },
  {
   "cell_type": "markdown",
   "id": "d93f132f",
   "metadata": {},
   "source": [
    "- **Simple Exponential Smoothing:** Suitable for stationary data.\n",
    "- **Holt’s Linear Trend Model:** For data with trends.\n",
    "- **Holt-Winters Seasonal Model:** For data with trends and seasonality.\n",
    "\n",
    "- Example using `statsmodels` in Python."
   ]
  },
  {
   "cell_type": "markdown",
   "id": "c1d954b0",
   "metadata": {},
   "source": [
    "<div style=\"background-color: lightgreen; color: black; padding: 4px;\">\n",
    "    <h3>4. Hands-on Forecasting on Dataset\n",
    "    </h3> </div>"
   ]
  },
  {
   "cell_type": "markdown",
   "id": "9f8b0643",
   "metadata": {},
   "source": []
  },
  {
   "cell_type": "markdown",
   "id": "f2185430-3791-45df-824f-bdec6d7145e3",
   "metadata": {},
   "source": [
    "<div class=\"alert alert-block alert-warning\">\n",
    "    <b><font size=\"5\"> Live Exercise</font> </b>\n",
    "</div>\n",
    "\n",
    "<!--- Mohammad Idrees Bhat | Tech Skills Trainer | AI/ML Consultant --->"
   ]
  },
  {
   "cell_type": "markdown",
   "id": "bf8d61af-f3e8-4afc-a66b-3814e160aaf3",
   "metadata": {},
   "source": [
    "Now it's your turn!\n",
    "### Task 1: description of task\n",
    "\n",
    "    - instructions"
   ]
  },
  {
   "cell_type": "markdown",
   "id": "b69ed7ea-1940-434d-bb2d-601d07994783",
   "metadata": {},
   "source": [
    "<div style=\"background-color: lightblue; color: white; padding: 10px; text-align: center;\">\n",
    "    <h1>_________________________________END________________________________\n",
    "        <!--- Mohammad Idrees Bhat | Tech Skills Trainer | AI/ML Consultant --->\n",
    "</h1> </div>"
   ]
  },
  {
   "cell_type": "markdown",
   "id": "13e86481-eae2-4019-9515-66a43a30f0fb",
   "metadata": {},
   "source": [
    "<div style=\"background-color: #002147; color: #fff; padding: 30px; text-align: center;\">\n",
    "    <h1>THANK YOU!\n",
    "        <!--- Mohammad Idrees Bhat | Tech Skills Trainer | AI/ML Consultant --->\n",
    "</h1> </div>"
   ]
  },
  {
   "cell_type": "markdown",
   "id": "aefa2f04-f141-405d-8a9f-8cf186d66f41",
   "metadata": {},
   "source": [
    "<div style=\"background-color: lightgreen; color: black; padding: 30px;\">\n",
    "    <h4> Live Exercise Solutions\n",
    "        \n",
    "</h4> </div>"
   ]
  },
  {
   "cell_type": "code",
   "execution_count": 4,
   "id": "f1f9ddd9-5558-4b1d-a3e7-04c3dca33b6d",
   "metadata": {},
   "outputs": [
    {
     "ename": "NameError",
     "evalue": "name 'solutions' is not defined",
     "output_type": "error",
     "traceback": [
      "\u001b[1;31m---------------------------------------------------------------------------\u001b[0m",
      "\u001b[1;31mNameError\u001b[0m                                 Traceback (most recent call last)",
      "Cell \u001b[1;32mIn[4], line 1\u001b[0m\n\u001b[1;32m----> 1\u001b[0m \u001b[43msolutions\u001b[49m\n",
      "\u001b[1;31mNameError\u001b[0m: name 'solutions' is not defined"
     ]
    }
   ],
   "source": [
    "solutions"
   ]
  },
  {
   "cell_type": "markdown",
   "id": "36f2d487-56ef-4c22-a1c9-d25e9df33e37",
   "metadata": {},
   "source": [
    "<div class=\"alert alert-block alert-warning\"  padding: 10px; text-align: center;\">\n",
    "    <font size=\"3\"> Programming Interveiw Questions</font>\n",
    "</div>"
   ]
  },
  {
   "cell_type": "markdown",
   "id": "d4e08c3f-3e5b-46a6-9fbb-456cbd850553",
   "metadata": {},
   "source": [
    "1. topic:\n",
    "    - question"
   ]
  },
  {
   "cell_type": "code",
   "execution_count": null,
   "id": "ee2b86c1-64b0-4abd-8ba9-54746bdc9007",
   "metadata": {},
   "outputs": [],
   "source": []
  },
  {
   "cell_type": "markdown",
   "id": "5454f2e3-4fa4-48f9-936a-35be52d769af",
   "metadata": {},
   "source": [
    "<!--- Mohammad Idrees Bhat | Mohammad Idrees Bhat --->"
   ]
  },
  {
   "cell_type": "markdown",
   "id": "3e92ba4c-672c-4e9f-b842-2b2d9234e5ff",
   "metadata": {},
   "source": [
    "<h2 style=\"background-color: #ffe4e1; color: #2f4f4f; padding: 10px; border-radius: 10px; width: 350px; text-align: center; float: right; margin: 20px 0;\">\n",
    "    Mohammad Idrees Bhat<br>\n",
    "    <span style=\"font-size: 12px; color: #696969;\">\n",
    "        Tech Skills Trainer | AI/ML Consultant\n",
    "    </span>\n",
    "</h2>"
   ]
  },
  {
   "cell_type": "markdown",
   "id": "15cc27b3-58d0-431e-8121-f1b4c08377c7",
   "metadata": {},
   "source": [
    "<!--- Mohammad Idrees Bhat | Tech Skills Trainer | AI/ML Consultant --->"
   ]
  }
 ],
 "metadata": {
  "kernelspec": {
   "display_name": ".venv",
   "language": "python",
   "name": "python3"
  },
  "language_info": {
   "codemirror_mode": {
    "name": "ipython",
    "version": 3
   },
   "file_extension": ".py",
   "mimetype": "text/x-python",
   "name": "python",
   "nbconvert_exporter": "python",
   "pygments_lexer": "ipython3",
   "version": "3.10.0"
  }
 },
 "nbformat": 4,
 "nbformat_minor": 5
}
