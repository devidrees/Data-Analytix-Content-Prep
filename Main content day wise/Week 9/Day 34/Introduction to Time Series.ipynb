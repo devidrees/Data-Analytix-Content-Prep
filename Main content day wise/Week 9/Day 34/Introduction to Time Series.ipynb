{
 "cells": [
  {
   "cell_type": "markdown",
   "id": "8c4bc666-34a1-47b6-8018-1ad79dafae95",
   "metadata": {},
   "source": [
    "<div style=\"background-color: #add8e6; padding: 10px; height: 70px; border-radius: 15px;\">\n",
    "    <div style=\"font-family: 'Georgia', serif; font-size: 20px; padding: 10px; text-align: right; position: absolute; right: 20px;\">\n",
    "        Mohammad Idrees Bhat <br>\n",
    "        <span style=\"font-family: 'Arial', sans-serif;font-size: 12px; color: #0a0a0a;\">Tech Skills Trainer | AI/ML Consultant</span> <!--- Mohammad Idrees Bhat | Tech Skills Trainer | AI/ML Consultant --->\n",
    "    </div>\n",
    "</div>"
   ]
  },
  {
   "cell_type": "markdown",
   "id": "ef444d2e-97e9-49a8-bf3d-0119a2dfebb5",
   "metadata": {},
   "source": [
    "<!--- Mohammad Idrees Bhat | Tech Skills Trainer | AI/ML Consultant --->"
   ]
  },
  {
   "cell_type": "markdown",
   "id": "151ad3d8-0bce-4e29-86da-5ea91b5a69df",
   "metadata": {},
   "source": [
    "<div style=\"background-color: #002147; padding: 10px; text-align: center; color: white; font-size: 32px; font-family: 'Arial', sans-serif;\">\n",
    "   Introduction to Time Series Analysis and Forecasting <br>\n",
    "    <h3 style=\"text-align: center; color: white; font-size: 15px; font-family: 'Arial', sans-serif;\">Basics of time series analysis and decomposition</h3>\n",
    "</div>"
   ]
  },
  {
   "cell_type": "markdown",
   "id": "155e8ec7-547b-41f4-b6f6-6e6e719c198c",
   "metadata": {},
   "source": [
    "<div style=\"background-color: white; color: black; padding: 10px;\">\n",
    "    <h4><b>AGENDA</b> <p><p>\n",
    "1.  Introduction to Time Series <p><p> \n",
    "2.  Time Series Decomposition <p>\n",
    "\n",
    "</h4> </div>"
   ]
  },
  {
   "cell_type": "markdown",
   "id": "de7a3704",
   "metadata": {},
   "source": [
    "Objectives\n",
    "- Understand the basics of time series analysis.\n",
    "- Learn the concept of time series decomposition.\n",
    "- Apply ARIMA (AutoRegressive Integrated Moving Average) and Exponential Smoothing for forecasting.\n"
   ]
  },
  {
   "cell_type": "markdown",
   "id": "19b1c30b-e766-4658-8d70-1b0af10ae2f4",
   "metadata": {},
   "source": [
    "<!-- Link the Montserrat font -->\n",
    "<link href=\"https://fonts.googleapis.com/css2?family=Montserrat:wght@700&display=swap\" rel=\"stylesheet\">\n",
    "\n",
    "<!-- Main div with centered content and a flexible box size, no scroll bar -->\n",
    "<div style=\"background-color: #baf733; min-height: 100px; width: 100%; display: flex; justify-content: center; align-items: center; position: relative; padding: 20px; box-sizing: border-box; font-family: 'Montserrat', sans-serif; font-weight: 700; font-size: 20px; border-radius: 15px;\">\n",
    "    <div style=\"position: absolute; top: 10px; right: 10px; padding: 5px 10px; font-size: 14px; color: rgba(0, 0, 0, 0.05); border-radius: 10px;\">Mohammad Idrees Bhat</div>\n",
    "    <!-- Fill the below text with question -->\n",
    "    <!-- Fill the below text with question -->\n",
    "    If you were a superhero, what would your superpower be?\n",
    "    <!-- Fill the above text with question -->\n",
    "    <!-- Fill the above text with question -->\n",
    "\n",
    "</div>"
   ]
  },
  {
   "cell_type": "markdown",
   "id": "53ec8637",
   "metadata": {},
   "source": [
    "<div style=\"background-color: lightgreen; color: black; padding: 4px;\">\n",
    "    <h3>1. Introduction to Time Series\n",
    "</h3> </div>"
   ]
  },
  {
   "cell_type": "markdown",
   "id": "1c762cd6-ee35-4e4e-aa54-600db6a9c23d",
   "metadata": {},
   "source": [
    "<div style=\"background-color: lightblue; color: black; padding: 4px;\">\n",
    "    <h4> What is Time Series Data?\n",
    "</h4> </div>"
   ]
  },
  {
   "cell_type": "markdown",
   "id": "2d28dde7",
   "metadata": {},
   "source": [
    "**Time series** is a sequence of data points collected or recorded at successive points in time, usually at uniform intervals. \n",
    "\n",
    "Unlike random data, time series data is ordered in time, making it useful for observing patterns and trends over time.\n"
   ]
  },
  {
   "cell_type": "markdown",
   "id": "7631bbf2",
   "metadata": {},
   "source": [
    "![](https://www.scylladb.com/wp-content/uploads/time-series-data-diagram.png)"
   ]
  },
  {
   "cell_type": "markdown",
   "id": "2006830f",
   "metadata": {},
   "source": [
    "2. **Some Characteristics of Time Series:**\n",
    "  \n",
    "   - **Time-Indexed Data:** Each **data point** is associated with a **specific time**.\n",
    "   - **Temporal Dependency:** Past data can influence future values."
   ]
  },
  {
   "cell_type": "markdown",
   "id": "6e020147",
   "metadata": {},
   "source": [
    "**Examples of Time Series Data:**  \n",
    "   - **Stock Prices:** Daily closing prices of a company's stock over a year.  \n",
    "     Example: `[120.5, 121.0, 122.3, 123.7, 124.9, ...]` (collected daily).  \n",
    "   - **Weather Records:** Hourly temperature readings over a week.  \n",
    "     Example: `[25°C, 26°C, 27°C, 28°C, 27°C, ...]` (collected hourly).  \n",
    "   - **Sales Data:** Monthly revenue of a retail store over several years.  \n",
    "     Example: `[5000, 5200, 4800, 5100, ...]` (collected monthly).  \n",
    "   - **Electricity Consumption:** Daily electricity usage in kilowatt-hours.  \n",
    "     Example: `[320, 340, 310, 330, ...]` (collected daily)."
   ]
  },
  {
   "cell_type": "markdown",
   "id": "15984773",
   "metadata": {},
   "source": [
    "<div style=\"background-color: lightblue; color: black; padding: 4px;\">\n",
    "    <h4> Components of a Time Series\n",
    "</h4> </div>"
   ]
  },
  {
   "cell_type": "markdown",
   "id": "542f807e",
   "metadata": {},
   "source": [
    "![](https://www.researchgate.net/profile/R-Rajput/publication/344658764/figure/fig1/AS:946622322188291@1602703757672/Time-Series-components-1-A-time-series-is-a-sequence-of-observations-measured-at.jpg)"
   ]
  },
  {
   "cell_type": "markdown",
   "id": "2d903099",
   "metadata": {},
   "source": [
    "![](https://th.bing.com/th/id/OIP.qRKzF1A7ebN-hOAD48YgQQHaFj?rs=1&pid=ImgDetMain)"
   ]
  },
  {
   "cell_type": "markdown",
   "id": "5dddefaa",
   "metadata": {},
   "source": [
    "1. **Trend:** \n",
    "   - Represents the long-term progression of data, indicating whether values are generally increasing, decreasing, or remaining constant over time.  \n",
    "   - **Characteristics:**  \n",
    "     - Can be linear or nonlinear.  \n",
    "     - Does not account for short-term fluctuations.  "
   ]
  },
  {
   "cell_type": "markdown",
   "id": "a94b02ed",
   "metadata": {},
   "source": [
    "![](https://static.packt-cdn.com/products/9781788292740/graphics/42912ccd-229d-4863-99ba-54e5346aa4d7.png)"
   ]
  },
  {
   "cell_type": "markdown",
   "id": "9883e09c",
   "metadata": {},
   "source": [
    "![](https://th.bing.com/th/id/OIP.rIgmHNr6v6JK_mSlHa91_gHaFj?rs=1&pid=ImgDetMain)"
   ]
  },
  {
   "cell_type": "markdown",
   "id": "8865d3ae",
   "metadata": {},
   "source": [
    "![](https://www.encora.com/hs-fs/hubfs/Picture2-Apr-26-2022-08-28-20-19-PM.png?width=977&name=Picture2-Apr-26-2022-08-28-20-19-PM.png)"
   ]
  },
  {
   "cell_type": "markdown",
   "id": "d6fa988d",
   "metadata": {},
   "source": [
    "2. **Seasonality:**\n",
    "   - Refers to regular, predictable patterns that repeat over specific intervals, such as daily, monthly, or annually.  \n",
    "   - **Characteristics:**  \n",
    "     - Caused by factors like holidays, weather, or business cycles.  \n",
    "     - Always periodic and of fixed duration.  \n",
    "   - **Examples:**  \n",
    "     - Increased retail sales during the holiday season.  \n",
    "     - Higher electricity bills in summer due to air conditioning. "
   ]
  },
  {
   "cell_type": "markdown",
   "id": "f081834a",
   "metadata": {},
   "source": [
    "![](https://image1.slideserve.com/2808058/seasonal-component-l.jpg)"
   ]
  },
  {
   "cell_type": "markdown",
   "id": "d6405d1d",
   "metadata": {},
   "source": [
    "![](https://th.bing.com/th/id/OIP.Sgnhe-WoztmPZspITbijhAHaFj?w=1024&h=768&rs=1&pid=ImgDetMain)"
   ]
  },
  {
   "cell_type": "markdown",
   "id": "3fa6fd6e",
   "metadata": {},
   "source": [
    "![](https://miro.medium.com/max/1400/1*eT_u8KERJVTc-SXq_nL3Hw.png)"
   ]
  },
  {
   "cell_type": "markdown",
   "id": "738eed9b",
   "metadata": {},
   "source": [
    "3. **Noise (Random Variations):**  \n",
    "   - Represents unpredictable, irregular fluctuations in the data that cannot be attributed to trend or seasonality.  \n",
    "   - **Characteristics:**  \n",
    "     - Caused by random, unforeseen factors.  \n",
    "     - Often considered \"error\" in a time series model.  \n",
    "   - **Examples:**  \n",
    "     - Sudden changes in stock prices due to unexpected events.  \n",
    "     - Random spikes in traffic data caused by accidents."
   ]
  },
  {
   "cell_type": "markdown",
   "id": "420a03bb",
   "metadata": {},
   "source": [
    "4. **Cyclic Patterns:**  \n",
    "   - Refers to fluctuations that occur over longer, irregular periods and are not tied to a fixed calendar cycle.  \n",
    "   - **Characteristics:**  \n",
    "     - Often influenced by economic, business, or environmental cycles.  \n",
    "     - Unlike seasonality, cyclic patterns do not have a fixed duration.  \n",
    "   - **Examples:**  \n",
    "     - Business cycles with phases of boom and recession.  \n",
    "     - Long-term changes in demand for a product due to market shifts."
   ]
  },
  {
   "cell_type": "markdown",
   "id": "cf1ccc2e",
   "metadata": {},
   "source": [
    "5. **Residuals (Error):**  \n",
    "   - Represents the part of the time series that remains after removing the trend, seasonality, and cyclic components. \n",
    "   - Residuals are simply the difference between the actual data points and the values predicted by the model. \n",
    "   - **Characteristics:**  \n",
    "     - Often modeled as random noise with a mean of zero.  \n",
    "     - Provides insight into anomalies or unexplained variations in the data.  \n",
    "   - **Examples:**  \n",
    "     - Deviation in stock prices due to unexpected news.  \n",
    "     - Errors in weather forecasts after accounting for trends and patterns.  \n",
    "   - **Practical Use:**  \n",
    "     - Residual analysis helps evaluate the accuracy of forecasting models.  \n",
    "     - Identifying patterns in residuals may indicate an improperly specified model."
   ]
  },
  {
   "cell_type": "markdown",
   "id": "3be45011",
   "metadata": {},
   "source": [
    "<div style=\"background-color: lightgreen; color: black; padding: 4px;\">\n",
    "    <h3>2. Time Series Decomposition\n",
    "</h3> </div>"
   ]
  },
  {
   "cell_type": "markdown",
   "id": "5c8c51cb",
   "metadata": {},
   "source": [
    "#### **Additive vs. Multiplicative Models:**\n",
    "1. **Additive:** \n",
    "- When the time series components add up: \n",
    "\n",
    "   #### **y(t) = T(t) + S(t) + e(t)**  \n",
    "   - Data = Trend Component + Seasonal Component + Remainder/Residual Component\n",
    "- Suitable for time series where seasonal fluctuations and trend remain relatively constant over time.  \n",
    "\n",
    "\n"
   ]
  },
  {
   "cell_type": "markdown",
   "id": "12263fef",
   "metadata": {},
   "source": [
    "![](https://otexts.com/fpp2/fpp_files/figure-html/elecequip-stl-1.png)"
   ]
  },
  {
   "cell_type": "markdown",
   "id": "d1e1c012",
   "metadata": {},
   "source": [
    "\n",
    "\n",
    "2. **Multiplicative:** \n",
    "- When components multiply:  \n",
    "\n",
    "   #### **y(t) = T(t) * S(t) * e(t)**  \n",
    "- Suitable for time series where seasonal fluctuations vary in proportion to the trend.  "
   ]
  },
  {
   "cell_type": "markdown",
   "id": "a9032278",
   "metadata": {},
   "source": [
    "#### **Techniques for Decomposition:**\n",
    "1. **Classical Decomposition:** Separates components using predefined mathematical formulas.  \n",
    "\n",
    "2. **STL Decomposition (Seasonal-Trend using LOESS):**\n",
    "  - A flexible method that can handle complex seasonality and non-linear trends.  \n",
    "  - Provides robustness against outliers.\n",
    "  - Handles seasonality, trend, and noise effectively.\n",
    "  - Visual output helps in understanding component separation."
   ]
  },
  {
   "cell_type": "markdown",
   "id": "f3b5235d",
   "metadata": {},
   "source": [
    "#### **STL Decomposition Process:**"
   ]
  },
  {
   "cell_type": "markdown",
   "id": "d6f94ee0",
   "metadata": {},
   "source": [
    "![](https://editor.analyticsvidhya.com/uploads/89638Everything%20in%20a%20single%20picture_2.jpg)"
   ]
  },
  {
   "cell_type": "markdown",
   "id": "44a747c7",
   "metadata": {},
   "source": [
    "   - **Step 1: Identify Trend Component**  \n",
    "     - Use techniques like moving averages or LOESS (Locally Estimated Scatterplot Smoothing) to smooth out short-term variations.  \n",
    "     - Seasonal-Trend decomposition using Loess (STL) is a specific decomposition method that employs the Loess technique to separate a time series into its trend, seasonal, and residual components.\n",
    "     - [Learn more here...](https://www.geeksforgeeks.org/seasonal-decomposition-of-time-series-by-loess-stl/)\n",
    "     ![](https://media.geeksforgeeks.org/wp-content/uploads/20231209094809/seadec.png)\n",
    "     ![](https://media.geeksforgeeks.org/wp-content/uploads/20231209112941/seadec1.png)\n",
    "\n",
    "\n"
   ]
  },
  {
   "cell_type": "markdown",
   "id": "41ea9c2d",
   "metadata": {},
   "source": [
    "   - **Step 2: Extract Seasonality Component**  \n",
    "     - Identify repeating patterns by examining fixed intervals (e.g., monthly or yearly).  \n",
    "\n",
    "     ![](https://media.geeksforgeeks.org/wp-content/uploads/20231209113341/seadec2.png)"
   ]
  },
  {
   "cell_type": "markdown",
   "id": "7fd2bdfb",
   "metadata": {},
   "source": [
    "\n",
    "\n",
    "   - **Step 3: Calculate Residuals (Noise)**  \n",
    "     - Subtract (in the additive model) or divide (in the multiplicative model) the trend and seasonality from the original series.  "
   ]
  },
  {
   "cell_type": "markdown",
   "id": "b27a967c",
   "metadata": {},
   "source": [
    "<div style=\"background-color: lightblue; color: black; padding: 4px;\">\n",
    "    <h4> Exploring Time Series Data\n",
    "</h4> </div>"
   ]
  },
  {
   "cell_type": "markdown",
   "id": "a5d95d32",
   "metadata": {},
   "source": [
    "1. **Exploring Time Series Data:**  \n",
    "   Exploring time series data involves understanding its structure and identifying patterns such as trends, seasonality, and randomness. This is typically done through visualization and statistical tools.\n",
    "\n",
    "---\n",
    "\n",
    "2. **Data Visualization for Time Series:**  \n",
    "   Visualization is a crucial first step in time series exploration as it provides an intuitive understanding of the data.  \n",
    "    - **Line Plots:** Show trends over time.\n",
    "    - **Seasonal Plots:** Highlight recurring patterns.\n",
    "\n",
    "\n",
    "   **Line Plots:**  \n",
    "   - **Purpose:** Display raw time series data over time.  \n",
    "   - **Insights:** Identify trends, seasonality, and anomalies.  \n",
    "   - **Example:**  \n",
    "     ```python\n",
    "     import pandas as pd\n",
    "     import matplotlib.pyplot as plt\n",
    "\n",
    "     data = pd.read_csv('time_series.csv')\n",
    "     plt.plot(data['date'], data['value'])\n",
    "     plt.title('Time Series Line Plot')\n",
    "     plt.xlabel('Date')\n",
    "     plt.ylabel('Value')\n",
    "     plt.show()\n",
    "     ```\n",
    "\n",
    "   **Seasonal Plots:**  \n",
    "   - **Purpose:** Highlight repeating seasonal patterns by visualizing data for each period (e.g., months, years).  \n",
    "   - **Insights:** Understand periodic behavior.\n",
    "\n",
    "   **Box Plots:**  \n",
    "   - **Purpose:** Summarize the distribution of data across periods (e.g., months or seasons).  \n",
    "   - **Insights:** Compare variability and detect outliers.  \n",
    "   - **Example:**  \n",
    "     ```python\n",
    "     import seaborn as sns\n",
    "     sns.boxplot(x='month', y='value', data=data)\n",
    "     plt.title('Seasonal Box Plot')\n",
    "     plt.show()\n",
    "     ```\n",
    "\n",
    "---"
   ]
  },
  {
   "cell_type": "markdown",
   "id": "97ddf9ca",
   "metadata": {},
   "source": [
    "<div style=\"background-color: lightblue; color: black; padding: 4px;\">\n",
    "    <h4> Autocorrelation in Time Series\n",
    "</h4> </div>"
   ]
  },
  {
   "cell_type": "markdown",
   "id": "a6bec568",
   "metadata": {},
   "source": [
    "[Learn More...](https://www.geeksforgeeks.org/autocorrelation/)\n",
    "\n",
    "   Autocorrelation measures the relationship between a time series and a lagged version of itself.  \n",
    "\n",
    "   It is like asking, \"Does the past predict the future?\" It measures how similar a time series is to itself at different points in time."
   ]
  },
  {
   "cell_type": "markdown",
   "id": "b33a5cce",
   "metadata": {},
   "source": [
    "**Analogy example:**\n",
    "Imagine This:\n",
    "- You’re looking at sales of ice cream over months.\n",
    "- You notice sales are high every summer (June, July, August).\n",
    "- If sales this June are high, you might expect next June to also have high sales.\n",
    "\n",
    "This similarity between current and past values is autocorrelation!\n",
    "\n",
    "---"
   ]
  },
  {
   "cell_type": "markdown",
   "id": "d733d072",
   "metadata": {},
   "source": [
    "**What is Autocorrelation?**  \n",
    "- The degree to which current values of the series are related to its past values. \n",
    "\n",
    "- **Positive Autocorrelation:** If a high value is followed by another higvalue (or low by low).\n",
    "  - Example: Stock prices rising for several days in a row.\n",
    "\n",
    "- **Negative Autocorrelation:**\n",
    "If a high value is followed by a low value (or vice versa).\n",
    "  - Example: Alternating days of high and low rainfall.\n",
    "\n",
    "- **No Autocorrelation:** If values seem completely random and unrelated to past values\n",
    "\n",
    "- **Lag:** The time difference between the original and shifted series.\n",
    "\n",
    "**ACF (Autocorrelation Function):** Measures correlation at different lags."
   ]
  },
  {
   "cell_type": "markdown",
   "id": "9a3cd7f5",
   "metadata": {},
   "source": [
    "**PACF (Partial Autocorrelation Function):**  \n",
    "    Measures the correlation of the series with a specific lag after removing the effects of shorter lags.  \n",
    "     "
   ]
  },
  {
   "cell_type": "markdown",
   "id": "a9335ca8",
   "metadata": {},
   "source": [
    "These can be visualised with Use ACF/PACF plots"
   ]
  },
  {
   "cell_type": "markdown",
   "id": "0c5d329f",
   "metadata": {},
   "source": [
    "```python\n",
    "     from statsmodels.graphics.tsaplots import plot_acf, plot_pacf\n",
    "\n",
    "     plot_acf(data['value'], lags=20)\n",
    "     plt.title('Autocorrelation Function')\n",
    "     plt.show()\n",
    "\n",
    "     plot_pacf(data['value'], lags=20)\n",
    "     plt.title('Partial Autocorrelation Function')\n",
    "     plt.show()\n",
    "     ```\n",
    "---"
   ]
  },
  {
   "cell_type": "markdown",
   "id": "05196aef",
   "metadata": {},
   "source": [
    "**Insights from Autocorrelation:**  \n",
    "   - **High Autocorrelation:** Indicates strong dependencies between observations over time.  \n",
    "   - **Low Autocorrelation:** Suggests weak or no dependencies.  \n",
    "   - Useful for identifying suitable models for forecasting (e.g., ARIMA).  \n",
    "\n",
    "---"
   ]
  },
  {
   "cell_type": "markdown",
   "id": "eacc54a9",
   "metadata": {},
   "source": [
    "**Durbin-Watson Test:**\n",
    "\n",
    "A statistical test to detect the presence of autocorrelation in the residuals of a regression model.\n",
    "```\n",
    "~ 2: No autocorrelation.\n",
    "< 2: Positive autocorrelation.\n",
    "> 2: Negative autocorrelation.\n"
   ]
  },
  {
   "cell_type": "markdown",
   "id": "223199ac",
   "metadata": {},
   "source": [
    "```python\n",
    "from statsmodels.stats.stattools import durbin_watson\n",
    "\n",
    "dw_stat = durbin_watson(model.resid)\n",
    "print(f'Durbin-Watson statistic: {dw_stat}')\n"
   ]
  },
  {
   "cell_type": "markdown",
   "id": "b69ed7ea-1940-434d-bb2d-601d07994783",
   "metadata": {},
   "source": [
    "<div style=\"background-color: lightblue; color: white; padding: 10px; text-align: center;\">\n",
    "    <h1>_________________________________END________________________________\n",
    "        <!--- Mohammad Idrees Bhat | Tech Skills Trainer | AI/ML Consultant --->\n",
    "</h1> </div>"
   ]
  },
  {
   "cell_type": "markdown",
   "id": "13e86481-eae2-4019-9515-66a43a30f0fb",
   "metadata": {},
   "source": [
    "<div style=\"background-color: #002147; color: #fff; padding: 30px; text-align: center;\">\n",
    "    <h1>THANK YOU!\n",
    "        <!--- Mohammad Idrees Bhat | Tech Skills Trainer | AI/ML Consultant --->\n",
    "</h1> </div>"
   ]
  },
  {
   "cell_type": "markdown",
   "id": "aefa2f04-f141-405d-8a9f-8cf186d66f41",
   "metadata": {},
   "source": [
    "<div style=\"background-color: lightgreen; color: black; padding: 30px;\">\n",
    "    <h4> Live Exercise Solutions\n",
    "        \n",
    "</h4> </div>"
   ]
  },
  {
   "cell_type": "code",
   "execution_count": null,
   "id": "ee2b86c1-64b0-4abd-8ba9-54746bdc9007",
   "metadata": {},
   "outputs": [],
   "source": []
  },
  {
   "cell_type": "markdown",
   "id": "5454f2e3-4fa4-48f9-936a-35be52d769af",
   "metadata": {},
   "source": [
    "<!--- Mohammad Idrees Bhat | Mohammad Idrees Bhat --->"
   ]
  },
  {
   "cell_type": "markdown",
   "id": "3e92ba4c-672c-4e9f-b842-2b2d9234e5ff",
   "metadata": {},
   "source": [
    "<h2 style=\"background-color: #ffe4e1; color: #2f4f4f; padding: 10px; border-radius: 10px; width: 350px; text-align: center; float: right; margin: 20px 0;\">\n",
    "    Mohammad Idrees Bhat<br>\n",
    "    <span style=\"font-size: 12px; color: #696969;\">\n",
    "        Tech Skills Trainer | AI/ML Consultant\n",
    "    </span>\n",
    "</h2>"
   ]
  },
  {
   "cell_type": "markdown",
   "id": "15cc27b3-58d0-431e-8121-f1b4c08377c7",
   "metadata": {},
   "source": [
    "<!--- Mohammad Idrees Bhat | Tech Skills Trainer | AI/ML Consultant --->"
   ]
  }
 ],
 "metadata": {
  "kernelspec": {
   "display_name": "testenv",
   "language": "python",
   "name": "python3"
  },
  "language_info": {
   "codemirror_mode": {
    "name": "ipython",
    "version": 3
   },
   "file_extension": ".py",
   "mimetype": "text/x-python",
   "name": "python",
   "nbconvert_exporter": "python",
   "pygments_lexer": "ipython3",
   "version": "3.13.0"
  }
 },
 "nbformat": 4,
 "nbformat_minor": 5
}
