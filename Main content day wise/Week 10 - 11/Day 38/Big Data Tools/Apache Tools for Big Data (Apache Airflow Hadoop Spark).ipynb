{
 "cells": [
  {
   "cell_type": "markdown",
   "id": "8c4bc666-34a1-47b6-8018-1ad79dafae95",
   "metadata": {},
   "source": [
    "<div style=\"background-color: #add8e6; padding: 10px; height: 70px; border-radius: 15px;\">\n",
    "    <div style=\"font-family: 'Georgia', serif; font-size: 20px; padding: 10px; text-align: right; position: absolute; right: 20px;\">\n",
    "        Mohammad Idrees Bhat <br>\n",
    "        <span style=\"font-family: 'Arial', sans-serif;font-size: 12px; color: #0a0a0a;\">Tech Skills Trainer | AI/ML Consultant</span> <!--- Mohammad Idrees Bhat | Tech Skills Trainer | AI/ML Consultant --->\n",
    "    </div>\n",
    "</div>"
   ]
  },
  {
   "cell_type": "markdown",
   "id": "ef444d2e-97e9-49a8-bf3d-0119a2dfebb5",
   "metadata": {},
   "source": [
    "<!--- Mohammad Idrees Bhat | Tech Skills Trainer | AI/ML Consultant --->"
   ]
  },
  {
   "cell_type": "markdown",
   "id": "151ad3d8-0bce-4e29-86da-5ea91b5a69df",
   "metadata": {},
   "source": [
    "<div style=\"background-color: #002147; padding: 10px; text-align: center; color: white; font-size: 32px; font-family: 'Arial', sans-serif;\">\n",
    "    Apache Tools for Big Data <br>\n",
    "    <h3 style=\"text-align: center; color: white; font-size: 15px; font-family: 'Arial', sans-serif;\">Apache Airflow, Apache Hadoop, Apache Spark</h3>\n",
    "</div>"
   ]
  },
  {
   "cell_type": "markdown",
   "id": "155e8ec7-547b-41f4-b6f6-6e6e719c198c",
   "metadata": {},
   "source": [
    "<div style=\"background-color: white; color: black; padding: 10px;\">\n",
    "    <h4><b>AGENDA</b> <p><p>\n",
    "1.  <p><p> \n",
    "2.   <p>\n",
    "3.   <p>\n",
    "4.   <p>  \n",
    "</h4> </div>"
   ]
  },
  {
   "cell_type": "markdown",
   "id": "19b1c30b-e766-4658-8d70-1b0af10ae2f4",
   "metadata": {},
   "source": [
    "<!-- Link the Montserrat font -->\n",
    "<link href=\"https://fonts.googleapis.com/css2?family=Montserrat:wght@700&display=swap\" rel=\"stylesheet\">\n",
    "\n",
    "<!-- Main div with centered content and a flexible box size, no scroll bar -->\n",
    "<div style=\"background-color: #baf733; min-height: 100px; width: 100%; display: flex; justify-content: center; align-items: center; position: relative; padding: 20px; box-sizing: border-box; font-family: 'Montserrat', sans-serif; font-weight: 700; font-size: 20px; border-radius: 15px;\">\n",
    "    <div style=\"position: absolute; top: 10px; right: 10px; padding: 5px 10px; font-size: 14px; color: rgba(0, 0, 0, 0.05); border-radius: 10px;\">Mohammad Idrees Bhat</div>\n",
    "    <!-- Fill the below text with question -->\n",
    "    <!-- Fill the below text with question -->\n",
    "    In all that you do, be kind!\n",
    "    <!-- Fill the above text with question -->\n",
    "    <!-- Fill the above text with question -->\n",
    "\n",
    "</div>"
   ]
  },
  {
   "cell_type": "markdown",
   "id": "53ec8637",
   "metadata": {},
   "source": [
    "<div style=\"background-color: lightgreen; color: black; padding: 4px;\">\n",
    "    <h3>1. topic 1 \n",
    "</h3> </div>"
   ]
  },
  {
   "cell_type": "markdown",
   "id": "1c762cd6-ee35-4e4e-aa54-600db6a9c23d",
   "metadata": {},
   "source": [
    "<div style=\"background-color: lightblue; color: black; padding: 4px;\">\n",
    "    <h4> sub heading 1\n",
    "</h4> </div>"
   ]
  },
  {
   "cell_type": "markdown",
   "id": "1aafc340",
   "metadata": {},
   "source": [
    "Extraction\n",
    "\n",
    "we will scrape amazon books, \n",
    "\n",
    "clean and transformed data\n",
    "\n",
    "is loaded\n",
    "\n",
    "stored in data warehouse\n",
    "\n",
    "- Airflow will help us schedule tasks\n",
    "    (docker with airflow)\n",
    "    - scheduler\n",
    "    - webserver for ui\n",
    "    - \n",
    "\n",
    "\n",
    "- Python as primary language, and SQL for querries\n",
    "\n"
   ]
  },
  {
   "cell_type": "markdown",
   "id": "6d7ab9b9",
   "metadata": {},
   "source": [
    "Step 1 is to create and activate a new virtual environment\n",
    "\n",
    "- Download python 3.8 at some place, most likely the path will look like this: `C:\\Users\\devid\\AppData\\Local\\Programs\\Python\\Python38`\n",
    "- Use this command to create the environment:\n",
    "`C:\\Users\\<username>\\AppData\\Local\\Programs\\Python\\Python38\\python.exe -m venv <environment_name>`\n",
    "- In the terminal, (a cmd terminal in VS code, not powershell) use this command:\n",
    "`<environment_name>\\Scripts\\activate`\n"
   ]
  },
  {
   "cell_type": "markdown",
   "id": "b73c63bf",
   "metadata": {},
   "source": [
    "Step 2: Install docker and airflow\n",
    "\n",
    "**1.** Go to this page:\n",
    "https://airflow.apache.org/docs/apache-airflow/stable/howto/docker-compose/index.html\n",
    "- Ensure that docker compose is installed:\n",
    "`docker compose version`\n",
    "- If it is not installed, use this: \n",
    "[Docker Windows](https://docs.docker.com/desktop/setup/install/windows-install/) or [Docker Mac](https://docs.docker.com/desktop/setup/install/mac-install/)\n",
    "**2.** Copy the **Fetching docker-compose.yaml** command and paste in the activated terminal in Linux/Mac:\n",
    "\n",
    "    `curl -LfO 'https://airflow.apache.org/docs/apache-airflow/2.10.3/docker-compose.yaml'`\n",
    "\n",
    "- But use double quotes on windows:\n",
    "\n",
    "    `curl -LfO \"https://airflow.apache.org/docs/apache-airflow/2.10.3/docker-compose.yaml\"`\n",
    "\n",
    "**3.** Then use this on Linux/Mac:\n",
    "    ```bash\n",
    "    mkdir -p ./dags ./logs ./plugins ./config\n",
    "    echo -e \"AIRFLOW_UID=$(id -u)\" > .env\n",
    "    ```\n",
    "\n",
    "- But use this on windows:\n",
    "    ```bash\n",
    "    mkdir dags logs plugins config \n",
    "    echo AIRFLOW_UID=50000 > .env\n",
    "    ```\n",
    "These commands create the folders dags, logs, plugins, config and another `.env` file\n"
   ]
  },
  {
   "cell_type": "markdown",
   "id": "4a699c7b",
   "metadata": {},
   "source": [
    "The next step will require docker to be present on your system, in your environment, and running to execute the command.\n",
    "\n",
    "**4.** Initialilze database, use this command:\n",
    "    `docker compose up airflow-init`\n",
    "\n",
    "**5.** Start all services using:\n",
    "    `docker compose up`"
   ]
  },
  {
   "cell_type": "markdown",
   "id": "96bb8264",
   "metadata": {},
   "source": [
    "Then we can visit `localhost:8080` from our browser to see the airflow interface"
   ]
  },
  {
   "cell_type": "markdown",
   "id": "70b641a6",
   "metadata": {},
   "source": [
    "<div style=\"background-color: lightblue; color: black; padding: 4px;\">\n",
    "    <h4> sub heading 1\n",
    "</h4> </div>"
   ]
  },
  {
   "cell_type": "markdown",
   "id": "698b9e38",
   "metadata": {},
   "source": [
    "- Add new port to the `docker-compose.yaml` file within `services:`\n",
    "\n",
    "```yml\n",
    "    ports:\n",
    "      -  \"5432:5432\"\n",
    "```\n",
    "\n",
    "- Next add one more port:\n",
    "\n",
    "```yml\n",
    "  pgadmin:\n",
    "      container_name: pgadmin4_container2   \n",
    "      image: dpage/pgadmin4  \n",
    "      restart: always \n",
    "      environment:\n",
    "        PGADMIN_DEFAULT_EMAIL: admin@admin.com\n",
    "        PGADMIN_DEFAULT_PASSWORD: root\n",
    "      ports:\n",
    "        -  \"5050:80\"\n",
    "```\n",
    "- Then open a new command prompt and close the docker container using:\n",
    "`docker compose down`\n",
    "\n",
    "- Then start the docker container again using:\n",
    "`docker compose up`\n",
    "\n",
    "- Go to localhost:5050 and login to pgadmin, with the username password setup earlier. "
   ]
  },
  {
   "cell_type": "markdown",
   "id": "74157a32",
   "metadata": {},
   "source": []
  },
  {
   "cell_type": "markdown",
   "id": "86ad244b",
   "metadata": {},
   "source": []
  },
  {
   "cell_type": "markdown",
   "id": "321f7033",
   "metadata": {},
   "source": []
  },
  {
   "cell_type": "markdown",
   "id": "ac4074e0",
   "metadata": {},
   "source": []
  },
  {
   "cell_type": "markdown",
   "id": "ffdd8a6c",
   "metadata": {},
   "source": []
  },
  {
   "cell_type": "markdown",
   "id": "c6e313b8",
   "metadata": {},
   "source": [
    "<div style=\"background-color: lightblue; color: black; padding: 4px;\">\n",
    "    <h4> sub heading 1\n",
    "</h4> </div>"
   ]
  },
  {
   "cell_type": "markdown",
   "id": "35cc79a0",
   "metadata": {},
   "source": []
  },
  {
   "cell_type": "markdown",
   "id": "b0265ccd",
   "metadata": {},
   "source": []
  },
  {
   "cell_type": "markdown",
   "id": "89668c1c",
   "metadata": {},
   "source": []
  },
  {
   "cell_type": "markdown",
   "id": "e4a3ec2d",
   "metadata": {},
   "source": []
  },
  {
   "cell_type": "markdown",
   "id": "d1af932a",
   "metadata": {},
   "source": []
  },
  {
   "cell_type": "markdown",
   "id": "6f3e85fe",
   "metadata": {},
   "source": []
  },
  {
   "cell_type": "markdown",
   "id": "18a064f9",
   "metadata": {},
   "source": []
  },
  {
   "cell_type": "markdown",
   "id": "0474338b",
   "metadata": {},
   "source": [
    "![pipeline_design.png](pipeline_design.png)"
   ]
  },
  {
   "cell_type": "markdown",
   "id": "024139ea",
   "metadata": {},
   "source": []
  },
  {
   "cell_type": "markdown",
   "id": "f58cfcc2",
   "metadata": {},
   "source": []
  },
  {
   "cell_type": "markdown",
   "id": "e689cf04",
   "metadata": {},
   "source": []
  },
  {
   "cell_type": "markdown",
   "id": "bf8d61af-f3e8-4afc-a66b-3814e160aaf3",
   "metadata": {},
   "source": [
    "Now it's your turn!\n",
    "### Task 1: description of task\n",
    "\n",
    "    - instructions"
   ]
  },
  {
   "cell_type": "markdown",
   "id": "b69ed7ea-1940-434d-bb2d-601d07994783",
   "metadata": {},
   "source": [
    "<div style=\"background-color: lightblue; color: white; padding: 10px; text-align: center;\">\n",
    "    <h1>_________________________________END________________________________\n",
    "        <!--- Mohammad Idrees Bhat | Tech Skills Trainer | AI/ML Consultant --->\n",
    "</h1> </div>"
   ]
  },
  {
   "cell_type": "markdown",
   "id": "13e86481-eae2-4019-9515-66a43a30f0fb",
   "metadata": {},
   "source": [
    "<div style=\"background-color: #002147; color: #fff; padding: 30px; text-align: center;\">\n",
    "    <h1>THANK YOU!\n",
    "        <!--- Mohammad Idrees Bhat | Tech Skills Trainer | AI/ML Consultant --->\n",
    "</h1> </div>"
   ]
  },
  {
   "cell_type": "markdown",
   "id": "aefa2f04-f141-405d-8a9f-8cf186d66f41",
   "metadata": {},
   "source": [
    "<div style=\"background-color: lightgreen; color: black; padding: 30px;\">\n",
    "    <h4> Live Exercise Solutions\n",
    "        \n",
    "</h4> </div>"
   ]
  },
  {
   "cell_type": "code",
   "execution_count": null,
   "id": "f1f9ddd9-5558-4b1d-a3e7-04c3dca33b6d",
   "metadata": {},
   "outputs": [],
   "source": [
    "solutions"
   ]
  },
  {
   "cell_type": "markdown",
   "id": "36f2d487-56ef-4c22-a1c9-d25e9df33e37",
   "metadata": {},
   "source": [
    "<div class=\"alert alert-block alert-warning\"  padding: 10px; text-align: center;\">\n",
    "    <font size=\"3\"> Programming Interveiw Questions</font>\n",
    "</div>"
   ]
  },
  {
   "cell_type": "markdown",
   "id": "d4e08c3f-3e5b-46a6-9fbb-456cbd850553",
   "metadata": {},
   "source": [
    "1. topic:\n",
    "    - question"
   ]
  },
  {
   "cell_type": "code",
   "execution_count": null,
   "id": "ee2b86c1-64b0-4abd-8ba9-54746bdc9007",
   "metadata": {},
   "outputs": [],
   "source": []
  },
  {
   "cell_type": "markdown",
   "id": "5454f2e3-4fa4-48f9-936a-35be52d769af",
   "metadata": {},
   "source": [
    "<!--- Mohammad Idrees Bhat | Mohammad Idrees Bhat --->"
   ]
  },
  {
   "cell_type": "markdown",
   "id": "3e92ba4c-672c-4e9f-b842-2b2d9234e5ff",
   "metadata": {},
   "source": [
    "<h2 style=\"background-color: #ffe4e1; color: #2f4f4f; padding: 10px; border-radius: 10px; width: 350px; text-align: center; float: right; margin: 20px 0;\">\n",
    "    Mohammad Idrees Bhat<br>\n",
    "    <span style=\"font-size: 12px; color: #696969;\">\n",
    "        Tech Skills Trainer | AI/ML Consultant\n",
    "    </span>\n",
    "</h2>"
   ]
  },
  {
   "cell_type": "markdown",
   "id": "15cc27b3-58d0-431e-8121-f1b4c08377c7",
   "metadata": {},
   "source": [
    "<!--- Mohammad Idrees Bhat | Tech Skills Trainer | AI/ML Consultant --->"
   ]
  }
 ],
 "metadata": {
  "kernelspec": {
   "display_name": "Python 3 (ipykernel)",
   "language": "python",
   "name": "python3"
  },
  "language_info": {
   "codemirror_mode": {
    "name": "ipython",
    "version": 3
   },
   "file_extension": ".py",
   "mimetype": "text/x-python",
   "name": "python",
   "nbconvert_exporter": "python",
   "pygments_lexer": "ipython3",
   "version": "3.12.4"
  }
 },
 "nbformat": 4,
 "nbformat_minor": 5
}
