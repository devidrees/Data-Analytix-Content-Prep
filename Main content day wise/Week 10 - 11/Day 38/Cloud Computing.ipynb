{
 "cells": [
  {
   "cell_type": "markdown",
   "id": "8c4bc666-34a1-47b6-8018-1ad79dafae95",
   "metadata": {},
   "source": [
    "<div style=\"background-color: #add8e6; padding: 10px; height: 70px; border-radius: 15px;\">\n",
    "    <div style=\"font-family: 'Georgia', serif; font-size: 20px; padding: 10px; text-align: right; position: absolute; right: 20px;\">\n",
    "        Mohammad Idrees Bhat <br>\n",
    "        <span style=\"font-family: 'Arial', sans-serif;font-size: 12px; color: #0a0a0a;\">Tech Skills Trainer | AI/ML Consultant</span> <!--- Mohammad Idrees Bhat | Tech Skills Trainer | AI/ML Consultant --->\n",
    "    </div>\n",
    "</div>"
   ]
  },
  {
   "cell_type": "markdown",
   "id": "ef444d2e-97e9-49a8-bf3d-0119a2dfebb5",
   "metadata": {},
   "source": [
    "<!--- Mohammad Idrees Bhat | Tech Skills Trainer | AI/ML Consultant --->"
   ]
  },
  {
   "cell_type": "markdown",
   "id": "151ad3d8-0bce-4e29-86da-5ea91b5a69df",
   "metadata": {},
   "source": [
    "<div style=\"background-color: #002147; padding: 10px; text-align: center; color: white; font-size: 32px; font-family: 'Arial', sans-serif;\">\n",
    "    Cloud Computing <br>\n",
    "    <h3 style=\"text-align: center; color: white; font-size: 15px; font-family: 'Arial', sans-serif;\">Using AWS, Azure, and GCP for data analytics</h3>\n",
    "</div>"
   ]
  },
  {
   "cell_type": "markdown",
   "id": "155e8ec7-547b-41f4-b6f6-6e6e719c198c",
   "metadata": {},
   "source": [
    "<div style=\"background-color: white; color: black; padding: 10px;\">\n",
    "    <h4><b>AGENDA</b> <p><p>\n",
    "1.  Introduction to Cloud Computing and Platforms<p><p> \n",
    "2.  Data Storage and Analytics Services <p>\n",
    "3.  Advanced Tools for Cloud Analytics <p>\n",
    "</h4> </div>"
   ]
  },
  {
   "cell_type": "markdown",
   "id": "19b1c30b-e766-4658-8d70-1b0af10ae2f4",
   "metadata": {},
   "source": [
    "<!-- Link the Montserrat font -->\n",
    "<link href=\"https://fonts.googleapis.com/css2?family=Montserrat:wght@700&display=swap\" rel=\"stylesheet\">\n",
    "\n",
    "<!-- Main div with centered content and a flexible box size, no scroll bar -->\n",
    "<div style=\"background-color: #baf733; min-height: 100px; width: 100%; display: flex; justify-content: center; align-items: center; position: relative; padding: 20px; box-sizing: border-box; font-family: 'Montserrat', sans-serif; font-weight: 700; font-size: 20px; border-radius: 15px;\">\n",
    "    <div style=\"position: absolute; top: 10px; right: 10px; padding: 5px 10px; font-size: 14px; color: rgba(0, 0, 0, 0.05); border-radius: 10px;\">Mohammad Idrees Bhat</div>\n",
    "    <!-- Fill the below text with question -->\n",
    "    <!-- Fill the below text with question -->\n",
    "    What's a hobby or activity you’ve always wanted to try but haven’t yet?\n",
    "    <!-- Fill the above text with question -->\n",
    "    <!-- Fill the above text with question -->\n",
    "\n",
    "</div>"
   ]
  },
  {
   "cell_type": "markdown",
   "id": "53ec8637",
   "metadata": {},
   "source": [
    "<div style=\"background-color: lightgreen; color: black; padding: 4px;\">\n",
    "    <h3>1. Introduction to Cloud Computing and Platforms\n",
    "</h3> </div>"
   ]
  },
  {
   "cell_type": "markdown",
   "id": "254c2458",
   "metadata": {},
   "source": [
    "![](https://cdn.infrasos.com/wp-content/uploads/2023/01/Cloud-computing.png)"
   ]
  },
  {
   "cell_type": "markdown",
   "id": "0bd19126",
   "metadata": {},
   "source": [
    "Cloud computing refers to the delivery of computing services (such as servers, storage, databases, networking, software, and analytics) over the internet (\"the cloud\"). \n",
    "\n",
    "These services are offered on-demand, typically through a subscription-based model. Cloud computing enables businesses and individuals to access powerful computing resources without having to invest in physical hardware.\n",
    "\n",
    "![](https://www.interviewbit.com/blog/wp-content/uploads/2022/04/Types-of-Cloud-2048x1137.png)\n",
    "\n",
    "- **Public Cloud:**  \n",
    "The infrastructure is owned and **operated by third-party providers** (e.g., AWS, Azure, GCP) and shared among many customers.  \n",
    "**Example:** AWS, where multiple organizations use shared resources provided by Amazon.\n",
    "\n",
    "- **Private Cloud:**  \n",
    "A cloud environment used **exclusively by one organization**, providing more control and security.  \n",
    "**Example:** Microsoft Azure Stack, where an organization uses Azure’s private cloud services in its own data center.\n",
    "\n",
    "- **Hybrid Cloud:**  \n",
    "A mix of private and public clouds, allowing data and applications to be shared between them.  \n",
    "**Example:** AWS Outposts, where an organization uses AWS services both in their private data center and on AWS’s public cloud.\n",
    "\n",
    "- **Community Cloud:**  \n",
    "A cloud infrastructure shared by several organizations with common concerns, allowing for resource sharing while meeting specific security, compliance, or industry requirements.  \n",
    "**Example:** A healthcare cloud, where multiple healthcare organizations share resources while adhering to privacy regulations like HIPAA.\n",
    "\n",
    "\n",
    "---"
   ]
  },
  {
   "cell_type": "markdown",
   "id": "2fa1f0a5",
   "metadata": {},
   "source": [
    "<div style=\"background-color: lightblue; color: black; padding: 4px;\">\n",
    "    <h4> Benefits of Cloud Computing in Data Analytics\n",
    "</h4> </div>"
   ]
  },
  {
   "cell_type": "markdown",
   "id": "f1521175",
   "metadata": {},
   "source": [
    "Cloud computing offers significant advantages when it comes to processing large datasets for analytics:\n",
    "\n",
    "1. **Scalability:** \n",
    "Cloud platforms **allow you to scale resources** up or down based on demand. For example, if you're analyzing a large dataset, you can provision more compute power to handle the load, and reduce it when the task is complete.\n",
    "\n",
    "2. **Cost Efficiency:** \n",
    "With a **pay-as-you-go model**, you only pay for the computing resources you use, saving costs on infrastructure and hardware maintenance.\n",
    "\n",
    "3. **Flexibility:** \n",
    "You can **run workloads on the cloud** and **use a variety of tools and services**, from simple data storage to complex machine learning models.\n",
    "\n",
    "4. **Collaboration:** \n",
    "Cloud platforms **enable teams to access**, share, and analyze data from anywhere, facilitating collaborative data analytics work.\n",
    "\n",
    "---"
   ]
  },
  {
   "cell_type": "markdown",
   "id": "d559aab9",
   "metadata": {},
   "source": [
    "<div style=\"background-color: lightblue; color: black; padding: 4px;\">\n",
    "    <h4>Key Concepts in Cloud Computing\n",
    "</h4> </div>"
   ]
  },
  {
   "cell_type": "markdown",
   "id": "d6010f7f",
   "metadata": {},
   "source": [
    "- **Scalability:** \n",
    "\n",
    "The **ability to grow or shrink** your computing resources as needed. This is particularly useful in data analytics, where you may need to process large amounts of data at varying speeds.\n",
    "  \n",
    "  **Example:** AWS Auto Scaling automatically adjusts the amount of compute resources based on traffic and demand.\n",
    "  \n",
    "  [Learn more about scalability: AWS Auto Scaling Overview](https://aws.amazon.com/autoscaling/)\n",
    "\n",
    "- **Elasticity:** \n",
    "\n",
    "The ability of cloud resources to **automatically scale based on workload demands** . Elasticity ensures that you have the right amount of resources available at all times.\n",
    "\n",
    "  **Example:** If an unexpected spike in website traffic occurs, elastic cloud systems can automatically allocate more compute resources to handle the extra load.\n",
    "  \n",
    "  [Learn more about elasticity: Microsoft Azure Elasticity Guide](https://learn.microsoft.com/en-us/azure/architecture/cloud-adoption/azure-adoption-framework/scale)\n",
    "\n",
    "- **Pay-As-You-Go:** \n",
    "\n",
    "With cloud services, you only pay for what you use. This pay-per-use model helps organizations save money by eliminating the need for expensive hardware investments.\n",
    "\n",
    "  **Example:** You can start small with limited compute power and scale your infrastructure only when necessary, avoiding unnecessary upfront costs.\n",
    "  \n",
    "  [Learn more about Pay-As-You-Go pricing: GCP Pricing Overview](https://cloud.google.com/pricing)\n",
    "\n",
    "---"
   ]
  },
  {
   "cell_type": "markdown",
   "id": "620056ae",
   "metadata": {},
   "source": [
    "<div style=\"background-color: lightblue; color: black; padding: 4px;\">\n",
    "    <h4> Types of Cloud Services\n",
    "</h4> </div>"
   ]
  },
  {
   "cell_type": "markdown",
   "id": "fa70b69c",
   "metadata": {},
   "source": [
    "![](https://th.bing.com/th/id/R.2d237d1b07b046a1c8b933560850011a?rik=G8rDDGALYrxG5g&riu=http%3a%2f%2fwww.crucial.com.au%2fblog%2fwp-content%2fuploads%2f2013%2f05%2ftypes-of-cloud-computing1.png&ehk=e%2f9jiOWnBBUul4j%2bvmxA0PBXW8U8gRusNxcsUiRQsq8%3d&risl=&pid=ImgRaw&r=0)"
   ]
  },
  {
   "cell_type": "markdown",
   "id": "333124cc",
   "metadata": {},
   "source": [
    "Cloud computing offers different service models depending on how much control you need over the infrastructure, platform, and software. The three primary service models are:\n",
    "\n",
    "1. **IaaS (Infrastructure as a Service):**  \n",
    "   - Provides virtualized computing resources over the internet.  \n",
    "   - You can rent IT infrastructure (like servers and storage) on a pay-per-use basis.\n",
    "   - Examples: AWS EC2, Azure Virtual Machines, Google Compute Engine.\n",
    "\n",
    "   **Learn more about IaaS:** [AWS EC2 Overview](https://aws.amazon.com/ec2/)\n",
    "\n",
    "2. **PaaS (Platform as a Service):**  \n",
    "   - Provides a platform allowing customers to develop, run, and manage applications without managing the underlying infrastructure.\n",
    "   - It simplifies the deployment of applications by providing tools and services for development.\n",
    "   - Examples: Azure App Services, AWS Elastic Beanstalk, Google App Engine.\n",
    "\n",
    "   **Learn more about PaaS:** [Azure App Service Overview](https://azure.microsoft.com/en-us/services/app-service/)\n",
    "\n",
    "3. **SaaS (Software as a Service):**  \n",
    "   - Delivers software applications over the internet, typically via a subscription model.\n",
    "   - The provider hosts and manages the software, while users access it through a web browser.\n",
    "   - Examples: Google Workspace, Microsoft 365, Salesforce.\n",
    "\n",
    "   **Learn more about SaaS:** [Salesforce Overview](https://www.salesforce.com/products/)\n",
    "\n",
    "---"
   ]
  },
  {
   "cell_type": "markdown",
   "id": "6c48e6fe",
   "metadata": {},
   "source": [
    "<div style=\"background-color: lightblue; color: black; padding: 4px;\">\n",
    "    <h4> Overview of Cloud Platforms\n",
    "</h4> </div>"
   ]
  },
  {
   "cell_type": "markdown",
   "id": "0f2ea376",
   "metadata": {},
   "source": [
    "**1. AWS (Amazon Web Services)**  \n",
    "AWS is the leading cloud platform with a wide range of services for computing, storage, databases, and machine learning. It offers **scalability**, **reliability**, and **flexibility** that are ideal for businesses of all sizes.\n",
    "\n",
    "**Key Features and Services for Data Analytics:**\n",
    "- **Amazon S3**: Object storage for large-scale data.\n",
    "- **Amazon Redshift**: Data warehouse service optimized for analytics.\n",
    "- **AWS Glue**: Data integration service for ETL (extract, transform, load) operations.\n",
    "- **Amazon EMR**: Managed Hadoop framework for big data processing.\n",
    "- **AWS Lambda**: Serverless compute service for running code in response to events.\n",
    "\n",
    "**Pricing Model:**\n",
    "- **Pay-as-you-go** model based on usage.\n",
    "- **Free tier**: Includes limited usage for new users.\n",
    "- **On-demand pricing** and **reserved instances** are available for computing services, which provide flexibility based on workload requirements.\n",
    "\n",
    "**Real-world Use Case:**\n",
    "- **Netflix**: Uses AWS for streaming, storage, and data processing. AWS helps Netflix manage billions of hours of content delivered globally with seamless performance.\n",
    "\n",
    "---"
   ]
  },
  {
   "cell_type": "markdown",
   "id": "fd41b261",
   "metadata": {},
   "source": [
    "**2. Microsoft Azure**  \n",
    "Azure is known for its deep integration with Microsoft's existing products and services, making it a go-to option for businesses that rely on Microsoft tools.\n",
    "\n",
    "**Key Features and Services for Data Analytics:**\n",
    "- **Azure Blob Storage**: Scalable object storage for large volumes of unstructured data.\n",
    "- **Azure Synapse Analytics**: Integrated analytics service for big data and data warehousing.\n",
    "- **Azure Data Lake Analytics**: Big data analytics service.\n",
    "- **Power BI**: Analytics and business intelligence platform for interactive data visualizations.\n",
    "- **Azure Machine Learning**: A set of tools for building, training, and deploying machine learning models.\n",
    "\n",
    "**Pricing Model:**\n",
    "- **Pay-as-you-go**: Charges based on the amount of storage, computing, and services used.\n",
    "- **Free tier**: Available for beginners to explore Azure's features with limited resources.\n",
    "- **Reserved pricing**: Discounts for long-term use, ideal for predictable workloads.\n",
    "\n",
    "**Real-world Use Case:**\n",
    "- **Adobe**: Uses Azure for its Creative Cloud and Document Cloud services, leveraging Azure’s computing and storage power for massive data processing and customer insights.\n",
    "\n",
    "---"
   ]
  },
  {
   "cell_type": "markdown",
   "id": "30d7dc66",
   "metadata": {},
   "source": [
    "**3. Google Cloud Platform (GCP)**  \n",
    "GCP is known for its **advanced data analytics** and **machine learning** capabilities. Google’s infrastructure and expertise in data-driven technologies make it a strong contender in the cloud market.\n",
    "\n",
    "**Key Features and Services for Data Analytics:**\n",
    "- **Google Cloud Storage**: Object storage for any amount of data.\n",
    "- **BigQuery**: Serverless, highly scalable, and cost-effective data warehouse for analytics.\n",
    "- **Dataflow**: Stream and batch data processing service.\n",
    "- **Google AI and ML Services**: Tools for building and deploying machine learning models.\n",
    "- **Google Dataproc**: Managed Hadoop and Spark for big data processing.\n",
    "\n",
    "**Pricing Model:**\n",
    "- **Pay-per-use**: GCP’s pricing model is based on resource usage, with separate charges for storage, computing, and data processing.\n",
    "- **Free tier**: Provides users with access to certain services for free with limited usage.\n",
    "- **Sustained use discounts**: Automatically applied for long-running workloads.\n",
    "\n",
    "**Real-world Use Case:**\n",
    "- **Spotify**: Uses GCP’s BigQuery and other data analytics tools to analyze large volumes of music data to personalize recommendations and improve user experience.\n",
    "\n",
    "---\n"
   ]
  },
  {
   "cell_type": "markdown",
   "id": "3c03cd07",
   "metadata": {},
   "source": [
    "**Comparison Table:**\n",
    "\n",
    "| Feature/Service        | **AWS**                                  | **Azure**                                   | **GCP**                                      |\n",
    "|------------------------|------------------------------------------|---------------------------------------------|----------------------------------------------|\n",
    "| **Storage**            | Amazon S3                               | Azure Blob Storage                          | Google Cloud Storage                         |\n",
    "| **Data Analytics**     | Amazon Redshift, EMR, Glue               | Azure Synapse Analytics, Data Lake          | BigQuery, Dataflow, Dataproc                 |\n",
    "| **Machine Learning**   | SageMaker                               | Azure Machine Learning                      | AI and ML Services, TensorFlow               |\n",
    "| **Pricing**            | Pay-as-you-go, reserved instances        | Pay-as-you-go, reserved pricing             | Pay-per-use, sustained use discounts         |\n",
    "| **Real-time Analytics**| Kinesis, Lambda                         | Azure Stream Analytics                      | Dataflow, Pub/Sub                            |\n",
    "| **Free Tier**          | Yes, with limited usage                 | Yes, limited resources                      | Yes, limited usage                           |\n",
    "\n",
    "---\n"
   ]
  },
  {
   "cell_type": "markdown",
   "id": "f9a00b59",
   "metadata": {},
   "source": [
    "\n",
    "**Choosing the Right Platform:**\n",
    "Each platform has its strengths:\n",
    "- **AWS** is great for organizations needing a comprehensive suite of services with an established ecosystem.\n",
    "- **Azure** works best for companies already using Microsoft tools, providing a seamless transition to the cloud.\n",
    "- **GCP** is ideal for businesses focused on cutting-edge machine learning and big data analytics, especially if they already use Google products.\n"
   ]
  },
  {
   "cell_type": "markdown",
   "id": "affb2e43-d552-4f52-b5e7-c4d8af63b29e",
   "metadata": {},
   "source": [
    "Let's move towards setting up the environments now"
   ]
  },
  {
   "cell_type": "markdown",
   "id": "a3b10a45",
   "metadata": {},
   "source": [
    "<div style=\"background-color: lightgreen; color: black; padding: 4px;\">\n",
    "    <h3>2. Data Storage and Analytics Services\n",
    "    </h3> </div>"
   ]
  },
  {
   "cell_type": "markdown",
   "id": "b20627ad",
   "metadata": {},
   "source": [
    "<div style=\"background-color: lightblue; color: black; padding: 4px;\">\n",
    "    <h4> Setting Up a Cloud Environment\n",
    "</h4> </div>"
   ]
  },
  {
   "cell_type": "markdown",
   "id": "1ee30572",
   "metadata": {},
   "source": [
    "\n",
    "\n",
    "Each cloud platform provides a **management console** or **dashboard**, which is the central hub for managing your cloud environment.\n",
    "\n",
    "Most cloud platforms offer **free tiers** or **credits** for new users, allowing you to explore their services without incurring any charges. These are especially helpful for beginners who want to practice without worrying about costs.\n",
    "\n",
    "**Steps to Set Up an Account on AWS, Azure, or GCP** "
   ]
  },
  {
   "cell_type": "markdown",
   "id": "a3711f11",
   "metadata": {},
   "source": [
    "**AWS:**\n",
    "\n",
    "![](https://docs.aws.amazon.com/images/whitepapers/latest/data-warehousing-on-aws/images/analytics-pipeline-aws.png)\n",
    "\n",
    "1. Visit the AWS website: [https://aws.amazon.com](https://aws.amazon.com).\n",
    "2. Click on **Create a Free Account**.\n",
    "3. Sign in with your **Amazon account** (or create one if you don't have one).\n",
    "4. Provide your **payment information** (AWS offers a free tier, but they still require payment details for verification purposes).\n",
    "5. Choose your **support plan** (Basic Support is free).\n",
    "6. Complete the **identity verification** via text message or phone call.\n",
    "7. Once your account is set up, you will be directed to the **AWS Management Console**, where you can start creating and managing cloud resources.\n",
    "\n",
    "- **AWS Management Console:**\n",
    "  - The AWS Console is a web-based interface for managing AWS services and resources.\n",
    "  - It provides a **user-friendly interface** where you can launch new instances, manage databases, monitor usage, and access detailed analytics for your cloud resources.\n",
    "  - The **AWS Resource Groups** feature lets you organize resources into logical groupings for easier management.\n",
    "\n",
    "**AWS Free Tier:**\n",
    "- **Free for 12 months** after signing up (some services are always free).\n",
    "- **Services included**: EC2 (750 hours/month of t2.micro instances), S3 (5GB standard storage), RDS (750 hours/month of db.t2.micro instances), and more.\n",
    "- Check AWS Free Tier details: [AWS Free Tier](https://aws.amazon.com/free/)"
   ]
  },
  {
   "cell_type": "markdown",
   "id": "300b3936",
   "metadata": {},
   "source": [
    "**Azure:**\n",
    "\n",
    "\n",
    "\n",
    "1. Go to the Azure website: [https://azure.microsoft.com](https://azure.microsoft.com).\n",
    "2. Click on **Start free** to create a new Azure account.\n",
    "3. Sign in with a **Microsoft account** (or create one if needed).\n",
    "4. Enter your **payment information** (Azure offers a **free tier** with limited services and a credit for new users).\n",
    "5. Verify your **identity** through a phone number and credit card (you won’t be charged unless you upgrade).\n",
    "6. After setup, you will be taken to the **Azure Portal**, where you can manage your cloud resources and services.\n",
    "\n",
    "- **Azure Portal:**\n",
    "  - The **Azure Portal** is a web-based application that provides a comprehensive view of your resources in the Azure cloud.\n",
    "  - You can monitor, configure, and manage all your Azure services from a single dashboard.\n",
    "  - The portal offers **customizable dashboards**, allowing you to track important metrics and manage your resources efficiently.\n",
    "\n",
    "**Azure Free Account:**\n",
    "- **$200 in credits** for the first 30 days, plus free access to over 25 services for 12 months.\n",
    "- **Free services**: Virtual machines, storage, and databases.\n",
    "- Check Azure Free Account details: [Azure Free Account](https://azure.microsoft.com/en-us/free/)"
   ]
  },
  {
   "cell_type": "markdown",
   "id": "8eb0e910",
   "metadata": {},
   "source": [
    "**Google Cloud Platform (GCP):**  [Learn More about GCP](https://www.geeksforgeeks.org/google-cloud-platform-gcp/#what-is-google-cloud-platform)\n",
    "\n",
    "![](https://k21academy.com/wp-content/uploads/2021/01/google-cloud-services.jpg)\n",
    "\n",
    "1. Visit the Google Cloud website: [https://cloud.google.com](https://cloud.google.com).\n",
    "2. Click on **Get Started for Free**.\n",
    "3. Sign in with your **Google account** (or create one if you don’t already have one).\n",
    "4. Enter your **payment information** (GCP offers $300 in free credits for the first 90 days, even if you don’t enter a billing account, you won’t be charged without explicit consent).\n",
    "5. Verify your **identity** via phone or email.\n",
    "6. Once your account is set up, you'll be directed to the **Google Cloud Console** to start using the services.\n",
    "\n",
    "- **Google Cloud Console:**\n",
    "  - The **Google Cloud Console** provides a **centralized interface** to manage and configure Google Cloud resources.\n",
    "  - It offers a wide range of services, including computing, storage, and machine learning.\n",
    "  - Google Cloud also provides **easy access** to billing, usage reports, and project management tools.\n",
    "\n",
    "**Google Cloud Free Tier:**\n",
    "- **$300 in credits** for new users for the first 90 days.\n",
    "- **Always Free**: Limited usage of Google Cloud services, including 1 f1-micro instance per month, 5GB of storage, and more.\n",
    "- Check GCP Free Tier details: [Google Cloud Free Tier](https://cloud.google.com/free)"
   ]
  },
  {
   "cell_type": "markdown",
   "id": "86dc1ebe",
   "metadata": {},
   "source": [
    "<div style=\"background-color: lightblue; color: black; padding: 4px;\">\n",
    "    <h4> Data Storage in the Cloud\n",
    "</h4> </div>"
   ]
  },
  {
   "cell_type": "markdown",
   "id": "736511d5",
   "metadata": {},
   "source": [
    "Each major cloud provider offers a storage service designed for a wide variety of use cases:\n",
    "\n",
    "- **AWS S3 (Simple Storage Service):**\n",
    "  - A highly scalable and durable object storage service.\n",
    "  - Ideal for **storing unstructured data** such as images, videos, and backups.\n",
    "  - Features include **lifecycle management**, versioning, and fine-grained access control.\n",
    "  - Pricing is based on storage type (e.g., Standard, Intelligent-Tiering) and data retrieval frequency.\n",
    "\n",
    "- **Azure Blob Storage:**\n",
    "  - A **high-performance object storage** service optimized for large-scale unstructured data.\n",
    "  - Offers integration with other Azure services, such as machine learning and analytics.\n",
    "  - Tiers include **Hot, Cool, and Archive**, catering to different storage needs based on access frequency.\n",
    "  - Supports features like **data encryption**, redundancy options, and shared access signatures for secure file sharing.\n",
    "\n",
    "- **GCP Cloud Storage:**\n",
    "  - A unified, object storage service with a focus on global accessibility and performance.\n",
    "  - Storage classes include **Standard, Nearline, Coldline, and Archive**, optimized for cost and access speed.\n",
    "  - Key features include **bucket-level management**, cross-region replication, and integrated analytics tools.\n",
    "  - Simplifies storage configuration with **user-friendly tools and APIs**.\n",
    "\n",
    "---"
   ]
  },
  {
   "cell_type": "markdown",
   "id": "a08901ba",
   "metadata": {},
   "source": [
    "**3. Hands-On Activity: Uploading and Managing Files in Cloud Storage**\n",
    "\n",
    "For this activity, we'll use a free-tier account on one of the platforms to upload and manage files. If you don't have an account, refer to the earlier section on account setup.\n",
    "\n",
    "**Step-by-Step Instructions:**\n",
    "\n",
    "**AWS S3:**\n",
    "1. Log into the AWS Management Console.\n",
    "2. Navigate to **S3** and create a new bucket.\n",
    "3. Configure bucket settings (e.g., name, region, access permissions).\n",
    "4. Click on the bucket and select **Upload** to add files.\n",
    "5. Explore options like versioning, public access settings, and lifecycle rules.\n",
    "\n",
    "**Azure Blob Storage:**\n",
    "1. Log into the Azure Portal.\n",
    "2. Create a new **Storage Account**.\n",
    "3. Navigate to **Containers** and create a container.\n",
    "4. Upload files to the container using the **Blob Storage Explorer**.\n",
    "5. Review the access policies and try generating a **shared access signature (SAS)**.\n",
    "\n",
    "**GCP Cloud Storage:**\n",
    "1. Log into the Google Cloud Console.\n",
    "2. Navigate to **Storage** and create a bucket.\n",
    "3. Set bucket-level options such as region and storage class.\n",
    "4. Use the **Upload Files** button to add data to the bucket.\n",
    "5. Experiment with managing bucket permissions and creating lifecycle rules.\n",
    "\n",
    "---"
   ]
  },
  {
   "cell_type": "markdown",
   "id": "aac5865a",
   "metadata": {},
   "source": [
    "<div style=\"background-color: lightblue; color: black; padding: 4px;\">\n",
    "    <h4> Data Analytics Services in the Cloud\n",
    "</h4> </div>"
   ]
  },
  {
   "cell_type": "markdown",
   "id": "204c037b",
   "metadata": {},
   "source": [
    "Cloud platforms provide powerful analytics services that enable users to process, analyze, and visualize large datasets efficiently. \n",
    "\n",
    "Here's an overview of the key analytics services offered by AWS, Azure, and GCP, along with an explanation of their capabilities.\n",
    "\n",
    "**1. Key Analytics Services**\n",
    "\n",
    "- **AWS Analytics Services:**\n",
    "  - **Athena:**  \n",
    "    - A serverless query service that allows users to analyze data stored in S3 using SQL.  \n",
    "    - Ideal for ad-hoc queries and quick data insights without setting up infrastructure.  \n",
    "    - Example use case: Running analytics on access logs stored in S3.\n",
    "\n",
    "  - **Glue:**  \n",
    "    - A fully managed **ETL (Extract, Transform, Load)** service for data preparation.  \n",
    "    - Automates schema discovery and transforms data for analytics applications.  \n",
    "    - Example use case: Preparing raw data in S3 for analysis in Redshift.  \n",
    "\n",
    "  - **Redshift:**  \n",
    "    - A fully managed, high-performance **data warehouse** for large-scale analytics.  \n",
    "    - Integrates with AWS services for seamless data movement.  \n",
    "    - Example use case: Storing and analyzing terabytes of e-commerce transaction data. "
   ]
  },
  {
   "cell_type": "markdown",
   "id": "fbfa119b",
   "metadata": {},
   "source": [
    "- **Azure Analytics Services:**\n",
    "  - **Synapse Analytics:**  \n",
    "    - Combines big data and data warehousing into a single service.  \n",
    "    - Supports SQL-based and Spark-based analytics workflows.  \n",
    "    - Example use case: Building a data pipeline for a retail company's sales data.\n",
    "\n",
    "  - **Data Factory:**  \n",
    "    - A cloud-based **data integration service** that orchestrates and automates data movement and transformation.  \n",
    "    - Example use case: Extracting data from on-premises databases to Azure Blob Storage for further analysis. "
   ]
  },
  {
   "cell_type": "markdown",
   "id": "6ef7a19b",
   "metadata": {},
   "source": [
    " - **GCP Analytics Services:**\n",
    "    - **BigQuery:**  \n",
    "      - A serverless, highly scalable **data warehouse** optimized for massive-scale analytics.  \n",
    "      - Supports standard SQL queries and integrates with popular visualization tools.  \n",
    "      - Example use case: Analyzing customer behavior data from a marketing campaign.\n",
    "\n",
    "    - **Dataflow:**  \n",
    "      - A fully managed service for **streaming and batch data processing**.  \n",
    "      - Ideal for real-time analytics and ETL workflows.  \n",
    "      - Example use case: Processing IoT sensor data for predictive maintenance.\n"
   ]
  },
  {
   "cell_type": "markdown",
   "id": "9ba29c29",
   "metadata": {},
   "source": [
    "---\n",
    "**2. How These Services Process Large Datasets Efficiently**\n",
    "\n",
    "Cloud analytics services are optimized for handling large datasets with speed and reliability. Here's how they achieve this:\n",
    "\n",
    "- **Scalability:**  \n",
    "  - Services like BigQuery and Redshift dynamically allocate resources to process massive datasets, ensuring performance remains consistent regardless of data size.  \n",
    "\n",
    "- **Distributed Processing:**  \n",
    "  - Tools like AWS Glue and Azure Synapse use distributed architectures to split tasks across multiple nodes, accelerating data transformations and computations.  \n",
    "\n",
    "- **Serverless Architecture:**  \n",
    "  - Services like Athena and BigQuery eliminate the need for infrastructure management, automatically scaling resources based on query demands.  \n",
    "\n",
    "- **Integration with Storage Services:**  \n",
    "  - These tools seamlessly integrate with cloud storage options (e.g., AWS S3, Azure Blob Storage, GCP Cloud Storage) to ensure smooth data retrieval and processing.  \n"
   ]
  },
  {
   "cell_type": "markdown",
   "id": "75558b44",
   "metadata": {},
   "source": []
  },
  {
   "cell_type": "markdown",
   "id": "b9b0d089",
   "metadata": {},
   "source": [
    "<div style=\"background-color: lightgreen; color: black; padding: 4px;\">\n",
    "    <h3>3. Advanced Tools for Cloud Analytics \n",
    "    </h3> </div>"
   ]
  },
  {
   "cell_type": "markdown",
   "id": "ebcfcccb",
   "metadata": {},
   "source": [
    "1. Integrating Big Data tools like Apache Spark with cloud platforms.  \n",
    "2. Addressing challenges and discussing best practices in cloud analytics.  \n",
    "3. Recap, group discussion, and Q&A to consolidate learning."
   ]
  },
  {
   "cell_type": "markdown",
   "id": "e5bc16da",
   "metadata": {},
   "source": [
    "\n",
    "**6. Integrating Cloud with Big Data Tools (20 min)**  \n",
    "- Using tools like Apache Spark and Hadoop with cloud platforms.  \n",
    "- Hands-on activity: Set up a basic Spark job using a cloud environment.  \n",
    "\n",
    "---\n",
    "\n",
    "**7. Challenges and Best Practices in Cloud Analytics (15 min)**  \n",
    "- Common challenges: Costs, security, and compliance.  \n",
    "- Best practices:  \n",
    "  - Monitoring and cost management.  \n",
    "  - Ensuring data privacy and governance. "
   ]
  },
  {
   "cell_type": "markdown",
   "id": "5cf6b263",
   "metadata": {},
   "source": [
    "<div style=\"background-color: lightblue; color: black; padding: 4px;\">\n",
    "    <h4> sub heading 1\n",
    "</h4> </div>"
   ]
  },
  {
   "cell_type": "markdown",
   "id": "a5373419",
   "metadata": {},
   "source": [
    "<div style=\"background-color: lightgreen; color: black; padding: 4px;\">\n",
    "    <h3>4. topi\n",
    "    </h3> </div>"
   ]
  },
  {
   "cell_type": "markdown",
   "id": "b95d7fbd",
   "metadata": {},
   "source": [
    "<div style=\"background-color: lightblue; color: black; padding: 4px;\">\n",
    "    <h4> sub heading 1\n",
    "</h4> </div>"
   ]
  },
  {
   "cell_type": "markdown",
   "id": "ca14dd0a",
   "metadata": {},
   "source": [
    "<div style=\"background-color: lightgreen; color: black; padding: 4px;\">\n",
    "    <h3>5. topi\n",
    "    </h3> </div>"
   ]
  },
  {
   "cell_type": "markdown",
   "id": "6e321b71",
   "metadata": {},
   "source": [
    "<div style=\"background-color: lightblue; color: black; padding: 4px;\">\n",
    "    <h4> sub heading 1\n",
    "</h4> </div>"
   ]
  },
  {
   "cell_type": "markdown",
   "id": "f2185430-3791-45df-824f-bdec6d7145e3",
   "metadata": {},
   "source": [
    "<div class=\"alert alert-block alert-warning\">\n",
    "    <b><font size=\"5\"> Live Exercise</font> </b>\n",
    "</div>\n",
    "\n",
    "<!--- Mohammad Idrees Bhat | Tech Skills Trainer | AI/ML Consultant --->"
   ]
  },
  {
   "cell_type": "markdown",
   "id": "bf8d61af-f3e8-4afc-a66b-3814e160aaf3",
   "metadata": {},
   "source": [
    "Now it's your turn!\n",
    "### Task 1: description of task\n",
    "\n",
    "    - instructions"
   ]
  },
  {
   "cell_type": "markdown",
   "id": "b69ed7ea-1940-434d-bb2d-601d07994783",
   "metadata": {},
   "source": [
    "<div style=\"background-color: lightblue; color: white; padding: 10px; text-align: center;\">\n",
    "    <h1>_________________________________END________________________________\n",
    "        <!--- Mohammad Idrees Bhat | Tech Skills Trainer | AI/ML Consultant --->\n",
    "</h1> </div>"
   ]
  },
  {
   "cell_type": "markdown",
   "id": "13e86481-eae2-4019-9515-66a43a30f0fb",
   "metadata": {},
   "source": [
    "<div style=\"background-color: #002147; color: #fff; padding: 30px; text-align: center;\">\n",
    "    <h1>THANK YOU!\n",
    "        <!--- Mohammad Idrees Bhat | Tech Skills Trainer | AI/ML Consultant --->\n",
    "</h1> </div>"
   ]
  },
  {
   "cell_type": "markdown",
   "id": "aefa2f04-f141-405d-8a9f-8cf186d66f41",
   "metadata": {},
   "source": [
    "<div style=\"background-color: lightgreen; color: black; padding: 30px;\">\n",
    "    <h4> Live Exercise Solutions\n",
    "        \n",
    "</h4> </div>"
   ]
  },
  {
   "cell_type": "code",
   "execution_count": null,
   "id": "f1f9ddd9-5558-4b1d-a3e7-04c3dca33b6d",
   "metadata": {},
   "outputs": [],
   "source": [
    "solutions"
   ]
  },
  {
   "cell_type": "markdown",
   "id": "36f2d487-56ef-4c22-a1c9-d25e9df33e37",
   "metadata": {},
   "source": [
    "<div class=\"alert alert-block alert-warning\"  padding: 10px; text-align: center;\">\n",
    "    <font size=\"3\"> Programming Interveiw Questions</font>\n",
    "</div>"
   ]
  },
  {
   "cell_type": "markdown",
   "id": "d4e08c3f-3e5b-46a6-9fbb-456cbd850553",
   "metadata": {},
   "source": [
    "1. topic:\n",
    "    - question"
   ]
  },
  {
   "cell_type": "code",
   "execution_count": null,
   "id": "ee2b86c1-64b0-4abd-8ba9-54746bdc9007",
   "metadata": {},
   "outputs": [],
   "source": []
  },
  {
   "cell_type": "markdown",
   "id": "5454f2e3-4fa4-48f9-936a-35be52d769af",
   "metadata": {},
   "source": [
    "<!--- Mohammad Idrees Bhat | Mohammad Idrees Bhat --->"
   ]
  },
  {
   "cell_type": "markdown",
   "id": "3e92ba4c-672c-4e9f-b842-2b2d9234e5ff",
   "metadata": {},
   "source": [
    "<h2 style=\"background-color: #ffe4e1; color: #2f4f4f; padding: 10px; border-radius: 10px; width: 350px; text-align: center; float: right; margin: 20px 0;\">\n",
    "    Mohammad Idrees Bhat<br>\n",
    "    <span style=\"font-size: 12px; color: #696969;\">\n",
    "        Tech Skills Trainer | AI/ML Consultant\n",
    "    </span>\n",
    "</h2>"
   ]
  },
  {
   "cell_type": "markdown",
   "id": "15cc27b3-58d0-431e-8121-f1b4c08377c7",
   "metadata": {},
   "source": [
    "<!--- Mohammad Idrees Bhat | Tech Skills Trainer | AI/ML Consultant --->"
   ]
  }
 ],
 "metadata": {
  "kernelspec": {
   "display_name": "Python 3 (ipykernel)",
   "language": "python",
   "name": "python3"
  },
  "language_info": {
   "codemirror_mode": {
    "name": "ipython",
    "version": 3
   },
   "file_extension": ".py",
   "mimetype": "text/x-python",
   "name": "python",
   "nbconvert_exporter": "python",
   "pygments_lexer": "ipython3",
   "version": "3.12.4"
  }
 },
 "nbformat": 4,
 "nbformat_minor": 5
}
