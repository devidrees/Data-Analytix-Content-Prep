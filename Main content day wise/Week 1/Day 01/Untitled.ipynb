{
 "cells": [
  {
   "cell_type": "markdown",
   "id": "68631973-975a-497e-b6ed-efe3d5934ba8",
   "metadata": {},
   "source": [
    "# Heading"
   ]
  },
  {
   "cell_type": "markdown",
   "id": "0ba2d824-915d-48c8-a2f9-765a3b769d49",
   "metadata": {},
   "source": [
    "Store a variable a"
   ]
  },
  {
   "cell_type": "code",
   "execution_count": null,
   "id": "b05702a6",
   "metadata": {},
   "outputs": [],
   "source": []
  },
  {
   "cell_type": "code",
   "execution_count": null,
   "id": "916b7761-8250-4f6f-9188-00ad1776512a",
   "metadata": {},
   "outputs": [],
   "source": [
    "a = 10\n",
    "a"
   ]
  },
  {
   "cell_type": "code",
   "execution_count": null,
   "id": "ebf85879-f09c-4c39-8b55-fe277fcc04b4",
   "metadata": {},
   "outputs": [],
   "source": [
    "# comment that line, this is a comment\n",
    "b = 20\n",
    "b"
   ]
  },
  {
   "cell_type": "code",
   "execution_count": null,
   "id": "767b56b8-d74b-482e-a3a8-0729834c1d86",
   "metadata": {},
   "outputs": [],
   "source": [
    "c = a + b"
   ]
  },
  {
   "cell_type": "code",
   "execution_count": null,
   "id": "e39ee46a-0eac-408c-ba4c-e02693a8b3a4",
   "metadata": {},
   "outputs": [],
   "source": [
    "# result \n",
    "c"
   ]
  },
  {
   "cell_type": "markdown",
   "id": "7041e34a-b8bf-4757-b937-bbcf644dedac",
   "metadata": {},
   "source": [
    "## Sub - Heading"
   ]
  },
  {
   "cell_type": "markdown",
   "id": "835cdbf1-8a7b-485e-92ff-ed34574ed59a",
   "metadata": {},
   "source": [
    "This is all the details that go there"
   ]
  },
  {
   "cell_type": "markdown",
   "id": "f230e258-feb1-4559-8986-a054e2d5254f",
   "metadata": {},
   "source": [
    "### Sub - Heading"
   ]
  },
  {
   "cell_type": "markdown",
   "id": "c1bb14b7-3c47-49de-818a-ea00d5edb778",
   "metadata": {},
   "source": [
    "This is all the details that go there"
   ]
  },
  {
   "cell_type": "markdown",
   "id": "7211fe10-efb7-4e8f-b708-59cd3839a9b1",
   "metadata": {},
   "source": [
    "#### Sub - Heading"
   ]
  },
  {
   "cell_type": "markdown",
   "id": "1bdbac48-cc52-4a95-a7d3-b4869e2694cc",
   "metadata": {},
   "source": [
    "This is all the details that go there"
   ]
  },
  {
   "cell_type": "markdown",
   "id": "c801d48a-058d-45d2-a361-fc8ba1a2a7a0",
   "metadata": {},
   "source": [
    "##### Sub - Heading"
   ]
  },
  {
   "cell_type": "markdown",
   "id": "bcf4da34-a199-474d-8f04-28c6166f5a67",
   "metadata": {},
   "source": [
    "This is all the details that go there"
   ]
  },
  {
   "cell_type": "markdown",
   "id": "df74741a-3941-47d2-b308-8612348a3fb0",
   "metadata": {},
   "source": [
    "<h1> This is html </h1>"
   ]
  },
  {
   "cell_type": "markdown",
   "id": "4b4372b5-ca2d-49b5-bd15-32e51bca7524",
   "metadata": {},
   "source": [
    "This is all the details that go there"
   ]
  },
  {
   "cell_type": "markdown",
   "id": "22bbb08a-aad2-46bd-ac17-6c91a4680c4e",
   "metadata": {},
   "source": [
    "<h1 style=\"color: red;\"   > This is html </h1>"
   ]
  },
  {
   "cell_type": "code",
   "execution_count": 1,
   "id": "a32d68ad-213c-4f56-9e6c-2e322cfda8b7",
   "metadata": {},
   "outputs": [],
   "source": [
    "import numpy as np"
   ]
  },
  {
   "cell_type": "code",
   "execution_count": null,
   "id": "fbd51ee3-a021-41d8-927e-1a3ab8e20063",
   "metadata": {},
   "outputs": [],
   "source": []
  }
 ],
 "metadata": {
  "kernelspec": {
   "display_name": "Python 3 (ipykernel)",
   "language": "python",
   "name": "python3"
  },
  "language_info": {
   "codemirror_mode": {
    "name": "ipython",
    "version": 3
   },
   "file_extension": ".py",
   "mimetype": "text/x-python",
   "name": "python",
   "nbconvert_exporter": "python",
   "pygments_lexer": "ipython3",
   "version": "3.12.4"
  }
 },
 "nbformat": 4,
 "nbformat_minor": 5
}
