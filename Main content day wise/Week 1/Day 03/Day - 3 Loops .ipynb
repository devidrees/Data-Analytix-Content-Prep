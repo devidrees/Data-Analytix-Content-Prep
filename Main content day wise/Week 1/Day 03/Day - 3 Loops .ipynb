{
 "cells": [
  {
   "cell_type": "markdown",
   "id": "6eaada78",
   "metadata": {},
   "source": [
    "# Python Conditions and Loops"
   ]
  },
  {
   "cell_type": "markdown",
   "id": "0a705f7e",
   "metadata": {},
   "source": [
    "## If-Else"
   ]
  },
  {
   "cell_type": "code",
   "execution_count": 8,
   "id": "58ecfe78",
   "metadata": {},
   "outputs": [
    {
     "name": "stdout",
     "output_type": "stream",
     "text": [
      "num1 is > num2\n"
     ]
    }
   ],
   "source": [
    "num1 = 13\n",
    "num2 = 4\n",
    "if num1 > num2:\n",
    "    print(\"num1 is > num2\")"
   ]
  },
  {
   "cell_type": "code",
   "execution_count": 11,
   "id": "e74214e1",
   "metadata": {},
   "outputs": [
    {
     "name": "stdout",
     "output_type": "stream",
     "text": [
      "13 is > 4\n"
     ]
    }
   ],
   "source": [
    "# Print output -> 13 is > 4\n",
    "num1 = 13\n",
    "num2 = 4\n",
    "if num1 > num2:\n",
    "    print(f\"{num1} is > {num2}\")"
   ]
  },
  {
   "cell_type": "code",
   "execution_count": 21,
   "id": "3c628d2b",
   "metadata": {},
   "outputs": [
    {
     "name": "stdout",
     "output_type": "stream",
     "text": [
      "13 is < 40\n"
     ]
    }
   ],
   "source": [
    "# Multiple conditions --> check  if num1 > num2 or[elseif - elif] num1 = num2 or num1 < num2\n",
    "num1 = 13\n",
    "num2 = 40\n",
    "if num1 > num2:\n",
    "    print(f\"{num1} is > {num2}\")\n",
    "elif num1 == num2:                  # = is assignment operator and == is comparison operator\n",
    "    print(f\"{num1} is = {num2}\")\n",
    "else:\n",
    "    print(f\"{num1} is < {num2}\")\n",
    "    "
   ]
  },
  {
   "cell_type": "code",
   "execution_count": 22,
   "id": "d38773ec",
   "metadata": {},
   "outputs": [
    {
     "name": "stdout",
     "output_type": "stream",
     "text": [
      "500 is < 800\n"
     ]
    }
   ],
   "source": [
    "# Ternary Operator\n",
    "num3 = 500\n",
    "num4 = 800\n",
    "num5 = 600\n",
    "print(f\"{num3} is > {num4}\") if num3 > num4 else print(f\"{num3} is < {num4}\")\n"
   ]
  },
  {
   "cell_type": "code",
   "execution_count": 23,
   "id": "26d0c06c",
   "metadata": {},
   "outputs": [
    {
     "ename": "SyntaxError",
     "evalue": "incomplete input (3298597039.py, line 8)",
     "output_type": "error",
     "traceback": [
      "\u001b[0;36m  Cell \u001b[0;32mIn[23], line 8\u001b[0;36m\u001b[0m\n\u001b[0;31m    \u001b[0m\n\u001b[0m    ^\u001b[0m\n\u001b[0;31mSyntaxError\u001b[0m\u001b[0;31m:\u001b[0m incomplete input\n"
     ]
    }
   ],
   "source": [
    "# Nested If num3>num4 and num3>num5\n",
    "grade = 3\n",
    "if grade > 1:\n",
    "    print(\"....\")\n",
    "    if grade < 5:\n",
    "         \n",
    "        \n",
    "\n"
   ]
  },
  {
   "cell_type": "markdown",
   "id": "ed84853b",
   "metadata": {},
   "source": [
    "# While Loop"
   ]
  },
  {
   "cell_type": "code",
   "execution_count": null,
   "id": "2d77d978",
   "metadata": {},
   "outputs": [],
   "source": [
    "while ()"
   ]
  }
 ],
 "metadata": {
  "kernelspec": {
   "display_name": "Python 3 (ipykernel)",
   "language": "python",
   "name": "python3"
  },
  "language_info": {
   "codemirror_mode": {
    "name": "ipython",
    "version": 3
   },
   "file_extension": ".py",
   "mimetype": "text/x-python",
   "name": "python",
   "nbconvert_exporter": "python",
   "pygments_lexer": "ipython3",
   "version": "3.11.5"
  }
 },
 "nbformat": 4,
 "nbformat_minor": 5
}
