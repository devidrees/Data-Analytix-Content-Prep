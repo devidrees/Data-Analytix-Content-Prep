{
 "cells": [
  {
   "cell_type": "markdown",
   "id": "7b93f800",
   "metadata": {},
   "source": [
    "# Python Data Types\n"
   ]
  },
  {
   "cell_type": "markdown",
   "id": "cef7b990",
   "metadata": {},
   "source": [
    "## Strings - Group of characters "
   ]
  },
  {
   "cell_type": "code",
   "execution_count": 10,
   "id": "c94132b4",
   "metadata": {},
   "outputs": [
    {
     "name": "stdout",
     "output_type": "stream",
     "text": [
      "Dev\n",
      "Dev\n"
     ]
    },
    {
     "data": {
      "text/plain": [
       "'Devashish'"
      ]
     },
     "execution_count": 10,
     "metadata": {},
     "output_type": "execute_result"
    }
   ],
   "source": [
    "# 'Devashish' is same as \"Devashish\"   \n",
    "# Devashish - not a string\n",
    "print(\"Dev\")\n",
    "print('Dev')\n",
    "\"Devashish\""
   ]
  },
  {
   "cell_type": "code",
   "execution_count": null,
   "id": "0d948fe1",
   "metadata": {},
   "outputs": [],
   "source": [
    "# Problem with Quotes\n",
    "print(\"I'm not done\")\n",
    "print(\"My name is 'Devashish'\")\n",
    "print('My name is \"Devashish\"')"
   ]
  },
  {
   "cell_type": "code",
   "execution_count": 21,
   "id": "8956ce42",
   "metadata": {},
   "outputs": [
    {
     "name": "stdout",
     "output_type": "stream",
     "text": [
      "M D\n",
      "!\n"
     ]
    }
   ],
   "source": [
    "name = \"Hello, My name is Devashish!\" # Index position of H \n",
    "# Is there any space before \"\"\n",
    "# print(name[0])# String is an array of Characters\n",
    "# print(name[7],name[18]) # M, will print nothing, comma, space, \n",
    "# print(name[18])\n"
   ]
  },
  {
   "cell_type": "code",
   "execution_count": 22,
   "id": "6b719752",
   "metadata": {},
   "outputs": [
    {
     "name": "stdout",
     "output_type": "stream",
     "text": [
      "28\n"
     ]
    }
   ],
   "source": [
    "print(len(name)) # len(name)"
   ]
  },
  {
   "cell_type": "code",
   "execution_count": null,
   "id": "b863d994",
   "metadata": {},
   "outputs": [],
   "source": [
    "# Q. Print two characters using index in the same line"
   ]
  },
  {
   "cell_type": "code",
   "execution_count": 24,
   "id": "708fb673",
   "metadata": {},
   "outputs": [
    {
     "name": "stdout",
     "output_type": "stream",
     "text": [
      "D\n",
      "e\n",
      "v\n",
      "a\n",
      "s\n",
      "h\n",
      "i\n",
      "s\n",
      "h\n"
     ]
    }
   ],
   "source": [
    "# Aim: To print individual characters of the given string\n",
    "# Concept - Loop --> for loop\n",
    "\n",
    "# Syntax - for is a keyword\n",
    "# Keyword: Keywords are words that have a predefined meaning in a programming language\n",
    "\n",
    "# for loop\n",
    "#for variable in string:\n",
    "#    print(variable)\n",
    "\n",
    "for iterator in \"Devashish\":\n",
    "    print(iterator)\n"
   ]
  },
  {
   "cell_type": "code",
   "execution_count": 25,
   "id": "a5c32f86",
   "metadata": {},
   "outputs": [
    {
     "name": "stdout",
     "output_type": "stream",
     "text": [
      "1\n",
      "2\n",
      "3\n",
      "4\n",
      "5\n",
      "6\n",
      "7\n",
      "8\n",
      "9\n",
      "10\n"
     ]
    }
   ],
   "source": [
    "# create a list of 10 numbers, print all numbers with the help of for loop\n",
    "\n",
    "num = [1, 2, 3, 4, 5, 6, 7, 8, 9, 10]\n",
    "for i in num:\n",
    "    print(i)\n"
   ]
  },
  {
   "cell_type": "code",
   "execution_count": 33,
   "id": "4ad9a8c4",
   "metadata": {},
   "outputs": [
    {
     "name": "stdout",
     "output_type": "stream",
     "text": [
      "No, not satisfied\n"
     ]
    }
   ],
   "source": [
    "statement = \"I am sad with the product\"    # not happy, happy but..., \n",
    "\n",
    "if \"happy\" in statement:\n",
    "    print(\"Yes, customer is satisfied\")\n",
    "else:\n",
    "    print(\"No, not satisfied\")"
   ]
  },
  {
   "cell_type": "code",
   "execution_count": 28,
   "id": "0130eb8c",
   "metadata": {},
   "outputs": [
    {
     "name": "stdout",
     "output_type": "stream",
     "text": [
      "False\n"
     ]
    }
   ],
   "source": [
    "statement = \"I am happy with the product\"\n",
    "print(\"happy\"  not in statement)"
   ]
  },
  {
   "cell_type": "markdown",
   "id": "5b128796",
   "metadata": {},
   "source": [
    "## Slicing"
   ]
  },
  {
   "cell_type": "code",
   "execution_count": 37,
   "id": "1f5f3157",
   "metadata": {},
   "outputs": [
    {
     "name": "stdout",
     "output_type": "stream",
     "text": [
      "shu Sub\n"
     ]
    }
   ],
   "source": [
    "name = \"Anshu Subedi\"\n",
    "print(name[2:9]) # values will be printed from 2 to n(9)-1"
   ]
  },
  {
   "cell_type": "code",
   "execution_count": 38,
   "id": "347b5424",
   "metadata": {},
   "outputs": [
    {
     "name": "stdout",
     "output_type": "stream",
     "text": [
      "Anshu Sub\n"
     ]
    }
   ],
   "source": [
    "print(name[:9])"
   ]
  },
  {
   "cell_type": "code",
   "execution_count": 39,
   "id": "5c88a182",
   "metadata": {},
   "outputs": [
    {
     "name": "stdout",
     "output_type": "stream",
     "text": [
      "shu Subedi\n"
     ]
    }
   ],
   "source": [
    "print(name[2:])"
   ]
  },
  {
   "cell_type": "code",
   "execution_count": 40,
   "id": "1b37d244",
   "metadata": {},
   "outputs": [
    {
     "name": "stdout",
     "output_type": "stream",
     "text": [
      "Anshu Subedi\n"
     ]
    }
   ],
   "source": [
    "print(name[:])"
   ]
  },
  {
   "cell_type": "code",
   "execution_count": 41,
   "id": "52932b9c",
   "metadata": {},
   "outputs": [
    {
     "name": "stdout",
     "output_type": "stream",
     "text": [
      "Anshu Subed\n"
     ]
    }
   ],
   "source": [
    "print(name[:-1]) "
   ]
  },
  {
   "cell_type": "code",
   "execution_count": 42,
   "id": "c332ad38",
   "metadata": {},
   "outputs": [
    {
     "name": "stdout",
     "output_type": "stream",
     "text": [
      "u Subed\n"
     ]
    }
   ],
   "source": [
    "print(name[-8:-1]) # ending index is ignored"
   ]
  },
  {
   "cell_type": "code",
   "execution_count": null,
   "id": "e0d0d926",
   "metadata": {},
   "outputs": [],
   "source": [
    "# Traversing from Left -> Right\n",
    "[0]A[1]n[2]s[3]h[4]u[5] [6]S[7]u[8]b[9]e[10]d[11]i\n",
    "\n",
    "# Traversing from  Right -> Left\n",
    "A[-12]n[-11]s[-10]h[-9]u[-8] [-7]S[-6]u[-5]b[-4]e[-3]d[-2]i[-1]\n"
   ]
  },
  {
   "cell_type": "code",
   "execution_count": 44,
   "id": "d001016b",
   "metadata": {},
   "outputs": [
    {
     "name": "stdout",
     "output_type": "stream",
     "text": [
      "VIPAN PARAJULI\n"
     ]
    }
   ],
   "source": [
    "name = \"Vipan Parajuli\"\n",
    "print(name.upper())"
   ]
  },
  {
   "cell_type": "code",
   "execution_count": 45,
   "id": "7c8ee4c6",
   "metadata": {},
   "outputs": [
    {
     "name": "stdout",
     "output_type": "stream",
     "text": [
      "vipan parajuli\n"
     ]
    }
   ],
   "source": [
    "print(name.lower())"
   ]
  },
  {
   "cell_type": "code",
   "execution_count": 50,
   "id": "f110b9b6",
   "metadata": {},
   "outputs": [
    {
     "name": "stdout",
     "output_type": "stream",
     "text": [
      "Vipan Parajuli\n"
     ]
    }
   ],
   "source": [
    "name = \" Vipan Parajuli\"\n",
    "print(name.strip())\n",
    "#name = name.strip()# \"Vipan Parajuli\""
   ]
  },
  {
   "cell_type": "code",
   "execution_count": 51,
   "id": "d2f27160",
   "metadata": {},
   "outputs": [
    {
     "data": {
      "text/plain": [
       "'Vipan Parajuli'"
      ]
     },
     "execution_count": 51,
     "metadata": {},
     "output_type": "execute_result"
    }
   ],
   "source": [
    "name"
   ]
  },
  {
   "cell_type": "code",
   "execution_count": 53,
   "id": "6b68a84d",
   "metadata": {},
   "outputs": [
    {
     "name": "stdout",
     "output_type": "stream",
     "text": [
      "Vipan Parajuli\n"
     ]
    }
   ],
   "source": [
    "name = \"Vipan Parajuli \"\n",
    "name\n",
    "print(name.strip())\n"
   ]
  },
  {
   "cell_type": "code",
   "execution_count": 56,
   "id": "3ec8257d",
   "metadata": {},
   "outputs": [
    {
     "name": "stdout",
     "output_type": "stream",
     "text": [
      "Vipan Parajuli\n"
     ]
    }
   ],
   "source": [
    "name = name.strip()\n",
    "print(name)"
   ]
  },
  {
   "cell_type": "code",
   "execution_count": 58,
   "id": "3c2f90ae",
   "metadata": {},
   "outputs": [
    {
     "data": {
      "text/plain": [
       "' Vipan Parajuli '"
      ]
     },
     "execution_count": 58,
     "metadata": {},
     "output_type": "execute_result"
    }
   ],
   "source": [
    "name = \" Vipan Parajuli \"\n",
    "name"
   ]
  },
  {
   "cell_type": "code",
   "execution_count": 60,
   "id": "df4bce98",
   "metadata": {},
   "outputs": [
    {
     "data": {
      "text/plain": [
       "'Vipan Parajuli'"
      ]
     },
     "execution_count": 60,
     "metadata": {},
     "output_type": "execute_result"
    }
   ],
   "source": [
    "name = name.strip()\n",
    "name"
   ]
  },
  {
   "cell_type": "code",
   "execution_count": 61,
   "id": "12042481",
   "metadata": {},
   "outputs": [],
   "source": [
    "name? # Significance of question mark"
   ]
  },
  {
   "cell_type": "code",
   "execution_count": null,
   "id": "7ce09c00",
   "metadata": {},
   "outputs": [],
   "source": [
    "# Removing space between words in string"
   ]
  },
  {
   "cell_type": "code",
   "execution_count": 63,
   "id": "4346af52",
   "metadata": {},
   "outputs": [
    {
     "data": {
      "text/plain": [
       "'Vipan Parajuli'"
      ]
     },
     "execution_count": 63,
     "metadata": {},
     "output_type": "execute_result"
    }
   ],
   "source": [
    "name"
   ]
  },
  {
   "cell_type": "code",
   "execution_count": 64,
   "id": "af6c4e7f",
   "metadata": {},
   "outputs": [],
   "source": [
    "updated_name = name.replace(\" \",\"\")"
   ]
  },
  {
   "cell_type": "code",
   "execution_count": 65,
   "id": "772540d7",
   "metadata": {},
   "outputs": [
    {
     "data": {
      "text/plain": [
       "'VipanParajuli'"
      ]
     },
     "execution_count": 65,
     "metadata": {},
     "output_type": "execute_result"
    }
   ],
   "source": [
    "updated_name"
   ]
  },
  {
   "cell_type": "code",
   "execution_count": 70,
   "id": "245751f4",
   "metadata": {},
   "outputs": [
    {
     "data": {
      "text/plain": [
       "'VipanParajule'"
      ]
     },
     "execution_count": 70,
     "metadata": {},
     "output_type": "execute_result"
    }
   ],
   "source": [
    "name = \" Vipan Parajule \"\n",
    "#updated_name = name.strip()\n",
    "#updated_name = updated_name.replace(\" \",\"\")\n",
    "\n",
    "updated_name = name.strip().replace(\" \",\"\")\n",
    "updated_name"
   ]
  },
  {
   "cell_type": "code",
   "execution_count": 78,
   "id": "1cb22236",
   "metadata": {},
   "outputs": [
    {
     "data": {
      "text/plain": [
       "['Independence',\n",
       " 'Day',\n",
       " '(also',\n",
       " 'promoted',\n",
       " 'as',\n",
       " 'ID4)',\n",
       " 'is',\n",
       " 'a',\n",
       " '1996',\n",
       " 'American',\n",
       " 'science',\n",
       " 'fiction',\n",
       " 'action',\n",
       " 'film[2][3]',\n",
       " 'directed',\n",
       " 'by',\n",
       " 'Roland',\n",
       " 'Emmerich,',\n",
       " 'written',\n",
       " 'by',\n",
       " 'Emmerich',\n",
       " 'and',\n",
       " 'the',\n",
       " \"film's\",\n",
       " 'producer',\n",
       " 'Dean',\n",
       " 'Devlin,',\n",
       " 'and',\n",
       " 'stars',\n",
       " 'an',\n",
       " 'ensemble',\n",
       " 'cast',\n",
       " 'that',\n",
       " 'consists',\n",
       " 'of',\n",
       " 'Will',\n",
       " 'Smith,',\n",
       " 'Bill',\n",
       " 'Pullman,',\n",
       " 'Jeff',\n",
       " 'Goldblum,',\n",
       " 'Mary',\n",
       " 'McDonnell,',\n",
       " 'Judd',\n",
       " 'Hirsch,',\n",
       " 'Margaret',\n",
       " 'Colin,',\n",
       " 'Randy',\n",
       " 'Quaid,',\n",
       " 'Robert',\n",
       " 'Loggia,',\n",
       " 'Vivica',\n",
       " 'A.',\n",
       " 'Fox,',\n",
       " 'James',\n",
       " 'Rebhorn,',\n",
       " 'and',\n",
       " 'Harvey',\n",
       " 'Fierstein.',\n",
       " 'The',\n",
       " 'film',\n",
       " 'focuses',\n",
       " 'on',\n",
       " 'disparate',\n",
       " 'groups',\n",
       " 'of',\n",
       " 'people',\n",
       " 'who',\n",
       " 'converge',\n",
       " 'in',\n",
       " 'the',\n",
       " 'Nevada',\n",
       " 'desert',\n",
       " 'in',\n",
       " 'the',\n",
       " 'aftermath',\n",
       " 'of',\n",
       " 'a',\n",
       " 'worldwide',\n",
       " 'attack',\n",
       " 'by',\n",
       " 'a',\n",
       " 'powerful',\n",
       " 'extraterrestrial',\n",
       " 'race.',\n",
       " 'With',\n",
       " 'the',\n",
       " 'other',\n",
       " 'people',\n",
       " 'of',\n",
       " 'the',\n",
       " 'world,',\n",
       " 'they',\n",
       " 'launch',\n",
       " 'a',\n",
       " 'counterattack',\n",
       " 'on',\n",
       " 'July',\n",
       " '4—Independence',\n",
       " 'Day',\n",
       " 'in',\n",
       " 'the',\n",
       " 'United',\n",
       " 'States.',\n",
       " '']"
      ]
     },
     "execution_count": 78,
     "metadata": {},
     "output_type": "execute_result"
    }
   ],
   "source": [
    "name3 = \"Independence Day (also promoted as ID4) is a 1996 American science fiction action film[2][3] directed by Roland Emmerich, written by Emmerich and the film's producer Dean Devlin, and stars an ensemble cast that consists of Will Smith, Bill Pullman, Jeff Goldblum, Mary McDonnell, Judd Hirsch, Margaret Colin, Randy Quaid, Robert Loggia, Vivica A. Fox, James Rebhorn, and Harvey Fierstein. The film focuses on disparate groups of people who converge in the Nevada desert in the aftermath of a worldwide attack by a powerful extraterrestrial race. With the other people of the world, they launch a counterattack on July 4—Independence Day in the United States. \"\n",
    "name3.split(\" \")\n"
   ]
  },
  {
   "cell_type": "code",
   "execution_count": 81,
   "id": "49183900",
   "metadata": {},
   "outputs": [
    {
     "data": {
      "text/plain": [
       "'Nigam Koirala'"
      ]
     },
     "execution_count": 81,
     "metadata": {},
     "output_type": "execute_result"
    }
   ],
   "source": [
    "firstName = \"Nigam\"\n",
    "lastName = \"Koirala\"\n",
    "name = firstName+\" \"+lastName\n",
    "name"
   ]
  },
  {
   "cell_type": "code",
   "execution_count": 85,
   "id": "bb55a9e4",
   "metadata": {},
   "outputs": [
    {
     "data": {
      "text/plain": [
       "'My name is Nigam Koirala and my bank Balance is 23456790.34'"
      ]
     },
     "execution_count": 85,
     "metadata": {},
     "output_type": "execute_result"
    }
   ],
   "source": [
    "# F-String\n",
    "bankBalance = 23456790.342545\n",
    "sentence = f\"My name is Nigam Koirala and my bank Balance is {bankBalance:.2f}\"\n",
    "sentence"
   ]
  },
  {
   "cell_type": "code",
   "execution_count": null,
   "id": "3f6f6985",
   "metadata": {},
   "outputs": [],
   "source": [
    "# methods\n",
    ".strip()\n",
    ".replace()"
   ]
  },
  {
   "cell_type": "code",
   "execution_count": null,
   "id": "609072e8",
   "metadata": {},
   "outputs": [],
   "source": []
  }
 ],
 "metadata": {
  "kernelspec": {
   "display_name": "Python 3 (ipykernel)",
   "language": "python",
   "name": "python3"
  },
  "language_info": {
   "codemirror_mode": {
    "name": "ipython",
    "version": 3
   },
   "file_extension": ".py",
   "mimetype": "text/x-python",
   "name": "python",
   "nbconvert_exporter": "python",
   "pygments_lexer": "ipython3",
   "version": "3.11.5"
  }
 },
 "nbformat": 4,
 "nbformat_minor": 5
}
