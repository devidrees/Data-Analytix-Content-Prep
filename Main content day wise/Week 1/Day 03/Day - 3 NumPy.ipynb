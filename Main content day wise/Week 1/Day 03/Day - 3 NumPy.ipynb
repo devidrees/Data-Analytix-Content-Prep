{
 "cells": [
  {
   "cell_type": "markdown",
   "id": "4dd57045",
   "metadata": {},
   "source": [
    "## NumPy (Numerical Python) \n",
    "\n",
    "- Is an open source Python library(collection of code that makes tasks more easy) that’s widely used in science and engineering. \n",
    "\n",
    "- The NumPy library contains multidimensional array data structures, such as the homogeneous, N-dimensional ndarray, and a large library of functions that operate efficiently on these data structures."
   ]
  },
  {
   "cell_type": "markdown",
   "id": "52d71aae",
   "metadata": {},
   "source": [
    "# Check if pip is installed \n",
    "pip --version\n",
    "\n",
    "\n",
    "# how to install pip?\n",
    "Windows: py get-pip.py  || py -m pip install --upgrade pip\n",
    "\n",
    "\n",
    "# how to install numpy library?\n",
    "pip install numpy --> terminal\n",
    "\n",
    "\"\"\"\n",
    "pip is the package installer for Python. You can use pip to install packages from the Python Package Index and other indexes.\n",
    "\n",
    "\"\"\"\n",
    "\n",
    "# how to import libraries in python?\n",
    "import numpy as np"
   ]
  },
  {
   "cell_type": "code",
   "execution_count": 1,
   "id": "859f0d9c",
   "metadata": {},
   "outputs": [],
   "source": [
    "import numpy as np # as is alias"
   ]
  },
  {
   "cell_type": "code",
   "execution_count": 2,
   "id": "910876bb",
   "metadata": {},
   "outputs": [],
   "source": [
    "# When to use numpy?\n",
    "# NumPy shines when there are large quantities of “homogeneous” (same-type) data to be processed on the CPU.\n"
   ]
  },
  {
   "cell_type": "code",
   "execution_count": 3,
   "id": "b4b80136",
   "metadata": {},
   "outputs": [
    {
     "data": {
      "text/plain": [
       "[1, 2, 3, 5, 6, 'Dev', 3.0]"
      ]
     },
     "execution_count": 3,
     "metadata": {},
     "output_type": "execute_result"
    }
   ],
   "source": [
    "lists = [1,2,3,5,6,\"Dev\",3.0]\n",
    "lists"
   ]
  },
  {
   "cell_type": "code",
   "execution_count": 4,
   "id": "1bba1fe9",
   "metadata": {},
   "outputs": [
    {
     "data": {
      "text/plain": [
       "array(['1', '2', '3', '4', '5', '6', 'Dev', '4', '5', '12', '123'],\n",
       "      dtype='<U21')"
      ]
     },
     "execution_count": 4,
     "metadata": {},
     "output_type": "execute_result"
    }
   ],
   "source": [
    "# Numpy Array\n",
    "nparray = np.array([1,2,3,4,5,6,\"Dev\", 4,5,12, 123]) \n",
    "nparray\n",
    "\n",
    "# U21 - Unicode 21 Numpy type"
   ]
  },
  {
   "cell_type": "code",
   "execution_count": 5,
   "id": "fd782ada",
   "metadata": {},
   "outputs": [
    {
     "data": {
      "text/plain": [
       "'1'"
      ]
     },
     "execution_count": 5,
     "metadata": {},
     "output_type": "execute_result"
    }
   ],
   "source": [
    "nparray[0]"
   ]
  },
  {
   "cell_type": "code",
   "execution_count": 6,
   "id": "e7f8fea3",
   "metadata": {},
   "outputs": [
    {
     "data": {
      "text/plain": [
       "'4'"
      ]
     },
     "execution_count": 6,
     "metadata": {},
     "output_type": "execute_result"
    }
   ],
   "source": [
    "nparray[7]"
   ]
  },
  {
   "cell_type": "code",
   "execution_count": 7,
   "id": "4c36cf7e",
   "metadata": {},
   "outputs": [
    {
     "data": {
      "text/plain": [
       "array(['1', '2', '3', '4', '5', '6'], dtype='<U21')"
      ]
     },
     "execution_count": 7,
     "metadata": {},
     "output_type": "execute_result"
    }
   ],
   "source": [
    "nparray[:6] # Starts from 0 and goes till (6-1)"
   ]
  },
  {
   "cell_type": "code",
   "execution_count": 8,
   "id": "afa754b1",
   "metadata": {},
   "outputs": [
    {
     "data": {
      "text/plain": [
       "array(['30', '2', '3', '4', '5', '6', 'Dev', '4', '5', '12', '123'],\n",
       "      dtype='<U21')"
      ]
     },
     "execution_count": 8,
     "metadata": {},
     "output_type": "execute_result"
    }
   ],
   "source": [
    "nparray[0] = 30\n",
    "nparray"
   ]
  },
  {
   "cell_type": "code",
   "execution_count": 9,
   "id": "bc3e20ce",
   "metadata": {},
   "outputs": [],
   "source": [
    "nparray = np.array([1,2,3,4,5,6,7,8,9])"
   ]
  },
  {
   "cell_type": "code",
   "execution_count": 10,
   "id": "77f253a7",
   "metadata": {},
   "outputs": [
    {
     "data": {
      "text/plain": [
       "array([1, 2, 3, 4, 5, 6, 7, 8, 9])"
      ]
     },
     "execution_count": 10,
     "metadata": {},
     "output_type": "execute_result"
    }
   ],
   "source": [
    "nparray"
   ]
  },
  {
   "cell_type": "code",
   "execution_count": 11,
   "id": "f152e12f",
   "metadata": {},
   "outputs": [
    {
     "data": {
      "text/plain": [
       "numpy.ndarray"
      ]
     },
     "execution_count": 11,
     "metadata": {},
     "output_type": "execute_result"
    }
   ],
   "source": [
    "type(nparray)"
   ]
  },
  {
   "cell_type": "code",
   "execution_count": 12,
   "id": "bd129f48",
   "metadata": {},
   "outputs": [],
   "source": [
    "# List Vs numpyarray\n",
    "# Convert list l = [1,2,3,4,5,6,7,8] into numpy array\n",
    "l = [1,2,3,4,5,6,7,8]\n",
    "ndarray = np.array([1,2,3,4,5,6,7,8])"
   ]
  },
  {
   "cell_type": "code",
   "execution_count": 13,
   "id": "e7428827",
   "metadata": {},
   "outputs": [
    {
     "data": {
      "text/plain": [
       "array([1, 2, 3, 4, 5, 6, 7, 8])"
      ]
     },
     "execution_count": 13,
     "metadata": {},
     "output_type": "execute_result"
    }
   ],
   "source": [
    "ndarray"
   ]
  },
  {
   "cell_type": "code",
   "execution_count": 14,
   "id": "6a2177f4",
   "metadata": {},
   "outputs": [
    {
     "data": {
      "text/plain": [
       "numpy.ndarray"
      ]
     },
     "execution_count": 14,
     "metadata": {},
     "output_type": "execute_result"
    }
   ],
   "source": [
    "type(ndarray)"
   ]
  },
  {
   "cell_type": "code",
   "execution_count": 15,
   "id": "29132457",
   "metadata": {},
   "outputs": [
    {
     "data": {
      "text/plain": [
       "1"
      ]
     },
     "execution_count": 15,
     "metadata": {},
     "output_type": "execute_result"
    }
   ],
   "source": [
    "# ndim - number of dimensions\n",
    "ndarray.ndim"
   ]
  },
  {
   "cell_type": "code",
   "execution_count": 16,
   "id": "42ffb6d5",
   "metadata": {},
   "outputs": [
    {
     "data": {
      "text/plain": [
       "(8,)"
      ]
     },
     "execution_count": 16,
     "metadata": {},
     "output_type": "execute_result"
    }
   ],
   "source": [
    "#shape - shape of the numpy array\n",
    "ndarray.shape"
   ]
  },
  {
   "cell_type": "code",
   "execution_count": 17,
   "id": "f8692135",
   "metadata": {},
   "outputs": [
    {
     "data": {
      "text/plain": [
       "8"
      ]
     },
     "execution_count": 17,
     "metadata": {},
     "output_type": "execute_result"
    }
   ],
   "source": [
    "# size\n",
    "ndarray.size"
   ]
  },
  {
   "cell_type": "code",
   "execution_count": 18,
   "id": "04463d3f",
   "metadata": {},
   "outputs": [
    {
     "data": {
      "text/plain": [
       "dtype('int64')"
      ]
     },
     "execution_count": 18,
     "metadata": {},
     "output_type": "execute_result"
    }
   ],
   "source": [
    "ndarray.dtype"
   ]
  },
  {
   "cell_type": "code",
   "execution_count": 19,
   "id": "516d837c",
   "metadata": {},
   "outputs": [
    {
     "data": {
      "text/plain": [
       "[1, 2, 3, 4, 5]"
      ]
     },
     "execution_count": 19,
     "metadata": {},
     "output_type": "execute_result"
    }
   ],
   "source": [
    "#1-D Vs 2-D lists \n",
    "lists = [1,2,3,4,5]\n",
    "list2 = [[1,2,3,4,5],[6,7,8,9,10]]\n",
    "lists\n",
    "#list2"
   ]
  },
  {
   "cell_type": "code",
   "execution_count": 20,
   "id": "41e5e790",
   "metadata": {},
   "outputs": [],
   "source": [
    "# 2-D numpy array\n",
    "ndarray2 = np.array([[1,2,3,4,5],[6,7,8,9,10],[11,12,13,14,15]])"
   ]
  },
  {
   "cell_type": "code",
   "execution_count": 21,
   "id": "beee47f5",
   "metadata": {},
   "outputs": [
    {
     "data": {
      "text/plain": [
       "array([[ 1,  2,  3,  4,  5],\n",
       "       [ 6,  7,  8,  9, 10],\n",
       "       [11, 12, 13, 14, 15]])"
      ]
     },
     "execution_count": 21,
     "metadata": {},
     "output_type": "execute_result"
    }
   ],
   "source": [
    "ndarray2"
   ]
  },
  {
   "cell_type": "code",
   "execution_count": 22,
   "id": "e7fca3e6",
   "metadata": {},
   "outputs": [
    {
     "data": {
      "text/plain": [
       "2"
      ]
     },
     "execution_count": 22,
     "metadata": {},
     "output_type": "execute_result"
    }
   ],
   "source": [
    "ndarray2.ndim"
   ]
  },
  {
   "cell_type": "code",
   "execution_count": 23,
   "id": "d10559ac",
   "metadata": {},
   "outputs": [
    {
     "data": {
      "text/plain": [
       "15"
      ]
     },
     "execution_count": 23,
     "metadata": {},
     "output_type": "execute_result"
    }
   ],
   "source": [
    "ndarray2.size"
   ]
  },
  {
   "cell_type": "code",
   "execution_count": 24,
   "id": "c506c41f",
   "metadata": {},
   "outputs": [
    {
     "data": {
      "text/plain": [
       "(3, 5)"
      ]
     },
     "execution_count": 24,
     "metadata": {},
     "output_type": "execute_result"
    }
   ],
   "source": [
    "ndarray2.shape"
   ]
  },
  {
   "cell_type": "code",
   "execution_count": 25,
   "id": "fff038f3",
   "metadata": {},
   "outputs": [
    {
     "data": {
      "text/plain": [
       "dtype('int64')"
      ]
     },
     "execution_count": 25,
     "metadata": {},
     "output_type": "execute_result"
    }
   ],
   "source": [
    "ndarray2.dtype"
   ]
  },
  {
   "cell_type": "markdown",
   "id": "061e45c8",
   "metadata": {},
   "source": [
    "### Scenarios"
   ]
  },
  {
   "cell_type": "code",
   "execution_count": 26,
   "id": "80b2f59e",
   "metadata": {},
   "outputs": [
    {
     "data": {
      "text/plain": [
       "array([0., 0., 0., 0., 0., 0., 0., 0., 0.])"
      ]
     },
     "execution_count": 26,
     "metadata": {},
     "output_type": "execute_result"
    }
   ],
   "source": [
    "# Create a array of all zeros\n",
    "np.zeros(9)"
   ]
  },
  {
   "cell_type": "code",
   "execution_count": 27,
   "id": "ae29696c",
   "metadata": {},
   "outputs": [
    {
     "data": {
      "text/plain": [
       "array([1., 1., 1., 1., 1., 1., 1., 1., 1.])"
      ]
     },
     "execution_count": 27,
     "metadata": {},
     "output_type": "execute_result"
    }
   ],
   "source": [
    "# Create a array of all one's\n",
    "np.ones(9)"
   ]
  },
  {
   "cell_type": "code",
   "execution_count": 28,
   "id": "6151f27e",
   "metadata": {},
   "outputs": [
    {
     "data": {
      "text/plain": [
       "array([1., 1., 1., 1., 1., 1., 1., 1., 1.])"
      ]
     },
     "execution_count": 28,
     "metadata": {},
     "output_type": "execute_result"
    }
   ],
   "source": [
    "# Create an empty array \n",
    "np.empty(9)\n",
    "\n",
    "# Problem --> "
   ]
  },
  {
   "cell_type": "code",
   "execution_count": 29,
   "id": "930ff127",
   "metadata": {},
   "outputs": [
    {
     "data": {
      "text/plain": [
       "array([ 0,  2,  4,  6,  8, 10, 12, 14, 16, 18, 20, 22, 24, 26, 28, 30, 32,\n",
       "       34, 36, 38, 40, 42, 44, 46, 48])"
      ]
     },
     "execution_count": 29,
     "metadata": {},
     "output_type": "execute_result"
    }
   ],
   "source": [
    "# Create a array of evenly spaced intervals elements\n",
    "np.arange(0,50,2)"
   ]
  },
  {
   "cell_type": "code",
   "execution_count": 30,
   "id": "a8526c95",
   "metadata": {},
   "outputs": [
    {
     "data": {
      "text/plain": [
       "array([ 0.,  4.,  8., 12., 16., 20.])"
      ]
     },
     "execution_count": 30,
     "metadata": {},
     "output_type": "execute_result"
    }
   ],
   "source": [
    "# Create an array with values that are spaced linearly in a specified interval\n",
    "np.linspace(0, 20, num=6)"
   ]
  },
  {
   "cell_type": "code",
   "execution_count": 31,
   "id": "31e95ec3",
   "metadata": {},
   "outputs": [],
   "source": [
    "ndarray3 = np.array([34,56,43,23,45,87,89])"
   ]
  },
  {
   "cell_type": "code",
   "execution_count": 32,
   "id": "df121f97",
   "metadata": {},
   "outputs": [
    {
     "data": {
      "text/plain": [
       "array([34, 56, 43, 23, 45, 87, 89])"
      ]
     },
     "execution_count": 32,
     "metadata": {},
     "output_type": "execute_result"
    }
   ],
   "source": [
    "ndarray3"
   ]
  },
  {
   "cell_type": "code",
   "execution_count": 33,
   "id": "6f246bc4",
   "metadata": {},
   "outputs": [
    {
     "data": {
      "text/plain": [
       "array([23, 34, 43, 45, 56, 87, 89])"
      ]
     },
     "execution_count": 33,
     "metadata": {},
     "output_type": "execute_result"
    }
   ],
   "source": [
    "np.sort(ndarray3) # default - ascending\n",
    "# Descending Order"
   ]
  },
  {
   "cell_type": "code",
   "execution_count": 34,
   "id": "808bbdde",
   "metadata": {},
   "outputs": [],
   "source": [
    "# Descending Order"
   ]
  },
  {
   "cell_type": "code",
   "execution_count": 35,
   "id": "0e3b8825",
   "metadata": {},
   "outputs": [
    {
     "data": {
      "text/plain": [
       "array([[ 6,  7, 21],\n",
       "       [ 8,  9, 10]])"
      ]
     },
     "execution_count": 35,
     "metadata": {},
     "output_type": "execute_result"
    }
   ],
   "source": [
    "# Create two numpy arrays nd1 and nd2\n",
    "nd1 = np.array([[1,2,31],[3,4,5]])\n",
    "nd2 = np.array([[6,7,21],[8,9,10]])\n",
    "nd2\n"
   ]
  },
  {
   "cell_type": "code",
   "execution_count": 36,
   "id": "fbfce43a",
   "metadata": {},
   "outputs": [
    {
     "data": {
      "text/plain": [
       "array([[ 1,  2, 31],\n",
       "       [ 3,  4,  5],\n",
       "       [ 6,  7, 21],\n",
       "       [ 8,  9, 10]])"
      ]
     },
     "execution_count": 36,
     "metadata": {},
     "output_type": "execute_result"
    }
   ],
   "source": [
    "# axis=0 means rows - horizontal                        rows and coloumns\n",
    "np.concatenate((nd1,nd2), axis = 0)"
   ]
  },
  {
   "cell_type": "code",
   "execution_count": 37,
   "id": "bbd1c8dd",
   "metadata": {},
   "outputs": [
    {
     "data": {
      "text/plain": [
       "array([[ 1,  2, 31,  6,  7, 21],\n",
       "       [ 3,  4,  5,  8,  9, 10]])"
      ]
     },
     "execution_count": 37,
     "metadata": {},
     "output_type": "execute_result"
    }
   ],
   "source": [
    "# axis=1 means coloumns - vertical\n",
    "\n",
    "#nd1 = np.array([[1,2,31],[3,4,5]])\n",
    "#nd2 = np.array([[6,7,21],[8,9,10]])\n",
    "\n",
    "np.concatenate((nd1,nd2), axis = 1)"
   ]
  },
  {
   "cell_type": "code",
   "execution_count": 38,
   "id": "1ad4d139",
   "metadata": {},
   "outputs": [],
   "source": [
    "# Can you convert 1-D into 2-D arrays or vise-a-versa\n",
    "nd1 = np.array([1,2,31,3,4,5])"
   ]
  },
  {
   "cell_type": "code",
   "execution_count": 39,
   "id": "5eeab7d9",
   "metadata": {},
   "outputs": [
    {
     "data": {
      "text/plain": [
       "array([ 1,  2, 31,  3,  4,  5])"
      ]
     },
     "execution_count": 39,
     "metadata": {},
     "output_type": "execute_result"
    }
   ],
   "source": [
    "nd1"
   ]
  },
  {
   "cell_type": "code",
   "execution_count": 40,
   "id": "36ef9ba4",
   "metadata": {},
   "outputs": [
    {
     "data": {
      "text/plain": [
       "array([[ 1,  2],\n",
       "       [31,  3],\n",
       "       [ 4,  5]])"
      ]
     },
     "execution_count": 40,
     "metadata": {},
     "output_type": "execute_result"
    }
   ],
   "source": [
    "nd1.reshape(3,2)"
   ]
  },
  {
   "cell_type": "code",
   "execution_count": 41,
   "id": "cab3c621",
   "metadata": {},
   "outputs": [
    {
     "data": {
      "text/plain": [
       "array([[ 1,  2, 31],\n",
       "       [ 3,  4,  5]])"
      ]
     },
     "execution_count": 41,
     "metadata": {},
     "output_type": "execute_result"
    }
   ],
   "source": [
    "nd1.reshape(2,3)"
   ]
  },
  {
   "cell_type": "code",
   "execution_count": 42,
   "id": "80d655d7",
   "metadata": {},
   "outputs": [
    {
     "data": {
      "text/plain": [
       "array([[ 1],\n",
       "       [ 2],\n",
       "       [31],\n",
       "       [ 3],\n",
       "       [ 4],\n",
       "       [ 5]])"
      ]
     },
     "execution_count": 42,
     "metadata": {},
     "output_type": "execute_result"
    }
   ],
   "source": [
    "nd1.reshape(6,1)"
   ]
  },
  {
   "cell_type": "code",
   "execution_count": 43,
   "id": "49f57fc7",
   "metadata": {},
   "outputs": [
    {
     "data": {
      "text/plain": [
       "array([ 1,  2, 31,  3,  4,  5])"
      ]
     },
     "execution_count": 43,
     "metadata": {},
     "output_type": "execute_result"
    }
   ],
   "source": [
    "nd1 = np.array([1,2,31,3,4,5])\n",
    "nd1[:]"
   ]
  },
  {
   "cell_type": "code",
   "execution_count": 44,
   "id": "3a9a30d6",
   "metadata": {},
   "outputs": [
    {
     "data": {
      "text/plain": [
       "array([ 1,  2, 31])"
      ]
     },
     "execution_count": 44,
     "metadata": {},
     "output_type": "execute_result"
    }
   ],
   "source": [
    "nd1[:3]"
   ]
  },
  {
   "cell_type": "code",
   "execution_count": 45,
   "id": "eeb4578f",
   "metadata": {},
   "outputs": [
    {
     "data": {
      "text/plain": [
       "array([3, 4, 5])"
      ]
     },
     "execution_count": 45,
     "metadata": {},
     "output_type": "execute_result"
    }
   ],
   "source": [
    "nd1[3:]"
   ]
  },
  {
   "cell_type": "code",
   "execution_count": 46,
   "id": "d92212e5",
   "metadata": {},
   "outputs": [
    {
     "data": {
      "text/plain": [
       "array([4, 5])"
      ]
     },
     "execution_count": 46,
     "metadata": {},
     "output_type": "execute_result"
    }
   ],
   "source": [
    "nd1[-2:]"
   ]
  },
  {
   "cell_type": "code",
   "execution_count": 47,
   "id": "09492cfd",
   "metadata": {},
   "outputs": [
    {
     "data": {
      "text/plain": [
       "[array([ True,  True, False,  True,  True,  True])]"
      ]
     },
     "execution_count": 47,
     "metadata": {},
     "output_type": "execute_result"
    }
   ],
   "source": [
    "# nd1 = np.array([1,2,31,3,4,5])\n",
    "\n",
    "[nd1<8]"
   ]
  },
  {
   "cell_type": "code",
   "execution_count": 51,
   "id": "68616a86",
   "metadata": {},
   "outputs": [],
   "source": [
    "nd2 = np.array([0,1,2,31,3,4,5])"
   ]
  },
  {
   "cell_type": "code",
   "execution_count": 52,
   "id": "d2f712c4",
   "metadata": {},
   "outputs": [
    {
     "data": {
      "text/plain": [
       "array([ 0,  1,  2, 31,  3,  4,  5])"
      ]
     },
     "execution_count": 52,
     "metadata": {},
     "output_type": "execute_result"
    }
   ],
   "source": [
    "nd2"
   ]
  },
  {
   "cell_type": "code",
   "execution_count": 53,
   "id": "a05217a9",
   "metadata": {},
   "outputs": [
    {
     "data": {
      "text/plain": [
       "(array([1, 2, 3, 4, 5, 6]),)"
      ]
     },
     "execution_count": 53,
     "metadata": {},
     "output_type": "execute_result"
    }
   ],
   "source": [
    "# Check this---\n",
    "nd2.nonzero()"
   ]
  },
  {
   "cell_type": "code",
   "execution_count": 57,
   "id": "979f3edb",
   "metadata": {},
   "outputs": [],
   "source": [
    "nd3 = np.array([0,1,2,3,54])"
   ]
  },
  {
   "cell_type": "code",
   "execution_count": 58,
   "id": "16e817c2",
   "metadata": {},
   "outputs": [
    {
     "data": {
      "text/plain": [
       "array([ 0,  1,  2,  3, 54])"
      ]
     },
     "execution_count": 58,
     "metadata": {},
     "output_type": "execute_result"
    }
   ],
   "source": [
    "nd3"
   ]
  },
  {
   "cell_type": "code",
   "execution_count": 59,
   "id": "3bc33fb7",
   "metadata": {},
   "outputs": [
    {
     "data": {
      "text/plain": [
       "(array([1, 2, 3, 4]),)"
      ]
     },
     "execution_count": 59,
     "metadata": {},
     "output_type": "execute_result"
    }
   ],
   "source": [
    "nd3.nonzero()"
   ]
  },
  {
   "cell_type": "code",
   "execution_count": 60,
   "id": "c4d16559",
   "metadata": {},
   "outputs": [
    {
     "data": {
      "text/plain": [
       "array([ 0,  1,  2,  3, 54])"
      ]
     },
     "execution_count": 60,
     "metadata": {},
     "output_type": "execute_result"
    }
   ],
   "source": [
    "nd3"
   ]
  },
  {
   "cell_type": "code",
   "execution_count": 67,
   "id": "071b279a",
   "metadata": {},
   "outputs": [
    {
     "data": {
      "text/plain": [
       "array([  0,   4,   8,  12, 216])"
      ]
     },
     "execution_count": 67,
     "metadata": {},
     "output_type": "execute_result"
    }
   ],
   "source": [
    "nd3=nd3*2\n",
    "nd3"
   ]
  },
  {
   "cell_type": "code",
   "execution_count": 62,
   "id": "fc7a4bc7",
   "metadata": {},
   "outputs": [
    {
     "data": {
      "text/plain": [
       "0"
      ]
     },
     "execution_count": 62,
     "metadata": {},
     "output_type": "execute_result"
    }
   ],
   "source": [
    "nd3.min()"
   ]
  },
  {
   "cell_type": "code",
   "execution_count": 63,
   "id": "98a2f323",
   "metadata": {},
   "outputs": [
    {
     "data": {
      "text/plain": [
       "54"
      ]
     },
     "execution_count": 63,
     "metadata": {},
     "output_type": "execute_result"
    }
   ],
   "source": [
    "nd3.max()"
   ]
  },
  {
   "cell_type": "code",
   "execution_count": 68,
   "id": "25ab1e15",
   "metadata": {},
   "outputs": [
    {
     "data": {
      "text/plain": [
       "240"
      ]
     },
     "execution_count": 68,
     "metadata": {},
     "output_type": "execute_result"
    }
   ],
   "source": [
    "nd3.sum()"
   ]
  },
  {
   "cell_type": "markdown",
   "id": "5b26c3a8",
   "metadata": {},
   "source": [
    "## Intersting Stuff"
   ]
  },
  {
   "cell_type": "code",
   "execution_count": 72,
   "id": "bf47c6ff",
   "metadata": {},
   "outputs": [],
   "source": [
    "import random as rng"
   ]
  },
  {
   "cell_type": "code",
   "execution_count": 79,
   "id": "dbfb4225",
   "metadata": {},
   "outputs": [
    {
     "ename": "TypeError",
     "evalue": "Random.randint() takes 3 positional arguments but 4 were given",
     "output_type": "error",
     "traceback": [
      "\u001b[0;31m---------------------------------------------------------------------------\u001b[0m",
      "\u001b[0;31mTypeError\u001b[0m                                 Traceback (most recent call last)",
      "Cell \u001b[0;32mIn[79], line 3\u001b[0m\n\u001b[1;32m      1\u001b[0m \u001b[38;5;66;03m# random integer number matrix\u001b[39;00m\n\u001b[0;32m----> 3\u001b[0m rng\u001b[38;5;241m.\u001b[39mrandint(\u001b[38;5;241m15\u001b[39m,\u001b[38;5;241m4\u001b[39m,\u001b[38;5;241m2\u001b[39m)\n",
      "\u001b[0;31mTypeError\u001b[0m: Random.randint() takes 3 positional arguments but 4 were given"
     ]
    }
   ],
   "source": [
    "# random integer number matrix\n",
    "\n",
    "rng.randint(15,4,2)"
   ]
  },
  {
   "cell_type": "code",
   "execution_count": null,
   "id": "3af116dc",
   "metadata": {},
   "outputs": [],
   "source": []
  },
  {
   "cell_type": "code",
   "execution_count": null,
   "id": "0d177e46",
   "metadata": {},
   "outputs": [],
   "source": []
  }
 ],
 "metadata": {
  "kernelspec": {
   "display_name": "Python 3 (ipykernel)",
   "language": "python",
   "name": "python3"
  },
  "language_info": {
   "codemirror_mode": {
    "name": "ipython",
    "version": 3
   },
   "file_extension": ".py",
   "mimetype": "text/x-python",
   "name": "python",
   "nbconvert_exporter": "python",
   "pygments_lexer": "ipython3",
   "version": "3.11.5"
  }
 },
 "nbformat": 4,
 "nbformat_minor": 5
}
