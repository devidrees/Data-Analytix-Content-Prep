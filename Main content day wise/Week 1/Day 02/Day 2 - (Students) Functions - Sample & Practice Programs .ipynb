{
 "cells": [
  {
   "cell_type": "markdown",
   "id": "1d25f257-337a-49e8-98bf-efc17901e8dd",
   "metadata": {},
   "source": [
    "<!--- Mohammad Idrees Bhat | Tech Skills Trainer | AI/ML Consultant --->"
   ]
  },
  {
   "cell_type": "markdown",
   "id": "8a43d5e5-3ac5-45de-a77c-992d37a10d2c",
   "metadata": {},
   "source": [
    "<div style=\"background-color: #add8e6; padding: 10px; height: 70px; border-radius: 15px;\">\n",
    "    <div style=\"font-family: 'Georgia', serif; font-size: 20px; padding: 10px; text-align: right; position: absolute; right: 20px;\">\n",
    "        Mohammad Idrees Bhat<br>\n",
    "        <span style=\"font-family: 'Arial', sans-serif;font-size: 12px; color: #0a0a0a;\">Tech Skills Trainer | AI/ML Consultant</span>\n",
    "    </div>\n",
    "</div>"
   ]
  },
  {
   "cell_type": "markdown",
   "id": "8eaf0961",
   "metadata": {},
   "source": [
    "# Functions - Sample & Practice Programs "
   ]
  },
  {
   "cell_type": "markdown",
   "id": "36272806",
   "metadata": {},
   "source": [
    "### 1. Function to Check if a Number is Prime:\n"
   ]
  },
  {
   "cell_type": "code",
   "execution_count": 1,
   "id": "1bd48248",
   "metadata": {},
   "outputs": [
    {
     "name": "stdout",
     "output_type": "stream",
     "text": [
      "True\n",
      "False\n"
     ]
    }
   ],
   "source": [
    "def is_prime(n):\n",
    "    \"\"\"\n",
    "    Returns True if n is a prime number, False otherwise.\n",
    "    \"\"\"\n",
    "    if n <= 1:\n",
    "        return False\n",
    "    for i in range(2, int(n**0.5) + 1):\n",
    "        if n % i == 0:\n",
    "            return False\n",
    "    return True\n",
    "\n",
    "# Test the function\n",
    "print(is_prime(11))  # Output: True\n",
    "print(is_prime(15))  # Output: False"
   ]
  },
  {
   "cell_type": "markdown",
   "id": "f795ee45",
   "metadata": {},
   "source": [
    "### 2. Fibonacci Sequence Using Recursion:\n"
   ]
  },
  {
   "cell_type": "code",
   "execution_count": 2,
   "id": "43e1d29d",
   "metadata": {},
   "outputs": [
    {
     "name": "stdout",
     "output_type": "stream",
     "text": [
      "13\n"
     ]
    }
   ],
   "source": [
    "def fibonacci(n):\n",
    "    \"\"\"\n",
    "    Returns the nth Fibonacci number.\n",
    "    \"\"\"\n",
    "    if n <= 0:\n",
    "        return 0\n",
    "    elif n == 1:\n",
    "        return 1\n",
    "    else:\n",
    "        return fibonacci(n-1) + fibonacci(n-2)\n",
    "\n",
    "# Test the function\n",
    "print(fibonacci(7))  # Output: 13"
   ]
  },
  {
   "cell_type": "markdown",
   "id": "72f2f646",
   "metadata": {},
   "source": [
    "### 3. Factorial of a Number Using Recursion:\n"
   ]
  },
  {
   "cell_type": "code",
   "execution_count": 3,
   "id": "ff1a3750",
   "metadata": {},
   "outputs": [
    {
     "name": "stdout",
     "output_type": "stream",
     "text": [
      "120\n"
     ]
    }
   ],
   "source": [
    "def factorial(n):\n",
    "    \"\"\"\n",
    "    Returns the factorial of n.\n",
    "    \"\"\"\n",
    "    if n == 1:\n",
    "        return 1\n",
    "    else:\n",
    "        return n * factorial(n-1)\n",
    "\n",
    "# Test the function\n",
    "print(factorial(5))  # Output: 120"
   ]
  },
  {
   "cell_type": "markdown",
   "id": "12591514",
   "metadata": {},
   "source": [
    "### 4. Sum of Numbers Using *args:\n"
   ]
  },
  {
   "cell_type": "code",
   "execution_count": 4,
   "id": "d76fd351",
   "metadata": {},
   "outputs": [
    {
     "name": "stdout",
     "output_type": "stream",
     "text": [
      "15\n"
     ]
    }
   ],
   "source": [
    "def sum_numbers(*args):\n",
    "    \"\"\"\n",
    "    Returns the sum of all the numbers passed as arguments.\n",
    "    \"\"\"\n",
    "    return sum(args)\n",
    "\n",
    "# Test the function\n",
    "print(sum_numbers(1, 2, 3, 4, 5))  # Output: 15"
   ]
  },
  {
   "cell_type": "markdown",
   "id": "e9ddc213",
   "metadata": {},
   "source": [
    "### 5. Creating a Higher-Order Function:\n"
   ]
  },
  {
   "cell_type": "code",
   "execution_count": 5,
   "id": "c65c0f6e",
   "metadata": {},
   "outputs": [
    {
     "name": "stdout",
     "output_type": "stream",
     "text": [
      "[1, 4, 9, 16, 25]\n"
     ]
    }
   ],
   "source": [
    "def apply_function(func, data):\n",
    "    \"\"\"\n",
    "    Applies a given function to a list of data.\n",
    "    \"\"\"\n",
    "    return [func(item) for item in data]\n",
    "\n",
    "# Test with a lambda function to square numbers\n",
    "data = [1, 2, 3, 4, 5]\n",
    "result = apply_function(lambda x: x**2, data)\n",
    "print(result)  # Output: [1, 4, 9, 16, 25]\n"
   ]
  },
  {
   "cell_type": "markdown",
   "id": "c764a2d1",
   "metadata": {},
   "source": [
    "### 6. Using a Decorator to Time a Function:"
   ]
  },
  {
   "cell_type": "code",
   "execution_count": 6,
   "id": "f775efc9",
   "metadata": {},
   "outputs": [
    {
     "name": "stdout",
     "output_type": "stream",
     "text": [
      "Function 'slow_function' took 2.0046 seconds to execute.\n",
      "Done!\n"
     ]
    }
   ],
   "source": [
    "import time\n",
    "\n",
    "def timer_decorator(func):\n",
    "    \"\"\"\n",
    "    A decorator that prints the time a function takes to execute.\n",
    "    \"\"\"\n",
    "    def wrapper(*args, **kwargs):\n",
    "        start_time = time.time()\n",
    "        result = func(*args, **kwargs)\n",
    "        end_time = time.time()\n",
    "        print(f\"Function '{func.__name__}' took {end_time - start_time:.4f} seconds to execute.\")\n",
    "        return result\n",
    "    return wrapper\n",
    "\n",
    "@timer_decorator\n",
    "def slow_function():\n",
    "    time.sleep(2)\n",
    "    return \"Done!\"\n",
    "\n",
    "# Test the function\n",
    "print(slow_function())\n"
   ]
  },
  {
   "cell_type": "markdown",
   "id": "3dfb05bb",
   "metadata": {},
   "source": [
    "# Practice Problems"
   ]
  },
  {
   "cell_type": "markdown",
   "id": "57887781",
   "metadata": {},
   "source": [
    "### 1. Palindrome Check:\n",
    "- Problem: Write a function is_palindrome that checks whether a given string is a palindrome."
   ]
  },
  {
   "cell_type": "code",
   "execution_count": null,
   "id": "38baf855",
   "metadata": {},
   "outputs": [],
   "source": [
    "# Solution - Palindrome Check\n",
    "\n",
    "\n"
   ]
  },
  {
   "cell_type": "markdown",
   "id": "94f13bf1",
   "metadata": {},
   "source": [
    "### 2. Count Vowels in a String:\n",
    "- Problem: Write a function count_vowels that counts the number of vowels in a given string."
   ]
  },
  {
   "cell_type": "markdown",
   "id": "32cad742",
   "metadata": {},
   "source": [
    "### 3. Find the Maximum Number in a List:\n",
    "Problem: Write a function find_max that finds the maximum number in a list without using the built-in max() function."
   ]
  },
  {
   "cell_type": "markdown",
   "id": "b51d7088",
   "metadata": {},
   "source": [
    "### 4. Generate a List of Even Numbers:\n",
    "Problem: Write a function generate_evens that generates a list of even numbers up to a given number n."
   ]
  },
  {
   "cell_type": "markdown",
   "id": "8418a216",
   "metadata": {},
   "source": [
    "### 5. Calculate the Power of a Number:\n",
    "Problem: Write a function power that calculates the power of a number using recursion."
   ]
  },
  {
   "cell_type": "markdown",
   "id": "a17c8aaa",
   "metadata": {},
   "source": [
    "### 6. Merge Two Sorted Lists:\n",
    "Problem: Write a function merge_sorted that merges two sorted lists into one sorted list."
   ]
  },
  {
   "cell_type": "markdown",
   "id": "b0ac3295",
   "metadata": {},
   "source": [
    "### 7. Remove Duplicates from a List:\n",
    "Problem: Write a function remove_duplicates that removes duplicate elements from a list while maintaining the order.\n"
   ]
  },
  {
   "cell_type": "markdown",
   "id": "69d12d99",
   "metadata": {},
   "source": [
    "### 8. Anagram Check:\n",
    "Problem: Write a function is_anagram that checks if two strings are anagrams of each other."
   ]
  },
  {
   "cell_type": "markdown",
   "id": "ecd222a3",
   "metadata": {},
   "source": [
    "### 9. Find the GCD of Two Numbers:\n",
    "Problem: Write a function gcd that calculates the greatest common divisor of two numbers using recursion.\n"
   ]
  },
  {
   "cell_type": "markdown",
   "id": "cb1cef9e",
   "metadata": {},
   "source": [
    "### 10. Reverse a String:\n",
    "Problem: Write a function reverse_string that reverses a given string."
   ]
  }
 ],
 "metadata": {
  "kernelspec": {
   "display_name": "Python 3 (ipykernel)",
   "language": "python",
   "name": "python3"
  },
  "language_info": {
   "codemirror_mode": {
    "name": "ipython",
    "version": 3
   },
   "file_extension": ".py",
   "mimetype": "text/x-python",
   "name": "python",
   "nbconvert_exporter": "python",
   "pygments_lexer": "ipython3",
   "version": "3.12.4"
  }
 },
 "nbformat": 4,
 "nbformat_minor": 5
}
