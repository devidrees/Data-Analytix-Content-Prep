{
 "cells": [
  {
   "cell_type": "markdown",
   "id": "b6de4f62-84e8-4dd9-bb39-e0c6f1adfdbd",
   "metadata": {},
   "source": [
    "<!--- Mohammad Idrees Bhat | Tech Skills Trainer | AI/ML Consultant --->"
   ]
  },
  {
   "cell_type": "markdown",
   "id": "f88f8962-13d9-444a-935c-240dab482307",
   "metadata": {},
   "source": [
    "<div style=\"background-color: #add8e6; padding: 10px; height: 70px; border-radius: 15px;\">\n",
    "    <div style=\"font-family: 'Georgia', serif; font-size: 20px; padding: 10px; text-align: right; position: absolute; right: 20px;\">\n",
    "        Mohammad Idrees Bhat<br>\n",
    "        <span style=\"font-family: 'Arial', sans-serif;font-size: 12px; color: #0a0a0a;\">Tech Skills Trainer | AI/ML Consultant</span>\n",
    "    </div>\n",
    "</div>"
   ]
  },
  {
   "cell_type": "markdown",
   "id": "6360f670-cd32-417c-be26-8438195b82df",
   "metadata": {},
   "source": [
    "<h1 style=\" background-color: #002147; color: White; padding: 30px; text-align:center\"> Python Programming Language (Part 1) </h1>"
   ]
  },
  {
   "cell_type": "markdown",
   "id": "19e9ec83-cf6b-4000-aa3b-4b2194c2bbf1",
   "metadata": {},
   "source": [
    "<div style=\"background-color: lightgreen; color: black; padding: 10px;\">\n",
    "    <h4>What is Programming?\n",
    "</h4> </div>"
   ]
  },
  {
   "cell_type": "markdown",
   "id": "54f4978b-91f9-4675-92b2-a62b9f81110e",
   "metadata": {},
   "source": [
    "\n",
    "Imagine you're giving instructions to a robot to complete a task. \n",
    "\n",
    "You need to tell it step by step what to do in a precise way because the robot doesn't understand ambiguity. \n",
    "\n",
    "This is exactly what programming is—telling a computer what to do in a language it understands.\n",
    "\n",
    "**Programming** is the process of writing instructions (called code) for a computer to perform tasks, solve problems, or automate processes.\n",
    "\n",
    "Think of code as a set of recipes. The ingredients are variables and data, and the instructions (steps) are operations and logic.\n",
    "\n",
    "Humans[High Level Language] ---> Compiler/Interpreter ----> Machines[0,1 Low/Machine Level Lang]\n",
    "\n"
   ]
  },
  {
   "cell_type": "markdown",
   "id": "724c1d71-3fdb-4870-8d63-b0bfbaad9ed4",
   "metadata": {},
   "source": [
    "<div style=\"background-color: lightblue; color: black; padding: 10px;\">\n",
    "    <h4>What is Python?\n",
    "</h4> </div>"
   ]
  },
  {
   "cell_type": "markdown",
   "id": "f13df9ca-ebf7-499d-b37a-fe1452b3c462",
   "metadata": {},
   "source": [
    "Python is a high-level, **interpreted** programming language meaning (you don't need to compile it before running.) \n",
    "\n",
    "**Compiler and Interpreter**\n",
    "\n",
    "Compiler -> Converts the entire source code into machine code before execution\n",
    "\n",
    "Interpreter -> Translates and executes the source code line by line.)\n",
    "\n",
    "When to use Compiler[Compiled Language]---> C Vs Interpreter[Interpreted Lang]--> Python?\n",
    "\n",
    "\n",
    "It was created in the late 1980s by **Guido van Rossum** and was released in 1991.\n",
    "\n",
    "It's designed to be **readable**, **concise**, and **easy to use**, which makes it accessible for beginners and powerful for experienced developers.\n",
    "\n"
   ]
  },
  {
   "cell_type": "markdown",
   "id": "1e6a9fc7-7064-412e-a177-6b06e2ef9479",
   "metadata": {},
   "source": [
    "The language is named after the BBC show “Monty Python’s Flying Circus” and has nothing to do with reptiles. Making references to Monty Python skits in documentation is not only allowed, it is encouraged!"
   ]
  },
  {
   "cell_type": "code",
   "execution_count": 92,
   "id": "8c6a170f-4ed3-4ec3-b092-9aee3781aa18",
   "metadata": {},
   "outputs": [
    {
     "data": {
      "image/jpeg": "[encoded data removed]",
      "text/html": [
       "\n",
       "        <iframe\n",
       "            width=\"800\"\n",
       "            height=\"300\"\n",
       "            src=\"https://www.youtube.com/embed/Fh3ghPC-oEQ\"\n",
       "            frameborder=\"0\"\n",
       "            allowfullscreen\n",
       "            \n",
       "        ></iframe>\n",
       "        "
      ],
      "text/plain": [
       "<IPython.lib.display.YouTubeVideo at 0x27d7e603890>"
      ]
     },
     "execution_count": 92,
     "metadata": {},
     "output_type": "execute_result"
    }
   ],
   "source": [
    "from IPython.display import YouTubeVideo\n",
    "\n",
    "YouTubeVideo('Fh3ghPC-oEQ', width=800, height=300)"
   ]
  },
  {
   "cell_type": "markdown",
   "id": "f2d5ce6f-c4d6-4667-acbd-22a64068b2fe",
   "metadata": {},
   "source": [
    "<div style=\"background-color: lightblue; color: black; padding: 10px;\">\n",
    "    <h4>What Type of Language is Python?\n",
    "</h4> </div>"
   ]
  },
  {
   "cell_type": "markdown",
   "id": "482cf9dd-0e0e-4387-b23b-436f9cecee6d",
   "metadata": {},
   "source": [
    "Python is a high-level language, which means it abstracts away the complexities of the computer hardware. \n",
    "\n",
    "This makes it easy for humans to write but requires more processing by the computer to run.\n",
    "\n"
   ]
  },
  {
   "cell_type": "markdown",
   "id": "f9d33dff-e738-484d-b5cb-f78032745872",
   "metadata": {},
   "source": [
    "- It is also an interpreted language, which means that Python code is executed line by line by the \n",
    "\n",
    "- Python interpreter, unlike languages like C or Java, which are compiled into machine code before they are run."
   ]
  },
  {
   "cell_type": "markdown",
   "id": "5de602eb-9c9a-4ec0-87b6-f9a733a2e4e6",
   "metadata": {},
   "source": [
    "- Python supports multiple programming paradigms:\n",
    "\n",
    "    - Procedural Programming: Organizing code into reusable procedures (functions).\n",
    "\n",
    "    - Object-Oriented Programming (OOP): Creating objects that encapsulate both data and functions.\n",
    "\n",
    "    - Functional Programming: Treating computation as the evaluation of mathematical functions."
   ]
  },
  {
   "cell_type": "markdown",
   "id": "d81f4895-3549-4e44-b866-2a0f7b684437",
   "metadata": {},
   "source": [
    "<div style=\"background-color: lightblue; color: black; padding: 10px;\">\n",
    "    <h4>Why is Python So Famous?\n",
    "</h4> </div>"
   ]
  },
  {
   "cell_type": "markdown",
   "id": "5799f8eb-5a2a-4a0a-ad35-4a7e5cf15922",
   "metadata": {},
   "source": [
    "Python’s popularity comes from several key factors:\n",
    "\n",
    "- **Simple Syntax**: Python’s syntax is clean and easy to understand, which makes it an ideal language for beginners.\n",
    "\n",
    "- **Versatility**: Python is used in many different fields—web development, data science, machine learning, automation, game development, and more.\n",
    "\n",
    "- **Huge Community**: Python has one of the largest communities, so it's easy to find resources, libraries, and frameworks to help with projects.\n",
    "\n",
    "- **Extensive Libraries**: Python has libraries for nearly everything, from data manipulation (pandas, numpy) to machine learning (scikit-learn, TensorFlow) to web development (Django, Flask).\n",
    "\n",
    "- **Cross-Platform**: Python runs on all major platforms (Windows, macOS, Linux), so you can write a Python program on one system and run it on another without changing the code.\n",
    "\n",
    "- **Jobs**: With its widespread use in web development, automation, and especially in data science and artificial intelligence, Python skills are highly in demand."
   ]
  },
  {
   "cell_type": "markdown",
   "id": "b69ed7ea-1940-434d-bb2d-601d07994783",
   "metadata": {},
   "source": [
    "<div style=\"background-color: lightblue; color: white; padding: 10px; text-align: center;\">\n",
    "    <h1>____________________________________________________________________\n",
    "</h1> </div>"
   ]
  },
  {
   "cell_type": "markdown",
   "id": "d8f2d8b1-69f6-4d40-9e5f-119405fef408",
   "metadata": {},
   "source": [
    "# Python Programming Basics - 1"
   ]
  },
  {
   "cell_type": "markdown",
   "id": "ecbbe2da-4413-4e78-a3c3-29abe060ed3b",
   "metadata": {},
   "source": [
    "We will dive into the basic syntax and constructs of Python. \n",
    "We will cover:\n",
    "1. Variables\n",
    "2. Data Types\n",
    "3. Operators"
   ]
  },
  {
   "cell_type": "markdown",
   "id": "d4eafc05-41ba-4481-82a7-4d843ea3347d",
   "metadata": {},
   "source": [
    "#### Python Syntax\n",
    "Python is known for its simple and readable syntax. Let's look at a simple Python script."
   ]
  },
  {
   "cell_type": "code",
   "execution_count": 7,
   "id": "2083aad4-5ac3-40b4-8b20-2795385fc08c",
   "metadata": {},
   "outputs": [
    {
     "name": "stdout",
     "output_type": "stream",
     "text": [
      "Hello, Python!\n"
     ]
    }
   ],
   "source": [
    "# Print a simple message\n",
    "print(\"Hello, Python!\")"
   ]
  },
  {
   "cell_type": "markdown",
   "id": "4f42bcce-cacd-4d69-a473-610f3750d037",
   "metadata": {},
   "source": [
    "## Variables and Data Types\n",
    "A variable in Python is a reserved memory location to store values. Python automatically determines the type of the variable based on the assigned value."
   ]
  },
  {
   "cell_type": "code",
   "execution_count": 214,
   "id": "5627e8cf-87c5-4174-b306-0dabfebb459d",
   "metadata": {},
   "outputs": [
    {
     "name": "stdout",
     "output_type": "stream",
     "text": [
      " a is 10 and b is 23\n",
      "a is 10 and b is 23 and their sum is 33\n",
      "a is 10 and b is 23 and their sum is 33\n"
     ]
    }
   ],
   "source": [
    "# assign a variable\n",
    "a = 10\n",
    "b = 23\n",
    "\n",
    "# print the values using an f string (formatted string literals) \n",
    "print(f\" a is {a} and b is {b}\")\n",
    "print(\"a is {} and b is {} and their sum is {}\".format(a, b, a + b)) # uses the .format() method\n",
    "print(\"a is %d and b is %d and their sum is %d\" % (a, b, a + b)) # % Formatting (Old Style)\n",
    "\n"
   ]
  },
  {
   "cell_type": "markdown",
   "id": "dd034dcc-9858-4c99-aae9-67b7b5e14283",
   "metadata": {},
   "source": [
    "### Data Types:\n",
    "- Python has several built-in data types that are fundamental to its functionality. Here’s a quick overview of the most commonly used data types:\n",
    "\n",
    "1. Numbers: These include integers and floating-point numbers.\n",
    "    - Integers `int`: Whole numbers (e.g., 5, -3, 42)\n",
    "    - Floats `float`: Numbers with a decimal point (e.g., 3.14, -0.001)\n",
    "\n",
    "2. Strings `str`: Sequences of characters enclosed in single quotes, double quotes, or triple quotes.\n",
    "    - Single-line String: \"Hello\"\n",
    "    - Multi-line String: \"\"\"Hello, World!\"\"\"\n",
    "    \n",
    "\n",
    "\n",
    "3. Booleans `bool`: Represents True or False values.\n",
    "------------------------------------------------------------------------------------\n",
    "5. Lists: Ordered, mutable collections of items, which can be of mixed types.\n",
    "\n",
    "6. Tuples: Ordered, immutable collections of items.\n",
    "\n",
    "7. Dictionaries: Unordered collections of key-value pairs.\n",
    "\n",
    "8. Sets: Unordered collections of unique items.\n",
    "\n",
    "9. None: Represents the absence of a value or a null value.\n",
    "\n",
    "- Each data type serves different purposes and has different methods associated with it. For example, lists and dictionaries have methods to modify their content, while tuples and strings do not.\n",
    "\n"
   ]
  },
  {
   "cell_type": "markdown",
   "id": "da9aecd2-9d9c-401d-a709-380b1aa42aa6",
   "metadata": {},
   "source": [
    "### Floating-Point Numbers (float)\n",
    "(Only covering this topic, because important from interview pov)\n",
    "\n",
    "Definition: Floating-point numbers are numbers with a decimal point. They can represent fractions and very large or very small numbers."
   ]
  },
  {
   "cell_type": "code",
   "execution_count": 177,
   "id": "38ef98dd-e9ca-4402-b424-7718645e933c",
   "metadata": {},
   "outputs": [],
   "source": [
    "pi = 3.14159          # Decimal number\n",
    "negative = -0.1       # Negative decimal number\n",
    "scientific = 1.23e4   # 12300.0 in scientific notation"
   ]
  },
  {
   "cell_type": "markdown",
   "id": "c7faf030-5cb8-4951-a08b-58713005bf15",
   "metadata": {},
   "source": [
    "**Characteristics:**\n",
    "\n",
    "- Precision: Floating-point numbers are subject to precision limitations. \n",
    "- Python uses double-precision (64-bit) floating-point numbers, which may lead to small rounding errors.\n",
    "    \n",
    "    \n",
    "1. Arithmetic Operations: \n",
    "    - Like integers, you can perform arithmetic operations on floating-point numbers.\n",
    "    \n",
    "2. Division:\n",
    "    - Division of integers where one or both operands are floats results in a float.\n",
    "    \n",
    "3. Formatting: \n",
    "    - You can format floating-point numbers to control the number of decimal places displayed.\n",
    "\n",
    "4. Methods:\n",
    "    - is_integer(): Checks if the float has an integer value.\n",
    "    - as_integer_ratio(): Returns a tuple representing the float as a fraction.\n",
    "  "
   ]
  },
  {
   "cell_type": "code",
   "execution_count": 188,
   "id": "de8dc4cc-00c8-4118-8d15-655a5a705b93",
   "metadata": {},
   "outputs": [
    {
     "name": "stdout",
     "output_type": "stream",
     "text": [
      "True\n"
     ]
    },
    {
     "data": {
      "text/plain": [
       "5.0"
      ]
     },
     "execution_count": 188,
     "metadata": {},
     "output_type": "execute_result"
    }
   ],
   "source": [
    "#Typecasting\n",
    "number = 5.0\n",
    "# type(number)\n",
    "print(number.is_integer())  # True\n",
    "number"
   ]
  },
  {
   "cell_type": "code",
   "execution_count": 190,
   "id": "d2fec164-d148-4582-acf2-68ac635840d0",
   "metadata": {},
   "outputs": [
    {
     "data": {
      "text/plain": [
       "(3, 4)"
      ]
     },
     "execution_count": 190,
     "metadata": {},
     "output_type": "execute_result"
    }
   ],
   "source": [
    "ratio = (0.75).as_integer_ratio()  # (3, 4)\n",
    "ratio"
   ]
  },
  {
   "cell_type": "markdown",
   "id": "a371d509-60ca-468d-8c07-8c06fd3bd9e4",
   "metadata": {},
   "source": [
    "### Declaring Variables"
   ]
  },
  {
   "cell_type": "code",
   "execution_count": 174,
   "id": "b05b4995-5d49-47e6-b0f0-947faf0da6ac",
   "metadata": {},
   "outputs": [
    {
     "name": "stdout",
     "output_type": "stream",
     "text": [
      "x is of type: <class 'int'>\n",
      "y is of type: <class 'float'>\n",
      "name is of type: <class 'str'>\n",
      "is_active is of type: <class 'bool'>\n"
     ]
    }
   ],
   "source": [
    "# Integer\n",
    "x = 10\n",
    "print(\"x is of type:\", type(x))\n",
    "\n",
    "# Float\n",
    "y = 3.14\n",
    "print(\"y is of type:\", type(y))\n",
    "\n",
    "# String\n",
    "name = \"John\"\n",
    "print(\"name is of type:\", type(name))\n",
    "\n",
    "# Boolean\n",
    "is_active = True\n",
    "print(\"is_active is of type:\", type(is_active))"
   ]
  },
  {
   "cell_type": "code",
   "execution_count": null,
   "id": "3351e29e-6748-431f-91f7-cbd0848f684f",
   "metadata": {},
   "outputs": [],
   "source": [
    "# Example\n",
    "a = 10        # Positive integer\n",
    "b = -3        # Negative integer\n",
    "c = 0         # Zero"
   ]
  },
  {
   "cell_type": "code",
   "execution_count": null,
   "id": "0d2132fd-c919-4ea5-8044-869be7d3f816",
   "metadata": {},
   "outputs": [],
   "source": [
    "sum = 5 + 3         # 8\n",
    "difference = 10 - 2 # 8\n",
    "product = 4 * 7     # 28\n",
    "quotient = 20 / 4   # 5.0 (Note: Division always returns a float)"
   ]
  },
  {
   "cell_type": "code",
   "execution_count": null,
   "id": "f59588f5-6206-454c-bf92-2a4fe2fdbfd6",
   "metadata": {},
   "outputs": [],
   "source": [
    "# setting precision of float numbers\n",
    "formatted = \"{:.7f}\".format(3.14159)  # 3.14\n",
    "formatted"
   ]
  },
  {
   "cell_type": "markdown",
   "id": "3a9924c5-826b-4fcc-bb92-f56f112be4d2",
   "metadata": {},
   "source": [
    "### Type Conversion\n",
    "\n",
    "**Type casting**, also known as type conversion, is a process in programming where you convert a variable from one data type to another. \n",
    "\n",
    "You can convert between data types using type conversion functions like `int()`, `float()`, `str()`, etc."
   ]
  },
  {
   "cell_type": "code",
   "execution_count": 125,
   "id": "777c1e1f-ebeb-49f3-b196-13e3ed4b50eb",
   "metadata": {},
   "outputs": [
    {
     "name": "stdout",
     "output_type": "stream",
     "text": [
      "Converted to int: 5\n",
      "Converted to float: 25.0\n",
      "Converted to string: 90\n"
     ]
    }
   ],
   "source": [
    "# Convert float to int\n",
    "num = 5.67\n",
    "num_int = int(num)\n",
    "print(\"Converted to int:\", num_int)\n",
    "\n",
    "# Convert int to float\n",
    "age = 25\n",
    "age_float = float(age)\n",
    "print(\"Converted to float:\", age_float)\n",
    "\n",
    "# Convert int to string\n",
    "score = 90\n",
    "score_str = str(score)\n",
    "print(\"Converted to string:\", score_str)"
   ]
  },
  {
   "cell_type": "markdown",
   "id": "6bf0fe55-e19d-44cd-84cc-e8e8befe3dc2",
   "metadata": {},
   "source": [
    "## Operators in Python\n",
    "Operators are used to perform operations on variables and values.\n",
    "\n",
    "**Arithmetic Operators** \n",
    "\n",
    "Common arithmetic operators include: `+`, `-`, `*`, `/`, `//` (floor division), `%` (modulus), and `**` (exponentiation).\n"
   ]
  },
  {
   "cell_type": "markdown",
   "id": "9f01761d-0fa6-43e2-8d4c-161aecb38764",
   "metadata": {},
   "source": [
    "1. Division (/): \n",
    "    - Always results in a floating-point number.\n",
    "    \n",
    "<br>\n",
    "\n",
    "2. Floor Division (//):\n",
    "    - Divides and returns the largest integer less than or equal to the result.\n",
    "    \n",
    "<br>\n",
    "\n",
    "3. Modulus (%): \n",
    "    - Returns the remainder of the division.\n",
    "    \n",
    "<br>\n",
    "\n",
    "\n",
    "4. Exponentiation (**): \n",
    "    - Raises a number to the power of another.\n",
    "    \n",
    "<br>\n",
    "\n",
    "5. Methods:\n",
    "    - bit_length(): Returns the number of bits necessary to represent the integer in binary.\n"
   ]
  },
  {
   "cell_type": "code",
   "execution_count": 171,
   "id": "5f815cc6-7406-4ade-abfd-cf7765131b8a",
   "metadata": {},
   "outputs": [
    {
     "name": "stdout",
     "output_type": "stream",
     "text": [
      "Addition: 13\n",
      "Subtraction: 7\n",
      "Multiplication: 30\n",
      "Division: 3.3333333333333335\n",
      "Floor Division: 3\n",
      "Modulus: 1\n",
      "Exponentiation: 1000\n"
     ]
    },
    {
     "data": {
      "text/plain": [
       "7"
      ]
     },
     "execution_count": 171,
     "metadata": {},
     "output_type": "execute_result"
    }
   ],
   "source": [
    "# Arithmetic operations\n",
    "a = 10\n",
    "b = 3\n",
    "\n",
    "print(\"Addition:\", a + b)\n",
    "print(\"Subtraction:\", a - b)\n",
    "print(\"Multiplication:\", a * b)\n",
    "print(\"Division:\", a / b)\n",
    "\n",
    "print(\"Floor Division:\", a // b)\n",
    "print(\"Modulus:\", a % b)\n",
    "print(\"Exponentiation:\", a ** b)\n"
   ]
  },
  {
   "cell_type": "code",
   "execution_count": null,
   "id": "2f6149bd-7dcc-4089-89e6-0867245d12ca",
   "metadata": {},
   "outputs": [],
   "source": [
    "bits = (100).bit_length()  # 4 --> 1000 binary 0,1\n",
    "bits"
   ]
  },
  {
   "cell_type": "markdown",
   "id": "2990682f-0fff-4077-8b59-d562731ee609",
   "metadata": {},
   "source": [
    "**Comparison Operators**\n",
    "\n",
    "Comparison operators include: `==`, `!=`, `>`, `<`, `>=`, `<=`.\n",
    "These return a boolean value (`True` or `False`).\n"
   ]
  },
  {
   "cell_type": "code",
   "execution_count": 3,
   "id": "f2bb081a-10ca-42f8-8645-126769e021a6",
   "metadata": {},
   "outputs": [
    {
     "name": "stdout",
     "output_type": "stream",
     "text": [
      "Is x equal to y? False\n",
      "Is x not equal to y? True\n",
      "Is x greater than y? False\n",
      "Is x less than or equal to y? True\n"
     ]
    },
    {
     "data": {
      "text/plain": [
       "False"
      ]
     },
     "execution_count": 3,
     "metadata": {},
     "output_type": "execute_result"
    }
   ],
   "source": [
    "# Comparison operations\n",
    "x = 10\n",
    "y = 20\n",
    "\n",
    "print(\"Is x equal to y?\", x == y)\n",
    "print(\"Is x not equal to y?\", x != y)\n",
    "print(\"Is x greater than y?\", x > y)\n",
    "print(\"Is x less than or equal to y?\", x <= y)"
   ]
  },
  {
   "cell_type": "markdown",
   "id": "71b48eac-9ce4-47c0-bf0d-b8fa1d25f922",
   "metadata": {},
   "source": [
    "**Logical Operators**\n",
    "\n",
    "Logical operators are used to combine conditional statements. \n",
    "- `and`: Returns True if both statements are true\n",
    "- `or`: Returns True if one of the statements is true\n",
    "- `not`: Reverses the result\n"
   ]
  },
  {
   "cell_type": "code",
   "execution_count": 17,
   "id": "0ffaa244-cbb7-42d4-a025-e433e34ba276",
   "metadata": {},
   "outputs": [
    {
     "name": "stdout",
     "output_type": "stream",
     "text": [
      "x > 0 and y > 0: True\n",
      "x > 0 or y < 0: True\n",
      "not(x > 0): False\n"
     ]
    }
   ],
   "source": [
    "# Logical operations\n",
    "x = 5\n",
    "y = 10\n",
    "\n",
    "print(\"x > 0 and y > 0:\", x > 0 and y > 0)\n",
    "print(\"x > 0 or y < 0:\", x > 0 or y < 0)\n",
    "print(\"not(x > 0):\", not(x > 0))\n"
   ]
  },
  {
   "cell_type": "markdown",
   "id": "01ede1e3-7668-4ca3-bb69-64344a1e070b",
   "metadata": {},
   "source": [
    "<div class=\"alert alert-block alert-warning\">\n",
    "    <b><font size=\"5\"> Live Exercise</font> </b>\n",
    "</div>"
   ]
  },
  {
   "cell_type": "markdown",
   "id": "8bc1cea8-d999-464a-9ed1-d760c38a57fb",
   "metadata": {},
   "source": [
    "Now it's your turn!\n",
    "\n",
    "### Task 1: Variable Assignment\n",
    "1. Create a variable `a` and assign it the value `50`.\n",
    "2. Create another variable `b` and assign it the value `30.5`.\n",
    "3. Print their values and types.\n",
    "\n",
    "### Task 2: Operators\n",
    "1. Using variables `a` and `b` from Task 1, perform the following operations:\n",
    "   - Addition\n",
    "   - Subtraction\n",
    "   - Multiplication\n",
    "   - Floor Division\n",
    "2. Compare the two variables to check if `a` is greater than `b`.\n",
    "3. Swap the values of `a` and `b` without using a third variable. \n"
   ]
  },
  {
   "cell_type": "markdown",
   "id": "13e86481-eae2-4019-9515-66a43a30f0fb",
   "metadata": {},
   "source": [
    "<div style=\"background-color: #002147; color: #fff; padding: 30px; text-align: center;\">\n",
    "    <h1>THANK YOU!\n",
    "</h1> </div>"
   ]
  }
 ],
 "metadata": {
  "kernelspec": {
   "display_name": "Python 3 (ipykernel)",
   "language": "python",
   "name": "python3"
  },
  "language_info": {
   "codemirror_mode": {
    "name": "ipython",
    "version": 3
   },
   "file_extension": ".py",
   "mimetype": "text/x-python",
   "name": "python",
   "nbconvert_exporter": "python",
   "pygments_lexer": "ipython3",
   "version": "3.12.4"
  }
 },
 "nbformat": 4,
 "nbformat_minor": 5
}
