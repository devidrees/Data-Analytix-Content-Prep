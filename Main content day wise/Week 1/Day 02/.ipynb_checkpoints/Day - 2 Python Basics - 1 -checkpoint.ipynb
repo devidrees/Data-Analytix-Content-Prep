{
 "cells": [
  {
   "cell_type": "markdown",
   "id": "9d60c6d9",
   "metadata": {},
   "source": [
    "<h1 align=\"center\"><font color='green'><font size=\"6\">Python - The Programming Language</font> </h1>"
   ]
  },
  {
   "cell_type": "markdown",
   "id": "7619e148",
   "metadata": {},
   "source": [
    "#### What is a Programming Language? \n",
    "- Binary Language - Comp/Machine [0,1] - Human Language  \n",
    "    - NO ---> 8 will be rep as 1000 (4 bit)\n",
    "- Communicating between Humans and Computer--> Purpose???\n",
    "    - Yes\n",
    "- Actions to the words that solves problem --> Y\n",
    "- Programming Language converts High Level to Low Level - NO --\n",
    "    -> \n",
    "- Set of commands/instruction that computer understands to solve a problem\n",
    "- "
   ]
  },
  {
   "cell_type": "markdown",
   "id": "efd4038d",
   "metadata": {},
   "source": [
    "Program -> High Level Language \n",
    "Converted to either ->Low Level Language or \n",
    "                      Machine Level Language [0,1]"
   ]
  },
  {
   "cell_type": "markdown",
   "id": "51719041",
   "metadata": {},
   "source": [
    "<b> Programming Language</b>\n",
    "\n",
    "- A programming language is a formal set of instructions used to communicate with a computer to perform various tasks or solve problems. \n",
    "\n",
    "Shikha [Nepali] ------ trying to communicate to--> Common Friend, Anish [Nepali and Hindi] ---> Devashish[Hindi]  with no common lang\n",
    "\n",
    "Humans[High Level Language] ---> Compiler/Interpreter ----> Machines[0,1 Low/Machine Level Lang]\n",
    "\n",
    "What is the difference btw Compiler and Interpreter?\n",
    "\n",
    "When to use Compiler[Compiled Language]---> C Vs Interpreter[Interpreted Lang]--> Python?\n"
   ]
  },
  {
   "cell_type": "markdown",
   "id": "13d8752f",
   "metadata": {},
   "source": [
    "<div class=\"alert alert-block alert-info\">\n",
    "    <b><font size=\"5\"> Python is an easy to learn, powerful programming language</font> </b>\n",
    "</div>"
   ]
  },
  {
   "cell_type": "markdown",
   "id": "6cc662f1",
   "metadata": {},
   "source": [
    "<font size=\"4\">The language is named after the BBC show “Monty Python’s Flying Circus” and has nothing to do with reptiles. Making references to Monty Python skits in documentation is not only allowed, it is encouraged!</font>"
   ]
  },
  {
   "cell_type": "code",
   "execution_count": 5,
   "id": "91faf611",
   "metadata": {},
   "outputs": [
    {
     "data": {
      "image/jpeg": "[encoded data removed]",
      "text/html": [
       "\n",
       "        <iframe\n",
       "            width=\"800\"\n",
       "            height=\"300\"\n",
       "            src=\"https://www.youtube.com/embed/Fh3ghPC-oEQ\"\n",
       "            frameborder=\"0\"\n",
       "            allowfullscreen\n",
       "            \n",
       "        ></iframe>\n",
       "        "
      ],
      "text/plain": [
       "<IPython.lib.display.YouTubeVideo at 0x113f425d0>"
      ]
     },
     "execution_count": 5,
     "metadata": {},
     "output_type": "execute_result"
    }
   ],
   "source": [
    "from IPython.display import YouTubeVideo\n",
    "\n",
    "YouTubeVideo('Fh3ghPC-oEQ', width=800, height=300)"
   ]
  },
  {
   "cell_type": "markdown",
   "id": "812727c5",
   "metadata": {},
   "source": [
    "<div class=\"alert alert-block alert-success\">  \n",
    "\n",
    "<font size =\"4\"> It has <b>efficient high-level data structures</b> and a <b>simple but effective approach to object-oriented programming</b>.</font>\n",
    "</div>\n"
   ]
  },
  {
   "cell_type": "markdown",
   "id": "eae6b8c8",
   "metadata": {},
   "source": [
    "Python Programming Language\n",
    "- What is a program?\n",
    "- What is a Programming Language?\n",
    "- HLL, LLL, MLL\n",
    "- Compiler Vs Interpreter\n",
    "\n",
    "- Data Structure[DS] --> What is Data[Raw facts and figure]? Data Vs Information? What is DS?\n",
    "    - Data[Raw facts and figures] --> my/devashish/is/name\n",
    "    - Information [Processed Data]--> My name is Devashish\n",
    "    - Way of Organising, Managing and Storing Data so that we can access it and modify[C- Create, R-Read,U-Update, D-Delete operation] it efficiently.\n",
    "    - Data Engg.\n",
    "    \n",
    "    Python:\n",
    "        - Lists Vs\n",
    "        - Tuples Vs\n",
    "        - Dictionaries Vs\n",
    "        - Sets\n"
   ]
  },
  {
   "cell_type": "markdown",
   "id": "bb3ba6d9",
   "metadata": {},
   "source": [
    "<b>Efficient High-Level Data Structures:</b>\n",
    "\n",
    "- Python offers built-in data structures like lists, dictionaries, sets, and tuples. These are \"high-level\" because they abstract away the complex details of data handling, making it easier to work with data efficiently.\n",
    "\n",
    "- These data structures are optimized for performance, allowing for quick and easy manipulation of large datasets. For example, lists in Python can dynamically resize, and dictionaries provide fast lookups.\n",
    "\n",
    "- Python's data structures are also versatile, supporting various operations that make them suitable for different types of tasks, from simple data storage to more complex operations like sorting and filtering."
   ]
  },
  {
   "cell_type": "markdown",
   "id": "2ba050ee",
   "metadata": {},
   "source": [
    "<b> 1. Lists</b>\n",
    "- Lists in Python are dynamic arrays that can resize automatically, making them efficient for tasks like adding, removing, or accessing elements.\n"
   ]
  },
  {
   "cell_type": "code",
   "execution_count": 24,
   "id": "e5bc7be3",
   "metadata": {
    "scrolled": true
   },
   "outputs": [
    {
     "name": "stdout",
     "output_type": "stream",
     "text": [
      "List after appending 60: [10, 20, 30, 40, 50, 60]\n",
      "List after removing 30: [10, 20, 40, 50, 60]\n",
      "Element at index 2: 40\n",
      "List of squares: [100, 400, 1600, 2500, 3600]\n"
     ]
    }
   ],
   "source": [
    "# Example: List Operations  ----> int arr[10] -- [10, 2, 3, 4, 6] -- dynamic\n",
    "\n",
    "# Create a list\n",
    "numbers = [10, 20, 30, 40, 50]\n",
    "\n",
    "# Add an element to the list\n",
    "numbers.append(60)\n",
    "print(f\"List after appending 60: {numbers}\")\n",
    "\n",
    "# Remove an element from the list\n",
    "numbers.remove(30)\n",
    "print(f\"List after removing 30: {numbers}\")\n",
    "\n",
    "# Access an element by index\n",
    "print(f\"Element at index 2: {numbers[2]}\")\n",
    "\n",
    "# List comprehension to create a new list of squares\n",
    "squares = [x**2 for x in numbers]\n",
    "print(f\"List of squares: {squares}\")\n",
    "\n",
    "# - Dynamic Resizing: The append() method dynamically resizes the list to accommodate the new element.\n",
    "# - List Comprehension: You can perform complex operations like squaring each element in a single line, demonstrating the power and efficiency of lists."
   ]
  },
  {
   "cell_type": "code",
   "execution_count": 33,
   "id": "16a3ae3c",
   "metadata": {},
   "outputs": [
    {
     "data": {
      "text/plain": [
       "'\\nConclude:\\n- We created a list with name numbers\\n- Printed the list and the type of numbers\\n- Single line Comments starts with #\\n- Multi line comments with triple quotes\\n- List is enclosed with [] square brackets\\n\\n\\n'"
      ]
     },
     "execution_count": 33,
     "metadata": {},
     "output_type": "execute_result"
    }
   ],
   "source": [
    "# Create a list -- dynamic array|resize automatically|easy to maipulate\n",
    "\n",
    "numbers = [10, 20, 30, 40, 50] # defined in the first go\n",
    "\n",
    "print(numbers)\n",
    "\n",
    "# numbers\n",
    "\n",
    "type(numbers) # type tell you what is the data type of a variable\n",
    "\n",
    "\"\"\"\n",
    "Conclude:\n",
    "- We created a list with name numbers\n",
    "- Printed the list and the type of numbers\n",
    "- Single line Comments starts with #\n",
    "- Multi line comments with triple quotes\n",
    "- List is enclosed with [] square brackets\n",
    "\"\"\""
   ]
  },
  {
   "cell_type": "code",
   "execution_count": 64,
   "id": "55111dc2",
   "metadata": {},
   "outputs": [
    {
     "data": {
      "text/plain": [
       "[10, 20, 30, 40, 50, 30]"
      ]
     },
     "execution_count": 64,
     "metadata": {},
     "output_type": "execute_result"
    }
   ],
   "source": [
    "# Create a list -- dynamic array|resize automatically\n",
    "\n",
    "numbers = [10, 20, 30, 40, 50] # variable_name = start_bracket values inside bracket end_bracket\n",
    "# how to find the size of list \n",
    "\n",
    "len(numbers) # length\n",
    "\n",
    "numbers.append(30) #append()\n",
    "\n",
    "numbers\n",
    "\n",
    "#len(numbers)"
   ]
  },
  {
   "cell_type": "code",
   "execution_count": 55,
   "id": "ca7b338a",
   "metadata": {},
   "outputs": [
    {
     "data": {
      "text/plain": [
       "[10, 20, 30, 40, 50, 20]"
      ]
     },
     "execution_count": 55,
     "metadata": {},
     "output_type": "execute_result"
    }
   ],
   "source": [
    "numbers = [10, 20, 30, 40, 50]\n",
    "\n",
    "numbers.append(20)\n",
    "numbers"
   ]
  },
  {
   "cell_type": "code",
   "execution_count": 58,
   "id": "1f147461",
   "metadata": {},
   "outputs": [
    {
     "ename": "ValueError",
     "evalue": "list.remove(x): x not in list",
     "output_type": "error",
     "traceback": [
      "\u001b[0;31m---------------------------------------------------------------------------\u001b[0m",
      "\u001b[0;31mValueError\u001b[0m                                Traceback (most recent call last)",
      "Cell \u001b[0;32mIn[58], line 3\u001b[0m\n\u001b[1;32m      1\u001b[0m \u001b[38;5;66;03m# Add an element to the list --> \u001b[39;00m\n\u001b[0;32m----> 3\u001b[0m numbers\u001b[38;5;241m.\u001b[39mremove(\u001b[38;5;241m20\u001b[39m)\u001b[38;5;66;03m# Remove 20th number from Lists\u001b[39;00m\n\u001b[1;32m      4\u001b[0m numbers\n",
      "\u001b[0;31mValueError\u001b[0m: list.remove(x): x not in list"
     ]
    }
   ],
   "source": [
    "# Add an element to the list --> \n",
    "\n",
    "numbers.remove(20)# Remove 20th number from Lists\n",
    "numbers"
   ]
  },
  {
   "cell_type": "markdown",
   "id": "d0f4182b",
   "metadata": {},
   "source": [
    "<b> 2. Dictionaries</b>\n",
    "- Dictionaries in Python are key-value pairs that provide fast lookups, making them ideal for tasks that involve mapping data.\n"
   ]
  },
  {
   "cell_type": "code",
   "execution_count": 25,
   "id": "9f1902ac",
   "metadata": {
    "scrolled": true
   },
   "outputs": [
    {
     "name": "stdout",
     "output_type": "stream",
     "text": [
      "Dictionary after adding David: {'Alice': 85, 'Bob': 92, 'Charlie': 78, 'David': 88}\n",
      "Alice's grade: 85\n",
      "Dictionary after removing Charlie: {'Alice': 85, 'Bob': 92, 'David': 88}\n",
      "Alice: 85\n",
      "Bob: 92\n",
      "David: 88\n"
     ]
    }
   ],
   "source": [
    "# Example: Dictionary Operations --> key-value|pair\n",
    "\n",
    "# Create a dictionary\n",
    "student_grades = {\"Alice\": 85, \"Bob\": 92, \"Charlie\": 78} \n",
    "\n",
    "# Add a new key-value pair\n",
    "student_grades[\"David\"] = 88\n",
    "print(f\"Dictionary after adding David: {student_grades}\")\n",
    "\n",
    "# Access a value by key\n",
    "print(f\"Alice's grade: {student_grades['Alice']}\")\n",
    "\n",
    "# Remove a key-value pair\n",
    "del student_grades[\"Charlie\"]\n",
    "print(f\"Dictionary after removing Charlie: {student_grades}\")\n",
    "\n",
    "# Iterate over dictionary keys and values\n",
    "for student, grade in student_grades.items():\n",
    "    print(f\"{student}: {grade}\")\n",
    "\n",
    "# - Fast Lookups: Accessing and modifying elements by key in a dictionary is very efficient.\n",
    "# - Versatility: Dictionaries are versatile and can store complex data types, making them useful for a wide range of tasks."
   ]
  },
  {
   "cell_type": "markdown",
   "id": "939bf030",
   "metadata": {},
   "source": [
    "<b> 3. Sets </b>\n",
    "- Sets in Python are unordered collections of unique elements. They are particularly useful for tasks that involve membership testing, removing duplicates, and set operations like unions and intersections.\n"
   ]
  },
  {
   "cell_type": "code",
   "execution_count": 59,
   "id": "ea5059c6",
   "metadata": {},
   "outputs": [
    {
     "name": "stdout",
     "output_type": "stream",
     "text": [
      "Set after adding elements (duplicates are ignored): {'apple', 'banana', 'cherry'}\n",
      "Set after adding orange: {'apple', 'orange', 'banana', 'cherry'}\n",
      "Set after removing banana: {'apple', 'orange', 'cherry'}\n",
      "Union of fruits and citrus: {'orange', 'cherry', 'lemon', 'apple'}\n",
      "Intersection of fruits and citrus: {'orange'}\n"
     ]
    }
   ],
   "source": [
    "# Example: Set Operations\n",
    "\n",
    "# Create a set\n",
    "fruits = {\"apple\", \"banana\", \"cherry\", \"apple\"} \n",
    "fruits\n",
    "print(f\"Set after adding elements (duplicates are ignored): {fruits}\")\n",
    "\n",
    "# Add an element to the set\n",
    "fruits.add(\"orange\")\n",
    "print(f\"Set after adding orange: {fruits}\")\n",
    "\n",
    "# Remove an element from the set\n",
    "fruits.remove(\"banana\")\n",
    "print(f\"Set after removing banana: {fruits}\")\n",
    "\n",
    "# Set operations: union and intersection\n",
    "citrus = {\"orange\", \"lemon\"}\n",
    "print(f\"Union of fruits and citrus: {fruits.union(citrus)}\")\n",
    "print(f\"Intersection of fruits and citrus: {fruits.intersection(citrus)}\")\n",
    "\n",
    "\n",
    "# - Uniqueness: Sets automatically remove duplicates, ensuring that each element is unique.\n",
    "# - Set Operations: Python’s set operations are highly efficient for tasks like finding common elements between collections."
   ]
  },
  {
   "cell_type": "code",
   "execution_count": 60,
   "id": "d1e18ea3",
   "metadata": {},
   "outputs": [
    {
     "data": {
      "text/plain": [
       "{'apple', 'banana', 'cherry'}"
      ]
     },
     "execution_count": 60,
     "metadata": {},
     "output_type": "execute_result"
    }
   ],
   "source": [
    "# Create a set --> Unique elements\n",
    "fruits = {\"apple\", \"banana\", \"cherry\", \"apple\"} \n",
    "fruits"
   ]
  },
  {
   "cell_type": "code",
   "execution_count": 61,
   "id": "7b9fe380",
   "metadata": {},
   "outputs": [
    {
     "data": {
      "text/plain": [
       "{'apple', 'banana', 'cherry', 'orange'}"
      ]
     },
     "execution_count": 61,
     "metadata": {},
     "output_type": "execute_result"
    }
   ],
   "source": [
    "# Add an element to the set --> unique | Unordered\n",
    "fruits.add(\"orange\")\n",
    "fruits"
   ]
  },
  {
   "cell_type": "markdown",
   "id": "25e434b6",
   "metadata": {},
   "source": [
    "<b> 4. Tuples</b>\n",
    "Tuples in Python are immutable sequences, meaning once created, their elements cannot be changed. They are often used for fixed collections of items.\n"
   ]
  },
  {
   "cell_type": "code",
   "execution_count": null,
   "id": "131052d9",
   "metadata": {},
   "outputs": [],
   "source": [
    "# Example: Tuple Usage\n",
    "\n",
    "# Create a tuple\n",
    "coordinates = (10, 20)\n",
    "\n",
    "# Access elements by index\n",
    "x, y = coordinates\n",
    "print(f\"X coordinate: {x}\")\n",
    "print(f\"Y coordinate: {y}\")\n",
    "\n",
    "# Tuples are immutable, so trying to modify them will result in an error\n",
    "# coordinates[0] = 15  # Uncommenting this line will raise a TypeError\n",
    "# Immutability: Tuples are immutable, making them ideal for storing fixed data that should not change."
   ]
  },
  {
   "cell_type": "code",
   "execution_count": 71,
   "id": "d72e8557",
   "metadata": {},
   "outputs": [
    {
     "data": {
      "text/plain": [
       "(10, 20, 'Dev', 'Ashish')"
      ]
     },
     "execution_count": 71,
     "metadata": {},
     "output_type": "execute_result"
    }
   ],
   "source": [
    "coordinates = (10, 20)\n",
    "#print(coordinates)\n",
    "#len(coordinates)\n",
    "#type(coordinates)\n",
    "#coordinates.append(30) --> Concluding we can't add elements in tuple\n",
    "\n",
    "# (10, 20, 'Dev', 'Ashish')\n",
    "\n",
    "# Concatenate two tuples - + operator\n",
    "name = ('Dev', 'Ashish')\n",
    "\n",
    "coordinates + name\n"
   ]
  },
  {
   "cell_type": "markdown",
   "id": "c609c27b",
   "metadata": {},
   "source": [
    "<b>Simple but Effective Approach to Object-Oriented Programming (OOP):</b>\n",
    "\n",
    "- Python's syntax for OOP is straightforward, making it easy to define and use classes and objects. This simplicity allows developers to focus on designing and implementing the logic of their applications rather than getting bogged down by complex syntax.\n",
    "\n",
    "- Despite its simplicity, Python's OOP is powerful and flexible. It supports key OOP principles like inheritance, encapsulation, and polymorphism, which allow developers to write reusable and maintainable code.\n",
    "\n",
    "- Python also provides features like dynamic typing and multiple inheritance, which add to its effectiveness in handling object-oriented design."
   ]
  },
  {
   "cell_type": "markdown",
   "id": "fa328fe7",
   "metadata": {},
   "source": [
    "<div class=\"alert alert-block alert-success\">  \n",
    "    <font size =\"4\"> Python’s <b>elegant syntax and dynamic typing</b>, together with its interpreted nature, make it an ideal language for scripting and rapid application development in many areas on most platforms.</b>.</font>\n",
    "   \n",
    "</div>    "
   ]
  },
  {
   "cell_type": "markdown",
   "id": "08297a9e",
   "metadata": {},
   "source": [
    "<b>Elegant Syntax:</b>\n",
    "\n",
    "- Python is known for its clean, readable, and intuitive syntax. The language is designed to be easy to write and understand, which helps reduce the time it takes to develop and maintain code.\n",
    "\n",
    "- The straightforward syntax encourages developers to write code that is clear and concise, improving collaboration and reducing the likelihood of errors."
   ]
  },
  {
   "cell_type": "code",
   "execution_count": 7,
   "id": "91e64b2a",
   "metadata": {},
   "outputs": [
    {
     "name": "stdout",
     "output_type": "stream",
     "text": [
      "120\n"
     ]
    }
   ],
   "source": [
    "# Python's syntax is designed to be readable and simple. \n",
    "#For example, consider a function that calculates the factorial of a number:\n",
    "\n",
    "\n",
    "def factorial(n):\n",
    "    if n == 0:\n",
    "        return 1\n",
    "    else:\n",
    "        return n * factorial(n - 1)\n",
    "\n",
    "print(factorial(5))  # Output: 120\n",
    "\n",
    "# The function factorial is easy to read and understand, with clear indentation and minimal syntax.\n",
    "# Python’s indentation-based structure eliminates the need for braces {} or begin/end keywords found in many other languages."
   ]
  },
  {
   "cell_type": "markdown",
   "id": "e6e96908",
   "metadata": {},
   "source": [
    "<b>Dynamic Typing:</b>\n",
    "\n",
    "- Python is dynamically typed, meaning that you don’t need to explicitly declare the types of variables. The type is inferred at runtime, which allows for greater flexibility and quicker development.\n",
    "\n",
    "- This feature also enables more rapid prototyping, as developers can focus on the logic of their code without worrying about type constraints."
   ]
  },
  {
   "cell_type": "code",
   "execution_count": 76,
   "id": "7f823a24",
   "metadata": {},
   "outputs": [
    {
     "data": {
      "text/plain": [
       "str"
      ]
     },
     "execution_count": 76,
     "metadata": {},
     "output_type": "execute_result"
    }
   ],
   "source": [
    "# Variable - stores value which vary with time\n",
    "\"\"\"\n",
    "C/C++\n",
    "Variable Declaration --> int num;\n",
    "Variable Definition  --> num = 8.0/\"Dev\";\n",
    "\n",
    "int num -- wrong Syntax Error --> type of variable will be dynamic\n",
    "\"\"\"\n",
    "\n",
    "#Python - Can we declare a variable? - NO\n",
    "\n",
    "# int num - Syntax Error\n",
    "# num - Name Error\n",
    "\n",
    "#num = 0 # Type of variable is defined by the value assigned to it.\n",
    "#type(num)\n",
    "\n",
    "#num = 9.0 # Float\n",
    "#type(num)\n",
    "\n",
    "num = 'Dev'\n",
    "type(num)\n",
    "\n",
    "\n"
   ]
  },
  {
   "cell_type": "code",
   "execution_count": null,
   "id": "5597f9c4",
   "metadata": {},
   "outputs": [],
   "source": [
    "# In Python, you don’t need to declare the type of a variable. Python automatically infers it at runtime.\n",
    "\n",
    "x = 10          # x is an integer\n",
    "x = \"Hello\"     # Now x is a string\n",
    "x = [1, 2, 3]   # Now x is a list\n",
    "\n",
    "print(x)  # Output: [1, 2, 3]\n",
    "\n",
    "# Here, the variable x changes its type from an integer to a string to a list without any explicit type declaration.\n",
    "# This flexibility allows for rapid development and prototyping."
   ]
  },
  {
   "cell_type": "markdown",
   "id": "2dfe50d6",
   "metadata": {},
   "source": [
    "<b>Interpreted Nature:</b>\n",
    "\n",
    "- Python is an interpreted language, meaning that code is executed line by line, without the need for prior compilation. This makes it easy to test and debug, as you can run your code immediately and see the results.\n",
    "\n",
    "- The interpreted nature also supports interactive coding environments, like Jupyter notebooks, where developers can write and test small chunks of code in real-time."
   ]
  },
  {
   "cell_type": "code",
   "execution_count": 8,
   "id": "a5d7fad0",
   "metadata": {
    "collapsed": true
   },
   "outputs": [
    {
     "ename": "SyntaxError",
     "evalue": "invalid syntax (2989720632.py, line 4)",
     "output_type": "error",
     "traceback": [
      "\u001b[0;36m  Cell \u001b[0;32mIn[8], line 4\u001b[0;36m\u001b[0m\n\u001b[0;31m    >>> a = 5\u001b[0m\n\u001b[0m    ^\u001b[0m\n\u001b[0;31mSyntaxError\u001b[0m\u001b[0;31m:\u001b[0m invalid syntax\n"
     ]
    }
   ],
   "source": [
    "# Python code is executed line by line, making it easy to test small pieces of code. \n",
    "# For example, in an interactive Python shell (like python or IPython):\n",
    "\n",
    "num1 = 5 # No Comments - hard to understand\n",
    "num2 = 3\n",
    "totalsum = num1 + num2\n",
    "print(totalsum) # c or totalsum\n",
    "\n",
    "# You can execute each line of code interactively and immediately see the result, \n",
    "# which is useful for quick testing and debugging.\n",
    "\n"
   ]
  },
  {
   "cell_type": "markdown",
   "id": "ded1de65",
   "metadata": {},
   "source": [
    "<b> Ideal for Scripting and Rapid Application Development:</b>\n",
    "\n",
    "- Python’s combination of elegant syntax, dynamic typing, and being interpreted makes it especially suitable for scripting tasks—automating repetitive tasks or gluing together different systems.\n",
    "\n",
    "- These features also contribute to its effectiveness in rapid application development, allowing developers to quickly build and iterate on applications, especially in domains like web development, data analysis, and automation.\n"
   ]
  },
  {
   "cell_type": "code",
   "execution_count": 11,
   "id": "7e24df7f",
   "metadata": {},
   "outputs": [
    {
     "name": "stdout",
     "output_type": "stream",
     "text": [
      "Files renamed successfully!\n"
     ]
    }
   ],
   "source": [
    "\"\"\"\n",
    "Python is often used for scripting tasks,  such as automating repetitive tasks. \n",
    "Here’s an example script that renames all .txt files in a directory by appending the current date\n",
    "\"\"\"\n",
    "\n",
    "\n",
    "import os\n",
    "from datetime import datetime\n",
    "\n",
    "# Get current date\n",
    "current_date = datetime.now().strftime(\"%Y-%m-%d\")\n",
    "\n",
    "# Iterate over all files in the current directory\n",
    "for filename in os.listdir('.'):\n",
    "    if filename.endswith(\".txt\"):\n",
    "        # Generate new filename\n",
    "        new_name = f\"{filename[:-4]}_{current_date}.txt\"\n",
    "        # Rename the file\n",
    "        os.rename(filename, new_name)\n",
    "\n",
    "print(\"Files renamed successfully!\")\n",
    "\n",
    "\n",
    "\n",
    "# This script uses Python’s standard libraries (os and datetime) to automate a common file management task.\n",
    "# The script is concise and easy to modify, demonstrating Python’s suitability for quick scripting tasks.\n"
   ]
  },
  {
   "cell_type": "markdown",
   "id": "ecd41093",
   "metadata": {},
   "source": [
    "<b> Cross-Platform Compatibility: </b>\n",
    "\n",
    "- Python runs on most operating systems, including Windows, macOS, and Linux. This cross-platform compatibility makes it a versatile choice for development in diverse environments.\n",
    "\n",
    "\n",
    "- Python's portability means that scripts and applications developed on one platform can often run on another with minimal modifications."
   ]
  },
  {
   "cell_type": "markdown",
   "id": "5e6daa37",
   "metadata": {},
   "source": [
    "<div class=\"alert alert-block alert-success\">  \n",
    "    <font size =\"4\">The Python <b> interpreter and the extensive standard library</b> are freely available in source or binary form for all major platforms from the Python web site\n",
    "</b>.</font>\n",
    "   \n",
    "</div>    "
   ]
  },
  {
   "cell_type": "markdown",
   "id": "e9465b3a",
   "metadata": {},
   "source": [
    "The statement highlights that Python, along with its extensive standard library, is freely available for download in both source and binary forms. This availability across all major platforms makes Python highly accessible for developers. Let’s explore this concept with code examples."
   ]
  },
  {
   "cell_type": "markdown",
   "id": "d09dbab0",
   "metadata": {},
   "source": [
    "<b> Python Interpreter Availability</b>\n",
    "- The Python interpreter is the program that reads and executes Python code. \n",
    "\n",
    "- It’s available for free on the official Python website. You can download Python for Windows, macOS, and Linux."
   ]
  },
  {
   "cell_type": "markdown",
   "id": "f8cfaf6c",
   "metadata": {},
   "source": [
    "<b> Using the Standard Library </b>\n",
    "\n",
    "- Python comes with a vast standard library, a collection of modules and packages that provide ready-to-use functionalities. \n",
    "\n",
    "- This library is extensive and covers a wide range of tasks, so you don't need to install external packages for many common programming needs.\n",
    "\n",
    "- Here’s an example that uses Python’s standard library:"
   ]
  },
  {
   "cell_type": "code",
   "execution_count": null,
   "id": "5378633a",
   "metadata": {},
   "outputs": [],
   "source": [
    "\"\"\"\n",
    "Example 1: Working with Files\n",
    "Python’s standard library provides the os and shutil modules for interacting with the file system.\n",
    "\"\"\"\n",
    "\n",
    "import os\n",
    "import shutil\n",
    "\n",
    "# Create a new directory\n",
    "os.mkdir(\"example_dir\")\n",
    "\n",
    "# Create a text file in that directory\n",
    "with open(\"example_dir/sample.txt\", \"w\") as file:\n",
    "    file.write(\"Hello, Python Standard Library!\")\n",
    "\n",
    "# Copy the file to a new location\n",
    "shutil.copy(\"example_dir/sample.txt\", \"example_dir/sample_copy.txt\")\n",
    "\n",
    "# List all files in the directory\n",
    "print(os.listdir(\"example_dir\"))\n",
    "\n",
    "# Output: ['sample.txt', 'sample_copy.txt']\n",
    "\n",
    "\n",
    "# This example shows how you can create directories, write files, and copy files using just the standard library. \n",
    "# There's no need for third-party modules.\n",
    "# The os and shutil modules are part of Python's standard library, available across all platforms where Python is installed."
   ]
  },
  {
   "cell_type": "markdown",
   "id": "ca0223e6",
   "metadata": {},
   "source": [
    "<b>Cross-Platform Availability</b>\n",
    "\n",
    "- The same Python interpreter and standard library can be used across different operating systems. Here’s a simple Python script that works on all major platforms (Windows, macOS, Linux)"
   ]
  },
  {
   "cell_type": "code",
   "execution_count": 12,
   "id": "a74901dd",
   "metadata": {},
   "outputs": [
    {
     "name": "stdout",
     "output_type": "stream",
     "text": [
      "Operating System: Darwin\n"
     ]
    }
   ],
   "source": [
    "import platform\n",
    "\n",
    "# Print the name of the operating system\n",
    "print(f\"Operating System: {platform.system()}\")\n",
    "\n",
    "# Output examples: 'Windows', 'Linux', 'Darwin' (for macOS)\n",
    "\n",
    "# The platform module, part of the standard library, can be used to retrieve information about the platform on which the script is running.\n",
    "# This script will work the same way on any major operating system, demonstrating Python’s cross-platform capability."
   ]
  },
  {
   "cell_type": "markdown",
   "id": "64aab7b3",
   "metadata": {},
   "source": [
    "<div class=\"alert alert-block alert-success\">  \n",
    "    <font size =\"4\"> The Python interpreter is easily extended with new functions and data types implemented in C or C++</font>\n",
    "   \n",
    "</div>    "
   ]
  },
  {
   "cell_type": "markdown",
   "id": "d9ec04db",
   "metadata": {},
   "source": [
    "- The statement explains that the Python interpreter can be extended by adding new functions or data types written in C or C++. This capability is important because it allows developers to optimize performance-critical parts of their code or integrate Python with existing C/C++ libraries.\n",
    "\n",
    "<b>Why Extend Python with C/C++?</b>\n",
    "- Performance: While Python is a high-level language, sometimes you need the raw speed of C or C++ for performance-critical tasks.\n",
    "\n",
    "- Integration: You may need to use existing C/C++ libraries or interact with hardware directly, which is easier in C/C++.\n",
    "\n",
    "- Example: Extending Python with a C Function\n",
    "Let’s create a simple example where we write a C function to calculate the factorial of a number, and then use this function in Python.\n",
    "\n"
   ]
  },
  {
   "cell_type": "code",
   "execution_count": null,
   "id": "b29e32cd",
   "metadata": {},
   "outputs": [],
   "source": [
    "# Step 1: Write the C Code\n",
    "# First, create a C file named factorial.c:\n",
    "\n",
    "#include <Python.h>\n",
    "\n",
    "// Function to calculate the factorial of a number\n",
    "static long factorial(long n) {\n",
    "    if (n <= 1)\n",
    "        return 1;\n",
    "    else\n",
    "        return n * factorial(n - 1);\n",
    "}\n",
    "\n",
    "// Wrapper function that will be called from Python\n",
    "static PyObject* py_factorial(PyObject* self, PyObject* args) {\n",
    "    long n;\n",
    "    // Parse the input from Python (expecting a single integer)\n",
    "    if (!PyArg_ParseTuple(args, \"l\", &n))\n",
    "        return NULL;\n",
    "    \n",
    "    return PyLong_FromLong(factorial(n));\n",
    "}\n",
    "\n",
    "// Method definition object\n",
    "static PyMethodDef FactorialMethods[] = {\n",
    "    {\"factorial\", py_factorial, METH_VARARGS, \"Calculate the factorial of a number.\"},\n",
    "    {NULL, NULL, 0, NULL}\n",
    "};\n",
    "\n",
    "// Module definition\n",
    "static struct PyModuleDef factorialmodule = {\n",
    "    PyModuleDef_HEAD_INIT,\n",
    "    \"factorial\",   // name of module\n",
    "    NULL,          // module documentation, may be NULL\n",
    "    -1,            // size of per-interpreter state of the module, or -1 if the module keeps state in global variables.\n",
    "    FactorialMethods\n",
    "};\n",
    "\n",
    "// Module initialization function\n",
    "PyMODINIT_FUNC PyInit_factorial(void) {\n",
    "    return PyModule_Create(&factorialmodule);\n",
    "}\n",
    "\n",
    "# This C code defines a factorial function and a wrapper function py_factorial that converts Python arguments to C types and back.\n",
    "# The PyInit_factorial function initializes the module, allowing Python to import it as a regular module."
   ]
  },
  {
   "cell_type": "code",
   "execution_count": null,
   "id": "ca0a47aa",
   "metadata": {},
   "outputs": [],
   "source": [
    "# Step 2: Compile the C Code into a Shared Library\n",
    "# To use this C code in Python, compile it into a shared object library:\n",
    "\n",
    "gcc -Wall -shared -o factorial.so -fPIC -I/usr/include/python3.8 factorial.c\n",
    "\n",
    "# The -shared flag creates a shared library.\n",
    "# -fPIC is required for position-independent code.\n",
    "# Adjust the -I/usr/include/python3.8 part to match your Python version and environment."
   ]
  },
  {
   "cell_type": "code",
   "execution_count": null,
   "id": "0f93f985",
   "metadata": {},
   "outputs": [],
   "source": [
    "# Step 3: Use the C Extension in Python\n",
    "# Now, you can use the compiled C extension in a Python script:\n",
    "\n",
    "import factorial\n",
    "\n",
    "# Calculate the factorial of 5 using the C extension\n",
    "result = factorial.factorial(5)\n",
    "print(f\"Factorial of 5 is {result}\")\n",
    "\n",
    "# Output: Factorial of 5 is 120\n",
    "\n",
    "# The factorial module is imported just like a regular Python module, but it's actually backed by the C code you wrote."
   ]
  },
  {
   "cell_type": "markdown",
   "id": "4d3e35f4",
   "metadata": {},
   "source": [
    "<b> Advantages of This Approach</b>\n",
    "\n",
    "- Performance: The factorial calculation is done in C, which is much faster than an equivalent Python implementation, especially for large numbers.\n",
    "\n",
    "- Integration: You can leverage existing C/C++ libraries or hardware interfaces within your Python programs."
   ]
  },
  {
   "cell_type": "markdown",
   "id": "3d9fe19a",
   "metadata": {},
   "source": [
    "<div class=\"alert alert-block alert-success\">  \n",
    "    <font size =\"4\"> Python is simple to use, but it is a real programming language, offering much more structure and support for large programs than shell scripts or batch files can offer</font>\n",
    "   \n",
    "</div>    "
   ]
  },
  {
   "cell_type": "markdown",
   "id": "10604c8d",
   "metadata": {},
   "source": [
    "The statement emphasizes that Python, while simple and easy to use, is a fully-featured programming language. It provides much more structure, functionality, and support for developing large, complex programs than simpler scripting languages like shell scripts or batch files.\n",
    "\n",
    "\n",
    "<b>Key Points</b>\n",
    "\n",
    "- Ease of Use: Python's syntax is straightforward and easy to learn, making it accessible for beginners while being powerful enough for experts.\n",
    "\n",
    "- Structure: Unlike shell scripts or batch files, Python supports advanced programming concepts like object-oriented programming, modules, and packages, which help in organizing and structuring code for larger projects.\n",
    "\n",
    "- Support for Large Programs: Python's extensive standard library, third-party packages, and features like exception handling, modularity, and object-oriented design make it suitable for building and maintaining large-scale applications.\n"
   ]
  },
  {
   "cell_type": "code",
   "execution_count": null,
   "id": "c9f6d899",
   "metadata": {},
   "outputs": [],
   "source": [
    "# Example 1: Simple Task in a Shell Script vs. Python\n",
    "# Shell Script Example (Bash)\n",
    "# Here’s a simple Bash script that reads a list of filenames from a directory and prints their names:\n",
    "\n",
    "#!/bin/bash\n",
    "\n",
    "for file in *.txt\n",
    "do\n",
    "    echo \"File: $file\"\n",
    "done\n",
    "\n",
    "\n",
    "#This Bash script is straightforward but limited in its ability to handle complex tasks, such as error handling, \n",
    "# manipulating the filenames in sophisticated ways, or integrating with larger applications."
   ]
  },
  {
   "cell_type": "code",
   "execution_count": null,
   "id": "2fd89598",
   "metadata": {},
   "outputs": [],
   "source": [
    "# Python Script Example\n",
    "# The same task can be done in Python, with more structure and flexibility:\n",
    "\n",
    "import os\n",
    "\n",
    "def list_files(directory, extension=\".txt\"):\n",
    "    try:\n",
    "        for filename in os.listdir(directory):\n",
    "            if filename.endswith(extension):\n",
    "                print(f\"File: {filename}\")\n",
    "    except FileNotFoundError:\n",
    "        print(f\"Directory {directory} not found\")\n",
    "    except Exception as e:\n",
    "        print(f\"An error occurred: {e}\")\n",
    "\n",
    "# Call the function to list .txt files in the current directory\n",
    "list_files(\".\")\n",
    "\n",
    "\"\"\"\n",
    "Error Handling: Python includes structured error handling with try-except blocks, allowing the script to gracefully handle issues like a missing directory.\n",
    "\n",
    "Functionality: The code is organized into a function (list_files), making it reusable and easier to maintain.\n",
    "\n",
    "Extensibility: The script can be easily extended to handle more complex tasks, such as filtering files by different criteria or processing the files further.\n",
    "\n",
    "\"\"\""
   ]
  },
  {
   "cell_type": "markdown",
   "id": "9cd75c27",
   "metadata": {},
   "source": [
    "<b> Example 2: Large-Scale Program</b>\n",
    "\n",
    "- Python supports the development of large, complex applications with features like object-oriented programming, modularity, and a rich standard library.\n",
    "\n",
    "\n",
    "- Here’s an example of a more structured Python program:"
   ]
  },
  {
   "cell_type": "code",
   "execution_count": null,
   "id": "c369611d",
   "metadata": {},
   "outputs": [],
   "source": [
    "import os\n",
    "\n",
    "class FileProcessor:\n",
    "    def __init__(self, directory):\n",
    "        self.directory = directory\n",
    "\n",
    "    def list_files(self, extension=\".txt\"):\n",
    "        try:\n",
    "            files = [f for f in os.listdir(self.directory) if f.endswith(extension)]\n",
    "            return files\n",
    "        except FileNotFoundError:\n",
    "            print(f\"Directory {self.directory} not found\")\n",
    "            return []\n",
    "        except Exception as e:\n",
    "            print(f\"An error occurred: {e}\")\n",
    "            return []\n",
    "\n",
    "    def process_files(self, extension=\".txt\"):\n",
    "        files = self.list_files(extension)\n",
    "        for file in files:\n",
    "            self.process_file(file)\n",
    "\n",
    "    def process_file(self, file):\n",
    "        print(f\"Processing {file}...\")\n",
    "\n",
    "# Example usage\n",
    "if __name__ == \"__main__\":\n",
    "    processor = FileProcessor(\".\")\n",
    "    processor.process_files(\".txt\")\n",
    "\n",
    "\"\"\"\n",
    "Object-Oriented Design: The program is structured around a FileProcessor class, making it easier to manage and extend.\n",
    "\n",
    "Modularity: The program is modular, with separate methods for listing and processing files, promoting code reuse and maintainability.\n",
    "\n",
    "Scalability: This structure is suitable for scaling up the application to handle more complex operations, integrating with other systems, or adding new features.\n",
    "\"\"\" "
   ]
  },
  {
   "cell_type": "markdown",
   "id": "c5508d23",
   "metadata": {},
   "source": [
    "<b> Comparison with Shell Scripts and Batch Files </b>\n",
    "\n",
    "- Scalability and Maintenance: Python's features like functions, classes, and modules support better organization of code, making it easier to scale and maintain large programs.\n",
    "\n",
    "- Error Handling: Python’s built-in exception handling provides a robust way to manage errors, which is more sophisticated than the basic error handling available in shell scripts or batch files.\n",
    "\n",
    "- Standard Library: Python's extensive standard library provides tools and modules for a wide range of tasks, reducing the need to write custom code for common operations.\n",
    "\n",
    "\n",
    "<b>Conclusion</b>\n",
    "\n",
    "Python combines the simplicity of scripting languages with the power and structure of a full-fledged programming language. This makes it a versatile tool for both small automation scripts and large, complex applications. Unlike shell scripts or batch files, Python offers the structure, support, and features needed to develop, maintain, and scale large programs effectively."
   ]
  },
  {
   "cell_type": "markdown",
   "id": "5dc80bfc",
   "metadata": {},
   "source": [
    "<div class=\"alert alert-block alert-success\">  \n",
    "    <font size =\"4\">Python also offers much more error checking than C, and, being a very-high-level language, it has high-level data types built in, such as flexible arrays and dictionaries\n",
    "</font>\n",
    "   \n",
    "</div>    "
   ]
  },
  {
   "cell_type": "markdown",
   "id": "8b1e7b55",
   "metadata": {},
   "source": [
    "<b>The statement highlights two key advantages of Python over C:</b>\n",
    "\n",
    "- More Error Checking: Python performs more runtime checks, such as type checking, bounds checking, and exception handling, making it easier to catch and debug errors.\n",
    "\n",
    "\n",
    "- High-Level Data Types: Python provides high-level data types like lists (which are flexible arrays) and dictionaries (which are hash maps or associative arrays) that are built-in and easy to use, whereas in C, you would need to implement or use external libraries to achieve similar functionality."
   ]
  },
  {
   "cell_type": "markdown",
   "id": "ad6ca385",
   "metadata": {},
   "source": [
    "<b> Example 1: Error Checking in Python vs. C </b>"
   ]
  },
  {
   "cell_type": "code",
   "execution_count": null,
   "id": "939b0bd9",
   "metadata": {},
   "outputs": [],
   "source": [
    "# C Example\n",
    "\"\"\"\n",
    "Lack of Bounds Checking: This code tries to access the 11th element of a 5-element array, which results in undefined behavior. \n",
    "C does not automatically check if the index is out of bounds, leading to potential crashes or corrupted data.\n",
    "\"\"\"\n",
    "\n",
    "#include <stdio.h>\n",
    "\n",
    "int main() {\n",
    "    int arr[5] = {1, 2, 3, 4, 5};\n",
    "\n",
    "    // Accessing out of bounds element (undefined behavior in C)\n",
    "    printf(\"Element: %d\\n\", arr[10]);\n",
    "\n",
    "    return 0;\n",
    "}"
   ]
  },
  {
   "cell_type": "code",
   "execution_count": 14,
   "id": "ea258747",
   "metadata": {
    "collapsed": true
   },
   "outputs": [
    {
     "name": "stdout",
     "output_type": "stream",
     "text": [
      "Error: list index out of range\n"
     ]
    },
    {
     "data": {
      "text/plain": [
       "'\\nBounds Checking: \\n- Python automatically checks if the index is within the valid range of the array (list). \\n- If it’s not, Python raises an IndexError, which you can catch and handle gracefully.\\n\\n\\nError Handling: Python provides structured exception handling, making it easier to catch and manage errors.\\n'"
      ]
     },
     "execution_count": 14,
     "metadata": {},
     "output_type": "execute_result"
    }
   ],
   "source": [
    "# Python Example\n",
    "# In Python, similar code would look like this:\n",
    "\n",
    "arr = [1, 2, 3, 4, 5]\n",
    "\n",
    "try:\n",
    "    # Accessing out of bounds element (Python raises an IndexError)\n",
    "    print(f\"Element: {arr[10]}\")\n",
    "except IndexError as e:\n",
    "    print(f\"Error: {e}\")\n",
    "\n",
    "    \n",
    "\"\"\"\n",
    "Bounds Checking: \n",
    "- Python automatically checks if the index is within the valid range of the array (list). \n",
    "- If it’s not, Python raises an IndexError, which you can catch and handle gracefully.\n",
    "\n",
    "\n",
    "Error Handling: Python provides structured exception handling, making it easier to catch and manage errors.\n",
    "\"\"\"    \n"
   ]
  },
  {
   "cell_type": "markdown",
   "id": "c70453dd",
   "metadata": {},
   "source": [
    "<b>Example 2: High-Level Data Types</b>\n",
    "\n",
    "\n",
    "- Python provides high-level data types like lists and dictionaries that are much more flexible and easier to use compared to C arrays and hash tables."
   ]
  },
  {
   "cell_type": "code",
   "execution_count": null,
   "id": "ca7ea69f",
   "metadata": {},
   "outputs": [],
   "source": [
    "# C Example (Arrays and Hash Tables)\n",
    "# In C, if you wanted to use a dynamic array and a hash table, you’d need to implement them yourself or use libraries like glib:\n",
    "\n",
    "#include <stdio.h>\n",
    "#include <stdlib.h>\n",
    "\n",
    "int main() {\n",
    "    // Dynamic array (requires manual memory management)\n",
    "    int *arr = malloc(5 * sizeof(int));\n",
    "    for (int i = 0; i < 5; i++) {\n",
    "        arr[i] = i + 1;\n",
    "    }\n",
    "\n",
    "    // Accessing array elements\n",
    "    for (int i = 0; i < 5; i++) {\n",
    "        printf(\"%d \", arr[i]);\n",
    "    }\n",
    "    printf(\"\\n\");\n",
    "\n",
    "    // Freeing memory\n",
    "    free(arr);\n",
    "\n",
    "    // Hash table implementation would be even more complex and require additional libraries or code\n",
    "    return 0;\n",
    "}\n",
    "\n",
    "\"\"\"\n",
    "Manual Memory Management: \n",
    "- You need to manage memory manually using malloc and free.\n",
    "\n",
    "Lack of Built-In Hash Table: \n",
    "- C does not have a built-in dictionary (hash table) type, so you would need to write your own or use a library.\n",
    "\n",
    "\"\"\""
   ]
  },
  {
   "cell_type": "code",
   "execution_count": null,
   "id": "6a81701f",
   "metadata": {},
   "outputs": [],
   "source": [
    "# Python Example (Lists and Dictionaries)\n",
    "# In Python, dynamic arrays (lists) and dictionaries are built-in and easy to use:\n",
    "\n",
    "# Dynamic array (list)\n",
    "arr = [1, 2, 3, 4, 5]\n",
    "\n",
    "# Accessing list elements\n",
    "for element in arr:\n",
    "    print(element, end=\" \")\n",
    "print()\n",
    "\n",
    "# Dictionary (hash table)\n",
    "my_dict = {\"apple\": 2, \"banana\": 3, \"cherry\": 5}\n",
    "\n",
    "# Accessing dictionary elements\n",
    "for key, value in my_dict.items():\n",
    "    print(f\"{key}: {value}\")\n",
    "\n",
    "\"\"\"\n",
    "Lists: \n",
    "- Python lists are dynamic arrays that automatically manage memory and can grow or shrink as needed.\n",
    "\n",
    "Dictionaries: \n",
    "- Python dictionaries are hash tables that allow for fast lookup, insertion, and deletion of key-value pairs.\n",
    "\n",
    "Ease of Use: \n",
    "- Both lists and dictionaries are easy to use, requiring no manual memory management or complex implementation.\n",
    "\"\"\"  "
   ]
  },
  {
   "cell_type": "markdown",
   "id": "3888fecd",
   "metadata": {},
   "source": [
    "<b> Conclusion</b>\n",
    "\n",
    "- Python offers significant advantages over C in terms of error checking and built-in high-level data types:\n",
    "\n",
    "    - Error Checking: Python automatically performs runtime checks, such as bounds checking and type checking, which helps catch errors early and makes debugging easier.\n",
    "\n",
    "    - High-Level Data Types: Python provides flexible, built-in data types like lists and dictionaries, making it easier to manage complex data structures without the need for manual memory management or external libraries.\n",
    "\n",
    "\n",
    "- These features make Python a powerful language for both small scripts and large-scale applications, providing more safety and ease of use compared to lower-level languages like C."
   ]
  },
  {
   "cell_type": "markdown",
   "id": "c54c7536",
   "metadata": {},
   "source": [
    "<div class=\"alert alert-block alert-success\">  \n",
    "    <font size =\"4\"> Python allows you to split your program into modules that can be reused in other Python programs.\n",
    "\n",
    "</font>\n",
    "   \n",
    "</div>    "
   ]
  },
  {
   "cell_type": "markdown",
   "id": "846f29ec",
   "metadata": {},
   "source": [
    "- Python's modular design allows you to split your program into smaller, self-contained units called modules. These modules can be imported and reused in other Python programs, promoting code reuse and better organization.\n",
    "\n",
    "<b>What is a Module?</b>\n",
    "\n",
    "- A module in Python is simply a file containing Python code, such as functions, classes, or variables, that you can reuse in other programs. The file name becomes the module name, and you can import it using the import statement."
   ]
  },
  {
   "cell_type": "markdown",
   "id": "48405fed",
   "metadata": {},
   "source": [
    "<b> Example: Creating and Using Modules</b>\n",
    "\n",
    "- Let’s walk through an example where we create a module and reuse it in different programs."
   ]
  },
  {
   "cell_type": "code",
   "execution_count": 15,
   "id": "e4bc314f",
   "metadata": {},
   "outputs": [],
   "source": [
    "# Step 1: Create a Python Module\n",
    "# Suppose you are developing a utility module named math_utils.py that contains some mathematical functions.\n",
    "\n",
    "# math_utils.py\n",
    "\n",
    "def add(a, b):\n",
    "    return a + b\n",
    "\n",
    "def subtract(a, b):\n",
    "    return a - b\n",
    "\n",
    "def multiply(a, b):\n",
    "    return a * b\n",
    "\n",
    "def divide(a, b):\n",
    "    if b == 0:\n",
    "        raise ValueError(\"Cannot divide by zero!\")\n",
    "    return a / b\n",
    "\n",
    "# This module defines four basic mathematical functions: add, subtract, multiply, and divide.\n",
    "# It can be saved as math_utils.py and used in other Python programs."
   ]
  },
  {
   "cell_type": "code",
   "execution_count": 16,
   "id": "3fba950f",
   "metadata": {
    "collapsed": true
   },
   "outputs": [
    {
     "ename": "ModuleNotFoundError",
     "evalue": "No module named 'math_utils'",
     "output_type": "error",
     "traceback": [
      "\u001b[0;31m---------------------------------------------------------------------------\u001b[0m",
      "\u001b[0;31mModuleNotFoundError\u001b[0m                       Traceback (most recent call last)",
      "Cell \u001b[0;32mIn[16], line 6\u001b[0m\n\u001b[1;32m      1\u001b[0m \u001b[38;5;66;03m# Step 2: Use the Module in Another Program\u001b[39;00m\n\u001b[1;32m      2\u001b[0m \u001b[38;5;66;03m# Now, you can create another Python program that imports and uses the math_utils module.\u001b[39;00m\n\u001b[1;32m      3\u001b[0m \n\u001b[1;32m      4\u001b[0m \u001b[38;5;66;03m# main_program.py\u001b[39;00m\n\u001b[0;32m----> 6\u001b[0m \u001b[38;5;28;01mimport\u001b[39;00m \u001b[38;5;21;01mmath_utils\u001b[39;00m\n\u001b[1;32m      8\u001b[0m \u001b[38;5;28;01mdef\u001b[39;00m \u001b[38;5;21mmain\u001b[39m():\n\u001b[1;32m      9\u001b[0m     x \u001b[38;5;241m=\u001b[39m \u001b[38;5;241m10\u001b[39m\n",
      "\u001b[0;31mModuleNotFoundError\u001b[0m: No module named 'math_utils'"
     ]
    }
   ],
   "source": [
    "# Step 2: Use the Module in Another Program\n",
    "# Now, you can create another Python program that imports and uses the math_utils module.\n",
    "\n",
    "# main_program.py\n",
    "\n",
    "import math_utils\n",
    "\n",
    "def main():\n",
    "    x = 10\n",
    "    y = 5\n",
    "\n",
    "    print(f\"{x} + {y} = {math_utils.add(x, y)}\")\n",
    "    print(f\"{x} - {y} = {math_utils.subtract(x, y)}\")\n",
    "    print(f\"{x} * {y} = {math_utils.multiply(x, y)}\")\n",
    "    print(f\"{x} / {y} = {math_utils.divide(x, y)}\")\n",
    "\n",
    "if __name__ == \"__main__\":\n",
    "    main()\n",
    "    \n",
    "    \n",
    "    \n",
    "# In main_program.py, the math_utils module is imported using the import math_utils statement.\n",
    "\n",
    "# The program then uses the functions from the math_utils module to perform mathematical operations.\n",
    "\n",
    "# This demonstrates how you can split your code into separate modules and reuse them across multiple programs."
   ]
  },
  {
   "cell_type": "code",
   "execution_count": null,
   "id": "1777fd67",
   "metadata": {},
   "outputs": [],
   "source": [
    "# Step 3: Reuse the Module in Another Program\n",
    "# You can reuse the math_utils module in a completely different program without rewriting the functions:\n",
    "\n",
    "# another_program.py\n",
    "\n",
    "from math_utils import add, divide\n",
    "\n",
    "def main():\n",
    "    a = 15\n",
    "    b = 3\n",
    "\n",
    "    print(f\"The sum of {a} and {b} is {add(a, b)}\")\n",
    "    print(f\"{a} divided by {b} is {divide(a, b)}\")\n",
    "\n",
    "if __name__ == \"__main__\":\n",
    "    main()\n",
    "\n",
    "\n",
    "# In another_program.py, only the add and divide functions are imported from the math_utils module using the from ... import ... statement.\n",
    "\n",
    "# This allows you to selectively import only the functions or classes you need."
   ]
  },
  {
   "cell_type": "markdown",
   "id": "db7cdc8c",
   "metadata": {},
   "source": [
    "<b>Benefits of Using Modules</b>\n",
    "\n",
    "1. Code Reuse: By creating modules, you can reuse code across different programs without copying and pasting. This reduces duplication and makes maintenance easier.\n",
    "\n",
    "2. Organization: Splitting a large program into smaller modules makes it easier to manage and understand. Each module can focus on a specific functionality.\n",
    "\n",
    "3. Namespace Management: Modules help in managing namespaces by keeping the scope of variables and functions local to the module, reducing the risk of name conflicts.\n",
    "\n",
    "4. Easy Maintenance: Since each module is a separate file, you can update and test individual components without affecting the entire program."
   ]
  },
  {
   "cell_type": "markdown",
   "id": "ed120731",
   "metadata": {},
   "source": [
    "<b>Conclusion</b>\n",
    "\n",
    "- Python’s modularity allows you to break down your program into reusable modules, which can be imported and used in other Python programs. \n",
    "\n",
    "- This promotes code reuse, better organization, and easier maintenance, making Python a powerful tool for both small scripts and large-scale applications. \n",
    "\n",
    "- The ability to create and reuse modules is a key feature that enhances the flexibility and efficiency of Python programming."
   ]
  },
  {
   "cell_type": "markdown",
   "id": "f8a3aa99",
   "metadata": {},
   "source": [
    "<div class=\"alert alert-block alert-success\">  \n",
    "    <font size =\"4\"> Python comes with a large collection of standard modules that you can use as the basis of your programs\n",
    "\n",
    "\n",
    "</font>\n",
    "   \n",
    "</div>    "
   ]
  },
  {
   "cell_type": "markdown",
   "id": "75a874ae",
   "metadata": {},
   "source": [
    "- Python’s standard library is a vast collection of modules and packages that provide a wide range of functionalities, from handling files and directories to working with data structures, internet protocols, and much more. \n",
    "\n",
    "- These modules are built into Python, so you don't need to install them separately. \n",
    "\n",
    "- You can use them as the foundation for your programs, saving you from having to write code from scratch for common tasks."
   ]
  },
  {
   "cell_type": "markdown",
   "id": "9f3d7b22",
   "metadata": {},
   "source": [
    "<b> Example 1: Using the os Module for File and Directory Operations</b>\n",
    "\n",
    "- The os module is a standard Python module that provides a way to interact with the operating system. \n",
    "\n",
    "- It allows you to perform tasks like navigating the file system, creating directories, and handling files."
   ]
  },
  {
   "cell_type": "code",
   "execution_count": 17,
   "id": "531e351f",
   "metadata": {
    "collapsed": true
   },
   "outputs": [
    {
     "name": "stdout",
     "output_type": "stream",
     "text": [
      "Current Directory: /Users/devarsh/Desktop/Takeo Training/Data Analytics and AI Bootcamp - 58/Day - 2\n",
      "Entries in Current Directory:\n",
      "Day - 2 Python Basics - 1 .ipynb\n",
      ".ipynb_checkpoints\n",
      "Created Directory: /Users/devarsh/Desktop/Takeo Training/Data Analytics and AI Bootcamp - 58/Day - 2/new_folder\n",
      "Renamed Directory to: /Users/devarsh/Desktop/Takeo Training/Data Analytics and AI Bootcamp - 58/Day - 2/renamed_folder\n",
      "Removed Directory: /Users/devarsh/Desktop/Takeo Training/Data Analytics and AI Bootcamp - 58/Day - 2/renamed_folder\n"
     ]
    }
   ],
   "source": [
    "import os\n",
    "\n",
    "# Get the current working directory\n",
    "current_directory = os.getcwd()\n",
    "print(f\"Current Directory: {current_directory}\")\n",
    "\n",
    "# List files and directories in the current directory\n",
    "entries = os.listdir(current_directory)\n",
    "print(\"Entries in Current Directory:\")\n",
    "for entry in entries:\n",
    "    print(entry)\n",
    "\n",
    "# Create a new directory\n",
    "new_directory = os.path.join(current_directory, \"new_folder\")\n",
    "os.mkdir(new_directory)\n",
    "print(f\"Created Directory: {new_directory}\")\n",
    "\n",
    "# Rename the directory\n",
    "renamed_directory = os.path.join(current_directory, \"renamed_folder\")\n",
    "os.rename(new_directory, renamed_directory)\n",
    "print(f\"Renamed Directory to: {renamed_directory}\")\n",
    "\n",
    "# Remove the directory\n",
    "os.rmdir(renamed_directory)\n",
    "print(f\"Removed Directory: {renamed_directory}\")"
   ]
  },
  {
   "cell_type": "markdown",
   "id": "e3007586",
   "metadata": {},
   "source": [
    "<font size =\"3\">\n",
    "    \n",
    "1. os.getcwd(): Retrieves the current working directory.\n",
    "\n",
    "2. os.listdir(): Lists all files and directories in a specified directory.\n",
    "\n",
    "3. os.mkdir(): Creates a new directory.\n",
    "\n",
    "4. os.rename(): Renames a file or directory.\n",
    "\n",
    "5. os.rmdir(): Removes an empty directory. \n",
    "\n",
    "\n",
    "- This code demonstrates how you can use the os module to interact with the file system, a common task that would require much more code if implemented from scratch.</font>"
   ]
  },
  {
   "cell_type": "markdown",
   "id": "748e6420",
   "metadata": {},
   "source": [
    "<b> Example 2: Using the math Module for Mathematical Operations</b>\n",
    "\n",
    "- The <b>math module</b> provides a variety of mathematical functions, such as trigonometric functions, logarithms, and constants like pi."
   ]
  },
  {
   "cell_type": "code",
   "execution_count": null,
   "id": "9d76458f",
   "metadata": {},
   "outputs": [],
   "source": [
    "import math\n",
    "\n",
    "# Calculate the square root of a number\n",
    "number = 16\n",
    "sqrt_value = math.sqrt(number)\n",
    "print(f\"Square root of {number} is {sqrt_value}\")\n",
    "\n",
    "# Calculate the cosine of an angle\n",
    "angle = math.pi / 4  # 45 degrees in radians\n",
    "cos_value = math.cos(angle)\n",
    "print(f\"Cosine of 45 degrees is {cos_value}\")\n",
    "\n",
    "# Calculate the factorial of a number\n",
    "factorial_value = math.factorial(5)\n",
    "print(f\"Factorial of 5 is {factorial_value}\")\n",
    "\n",
    "# Use the constant pi\n",
    "print(f\"Value of pi is {math.pi}\")\n"
   ]
  },
  {
   "cell_type": "markdown",
   "id": "1f7e0aca",
   "metadata": {},
   "source": [
    "<font size = \"3\">\n",
    "    \n",
    "1. math.sqrt(): Computes the square root of a number.\n",
    "2. math.cos(): Computes the cosine of an angle (in radians).\n",
    "3. math.factorial(): Computes the factorial of an integer.\n",
    "4. math.pi: Provides the value of the mathematical constant π.\n",
    "\n",
    "- These functions are readily available in the math module, so you don’t have to implement them yourself, which speeds up development.\n",
    "    </font>"
   ]
  },
  {
   "cell_type": "markdown",
   "id": "17b1876e",
   "metadata": {},
   "source": [
    "<b>Example 3: Using the datetime Module for Date and Time Operations</b>\n",
    "- The datetime module provides classes for manipulating dates and times in both simple and complex ways."
   ]
  },
  {
   "cell_type": "code",
   "execution_count": 18,
   "id": "724a46a2",
   "metadata": {
    "scrolled": true
   },
   "outputs": [
    {
     "name": "stdout",
     "output_type": "stream",
     "text": [
      "Current Date and Time: 2024-08-14 03:11:48.894619\n",
      "Specific Date: 2023-08-01\n",
      "Difference between 2024-08-13 and 2023-08-13 is 366 days\n",
      "Formatted Date: Wednesday, August 14, 2024\n"
     ]
    }
   ],
   "source": [
    "import datetime\n",
    "\n",
    "# Get the current date and time\n",
    "current_datetime = datetime.datetime.now()\n",
    "print(f\"Current Date and Time: {current_datetime}\")\n",
    "\n",
    "# Create a specific date\n",
    "specific_date = datetime.date(2023, 8, 1)\n",
    "print(f\"Specific Date: {specific_date}\")\n",
    "\n",
    "# Calculate the difference between two dates\n",
    "date1 = datetime.date(2024, 8, 13)\n",
    "date2 = datetime.date(2023, 8, 13)\n",
    "date_difference = date1 - date2\n",
    "print(f\"Difference between {date1} and {date2} is {date_difference.days} days\")\n",
    "\n",
    "# Format the date as a string\n",
    "formatted_date = current_datetime.strftime(\"%A, %B %d, %Y\")\n",
    "print(f\"Formatted Date: {formatted_date}\")\n"
   ]
  },
  {
   "cell_type": "markdown",
   "id": "cbbaf9a5",
   "metadata": {},
   "source": [
    "<font size = \"3\">\n",
    "\n",
    "1. datetime.datetime.now(): Gets the current date and time.\n",
    "    \n",
    "2. datetime.date(): Creates a date object representing a specific date.\n",
    "\n",
    "3. date1 - date2: Computes the difference between two dates.\n",
    "\n",
    "4. strftime(): Formats a date as a string according to the specified format.\n",
    "\n",
    "    \n",
    "- This module allows you to work with dates and times efficiently, which is a common requirement in many applications. <font>"
   ]
  },
  {
   "cell_type": "markdown",
   "id": "5b3a6244",
   "metadata": {},
   "source": [
    "<b> Benefits of Python's Standard Library</b>\n",
    "\n",
    "- Ready-to-Use: Python’s standard modules are ready to use, so you don’t have to reinvent the wheel for common tasks.\n",
    "\n",
    "- Consistency: These modules follow consistent naming conventions and design patterns, making them easy to learn and use.\n",
    "\n",
    "- Portability: Since the standard library is available on all platforms where Python runs, you can write portable code that works across different operating systems."
   ]
  },
  {
   "cell_type": "markdown",
   "id": "6af05633",
   "metadata": {},
   "source": [
    "<b> Conclusion</b>\n",
    "- Python’s large collection of standard modules provides the foundation for building powerful and versatile programs. \n",
    "\n",
    "- Whether you need to perform file operations, mathematical calculations, or date and time manipulations, Python’s standard library has you covered, allowing you to focus on building your application rather than implementing basic functionality from scratch."
   ]
  },
  {
   "cell_type": "markdown",
   "id": "a8084119",
   "metadata": {},
   "source": [
    "<div class=\"alert alert-block alert-success\">  \n",
    "    <font size =\"4\"> Python is an interpreted language, which can save you considerable time during program development because no compilation and linking is necessary.\n",
    "\n",
    "\n",
    "</font>\n",
    "   \n",
    "</div>    "
   ]
  },
  {
   "cell_type": "markdown",
   "id": "764760cc",
   "metadata": {},
   "source": [
    "***Python being an interpreted language means that you can run Python code directly without the need for a separate compilation and linking step, which are typically required in compiled languages like C or C++. This characteristic of Python allows for faster development cycles, as you can write and test code interactively.***\n",
    "\n",
    "<b>Key Points</b>\n",
    "- No Compilation Required: In Python, you write your code and run it immediately, without having to compile it into a binary executable.\n",
    "\n",
    "- Faster Development Cycle: This lack of a compilation step allows for quicker iterations during development. You can test small pieces of code interactively and make changes on the fly.\n",
    "\n",
    "- Interactive Development: Python's interactive shell (REPL - Read-Eval-Print Loop) allows you to test individual lines of code or functions without writing an entire script, making debugging and prototyping faster."
   ]
  },
  {
   "cell_type": "markdown",
   "id": "393dd423",
   "metadata": {},
   "source": [
    "<b>Example 1: Running Python Code Directly</b>\n",
    "\n",
    "\n",
    "- Here’s a simple Python program that prints \"Hello, World!\" and performs some basic arithmetic operations:"
   ]
  },
  {
   "cell_type": "code",
   "execution_count": 19,
   "id": "16b30b1b",
   "metadata": {},
   "outputs": [
    {
     "name": "stdout",
     "output_type": "stream",
     "text": [
      "Hello, World!\n",
      "The sum of 5 and 10 is 15\n"
     ]
    }
   ],
   "source": [
    "# hello.py\n",
    "print(\"Hello, World!\")\n",
    "x = 5\n",
    "y = 10\n",
    "z = x + y\n",
    "print(f\"The sum of {x} and {y} is {z}\")"
   ]
  },
  {
   "cell_type": "markdown",
   "id": "77f56174",
   "metadata": {},
   "source": [
    "- To run this Python script, you simply need to execute it with the Python interpreter:\n",
    "\n",
    "$ python hello.py\n",
    "\n",
    "\n",
    "- No Compilation Step: Unlike languages like C or C++, you don’t need to compile this Python code into an executable file. You just run it directly using the Python interpreter."
   ]
  },
  {
   "cell_type": "markdown",
   "id": "21ac3a37",
   "metadata": {},
   "source": [
    "<b> Example 2: Interactive Development with Python</b>\n",
    "\n",
    "- Python's interactive mode allows you to run Python commands one at a time, which is particularly useful for testing small snippets of code or debugging."
   ]
  },
  {
   "cell_type": "code",
   "execution_count": 20,
   "id": "ccb4be7e",
   "metadata": {
    "collapsed": true
   },
   "outputs": [
    {
     "ename": "SyntaxError",
     "evalue": "invalid decimal literal (584948552.py, line 2)",
     "output_type": "error",
     "traceback": [
      "\u001b[0;36m  Cell \u001b[0;32mIn[20], line 2\u001b[0;36m\u001b[0m\n\u001b[0;31m    Python 3.x.x (default, Month Day Year, HH:MM:SS)\u001b[0m\n\u001b[0m            ^\u001b[0m\n\u001b[0;31mSyntaxError\u001b[0m\u001b[0;31m:\u001b[0m invalid decimal literal\n"
     ]
    }
   ],
   "source": [
    "$ python\n",
    "Python 3.x.x (default, Month Day Year, HH:MM:SS) \n",
    "[GCC ...] on linux\n",
    "Type \"help\", \"copyright\", \"credits\" or \"license\" for more information.\n",
    ">>> print(\"Hello, World!\")\n",
    "Hello, World!\n",
    ">>> x = 5\n",
    ">>> y = 10\n",
    ">>> x + y\n",
    "15\n",
    "\n",
    "# Interactive Shell: You can test individual lines of code directly in the Python shell, making it easier to experiment with code and see immediate results."
   ]
  },
  {
   "cell_type": "markdown",
   "id": "322440da",
   "metadata": {},
   "source": [
    "<b> Example 3: No Linking Required</b>\n",
    "- In compiled languages like C, after you compile your code, you often need to link it with libraries to create an executable. In Python, this step is unnecessary because all modules and libraries are loaded dynamically at runtime.\n",
    "\n",
    "- C Example with Compilation and Linking\n",
    "- For comparison, here’s how you might compile and run a simple C program:"
   ]
  },
  {
   "cell_type": "code",
   "execution_count": null,
   "id": "a452fa0d",
   "metadata": {},
   "outputs": [],
   "source": [
    "// hello.c\n",
    "#include <stdio.h>\n",
    "\n",
    "int main() {\n",
    "    printf(\"Hello, World!\\n\");\n",
    "    return 0;\n",
    "}\n",
    "\n",
    "\n",
    "#To compile and run this program, you would typically use a series of commands:\n",
    "\n",
    "$ gcc hello.c -o hello   # Compilation and linking step\n",
    "$ ./hello\n",
    "Hello, World!\n",
    "\n",
    "\n",
    "\"\"\"\n",
    "Compilation: \n",
    "- gcc hello.c -o hello compiles the code and links it into an executable.\n",
    "\n",
    "Execution: \n",
    "- ./hello runs the executable.\n",
    "\n",
    "In contrast, Python skips the compilation and linking step entirely, \n",
    "allowing you to run your code directly with the python command.\n",
    "\"\"\"\n"
   ]
  },
  {
   "cell_type": "markdown",
   "id": "1993a467",
   "metadata": {},
   "source": [
    "<b>Conclusion</b>\n",
    "\n",
    "- Python being an interpreted language means that you can write and run your code immediately without needing to compile it first. \n",
    "\n",
    "- This feature allows for a faster development cycle, as you can quickly test and iterate on your code. \n",
    "\n",
    "- Python's interactive mode further enhances this capability by allowing you to run individual commands or small pieces of code directly, making it an excellent tool for rapid development, debugging, and prototyping."
   ]
  },
  {
   "cell_type": "markdown",
   "id": "f2a473b6",
   "metadata": {},
   "source": [
    "<div class=\"alert alert-block alert-success\">  \n",
    "    <font size =\"4\"> \n",
    "Python enables programs to be written compactly and readably. Programs written in Python are typically much shorter than equivalent C, C++, or Java programs, for several reasons:\n",
    "\n",
    "    - the high-level data types allow you to express complex operations in a single statement;\n",
    "\n",
    "    - statement grouping is done by indentation instead of beginning and ending brackets;\n",
    "\n",
    "    - no variable or argument declarations are necessary.\n",
    "\n",
    "\n",
    "</font>\n",
    "   \n",
    "</div>    "
   ]
  },
  {
   "cell_type": "markdown",
   "id": "bad938e1",
   "metadata": {},
   "source": [
    "<b>1. High-Level Data Types for Expressing Complex Operations</b>\n",
    "\n",
    "- Python provides high-level data types like lists, dictionaries, and sets, which allow you to perform complex operations in a single line of code.\n",
    "\n"
   ]
  },
  {
   "cell_type": "markdown",
   "id": "eb0992a7",
   "metadata": {},
   "source": [
    "<b>Example: List Comprehension in Python vs. Loops in C</b>"
   ]
  },
  {
   "cell_type": "code",
   "execution_count": null,
   "id": "0d5d2639",
   "metadata": {},
   "outputs": [],
   "source": [
    "# Python\n",
    "# Create a list of squares of numbers from 0 to 9\n",
    "\n",
    "squares = [x**2 for x in range(10)]\n",
    "print(squares)\n",
    "\n",
    "\n",
    "# Explanation: In a single line, Python creates a list of squares of numbers from 0 to 9 using a list comprehension."
   ]
  },
  {
   "cell_type": "code",
   "execution_count": null,
   "id": "6124ad2b",
   "metadata": {},
   "outputs": [],
   "source": [
    "# Equivalent C Code:\n",
    "\n",
    "#include <stdio.h>\n",
    "\n",
    "int main() {\n",
    "    int squares[10];\n",
    "    for (int i = 0; i < 10; i++) {\n",
    "        squares[i] = i * i;\n",
    "    }\n",
    "\n",
    "    for (int i = 0; i < 10; i++) {\n",
    "        printf(\"%d \", squares[i]);\n",
    "    }\n",
    "    printf(\"\\n\");\n",
    "\n",
    "    return 0;\n",
    "}\n",
    "\n",
    "\n",
    "# Explanation: The C version requires more lines of code to achieve the same result, \n",
    "# involving both a loop to calculate the squares and another to print them."
   ]
  },
  {
   "cell_type": "markdown",
   "id": "8e35873d",
   "metadata": {},
   "source": [
    "<b>2. Statement Grouping by Indentation</b>\n",
    "\n",
    "- In Python, blocks of code are defined by indentation instead of using curly braces {} as in C, C++, or Java. This enforces clean, readable code."
   ]
  },
  {
   "cell_type": "markdown",
   "id": "19beac7b",
   "metadata": {},
   "source": [
    "<b> Example: Function Definition in Python vs. Java\n",
    "</b>"
   ]
  },
  {
   "cell_type": "code",
   "execution_count": null,
   "id": "ac1e08f0",
   "metadata": {},
   "outputs": [],
   "source": [
    "Python:\n",
    "\n",
    "def greet(name):\n",
    "    if name:\n",
    "        print(f\"Hello, {name}!\")\n",
    "    else:\n",
    "        print(\"Hello, World!\")\n",
    "\n",
    "        \n",
    "# Explanation: The code block under the if statement is indented, making the structure clear and readable.\n"
   ]
  },
  {
   "cell_type": "code",
   "execution_count": null,
   "id": "9ea16d72",
   "metadata": {},
   "outputs": [],
   "source": [
    "# Equivalent Java Code:\n",
    "\n",
    "public class Main {\n",
    "    public static void main(String[] args) {\n",
    "        greet(\"Alice\");\n",
    "    }\n",
    "\n",
    "    public static void greet(String name) {\n",
    "        if (name != null && !name.isEmpty()) {\n",
    "            System.out.println(\"Hello, \" + name + \"!\");\n",
    "        } else {\n",
    "            System.out.println(\"Hello, World!\");\n",
    "        }\n",
    "    }\n",
    "}\n",
    "\n",
    "# Explanation: \n",
    "# - In Java, curly braces {} are required to define the beginning and end of code blocks, \n",
    "    # which can make the code look more cluttered, especially with nested structures."
   ]
  },
  {
   "cell_type": "markdown",
   "id": "12dffdb8",
   "metadata": {},
   "source": [
    "<b> 3. No Variable or Argument Declarations Necessary </b>\n",
    "- In Python, you don’t need to declare variable types or argument types, which reduces boilerplate code and allows for more compact programs.\n"
   ]
  },
  {
   "cell_type": "markdown",
   "id": "f911a466",
   "metadata": {},
   "source": [
    "<b> Example: Adding Two Numbers in Python vs. C++</b>"
   ]
  },
  {
   "cell_type": "code",
   "execution_count": null,
   "id": "6b854d09",
   "metadata": {},
   "outputs": [],
   "source": [
    "# Python:\n",
    "\n",
    "def add(a, b):\n",
    "    return a + b\n",
    "\n",
    "result = add(5, 10)\n",
    "print(result)\n",
    "\n",
    "# Explanation: No need to declare the types of a, b, or result. Python’s dynamic typing takes care of it."
   ]
  },
  {
   "cell_type": "code",
   "execution_count": null,
   "id": "e00fe393",
   "metadata": {},
   "outputs": [],
   "source": [
    "# Equivalent C++ Code:\n",
    "\n",
    "#include <iostream>\n",
    "using namespace std;\n",
    "\n",
    "int add(int a, int b) {\n",
    "    return a + b;\n",
    "}\n",
    "\n",
    "int main() {\n",
    "    int result = add(5, 10);\n",
    "    cout << result << endl;\n",
    "    return 0;\n",
    "}\n",
    "\n",
    "# Explanation: \n",
    "# - In C++, you must declare the types of variables and function arguments, leading to more verbose code."
   ]
  },
  {
   "cell_type": "markdown",
   "id": "5f4d836a",
   "metadata": {},
   "source": [
    "<b>Summary</b>\n",
    "1. Compactness: Python enables compact code by using high-level data types and expressive operations.\n",
    "\n",
    "2. Readability: Python's use of indentation instead of brackets for grouping statements makes the code more readable and easier to maintain.\n",
    "\n",
    "3. Simplicity: Python does not require explicit variable or argument declarations, further reducing the amount of boilerplate code.\n",
    "\n",
    "- Python's design allows you to write clean, concise, and readable code, often resulting in significantly shorter programs compared to equivalent implementations in languages like C, C++, or Java."
   ]
  }
 ],
 "metadata": {
  "kernelspec": {
   "display_name": "Python 3 (ipykernel)",
   "language": "python",
   "name": "python3"
  },
  "language_info": {
   "codemirror_mode": {
    "name": "ipython",
    "version": 3
   },
   "file_extension": ".py",
   "mimetype": "text/x-python",
   "name": "python",
   "nbconvert_exporter": "python",
   "pygments_lexer": "ipython3",
   "version": "3.11.5"
  }
 },
 "nbformat": 4,
 "nbformat_minor": 5
}
