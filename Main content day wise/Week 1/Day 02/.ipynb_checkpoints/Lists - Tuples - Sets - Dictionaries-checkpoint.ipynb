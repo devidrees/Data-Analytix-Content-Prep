{
 "cells": [
  {
   "cell_type": "markdown",
   "id": "31cc88f4",
   "metadata": {},
   "source": [
    "# List"
   ]
  },
  {
   "cell_type": "code",
   "execution_count": 1,
   "id": "95590c9f",
   "metadata": {},
   "outputs": [],
   "source": [
    "CoderList = [\"Mahesh\", \" Kalpana\", \"Bhoj\", \"Mohan\", \"Nikita\"]"
   ]
  },
  {
   "cell_type": "code",
   "execution_count": 2,
   "id": "7d9cbbee",
   "metadata": {},
   "outputs": [
    {
     "data": {
      "text/plain": [
       "['Mahesh', ' Kalpana', 'Bhoj', 'Mohan', 'Nikita']"
      ]
     },
     "execution_count": 2,
     "metadata": {},
     "output_type": "execute_result"
    }
   ],
   "source": [
    "CoderList"
   ]
  },
  {
   "cell_type": "code",
   "execution_count": 3,
   "id": "32e5adc1",
   "metadata": {},
   "outputs": [
    {
     "name": "stdout",
     "output_type": "stream",
     "text": [
      "['Mahesh', ' Kalpana', 'Bhoj', 'Mohan', 'Nikita']\n"
     ]
    }
   ],
   "source": [
    "print(CoderList)"
   ]
  },
  {
   "cell_type": "code",
   "execution_count": 4,
   "id": "5876f97f",
   "metadata": {},
   "outputs": [
    {
     "data": {
      "text/plain": [
       "'Bhoj'"
      ]
     },
     "execution_count": 4,
     "metadata": {},
     "output_type": "execute_result"
    }
   ],
   "source": [
    "CoderList[2]"
   ]
  },
  {
   "cell_type": "code",
   "execution_count": 5,
   "id": "9dbce3ee",
   "metadata": {},
   "outputs": [
    {
     "name": "stdout",
     "output_type": "stream",
     "text": [
      "Bhoj\n"
     ]
    }
   ],
   "source": [
    "print(CoderList[2])"
   ]
  },
  {
   "cell_type": "code",
   "execution_count": 6,
   "id": "e8b3a265",
   "metadata": {},
   "outputs": [
    {
     "data": {
      "text/plain": [
       "'Anish'"
      ]
     },
     "execution_count": 6,
     "metadata": {},
     "output_type": "execute_result"
    }
   ],
   "source": [
    "# Lists is mutable\n",
    "CoderList = \"Anish\" # Wrong\n",
    "CoderList"
   ]
  },
  {
   "cell_type": "code",
   "execution_count": 7,
   "id": "34e11b1b",
   "metadata": {},
   "outputs": [
    {
     "ename": "AttributeError",
     "evalue": "'str' object has no attribute 'append'",
     "output_type": "error",
     "traceback": [
      "\u001b[0;31m---------------------------------------------------------------------------\u001b[0m",
      "\u001b[0;31mAttributeError\u001b[0m                            Traceback (most recent call last)",
      "Cell \u001b[0;32mIn[7], line 1\u001b[0m\n\u001b[0;32m----> 1\u001b[0m CoderList\u001b[38;5;241m.\u001b[39mappend(\u001b[38;5;124m\"\u001b[39m\u001b[38;5;124mAnish\u001b[39m\u001b[38;5;124m\"\u001b[39m)\n\u001b[1;32m      2\u001b[0m CoderList\u001b[38;5;241m.\u001b[39mappend(\u001b[38;5;124m\"\u001b[39m\u001b[38;5;124mDev\u001b[39m\u001b[38;5;124m\"\u001b[39m)\n",
      "\u001b[0;31mAttributeError\u001b[0m: 'str' object has no attribute 'append'"
     ]
    }
   ],
   "source": [
    "CoderList.append(\"Anish\")\n",
    "CoderList.append(\"Dev\")"
   ]
  },
  {
   "cell_type": "code",
   "execution_count": null,
   "id": "c54f009c",
   "metadata": {},
   "outputs": [],
   "source": [
    "CoderList"
   ]
  },
  {
   "cell_type": "code",
   "execution_count": null,
   "id": "6cc22b7a",
   "metadata": {},
   "outputs": [],
   "source": [
    "CoderList.remove(\"Dev\")"
   ]
  },
  {
   "cell_type": "code",
   "execution_count": null,
   "id": "cdec239a",
   "metadata": {},
   "outputs": [],
   "source": [
    "CoderList"
   ]
  },
  {
   "cell_type": "code",
   "execution_count": null,
   "id": "4459b305",
   "metadata": {},
   "outputs": [],
   "source": [
    "CoderList.remove(\"Anish\")\n",
    "CoderList"
   ]
  },
  {
   "cell_type": "code",
   "execution_count": null,
   "id": "4da35770",
   "metadata": {},
   "outputs": [],
   "source": [
    "len(CoderList)    # len() - passs lists as an argument"
   ]
  },
  {
   "cell_type": "code",
   "execution_count": null,
   "id": "37c4d9bd",
   "metadata": {},
   "outputs": [],
   "source": [
    "CoderList # print type \n",
    "type(CoderList)"
   ]
  },
  {
   "cell_type": "code",
   "execution_count": null,
   "id": "8914efac",
   "metadata": {},
   "outputs": [],
   "source": [
    "CoderList[-1]"
   ]
  },
  {
   "cell_type": "code",
   "execution_count": null,
   "id": "85520acb",
   "metadata": {},
   "outputs": [],
   "source": [
    "CoderList[2:5]  # Lists Slicing"
   ]
  },
  {
   "cell_type": "code",
   "execution_count": null,
   "id": "6b3281de",
   "metadata": {},
   "outputs": [],
   "source": [
    "CoderList"
   ]
  },
  {
   "cell_type": "code",
   "execution_count": null,
   "id": "672c4c51",
   "metadata": {},
   "outputs": [],
   "source": [
    "CoderList[:5] "
   ]
  },
  {
   "cell_type": "code",
   "execution_count": null,
   "id": "7d6bebe1",
   "metadata": {},
   "outputs": [],
   "source": [
    "CoderList[-1:5] "
   ]
  },
  {
   "cell_type": "code",
   "execution_count": null,
   "id": "b817d4c6",
   "metadata": {},
   "outputs": [],
   "source": [
    "CoderList[:5:1] "
   ]
  },
  {
   "cell_type": "code",
   "execution_count": null,
   "id": "86709c8d",
   "metadata": {},
   "outputs": [],
   "source": [
    "CoderList"
   ]
  },
  {
   "cell_type": "code",
   "execution_count": null,
   "id": "4bfd89c1",
   "metadata": {},
   "outputs": [],
   "source": [
    "CoderList[-5:-1] "
   ]
  },
  {
   "cell_type": "code",
   "execution_count": null,
   "id": "cfe188f7",
   "metadata": {},
   "outputs": [],
   "source": [
    "if \"Nikita\"in CoderList:\n",
    "    print(\"Nikita is present\")"
   ]
  },
  {
   "cell_type": "code",
   "execution_count": null,
   "id": "1b0bb745",
   "metadata": {},
   "outputs": [],
   "source": [
    "CoderList.append(\"Dev\")"
   ]
  },
  {
   "cell_type": "code",
   "execution_count": null,
   "id": "5a42c771",
   "metadata": {},
   "outputs": [],
   "source": [
    "CoderList"
   ]
  },
  {
   "cell_type": "code",
   "execution_count": null,
   "id": "4d353f8d",
   "metadata": {},
   "outputs": [],
   "source": [
    "CoderList[5] = \"Anish\"\n",
    "CoderList"
   ]
  },
  {
   "cell_type": "code",
   "execution_count": null,
   "id": "40fef2c8",
   "metadata": {},
   "outputs": [],
   "source": [
    "CoderList"
   ]
  },
  {
   "cell_type": "code",
   "execution_count": null,
   "id": "9a06825b",
   "metadata": {},
   "outputs": [],
   "source": [
    "CoderList[6] = \"Devashish\"\n",
    "CoderList"
   ]
  },
  {
   "cell_type": "code",
   "execution_count": null,
   "id": "73cd5b6c",
   "metadata": {},
   "outputs": [],
   "source": [
    "CoderList[3:6] = \"Devashish\"\n",
    "CoderList"
   ]
  },
  {
   "cell_type": "code",
   "execution_count": null,
   "id": "bac2f623",
   "metadata": {},
   "outputs": [],
   "source": [
    "CoderList\n"
   ]
  },
  {
   "cell_type": "code",
   "execution_count": null,
   "id": "41bb71d5",
   "metadata": {},
   "outputs": [],
   "source": [
    "CoderList = [\"Dev\", \"Ashish\", \"Kumar\", \"Gupta\"]\n",
    "CoderList"
   ]
  },
  {
   "cell_type": "code",
   "execution_count": null,
   "id": "8690af10",
   "metadata": {},
   "outputs": [],
   "source": [
    "CoderList[1:3] =[\"Anish\", \"Mahesh\"]"
   ]
  },
  {
   "cell_type": "code",
   "execution_count": null,
   "id": "ef4f1f2a",
   "metadata": {},
   "outputs": [],
   "source": [
    "CoderList"
   ]
  },
  {
   "cell_type": "code",
   "execution_count": null,
   "id": "87f0e168",
   "metadata": {},
   "outputs": [],
   "source": [
    "CoderList.insert(1,\"Ashish\")\n",
    "CoderList"
   ]
  },
  {
   "cell_type": "code",
   "execution_count": null,
   "id": "c0b6460e",
   "metadata": {},
   "outputs": [],
   "source": [
    "InstructorList = [\"Jayanti Ruwali\", \"Devashish Kumar\"]\n",
    "InstructorList"
   ]
  },
  {
   "cell_type": "code",
   "execution_count": 8,
   "id": "8f637998",
   "metadata": {},
   "outputs": [
    {
     "ename": "AttributeError",
     "evalue": "'str' object has no attribute 'extend'",
     "output_type": "error",
     "traceback": [
      "\u001b[0;31m---------------------------------------------------------------------------\u001b[0m",
      "\u001b[0;31mAttributeError\u001b[0m                            Traceback (most recent call last)",
      "Cell \u001b[0;32mIn[8], line 1\u001b[0m\n\u001b[0;32m----> 1\u001b[0m BootcampMembers \u001b[38;5;241m=\u001b[39m CoderList\u001b[38;5;241m.\u001b[39mextend(InstructorList)\n\u001b[1;32m      2\u001b[0m BootcampMembers\n",
      "\u001b[0;31mAttributeError\u001b[0m: 'str' object has no attribute 'extend'"
     ]
    }
   ],
   "source": [
    "BootcampMembers = CoderList.extend(InstructorList)\n",
    "BootcampMembers"
   ]
  },
  {
   "cell_type": "code",
   "execution_count": null,
   "id": "71de2186",
   "metadata": {},
   "outputs": [],
   "source": [
    "BootcampMembers"
   ]
  },
  {
   "cell_type": "code",
   "execution_count": null,
   "id": "0865d197",
   "metadata": {},
   "outputs": [],
   "source": []
  }
 ],
 "metadata": {
  "kernelspec": {
   "display_name": "Python 3 (ipykernel)",
   "language": "python",
   "name": "python3"
  },
  "language_info": {
   "codemirror_mode": {
    "name": "ipython",
    "version": 3
   },
   "file_extension": ".py",
   "mimetype": "text/x-python",
   "name": "python",
   "nbconvert_exporter": "python",
   "pygments_lexer": "ipython3",
   "version": "3.11.5"
  }
 },
 "nbformat": 4,
 "nbformat_minor": 5
}
