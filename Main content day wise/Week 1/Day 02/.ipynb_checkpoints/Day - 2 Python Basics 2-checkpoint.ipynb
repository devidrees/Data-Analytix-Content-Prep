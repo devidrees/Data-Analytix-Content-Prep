{
 "cells": [
  {
   "cell_type": "markdown",
   "id": "6210fcec",
   "metadata": {},
   "source": [
    "# 1) This box is called a Cell in a Notebook environment.\n",
    "\n",
    "ipynb\n",
    "i - interactive\n",
    "py -python\n",
    "nb - notebook"
   ]
  },
  {
   "cell_type": "markdown",
   "id": "17a28f69",
   "metadata": {},
   "source": [
    "<font size =\"3\">ipynb\n",
    "\n",
    "- i - interactive\n",
    "- py -python\n",
    "- nb - notebook</font>"
   ]
  },
  {
   "cell_type": "markdown",
   "id": "81ad574d",
   "metadata": {},
   "source": [
    "# Comments\n",
    "\n",
    "1. Comments in Python start with the hash character, `#`, and extend to the end of the physical line. \n",
    "\n",
    "2. A comment may appear at the start of a line or following whitespace or code, but not within the quotation marks `\"\"` or `''` of a String itself. \n",
    "\n",
    "3. A hash character between quotation marks is just a hash character. \n",
    "\n",
    "4. Since comments are to clarify code and are not interpreted by Python, they may be omitted when typing in examples.\n"
   ]
  },
  {
   "cell_type": "code",
   "execution_count": 5,
   "id": "e75ac5ec",
   "metadata": {},
   "outputs": [
    {
     "name": "stdout",
     "output_type": "stream",
     "text": [
      "Hi welcome to your first Python Program!\n"
     ]
    }
   ],
   "source": [
    "# This is the first comment - explaining point 1"
   ]
  },
  {
   "cell_type": "code",
   "execution_count": 7,
   "id": "cf1350fe",
   "metadata": {},
   "outputs": [],
   "source": [
    "number = 1  # and this is the second comment - explaining point 2\n",
    "          # ... and now a third!"
   ]
  },
  {
   "cell_type": "code",
   "execution_count": null,
   "id": "08fca88c",
   "metadata": {},
   "outputs": [],
   "source": [
    "'#Meanwhile, this is not a comment' # explaining point 3"
   ]
  },
  {
   "cell_type": "code",
   "execution_count": 8,
   "id": "00dad083",
   "metadata": {},
   "outputs": [
    {
     "name": "stdout",
     "output_type": "stream",
     "text": [
      "Hi welcome to your first Python Program!\n"
     ]
    }
   ],
   "source": [
    "Welcome = \"Hi welcome to your first Python Program!\" # explaining point 4\n",
    "print(Welcome) #This is the 'print' Command   "
   ]
  },
  {
   "cell_type": "markdown",
   "id": "3394ed11",
   "metadata": {},
   "source": [
    "## Python Data Types\n",
    "\n",
    "- Python has several built-in data types that are fundamental to its functionality. Here’s a quick overview of the most commonly used data types:\n",
    "\n",
    "1. Numbers: These include integers and floating-point numbers.\n",
    "    - Integers: Whole numbers (e.g., 5, -3, 42)\n",
    "    - Floats: Numbers with a decimal point (e.g., 3.14, -0.001)\n",
    "\n",
    "2. Strings: Sequences of characters enclosed in single quotes, double quotes, or triple quotes.\n",
    "    - Single-line String: \"Hello\"\n",
    "    - Multi-line String: \"\"\"Hello, World!\"\"\"\n",
    "    \n",
    "\n",
    "\n",
    "3. Booleans: Represents True or False values.\n",
    "\n",
    "4. Lists: Ordered, mutable collections of items, which can be of mixed types.\n",
    "\n",
    "5. Tuples: Ordered, immutable collections of items.\n",
    "\n",
    "6. Dictionaries: Unordered collections of key-value pairs.\n",
    "\n",
    "7. Sets: Unordered collections of unique items.\n",
    "\n",
    "8. None: Represents the absence of a value or a null value.\n",
    "\n",
    "- Each data type serves different purposes and has different methods associated with it. For example, lists and dictionaries have methods to modify their content, while tuples and strings do not.\n",
    "\n"
   ]
  },
  {
   "cell_type": "markdown",
   "id": "05bca72e",
   "metadata": {},
   "source": [
    "<div class=\"alert alert-block alert-success\">  \n",
    "    <font size =\"4\"><b> Numbers:<b><br>These include integers and floating-point numbers</b>, together with its interpreted nature, make it an ideal language for scripting and rapid application development in many areas on most platforms.</b>.</font>\n",
    "   \n",
    "</div>    "
   ]
  },
  {
   "cell_type": "markdown",
   "id": "0ae74dbb",
   "metadata": {},
   "source": [
    "### Integers (int)\n",
    "Definition: Integers are whole numbers without a decimal point. They can be positive, negative, or zero."
   ]
  },
  {
   "cell_type": "code",
   "execution_count": null,
   "id": "4e49e8b8",
   "metadata": {},
   "outputs": [],
   "source": [
    "a = 10        # Positive integer\n",
    "b = -3        # Negative integer\n",
    "c = 0         # Zero"
   ]
  },
  {
   "cell_type": "markdown",
   "id": "8e7d84de",
   "metadata": {},
   "source": [
    "<b>Characteristics:</b>\n",
    "\n",
    "- Arithmetic Operations: You can perform arithmetic operations such as:\n",
    "    - addition, \n",
    "    - subtraction, \n",
    "    - multiplication, and \n",
    "    - division with integers."
   ]
  },
  {
   "cell_type": "code",
   "execution_count": 3,
   "id": "89e899eb",
   "metadata": {},
   "outputs": [],
   "source": [
    "sum = 5 + 3         # 8\n",
    "difference = 10 - 2 # 8\n",
    "product = 4 * 7     # 28\n",
    "quotient = 20 / 4   # 5.0 (Note: Division always returns a float)"
   ]
  },
  {
   "cell_type": "code",
   "execution_count": 11,
   "id": "9fdd5764",
   "metadata": {},
   "outputs": [
    {
     "data": {
      "text/plain": [
       "12"
      ]
     },
     "execution_count": 11,
     "metadata": {},
     "output_type": "execute_result"
    }
   ],
   "source": [
    "5+7\n",
    "# totalsum = 5 + 7"
   ]
  },
  {
   "cell_type": "code",
   "execution_count": 12,
   "id": "7ccd03f4",
   "metadata": {},
   "outputs": [
    {
     "data": {
      "text/plain": [
       "12"
      ]
     },
     "execution_count": 12,
     "metadata": {},
     "output_type": "execute_result"
    }
   ],
   "source": [
    "# Significance of _ in Python\n",
    "_"
   ]
  },
  {
   "cell_type": "code",
   "execution_count": 13,
   "id": "d302a1a2",
   "metadata": {},
   "outputs": [
    {
     "data": {
      "text/plain": [
       "7"
      ]
     },
     "execution_count": 13,
     "metadata": {},
     "output_type": "execute_result"
    }
   ],
   "source": [
    "3+4"
   ]
  },
  {
   "cell_type": "code",
   "execution_count": 14,
   "id": "2c3b7a22",
   "metadata": {},
   "outputs": [
    {
     "data": {
      "text/plain": [
       "7"
      ]
     },
     "execution_count": 14,
     "metadata": {},
     "output_type": "execute_result"
    }
   ],
   "source": [
    "_"
   ]
  },
  {
   "cell_type": "code",
   "execution_count": 15,
   "id": "eaecda55",
   "metadata": {},
   "outputs": [
    {
     "data": {
      "text/plain": [
       "'Devashish'"
      ]
     },
     "execution_count": 15,
     "metadata": {},
     "output_type": "execute_result"
    }
   ],
   "source": [
    "\"Devashish\""
   ]
  },
  {
   "cell_type": "code",
   "execution_count": 16,
   "id": "1fc99647",
   "metadata": {},
   "outputs": [
    {
     "data": {
      "text/plain": [
       "'Devashish'"
      ]
     },
     "execution_count": 16,
     "metadata": {},
     "output_type": "execute_result"
    }
   ],
   "source": [
    "_"
   ]
  },
  {
   "cell_type": "markdown",
   "id": "e765f47f",
   "metadata": {},
   "source": [
    "\n",
    "1. Division (/): \n",
    "    - Always results in a floating-point number.\n",
    "    \n",
    "<br>\n",
    "\n",
    "2. Floor Division (//):\n",
    "    - Divides and returns the largest integer less than or equal to the result.\n",
    "    \n",
    "<br>\n",
    "\n",
    "3. Modulus (%): \n",
    "    - Returns the remainder of the division.\n",
    "    \n",
    "<br>\n",
    "\n",
    "\n",
    "4. Exponentiation (**): \n",
    "    - Raises a number to the power of another.\n",
    "    \n",
    "<br>\n",
    "\n",
    "5. Methods:\n",
    "    - bit_length(): Returns the number of bits necessary to represent the integer in binary.\n"
   ]
  },
  {
   "cell_type": "code",
   "execution_count": 18,
   "id": "71b8904c",
   "metadata": {},
   "outputs": [
    {
     "data": {
      "text/plain": [
       "2"
      ]
     },
     "execution_count": 18,
     "metadata": {},
     "output_type": "execute_result"
    }
   ],
   "source": [
    "result = 7 // 3  # 2 # Floor Division\n",
    "result"
   ]
  },
  {
   "cell_type": "code",
   "execution_count": null,
   "id": "6bf83215",
   "metadata": {},
   "outputs": [],
   "source": [
    "remainder = 7 % 3  # 1 # Print the sum of individual digit of number 234 = 2+3+4 =output\n",
    "remainder"
   ]
  },
  {
   "cell_type": "code",
   "execution_count": null,
   "id": "707df95d",
   "metadata": {},
   "outputs": [],
   "source": [
    "power = 2 ** 3  # 8"
   ]
  },
  {
   "cell_type": "code",
   "execution_count": 20,
   "id": "b14d58ed",
   "metadata": {},
   "outputs": [
    {
     "data": {
      "text/plain": [
       "7"
      ]
     },
     "execution_count": 20,
     "metadata": {},
     "output_type": "execute_result"
    }
   ],
   "source": [
    "bits = (100).bit_length()  # 4 --> 1000 binary 0,1\n",
    "bits"
   ]
  },
  {
   "cell_type": "code",
   "execution_count": null,
   "id": "8dca4f35",
   "metadata": {},
   "outputs": [],
   "source": [
    "Binary Numbers are -> 0,1 Base 2 --> Bit and Bytes\n",
    "\n",
    "Binary Representation of 10[Decimal Number 0-9, Base 10]\n",
    "\n",
    "                 1010\n",
    "               2^3*1+2^2*0+2^1*1 +2^0*0    2^Index position*Index value\n",
    "               8    + 0.  + 2.   +0\n",
    "\n",
    "\n"
   ]
  },
  {
   "cell_type": "markdown",
   "id": "5de06e04",
   "metadata": {},
   "source": [
    "### Floating-Point Numbers (float)\n",
    "\n",
    "Definition: Floating-point numbers are numbers with a decimal point. They can represent fractions and very large or very small numbers."
   ]
  },
  {
   "cell_type": "code",
   "execution_count": null,
   "id": "c494b739",
   "metadata": {},
   "outputs": [],
   "source": [
    "pi = 3.14159          # Decimal number\n",
    "negative = -0.1       # Negative decimal number\n",
    "scientific = 1.23e4   # 12300.0 in scientific notation"
   ]
  },
  {
   "cell_type": "markdown",
   "id": "9c208a03",
   "metadata": {},
   "source": [
    "<b>Characteristics:<b>\n",
    "\n",
    "- Precision: Floating-point numbers are subject to precision limitations. \n",
    "- Python uses double-precision (64-bit) floating-point numbers, which may lead to small rounding errors.\n",
    "    \n",
    "    \n",
    "1. Arithmetic Operations: \n",
    "    - Like integers, you can perform arithmetic operations on floating-point numbers.\n",
    "    \n",
    "2. Division:\n",
    "    - Division of integers where one or both operands are floats results in a float.\n",
    "    \n",
    "3. Formatting: \n",
    "    - You can format floating-point numbers to control the number of decimal places displayed.\n",
    "\n",
    "4. Methods:\n",
    "    - is_integer(): Checks if the float has an integer value.\n",
    "    - as_integer_ratio(): Returns a tuple representing the float as a fraction.\n"
   ]
  },
  {
   "cell_type": "code",
   "execution_count": null,
   "id": "64292367",
   "metadata": {},
   "outputs": [],
   "source": [
    "sum = 2.5 + 1.5   # 4.0\n",
    "product = 3.0 * 4 # 12.0"
   ]
  },
  {
   "cell_type": "code",
   "execution_count": null,
   "id": "330bb458",
   "metadata": {},
   "outputs": [],
   "source": [
    "result = 7 / 2  # 3.5"
   ]
  },
  {
   "cell_type": "code",
   "execution_count": 34,
   "id": "b25ea88e",
   "metadata": {},
   "outputs": [
    {
     "data": {
      "text/plain": [
       "'3.142'"
      ]
     },
     "execution_count": 34,
     "metadata": {},
     "output_type": "execute_result"
    }
   ],
   "source": [
    "formatted = \"{:.3f}\".format(3.14159)  # 3.14\n",
    "formatted"
   ]
  },
  {
   "cell_type": "code",
   "execution_count": 30,
   "id": "73b8b7b0",
   "metadata": {},
   "outputs": [
    {
     "name": "stdout",
     "output_type": "stream",
     "text": [
      "True\n"
     ]
    },
    {
     "data": {
      "text/plain": [
       "5.0"
      ]
     },
     "execution_count": 30,
     "metadata": {},
     "output_type": "execute_result"
    }
   ],
   "source": [
    "#Typecasting\n",
    "number = 5.0\n",
    "# type(number)\n",
    "print(number.is_integer())  # True\n",
    "number"
   ]
  },
  {
   "cell_type": "code",
   "execution_count": 31,
   "id": "95954ab2",
   "metadata": {},
   "outputs": [
    {
     "data": {
      "text/plain": [
       "(3, 4)"
      ]
     },
     "execution_count": 31,
     "metadata": {},
     "output_type": "execute_result"
    }
   ],
   "source": [
    "ratio = (0.75).as_integer_ratio()  # (3, 4)\n",
    "ratio"
   ]
  },
  {
   "cell_type": "markdown",
   "id": "84e5b823",
   "metadata": {},
   "source": [
    "### Conversions Between Types"
   ]
  },
  {
   "cell_type": "markdown",
   "id": "24cb28c8",
   "metadata": {},
   "source": [
    "You can convert between integers and floating-point numbers using int() and float() functions."
   ]
  },
  {
   "cell_type": "code",
   "execution_count": null,
   "id": "79bb3ee1",
   "metadata": {},
   "outputs": [],
   "source": [
    "# Convert float to integer (truncates the decimal part)\n",
    "integer_value = int(3.14)  # 3\n",
    "\n",
    "# Convert integer to float\n",
    "float_value = float(42)   # 42.0\n"
   ]
  },
  {
   "cell_type": "code",
   "execution_count": 32,
   "id": "b8bc31c6",
   "metadata": {},
   "outputs": [
    {
     "data": {
      "text/plain": [
       "10.0"
      ]
     },
     "execution_count": 32,
     "metadata": {},
     "output_type": "execute_result"
    }
   ],
   "source": [
    "num1 = 10\n",
    "float(num1) # float(10)"
   ]
  },
  {
   "cell_type": "markdown",
   "id": "56244420",
   "metadata": {},
   "source": [
    "<b>Key Points:</b>\n",
    "\n",
    "- Integers are exact but limited in range.\n",
    "- Floating-point numbers provide a larger range but can suffer from precision issues.\n"
   ]
  },
  {
   "cell_type": "markdown",
   "id": "9797d31e",
   "metadata": {},
   "source": [
    "### Programming Questions:"
   ]
  },
  {
   "cell_type": "code",
   "execution_count": null,
   "id": "699e8c90",
   "metadata": {},
   "outputs": [],
   "source": [
    "1. Find the Maximum and Minimum of a List\n",
    "    - Question: Given a list of numbers, find the maximum and minimum values.\n",
    "\n",
    "2. Check for Prime Number\n",
    "    - Question: Write a function to check if a given number is a prime number.\n",
    "    \n",
    "3. Factorial of a Number\n",
    "    - Question: Compute the factorial of a given number using recursion.\n",
    "    \n",
    "4. Fibonacci Sequence\n",
    "    - Question: Generate the Fibonacci sequence up to a given number of terms.\n",
    "    \n",
    "5. Sum of Digits\n",
    "    - Question: Write a function to calculate the sum of digits of a given integer.\n",
    "\n",
    "6. Convert Decimal to Binary\n",
    "    - Question: Convert a decimal number to its binary representation.\n",
    "        \n",
    "7. Greatest Common Divisor (GCD)\n",
    "    - Question: Compute the greatest common divisor of two numbers using Euclid’s algorithm.\n",
    "        \n",
    "8. Find the Second Largest Number in a List\n",
    "    - Question: Given a list of numbers, find the second largest number.\n",
    "        \n",
    "9. Count the Number of Digits in a Number\n",
    "     - Question: Count the number of digits in a given integer.\n",
    "        \n",
    "10. Check if a Number is a Power of Two\n",
    "    - Question: Determine if a given number is a power of two."
   ]
  }
 ],
 "metadata": {
  "kernelspec": {
   "display_name": "Python 3 (ipykernel)",
   "language": "python",
   "name": "python3"
  },
  "language_info": {
   "codemirror_mode": {
    "name": "ipython",
    "version": 3
   },
   "file_extension": ".py",
   "mimetype": "text/x-python",
   "name": "python",
   "nbconvert_exporter": "python",
   "pygments_lexer": "ipython3",
   "version": "3.11.5"
  }
 },
 "nbformat": 4,
 "nbformat_minor": 5
}
