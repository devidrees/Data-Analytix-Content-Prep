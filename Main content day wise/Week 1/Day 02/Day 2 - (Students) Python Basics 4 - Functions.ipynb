{
 "cells": [
  {
   "cell_type": "markdown",
   "id": "6729f909-dbac-403b-8875-b635da345a31",
   "metadata": {},
   "source": [
    "<!--- Mohammad Idrees Bhat | Tech Skills Trainer | AI/ML Consultant --->"
   ]
  },
  {
   "cell_type": "markdown",
   "id": "a7396631-11d6-42b8-9d69-41020db73bc7",
   "metadata": {},
   "source": [
    "<div style=\"background-color: #add8e6; padding: 10px; height: 70px; border-radius: 15px;\">\n",
    "    <div style=\"font-family: 'Georgia', serif; font-size: 20px; padding: 10px; text-align: right; position: absolute; right: 20px;\">\n",
    "        Mohammad Idrees Bhat<br>\n",
    "        <span style=\"font-family: 'Arial', sans-serif;font-size: 12px; color: #0a0a0a;\">Tech Skills Trainer | AI/ML Consultant</span>\n",
    "    </div>\n",
    "</div>"
   ]
  },
  {
   "cell_type": "markdown",
   "id": "6360f670-cd32-417c-be26-8438195b82df",
   "metadata": {},
   "source": [
    "<h1 style=\" background-color: #002147; color: White; padding: 30px; text-align:center\"> Python Programming Language (Part 4) </h1>"
   ]
  },
  {
   "cell_type": "markdown",
   "id": "19e9ec83-cf6b-4000-aa3b-4b2194c2bbf1",
   "metadata": {},
   "source": [
    "<div style=\"background-color: lightgreen; color: black; padding: 10px;\">\n",
    "    <h1>Programming Paradigms in Python\n",
    "</h1> </div>"
   ]
  },
  {
   "cell_type": "markdown",
   "id": "317c88cf-17eb-4ba0-ad49-9b2f1c157da4",
   "metadata": {},
   "source": [
    "Programming paradigms refer to the fundamental styles or approaches to programming that dictate how code is structured and organized. Python supports multiple programming paradigms, making it a versatile language. "
   ]
  },
  {
   "cell_type": "markdown",
   "id": "155e8ec7-547b-41f4-b6f6-6e6e719c198c",
   "metadata": {},
   "source": [
    "<div style=\"background-color: grey; color: black; padding: 10px;\">\n",
    "    <h4><b>AGENDA</b> <p><p>\n",
    "0. Functions in Python <p><p>\n",
    "1. Imperative Programming <p><p> \n",
    "2. Procedural Programming <p>\n",
    "3. Object-Oriented Programming (OOP) <p>\n",
    "4. Functional Programming <p>\n",
    "5. Declarative Programming   \n",
    "</h4> </div>"
   ]
  },
  {
   "cell_type": "markdown",
   "id": "53ec8637",
   "metadata": {},
   "source": [
    "<div style=\"background-color: lightgreen; color: black; padding: 4px;\">\n",
    "    <h4>1. Functions\n",
    "</h4> </div>"
   ]
  },
  {
   "cell_type": "markdown",
   "id": "8cf20691-8776-46b0-81c8-a487dc0d24c4",
   "metadata": {},
   "source": [
    "\n",
    "### What is a Function?\n",
    "A function is a reusable block of code that performs a specific task. Functions help organize code, make it easier to read, and allow you to reuse code without rewriting it.#\n",
    "\n",
    "## Defining a Function\n",
    "You define a function using the `def` keyword, followed by the function name and parentheses. Inside the parentheses, you can specify **parameters** (inputs) for the function.\n",
    "\n",
    "### Basic Structure of a Function\n",
    "```python\n",
    "def function_name(parameters):\n",
    "    # Code block to execute\n",
    "    return result\n"
   ]
  },
  {
   "cell_type": "code",
   "execution_count": 2,
   "id": "b1d6217e-8080-4eb8-b621-1504eaafd8f9",
   "metadata": {},
   "outputs": [
    {
     "name": "stdout",
     "output_type": "stream",
     "text": [
      "8\n"
     ]
    }
   ],
   "source": [
    "# Example 1: Simple Function\n",
    "\n",
    "def add_numbers(a, b): # Parameters\n",
    "    # This function takes two numbers and returns their sum\n",
    "    result = a + b  # Add the two parameters\n",
    "    return result    # Return the result of the addition\n",
    "\n",
    "# Call the function with arguments 5 and 3\n",
    "sum_result = add_numbers(5, 3) # arguments\n",
    "print(sum_result)  # Output: 8"
   ]
  },
  {
   "cell_type": "code",
   "execution_count": 50,
   "id": "1b43ce14-7ac2-46a2-8632-ebf1f43db9e5",
   "metadata": {},
   "outputs": [
    {
     "name": "stdout",
     "output_type": "stream",
     "text": [
      "Hi, Alice!\n",
      "Hello, Bob!\n"
     ]
    }
   ],
   "source": [
    "# Example 2: Function with Default Parameters\n",
    "\n",
    "def greet(name, greeting=\"Hello\"): # Function Definition: def greet(name, greeting=\"Hello\"): defines a function greet with a default parameter greeting.\n",
    "    # This function greets a person with a given greeting\n",
    "    message = f\"{greeting}, {name}!\"  # Create a greeting message\n",
    "    return message  # Return the greeting message\n",
    "\n",
    "# Call the function with a specific greeting\n",
    "greeting_message1 = greet(\"Alice\", \"Hi\")\n",
    "print(greeting_message1)  # Output: Hi, Alice!\n",
    "\n",
    "# Call the function with the default greeting\n",
    "greeting_message2 = greet(\"Bob\")  \n",
    "print(greeting_message2)  # Output: Hello, Bob!\n"
   ]
  },
  {
   "cell_type": "code",
   "execution_count": 52,
   "id": "7a25589b-36a3-41b9-a2c2-f8d08538a072",
   "metadata": {},
   "outputs": [
    {
     "name": "stdout",
     "output_type": "stream",
     "text": [
      "15\n"
     ]
    }
   ],
   "source": [
    "# Example 3: Function with Variable Arguments\n",
    "\n",
    "def sum_all(*numbers): # allows the function to accept any number of arguments as a tuple.\n",
    "    # This function takes any number of arguments and returns their sum\n",
    "    total = 0  # Initialize a variable to hold the total sum\n",
    "    for num in numbers:  # Iterate over each number in the arguments\n",
    "        total += num  # Add each number to the total\n",
    "    return total  # Return the total sum\n",
    "\n",
    "# Call the function with multiple arguments\n",
    "total_sum = sum_all(1, 2, 3, 4, 5)\n",
    "print(total_sum)  # Output: 15\n"
   ]
  },
  {
   "cell_type": "markdown",
   "id": "92203f86-3b2c-4c88-87e2-f3fe88316f16",
   "metadata": {},
   "source": [
    "<div style=\"background-color: lightgreen; color: black; padding: 4px;\">\n",
    "    <h4>1. Imperative Programming\n",
    "</h4> </div>"
   ]
  },
  {
   "cell_type": "markdown",
   "id": "b0ff69e0-6d02-4052-a783-6a61d6b48f9e",
   "metadata": {},
   "source": [
    "**Definition**: This paradigm focuses on commands that change a program’s state. It involves writing sequences of statements that lead to a desired outcome.\n",
    "\n",
    "**Characteristics**: \n",
    "  - Uses statements to change program state.\n",
    "  - Follows a step-by-step approach."
   ]
  },
  {
   "cell_type": "code",
   "execution_count": 11,
   "id": "7e3962ee-e96e-4661-9363-77a3e3ebe405",
   "metadata": {},
   "outputs": [
    {
     "name": "stdout",
     "output_type": "stream",
     "text": [
      "15\n"
     ]
    }
   ],
   "source": [
    "# Example\n",
    "total = 0\n",
    "for i in range(1, 6):\n",
    "    total += i  # Add i to total\n",
    "print(total)  # Output: 15\n"
   ]
  },
  {
   "cell_type": "markdown",
   "id": "a3b10a45",
   "metadata": {},
   "source": [
    "<div style=\"background-color: lightgreen; color: black; padding: 4px;\">\n",
    "    <h4>2. Procedural Programming\n",
    "</h4> </div>"
   ]
  },
  {
   "cell_type": "markdown",
   "id": "a3cd232e-6d77-4005-bf27-bf81f32964d7",
   "metadata": {},
   "source": [
    "**Definition**: A subtype of imperative programming that structures code into procedures (or functions). It promotes code reuse and organization.\n",
    "\n",
    "**Characteristics**: \n",
    "  - Uses functions to encapsulate behavior.\n",
    "  - Supports modularity."
   ]
  },
  {
   "cell_type": "code",
   "execution_count": 17,
   "id": "48e7a936-13e2-4f56-a743-bf81abd55bb2",
   "metadata": {},
   "outputs": [
    {
     "name": "stdout",
     "output_type": "stream",
     "text": [
      "15\n"
     ]
    }
   ],
   "source": [
    "#example \n",
    "\n",
    "def calculate_sum(n):\n",
    "    total = 0\n",
    "    for i in range(1, n + 1):\n",
    "        total += i\n",
    "    return total\n",
    "\n",
    "print(calculate_sum(5))  # Output: 15\n"
   ]
  },
  {
   "cell_type": "markdown",
   "id": "ecac77f6",
   "metadata": {},
   "source": [
    "<div style=\"background-color: lightgreen; color: black; padding: 4px;\">\n",
    "    <h4>3. Object-Oriented Programming (OOP)\n",
    "</h4> </div>"
   ]
  },
  {
   "cell_type": "markdown",
   "id": "d86e6098-1932-4be0-bdc1-928e79d79207",
   "metadata": {},
   "source": [
    "**Definition**: This paradigm is based on the concept of \"objects,\" which are instances of classes. OOP promotes encapsulation, inheritance, and polymorphism.\n",
    "\n",
    "**Characteristics**: \n",
    "  - Encapsulation: Bundling data and methods that operate on the data within one unit.\n",
    "  - Inheritance: Mechanism to create a new class using the properties of an existing class.\n",
    "  - Polymorphism: Ability to use a single interface for different data types."
   ]
  },
  {
   "cell_type": "code",
   "execution_count": 21,
   "id": "8d71dffe-6d2d-40eb-b1ed-28f9d99bdfdb",
   "metadata": {},
   "outputs": [
    {
     "name": "stdout",
     "output_type": "stream",
     "text": [
      "Buddy says woof!\n"
     ]
    }
   ],
   "source": [
    "# Example\n",
    "class Dog:\n",
    "    def __init__(self, name):\n",
    "        self.name = name\n",
    "    \n",
    "    def bark(self):\n",
    "        return f\"{self.name} says woof!\"\n",
    "\n",
    "my_dog = Dog(\"Buddy\")\n",
    "print(my_dog.bark())  # Output: Buddy says woof!\n"
   ]
  },
  {
   "cell_type": "markdown",
   "id": "46a5f795",
   "metadata": {},
   "source": [
    "<div style=\"background-color: lightgreen; color: black; padding: 4px;\">\n",
    "    <h4>4. Functional Programming\n",
    "</h4> </div>"
   ]
  },
  {
   "cell_type": "markdown",
   "id": "c7dce472-7029-41e9-aca2-d7be855e3b22",
   "metadata": {},
   "source": [
    "**Definition**: This paradigm treats computation as the evaluation of mathematical functions and avoids changing state or mutable data.\n",
    "\n",
    "**Characteristics**: \n",
    "  - First-class functions: Functions can be passed as arguments, returned from other functions, and assigned to variables.\n",
    "  - Higher-order functions: Functions that operate on other functions. \n",
    "  - Immutability: Data is immutable."
   ]
  },
  {
   "cell_type": "code",
   "execution_count": 31,
   "id": "475ec488-78db-451a-8473-dd5990db5b79",
   "metadata": {},
   "outputs": [
    {
     "name": "stdout",
     "output_type": "stream",
     "text": [
      "      Name  Score\n",
      "2  Charlie     95\n"
     ]
    }
   ],
   "source": [
    "# Example\n",
    "def square(x):\n",
    "    return x * x\n",
    "\n",
    "numbers = [1, 2, 3, 4]\n",
    "squares = list(map(square, numbers))  # Apply the square function to each element\n",
    "print(squares)  # Output: [1, 4, 9, 16]\n"
   ]
  },
  {
   "cell_type": "markdown",
   "id": "50f921c5",
   "metadata": {},
   "source": [
    "<div style=\"background-color: lightgreen; color: black; padding: 4px;\">\n",
    "    <h4>5. Declarative Programming\n",
    "</h4> </div>"
   ]
  },
  {
   "cell_type": "markdown",
   "id": "0c1eea07-2d6b-4c26-8d38-5b923a34b4fb",
   "metadata": {},
   "source": [
    "**Definition**: This paradigm expresses the logic of a computation without describing its control flow. It focuses on what the program should accomplish rather than how to achieve it.\n",
    "\n",
    "**Characteristics**: \n",
    "  - Focuses on the outcome rather than the procedure.\n",
    "  - Commonly used in database querying and configuration management.\n",
    "\n",
    "**Example:**\n",
    "  - SQL for querying databases is a common example, while in Python, you can use libraries like Pandas to filter data in a declarative manner.\n"
   ]
  },
  {
   "cell_type": "code",
   "execution_count": null,
   "id": "d0fde77d-fecd-4a5e-a935-d77a0bc8abca",
   "metadata": {},
   "outputs": [],
   "source": [
    "#Example\n",
    "import pandas as pd\n",
    "\n",
    "data = {'Name': ['Alice', 'Bob', 'Charlie'],\n",
    "        'Score': [85, 90, 95]}\n",
    "df = pd.DataFrame(data)\n",
    "\n",
    "# Filter where Score is greater than 90\n",
    "high_scores = df[df['Score'] > 90]\n",
    "print(high_scores)\n"
   ]
  },
  {
   "cell_type": "markdown",
   "id": "b69ed7ea-1940-434d-bb2d-601d07994783",
   "metadata": {},
   "source": [
    "<div style=\"background-color: lightblue; color: white; padding: 10px; text-align: center;\">\n",
    "    <h1>_________________________________END________________________________\n",
    "</h1> </div>"
   ]
  },
  {
   "cell_type": "markdown",
   "id": "01ede1e3-7668-4ca3-bb69-64344a1e070b",
   "metadata": {},
   "source": [
    "<div class=\"alert alert-block alert-warning\">\n",
    "    <b><font size=\"5\"> Live Exercise</font> </b>\n",
    "</div>"
   ]
  },
  {
   "cell_type": "markdown",
   "id": "8bc1cea8-d999-464a-9ed1-d760c38a57fb",
   "metadata": {},
   "source": [
    "Now it's your turn!\n",
    "### Task: Create a Function to Calculate Factorial\n",
    "Write a function named factorial that takes a positive integer n as input and returns its factorial. The factorial of a non-negative integer n is the product of all positive integers less than or equal to n. For example, the factorial of 5 (denoted as 5!) is 5 × 4 × 3 × 2 × 1 = 120.\n",
    "\n"
   ]
  },
  {
   "cell_type": "markdown",
   "id": "13e86481-eae2-4019-9515-66a43a30f0fb",
   "metadata": {},
   "source": [
    "<div style=\"background-color: #002147; color: #fff; padding: 30px; text-align: center;\">\n",
    "    <h1>THANK YOU!\n",
    "</h1> </div>"
   ]
  },
  {
   "cell_type": "markdown",
   "id": "eabe4e17-193c-4895-b4a3-b71f577ac7e1",
   "metadata": {},
   "source": [
    "<div style=\"background-color: lightgreen; color: black; padding: 30px;\">\n",
    "    <h4> Solution:\n",
    "</h4> </div>"
   ]
  },
  {
   "cell_type": "code",
   "execution_count": null,
   "id": "a2086cf0-4cc5-448c-ad14-9444c55155c4",
   "metadata": {},
   "outputs": [],
   "source": []
  }
 ],
 "metadata": {
  "kernelspec": {
   "display_name": "Python 3 (ipykernel)",
   "language": "python",
   "name": "python3"
  },
  "language_info": {
   "codemirror_mode": {
    "name": "ipython",
    "version": 3
   },
   "file_extension": ".py",
   "mimetype": "text/x-python",
   "name": "python",
   "nbconvert_exporter": "python",
   "pygments_lexer": "ipython3",
   "version": "3.12.4"
  }
 },
 "nbformat": 4,
 "nbformat_minor": 5
}
