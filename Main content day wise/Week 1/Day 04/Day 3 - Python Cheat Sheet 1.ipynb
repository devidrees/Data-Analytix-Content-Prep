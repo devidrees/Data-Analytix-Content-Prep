{
 "cells": [
  {
   "cell_type": "markdown",
   "id": "6360f670-cd32-417c-be26-8438195b82df",
   "metadata": {},
   "source": [
    "<h1 style=\" background-color: #002147; color: White; padding: 30px; text-align:center\"> Python Programming Cheat Sheet </h1>"
   ]
  },
  {
   "cell_type": "markdown",
   "id": "19e9ec83-cf6b-4000-aa3b-4b2194c2bbf1",
   "metadata": {},
   "source": [
    "<div style=\"background-color: lightgreen; color: black; padding: 10px;\">\n",
    "    <h4>\n",
    "</h1> </div>"
   ]
  },
  {
   "cell_type": "markdown",
   "id": "501766cf-b33e-4a42-92d5-f521d1400ca8",
   "metadata": {},
   "source": [
    "### Comments and Print Statement\r\n"
   ]
  },
  {
   "cell_type": "code",
   "execution_count": null,
   "id": "6ddca3ff-4058-4fea-bc76-4e591c59249b",
   "metadata": {},
   "outputs": [],
   "source": [
    "# This is a comment, comments help explain the code but are not executed\n",
    "print(\"Hello, Data Analytics!\")  # Prints the string \"Hello, Data Analytics!\" to the console\n"
   ]
  },
  {
   "cell_type": "markdown",
   "id": "89cd894e-abdd-4649-8304-6737e54593d1",
   "metadata": {},
   "source": [
    "### Variables and Data Types\n"
   ]
  },
  {
   "cell_type": "code",
   "execution_count": null,
   "id": "b974762d-f61f-4046-980a-7eec62ff622a",
   "metadata": {},
   "outputs": [],
   "source": [
    "x = 5  # Assigning the integer 5 to the variable x\n",
    "y = 2.5  # Assigning the float 2.5 to the variable y\n",
    "name = \"Alice\"  # Assigning the string \"Alice\" to the variable name\n",
    "is_analyst = True  # Assigning the boolean value True to the variable is_analyst\n",
    "\n",
    "# The `type()` function is used to check the data type of a variable\n",
    "print(type(x))  # Prints <class 'int'> because x is an integer\n",
    "print(type(y))  # Prints <class 'float'> because y is a float\n",
    "print(type(name))  # Prints <class 'str'> because name is a string\n",
    "print(type(is_analyst))  # Prints <class 'bool'> because is_analyst is a boolean\n"
   ]
  },
  {
   "cell_type": "markdown",
   "id": "2e89edbe-df45-499f-9d8d-9b639a0dd724",
   "metadata": {},
   "source": [
    "### Lists, Dictionaries, Tuples, and Sets\n"
   ]
  },
  {
   "cell_type": "code",
   "execution_count": null,
   "id": "0464bf66-734e-481a-b39e-8295e4bfa8c4",
   "metadata": {},
   "outputs": [],
   "source": [
    "data = [1, 2, 3, 4, 5]  # A list of integers\n",
    "info = {'name': 'Alice', 'age': 25, 'role': 'Analyst'}  # A dictionary with keys and values\n",
    "coordinates = (10.5, 20.7)  # A tuple representing coordinates, immutable (cannot be changed)\n",
    "unique_data = {1, 2, 3, 4, 5}  # A set of unique values, unordered and no duplicates allowed\n",
    "\n",
    "# Print the data structures\n",
    "print(data)  # Outputs the list: [1, 2, 3, 4, 5]\n",
    "print(info)  # Outputs the dictionary: {'name': 'Alice', 'age': 25, 'role': 'Analyst'}\n",
    "print(coordinates)  # Outputs the tuple: (10.5, 20.7)\n",
    "print(unique_data)  # Outputs the set: {1, 2, 3, 4, 5}\n"
   ]
  },
  {
   "cell_type": "markdown",
   "id": "e8cc3329-18a0-48da-8cf7-256d4f3fd81d",
   "metadata": {},
   "source": [
    "### If-Else Conditional Statements"
   ]
  },
  {
   "cell_type": "code",
   "execution_count": null,
   "id": "4defefd1-d7ee-4d6d-8e19-8cf7d895af3c",
   "metadata": {},
   "outputs": [],
   "source": [
    "x = 5  # Assigning the integer 5 to x\n",
    "# Checking if x is greater than 0\n",
    "if x > 0:\n",
    "    print(\"Positive\")  # If x is greater than 0, print \"Positive\"\n",
    "else:\n",
    "    print(\"Negative or Zero\")  # If x is 0 or less, print \"Negative or Zero\"\n"
   ]
  },
  {
   "cell_type": "markdown",
   "id": "a8392f3d-7c9d-4db9-a200-021fea14869d",
   "metadata": {},
   "source": [
    "### For and While Loops"
   ]
  },
  {
   "cell_type": "code",
   "execution_count": null,
   "id": "f3d3d8ac-f944-4a43-b9eb-763a1fd1f572",
   "metadata": {},
   "outputs": [],
   "source": [
    "# For loop: loops through a range of numbers from 0 to 4 (5 is not included)\n",
    "for i in range(5):\n",
    "    print(i)  # Prints the current value of i in each iteration\n",
    "\n",
    "i = 0  # Initialize i to 0 for the while loop\n",
    "# While loop: repeats as long as i is less than 5\n",
    "while i < 5:\n",
    "    print(i)  # Prints the current value of i\n",
    "    i += 1  # Increases i by 1 in each iteration\n"
   ]
  },
  {
   "cell_type": "markdown",
   "id": "fc688900-770a-41a5-8a14-bc003916c4c1",
   "metadata": {},
   "source": [
    "<div style=\"background-color: lightgreen; color: black; padding: 10px;\">\n",
    "    <h4>\n",
    "</h1> </div>"
   ]
  },
  {
   "cell_type": "markdown",
   "id": "bf4d5126-2475-42f7-86e3-e00a65910644",
   "metadata": {},
   "source": [
    "### Defining and Using Functions\n"
   ]
  },
  {
   "cell_type": "code",
   "execution_count": null,
   "id": "dce9b314-31fa-4616-8aaa-bd40873dd80b",
   "metadata": {},
   "outputs": [],
   "source": [
    "def greet(name):  # Define a function named greet, which takes a parameter 'name'\n",
    "    return f\"Hello, {name}!\"  # Return a greeting message with the passed name\n",
    "\n",
    "# Call the function greet with the argument \"Alice\"\n",
    "print(greet(\"Alice\"))  # Outputs: \"Hello, Alice!\"\n"
   ]
  },
  {
   "cell_type": "markdown",
   "id": "0b7ecc9a-fb9e-489e-a08f-ae29b5a67552",
   "metadata": {},
   "source": [
    "### Understanding Functions in Python\n",
    "Functions allow you to encapsulate logic for reusability, organization, and modularity.\n"
   ]
  },
  {
   "cell_type": "code",
   "execution_count": 3,
   "id": "18921665-dc0b-44d4-9b5c-b06fdb4b1096",
   "metadata": {},
   "outputs": [
    {
     "name": "stdout",
     "output_type": "stream",
     "text": [
      "25\n"
     ]
    }
   ],
   "source": [
    "# Defining a function using 'def' keyword, followed by the function name and parentheses\n",
    "def square(x):  # 'x' is the parameter that the function takes\n",
    "    return x ** 2  # The function returns the square of 'x' (x multiplied by itself)\n",
    "\n",
    "# Call the function with an argument, in this case, 5\n",
    "result = square(5)  # The result will store the value returned by the square function\n",
    "print(result)  # Outputs: 25, since 5 squared is 25\n"
   ]
  },
  {
   "cell_type": "markdown",
   "id": "602c1fe1-03b7-469a-816a-563ee65f44d3",
   "metadata": {},
   "source": [
    "### Why Use Functions?\n",
    "- **Modularity**: Break code into smaller chunks for better organization.\n",
    "- **Reusability**: Write once, reuse multiple times.\n",
    "- **Return Values**: Functions can return data, which you can use elsewhere in your program.\n"
   ]
  },
  {
   "cell_type": "code",
   "execution_count": 6,
   "id": "b6e8fb15-ce35-4a74-a928-042954c22c91",
   "metadata": {},
   "outputs": [
    {
     "name": "stdout",
     "output_type": "stream",
     "text": [
      "Hello, Alice!\n"
     ]
    }
   ],
   "source": [
    "# Define a function that takes a name and returns a greeting message\n",
    "def greet_person(name):  # 'name' is a parameter that accepts any string value\n",
    "    return f\"Hello, {name}!\"  # The function returns a formatted string using f-string\n",
    "\n",
    "# Call the function and pass the string \"Alice\" as an argument\n",
    "print(greet_person(\"Alice\"))  # Outputs: \"Hello, Alice!\"\n"
   ]
  },
  {
   "cell_type": "markdown",
   "id": "bc266029-2c4d-4496-886e-35b3368ca3b5",
   "metadata": {},
   "source": [
    "<div style=\"background-color: lightgreen; color: black; padding: 10px;\">\n",
    "    <h4>\n",
    "</h1> </div>"
   ]
  },
  {
   "cell_type": "markdown",
   "id": "4ba24354-7b04-47d6-91cf-71a48cab3564",
   "metadata": {},
   "source": [
    "### Object-Oriented Programming (OOP) in Python\n",
    "OOP helps you create blueprints (called classes) that define the structure and behavior of objects.\n"
   ]
  },
  {
   "cell_type": "code",
   "execution_count": 11,
   "id": "ae722178-badd-4280-9b84-1e49757c5fdf",
   "metadata": {},
   "outputs": [
    {
     "name": "stdout",
     "output_type": "stream",
     "text": [
      "Hello, my name is Alice and I am 30 years old.\n"
     ]
    }
   ],
   "source": [
    "# Defining a class named 'Person' that models a person's attributes and behavior\n",
    "class Person:\n",
    "    # __init__ is a constructor method that initializes the attributes of the object\n",
    "    def __init__(self, name, age):  # The class takes 'name' and 'age' as parameters\n",
    "        self.name = name  # 'self.name' refers to the name of the instance being created\n",
    "        self.age = age  # 'self.age' refers to the age of the instance being created\n",
    "    \n",
    "    # A method inside the class that returns a greeting message\n",
    "    def greet(self):  \n",
    "        return f\"Hello, my name is {self.name} and I am {self.age} years old.\"  # Use instance attributes in a string\n",
    "\n",
    "# Creating an object (instance) of the Person class\n",
    "person1 = Person(\"Alice\", 30)  # 'person1' is an object with name \"Alice\" and age 30\n",
    "\n",
    "# Call the 'greet' method on the object 'person1'\n",
    "print(person1.greet())  # Outputs: \"Hello, my name is Alice and I am 30 years old.\"\n"
   ]
  },
  {
   "cell_type": "markdown",
   "id": "6d31f53d-1078-4085-bc07-d77900b79d02",
   "metadata": {},
   "source": [
    "### Understanding Objects in Python\n",
    "Objects are like real-world things: they have **attributes** (properties) and can perform **actions** (methods).\n",
    "Think of objects as **blueprints** of something. In Python, these blueprints are defined by **classes**.\n"
   ]
  },
  {
   "cell_type": "code",
   "execution_count": 17,
   "id": "8554fd6b-30cf-4f21-952a-db57201302e2",
   "metadata": {},
   "outputs": [
    {
     "name": "stdout",
     "output_type": "stream",
     "text": [
      "The 2020 Toyota Corolla has started!\n",
      "The 2020 Toyota Corolla has stopped.\n"
     ]
    }
   ],
   "source": [
    "# Example: Think of a 'Car' as a real-world object\n",
    "# A Car object has properties like color, model, and speed, and it can perform actions like start, stop, and accelerate.\n",
    "\n",
    "# Let's create a class to define this blueprint for a Car object\n",
    "class Car:\n",
    "    def __init__(self, make, model, year):  # The constructor initializes attributes like make, model, and year\n",
    "        self.make = make  # 'self.make' is the attribute that stores the make of the car\n",
    "        self.model = model  # 'self.model' stores the model of the car\n",
    "        self.year = year  # 'self.year' stores the year of manufacture\n",
    "    \n",
    "    def start(self):  # Define a method (an action the car can perform)\n",
    "        return f\"The {self.year} {self.make} {self.model} has started!\"  # Return a message when the car starts\n",
    "\n",
    "    def stop(self):  # Another method to stop the car\n",
    "        return f\"The {self.year} {self.make} {self.model} has stopped.\"\n",
    "\n",
    "# Creating an object (instance) of the Car class\n",
    "my_car = Car(\"Toyota\", \"Corolla\", 2020)  # 'my_car' is now a Car object with specific attributes\n",
    "\n",
    "# Call the 'start' and 'stop' methods on the my_car object\n",
    "print(my_car.start())  # Outputs: \"The 2020 Toyota Corolla has started!\"\n",
    "print(my_car.stop())   # Outputs: \"The 2020 Toyota Corolla has stopped.\"\n"
   ]
  },
  {
   "cell_type": "markdown",
   "id": "9145d661-f64b-41b7-a7fc-328e34fe37b9",
   "metadata": {},
   "source": [
    "### Intuition Behind Objects\n",
    "- An **object** is like an **instance** of a blueprint (class).\n",
    "- Objects are **specific** versions of things. In the above example, `my_car` is a specific car (a Toyota Corolla from 2020).\n",
    "- Just like a real-world object, it has properties (make, model, year) and can perform actions (start, stop).\n"
   ]
  },
  {
   "cell_type": "code",
   "execution_count": 20,
   "id": "e9254e36-9d6c-4c73-a9d5-c8261b08ecda",
   "metadata": {},
   "outputs": [
    {
     "name": "stdout",
     "output_type": "stream",
     "text": [
      "Rex is barking!\n",
      "Rex is sitting.\n"
     ]
    }
   ],
   "source": [
    "# Another example with a 'Dog' object to reinforce the concept\n",
    "\n",
    "# Define a Dog class as a blueprint\n",
    "class Dog:\n",
    "    def __init__(self, name, breed):  # The Dog class has attributes: name and breed\n",
    "        self.name = name  # 'self.name' stores the name of the dog\n",
    "        self.breed = breed  # 'self.breed' stores the breed of the dog\n",
    "\n",
    "    def bark(self):  # Method to make the dog 'bark'\n",
    "        return f\"{self.name} is barking!\"  # Returns a message indicating the dog is barking\n",
    "    \n",
    "    def sit(self):  # Method to make the dog 'sit'\n",
    "        return f\"{self.name} is sitting.\"\n",
    "\n",
    "# Create an object (instance) of the Dog class\n",
    "my_dog = Dog(\"Rex\", \"Labrador\")  # 'my_dog' is a Labrador named Rex\n",
    "\n",
    "# Call the methods on the my_dog object\n",
    "print(my_dog.bark())  # Outputs: \"Rex is barking!\"\n",
    "print(my_dog.sit())   # Outputs: \"Rex is sitting.\"\n"
   ]
  },
  {
   "cell_type": "markdown",
   "id": "a416aa51-7deb-45fe-abb1-1fdab6518e4b",
   "metadata": {},
   "source": [
    "### Key Takeaways About Objects:\n",
    "- **Attributes**: Characteristics or properties that an object has. For a car, it could be make, model, year. For a dog, it could be name and breed.\n",
    "- **Methods**: Actions that an object can perform. For a car, it could be starting or stopping. For a dog, it could be barking or sitting.\n",
    "- Objects let you represent real-world things in a program and interact with them through their attributes and methods.\n"
   ]
  },
  {
   "cell_type": "markdown",
   "id": "f7699f49-b901-4715-88c2-138376984ddb",
   "metadata": {},
   "source": [
    "<div style=\"background-color: lightgreen; color: black; padding: 10px;\">\n",
    "    <h4>\n",
    "</h1> </div>"
   ]
  },
  {
   "cell_type": "markdown",
   "id": "0cef9182-238f-47fb-bf1c-6aa076ab7779",
   "metadata": {},
   "source": [
    "### Why Use OOP?\n",
    "- **Encapsulation**: Group data and methods together into objects.\n",
    "- **Inheritance**: Create new classes from existing ones, reusing code efficiently.\n",
    "- **Polymorphism**: Different classes can have methods with the same name but different implementations.\n"
   ]
  },
  {
   "cell_type": "code",
   "execution_count": 14,
   "id": "0cf06581-3f33-44ec-a0b1-5215555bfc9d",
   "metadata": {},
   "outputs": [
    {
     "name": "stdout",
     "output_type": "stream",
     "text": [
      "Hello, my name is Bob and I am 28 years old.\n",
      "I am Bob, a Data Analyst.\n"
     ]
    }
   ],
   "source": [
    "# Defining a new class 'Employee' that inherits from 'Person'\n",
    "class Employee(Person):  # Employee class inherits all properties of Person\n",
    "    def __init__(self, name, age, role):  # Adding an additional parameter 'role'\n",
    "        super().__init__(name, age)  # Inheriting 'name' and 'age' from the Person class using 'super()'\n",
    "        self.role = role  # New attribute specific to Employee class\n",
    "    \n",
    "    # A method to introduce the employee\n",
    "    def introduce(self):  \n",
    "        return f\"I am {self.name}, a {self.role}.\"  # Use both inherited and new attributes\n",
    "\n",
    "# Creating an object (instance) of the Employee class\n",
    "employee1 = Employee(\"Bob\", 28, \"Data Analyst\")  # 'employee1' has name \"Bob\", age 28, and role \"Data Analyst\"\n",
    "\n",
    "# Call the 'greet' method (inherited from Person) and 'introduce' method\n",
    "print(employee1.greet())  # Outputs: \"Hello, my name is Bob and I am 28 years old.\"\n",
    "print(employee1.introduce())  # Outputs: \"I am Bob, a Data Analyst.\"\n"
   ]
  },
  {
   "cell_type": "markdown",
   "id": "37e738ab-ff90-43a0-8981-61e748d387aa",
   "metadata": {},
   "source": [
    "<div style=\"background-color: lightgreen; color: black; padding: 10px;\">\n",
    "    <h4>\n",
    "</h1> </div>"
   ]
  },
  {
   "cell_type": "markdown",
   "id": "4d61cf4d-0d2a-499d-8b6b-1d30c226612a",
   "metadata": {},
   "source": [
    "### Using NumPy and Pandas Libraries\n"
   ]
  },
  {
   "cell_type": "code",
   "execution_count": null,
   "id": "a21354af-02e4-46c2-9d2f-c50a5ccd9599",
   "metadata": {},
   "outputs": [],
   "source": [
    "# Import NumPy for numerical operations and Pandas for data manipulation\n",
    "import numpy as np  # np is an alias for NumPy\n",
    "import pandas as pd  # pd is an alias for Pandas\n",
    "\n",
    "# Creating a NumPy array with values 1, 2, and 3\n",
    "arr = np.array([1, 2, 3])  # np.array creates an array from the list [1, 2, 3]\n",
    "\n",
    "# Creating a Pandas DataFrame from a dictionary\n",
    "df = pd.DataFrame({'col1': [1, 2], 'col2': [3, 4]})  # Creates a DataFrame with two columns 'col1' and 'col2'\n",
    "\n",
    "# Print the NumPy array and Pandas DataFrame\n",
    "print(arr)  # Outputs: [1 2 3]\n",
    "print(df)  # Outputs the DataFrame with columns and rows\n"
   ]
  },
  {
   "cell_type": "markdown",
   "id": "48d20d5a-81d2-4179-8faf-456c590dd4c7",
   "metadata": {},
   "source": [
    "### Data Selection, Filtering, and Aggregation\n"
   ]
  },
  {
   "cell_type": "code",
   "execution_count": null,
   "id": "0f2117d0-dd73-498e-bd2e-6bf82446bfc9",
   "metadata": {},
   "outputs": [],
   "source": [
    "# Select column 'col1' from the DataFrame df\n",
    "selected_column = df['col1']  # Access column 'col1' of the DataFrame\n",
    "\n",
    "# Filter the DataFrame for rows where 'col1' is greater than 1\n",
    "filtered_df = df[df['col1'] > 1]  # Filters and returns rows where 'col1' > 1\n",
    "\n",
    "# Calculate the mean of each column in the DataFrame\n",
    "mean_values = df.mean()  # df.mean() returns the mean of numerical columns\n",
    "\n",
    "# Print the results\n",
    "print(selected_column)  # Outputs the values of 'col1': 1, 2\n",
    "print(filtered_df)  # Outputs the filtered DataFrame where 'col1' > 1\n",
    "print(mean_values)  # Outputs the mean of 'col1' and 'col2'\n"
   ]
  },
  {
   "cell_type": "markdown",
   "id": "566ebe5f-5eb7-4115-b1a1-1f9cdb566f37",
   "metadata": {},
   "source": [
    "### Reading and Writing CSV Files\n"
   ]
  },
  {
   "cell_type": "code",
   "execution_count": null,
   "id": "f7b300b9-4c2b-4dff-a0b0-05d95a79336e",
   "metadata": {},
   "outputs": [],
   "source": [
    "# Read a CSV file into a Pandas DataFrame\n",
    "df = pd.read_csv('data.csv')  # pd.read_csv reads a CSV file named 'data.csv' into a DataFrame\n",
    "\n",
    "# Write the DataFrame to a new CSV file, without including the index column\n",
    "df.to_csv('output.csv', index=False)  # df.to_csv writes the DataFrame to 'output.csv' without row index\n",
    "\n",
    "# No output, but you can check the saved CSV file in the directory\n"
   ]
  },
  {
   "cell_type": "markdown",
   "id": "d200f644-9992-4e3b-a995-4029fdb0bf6d",
   "metadata": {},
   "source": [
    "<div style=\"background-color: lightgreen; color: black; padding: 10px;\">\n",
    "    <h4>\n",
    "</h1> </div>"
   ]
  },
  {
   "cell_type": "markdown",
   "id": "caecac40-c95a-4518-90be-bf2464a67e7d",
   "metadata": {},
   "source": [
    "### Basic Plotting with Matplotlib\n"
   ]
  },
  {
   "cell_type": "code",
   "execution_count": null,
   "id": "7fd19d45-1192-4544-bd91-24857329bbff",
   "metadata": {},
   "outputs": [],
   "source": [
    "# Import the Matplotlib library for plotting\n",
    "import matplotlib.pyplot as plt  # plt is an alias for Matplotlib\n",
    "\n",
    "# Plot a line graph with x-values [1, 2, 3] and y-values [4, 5, 6]\n",
    "plt.plot([1, 2, 3], [4, 5, 6])  # Creates a line plot using the specified x and y values\n",
    "\n",
    "# Add labels and title to the plot\n",
    "plt.xlabel('X-axis')  # Label for the x-axis\n",
    "plt.ylabel('Y-axis')  # Label for the y-axis\n",
    "plt.title('Sample Plot')  # Title of the plot\n",
    "\n",
    "# Display the plot\n",
    "plt.show()  # Renders the plot in the output\n"
   ]
  },
  {
   "cell_type": "code",
   "execution_count": null,
   "id": "b3fd21d1-d833-407e-a5e3-ef3c70fd180f",
   "metadata": {},
   "outputs": [],
   "source": []
  },
  {
   "cell_type": "code",
   "execution_count": null,
   "id": "322a6aba-c189-4729-8cd4-b51bafa69946",
   "metadata": {},
   "outputs": [],
   "source": []
  },
  {
   "cell_type": "markdown",
   "id": "1c762cd6-ee35-4e4e-aa54-600db6a9c23d",
   "metadata": {},
   "source": [
    "<div style=\"background-color: lightblue; color: black; padding: 4px;\">\n",
    "    <h4>Python Learning Resources\n",
    "</h4> </div>"
   ]
  },
  {
   "cell_type": "markdown",
   "id": "affb2e43-d552-4f52-b5e7-c4d8af63b29e",
   "metadata": {},
   "source": [
    "https://wiki.python.org/moin/BeginnersGuide/Programmers - Ultimate Python Resource by python.org\n",
    "\n",
    "https://www.codecademy.com/courses/learn-python-3\n",
    "\n",
    "https://www.youtube.com/watch?v=rfscVS0vtbw - Free Code Camp Video\n",
    "\n",
    "https://app.datacamp.com/learn/courses/intro-to-python-for-data-science"
   ]
  },
  {
   "cell_type": "markdown",
   "id": "b69ed7ea-1940-434d-bb2d-601d07994783",
   "metadata": {},
   "source": [
    "<div style=\"background-color: lightblue; color: white; padding: 10px; text-align: center;\">\n",
    "    <h1>_________________________________END________________________________\n",
    "</h1> </div>"
   ]
  },
  {
   "cell_type": "markdown",
   "id": "13e86481-eae2-4019-9515-66a43a30f0fb",
   "metadata": {},
   "source": [
    "<div style=\"background-color: #002147; color: #fff; padding: 30px; text-align: center;\">\n",
    "    <h1>THANK YOU!\n",
    "</h1> </div>"
   ]
  }
 ],
 "metadata": {
  "kernelspec": {
   "display_name": "Python 3 (ipykernel)",
   "language": "python",
   "name": "python3"
  },
  "language_info": {
   "codemirror_mode": {
    "name": "ipython",
    "version": 3
   },
   "file_extension": ".py",
   "mimetype": "text/x-python",
   "name": "python",
   "nbconvert_exporter": "python",
   "pygments_lexer": "ipython3",
   "version": "3.12.4"
  }
 },
 "nbformat": 4,
 "nbformat_minor": 5
}
