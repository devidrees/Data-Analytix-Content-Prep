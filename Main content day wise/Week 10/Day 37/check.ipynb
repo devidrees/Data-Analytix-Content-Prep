{
 "cells": [
  {
   "cell_type": "code",
   "execution_count": 3,
   "metadata": {},
   "outputs": [
    {
     "name": "stdout",
     "output_type": "stream",
     "text": [
      "Collecting Quran\n",
      "  Using cached quran-1.0.0-py3-none-any.whl.metadata (2.4 kB)\n",
      "Collecting astroid==2.4.2 (from Quran)\n",
      "  Using cached astroid-2.4.2-py3-none-any.whl.metadata (3.9 kB)\n",
      "Collecting certifi==2020.6.20 (from Quran)\n",
      "  Using cached certifi-2020.6.20-py2.py3-none-any.whl.metadata (2.9 kB)\n",
      "Collecting chardet==3.0.4 (from Quran)\n",
      "  Using cached chardet-3.0.4-py2.py3-none-any.whl.metadata (3.2 kB)\n",
      "Collecting idna==2.10 (from Quran)\n",
      "  Using cached idna-2.10-py2.py3-none-any.whl.metadata (9.1 kB)\n",
      "Collecting isort==4.3.21 (from Quran)\n",
      "  Using cached isort-4.3.21-py2.py3-none-any.whl.metadata (19 kB)\n",
      "Collecting lazy-object-proxy==1.4.3 (from Quran)\n",
      "  Using cached lazy-object-proxy-1.4.3.tar.gz (34 kB)\n",
      "  Installing build dependencies: started\n",
      "  Installing build dependencies: finished with status 'done'\n",
      "  Getting requirements to build wheel: started\n",
      "  Getting requirements to build wheel: finished with status 'done'\n",
      "  Preparing metadata (pyproject.toml): started\n",
      "  Preparing metadata (pyproject.toml): finished with status 'done'\n",
      "Collecting mccabe==0.6.1 (from Quran)\n",
      "  Using cached mccabe-0.6.1-py2.py3-none-any.whl.metadata (4.3 kB)\n",
      "Collecting pycodestyle==2.6.0 (from Quran)\n",
      "  Using cached pycodestyle-2.6.0-py2.py3-none-any.whl.metadata (30 kB)\n",
      "Collecting requests==2.24.0 (from Quran)\n",
      "  Using cached requests-2.24.0-py2.py3-none-any.whl.metadata (6.9 kB)\n",
      "Collecting six==1.15.0 (from Quran)\n",
      "  Using cached six-1.15.0-py2.py3-none-any.whl.metadata (1.8 kB)\n",
      "Collecting toml==0.10.1 (from Quran)\n",
      "  Using cached toml-0.10.1-py2.py3-none-any.whl.metadata (6.4 kB)\n",
      "Collecting urllib3==1.25.10 (from Quran)\n",
      "  Using cached urllib3-1.25.10-py2.py3-none-any.whl.metadata (40 kB)\n",
      "Collecting wrapt==1.12.1 (from Quran)\n",
      "  Using cached wrapt-1.12.1.tar.gz (27 kB)\n",
      "  Installing build dependencies: started\n",
      "  Installing build dependencies: finished with status 'done'\n",
      "  Getting requirements to build wheel: started\n",
      "  Getting requirements to build wheel: finished with status 'done'\n",
      "  Preparing metadata (pyproject.toml): started\n",
      "  Preparing metadata (pyproject.toml): finished with status 'done'\n",
      "Using cached quran-1.0.0-py3-none-any.whl (6.5 kB)\n",
      "Using cached astroid-2.4.2-py3-none-any.whl (213 kB)\n",
      "Using cached certifi-2020.6.20-py2.py3-none-any.whl (156 kB)\n",
      "Using cached chardet-3.0.4-py2.py3-none-any.whl (133 kB)\n",
      "Using cached idna-2.10-py2.py3-none-any.whl (58 kB)\n",
      "Using cached isort-4.3.21-py2.py3-none-any.whl (42 kB)\n",
      "Using cached mccabe-0.6.1-py2.py3-none-any.whl (8.6 kB)\n",
      "Using cached pycodestyle-2.6.0-py2.py3-none-any.whl (41 kB)\n",
      "Using cached requests-2.24.0-py2.py3-none-any.whl (61 kB)\n",
      "Using cached six-1.15.0-py2.py3-none-any.whl (10 kB)\n",
      "Using cached toml-0.10.1-py2.py3-none-any.whl (19 kB)\n",
      "Using cached urllib3-1.25.10-py2.py3-none-any.whl (127 kB)\n",
      "Building wheels for collected packages: lazy-object-proxy, wrapt\n",
      "  Building wheel for lazy-object-proxy (pyproject.toml): started\n",
      "  Building wheel for lazy-object-proxy (pyproject.toml): finished with status 'done'\n",
      "  Created wheel for lazy-object-proxy: filename=lazy_object_proxy-1.4.3-cp310-cp310-win_amd64.whl size=20484 sha256=d28ea0c3752b6025e3e223543b99306b8bdebdd52a0de5f71affa5b275a74abe\n",
      "  Stored in directory: c:\\users\\devid\\appdata\\local\\pip\\cache\\wheels\\86\\84\\95\\b104d41ac3bf2911ab3fa69817a89799753f696d62978c5bf5\n",
      "  Building wheel for wrapt (pyproject.toml): started\n",
      "  Building wheel for wrapt (pyproject.toml): finished with status 'done'\n",
      "  Created wheel for wrapt: filename=wrapt-1.12.1-cp310-cp310-win_amd64.whl size=33224 sha256=ad131aebc2eec130b4fafff5a2613f8ff16fccaeceaadceab0bcc3b1ad942df6\n",
      "  Stored in directory: c:\\users\\devid\\appdata\\local\\pip\\cache\\wheels\\8e\\61\\d3\\d9e7053100177668fa43216a8082868c55015f8706abd974f2\n",
      "Successfully built lazy-object-proxy wrapt\n",
      "Installing collected packages: wrapt, toml, mccabe, chardet, certifi, urllib3, six, pycodestyle, lazy-object-proxy, isort, idna, requests, astroid, Quran\n",
      "  Attempting uninstall: six\n",
      "    Found existing installation: six 1.16.0\n",
      "    Uninstalling six-1.16.0:\n",
      "      Successfully uninstalled six-1.16.0\n",
      "Successfully installed Quran-1.0.0 astroid-2.4.2 certifi-2020.6.20 chardet-3.0.4 idna-2.10 isort-4.3.21 lazy-object-proxy-1.4.3 mccabe-0.6.1 pycodestyle-2.6.0 requests-2.24.0 six-1.15.0 toml-0.10.1 urllib3-1.25.10 wrapt-1.12.1\n",
      "Note: you may need to restart the kernel to use updated packages.\n"
     ]
    }
   ],
   "source": [
    "pip install Quran"
   ]
  },
  {
   "cell_type": "markdown",
   "metadata": {},
   "source": [
    "- pip uninstall urllib3\n",
    "- pip uninstall six\n",
    "- pip install urllib3\n",
    "- pip install six"
   ]
  },
  {
   "cell_type": "code",
   "execution_count": 3,
   "metadata": {},
   "outputs": [
    {
     "name": "stdout",
     "output_type": "stream",
     "text": [
      "Requirement already satisfied: quran in c:\\users\\devid\\desktop\\xdata-analytix-content-prep\\testenv\\lib\\site-packages (1.0.0)\n",
      "Requirement already satisfied: urllib3 in c:\\users\\devid\\desktop\\xdata-analytix-content-prep\\testenv\\lib\\site-packages (1.25.10)\n",
      "Requirement already satisfied: six in c:\\users\\devid\\desktop\\xdata-analytix-content-prep\\testenv\\lib\\site-packages (1.16.0)\n",
      "Requirement already satisfied: astroid==2.4.2 in c:\\users\\devid\\desktop\\xdata-analytix-content-prep\\testenv\\lib\\site-packages (from quran) (2.4.2)\n",
      "Requirement already satisfied: certifi==2020.6.20 in c:\\users\\devid\\desktop\\xdata-analytix-content-prep\\testenv\\lib\\site-packages (from quran) (2020.6.20)\n",
      "Requirement already satisfied: chardet==3.0.4 in c:\\users\\devid\\desktop\\xdata-analytix-content-prep\\testenv\\lib\\site-packages (from quran) (3.0.4)\n",
      "Requirement already satisfied: idna==2.10 in c:\\users\\devid\\desktop\\xdata-analytix-content-prep\\testenv\\lib\\site-packages (from quran) (2.10)\n",
      "Requirement already satisfied: isort==4.3.21 in c:\\users\\devid\\desktop\\xdata-analytix-content-prep\\testenv\\lib\\site-packages (from quran) (4.3.21)\n",
      "Requirement already satisfied: lazy-object-proxy==1.4.3 in c:\\users\\devid\\desktop\\xdata-analytix-content-prep\\testenv\\lib\\site-packages (from quran) (1.4.3)\n",
      "Requirement already satisfied: mccabe==0.6.1 in c:\\users\\devid\\desktop\\xdata-analytix-content-prep\\testenv\\lib\\site-packages (from quran) (0.6.1)\n",
      "Requirement already satisfied: pycodestyle==2.6.0 in c:\\users\\devid\\desktop\\xdata-analytix-content-prep\\testenv\\lib\\site-packages (from quran) (2.6.0)\n",
      "Requirement already satisfied: requests==2.24.0 in c:\\users\\devid\\desktop\\xdata-analytix-content-prep\\testenv\\lib\\site-packages (from quran) (2.24.0)\n",
      "Collecting six\n",
      "  Using cached six-1.15.0-py2.py3-none-any.whl.metadata (1.8 kB)\n",
      "Requirement already satisfied: toml==0.10.1 in c:\\users\\devid\\desktop\\xdata-analytix-content-prep\\testenv\\lib\\site-packages (from quran) (0.10.1)\n",
      "Requirement already satisfied: wrapt==1.12.1 in c:\\users\\devid\\desktop\\xdata-analytix-content-prep\\testenv\\lib\\site-packages (from quran) (1.12.1)\n",
      "Using cached six-1.15.0-py2.py3-none-any.whl (10 kB)\n",
      "Installing collected packages: six\n",
      "  Attempting uninstall: six\n",
      "    Found existing installation: six 1.16.0\n",
      "    Uninstalling six-1.16.0:\n",
      "      Successfully uninstalled six-1.16.0\n",
      "Successfully installed six-1.15.0\n",
      "Note: you may need to restart the kernel to use updated packages.\n"
     ]
    }
   ],
   "source": [
    "pip install quran urllib3 six"
   ]
  },
  {
   "cell_type": "code",
   "execution_count": 4,
   "metadata": {},
   "outputs": [],
   "source": [
    "from quran import Quran"
   ]
  },
  {
   "cell_type": "code",
   "execution_count": 5,
   "metadata": {},
   "outputs": [
    {
     "name": "stdout",
     "output_type": "stream",
     "text": [
      "{'verse': {'id': 1, 'verse_number': 1, 'chapter_id': 1, 'verse_key': '1:1', 'text_indopak': 'بِسۡمِ اللهِ الرَّحۡمٰنِ الرَّحِيۡمِ', 'juz_number': 1, 'hizb_number': 1, 'rub_el_hizb_number': 1, 'sajdah_number': None, 'page_number': 1, 'sajdah': None, 'text_madani': 'بِسْمِ ٱللَّهِ ٱلرَّحْمَـٰنِ ٱلرَّحِيمِ', 'words': [{'id': 1, 'position': 1, 'text_indopak': 'بِسۡمِ', 'verse_key': '1:1', 'line_number': 2, 'page_number': 1, 'code': '&#xfb51;', 'class_name': 'p1', 'text_madani': 'بِسْمِ', 'char_type': 'word', 'transliteration': {'text': \"bis'mi\", 'language_name': 'english'}, 'translation': {'language_name': 'english', 'text': 'In (the) name'}, 'audio': {'url': 'wbw/001_001_001.mp3'}}, {'id': 2, 'position': 2, 'text_indopak': 'اللهِ', 'verse_key': '1:1', 'line_number': 2, 'page_number': 1, 'code': '&#xfb52;', 'class_name': 'p1', 'text_madani': 'ٱللَّهِ', 'char_type': 'word', 'transliteration': {'text': 'l-lahi', 'language_name': 'english'}, 'translation': {'language_name': 'english', 'text': '(of) Allah'}, 'audio': {'url': 'wbw/001_001_002.mp3'}}, {'id': 3, 'position': 3, 'text_indopak': 'الرَّحۡمٰنِ', 'verse_key': '1:1', 'line_number': 2, 'page_number': 1, 'code': '&#xfb53;', 'class_name': 'p1', 'text_madani': 'ٱلرَّحْمَـٰنِ', 'char_type': 'word', 'transliteration': {'text': 'l-raḥmāni', 'language_name': 'english'}, 'translation': {'language_name': 'english', 'text': 'the Most Gracious'}, 'audio': {'url': 'wbw/001_001_003.mp3'}}, {'id': 4, 'position': 4, 'text_indopak': 'الرَّحِيۡمِ', 'verse_key': '1:1', 'line_number': 2, 'page_number': 1, 'code': '&#xfb54;', 'class_name': 'p1', 'text_madani': 'ٱلرَّحِيمِ', 'char_type': 'word', 'transliteration': {'text': 'l-raḥīmi', 'language_name': 'english'}, 'translation': {'language_name': 'english', 'text': 'the Most Merciful'}, 'audio': {'url': 'wbw/001_001_004.mp3'}}, {'id': 5, 'position': 5, 'text_indopak': '١', 'verse_key': '1:1', 'line_number': 2, 'page_number': 1, 'code': '&#xfb55;', 'class_name': 'p1', 'text_madani': '١', 'char_type': 'end', 'transliteration': {'text': None, 'language_name': 'english'}, 'translation': {'language_name': 'english', 'text': '(1)'}, 'audio': {'url': None}}]}}\n"
     ]
    }
   ],
   "source": [
    "q = Quran()\n",
    "verse = q.get_verse(1, 1)  # Get the first verse of the first chapter\n",
    "print(verse)\n"
   ]
  },
  {
   "cell_type": "code",
   "execution_count": 6,
   "metadata": {},
   "outputs": [
    {
     "name": "stdout",
     "output_type": "stream",
     "text": [
      "{'chapter': {'id': 1, 'revelation_place': 'makkah', 'revelation_order': 5, 'bismillah_pre': False, 'name_simple': 'Al-Fatihah', 'name_complex': 'Al-Fātiĥah', 'name_arabic': 'الفاتحة', 'verses_count': 7, 'pages': [1, 1], 'chapter_number': 1, 'translated_name': {'language_name': 'english', 'name': 'The Opener'}}}\n"
     ]
    }
   ],
   "source": [
    "chapter = q.get_chapter(1)  # Get the first chapter (Al-Fatiha)\n",
    "print(chapter)\n"
   ]
  },
  {
   "cell_type": "code",
   "execution_count": 10,
   "metadata": {},
   "outputs": [
    {
     "name": "stdout",
     "output_type": "stream",
     "text": [
      "Verse 2:255: {'verse': {'id': 262, 'verse_number': 255, 'chapter_id': 2, 'verse_key': '2:255', 'text_indopak': 'اللّٰهُ لَاۤ اِلٰهَ اِلَّا هُوَ الۡحَـىُّ الۡقَيُّوۡمُ\\ue021ۚ \\u2002لَا تَاۡخُذُهٗ سِنَةٌ وَّلَا نَوۡمٌ\\u200bؕ لَهٗ مَا فِى السَّمٰوٰتِ وَمَا فِى الۡاَرۡضِ\\u200bؕ مَنۡ ذَا الَّذِىۡ يَشۡفَعُ عِنۡدَهٗۤ اِلَّا بِاِذۡنِهٖ\\u200bؕ يَعۡلَمُ مَا بَيۡنَ اَيۡدِيۡهِمۡ وَمَا خَلۡفَهُمۡ\\u200bۚ وَلَا يُحِيۡطُوۡنَ بِشَىۡءٍ مِّنۡ عِلۡمِهٖۤ اِلَّا بِمَا شَآءَ ۚ وَسِعَ كُرۡسِيُّهُ السَّمٰوٰتِ وَالۡاَرۡضَ\\u200b\\u200bۚ وَلَا يَـــُٔوۡدُهٗ حِفۡظُهُمَا \\u200bۚ وَ هُوَ الۡعَلِىُّ الۡعَظِيۡمُ\\u200f', 'juz_number': 3, 'hizb_number': 5, 'rub_el_hizb_number': 17, 'sajdah_number': None, 'page_number': 42, 'sajdah': None, 'text_madani': 'ٱللَّهُ لَآ إِلَـٰهَ إِلَّا هُوَ ٱلْحَىُّ ٱلْقَيُّومُ ۚ لَا تَأْخُذُهُۥ سِنَةٌ وَلَا نَوْمٌ ۚ لَّهُۥ مَا فِى ٱلسَّمَـٰوَٰتِ وَمَا فِى ٱلْأَرْضِ ۗ مَن ذَا ٱلَّذِى يَشْفَعُ عِندَهُۥٓ إِلَّا بِإِذْنِهِۦ ۚ يَعْلَمُ مَا بَيْنَ أَيْدِيهِمْ وَمَا خَلْفَهُمْ ۖ وَلَا يُحِيطُونَ بِشَىْءٍ مِّنْ عِلْمِهِۦٓ إِلَّا بِمَا شَآءَ ۚ وَسِعَ كُرْسِيُّهُ ٱلسَّمَـٰوَٰتِ وَٱلْأَرْضَ ۖ وَلَا يَـُٔودُهُۥ حِفْظُهُمَا ۚ وَهُوَ ٱلْعَلِىُّ ٱلْعَظِيمُ', 'words': [{'id': 87148, 'position': 1, 'text_indopak': 'اللّٰهُ', 'verse_key': '2:255', 'line_number': 8, 'page_number': 42, 'code': '&#xfba3;', 'class_name': 'p42', 'text_madani': 'ٱللَّهُ', 'char_type': 'word', 'transliteration': {'text': 'al-lahu', 'language_name': 'english'}, 'translation': {'language_name': 'english', 'text': 'Allah '}, 'audio': {'url': 'wbw/002_255_001.mp3'}}, {'id': 87149, 'position': 2, 'text_indopak': 'لَاۤ', 'verse_key': '2:255', 'line_number': 8, 'page_number': 42, 'code': '&#xfba4;', 'class_name': 'p42', 'text_madani': 'لَآ', 'char_type': 'word', 'transliteration': {'text': 'lā', 'language_name': 'english'}, 'translation': {'language_name': 'english', 'text': '(there is) no'}, 'audio': {'url': 'wbw/002_255_002.mp3'}}, {'id': 87150, 'position': 3, 'text_indopak': 'اِلٰهَ', 'verse_key': '2:255', 'line_number': 8, 'page_number': 42, 'code': '&#xfba5;', 'class_name': 'p42', 'text_madani': 'إِلَـٰهَ', 'char_type': 'word', 'transliteration': {'text': 'ilāha', 'language_name': 'english'}, 'translation': {'language_name': 'english', 'text': 'God'}, 'audio': {'url': 'wbw/002_255_003.mp3'}}, {'id': 87151, 'position': 4, 'text_indopak': 'اِلَّا', 'verse_key': '2:255', 'line_number': 8, 'page_number': 42, 'code': '&#xfba6;', 'class_name': 'p42', 'text_madani': 'إِلَّا', 'char_type': 'word', 'transliteration': {'text': 'illā', 'language_name': 'english'}, 'translation': {'language_name': 'english', 'text': 'except'}, 'audio': {'url': 'wbw/002_255_004.mp3'}}, {'id': 87152, 'position': 5, 'text_indopak': 'هُوَ', 'verse_key': '2:255', 'line_number': 8, 'page_number': 42, 'code': '&#xfba7;', 'class_name': 'p42', 'text_madani': 'هُوَ', 'char_type': 'word', 'transliteration': {'text': 'huwa', 'language_name': 'english'}, 'translation': {'language_name': 'english', 'text': 'Him'}, 'audio': {'url': 'wbw/002_255_005.mp3'}}, {'id': 87153, 'position': 6, 'text_indopak': 'الۡحَـىُّ', 'verse_key': '2:255', 'line_number': 9, 'page_number': 42, 'code': '&#xfba8;', 'class_name': 'p42', 'text_madani': 'ٱلْحَىُّ', 'char_type': 'word', 'transliteration': {'text': 'l-ḥayu', 'language_name': 'english'}, 'translation': {'language_name': 'english', 'text': 'the Ever-Living'}, 'audio': {'url': 'wbw/002_255_006.mp3'}}, {'id': 87154, 'position': 7, 'text_indopak': 'الۡقَيُّوۡمُ\\ue021ۚ', 'verse_key': '2:255', 'line_number': 9, 'page_number': 42, 'code': '&#xfba9;', 'class_name': 'p42', 'text_madani': 'ٱلْقَيُّومُ ۚ', 'char_type': 'word', 'transliteration': {'text': 'l-qayūmu', 'language_name': 'english'}, 'translation': {'language_name': 'english', 'text': 'the Sustainer of all that exists'}, 'audio': {'url': 'wbw/002_255_007.mp3'}}, {'id': 87156, 'position': 8, 'text_indopak': 'لَا', 'verse_key': '2:255', 'line_number': 9, 'page_number': 42, 'code': '&#xfbab;', 'class_name': 'p42', 'text_madani': 'لَا', 'char_type': 'word', 'transliteration': {'text': 'lā', 'language_name': 'english'}, 'translation': {'language_name': 'english', 'text': 'Not'}, 'audio': {'url': 'wbw/002_255_009.mp3'}}, {'id': 87157, 'position': 9, 'text_indopak': 'تَاۡخُذُهٗ', 'verse_key': '2:255', 'line_number': 9, 'page_number': 42, 'code': '&#xfbac;', 'class_name': 'p42', 'text_madani': 'تَأْخُذُهُۥ', 'char_type': 'word', 'transliteration': {'text': 'takhudhuhu', 'language_name': 'english'}, 'translation': {'language_name': 'english', 'text': 'overtakes Him'}, 'audio': {'url': 'wbw/002_255_010.mp3'}}, {'id': 87158, 'position': 10, 'text_indopak': 'سِنَةٌ', 'verse_key': '2:255', 'line_number': 9, 'page_number': 42, 'code': '&#xfbad;', 'class_name': 'p42', 'text_madani': 'سِنَةٌۭ', 'char_type': 'word', 'transliteration': {'text': 'sinatun', 'language_name': 'english'}, 'translation': {'language_name': 'english', 'text': 'slumber'}, 'audio': {'url': 'wbw/002_255_011.mp3'}}, {'id': 87159, 'position': 11, 'text_indopak': 'وَّلَا', 'verse_key': '2:255', 'line_number': 9, 'page_number': 42, 'code': '&#xfbae;', 'class_name': 'p42', 'text_madani': 'وَلَا', 'char_type': 'word', 'transliteration': {'text': 'walā', 'language_name': 'english'}, 'translation': {'language_name': 'english', 'text': '[and] not'}, 'audio': {'url': 'wbw/002_255_012.mp3'}}, {'id': 87160, 'position': 12, 'text_indopak': 'نَوۡمٌ\\u200bؕ', 'verse_key': '2:255', 'line_number': 9, 'page_number': 42, 'code': '&#xfbaf;', 'class_name': 'p42', 'text_madani': 'نَوْمٌۭ ۚ', 'char_type': 'word', 'transliteration': {'text': 'nawmun', 'language_name': 'english'}, 'translation': {'language_name': 'english', 'text': 'sleep'}, 'audio': {'url': 'wbw/002_255_013.mp3'}}, {'id': 87162, 'position': 13, 'text_indopak': 'لَهٗ', 'verse_key': '2:255', 'line_number': 9, 'page_number': 42, 'code': '&#xfbb1;', 'class_name': 'p42', 'text_madani': 'لَّهُۥ', 'char_type': 'word', 'transliteration': {'text': 'lahu', 'language_name': 'english'}, 'translation': {'language_name': 'english', 'text': 'To Him (belongs)'}, 'audio': {'url': 'wbw/002_255_015.mp3'}}, {'id': 87163, 'position': 14, 'text_indopak': 'مَا', 'verse_key': '2:255', 'line_number': 9, 'page_number': 42, 'code': '&#xfbd3;', 'class_name': 'p42', 'text_madani': 'مَا', 'char_type': 'word', 'transliteration': {'text': 'mā', 'language_name': 'english'}, 'translation': {'language_name': 'english', 'text': 'what(ever)'}, 'audio': {'url': 'wbw/002_255_016.mp3'}}, {'id': 87164, 'position': 15, 'text_indopak': 'فِى', 'verse_key': '2:255', 'line_number': 9, 'page_number': 42, 'code': '&#xfbd4;', 'class_name': 'p42', 'text_madani': 'فِى', 'char_type': 'word', 'transliteration': {'text': 'fī', 'language_name': 'english'}, 'translation': {'language_name': 'english', 'text': '(is) in'}, 'audio': {'url': 'wbw/002_255_017.mp3'}}, {'id': 87165, 'position': 16, 'text_indopak': 'السَّمٰوٰتِ', 'verse_key': '2:255', 'line_number': 9, 'page_number': 42, 'code': '&#xfbd5;', 'class_name': 'p42', 'text_madani': 'ٱلسَّمَـٰوَٰتِ', 'char_type': 'word', 'transliteration': {'text': 'l-samāwāti', 'language_name': 'english'}, 'translation': {'language_name': 'english', 'text': 'the heavens'}, 'audio': {'url': 'wbw/002_255_018.mp3'}}, {'id': 87166, 'position': 17, 'text_indopak': 'وَمَا', 'verse_key': '2:255', 'line_number': 9, 'page_number': 42, 'code': '&#xfbd6;', 'class_name': 'p42', 'text_madani': 'وَمَا', 'char_type': 'word', 'transliteration': {'text': 'wamā', 'language_name': 'english'}, 'translation': {'language_name': 'english', 'text': 'and what(ever)'}, 'audio': {'url': 'wbw/002_255_019.mp3'}}, {'id': 87167, 'position': 18, 'text_indopak': 'فِى', 'verse_key': '2:255', 'line_number': 10, 'page_number': 42, 'code': '&#xfbd7;', 'class_name': 'p42', 'text_madani': 'فِى', 'char_type': 'word', 'transliteration': {'text': 'fī', 'language_name': 'english'}, 'translation': {'language_name': 'english', 'text': '(is) in'}, 'audio': {'url': 'wbw/002_255_020.mp3'}}, {'id': 87168, 'position': 19, 'text_indopak': 'الۡاَرۡضِ\\u200bؕ', 'verse_key': '2:255', 'line_number': 10, 'page_number': 42, 'code': '&#xfbd8;', 'class_name': 'p42', 'text_madani': 'ٱلْأَرْضِ ۗ', 'char_type': 'word', 'transliteration': {'text': 'l-arḍi', 'language_name': 'english'}, 'translation': {'language_name': 'english', 'text': 'the earth'}, 'audio': {'url': 'wbw/002_255_021.mp3'}}, {'id': 87170, 'position': 20, 'text_indopak': 'مَنۡ', 'verse_key': '2:255', 'line_number': 10, 'page_number': 42, 'code': '&#xfbda;', 'class_name': 'p42', 'text_madani': 'مَن', 'char_type': 'word', 'transliteration': {'text': 'man', 'language_name': 'english'}, 'translation': {'language_name': 'english', 'text': 'Who'}, 'audio': {'url': 'wbw/002_255_023.mp3'}}, {'id': 87171, 'position': 21, 'text_indopak': 'ذَا', 'verse_key': '2:255', 'line_number': 10, 'page_number': 42, 'code': '&#xfbdb;', 'class_name': 'p42', 'text_madani': 'ذَا', 'char_type': 'word', 'transliteration': {'text': 'dhā', 'language_name': 'english'}, 'translation': {'language_name': 'english', 'text': '(is) the one'}, 'audio': {'url': 'wbw/002_255_024.mp3'}}, {'id': 87172, 'position': 22, 'text_indopak': 'الَّذِىۡ', 'verse_key': '2:255', 'line_number': 10, 'page_number': 42, 'code': '&#xfbdc;', 'class_name': 'p42', 'text_madani': 'ٱلَّذِى', 'char_type': 'word', 'transliteration': {'text': 'alladhī', 'language_name': 'english'}, 'translation': {'language_name': 'english', 'text': 'who'}, 'audio': {'url': 'wbw/002_255_025.mp3'}}, {'id': 87173, 'position': 23, 'text_indopak': 'يَشۡفَعُ', 'verse_key': '2:255', 'line_number': 10, 'page_number': 42, 'code': '&#xfbdd;', 'class_name': 'p42', 'text_madani': 'يَشْفَعُ', 'char_type': 'word', 'transliteration': {'text': 'yashfaʿu', 'language_name': 'english'}, 'translation': {'language_name': 'english', 'text': 'can intercede'}, 'audio': {'url': 'wbw/002_255_026.mp3'}}, {'id': 87174, 'position': 24, 'text_indopak': 'عِنۡدَهٗۤ', 'verse_key': '2:255', 'line_number': 10, 'page_number': 42, 'code': '&#xfbde;', 'class_name': 'p42', 'text_madani': 'عِندَهُۥٓ', 'char_type': 'word', 'transliteration': {'text': 'ʿindahu', 'language_name': 'english'}, 'translation': {'language_name': 'english', 'text': 'with Him'}, 'audio': {'url': 'wbw/002_255_027.mp3'}}, {'id': 87175, 'position': 25, 'text_indopak': 'اِلَّا', 'verse_key': '2:255', 'line_number': 10, 'page_number': 42, 'code': '&#xfbdf;', 'class_name': 'p42', 'text_madani': 'إِلَّا', 'char_type': 'word', 'transliteration': {'text': 'illā', 'language_name': 'english'}, 'translation': {'language_name': 'english', 'text': 'except'}, 'audio': {'url': 'wbw/002_255_028.mp3'}}, {'id': 87176, 'position': 26, 'text_indopak': 'بِاِذۡنِهٖ\\u200bؕ', 'verse_key': '2:255', 'line_number': 10, 'page_number': 42, 'code': '&#xfbe0;', 'class_name': 'p42', 'text_madani': 'بِإِذْنِهِۦ ۚ', 'char_type': 'word', 'transliteration': {'text': \"bi-idh'nihi\", 'language_name': 'english'}, 'translation': {'language_name': 'english', 'text': 'by His permission'}, 'audio': {'url': 'wbw/002_255_029.mp3'}}, {'id': 87178, 'position': 27, 'text_indopak': 'يَعۡلَمُ', 'verse_key': '2:255', 'line_number': 10, 'page_number': 42, 'code': '&#xfbe2;', 'class_name': 'p42', 'text_madani': 'يَعْلَمُ', 'char_type': 'word', 'transliteration': {'text': 'yaʿlamu', 'language_name': 'english'}, 'translation': {'language_name': 'english', 'text': 'He knows'}, 'audio': {'url': 'wbw/002_255_031.mp3'}}, {'id': 87179, 'position': 28, 'text_indopak': 'مَا', 'verse_key': '2:255', 'line_number': 10, 'page_number': 42, 'code': '&#xfbe3;', 'class_name': 'p42', 'text_madani': 'مَا', 'char_type': 'word', 'transliteration': {'text': 'mā', 'language_name': 'english'}, 'translation': {'language_name': 'english', 'text': 'what'}, 'audio': {'url': 'wbw/002_255_032.mp3'}}, {'id': 87180, 'position': 29, 'text_indopak': 'بَيۡنَ', 'verse_key': '2:255', 'line_number': 10, 'page_number': 42, 'code': '&#xfbe4;', 'class_name': 'p42', 'text_madani': 'بَيْنَ', 'char_type': 'word', 'transliteration': {'text': 'bayna', 'language_name': 'english'}, 'translation': {'language_name': 'english', 'text': '(is)'}, 'audio': {'url': 'wbw/002_255_033.mp3'}}, {'id': 87181, 'position': 30, 'text_indopak': 'اَيۡدِيۡهِمۡ', 'verse_key': '2:255', 'line_number': 11, 'page_number': 42, 'code': '&#xfbe5;', 'class_name': 'p42', 'text_madani': 'أَيْدِيهِمْ', 'char_type': 'word', 'transliteration': {'text': 'aydīhim', 'language_name': 'english'}, 'translation': {'language_name': 'english', 'text': 'before them'}, 'audio': {'url': 'wbw/002_255_034.mp3'}}, {'id': 87182, 'position': 31, 'text_indopak': 'وَمَا', 'verse_key': '2:255', 'line_number': 11, 'page_number': 42, 'code': '&#xfbe6;', 'class_name': 'p42', 'text_madani': 'وَمَا', 'char_type': 'word', 'transliteration': {'text': 'wamā', 'language_name': 'english'}, 'translation': {'language_name': 'english', 'text': 'and what'}, 'audio': {'url': 'wbw/002_255_035.mp3'}}, {'id': 87183, 'position': 32, 'text_indopak': 'خَلۡفَهُمۡ\\u200bۚ', 'verse_key': '2:255', 'line_number': 11, 'page_number': 42, 'code': '&#xfbe7;', 'class_name': 'p42', 'text_madani': 'خَلْفَهُمْ ۖ', 'char_type': 'word', 'transliteration': {'text': 'khalfahum', 'language_name': 'english'}, 'translation': {'language_name': 'english', 'text': '(is) behind them'}, 'audio': {'url': 'wbw/002_255_036.mp3'}}, {'id': 87185, 'position': 33, 'text_indopak': 'وَلَا', 'verse_key': '2:255', 'line_number': 11, 'page_number': 42, 'code': '&#xfbe9;', 'class_name': 'p42', 'text_madani': 'وَلَا', 'char_type': 'word', 'transliteration': {'text': 'walā', 'language_name': 'english'}, 'translation': {'language_name': 'english', 'text': 'And not'}, 'audio': {'url': 'wbw/002_255_038.mp3'}}, {'id': 87186, 'position': 34, 'text_indopak': 'يُحِيۡطُوۡنَ', 'verse_key': '2:255', 'line_number': 11, 'page_number': 42, 'code': '&#xfbea;', 'class_name': 'p42', 'text_madani': 'يُحِيطُونَ', 'char_type': 'word', 'transliteration': {'text': 'yuḥīṭūna', 'language_name': 'english'}, 'translation': {'language_name': 'english', 'text': 'they encompass'}, 'audio': {'url': 'wbw/002_255_039.mp3'}}, {'id': 87187, 'position': 35, 'text_indopak': 'بِشَىۡءٍ', 'verse_key': '2:255', 'line_number': 11, 'page_number': 42, 'code': '&#xfbeb;', 'class_name': 'p42', 'text_madani': 'بِشَىْءٍۢ', 'char_type': 'word', 'transliteration': {'text': 'bishayin', 'language_name': 'english'}, 'translation': {'language_name': 'english', 'text': 'anything'}, 'audio': {'url': 'wbw/002_255_040.mp3'}}, {'id': 87188, 'position': 36, 'text_indopak': 'مِّنۡ', 'verse_key': '2:255', 'line_number': 11, 'page_number': 42, 'code': '&#xfbec;', 'class_name': 'p42', 'text_madani': 'مِّنْ', 'char_type': 'word', 'transliteration': {'text': 'min', 'language_name': 'english'}, 'translation': {'language_name': 'english', 'text': 'of'}, 'audio': {'url': 'wbw/002_255_041.mp3'}}, {'id': 87189, 'position': 37, 'text_indopak': 'عِلۡمِهٖۤ', 'verse_key': '2:255', 'line_number': 11, 'page_number': 42, 'code': '&#xfbed;', 'class_name': 'p42', 'text_madani': 'عِلْمِهِۦٓ', 'char_type': 'word', 'transliteration': {'text': \"ʿil'mihi\", 'language_name': 'english'}, 'translation': {'language_name': 'english', 'text': 'His Knowledge'}, 'audio': {'url': 'wbw/002_255_042.mp3'}}, {'id': 87190, 'position': 38, 'text_indopak': 'اِلَّا', 'verse_key': '2:255', 'line_number': 11, 'page_number': 42, 'code': '&#xfbee;', 'class_name': 'p42', 'text_madani': 'إِلَّا', 'char_type': 'word', 'transliteration': {'text': 'illā', 'language_name': 'english'}, 'translation': {'language_name': 'english', 'text': 'except'}, 'audio': {'url': 'wbw/002_255_043.mp3'}}, {'id': 87191, 'position': 39, 'text_indopak': 'بِمَا', 'verse_key': '2:255', 'line_number': 11, 'page_number': 42, 'code': '&#xfbef;', 'class_name': 'p42', 'text_madani': 'بِمَا', 'char_type': 'word', 'transliteration': {'text': 'bimā', 'language_name': 'english'}, 'translation': {'language_name': 'english', 'text': '[of] what'}, 'audio': {'url': 'wbw/002_255_044.mp3'}}, {'id': 87192, 'position': 40, 'text_indopak': 'شَآءَ ۚ', 'verse_key': '2:255', 'line_number': 12, 'page_number': 42, 'code': '&#xfbf0;', 'class_name': 'p42', 'text_madani': 'شَآءَ ۚ', 'char_type': 'word', 'transliteration': {'text': 'shāa', 'language_name': 'english'}, 'translation': {'language_name': 'english', 'text': 'He willed'}, 'audio': {'url': 'wbw/002_255_045.mp3'}}, {'id': 87194, 'position': 41, 'text_indopak': 'وَسِعَ', 'verse_key': '2:255', 'line_number': 12, 'page_number': 42, 'code': '&#xfbf2;', 'class_name': 'p42', 'text_madani': 'وَسِعَ', 'char_type': 'word', 'transliteration': {'text': 'wasiʿa', 'language_name': 'english'}, 'translation': {'language_name': 'english', 'text': 'Extends'}, 'audio': {'url': 'wbw/002_255_047.mp3'}}, {'id': 87195, 'position': 42, 'text_indopak': 'كُرۡسِيُّهُ', 'verse_key': '2:255', 'line_number': 12, 'page_number': 42, 'code': '&#xfbf3;', 'class_name': 'p42', 'text_madani': 'كُرْسِيُّهُ', 'char_type': 'word', 'transliteration': {'text': \"kur'siyyuhu\", 'language_name': 'english'}, 'translation': {'language_name': 'english', 'text': 'His Seat'}, 'audio': {'url': 'wbw/002_255_048.mp3'}}, {'id': 87196, 'position': 43, 'text_indopak': 'السَّمٰوٰتِ', 'verse_key': '2:255', 'line_number': 12, 'page_number': 42, 'code': '&#xfbf4;', 'class_name': 'p42', 'text_madani': 'ٱلسَّمَـٰوَٰتِ', 'char_type': 'word', 'transliteration': {'text': 'l-samāwāti', 'language_name': 'english'}, 'translation': {'language_name': 'english', 'text': '(to) the heavens'}, 'audio': {'url': 'wbw/002_255_049.mp3'}}, {'id': 87197, 'position': 44, 'text_indopak': 'وَالۡاَرۡضَ\\u200b\\u200bۚ', 'verse_key': '2:255', 'line_number': 12, 'page_number': 42, 'code': '&#xfbf5;', 'class_name': 'p42', 'text_madani': 'وَٱلْأَرْضَ ۖ', 'char_type': 'word', 'transliteration': {'text': 'wal-arḍa', 'language_name': 'english'}, 'translation': {'language_name': 'english', 'text': 'and the earth'}, 'audio': {'url': 'wbw/002_255_050.mp3'}}, {'id': 87199, 'position': 45, 'text_indopak': 'وَلَا', 'verse_key': '2:255', 'line_number': 12, 'page_number': 42, 'code': '&#xfbf7;', 'class_name': 'p42', 'text_madani': 'وَلَا', 'char_type': 'word', 'transliteration': {'text': 'walā', 'language_name': 'english'}, 'translation': {'language_name': 'english', 'text': 'And not'}, 'audio': {'url': 'wbw/002_255_052.mp3'}}, {'id': 87200, 'position': 46, 'text_indopak': 'يَـــُٔوۡدُهٗ', 'verse_key': '2:255', 'line_number': 12, 'page_number': 42, 'code': '&#xfbf8;', 'class_name': 'p42', 'text_madani': 'يَـُٔودُهُۥ', 'char_type': 'word', 'transliteration': {'text': 'yaūduhu', 'language_name': 'english'}, 'translation': {'language_name': 'english', 'text': 'tires Him'}, 'audio': {'url': 'wbw/002_255_053.mp3'}}, {'id': 87201, 'position': 47, 'text_indopak': 'حِفۡظُهُمَا \\u200bۚ', 'verse_key': '2:255', 'line_number': 12, 'page_number': 42, 'code': '&#xfbf9;', 'class_name': 'p42', 'text_madani': 'حِفْظُهُمَا ۚ', 'char_type': 'word', 'transliteration': {'text': \"ḥif'ẓuhumā\", 'language_name': 'english'}, 'translation': {'language_name': 'english', 'text': '(the) guarding of both of them'}, 'audio': {'url': 'wbw/002_255_054.mp3'}}, {'id': 87203, 'position': 48, 'text_indopak': 'وَ هُوَ', 'verse_key': '2:255', 'line_number': 13, 'page_number': 42, 'code': '&#xfbfb;', 'class_name': 'p42', 'text_madani': 'وَهُوَ', 'char_type': 'word', 'transliteration': {'text': 'wahuwa', 'language_name': 'english'}, 'translation': {'language_name': 'english', 'text': 'And He'}, 'audio': {'url': 'wbw/002_255_056.mp3'}}, {'id': 87204, 'position': 49, 'text_indopak': 'الۡعَلِىُّ', 'verse_key': '2:255', 'line_number': 13, 'page_number': 42, 'code': '&#xfbfc;', 'class_name': 'p42', 'text_madani': 'ٱلْعَلِىُّ', 'char_type': 'word', 'transliteration': {'text': 'l-ʿaliyu', 'language_name': 'english'}, 'translation': {'language_name': 'english', 'text': '(is) the Most High'}, 'audio': {'url': 'wbw/002_255_057.mp3'}}, {'id': 87205, 'position': 50, 'text_indopak': 'الۡعَظِيۡمُ\\u200f', 'verse_key': '2:255', 'line_number': 13, 'page_number': 42, 'code': '&#xfbfd;', 'class_name': 'p42', 'text_madani': 'ٱلْعَظِيمُ', 'char_type': 'word', 'transliteration': {'text': 'l-ʿaẓīmu', 'language_name': 'english'}, 'translation': {'language_name': 'english', 'text': 'the Most Great'}, 'audio': {'url': 'wbw/002_255_058.mp3'}}, {'id': 87206, 'position': 51, 'text_indopak': '٢٥٥', 'verse_key': '2:255', 'line_number': 13, 'page_number': 42, 'code': '&#xfbfe;', 'class_name': 'p42', 'text_madani': '٢٥٥', 'char_type': 'end', 'transliteration': {'text': None, 'language_name': 'english'}, 'translation': {'language_name': 'english', 'text': '(255)'}, 'audio': {'url': None}}]}}\n"
     ]
    }
   ],
   "source": [
    "# Get a verse from the Quran (e.g., Chapter 2, Verse 255)\n",
    "verse = q.get_verse(2, 255)\n",
    "print(f\"Verse 2:255: {verse}\")"
   ]
  },
  {
   "cell_type": "code",
   "execution_count": 16,
   "metadata": {},
   "outputs": [
    {
     "ename": "AttributeError",
     "evalue": "'Quran' object has no attribute 'get_text'",
     "output_type": "error",
     "traceback": [
      "\u001b[1;31m---------------------------------------------------------------------------\u001b[0m",
      "\u001b[1;31mAttributeError\u001b[0m                            Traceback (most recent call last)",
      "Cell \u001b[1;32mIn[16], line 2\u001b[0m\n\u001b[0;32m      1\u001b[0m \u001b[38;5;66;03m# Get the translation of Surah 2, Ayah 255 in English\u001b[39;00m\n\u001b[1;32m----> 2\u001b[0m translation \u001b[38;5;241m=\u001b[39m \u001b[43mq\u001b[49m\u001b[38;5;241;43m.\u001b[39;49m\u001b[43mget_text\u001b[49m(language\u001b[38;5;241m=\u001b[39m\u001b[38;5;124m\"\u001b[39m\u001b[38;5;124men\u001b[39m\u001b[38;5;124m\"\u001b[39m, surah\u001b[38;5;241m=\u001b[39m\u001b[38;5;241m2\u001b[39m, ayah\u001b[38;5;241m=\u001b[39m\u001b[38;5;241m255\u001b[39m)\n\u001b[0;32m      3\u001b[0m \u001b[38;5;28mprint\u001b[39m(\u001b[38;5;124mf\u001b[39m\u001b[38;5;124m\"\u001b[39m\u001b[38;5;124mTranslation of Surah 2:255: \u001b[39m\u001b[38;5;132;01m{\u001b[39;00mtranslation\u001b[38;5;132;01m}\u001b[39;00m\u001b[38;5;124m\"\u001b[39m)\n",
      "\u001b[1;31mAttributeError\u001b[0m: 'Quran' object has no attribute 'get_text'"
     ]
    }
   ],
   "source": [
    "# Get the translation of Surah 2, Ayah 255 in English\n",
    "translation = q.get_text(language=\"en\", surah=2, ayah=255)\n",
    "print(f\"Translation of Surah 2:255: {translation}\")"
   ]
  },
  {
   "cell_type": "code",
   "execution_count": 18,
   "metadata": {},
   "outputs": [
    {
     "data": {
      "text/plain": [
       "['__class__',\n",
       " '__delattr__',\n",
       " '__dict__',\n",
       " '__dir__',\n",
       " '__doc__',\n",
       " '__eq__',\n",
       " '__format__',\n",
       " '__ge__',\n",
       " '__getattribute__',\n",
       " '__gt__',\n",
       " '__hash__',\n",
       " '__init__',\n",
       " '__init_subclass__',\n",
       " '__le__',\n",
       " '__lt__',\n",
       " '__module__',\n",
       " '__ne__',\n",
       " '__new__',\n",
       " '__reduce__',\n",
       " '__reduce_ex__',\n",
       " '__repr__',\n",
       " '__setattr__',\n",
       " '__sizeof__',\n",
       " '__str__',\n",
       " '__subclasshook__',\n",
       " '__weakref__',\n",
       " 'base',\n",
       " 'get_chapter',\n",
       " 'get_juzs',\n",
       " 'get_languages',\n",
       " 'get_recitations',\n",
       " 'get_tafsir_from_verse_id',\n",
       " 'get_tafsirs',\n",
       " 'get_tafsirs_from_verse_id',\n",
       " 'get_translations',\n",
       " 'get_verse',\n",
       " 'get_verses',\n",
       " 'rq',\n",
       " 'search']"
      ]
     },
     "execution_count": 18,
     "metadata": {},
     "output_type": "execute_result"
    }
   ],
   "source": [
    "dir(q)\n"
   ]
  },
  {
   "cell_type": "code",
   "execution_count": 20,
   "metadata": {},
   "outputs": [],
   "source": [
    "\n",
    "# Initialize Quran instance\n",
    "quran = Quran()\n",
    "\n",
    "# Get the translations of Surah 2, Ayah 255 in English\n",
    "translations = quran.get_translations(surah=2, ayah=255)"
   ]
  },
  {
   "cell_type": "code",
   "execution_count": 23,
   "metadata": {},
   "outputs": [
    {
     "name": "stdout",
     "output_type": "stream",
     "text": [
      "Translations: {'translations': [{'id': 85, 'name': 'M.A.S. Abdel Haleem', 'author_name': 'Abdul Haleem', 'slug': 'en-haleem', 'language_name': 'english', 'translated_name': {'name': 'M.A.S. Abdel Haleem', 'language_name': 'english'}}, {'id': 131, 'name': 'Dr. Mustafa Khattab, The Clear Quran', 'author_name': 'Dr. Mustafa Khattab', 'slug': 'clearquran-with-tafsir', 'language_name': 'english', 'translated_name': {'name': 'Dr. Mustafa Khattab', 'language_name': 'english'}}, {'id': 84, 'name': 'T. Usmani', 'author_name': 'Mufti Taqi Usmani', 'slug': 'en-taqi-usmani', 'language_name': 'english', 'translated_name': {'name': 'T. Usmani', 'language_name': 'english'}}, {'id': 95, 'name': 'A. Maududi (Tafhim commentary)', 'author_name': 'Sayyid Abul Ala Maududi', 'slug': 'en-al-maududi', 'language_name': 'english', 'translated_name': {'name': 'A. Maududi (Tafhim commentary)', 'language_name': 'english'}}, {'id': 79, 'name': 'Abu Adel', 'author_name': 'Abu Adel', 'slug': 'ru-abu-adel', 'language_name': 'russian', 'translated_name': {'name': 'Abu Adel', 'language_name': 'english'}}, {'id': 86, 'name': 'Office of the president of Maldives', 'author_name': 'Office of the president of Maldives', 'slug': 'dv-unknow', 'language_name': 'divehi, dhivehi, maldivian', 'translated_name': {'name': 'Divehi', 'language_name': 'english'}}, {'id': 19, 'name': 'M. Pickthall', 'author_name': 'Mohammed Marmaduke William Pickthall', 'slug': 'quran.en.pickthall', 'language_name': 'english', 'translated_name': {'name': 'M. Pickthall', 'language_name': 'english'}}, {'id': 75, 'name': 'Alikhan Musayev', 'author_name': 'Alikhan Musayev', 'slug': 'az-alikhan', 'language_name': 'azeri', 'translated_name': {'name': 'Alikhan Musayev', 'language_name': 'english'}}, {'id': 76, 'name': 'Muhammad Saleh', 'author_name': 'Muhammad Saleh', 'slug': 'ug-saleh', 'language_name': 'uighur, uyghur', 'translated_name': {'name': 'Muhammad Saleh', 'language_name': 'english'}}, {'id': 83, 'name': 'Sheikh Isa Garcia', 'author_name': 'Sheikh Isa Garcia', 'slug': 'es-isa-garcia', 'language_name': 'spanish', 'translated_name': {'name': 'Sheikh Isa Garcia', 'language_name': 'english'}}, {'id': 78, 'name': 'Ministry of Awqaf, Egypt', 'author_name': 'Ministry of Awqaf, Egypt', 'slug': 'ru-ministry-of-awqaf', 'language_name': 'russian', 'translated_name': {'name': 'Ministry of Awqaf, Egypt', 'language_name': 'english'}}, {'id': 81, 'name': 'Burhan Muhammad-Amin', 'author_name': 'Burhan Muhammad-Amin', 'slug': 'ku-burhan-muhammad', 'language_name': 'kurdish', 'translated_name': {'name': 'Burhan Muhammad-Amin', 'language_name': 'english'}}, {'id': 80, 'name': 'Muhammad Karakunnu and Vanidas Elayavoor', 'author_name': 'Muhammad Karakunnu and Vanidas Elayavoor', 'slug': 'ml-karakunnu', 'language_name': 'malayalam', 'translated_name': {'name': 'Muhammad Karakunnu and Vanidas Elayavoor', 'language_name': 'english'}}, {'id': 22, 'name': 'A. Yusuf Ali', 'author_name': 'Abdullah Yusuf Ali', 'slug': 'quran.en.yusufali', 'language_name': 'english', 'translated_name': {'name': 'A. Yusuf Ali', 'language_name': 'english'}}, {'id': 20, 'name': 'Saheeh International', 'author_name': 'Saheeh International', 'slug': 'en-sahih-international', 'language_name': 'english', 'translated_name': {'name': 'Saheeh International', 'language_name': 'english'}}, {'id': 203, 'name': 'Al-Hilali & Khan', 'author_name': 'Muhammad Taqi-ud-Din al-Hilali & Muhammad Muhsin Khan', 'slug': '', 'language_name': 'english', 'translated_name': {'name': 'Al-Hilali & Khan', 'language_name': 'english'}}, {'id': 234, 'name': 'Fatah Muhammad Jalandhari', 'author_name': 'Fatah Muhammad Jalandhari', 'slug': 'ur-fatah-muhammad-jalandhari', 'language_name': 'urdu', 'translated_name': {'name': 'Fatah Muhammad Jalandhari', 'language_name': 'english'}}, {'id': 57, 'name': 'Transliteration', 'author_name': 'Transliteration', 'slug': 'transliteration', 'language_name': 'english', 'translated_name': {'name': 'Transliteration', 'language_name': 'english'}}, {'id': 54, 'name': 'Maulana Muhammad Junagarhi', 'author_name': 'Maulana Muhammad Junagarhi', 'slug': 'ur-junagarri', 'language_name': 'urdu', 'translated_name': {'name': 'Maulana Muhammad Junagarhi', 'language_name': 'english'}}, {'id': 156, 'name': \"Fe Zilal al-Qur'an\", 'author_name': 'Sayyid Ibrahim Qutb', 'slug': 'urdu-sayyid-qatab', 'language_name': 'urdu', 'translated_name': {'name': \"Fi Zilal al-Qur'an\", 'language_name': 'english'}}, {'id': 151, 'name': 'Shaykh al-Hind Mahmud al-Hasan(with Tafsir E Usmani)', 'author_name': 'Shaykh al-Hind Mahmud al-Hasan', 'slug': 'tafsir-e-usmani', 'language_name': 'urdu', 'translated_name': {'name': 'Shaykh al-Hind Mahmud al-Hasan(with Tafsir E Usmani)', 'language_name': 'english'}}, {'id': 158, 'name': 'Bayan-ul-Quran', 'author_name': 'Dr. Israr Ahmad', 'slug': 'bayan-ul-quran', 'language_name': 'urdu', 'translated_name': {'name': 'Bayan-ul-Quran (Dr. Israr Ahmad)', 'language_name': 'english'}}, {'id': 97, 'name': \"Tafheem e Qur'an - Syed Abu Ali Maududi\", 'author_name': 'Syed Abu Ali Maududi', 'slug': 'ur-al-maududi', 'language_name': 'urdu', 'translated_name': {'name': \"Tafheem e Qur'an - Syed Abu Ali Maududi\", 'language_name': 'english'}}, {'id': 136, 'name': 'Montada Islamic Foundation', 'author_name': 'Montada Islamic Foundation', 'slug': None, 'language_name': 'french', 'translated_name': {'name': 'Montada Islamic Foundation', 'language_name': 'english'}}, {'id': 135, 'name': 'IslamHouse.com', 'author_name': 'IslamHouse.com', 'slug': None, 'language_name': 'persian', 'translated_name': {'name': 'IslamHouse.com', 'language_name': 'english'}}, {'id': 139, 'name': 'Khawaja Mirof & Khawaja Mir', 'author_name': 'Khawaja Mirof & Khawaja Mir', 'slug': None, 'language_name': 'tajik', 'translated_name': {'name': 'Khawaja Mirof & Khawaja Mir', 'language_name': 'english'}}, {'id': 35, 'name': 'Ryoichi Mita', 'author_name': 'Ryoichi Mita', 'slug': 'ja-ryoichi-mita', 'language_name': 'japanese', 'translated_name': {'name': 'Ryoichi Mita', 'language_name': 'english'}}, {'id': 134, 'name': 'King Fahad Quran Complex', 'author_name': 'King Fahad Quran Complex', 'slug': None, 'language_name': 'indonesian', 'translated_name': {'name': 'King Fahad Quran Complex', 'language_name': 'english'}}, {'id': 153, 'name': 'Hamza Roberto Piccardo', 'author_name': 'Hamza Roberto Piccardo', 'slug': 'hamza-roberto-piccardo', 'language_name': 'italian', 'translated_name': {'name': 'Hamza Roberto Piccardo', 'language_name': 'english'}}, {'id': 161, 'name': 'Taisirul Quran', 'author_name': 'Tawheed Publication', 'slug': 'bn-taisirul-quran', 'language_name': 'bengali', 'translated_name': {'name': 'Taisirul Quran', 'language_name': 'english'}}, {'id': 163, 'name': 'Sheikh Mujibur Rahman', 'author_name': 'Darussalaam Publication', 'slug': 'bn-sheikh-mujibur-rahman', 'language_name': 'bengali', 'translated_name': {'name': 'Sheikh Mujibur Rahman', 'language_name': 'english'}}, {'id': 162, 'name': 'Rawai Al-bayan', 'author_name': 'Bayaan Foundation', 'slug': 'bn-rawai-al-bayan', 'language_name': 'bengali', 'translated_name': {'name': 'Rawai Al-bayan', 'language_name': 'english'}}, {'id': 210, 'name': 'Dar Al-Salam Center', 'author_name': 'Dar Al-Salam Center', 'slug': None, 'language_name': 'turkish', 'translated_name': {'name': 'Dar Al-Salam Center', 'language_name': 'english'}}, {'id': 211, 'name': 'Dar Al-Salam Center', 'author_name': 'Dar Al-Salam Center', 'slug': None, 'language_name': 'tagalog', 'translated_name': {'name': 'Dar Al-Salam Center', 'language_name': 'english'}}, {'id': 217, 'name': 'Dr. Mikhailo Yaqubovic', 'author_name': 'Dr. Mikhailo Yaqubovic', 'slug': None, 'language_name': 'ukrainian', 'translated_name': {'name': 'Dr. Mikhailo Yaqubovic', 'language_name': 'english'}}, {'id': 229, 'name': 'Sheikh Omar Sharif bin Abdul Salam', 'author_name': 'Sheikh Omar Sharif bin Abdul Salam', 'slug': None, 'language_name': 'tamil', 'translated_name': {'name': 'Sheikh Omar Sharif bin Abdul Salam', 'language_name': 'english'}}, {'id': 55, 'name': 'Muhammad Sodiq Muhammad Yusuf (Latin) ', 'author_name': 'Muhammad Sodiq Muhammad Yusuf', 'slug': 'quran.uz.sodik', 'language_name': 'uzbek', 'translated_name': {'name': 'Muhammad Sodiq Muhammad Yusuf (Latin)', 'language_name': 'english'}}, {'id': 143, 'name': 'Muhammad Saleh Bamoki', 'author_name': 'Muhammad Saleh Bamoki', 'slug': None, 'language_name': 'kurdish', 'translated_name': {'name': 'Muhammad Saleh Bamoki', 'language_name': 'english'}}, {'id': 141, 'name': 'The Sabiq company', 'author_name': 'The Sabiq company', 'slug': '', 'language_name': 'indonesian', 'translated_name': {'name': 'The Sabiq company', 'language_name': 'english'}}, {'id': 140, 'name': 'Montada Islamic Foundation', 'author_name': 'Montada Islamic Foundation', 'slug': None, 'language_name': 'spanish', 'translated_name': {'name': 'Montada Islamic Foundation', 'language_name': 'english'}}, {'id': 214, 'name': 'Dar Al-Salam Center', 'author_name': 'Dar Al-Salam Center', 'slug': None, 'language_name': 'bosnian', 'translated_name': {'name': 'Dar Al-Salam Center', 'language_name': 'english'}}, {'id': 227, 'name': 'Maulana Abder-Rahim ibn Muhammad', 'author_name': 'Maulana Abder-Rahim ibn Muhammad', 'slug': None, 'language_name': 'telugu', 'translated_name': {'name': 'Maulana Abder-Rahim ibn Muhammad', 'language_name': 'english'}}, {'id': 226, 'name': 'Muhammad Shafi’i Ansari', 'author_name': 'Muhammad Shafi’i Ansari', 'slug': None, 'language_name': 'marathi', 'translated_name': {'name': 'Muhammad Shafi’i Ansari', 'language_name': 'english'}}, {'id': 233, 'name': 'Dar Al-Salam Center', 'author_name': 'Dar Al-Salam Center', 'slug': None, 'language_name': 'hebrew', 'translated_name': {'name': 'Dar Al-Salam Center', 'language_name': 'english'}}, {'id': 225, 'name': 'Rabila Al-Umry', 'author_name': 'Rabila Al-Umry', 'slug': None, 'language_name': 'gujarati', 'translated_name': {'name': 'Rabila Al-Umry', 'language_name': 'english'}}, {'id': 224, 'name': 'Abdul-Hamid Haidar & Kanhi Muhammad', 'author_name': 'Abdul-Hamid Haidar & Kanhi Muhammad', 'slug': None, 'language_name': 'malayalam', 'translated_name': {'name': 'Abdul-Hamid Haidar & Kanhi Muhammad', 'language_name': 'english'}}, {'id': 235, 'name': 'Malak Faris Abdalsalaam', 'author_name': 'Malak Faris Abdalsalaam', 'slug': 'nl-abdalsalaam', 'language_name': 'dutch', 'translated_name': {'name': 'Malak Faris Abdalsalaam', 'language_name': 'english'}}, {'id': 232, 'name': 'African Development Foundation', 'author_name': 'African Development Foundation', 'slug': None, 'language_name': 'ganda', 'translated_name': {'name': 'African Development Foundation', 'language_name': 'english'}}, {'id': 231, 'name': 'Dr. Abdullah Muhammad Abu Bakr and Sheikh Nasir Khamis', 'author_name': 'Dr. Abdullah Muhammad Abu Bakr and Sheikh Nasir Khamis', 'slug': None, 'language_name': 'swahili', 'translated_name': {'name': 'Dr. Abdullah Muhammad Abu Bakr and Sheikh Nasir Khamis', 'language_name': 'english'}}, {'id': 230, 'name': 'Society of Institutes and Universities', 'author_name': 'Society of Institutes and Universities', 'slug': '', 'language_name': 'thai', 'translated_name': {'name': 'Society of Institutes and Universities', 'language_name': 'english'}}, {'id': 223, 'name': 'Pioneers of Translation Center', 'author_name': 'Pioneers of Translation Center', 'slug': None, 'language_name': 'tajik', 'translated_name': {'name': 'Pioneers of Translation Center', 'language_name': 'english'}}, {'id': 222, 'name': 'Khalifa Altay', 'author_name': 'Khalifa Altay', 'slug': None, 'language_name': 'kazakh', 'translated_name': {'name': 'Khalifa Altay', 'language_name': 'english'}}, {'id': 220, 'name': 'Ruwwad Center', 'author_name': 'Translation Pioneers Center', 'slug': None, 'language_name': 'vietnamese', 'translated_name': {'name': 'Translation Pioneers Center', 'language_name': 'english'}}, {'id': 144, 'name': 'Sofian S. Siregar', 'author_name': 'Sofian S. Siregar', 'slug': 'nl_sofian_s._siregar', 'language_name': 'Dutch', 'translated_name': {'name': 'Sofian S. Siregar', 'language_name': 'english'}}, {'id': 88, 'name': 'Hasan Efendi Nahi', 'author_name': 'Hasan Efendi Nahi', 'slug': 'al-hasan-efendi', 'language_name': 'albanian', 'translated_name': {'name': 'Hasan Efendi Nahi', 'language_name': 'english'}}, {'id': 87, 'name': 'Sadiq and Sani', 'author_name': 'Sadiq and Sani', 'slug': 'am-sadiq', 'language_name': 'amharic', 'translated_name': {'name': 'Sadiq and Sani', 'language_name': 'english'}}, {'id': 50, 'name': 'Jan Trust Foundation', 'author_name': 'Jan Trust Foundation', 'slug': 'ta-jan-trust', 'language_name': 'tamil', 'translated_name': {'name': 'Jan Trust Foundation', 'language_name': 'english'}}, {'id': 49, 'name': 'Ali Muhsin Al-Barwani', 'author_name': 'Ali Muhsin Al-Barwani', 'slug': 'sw-ali-muhsin', 'language_name': 'swahili', 'translated_name': {'name': 'Ali Muhsin Al-Barwani', 'language_name': 'english'}}, {'id': 48, 'name': 'Knut Bernström', 'author_name': 'Knut Bernström', 'slug': 'sv-knut', 'language_name': 'swedish', 'translated_name': {'name': 'Knut Bernström', 'language_name': 'english'}}, {'id': 128, 'name': 'Cambodian Muslim Community Development', 'author_name': 'Cambodian Muslim Community Development', 'slug': None, 'language_name': 'central khmer', 'translated_name': {'name': 'Cambodian Muslim Community Development', 'language_name': 'english'}}, {'id': 45, 'name': 'Russian Translation ( Elmir Kuliev )', 'author_name': 'Elmir Kuliev', 'slug': 'quran.ru.kuliev', 'language_name': 'russian', 'translated_name': {'name': 'Russian Translation ( Elmir Kuliev )', 'language_name': 'english'}}, {'id': 77, 'name': 'Turkish Translation(Diyanet)', 'author_name': 'Diyanet Isleri', 'slug': 'quran.tr.diyanet', 'language_name': 'turkish', 'translated_name': {'name': 'Turkish Translation(Diyanet)', 'language_name': 'english'}}, {'id': 39, 'name': 'Abdullah Muhammad Basmeih', 'author_name': 'Abdullah Muhammad Basmeih', 'slug': 'ms-abdullah', 'language_name': 'malay', 'translated_name': {'name': 'Abdullah Muhammad Basmeih', 'language_name': 'english'}}, {'id': 36, 'name': 'Korean', 'author_name': 'Korean', 'slug': 'ko-unknown', 'language_name': 'korean', 'translated_name': {'name': 'Korean', 'language_name': 'english'}}, {'id': 30, 'name': 'Finnish', 'author_name': 'Finnish', 'slug': 'fi-unknown', 'language_name': 'finnish', 'translated_name': {'name': 'Finnish', 'language_name': 'english'}}, {'id': 26, 'name': 'Czech', 'author_name': 'Czech', 'slug': 'cs-unknown', 'language_name': 'czech', 'translated_name': {'name': 'Czech', 'language_name': 'english'}}, {'id': 103, 'name': 'Helmi Nasr', 'author_name': 'Helmi Nasr', 'slug': None, 'language_name': 'portuguese', 'translated_name': {'name': 'Helmi Nasr', 'language_name': 'english'}}, {'id': 74, 'name': 'Tajik', 'author_name': 'AbdolMohammad Ayati', 'slug': 'tg-ayati', 'language_name': 'tajik', 'translated_name': {'name': 'Tajik', 'language_name': 'english'}}, {'id': 23, 'name': 'Azerbaijani', 'author_name': 'Azerbaijani', 'slug': 'az-unknown', 'language_name': 'azeri', 'translated_name': {'name': 'Azerbaijani', 'language_name': 'english'}}, {'id': 101, 'name': 'Alauddin Mansour', 'author_name': 'Alauddin Mansour', 'slug': None, 'language_name': 'uzbek', 'translated_name': {'name': 'Alauddin Mansour', 'language_name': 'english'}}, {'id': 53, 'name': 'Tatar', 'author_name': 'Tatar', 'slug': 'tt-unknow', 'language_name': 'tatar', 'translated_name': {'name': 'Tatar', 'language_name': 'english'}}, {'id': 47, 'name': 'Albanian', 'author_name': 'Albanian', 'slug': 'sq-unknown', 'language_name': 'albanian', 'translated_name': {'name': 'Albanian', 'language_name': 'english'}}, {'id': 44, 'name': 'Grigore', 'author_name': 'George Grigore', 'slug': 'ro-grigore', 'language_name': 'Romanian', 'translated_name': {'name': 'Grigore', 'language_name': 'english'}}, {'id': 42, 'name': 'Józef Bielawski', 'author_name': 'Józef Bielawski', 'slug': 'pl-jozef-bielawski', 'language_name': 'polish', 'translated_name': {'name': 'Józef Bielawski', 'language_name': 'english'}}, {'id': 41, 'name': 'Norwegian', 'author_name': 'Norwegian', 'slug': 'no-unknown', 'language_name': 'norwegian', 'translated_name': {'name': 'Norwegian', 'language_name': 'english'}}, {'id': 106, 'name': 'Magomed Magomedov', 'author_name': 'Magomed Magomedov', 'slug': 'chechen-translation', 'language_name': 'chechen', 'translated_name': {'name': 'Magomed Magomedov', 'language_name': 'english'}}, {'id': 236, 'name': 'Ramdane At Mansour', 'author_name': 'Ramdane At Mansour', 'slug': None, 'language_name': 'Amazigh', 'translated_name': {'name': 'Ramdane At Mansour', 'language_name': 'english'}}, {'id': 237, 'name': 'Tzvetan Theophanov', 'author_name': 'Tzvetan Theophanov', 'slug': None, 'language_name': 'Bulgarian', 'translated_name': {'name': 'Tzvetan Theophanov', 'language_name': 'english'}}, {'id': 238, 'name': 'Taj Mehmood Amroti', 'author_name': 'Taj Mehmood Amroti', 'slug': None, 'language_name': 'Sindhi', 'translated_name': {'name': 'Taj Mehmood Amroti', 'language_name': 'english'}}, {'id': 125, 'name': 'Shaykh Abu Rahimah Mikael Aykyuni', 'author_name': 'Shaykh Abu Rahimah Mikael Aykyuni', 'slug': None, 'language_name': 'yoruba', 'translated_name': {'name': 'Shaykh Abu Rahimah Mikael Aykyuni', 'language_name': 'english'}}, {'id': 124, 'name': 'Muslim Shahin', 'author_name': 'Muslim Shahin', 'slug': None, 'language_name': 'turkish', 'translated_name': {'name': 'Muslim Shahin', 'language_name': 'english'}}, {'id': 46, 'name': 'Mahmud Muhammad Abduh', 'author_name': 'Mahmud Muhammad Abduh', 'slug': 'so-mahmud-abduh', 'language_name': 'somali', 'translated_name': {'name': 'Mahmud Muhammad Abduh', 'language_name': 'english'}}, {'id': 113, 'name': 'Khalifah Altai', 'author_name': 'Khalifah Altai', 'slug': None, 'language_name': 'kazakh', 'translated_name': {'name': 'Khalifah Altai', 'language_name': 'english'}}, {'id': 112, 'name': 'Shaban Britch', 'author_name': 'Shaban Britch', 'slug': None, 'language_name': 'turkish', 'translated_name': {'name': 'Shaban Britch', 'language_name': 'english'}}, {'id': 38, 'name': 'Maranao', 'author_name': 'Maranao', 'slug': 'mrn-unknown', 'language_name': 'maranao', 'translated_name': {'name': 'Maranao', 'language_name': 'english'}}, {'id': 89, 'name': 'Albanian Translation', 'author_name': 'Sherif Ahmeti\\t', 'slug': 'quran.al.ahmeti', 'language_name': 'albanian', 'translated_name': {'name': 'Albanian Translation', 'language_name': 'english'}}, {'id': 56, 'name': 'Chinese Translation (Simplified) - Ma Jain', 'author_name': 'Ma Jian', 'slug': 'quran.zh.ma.jain', 'language_name': 'chinese', 'translated_name': {'name': 'Chinese Translation (Simplified) - Ma Jain', 'language_name': 'english'}}, {'id': 32, 'name': 'Hausa Translation(Abubakar Gumi)', 'author_name': 'Abubakar Mahmoud Gumi', 'slug': 'quran.ha.abubakar', 'language_name': 'hausa', 'translated_name': {'name': 'Hausa Translation(Abubakar Gumi)', 'language_name': 'english'}}, {'id': 108, 'name': 'Ahl Al-Hadith Central Society of Nepal', 'author_name': 'Ahl Al-Hadith Central Society of Nepal', 'slug': None, 'language_name': 'nepali', 'translated_name': {'name': 'Ahl Al-Hadith Central Society of Nepal', 'language_name': 'english'}}, {'id': 37, 'name': 'Malayalam Translation(Abdul Hameed and Kunhi)', 'author_name': 'Cheriyamundam Abdul Hameed and Kunhi Mohammed Parappoor', 'slug': 'quran.ml.abdul.hameed', 'language_name': 'malayalam', 'translated_name': {'name': 'Malayalam Translation(Abdul Hameed and Kunhi)', 'language_name': 'english'}}, {'id': 43, 'name': 'Portuguese Translation( Samir )', 'author_name': 'Samir El-Hayek', 'slug': 'quran,pt.samir', 'language_name': 'portuguese', 'translated_name': {'name': 'Portuguese Translation( Samir )', 'language_name': 'english'}}, {'id': 51, 'name': 'Thai Translatio (King Fahad Quran Complex)', 'author_name': 'King Fahad Quran Complex', 'slug': 'quran.th.quran.complex', 'language_name': 'thai', 'translated_name': {'name': 'Thai Translatio (King Fahad Quran Complex)', 'language_name': 'english'}}, {'id': 111, 'name': 'Ghali Apapur Apaghuna', 'author_name': 'Ghali Apapur Apaghuna', 'slug': None, 'language_name': 'oromo', 'translated_name': {'name': 'Ghali Apapur Apaghuna', 'language_name': 'english'}}, {'id': 115, 'name': 'Abubakar Mahmood Jummi', 'author_name': 'Abubakar Mahmood Jummi', 'slug': None, 'language_name': 'hausa', 'translated_name': {'name': 'Abubakar Mahmood Jummi', 'language_name': 'english'}}, {'id': 31, 'name': 'Muhammad Hamidullah', 'author_name': 'Muhammad Hamidullah', 'slug': 'quran.fr.hamidullah', 'language_name': 'french', 'translated_name': {'name': 'Muhammad Hamidullah', 'language_name': 'english'}}, {'id': 29, 'name': 'Hussein Taji Kal Dari', 'author_name': 'Hussein Taji Kal Dari', 'slug': 'fr-hussein-taji', 'language_name': 'persian', 'translated_name': {'name': 'Hussein Taji Kal Dari', 'language_name': 'english'}}, {'id': 208, 'name': 'Abu Reda Muhammad ibn Ahmad', 'author_name': 'Abu Reda Muhammad ibn Ahmad', 'slug': None, 'language_name': 'german', 'translated_name': {'name': 'Abu Reda Muhammad ibn Ahmad', 'language_name': 'english'}}, {'id': 209, 'name': 'Othman al-Sharif', 'author_name': 'Othman al-Sharif', 'slug': None, 'language_name': 'italian', 'translated_name': {'name': 'Othman al-Sharif', 'language_name': 'english'}}, {'id': 133, 'name': 'Abdul Hameed Baqavi', 'author_name': 'Abdul Hameed Baqavi', 'slug': None, 'language_name': 'tamil', 'translated_name': {'name': 'Abdul Hameed Baqavi', 'language_name': 'english'}}, {'id': 25, 'name': 'Muhamed Mehanović', 'author_name': 'Muhamed Mehanović', 'slug': 'bs-unknown', 'language_name': 'bosnian', 'translated_name': {'name': 'Muhamed Mehanović', 'language_name': 'english'}}, {'id': 221, 'name': 'Hasan Abdul-Karim', 'author_name': 'Hasan Abdul-Karim', 'slug': None, 'language_name': 'vietnamese', 'translated_name': {'name': 'Hasan Abdul-Karim', 'language_name': 'english'}}, {'id': 219, 'name': 'Hamed Choi', 'author_name': 'Hamed Choi', 'slug': None, 'language_name': 'korean', 'translated_name': {'name': 'Hamed Choi', 'language_name': 'english'}}, {'id': 52, 'name': 'Elmalili Hamdi Yazir', 'author_name': 'Elmalili Hamdi Yazir\\t', 'slug': 'tr-hamdi', 'language_name': 'turkish', 'translated_name': {'name': 'Elmalili Hamdi Yazir', 'language_name': 'english'}}, {'id': 213, 'name': 'Dr. Abu Bakr Muhammad Zakaria', 'author_name': 'Dr. Abu Bakr Muhammad Zakaria', 'slug': None, 'language_name': 'bengali', 'translated_name': {'name': 'Dr. Abu Bakr Muhammad Zakaria', 'language_name': 'english'}}, {'id': 199, 'name': 'Noor International Center', 'author_name': 'Noor International Center', 'slug': None, 'language_name': 'spanish', 'translated_name': {'name': 'Noor International Center', 'language_name': 'english'}}, {'id': 218, 'name': 'Saeed Sato', 'author_name': 'Saeed Sato', 'slug': None, 'language_name': 'japanese', 'translated_name': {'name': 'Saeed Sato', 'language_name': 'english'}}, {'id': 228, 'name': 'Ruwwad Center', 'author_name': 'Translation Pioneers Center', 'slug': None, 'language_name': 'sinhala, sinhalese', 'translated_name': {'name': 'Translation Pioneers Center', 'language_name': 'english'}}, {'id': 126, 'name': 'Besim Korkut', 'author_name': 'Besim Korkut', 'slug': None, 'language_name': 'bosnian', 'translated_name': {'name': 'Besim Korkut', 'language_name': 'english'}}, {'id': 122, 'name': 'Maulana Azizul Haque al-Umari', 'author_name': 'Maulana Azizul Haque al-Umari', 'slug': None, 'language_name': 'hindi', 'translated_name': {'name': 'Maulana Azizul Haque al-Umari', 'language_name': 'english'}}, {'id': 120, 'name': 'Shaykh Rafeequl Islam Habibur-Rahman', 'author_name': 'Shaykh Rafeequl Islam Habibur-Rahman', 'slug': None, 'language_name': 'assamese', 'translated_name': {'name': 'Shaykh Rafeequl Islam Habibur-Rahman', 'language_name': 'english'}}, {'id': 127, 'name': 'Muhammad Sodik Muhammad Yusuf', 'author_name': 'Muhammad Sodik Muhammad Yusuf', 'slug': '', 'language_name': 'uzbek', 'translated_name': {'name': 'Muhammad Sodik Muhammad Yusuf', 'language_name': 'english'}}, {'id': 118, 'name': 'Zakaria Abulsalam', 'author_name': 'Zakaria Abulsalam', 'slug': None, 'language_name': 'pashto', 'translated_name': {'name': 'Zakaria Abulsalam', 'language_name': 'english'}}, {'id': 109, 'name': 'Muhammad Makin', 'author_name': 'Muhammad Makin', 'slug': None, 'language_name': 'chinese', 'translated_name': {'name': 'Muhammad Makin', 'language_name': 'english'}}, {'id': 27, 'name': 'Frank Bubenheim and Nadeem', 'author_name': 'Frank Bubenheim and Nadeem', 'slug': 'de-bubenheim', 'language_name': 'german', 'translated_name': {'name': 'Frank Bubenheim and Nadeem', 'language_name': 'english'}}, {'id': 33, 'name': 'Indonesian Islamic affairs ministry', 'author_name': 'Indonesian Islamic affairs ministry', 'slug': 'quran.id', 'language_name': 'indonesian', 'translated_name': {'name': 'Indonesian Islamic affairs ministry', 'language_name': 'english'}}, {'id': 785, 'name': 'Mawlawi Muhammad Anwar Badkhashani', 'author_name': 'Mawlawi Muhammad Anwar Badkhashani', 'slug': None, 'language_name': 'dari', 'translated_name': {'name': 'Mawlawi Muhammad Anwar Badkhashani', 'language_name': 'english'}}, {'id': 795, 'name': 'Suliman Kanti', 'author_name': 'Suliman Kanti', 'slug': '', 'language_name': 'bambara', 'translated_name': {'name': 'Suliman Kanti', 'language_name': 'english'}}, {'id': 779, 'name': 'Rashid Maash', 'author_name': 'Rashid Maash', 'slug': 'fr-rashid-maash', 'language_name': 'french', 'translated_name': {'name': 'Rashid Maash', 'language_name': 'english'}}, {'id': 771, 'name': 'Kannada Translation', 'author_name': 'Kannada Translation', 'slug': 'kannada-quran', 'language_name': 'kannada', 'translated_name': {'name': 'Kannada Translation', 'language_name': 'english'}}, {'id': 782, 'name': 'Islamic and Cultural League', 'author_name': 'Islamic and Cultural League', 'slug': '', 'language_name': 'romanian', 'translated_name': {'name': 'Islamic and Cultural League', 'language_name': 'english'}}, {'id': 796, 'name': 'Baba Mamady Jani', 'author_name': 'Baba Mamady Jani', 'slug': None, 'language_name': 'bambara', 'translated_name': {'name': 'Baba Mamady Jani', 'language_name': 'english'}}, {'id': 798, 'name': 'Abdul Hamid Silika', 'author_name': 'Abdul Hamid Silika', 'slug': None, 'language_name': 'yau,yuw', 'translated_name': {'name': 'Abdul Hamid Silika', 'language_name': 'english'}}, {'id': 774, 'name': 'The Rwanda Muslims Association team', 'author_name': 'The Rwanda Muslims Association team', 'slug': None, 'language_name': 'kinyarwanda', 'translated_name': {'name': 'The Rwanda Muslims Association team', 'language_name': 'english'}}, {'id': 840, 'name': 'Abu Bakr Ibrahim Ali (Bakurube)', 'author_name': 'Abu Bakr Ibrahim Ali', 'slug': 'ml-shaikh-aboobakr-ibrahim-ali', 'language_name': 'divehi', 'translated_name': {'name': 'Abu Bakr Ibrahim Ali (Bakurube)', 'language_name': 'english'}}, {'id': 819, 'name': 'Maulana Wahiduddin Khan', 'author_name': 'Maulana Wahiduddin Khan', 'slug': 'maulana-wahid-uddin-khan-urdu', 'language_name': 'urdu', 'translated_name': {'name': 'Maulana Wahiduddin Khan', 'language_name': 'english'}}, {'id': 831, 'name': 'Abul Ala Maududi(Roman Urdu)', 'author_name': 'Abul Ala Maududi', 'slug': 'maududi-roman-urdu', 'language_name': 'urdu', 'translated_name': {'name': 'Abul Ala Maududi(Roman Urdu)', 'language_name': 'english'}}]}\n"
     ]
    }
   ],
   "source": [
    "# Get the translations of Surah 2, Ayah 255\n",
    "translations = quran.get_translations(surah=2, ayah=255)\n",
    "\n",
    "# Check the structure of the output\n",
    "print(\"Translations:\", translations)"
   ]
  },
  {
   "cell_type": "code",
   "execution_count": 27,
   "metadata": {},
   "outputs": [
    {
     "name": "stdout",
     "output_type": "stream",
     "text": [
      "Collecting playsound\n",
      "  Using cached playsound-1.3.0.tar.gz (7.7 kB)\n",
      "  Installing build dependencies: started\n",
      "  Installing build dependencies: finished with status 'done'\n",
      "  Getting requirements to build wheel: started\n",
      "  Getting requirements to build wheel: finished with status 'error'\n",
      "Note: you may need to restart the kernel to use updated packages.\n"
     ]
    },
    {
     "name": "stderr",
     "output_type": "stream",
     "text": [
      "  error: subprocess-exited-with-error\n",
      "  \n",
      "  × Getting requirements to build wheel did not run successfully.\n",
      "  │ exit code: 1\n",
      "  ╰─> [23 lines of output]\n",
      "      Traceback (most recent call last):\n",
      "        File \"c:\\Users\\devid\\Desktop\\xData-Analytix-Content-Prep\\.venv\\lib\\site-packages\\pip\\_vendor\\pyproject_hooks\\_in_process\\_in_process.py\", line 353, in <module>\n",
      "          main()\n",
      "        File \"c:\\Users\\devid\\Desktop\\xData-Analytix-Content-Prep\\.venv\\lib\\site-packages\\pip\\_vendor\\pyproject_hooks\\_in_process\\_in_process.py\", line 335, in main\n",
      "          json_out['return_val'] = hook(**hook_input['kwargs'])\n",
      "        File \"c:\\Users\\devid\\Desktop\\xData-Analytix-Content-Prep\\.venv\\lib\\site-packages\\pip\\_vendor\\pyproject_hooks\\_in_process\\_in_process.py\", line 118, in get_requires_for_build_wheel\n",
      "          return hook(config_settings)\n",
      "        File \"C:\\Users\\devid\\AppData\\Local\\Temp\\pip-build-env-0t7oea9f\\overlay\\Lib\\site-packages\\setuptools\\build_meta.py\", line 334, in get_requires_for_build_wheel\n",
      "          return self._get_build_requires(config_settings, requirements=[])\n",
      "        File \"C:\\Users\\devid\\AppData\\Local\\Temp\\pip-build-env-0t7oea9f\\overlay\\Lib\\site-packages\\setuptools\\build_meta.py\", line 304, in _get_build_requires\n",
      "          self.run_setup()\n",
      "        File \"C:\\Users\\devid\\AppData\\Local\\Temp\\pip-build-env-0t7oea9f\\overlay\\Lib\\site-packages\\setuptools\\build_meta.py\", line 522, in run_setup\n",
      "          super().run_setup(setup_script=setup_script)\n",
      "        File \"C:\\Users\\devid\\AppData\\Local\\Temp\\pip-build-env-0t7oea9f\\overlay\\Lib\\site-packages\\setuptools\\build_meta.py\", line 320, in run_setup\n",
      "          exec(code, locals())\n",
      "        File \"<string>\", line 6, in <module>\n",
      "        File \"C:\\Program Files\\Python310\\lib\\inspect.py\", line 1147, in getsource\n",
      "          lines, lnum = getsourcelines(object)\n",
      "        File \"C:\\Program Files\\Python310\\lib\\inspect.py\", line 1129, in getsourcelines\n",
      "          lines, lnum = findsource(object)\n",
      "        File \"C:\\Program Files\\Python310\\lib\\inspect.py\", line 958, in findsource\n",
      "          raise OSError('could not get source code')\n",
      "      OSError: could not get source code\n",
      "      [end of output]\n",
      "  \n",
      "  note: This error originates from a subprocess, and is likely not a problem with pip.\n",
      "error: subprocess-exited-with-error\n",
      "\n",
      "× Getting requirements to build wheel did not run successfully.\n",
      "│ exit code: 1\n",
      "╰─> See above for output.\n",
      "\n",
      "note: This error originates from a subprocess, and is likely not a problem with pip.\n"
     ]
    }
   ],
   "source": [
    "pip install playsound"
   ]
  }
 ],
 "metadata": {
  "kernelspec": {
   "display_name": ".venv",
   "language": "python",
   "name": "python3"
  },
  "language_info": {
   "codemirror_mode": {
    "name": "ipython",
    "version": 3
   },
   "file_extension": ".py",
   "mimetype": "text/x-python",
   "name": "python",
   "nbconvert_exporter": "python",
   "pygments_lexer": "ipython3",
   "version": "3.10.0"
  }
 },
 "nbformat": 4,
 "nbformat_minor": 2
}
