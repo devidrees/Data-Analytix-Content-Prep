{
 "cells": [
  {
   "cell_type": "markdown",
   "id": "8c4bc666-34a1-47b6-8018-1ad79dafae95",
   "metadata": {},
   "source": [
    "<div style=\"background-color: #add8e6; padding: 10px; height: 70px; border-radius: 15px;\">\n",
    "    <div style=\"font-family: 'Georgia', serif; font-size: 20px; padding: 10px; text-align: right; position: absolute; right: 50px;\">\n",
    "        Mohammad Idrees Bhat <br>\n",
    "        <span style=\"font-family: 'Arial', sans-serif;font-size: 12px; color: #0a0a0a;\">Tech Skills Trainer | AI/ML Consultant</span> <!--- Mohammad Idrees Bhat | Tech Skills Trainer | AI/ML Consultant --->\n",
    "    </div>\n",
    "</div>"
   ]
  },
  {
   "cell_type": "markdown",
   "id": "ef444d2e-97e9-49a8-bf3d-0119a2dfebb5",
   "metadata": {},
   "source": [
    "<!--- Mohammad Idrees Bhat | Tech Skills Trainer | AI/ML Consultant --->"
   ]
  },
  {
   "cell_type": "markdown",
   "id": "151ad3d8-0bce-4e29-86da-5ea91b5a69df",
   "metadata": {},
   "source": [
    "<div style=\"background-color: #002147; padding: 10px; text-align: center; color: white; font-size: 32px; font-family: 'Arial', sans-serif; border-radius: 100px;\">\n",
    "     Feature Forge <br>\n",
    "    <h3 style=\"text-align: center; color: white; font-size: 15px; font-family: 'Arial', sans-serif;\">  Enhancing & Evaluating ML Models \n",
    "ratings</h3>\n",
    "</div\n"
   ]
  },
  {
   "cell_type": "markdown",
   "id": "19b1c30b-e766-4658-8d70-1b0af10ae2f4",
   "metadata": {},
   "source": [
    "<!-- Link the Montserrat font -->\n",
    "<link href=\"https://fonts.googleapis.com/css2?family=Montserrat:wght@700&display=swap\" rel=\"stylesheet\">\n",
    "\n",
    "<!-- Main div with centered content and a flexible box size, no scroll bar -->\n",
    "<div style=\"background-color: #baf733; min-height: 100%; width: 100%; display: flex; justify-content: center; align-items: center; position: relative; padding: 20px; box-sizing: border-box; font-family: 'Montserrat', sans-serif; font-weight: 700; font-size: 20px; border-radius: 15px;\">\n",
    "    <div style=\"position: absolute; top: 10px; right: 10px; padding: 5px 10px; font-size: 14px; color: rgba(0, 0, 0, 0.05); border-radius: 10px;\">Mohammad Idrees Bhat</div>\n",
    "    <!-- Fill the below text with question -->\n",
    "    <!-- Fill the below text with question -->\n",
    "    <!-- Fill the above text with question -->\n",
    "    <!-- Fill the above text with question -->\n",
    "</div>"
   ]
  },
  {
   "cell_type": "markdown",
   "id": "53ec8637",
   "metadata": {},
   "source": [
    "<div style=\"background-color: lightgreen; color: black; padding: 4px;\">\n",
    "    <h3> PROJECT DESCRIPTION \n",
    "</h3> </div>"
   ]
  },
  {
   "cell_type": "markdown",
   "id": "9a9a0a74-0cc3-4ae6-bda6-0a4fee696267",
   "metadata": {},
   "source": [
    "Implement feature engineering techniques and evaluate a machine learning model using the \"Loan Prediction\" dataset from Analytics Vidhya. Students will extract and select features, apply evaluation metrics, and refine their models to improve performance."
   ]
  },
  {
   "cell_type": "markdown",
   "id": "5f2800db-e384-470c-9c9e-ded21e2c4ded",
   "metadata": {},
   "source": [
    "<div style=\"background-color: lightgreen; color: black; padding: 4px;\">\n",
    "    <h3> PROJECT DELIVERABLES\n",
    "</h3> </div>"
   ]
  },
  {
   "cell_type": "markdown",
   "id": "f7e91682-272f-4380-89f9-25897439e77f",
   "metadata": {},
   "source": [
    " - Feature engineering techniques applie\n",
    " - Model evaluation metric\n",
    " - Jupyter notebook with documentation"
   ]
  },
  {
   "cell_type": "markdown",
   "id": "b8cb6dbf-8d7c-4d7b-9862-ee945c270263",
   "metadata": {},
   "source": [
    "<div style=\"background-color: lightgreen; color: black; padding: 4px;\">\n",
    "    <h3> FURTHER INSTRUCTIONS\n",
    "</h3> </div>"
   ]
  },
  {
   "cell_type": "markdown",
   "id": "146b6c1b-15ff-45bd-9643-790cbc3d958a",
   "metadata": {},
   "source": [
    "1. **Load the dataset:** Import necessary libraries and load the \"Loan Prediction\" dataset from Analytics Vidhya.\n",
    "2. **Explore the data:** Perform exploratory data analysis (EDA) to understand data structure, missing values, and basic patterns.\n",
    "3. **Handle missing values:** Use imputation techniques to fill in missing values, such as mean, median, or mode.\n",
    "4. **Encode categorical variables:** Convert categorical variables to numerical values using methods like one-hot encoding or label encoding.\n",
    "5. **Feature engineering:** Create new features or transform existing ones to enhance model performance (e.g., income-to-loan ratio, family size).\n",
    "6. **Feature selection:** Identify and select the most relevant features to improve the model's performance using techniques like correlation analysis, chi-square test, or feature importance from models.\n",
    "7. **Split data:** Divide the dataset into training and testing sets.\n",
    "8. **Build a baseline model:** Choose a simple model (like logistic regression) to serve as a baseline for performance comparison.\n",
    "9. **Model evaluation:** Use appropriate metrics (e.g., accuracy, precision, recall, F1 score) to evaluate model performance on the test data.\n",
    "10. **Model tuning:** Refine the model by tuning hyperparameters or trying other algorithms (e.g., Random Forest, XGBoost) to improve accuracy.\n",
    "11. **Analyze results:** Compare the models, analyze the results, and determine which feature engineering steps led to the best improvements.\n",
    "12. **Document findings:** Summarize the steps taken, feature engineering techniques applied, and key insights in a report."
   ]
  },
  {
   "cell_type": "markdown",
   "id": "b69ed7ea-1940-434d-bb2d-601d07994783",
   "metadata": {},
   "source": [
    "<div style=\"background-color: lightblue; color: white; padding: 10px; text-align: center;\">\n",
    "    <h1>____________________         BEST OF LUCK   ...  :)        _____________________\n",
    "        <!--- Mohammad Idrees Bhat | Tech Skills Trainer | AI/ML Consultant --->\n",
    "</h1> </div>"
   ]
  },
  {
   "cell_type": "markdown",
   "id": "13e86481-eae2-4019-9515-66a43a30f0fb",
   "metadata": {},
   "source": [
    "<div style=\"background-color: #002147; color: #fff; padding: 30px; text-align: center;\">\n",
    "    <h1>THANK YOU!\n",
    "        <!--- Mohammad Idrees Bhat | Tech Skills Trainer | AI/ML Consultant --->\n",
    "</h1> </div>"
   ]
  },
  {
   "cell_type": "markdown",
   "id": "5454f2e3-4fa4-48f9-936a-35be52d769af",
   "metadata": {},
   "source": [
    "<!--- Mohammad Idrees Bhat | Mohammad Idrees Bhat --->"
   ]
  },
  {
   "cell_type": "markdown",
   "id": "3e92ba4c-672c-4e9f-b842-2b2d9234e5ff",
   "metadata": {},
   "source": [
    "<h2 style=\"background-color: #ffe4e1; color: #2f4f4f; padding: 10px; border-radius: 10px; width: 350px; text-align: center; float: right; margin: 20px 0;\">\n",
    "    Mohammad Idrees Bhat<br>\n",
    "    <span style=\"font-size: 12px; color: #696969;\">\n",
    "        Tech Skills Trainer | AI/ML Consultant\n",
    "    </span>\n",
    "</h2>"
   ]
  },
  {
   "cell_type": "markdown",
   "id": "15cc27b3-58d0-431e-8121-f1b4c08377c7",
   "metadata": {},
   "source": [
    "<!--- Mohammad Idrees Bhat | Tech Skills Trainer | AI/ML Consultant --->"
   ]
  }
 ],
 "metadata": {
  "kernelspec": {
   "display_name": "Python 3 (ipykernel)",
   "language": "python",
   "name": "python3"
  },
  "language_info": {
   "codemirror_mode": {
    "name": "ipython",
    "version": 3
   },
   "file_extension": ".py",
   "mimetype": "text/x-python",
   "name": "python",
   "nbconvert_exporter": "python",
   "pygments_lexer": "ipython3",
   "version": "3.12.4"
  }
 },
 "nbformat": 4,
 "nbformat_minor": 5
}
