{
 "cells": [
  {
   "cell_type": "markdown",
   "id": "8c4bc666-34a1-47b6-8018-1ad79dafae95",
   "metadata": {},
   "source": [
    "<div style=\"background-color: #add8e6; padding: 10px; height: 70px; border-radius: 15px;\">\n",
    "    <div style=\"font-family: 'Georgia', serif; font-size: 20px; padding: 10px; text-align: right; position: absolute; right: 50px;\">\n",
    "        Mohammad Idrees Bhat <br>\n",
    "        <span style=\"font-family: 'Arial', sans-serif;font-size: 12px; color: #0a0a0a;\">Tech Skills Trainer | AI/ML Consultant</span> <!--- Mohammad Idrees Bhat | Tech Skills Trainer | AI/ML Consultant --->\n",
    "    </div>\n",
    "</div>"
   ]
  },
  {
   "cell_type": "markdown",
   "id": "ef444d2e-97e9-49a8-bf3d-0119a2dfebb5",
   "metadata": {},
   "source": [
    "<!--- Mohammad Idrees Bhat | Tech Skills Trainer | AI/ML Consultant --->"
   ]
  },
  {
   "cell_type": "markdown",
   "id": "151ad3d8-0bce-4e29-86da-5ea91b5a69df",
   "metadata": {},
   "source": [
    "<div style=\"background-color: #002147; padding: 10px; text-align: center; color: white; font-size: 32px; font-family: 'Arial', sans-serif; border-radius: 100px;\">\n",
    "    Data Scaling and Normalization<br>\n",
    "    <h3 style=\"text-align: center; color: white; font-size: 15px; font-family: 'Arial', sans-serif;\">   </h3>\n",
    "</div\n"
   ]
  },
  {
   "cell_type": "markdown",
   "id": "19b1c30b-e766-4658-8d70-1b0af10ae2f4",
   "metadata": {},
   "source": [
    "<!-- Link the Montserrat font -->\n",
    "<link href=\"https://fonts.googleapis.com/css2?family=Montserrat:wght@700&display=swap\" rel=\"stylesheet\">\n",
    "\n",
    "<!-- Main div with centered content and a flexible box size, no scroll bar -->\n",
    "<div style=\"background-color: #baf733; min-height: 100%; width: 100%; display: flex; justify-content: center; align-items: center; position: relative; padding: 20px; box-sizing: border-box; font-family: 'Montserrat', sans-serif; font-weight: 700; font-size: 20px; border-radius: 15px;\">\n",
    "    <div style=\"position: absolute; top: 10px; right: 10px; padding: 5px 10px; font-size: 14px; color: rgba(0, 0, 0, 0.05); border-radius: 10px;\">Mohammad Idrees Bhat</div>\n",
    "    <!-- Fill the below text with question -->\n",
    "    <!-- Fill the below text with question -->\n",
    "    <!-- Fill the above text with question -->\n",
    "    <!-- Fill the above text with question -->\n",
    "</div>"
   ]
  },
  {
   "cell_type": "markdown",
   "id": "df652b22",
   "metadata": {},
   "source": [
    "In this demonstration, we’re working with a dataset containing features used to predict house prices. Each feature has a different range and unit of measurement:\n",
    "\n",
    "- **Size (sq ft)**: Represents the area of the house, with values in the thousands.\n",
    "- **Number of Rooms**: Counts the rooms in each house, with values between 2 and 4.\n",
    "- **Distance to City Center (miles)**: Indicates the proximity to the city center, with distances ranging from 8 to 20 miles.\n"
   ]
  },
  {
   "cell_type": "markdown",
   "id": "c38f7bdb",
   "metadata": {},
   "source": [
    "Without scaling or normalization, these features could disproportionately influence a machine learning model:\n",
    "\n",
    "- **Unscaled Features Create Bias**: Models like linear regression, neural networks, and K-Nearest Neighbors are sensitive to feature scales. A model may interpret larger numerical values (like \"Size\") as more important simply because they have larger ranges, not because they actually carry more weight in predicting the outcome.\n",
    "- **Model Performance and Convergence**: By scaling or normalizing, we help models interpret each feature more equitably. Additionally, models that rely on distance calculations (like KNN) or gradient descent (like neural networks) tend to converge faster when features are on similar scales.\n"
   ]
  },
  {
   "cell_type": "markdown",
   "id": "0d59af57",
   "metadata": {},
   "source": [
    "**Scaling Techniques Used**\n",
    "\n",
    "1. **Standard Scaling (Z-score Normalization)**:\n",
    "   - Centers each feature around 0 with a standard deviation of 1.\n",
    "   - After scaling, \"Size\" and \"Distance to City Center\" no longer overshadow \"Number of Rooms\" due to their larger ranges, making all features more comparable.\n",
    "\n",
    "2. **Min-Max Scaling (Normalization)**:\n",
    "   - Rescales features to a range between 0 and 1, helping the model process all features equally.\n",
    "   - This is particularly useful for models that need feature values to fall within a specific range, like neural networks, where each node's activation typically operates within a similar bounded range.\n"
   ]
  },
  {
   "cell_type": "code",
   "execution_count": null,
   "id": "ec00b395",
   "metadata": {},
   "outputs": [],
   "source": []
  },
  {
   "cell_type": "code",
   "execution_count": 3,
   "id": "87f1253b",
   "metadata": {},
   "outputs": [
    {
     "name": "stdout",
     "output_type": "stream",
     "text": [
      "Original Data:\n"
     ]
    },
    {
     "data": {
      "text/html": [
       "<div>\n",
       "<style scoped>\n",
       "    .dataframe tbody tr th:only-of-type {\n",
       "        vertical-align: middle;\n",
       "    }\n",
       "\n",
       "    .dataframe tbody tr th {\n",
       "        vertical-align: top;\n",
       "    }\n",
       "\n",
       "    .dataframe thead th {\n",
       "        text-align: right;\n",
       "    }\n",
       "</style>\n",
       "<table border=\"1\" class=\"dataframe\">\n",
       "  <thead>\n",
       "    <tr style=\"text-align: right;\">\n",
       "      <th></th>\n",
       "      <th>Size (sq ft)</th>\n",
       "      <th>Number of Rooms</th>\n",
       "      <th>Distance to City Center (miles)</th>\n",
       "    </tr>\n",
       "  </thead>\n",
       "  <tbody>\n",
       "    <tr>\n",
       "      <th>0</th>\n",
       "      <td>2500</td>\n",
       "      <td>4</td>\n",
       "      <td>8</td>\n",
       "    </tr>\n",
       "    <tr>\n",
       "      <th>1</th>\n",
       "      <td>1500</td>\n",
       "      <td>3</td>\n",
       "      <td>15</td>\n",
       "    </tr>\n",
       "    <tr>\n",
       "      <th>2</th>\n",
       "      <td>1200</td>\n",
       "      <td>2</td>\n",
       "      <td>20</td>\n",
       "    </tr>\n",
       "    <tr>\n",
       "      <th>3</th>\n",
       "      <td>1800</td>\n",
       "      <td>3</td>\n",
       "      <td>10</td>\n",
       "    </tr>\n",
       "  </tbody>\n",
       "</table>\n",
       "</div>"
      ],
      "text/plain": [
       "   Size (sq ft)  Number of Rooms  Distance to City Center (miles)\n",
       "0          2500                4                                8\n",
       "1          1500                3                               15\n",
       "2          1200                2                               20\n",
       "3          1800                3                               10"
      ]
     },
     "execution_count": 3,
     "metadata": {},
     "output_type": "execute_result"
    }
   ],
   "source": [
    "import numpy as np\n",
    "import pandas as pd\n",
    "from sklearn.preprocessing import StandardScaler, MinMaxScaler\n",
    "\n",
    "# Sample dataset\n",
    "data = {\n",
    "    'Size (sq ft)': [2500, 1500, 1200, 1800],\n",
    "    'Number of Rooms': [4, 3, 2, 3],\n",
    "    'Distance to City Center (miles)': [8, 15, 20, 10]\n",
    "}\n",
    "\n",
    "# Convert data to DataFrame\n",
    "df = pd.DataFrame(data)\n",
    "print(\"Original Data:\")\n",
    "df"
   ]
  },
  {
   "cell_type": "code",
   "execution_count": 4,
   "id": "5ffdee57",
   "metadata": {},
   "outputs": [
    {
     "name": "stdout",
     "output_type": "stream",
     "text": [
      "\n",
      "Standard Scaled Data (Mean=0, Std=1):\n"
     ]
    },
    {
     "data": {
      "text/html": [
       "<div>\n",
       "<style scoped>\n",
       "    .dataframe tbody tr th:only-of-type {\n",
       "        vertical-align: middle;\n",
       "    }\n",
       "\n",
       "    .dataframe tbody tr th {\n",
       "        vertical-align: top;\n",
       "    }\n",
       "\n",
       "    .dataframe thead th {\n",
       "        text-align: right;\n",
       "    }\n",
       "</style>\n",
       "<table border=\"1\" class=\"dataframe\">\n",
       "  <thead>\n",
       "    <tr style=\"text-align: right;\">\n",
       "      <th></th>\n",
       "      <th>Size (sq ft)</th>\n",
       "      <th>Number of Rooms</th>\n",
       "      <th>Distance to City Center (miles)</th>\n",
       "    </tr>\n",
       "  </thead>\n",
       "  <tbody>\n",
       "    <tr>\n",
       "      <th>0</th>\n",
       "      <td>1.555428</td>\n",
       "      <td>1.414214</td>\n",
       "      <td>-1.127339</td>\n",
       "    </tr>\n",
       "    <tr>\n",
       "      <th>1</th>\n",
       "      <td>-0.518476</td>\n",
       "      <td>0.000000</td>\n",
       "      <td>0.375780</td>\n",
       "    </tr>\n",
       "    <tr>\n",
       "      <th>2</th>\n",
       "      <td>-1.140647</td>\n",
       "      <td>-1.414214</td>\n",
       "      <td>1.449436</td>\n",
       "    </tr>\n",
       "    <tr>\n",
       "      <th>3</th>\n",
       "      <td>0.103695</td>\n",
       "      <td>0.000000</td>\n",
       "      <td>-0.697877</td>\n",
       "    </tr>\n",
       "  </tbody>\n",
       "</table>\n",
       "</div>"
      ],
      "text/plain": [
       "   Size (sq ft)  Number of Rooms  Distance to City Center (miles)\n",
       "0      1.555428         1.414214                        -1.127339\n",
       "1     -0.518476         0.000000                         0.375780\n",
       "2     -1.140647        -1.414214                         1.449436\n",
       "3      0.103695         0.000000                        -0.697877"
      ]
     },
     "execution_count": 4,
     "metadata": {},
     "output_type": "execute_result"
    }
   ],
   "source": [
    "# Standard Scaling (Z-score normalization)\n",
    "scaler = StandardScaler()\n",
    "df_standard_scaled = scaler.fit_transform(df)\n",
    "df_standard_scaled = pd.DataFrame(df_standard_scaled, columns=df.columns)\n",
    "print(\"\\nStandard Scaled Data (Mean=0, Std=1):\")\n",
    "df_standard_scaled"
   ]
  },
  {
   "cell_type": "code",
   "execution_count": null,
   "id": "7ddc86f2",
   "metadata": {},
   "outputs": [
    {
     "name": "stdout",
     "output_type": "stream",
     "text": [
      "\n",
      "Min-Max Scaled Data (Range [0, 1]):\n"
     ]
    },
    {
     "data": {
      "text/html": [
       "<div>\n",
       "<style scoped>\n",
       "    .dataframe tbody tr th:only-of-type {\n",
       "        vertical-align: middle;\n",
       "    }\n",
       "\n",
       "    .dataframe tbody tr th {\n",
       "        vertical-align: top;\n",
       "    }\n",
       "\n",
       "    .dataframe thead th {\n",
       "        text-align: right;\n",
       "    }\n",
       "</style>\n",
       "<table border=\"1\" class=\"dataframe\">\n",
       "  <thead>\n",
       "    <tr style=\"text-align: right;\">\n",
       "      <th></th>\n",
       "      <th>Size (sq ft)</th>\n",
       "      <th>Number of Rooms</th>\n",
       "      <th>Distance to City Center (miles)</th>\n",
       "    </tr>\n",
       "  </thead>\n",
       "  <tbody>\n",
       "    <tr>\n",
       "      <th>0</th>\n",
       "      <td>1.000000</td>\n",
       "      <td>1.0</td>\n",
       "      <td>0.000000</td>\n",
       "    </tr>\n",
       "    <tr>\n",
       "      <th>1</th>\n",
       "      <td>0.230769</td>\n",
       "      <td>0.5</td>\n",
       "      <td>0.583333</td>\n",
       "    </tr>\n",
       "    <tr>\n",
       "      <th>2</th>\n",
       "      <td>0.000000</td>\n",
       "      <td>0.0</td>\n",
       "      <td>1.000000</td>\n",
       "    </tr>\n",
       "    <tr>\n",
       "      <th>3</th>\n",
       "      <td>0.461538</td>\n",
       "      <td>0.5</td>\n",
       "      <td>0.166667</td>\n",
       "    </tr>\n",
       "  </tbody>\n",
       "</table>\n",
       "</div>"
      ],
      "text/plain": [
       "   Size (sq ft)  Number of Rooms  Distance to City Center (miles)\n",
       "0      1.000000              1.0                         0.000000\n",
       "1      0.230769              0.5                         0.583333\n",
       "2      0.000000              0.0                         1.000000\n",
       "3      0.461538              0.5                         0.166667"
      ]
     },
     "execution_count": 5,
     "metadata": {},
     "output_type": "execute_result"
    }
   ],
   "source": [
    "# Min-Max Normalization (Scaling to [0, 1])\n",
    "normalizer = MinMaxScaler()\n",
    "df_min_max_scaled = normalizer.fit_transform(df)\n",
    "df_min_max_scaled = pd.DataFrame(df_min_max_scaled, columns=df.columns)\n",
    "\n",
    "print(\"\\nMin-Max Scaled Data (Range [0, 1]):\")\n",
    "df_min_max_scaled"
   ]
  },
  {
   "cell_type": "markdown",
   "id": "b69ed7ea-1940-434d-bb2d-601d07994783",
   "metadata": {},
   "source": [
    "<div style=\"background-color: lightblue; color: white; padding: 10px; text-align: center;\">\n",
    "    <h1>____________________         BEST OF LUCK   ...  :)        _____________________\n",
    "        <!--- Mohammad Idrees Bhat | Tech Skills Trainer | AI/ML Consultant --->\n",
    "</h1> </div>"
   ]
  },
  {
   "cell_type": "markdown",
   "id": "13e86481-eae2-4019-9515-66a43a30f0fb",
   "metadata": {},
   "source": [
    "<div style=\"background-color: #002147; color: #fff; padding: 30px; text-align: center;\">\n",
    "    <h1>THANK YOU!\n",
    "        <!--- Mohammad Idrees Bhat | Tech Skills Trainer | AI/ML Consultant --->\n",
    "</h1> </div>"
   ]
  },
  {
   "cell_type": "markdown",
   "id": "8b6ea230",
   "metadata": {},
   "source": [
    "### Uncovered Parts"
   ]
  },
  {
   "cell_type": "markdown",
   "id": "3f156410",
   "metadata": {},
   "source": [
    "**Standardization** is a technique used to scale features so that they have a mean of zero and a standard deviation of one. \n",
    "\n",
    "It is essential when using machine learning algorithms that are sensitive to the scale of the data, such as support vector machines (SVM), k-nearest neighbors (KNN), or gradient descent-based methods.\n",
    "\n",
    "**Why Standardization is Important:**\n",
    "\n",
    "- Fair Comparison of Features: If different features in your dataset have different units or magnitudes (e.g., age in years and income in thousands), some features may dominate others during model training. Standardization puts all features on the same scale.\n",
    "\n",
    "- Improves Model Performance: Algorithms like KNN and SVM depend on the distances between data points. If one feature has a larger scale than another, it can disproportionately affect the distance calculation and, in turn, the model's performance."
   ]
  },
  {
   "cell_type": "markdown",
   "id": "f052ef38",
   "metadata": {},
   "source": [
    "- https://www.youtube.com/watch?v=mnKm3YP56PY"
   ]
  },
  {
   "cell_type": "code",
   "execution_count": 15,
   "id": "43aefffc",
   "metadata": {},
   "outputs": [
    {
     "name": "stdout",
     "output_type": "stream",
     "text": [
      "[[-1.41421356 -1.41421356]\n",
      " [-0.70710678 -0.70710678]\n",
      " [ 0.          0.        ]\n",
      " [ 0.70710678  0.70710678]\n",
      " [ 1.41421356  1.41421356]]\n"
     ]
    }
   ],
   "source": [
    "from sklearn.preprocessing import StandardScaler\n",
    "\n",
    "# Example data (2 features, 5 samples)\n",
    "X = [[20, 300], [25, 400], [30, 500], [35, 600], [40, 700]]\n",
    "\n",
    "# Initialize the scaler\n",
    "scaler = StandardScaler()\n",
    "\n",
    "# Fit the scaler and transform the data\n",
    "X_standardized = scaler.fit_transform(X)\n",
    "\n",
    "print(X_standardized)\n"
   ]
  },
  {
   "cell_type": "markdown",
   "id": "5454f2e3-4fa4-48f9-936a-35be52d769af",
   "metadata": {},
   "source": [
    "<!--- Mohammad Idrees Bhat | Mohammad Idrees Bhat --->"
   ]
  },
  {
   "cell_type": "markdown",
   "id": "3e92ba4c-672c-4e9f-b842-2b2d9234e5ff",
   "metadata": {},
   "source": [
    "<h2 style=\"background-color: #ffe4e1; color: #2f4f4f; padding: 10px; border-radius: 10px; width: 350px; text-align: center; float: right; margin: 20px 0;\">\n",
    "    Mohammad Idrees Bhat<br>\n",
    "    <span style=\"font-size: 12px; color: #696969;\">\n",
    "        Tech Skills Trainer | AI/ML Consultant\n",
    "    </span>\n",
    "</h2>"
   ]
  },
  {
   "cell_type": "markdown",
   "id": "15cc27b3-58d0-431e-8121-f1b4c08377c7",
   "metadata": {},
   "source": [
    "<!--- Mohammad Idrees Bhat | Tech Skills Trainer | AI/ML Consultant --->"
   ]
  }
 ],
 "metadata": {
  "kernelspec": {
   "display_name": "base",
   "language": "python",
   "name": "python3"
  },
  "language_info": {
   "codemirror_mode": {
    "name": "ipython",
    "version": 3
   },
   "file_extension": ".py",
   "mimetype": "text/x-python",
   "name": "python",
   "nbconvert_exporter": "python",
   "pygments_lexer": "ipython3",
   "version": "3.12.4"
  }
 },
 "nbformat": 4,
 "nbformat_minor": 5
}
