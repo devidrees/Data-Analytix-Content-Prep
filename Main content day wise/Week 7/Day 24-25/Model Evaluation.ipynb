{
 "cells": [
  {
   "cell_type": "markdown",
   "id": "8c4bc666-34a1-47b6-8018-1ad79dafae95",
   "metadata": {},
   "source": [
    "<div style=\"background-color: #add8e6; padding: 10px; height: 70px; border-radius: 15px;\">\n",
    "    <div style=\"font-family: 'Georgia', serif; font-size: 20px; padding: 10px; text-align: right; position: absolute; right: 20px;\">\n",
    "        Mohammad Idrees Bhat <br>\n",
    "        <span style=\"font-family: 'Arial', sans-serif;font-size: 12px; color: #0a0a0a;\">Tech Skills Trainer | AI/ML Consultant</span> <!--- Mohammad Idrees Bhat | Tech Skills Trainer | AI/ML Consultant --->\n",
    "    </div>\n",
    "</div>"
   ]
  },
  {
   "cell_type": "markdown",
   "id": "ef444d2e-97e9-49a8-bf3d-0119a2dfebb5",
   "metadata": {},
   "source": [
    "<!--- Mohammad Idrees Bhat | Tech Skills Trainer | AI/ML Consultant --->"
   ]
  },
  {
   "cell_type": "markdown",
   "id": "151ad3d8-0bce-4e29-86da-5ea91b5a69df",
   "metadata": {},
   "source": [
    "<div style=\"background-color: #002147; padding: 10px; text-align: center; color: white; font-size: 32px; font-family: 'Arial', sans-serif;\">\n",
    "    Model Evaluation <br>\n",
    "    <h3 style=\"text-align: center; color: white; font-size: 15px; font-family: 'Arial', sans-serif;\">Evaluation metrics, cross-validation methods.</h3>\n",
    "</div>"
   ]
  },
  {
   "cell_type": "markdown",
   "id": "155e8ec7-547b-41f4-b6f6-6e6e719c198c",
   "metadata": {},
   "source": [
    "<div style=\"background-color: white; color: black; padding: 10px;\">\n",
    "    <h4><b>AGENDA</b> <p><p>\n",
    "1.  Metrics for Evaluation <p><p> \n",
    "2.  Cross-Validation Techniques<p>\n",
    "3.  Model Evaluation and Choosing the Right Metric  <p>  \n",
    "</h4> </div>"
   ]
  },
  {
   "cell_type": "markdown",
   "id": "19b1c30b-e766-4658-8d70-1b0af10ae2f4",
   "metadata": {},
   "source": [
    "<!-- Link the Montserrat font -->\n",
    "<link href=\"https://fonts.googleapis.com/css2?family=Montserrat:wght@700&display=swap\" rel=\"stylesheet\">\n",
    "\n",
    "<!-- Main div with centered content and a flexible box size, no scroll bar -->\n",
    "<div style=\"background-color: #baf733; min-height: 100px; width: 100%; display: flex; justify-content: center; align-items: center; position: relative; padding: 20px; box-sizing: border-box; font-family: 'Montserrat', sans-serif; font-weight: 700; font-size: 20px; border-radius: 15px;\">\n",
    "    <div style=\"position: absolute; top: 10px; right: 10px; padding: 5px 10px; font-size: 14px; color: rgba(0, 0, 0, 0.05); border-radius: 10px;\">Mohammad Idrees Bhat</div>\n",
    "    <!-- Fill the below text with question -->\n",
    "    <!-- Fill the below text with question -->\n",
    "    What are examples of good vs. bad predictions you’ve seen in real life?\n",
    "    <!-- Fill the above text with question -->\n",
    "    <!-- Fill the above text with question -->\n",
    "\n",
    "</div>"
   ]
  },
  {
   "cell_type": "markdown",
   "id": "2797c0ea",
   "metadata": {},
   "source": [
    "Briefly recap the purpose of machine learning models.\n",
    "Icebreaker question: “What are examples of good vs. bad predictions you’ve seen in real life?”"
   ]
  },
  {
   "cell_type": "markdown",
   "id": "008c0409",
   "metadata": {},
   "source": [
    "Setting the context\n",
    "\n",
    "Why Evaluate Models\n",
    "\n",
    "Explain why model evaluation is critical before deployment, with relatable examples (e.g., spam detection accuracy vs. risk in medical diagnoses)."
   ]
  },
  {
   "cell_type": "markdown",
   "id": "53ec8637",
   "metadata": {},
   "source": [
    "<div style=\"background-color: lightgreen; color: black; padding: 4px;\">\n",
    "    <h3>1. Metrics for Evaluation\n",
    "</h3> </div>"
   ]
  },
  {
   "cell_type": "markdown",
   "id": "90aef031-1416-4707-b2a0-fc60ca4ee7ca",
   "metadata": {},
   "source": [
    "Why Evaluate Models?\n",
    "Explain why model evaluation is critical before deployment, with relatable examples (e.g., spam detection accuracy vs. risk in medical diagnoses)."
   ]
  },
  {
   "cell_type": "markdown",
   "id": "440bc992",
   "metadata": {},
   "source": [
    "<div style=\"background-color: lightblue; color: black; padding: 4px;\">\n",
    "    <h4> Classification Metrics\n",
    "</h4> </div>"
   ]
  },
  {
   "cell_type": "markdown",
   "id": "44a7b166",
   "metadata": {},
   "source": [
    "Explain Accuracy, Precision, Recall, and F1-Score with analogies (e.g., medical test for precision vs. recall)."
   ]
  },
  {
   "cell_type": "markdown",
   "id": "0e3e95b6",
   "metadata": {},
   "source": [
    "<div style=\"background-color: lightblue; color: black; padding: 4px;\">\n",
    "    <h4> Regression Metrics\n",
    "</h4> </div>"
   ]
  },
  {
   "cell_type": "markdown",
   "id": "a0984285",
   "metadata": {},
   "source": [
    "Discuss Mean Absolute Error (MAE), Mean Squared Error (MSE), and R-Squared with examples from daily life (like predicting temperatures)."
   ]
  },
  {
   "cell_type": "markdown",
   "id": "affb2e43-d552-4f52-b5e7-c4d8af63b29e",
   "metadata": {},
   "source": [
    "Keep explanations visual and interactive (e.g., images representing high precision/low recall scenarios)."
   ]
  },
  {
   "cell_type": "markdown",
   "id": "ca25a1bc",
   "metadata": {},
   "source": [
    "<div style=\"background-color: lightblue; color: black; padding: 4px;\">\n",
    "    <h4> Hands-On: Manual Metric Calculation \n",
    "</h4> </div>"
   ]
  },
  {
   "cell_type": "markdown",
   "id": "916474f0",
   "metadata": {},
   "source": [
    "Small dataset for calculating Precision, Recall, F1, and Accuracy by hand."
   ]
  },
  {
   "cell_type": "markdown",
   "id": "a3b10a45",
   "metadata": {},
   "source": [
    "<div style=\"background-color: lightgreen; color: black; padding: 4px;\">\n",
    "    <h3>2. Cross-Validation Techniques\n",
    "    </h3> </div>"
   ]
  },
  {
   "cell_type": "markdown",
   "id": "aac5865a",
   "metadata": {},
   "source": [
    "<div style=\"background-color: lightblue; color: black; padding: 4px;\">\n",
    "    <h4> Introduction to Cross-Validation\n",
    "</h4> </div>"
   ]
  },
  {
   "cell_type": "markdown",
   "id": "5d27b014",
   "metadata": {},
   "source": [
    "Explain why we need to validate models and the pitfalls of a simple train-test split."
   ]
  },
  {
   "cell_type": "markdown",
   "id": "7b4a4879",
   "metadata": {},
   "source": [
    "<div style=\"background-color: lightblue; color: black; padding: 4px;\">\n",
    "    <h4> Common Cross-Validation Methods\n",
    "</h4> </div>"
   ]
  },
  {
   "cell_type": "markdown",
   "id": "e135028b",
   "metadata": {},
   "source": [
    "Train-Test Split: Quick explanation and its limitations."
   ]
  },
  {
   "cell_type": "markdown",
   "id": "7108412a",
   "metadata": {},
   "source": [
    "K-Fold Cross-Validation: Visual demo with students simulating different folds (assigning them to “folds” to walk through the concept)."
   ]
  },
  {
   "cell_type": "markdown",
   "id": "d56df089",
   "metadata": {},
   "source": [
    "Leave-One-Out (LOO) and Stratified K-Fold: Explain briefly with visualizations."
   ]
  },
  {
   "cell_type": "markdown",
   "id": "b45e3593",
   "metadata": {},
   "source": [
    "<div style=\"background-color: lightblue; color: black; padding: 4px;\">\n",
    "    <h4> Hands-On Activity: Practicing K-Fold\n",
    "</h4> </div>"
   ]
  },
  {
   "cell_type": "markdown",
   "id": "bd610ce2",
   "metadata": {},
   "source": [
    "Students work in pairs on a notebook, using K-Fold on a sample dataset, observing how scores change with different folds."
   ]
  },
  {
   "cell_type": "markdown",
   "id": "b9b0d089",
   "metadata": {},
   "source": [
    "<div style=\"background-color: lightgreen; color: black; padding: 4px;\">\n",
    "    <h3>3. Model Evaluation and Choosing the Right Metric\n",
    "    </h3> </div>"
   ]
  },
  {
   "cell_type": "markdown",
   "id": "2d6bfd40",
   "metadata": {},
   "source": [
    "Metric Selection Based on Problem Type\n",
    "Interactive quiz-style questions about which metric fits different real-world problems:\n",
    "e.g., “For detecting credit card fraud, would accuracy be enough?”\n",
    "Encourage students to justify their answers."
   ]
  },
  {
   "cell_type": "markdown",
   "id": "5cf6b263",
   "metadata": {},
   "source": [
    "<div style=\"background-color: lightblue; color: black; padding: 4px;\">\n",
    "    <h4> Hands-On: Implementing Metrics in Code\n",
    "</h4> </div>"
   ]
  },
  {
   "cell_type": "markdown",
   "id": "fff19d81",
   "metadata": {},
   "source": [
    "Provide a notebook with code examples for different metrics in scikit-learn.\n",
    "Walk through how to calculate metrics like Accuracy, Precision, Recall, and F1-Score for a classification model."
   ]
  },
  {
   "cell_type": "markdown",
   "id": "486e0e9b",
   "metadata": {},
   "source": [
    "Real-World Project: Evaluating a Small Dataset (20 mins)\n",
    "\n",
    "Provide a toy dataset related to a real-world scenario (e.g., predicting if a patient has a disease).\n",
    "Have students train a basic model and evaluate it using K-Fold Cross-Validation and multiple metrics."
   ]
  },
  {
   "cell_type": "markdown",
   "id": "f2185430-3791-45df-824f-bdec6d7145e3",
   "metadata": {},
   "source": [
    "<div class=\"alert alert-block alert-warning\">\n",
    "    <b><font size=\"5\"> Live Exercise</font> </b>\n",
    "</div>\n",
    "\n",
    "<!--- Mohammad Idrees Bhat | Tech Skills Trainer | AI/ML Consultant --->"
   ]
  },
  {
   "cell_type": "markdown",
   "id": "bf8d61af-f3e8-4afc-a66b-3814e160aaf3",
   "metadata": {},
   "source": [
    "Now it's your turn!\n",
    "### Task 1: description of task\n",
    "\n",
    "    - instructions"
   ]
  },
  {
   "cell_type": "markdown",
   "id": "b69ed7ea-1940-434d-bb2d-601d07994783",
   "metadata": {},
   "source": [
    "<div style=\"background-color: lightblue; color: white; padding: 10px; text-align: center;\">\n",
    "    <h1>_________________________________END________________________________\n",
    "        <!--- Mohammad Idrees Bhat | Tech Skills Trainer | AI/ML Consultant --->\n",
    "</h1> </div>"
   ]
  },
  {
   "cell_type": "markdown",
   "id": "13e86481-eae2-4019-9515-66a43a30f0fb",
   "metadata": {},
   "source": [
    "<div style=\"background-color: #002147; color: #fff; padding: 30px; text-align: center;\">\n",
    "    <h1>THANK YOU!\n",
    "        <!--- Mohammad Idrees Bhat | Tech Skills Trainer | AI/ML Consultant --->\n",
    "</h1> </div>"
   ]
  },
  {
   "cell_type": "markdown",
   "id": "aefa2f04-f141-405d-8a9f-8cf186d66f41",
   "metadata": {},
   "source": [
    "<div style=\"background-color: lightgreen; color: black; padding: 30px;\">\n",
    "    <h4> Live Exercise Solutions\n",
    "        \n",
    "</h4> </div>"
   ]
  },
  {
   "cell_type": "code",
   "execution_count": null,
   "id": "f1f9ddd9-5558-4b1d-a3e7-04c3dca33b6d",
   "metadata": {},
   "outputs": [],
   "source": [
    "solutions"
   ]
  },
  {
   "cell_type": "markdown",
   "id": "36f2d487-56ef-4c22-a1c9-d25e9df33e37",
   "metadata": {},
   "source": [
    "<div class=\"alert alert-block alert-warning\"  padding: 10px; text-align: center;\">\n",
    "    <font size=\"3\"> Programming Interveiw Questions</font>\n",
    "</div>"
   ]
  },
  {
   "cell_type": "markdown",
   "id": "d4e08c3f-3e5b-46a6-9fbb-456cbd850553",
   "metadata": {},
   "source": [
    "1. topic:\n",
    "    - question"
   ]
  },
  {
   "cell_type": "code",
   "execution_count": null,
   "id": "ee2b86c1-64b0-4abd-8ba9-54746bdc9007",
   "metadata": {},
   "outputs": [],
   "source": []
  },
  {
   "cell_type": "markdown",
   "id": "5454f2e3-4fa4-48f9-936a-35be52d769af",
   "metadata": {},
   "source": [
    "<!--- Mohammad Idrees Bhat | Mohammad Idrees Bhat --->"
   ]
  },
  {
   "cell_type": "markdown",
   "id": "3e92ba4c-672c-4e9f-b842-2b2d9234e5ff",
   "metadata": {},
   "source": [
    "<h2 style=\"background-color: #ffe4e1; color: #2f4f4f; padding: 10px; border-radius: 10px; width: 350px; text-align: center; float: right; margin: 20px 0;\">\n",
    "    Mohammad Idrees Bhat<br>\n",
    "    <span style=\"font-size: 12px; color: #696969;\">\n",
    "        Tech Skills Trainer | AI/ML Consultant\n",
    "    </span>\n",
    "</h2>"
   ]
  },
  {
   "cell_type": "markdown",
   "id": "15cc27b3-58d0-431e-8121-f1b4c08377c7",
   "metadata": {},
   "source": [
    "<!--- Mohammad Idrees Bhat | Tech Skills Trainer | AI/ML Consultant --->"
   ]
  }
 ],
 "metadata": {
  "kernelspec": {
   "display_name": "Python 3 (ipykernel)",
   "language": "python",
   "name": "python3"
  },
  "language_info": {
   "codemirror_mode": {
    "name": "ipython",
    "version": 3
   },
   "file_extension": ".py",
   "mimetype": "text/x-python",
   "name": "python",
   "nbconvert_exporter": "python",
   "pygments_lexer": "ipython3",
   "version": "3.12.4"
  }
 },
 "nbformat": 4,
 "nbformat_minor": 5
}
