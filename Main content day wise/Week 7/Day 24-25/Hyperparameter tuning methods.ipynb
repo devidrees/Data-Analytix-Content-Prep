{
 "cells": [
  {
   "cell_type": "markdown",
   "id": "8c4bc666-34a1-47b6-8018-1ad79dafae95",
   "metadata": {},
   "source": [
    "<div style=\"background-color: #add8e6; padding: 10px; height: 70px; border-radius: 15px;\">\n",
    "    <div style=\"font-family: 'Georgia', serif; font-size: 20px; padding: 10px; text-align: right; position: absolute; right: 50px;\">\n",
    "        Mohammad Idrees Bhat <br>\n",
    "        <span style=\"font-family: 'Arial', sans-serif;font-size: 12px; color: #0a0a0a;\">Tech Skills Trainer | AI/ML Consultant</span> <!--- Mohammad Idrees Bhat | Tech Skills Trainer | AI/ML Consultant --->\n",
    "    </div>\n",
    "</div>"
   ]
  },
  {
   "cell_type": "markdown",
   "id": "ef444d2e-97e9-49a8-bf3d-0119a2dfebb5",
   "metadata": {},
   "source": [
    "<!--- Mohammad Idrees Bhat | Tech Skills Trainer | AI/ML Consultant --->"
   ]
  },
  {
   "cell_type": "markdown",
   "id": "151ad3d8-0bce-4e29-86da-5ea91b5a69df",
   "metadata": {},
   "source": [
    "<div style=\"background-color: #002147; padding: 10px; text-align: center; color: white; font-size: 32px; font-family: 'Arial', sans-serif; border-radius: 100px;\">\n",
    "    Hyperparameter Tuning<br>\n",
    "    <h3 style=\"text-align: center; color: white; font-size: 15px; font-family: 'Arial', sans-serif;\">   </h3>\n",
    "</div\n"
   ]
  },
  {
   "cell_type": "markdown",
   "id": "19b1c30b-e766-4658-8d70-1b0af10ae2f4",
   "metadata": {},
   "source": [
    "<!-- Link the Montserrat font -->\n",
    "<link href=\"https://fonts.googleapis.com/css2?family=Montserrat:wght@700&display=swap\" rel=\"stylesheet\">\n",
    "\n",
    "<!-- Main div with centered content and a flexible box size, no scroll bar -->\n",
    "<div style=\"background-color: #baf733; min-height: 100%; width: 100%; display: flex; justify-content: center; align-items: center; position: relative; padding: 20px; box-sizing: border-box; font-family: 'Montserrat', sans-serif; font-weight: 700; font-size: 20px; border-radius: 15px;\">\n",
    "    <div style=\"position: absolute; top: 10px; right: 10px; padding: 5px 10px; font-size: 14px; color: rgba(0, 0, 0, 0.05); border-radius: 10px;\">Mohammad Idrees Bhat</div>\n",
    "    <!-- Fill the below text with question -->\n",
    "    <!-- Fill the below text with question -->\n",
    "    <!-- Fill the above text with question -->\n",
    "    <!-- Fill the above text with question -->\n",
    "</div>"
   ]
  },
  {
   "cell_type": "markdown",
   "id": "0a3ecf0b",
   "metadata": {},
   "source": [
    "Let's use the very Iris dataset, a simple dataset often used for classification problems. We'll perform the following steps:\n",
    "\n",
    "1. Import Libraries.\n",
    "2. Load the Iris dataset.\n",
    "3. Train a base model (e.g., a decision tree classifier).\n",
    "4. Apply Grid Search and Random Search for hyperparameter tuning.\n",
    "5. Evaluate model performance."
   ]
  },
  {
   "cell_type": "code",
   "execution_count": 13,
   "id": "00a6fe9a",
   "metadata": {},
   "outputs": [],
   "source": [
    "# Step 1: Import Libraries\n",
    "import numpy as np\n",
    "import pandas as pd\n",
    "from sklearn.datasets import load_iris\n",
    "from sklearn.model_selection import train_test_split, GridSearchCV, RandomizedSearchCV\n",
    "from sklearn.tree import DecisionTreeClassifier\n",
    "from sklearn.metrics import accuracy_score\n",
    "from scipy.stats import randint"
   ]
  },
  {
   "cell_type": "code",
   "execution_count": 14,
   "id": "88307630",
   "metadata": {},
   "outputs": [],
   "source": [
    "# Step 2: Load the Iris Dataset\n",
    "# Load the Iris dataset, which is a simple classification dataset\n",
    "data = load_iris()\n",
    "X = data.data  # Features\n",
    "y = data.target  # Target labels"
   ]
  },
  {
   "cell_type": "code",
   "execution_count": 15,
   "id": "6ad726cf",
   "metadata": {},
   "outputs": [
    {
     "name": "stdout",
     "output_type": "stream",
     "text": [
      "Base Model Accuracy: 100.00%\n"
     ]
    }
   ],
   "source": [
    "# Step 3: Train a Base Model\n",
    "\n",
    "# Split the dataset into training and testing sets (70% training, 30% testing)\n",
    "X_train, X_test, y_train, y_test = train_test_split(X, y, test_size=0.3, random_state=42)\n",
    "\n",
    "# Initialize a basic DecisionTreeClassifier model\n",
    "model = DecisionTreeClassifier(random_state=42)\n",
    "\n",
    "# Fit the model to the training data\n",
    "model.fit(X_train, y_train)\n",
    "\n",
    "# Predict on the test data and calculate the accuracy of the base model\n",
    "y_pred = model.predict(X_test)\n",
    "base_accuracy = accuracy_score(y_test, y_pred)\n",
    "print(f'Base Model Accuracy: {base_accuracy * 100:.2f}%')  # Print base model accuracy"
   ]
  },
  {
   "cell_type": "markdown",
   "id": "3d96dc16",
   "metadata": {},
   "source": [
    "## Step 4: Apply Grid Search for Hyperparameter Tuning"
   ]
  },
  {
   "cell_type": "code",
   "execution_count": 16,
   "id": "71899eb7",
   "metadata": {},
   "outputs": [
    {
     "name": "stdout",
     "output_type": "stream",
     "text": [
      "Fitting 5 folds for each of 72 candidates, totalling 360 fits\n",
      "Best Grid Search Accuracy: 100.00%\n",
      "Best Grid Search Parameters: {'criterion': 'gini', 'max_depth': 5, 'min_samples_leaf': 1, 'min_samples_split': 10}\n"
     ]
    }
   ],
   "source": [
    "\n",
    "# Define a hyperparameter grid for tuning the decision tree model\n",
    "param_grid = {\n",
    "    'max_depth': [3, 5, 10, None],  # Different depth values to try\n",
    "    'min_samples_split': [2, 5, 10],  # Number of samples required to split a node\n",
    "    'min_samples_leaf': [1, 2, 4],  # Minimum samples required at each leaf node\n",
    "    'criterion': ['gini', 'entropy']  # Splitting criterion (Gini impurity or entropy)\n",
    "}\n",
    "\n",
    "# Initialize GridSearchCV, which will test all combinations of the parameters using cross-validation\n",
    "grid_search = GridSearchCV(estimator=model, param_grid=param_grid, cv=5, n_jobs=-1, verbose=1)\n",
    "\n",
    "# Fit GridSearchCV to the training data\n",
    "grid_search.fit(X_train, y_train)\n",
    "\n",
    "# Retrieve the best model from Grid Search and print the best parameters\n",
    "best_grid_model = grid_search.best_estimator_  # Best model from grid search\n",
    "best_grid_params = grid_search.best_params_  # Best parameters found\n",
    "\n",
    "# Predict with the best model and calculate accuracy\n",
    "grid_y_pred = best_grid_model.predict(X_test)\n",
    "grid_accuracy = accuracy_score(y_test, grid_y_pred)\n",
    "print(f'Best Grid Search Accuracy: {grid_accuracy * 100:.2f}%')  # Print accuracy of grid search model\n",
    "print(f'Best Grid Search Parameters: {best_grid_params}')  # Print best parameters found"
   ]
  },
  {
   "cell_type": "markdown",
   "id": "60558adc",
   "metadata": {},
   "source": [
    "## Step 5: Apply Random Search for Hyperparameter Tuning"
   ]
  },
  {
   "cell_type": "code",
   "execution_count": 17,
   "id": "2f6e8d7a",
   "metadata": {},
   "outputs": [
    {
     "name": "stdout",
     "output_type": "stream",
     "text": [
      "Fitting 5 folds for each of 100 candidates, totalling 500 fits\n",
      "Best Random Search Accuracy: 100.00%\n",
      "Best Random Search Parameters: {'criterion': 'gini', 'max_depth': 10, 'min_samples_leaf': 3, 'min_samples_split': 8}\n",
      "Base Model Accuracy: 100.00%\n",
      "Grid Search Best Model Accuracy: 100.00%\n",
      "Random Search Best Model Accuracy: 100.00%\n"
     ]
    }
   ],
   "source": [
    "\n",
    "# Define a parameter distribution for RandomizedSearchCV\n",
    "param_dist = {\n",
    "    'max_depth': [3, 5, 10, None],  # Possible values for max depth\n",
    "    'min_samples_split': randint(2, 10),  # Randomly sampled values for min_samples_split\n",
    "    'min_samples_leaf': randint(1, 10),  # Randomly sampled values for min_samples_leaf\n",
    "    'criterion': ['gini', 'entropy']  # Possible criterion for splitting nodes\n",
    "}\n",
    "\n",
    "# Initialize RandomizedSearchCV with a random subset of the hyperparameter space\n",
    "random_search = RandomizedSearchCV(estimator=model, param_distributions=param_dist, n_iter=100, cv=5, n_jobs=-1, verbose=1, random_state=42)\n",
    "\n",
    "# Fit RandomizedSearchCV to the training data\n",
    "random_search.fit(X_train, y_train)\n",
    "\n",
    "# Retrieve the best model from Random Search and print the best parameters\n",
    "best_random_model = random_search.best_estimator_  # Best model from random search\n",
    "best_random_params = random_search.best_params_  # Best parameters found\n",
    "\n",
    "# Predict with the best model and calculate accuracy\n",
    "random_y_pred = best_random_model.predict(X_test)\n",
    "random_accuracy = accuracy_score(y_test, random_y_pred)\n",
    "print(f'Best Random Search Accuracy: {random_accuracy * 100:.2f}%')  # Print accuracy of random search model\n",
    "print(f'Best Random Search Parameters: {best_random_params}')  # Print best parameters found\n",
    "\n",
    "# Final Evaluation\n",
    "# Print the comparison of the models' accuracies to see improvements\n",
    "print(f\"Base Model Accuracy: {base_accuracy * 100:.2f}%\")  # Base model accuracy for reference\n",
    "print(f\"Grid Search Best Model Accuracy: {grid_accuracy * 100:.2f}%\")  # Grid search model accuracy\n",
    "print(f\"Random Search Best Model Accuracy: {random_accuracy * 100:.2f}%\")  # Random search model accuracy\n"
   ]
  },
  {
   "cell_type": "markdown",
   "id": "85843cc6",
   "metadata": {},
   "source": [
    "### Let's now use a different algorithm: Random Forest"
   ]
  },
  {
   "cell_type": "markdown",
   "id": "57d7e15f",
   "metadata": {},
   "source": [
    "### Step 1: Import Libraries"
   ]
  },
  {
   "cell_type": "code",
   "execution_count": 18,
   "id": "bbfcb091",
   "metadata": {},
   "outputs": [],
   "source": [
    "from sklearn.ensemble import RandomForestClassifier\n"
   ]
  },
  {
   "cell_type": "markdown",
   "id": "ee95f5ec",
   "metadata": {},
   "source": [
    "### Step 2: Load the Iris Dataset\n",
    "Already done. Along with train-test split"
   ]
  },
  {
   "cell_type": "markdown",
   "id": "53706103",
   "metadata": {},
   "source": [
    "### Step 3: Train the New Model (Random Forest)"
   ]
  },
  {
   "cell_type": "code",
   "execution_count": 19,
   "id": "50b2c628",
   "metadata": {},
   "outputs": [],
   "source": [
    "model = RandomForestClassifier(random_state=42)\n"
   ]
  },
  {
   "cell_type": "code",
   "execution_count": 20,
   "id": "003fe7fc",
   "metadata": {},
   "outputs": [
    {
     "data": {
      "text/html": [
       "<style>#sk-container-id-3 {color: black;}#sk-container-id-3 pre{padding: 0;}#sk-container-id-3 div.sk-toggleable {background-color: white;}#sk-container-id-3 label.sk-toggleable__label {cursor: pointer;display: block;width: 100%;margin-bottom: 0;padding: 0.3em;box-sizing: border-box;text-align: center;}#sk-container-id-3 label.sk-toggleable__label-arrow:before {content: \"▸\";float: left;margin-right: 0.25em;color: #696969;}#sk-container-id-3 label.sk-toggleable__label-arrow:hover:before {color: black;}#sk-container-id-3 div.sk-estimator:hover label.sk-toggleable__label-arrow:before {color: black;}#sk-container-id-3 div.sk-toggleable__content {max-height: 0;max-width: 0;overflow: hidden;text-align: left;background-color: #f0f8ff;}#sk-container-id-3 div.sk-toggleable__content pre {margin: 0.2em;color: black;border-radius: 0.25em;background-color: #f0f8ff;}#sk-container-id-3 input.sk-toggleable__control:checked~div.sk-toggleable__content {max-height: 200px;max-width: 100%;overflow: auto;}#sk-container-id-3 input.sk-toggleable__control:checked~label.sk-toggleable__label-arrow:before {content: \"▾\";}#sk-container-id-3 div.sk-estimator input.sk-toggleable__control:checked~label.sk-toggleable__label {background-color: #d4ebff;}#sk-container-id-3 div.sk-label input.sk-toggleable__control:checked~label.sk-toggleable__label {background-color: #d4ebff;}#sk-container-id-3 input.sk-hidden--visually {border: 0;clip: rect(1px 1px 1px 1px);clip: rect(1px, 1px, 1px, 1px);height: 1px;margin: -1px;overflow: hidden;padding: 0;position: absolute;width: 1px;}#sk-container-id-3 div.sk-estimator {font-family: monospace;background-color: #f0f8ff;border: 1px dotted black;border-radius: 0.25em;box-sizing: border-box;margin-bottom: 0.5em;}#sk-container-id-3 div.sk-estimator:hover {background-color: #d4ebff;}#sk-container-id-3 div.sk-parallel-item::after {content: \"\";width: 100%;border-bottom: 1px solid gray;flex-grow: 1;}#sk-container-id-3 div.sk-label:hover label.sk-toggleable__label {background-color: #d4ebff;}#sk-container-id-3 div.sk-serial::before {content: \"\";position: absolute;border-left: 1px solid gray;box-sizing: border-box;top: 0;bottom: 0;left: 50%;z-index: 0;}#sk-container-id-3 div.sk-serial {display: flex;flex-direction: column;align-items: center;background-color: white;padding-right: 0.2em;padding-left: 0.2em;position: relative;}#sk-container-id-3 div.sk-item {position: relative;z-index: 1;}#sk-container-id-3 div.sk-parallel {display: flex;align-items: stretch;justify-content: center;background-color: white;position: relative;}#sk-container-id-3 div.sk-item::before, #sk-container-id-3 div.sk-parallel-item::before {content: \"\";position: absolute;border-left: 1px solid gray;box-sizing: border-box;top: 0;bottom: 0;left: 50%;z-index: -1;}#sk-container-id-3 div.sk-parallel-item {display: flex;flex-direction: column;z-index: 1;position: relative;background-color: white;}#sk-container-id-3 div.sk-parallel-item:first-child::after {align-self: flex-end;width: 50%;}#sk-container-id-3 div.sk-parallel-item:last-child::after {align-self: flex-start;width: 50%;}#sk-container-id-3 div.sk-parallel-item:only-child::after {width: 0;}#sk-container-id-3 div.sk-dashed-wrapped {border: 1px dashed gray;margin: 0 0.4em 0.5em 0.4em;box-sizing: border-box;padding-bottom: 0.4em;background-color: white;}#sk-container-id-3 div.sk-label label {font-family: monospace;font-weight: bold;display: inline-block;line-height: 1.2em;}#sk-container-id-3 div.sk-label-container {text-align: center;}#sk-container-id-3 div.sk-container {/* jupyter's `normalize.less` sets `[hidden] { display: none; }` but bootstrap.min.css set `[hidden] { display: none !important; }` so we also need the `!important` here to be able to override the default hidden behavior on the sphinx rendered scikit-learn.org. See: https://github.com/scikit-learn/scikit-learn/issues/21755 */display: inline-block !important;position: relative;}#sk-container-id-3 div.sk-text-repr-fallback {display: none;}</style><div id=\"sk-container-id-3\" class=\"sk-top-container\"><div class=\"sk-text-repr-fallback\"><pre>RandomForestClassifier(random_state=42)</pre><b>In a Jupyter environment, please rerun this cell to show the HTML representation or trust the notebook. <br />On GitHub, the HTML representation is unable to render, please try loading this page with nbviewer.org.</b></div><div class=\"sk-container\" hidden><div class=\"sk-item\"><div class=\"sk-estimator sk-toggleable\"><input class=\"sk-toggleable__control sk-hidden--visually\" id=\"sk-estimator-id-3\" type=\"checkbox\" checked><label for=\"sk-estimator-id-3\" class=\"sk-toggleable__label sk-toggleable__label-arrow\">RandomForestClassifier</label><div class=\"sk-toggleable__content\"><pre>RandomForestClassifier(random_state=42)</pre></div></div></div></div></div>"
      ],
      "text/plain": [
       "RandomForestClassifier(random_state=42)"
      ]
     },
     "execution_count": 20,
     "metadata": {},
     "output_type": "execute_result"
    }
   ],
   "source": [
    "# Fit the model to the training data\n",
    "model.fit(X_train, y_train)\n"
   ]
  },
  {
   "cell_type": "markdown",
   "id": "ec5c989e",
   "metadata": {},
   "source": [
    "### Step 4: Evaluate the New Model"
   ]
  },
  {
   "cell_type": "code",
   "execution_count": 21,
   "id": "96733ae9",
   "metadata": {},
   "outputs": [
    {
     "name": "stdout",
     "output_type": "stream",
     "text": [
      "New Model Accuracy: 100.00%\n"
     ]
    }
   ],
   "source": [
    "y_pred = model.predict(X_test)\n",
    "accuracy = accuracy_score(y_test, y_pred)\n",
    "print(f'New Model Accuracy: {accuracy * 100:.2f}%')\n"
   ]
  },
  {
   "cell_type": "markdown",
   "id": "a7822db9",
   "metadata": {},
   "source": [
    "### Step 5: Hyperparameter Tuning (Grid Search)"
   ]
  },
  {
   "cell_type": "code",
   "execution_count": 22,
   "id": "b2540b28",
   "metadata": {},
   "outputs": [
    {
     "name": "stdout",
     "output_type": "stream",
     "text": [
      "Fitting 5 folds for each of 81 candidates, totalling 405 fits\n"
     ]
    }
   ],
   "source": [
    "param_grid = {\n",
    "    'n_estimators': [50, 100, 200],\n",
    "    'max_depth': [10, 20, None],\n",
    "    'min_samples_split': [2, 5, 10],\n",
    "    'min_samples_leaf': [1, 2, 4]\n",
    "}\n",
    "grid_search = GridSearchCV(estimator=model, param_grid=param_grid, cv=5, n_jobs=-1, verbose=1)\n",
    "grid_search.fit(X_train, y_train)\n",
    "best_model = grid_search.best_estimator_\n"
   ]
  },
  {
   "cell_type": "code",
   "execution_count": 23,
   "id": "56e48ab2",
   "metadata": {},
   "outputs": [
    {
     "name": "stdout",
     "output_type": "stream",
     "text": [
      "Best Model Accuracy: 100.00%\n"
     ]
    }
   ],
   "source": [
    "best_y_pred = best_model.predict(X_test)\n",
    "best_accuracy = accuracy_score(y_test, best_y_pred)\n",
    "print(f'Best Model Accuracy: {best_accuracy * 100:.2f}%')\n"
   ]
  },
  {
   "cell_type": "markdown",
   "id": "b4784291",
   "metadata": {},
   "source": [
    "### Other hypterparameter tuning methods:\n",
    "\n",
    "Apart from the traditional methods like Grid Search and Random Search, several other techniques for hyperparameter tuning have gained popularity recently. \n",
    "\n",
    "These methods often provide better performance, faster results, and more efficient searches for optimal hyperparameters. Here are some of the more recent and advanced methods:\n",
    "\n",
    "1. **Bayesian Optimization**: A probabilistic method that models the hyperparameter search process using a surrogate function.\n",
    "2. **Genetic Algorithms**: An evolutionary technique that generates candidate solutions and evolves them over multiple generations.\n",
    "3. **Hyperband**: Combines random search and successive halving to allocate resources efficiently across multiple configurations.\n",
    "4. **Automated Machine Learning (AutoML)**: Fully automates the process of model selection, hyperparameter tuning, and data preprocessing.\n",
    "5. **Population-Based Training (PBT)**: An adaptive optimization method that evolves hyperparameters during training by swapping the best-performing models' hyperparameters.\n",
    "6. **Early Stopping**: A technique that halts training when the model's performance on a validation set starts to degrade, preventing overfitting.\n"
   ]
  },
  {
   "cell_type": "markdown",
   "id": "b69ed7ea-1940-434d-bb2d-601d07994783",
   "metadata": {},
   "source": [
    "<div style=\"background-color: lightblue; color: white; padding: 10px; text-align: center;\">\n",
    "    <h1>____________________         BEST OF LUCK   ...  :)        _____________________\n",
    "        <!--- Mohammad Idrees Bhat | Tech Skills Trainer | AI/ML Consultant --->\n",
    "</h1> </div>"
   ]
  },
  {
   "cell_type": "markdown",
   "id": "13e86481-eae2-4019-9515-66a43a30f0fb",
   "metadata": {},
   "source": [
    "<div style=\"background-color: #002147; color: #fff; padding: 30px; text-align: center;\">\n",
    "    <h1>THANK YOU!\n",
    "        <!--- Mohammad Idrees Bhat | Tech Skills Trainer | AI/ML Consultant --->\n",
    "</h1> </div>"
   ]
  },
  {
   "cell_type": "markdown",
   "id": "8b6ea230",
   "metadata": {},
   "source": [
    "### Uncovered Parts"
   ]
  },
  {
   "cell_type": "markdown",
   "id": "3f156410",
   "metadata": {},
   "source": [
    "**Standardization** is a technique used to scale features so that they have a mean of zero and a standard deviation of one. \n",
    "\n",
    "It is essential when using machine learning algorithms that are sensitive to the scale of the data, such as support vector machines (SVM), k-nearest neighbors (KNN), or gradient descent-based methods.\n",
    "\n",
    "**Why Standardization is Important:**\n",
    "\n",
    "- Fair Comparison of Features: If different features in your dataset have different units or magnitudes (e.g., age in years and income in thousands), some features may dominate others during model training. Standardization puts all features on the same scale.\n",
    "\n",
    "- Improves Model Performance: Algorithms like KNN and SVM depend on the distances between data points. If one feature has a larger scale than another, it can disproportionately affect the distance calculation and, in turn, the model's performance."
   ]
  },
  {
   "cell_type": "markdown",
   "id": "f052ef38",
   "metadata": {},
   "source": [
    "- https://www.youtube.com/watch?v=mnKm3YP56PY"
   ]
  },
  {
   "cell_type": "code",
   "execution_count": 24,
   "id": "43aefffc",
   "metadata": {},
   "outputs": [
    {
     "name": "stdout",
     "output_type": "stream",
     "text": [
      "[[-1.41421356 -1.41421356]\n",
      " [-0.70710678 -0.70710678]\n",
      " [ 0.          0.        ]\n",
      " [ 0.70710678  0.70710678]\n",
      " [ 1.41421356  1.41421356]]\n"
     ]
    }
   ],
   "source": [
    "from sklearn.preprocessing import StandardScaler\n",
    "\n",
    "# Example data (2 features, 5 samples)\n",
    "X = [[20, 300], [25, 400], [30, 500], [35, 600], [40, 700]]\n",
    "\n",
    "# Initialize the scaler\n",
    "scaler = StandardScaler()\n",
    "\n",
    "# Fit the scaler and transform the data\n",
    "X_standardized = scaler.fit_transform(X)\n",
    "\n",
    "print(X_standardized)\n"
   ]
  },
  {
   "cell_type": "markdown",
   "id": "5454f2e3-4fa4-48f9-936a-35be52d769af",
   "metadata": {},
   "source": [
    "<!--- Mohammad Idrees Bhat | Mohammad Idrees Bhat --->"
   ]
  },
  {
   "cell_type": "markdown",
   "id": "3e92ba4c-672c-4e9f-b842-2b2d9234e5ff",
   "metadata": {},
   "source": [
    "<h2 style=\"background-color: #ffe4e1; color: #2f4f4f; padding: 10px; border-radius: 10px; width: 350px; text-align: center; float: right; margin: 20px 0;\">\n",
    "    Mohammad Idrees Bhat<br>\n",
    "    <span style=\"font-size: 12px; color: #696969;\">\n",
    "        Tech Skills Trainer | AI/ML Consultant\n",
    "    </span>\n",
    "</h2>"
   ]
  },
  {
   "cell_type": "markdown",
   "id": "15cc27b3-58d0-431e-8121-f1b4c08377c7",
   "metadata": {},
   "source": [
    "<!--- Mohammad Idrees Bhat | Tech Skills Trainer | AI/ML Consultant --->"
   ]
  }
 ],
 "metadata": {
  "kernelspec": {
   "display_name": "base",
   "language": "python",
   "name": "python3"
  },
  "language_info": {
   "codemirror_mode": {
    "name": "ipython",
    "version": 3
   },
   "file_extension": ".py",
   "mimetype": "text/x-python",
   "name": "python",
   "nbconvert_exporter": "python",
   "pygments_lexer": "ipython3",
   "version": "3.12.4"
  }
 },
 "nbformat": 4,
 "nbformat_minor": 5
}
