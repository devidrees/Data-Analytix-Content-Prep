{
 "cells": [
  {
   "cell_type": "markdown",
   "id": "8c4bc666-34a1-47b6-8018-1ad79dafae95",
   "metadata": {},
   "source": [
    "<div style=\"background-color: #add8e6; padding: 10px; height: 70px; border-radius: 15px;\">\n",
    "    <div style=\"font-family: 'Georgia', serif; font-size: 20px; padding: 10px; text-align: right; position: absolute; right: 20px;\">\n",
    "        Mohammad Idrees Bhat <br>\n",
    "        <span style=\"font-family: 'Arial', sans-serif;font-size: 12px; color: #0a0a0a;\">Tech Skills Trainer | AI/ML Consultant</span> <!--- Mohammad Idrees Bhat | Tech Skills Trainer | AI/ML Consultant --->\n",
    "    </div>\n",
    "</div>"
   ]
  },
  {
   "cell_type": "markdown",
   "id": "ef444d2e-97e9-49a8-bf3d-0119a2dfebb5",
   "metadata": {},
   "source": [
    "<!--- Mohammad Idrees Bhat | Tech Skills Trainer | AI/ML Consultant --->"
   ]
  },
  {
   "cell_type": "markdown",
   "id": "151ad3d8-0bce-4e29-86da-5ea91b5a69df",
   "metadata": {},
   "source": [
    "<div style=\"background-color: #002147; padding: 10px; text-align: center; color: white; font-size: 32px; font-family: 'Arial', sans-serif;\">\n",
    "    title <br>\n",
    "    <h3 style=\"text-align: center; color: white; font-size: 15px; font-family: 'Arial', sans-serif;\">Sub heading</h3>\n",
    "</div>"
   ]
  },
  {
   "cell_type": "markdown",
   "id": "155e8ec7-547b-41f4-b6f6-6e6e719c198c",
   "metadata": {},
   "source": [
    "<div style=\"background-color: white; color: black; padding: 10px;\">\n",
    "    <h4><b>AGENDA</b> <p><p>\n",
    "1.  Introduction to Machine Learning<p><p> \n",
    "2.  Types of Machine Learning <p>\n",
    "3.  Machine Learning Process <p>\n",
    "4.  Hands-on with Scikit-Learn <p>  \n",
    "</h4> </div>"
   ]
  },
  {
   "cell_type": "markdown",
   "id": "19b1c30b-e766-4658-8d70-1b0af10ae2f4",
   "metadata": {},
   "source": [
    "<!-- Link the Montserrat font -->\n",
    "<link href=\"https://fonts.googleapis.com/css2?family=Montserrat:wght@700&display=swap\" rel=\"stylesheet\">\n",
    "\n",
    "<!-- Main div with centered content and a flexible box size, no scroll bar -->\n",
    "<div style=\"background-color: #baf733; min-height: 100px; width: 100%; display: flex; justify-content: center; align-items: center; position: relative; padding: 20px; box-sizing: border-box; font-family: 'Montserrat', sans-serif; font-weight: 700; font-size: 20px; border-radius: 15px;\">\n",
    "    <div style=\"position: absolute; top: 10px; right: 10px; padding: 5px 10px; font-size: 14px; color: rgba(0, 0, 0, 0.05); border-radius: 10px;\">Mohammad Idrees Bhat</div>\n",
    "    <!-- Fill the below text with question -->\n",
    "    <!-- Fill the below text with question -->\n",
    "    What’s the most interesting place you’ve traveled to, or the top spot on your travel bucket list?\n",
    "    <!-- Fill the above text with question -->\n",
    "    <!-- Fill the above text with question -->\n",
    "\n",
    "</div>"
   ]
  },
  {
   "cell_type": "markdown",
   "id": "53ec8637",
   "metadata": {},
   "source": [
    "<div style=\"background-color: lightgreen; color: black; padding: 4px;\">\n",
    "    <h3>1. Introduction to Machine Learning\n",
    "</h3> </div>"
   ]
  },
  {
   "cell_type": "markdown",
   "id": "90aef031-1416-4707-b2a0-fc60ca4ee7ca",
   "metadata": {},
   "source": [
    "Machine Learning (ML) is a field within artificial intelligence (AI) that enables systems to learn from data instead of following explicit programming instructions.\n",
    "\n",
    "ML allows systems to find patterns and make decisions, making it essential in various fields, such as healthcare, finance, and technology."
   ]
  },
  {
   "cell_type": "markdown",
   "id": "1c762cd6-ee35-4e4e-aa54-600db6a9c23d",
   "metadata": {},
   "source": [
    "<div style=\"background-color: lightblue; color: black; padding: 4px;\">\n",
    "    <h4> Importance of Machine Learning\n",
    "</h4> </div>"
   ]
  },
  {
   "cell_type": "markdown",
   "id": "a98d6d74",
   "metadata": {},
   "source": [
    "ML is used in everyday applications:\n",
    "\n",
    "- Recommendation Systems (e.g., YouTube, Netflix)\n",
    "- Image Recognition (e.g., object detection in photos)\n",
    "- Predictive Analysis (e.g., forecasting weather, stock prices)\n",
    "\n",
    "It enhances automation and improves decision-making accuracy across industries."
   ]
  },
  {
   "cell_type": "markdown",
   "id": "9907a25e",
   "metadata": {},
   "source": [
    "<div style=\"background-color: lightgreen; color: black; padding: 4px;\">\n",
    "    <h3>2. Types of Machine Learning\n",
    "</h3> </div>"
   ]
  },
  {
   "cell_type": "markdown",
   "id": "5e4f7c3c",
   "metadata": {},
   "source": [
    "<div style=\"background-color: lightblue; color: black; padding: 4px;\">\n",
    "    <h4> Supervised Learning\n",
    "</h4> </div>"
   ]
  },
  {
   "cell_type": "markdown",
   "id": "8252baea",
   "metadata": {},
   "source": [
    "The model learns from labeled data, where each example has an input and a known output (e.g., predicting housing prices based on various features)."
   ]
  },
  {
   "cell_type": "markdown",
   "id": "623fe8d6",
   "metadata": {},
   "source": [
    "<div style=\"background-color: lightblue; color: black; padding: 4px;\">\n",
    "    <h4> Unsupervised Learning\n",
    "</h4> </div>"
   ]
  },
  {
   "cell_type": "markdown",
   "id": "7c1268ed",
   "metadata": {},
   "source": [
    "The model finds patterns in unlabeled data, where data points have no labels or defined outcomes (e.g., clustering customers by purchasing behavior)."
   ]
  },
  {
   "cell_type": "markdown",
   "id": "d39b5b47",
   "metadata": {},
   "source": [
    "<div style=\"background-color: lightblue; color: black; padding: 4px;\">\n",
    "    <h4> Reinforcement Learning\n",
    "</h4> </div>"
   ]
  },
  {
   "cell_type": "markdown",
   "id": "be11658f",
   "metadata": {},
   "source": [
    "The model learns by interacting with an environment, using rewards and penalties to achieve a specific goal, commonly applied in robotics and gaming."
   ]
  },
  {
   "cell_type": "markdown",
   "id": "ab417b65",
   "metadata": {},
   "source": [
    "<div style=\"background-color: lightgreen; color: black; padding: 4px;\">\n",
    "    <h3>3. Machine Learning Process\n",
    "</h3> </div>"
   ]
  },
  {
   "cell_type": "markdown",
   "id": "ce4e98ca",
   "metadata": {},
   "source": [
    "<div style=\"background-color: lightblue; color: black; padding: 4px;\">\n",
    "    <h4> Data Collection\n",
    "</h4> </div>"
   ]
  },
  {
   "cell_type": "markdown",
   "id": "c63ca97d",
   "metadata": {},
   "source": [
    "Collect relevant data based on the problem you want to solve."
   ]
  },
  {
   "cell_type": "markdown",
   "id": "f1da036f",
   "metadata": {},
   "source": [
    "<div style=\"background-color: lightblue; color: black; padding: 4px;\">\n",
    "    <h4> Data Preprocessing\n",
    "</h4> </div>"
   ]
  },
  {
   "cell_type": "markdown",
   "id": "82f1b1a7",
   "metadata": {},
   "source": [
    "Clean and organize data, handle missing values, and prepare it for model training."
   ]
  },
  {
   "cell_type": "markdown",
   "id": "0dcdd260",
   "metadata": {},
   "source": [
    "<div style=\"background-color: lightblue; color: black; padding: 4px;\">\n",
    "    <h4> Model Selection\n",
    "</h4> </div>"
   ]
  },
  {
   "cell_type": "markdown",
   "id": "aff63d1a",
   "metadata": {},
   "source": [
    "Choose an ML model based on the problem type (e.g., classification, regression)."
   ]
  },
  {
   "cell_type": "markdown",
   "id": "3c97a057",
   "metadata": {},
   "source": [
    "<div style=\"background-color: lightblue; color: black; padding: 4px;\">\n",
    "    <h4> Training\n",
    "</h4> </div>"
   ]
  },
  {
   "cell_type": "markdown",
   "id": "7329d08a",
   "metadata": {},
   "source": [
    "Train the model on your dataset to find patterns."
   ]
  },
  {
   "cell_type": "markdown",
   "id": "972892ce",
   "metadata": {},
   "source": [
    "<div style=\"background-color: lightblue; color: black; padding: 4px;\">\n",
    "    <h4> Testing\n",
    "</h4> </div>"
   ]
  },
  {
   "cell_type": "markdown",
   "id": "0b7c1ceb",
   "metadata": {},
   "source": [
    "Test the model on new data to evaluate its generalization."
   ]
  },
  {
   "cell_type": "markdown",
   "id": "b6f92cf1",
   "metadata": {},
   "source": [
    "<div style=\"background-color: lightblue; color: black; padding: 4px;\">\n",
    "    <h4> Evaluation\n",
    "</h4> </div>"
   ]
  },
  {
   "cell_type": "markdown",
   "id": "3aa48a3c",
   "metadata": {},
   "source": [
    "Assess model performance using metrics like accuracy, precision, and recall."
   ]
  },
  {
   "cell_type": "markdown",
   "id": "9c5fcc30",
   "metadata": {},
   "source": [
    "<div style=\"background-color: lightgreen; color: black; padding: 4px;\">\n",
    "    <h3>4. Hands-on with Sci-kit Learn\n",
    "</h3> </div>"
   ]
  },
  {
   "cell_type": "markdown",
   "id": "1c13daf8",
   "metadata": {},
   "source": [
    "Setting up Scikit-Learn Environment"
   ]
  },
  {
   "cell_type": "markdown",
   "id": "8482b268",
   "metadata": {},
   "source": []
  },
  {
   "cell_type": "markdown",
   "id": "82ef4c95",
   "metadata": {},
   "source": []
  },
  {
   "cell_type": "markdown",
   "id": "da2d6616",
   "metadata": {},
   "source": []
  },
  {
   "cell_type": "markdown",
   "id": "f2185430-3791-45df-824f-bdec6d7145e3",
   "metadata": {},
   "source": [
    "<div class=\"alert alert-block alert-warning\">\n",
    "    <b><font size=\"5\"> Live Exercise</font> </b>\n",
    "</div>\n",
    "\n",
    "<!--- Mohammad Idrees Bhat | Tech Skills Trainer | AI/ML Consultant --->"
   ]
  },
  {
   "cell_type": "markdown",
   "id": "bf8d61af-f3e8-4afc-a66b-3814e160aaf3",
   "metadata": {},
   "source": [
    "Now it's your turn!\n",
    "### Task 1: description of task\n",
    "\n",
    "    - instructions"
   ]
  },
  {
   "cell_type": "markdown",
   "id": "b69ed7ea-1940-434d-bb2d-601d07994783",
   "metadata": {},
   "source": [
    "<div style=\"background-color: lightblue; color: white; padding: 10px; text-align: center;\">\n",
    "    <h1>_________________________________END________________________________\n",
    "        <!--- Mohammad Idrees Bhat | Tech Skills Trainer | AI/ML Consultant --->\n",
    "</h1> </div>"
   ]
  },
  {
   "cell_type": "markdown",
   "id": "13e86481-eae2-4019-9515-66a43a30f0fb",
   "metadata": {},
   "source": [
    "<div style=\"background-color: #002147; color: #fff; padding: 30px; text-align: center;\">\n",
    "    <h1>THANK YOU!\n",
    "        <!--- Mohammad Idrees Bhat | Tech Skills Trainer | AI/ML Consultant --->\n",
    "</h1> </div>"
   ]
  },
  {
   "cell_type": "markdown",
   "id": "aefa2f04-f141-405d-8a9f-8cf186d66f41",
   "metadata": {},
   "source": [
    "<div style=\"background-color: lightgreen; color: black; padding: 30px;\">\n",
    "    <h4> Live Exercise Solutions\n",
    "        \n",
    "</h4> </div>"
   ]
  },
  {
   "cell_type": "code",
   "execution_count": 2,
   "id": "f1f9ddd9-5558-4b1d-a3e7-04c3dca33b6d",
   "metadata": {},
   "outputs": [
    {
     "ename": "NameError",
     "evalue": "name 'solutions' is not defined",
     "output_type": "error",
     "traceback": [
      "\u001b[1;31m---------------------------------------------------------------------------\u001b[0m",
      "\u001b[1;31mNameError\u001b[0m                                 Traceback (most recent call last)",
      "Cell \u001b[1;32mIn[2], line 1\u001b[0m\n\u001b[1;32m----> 1\u001b[0m solutions\n",
      "\u001b[1;31mNameError\u001b[0m: name 'solutions' is not defined"
     ]
    }
   ],
   "source": [
    "solutions"
   ]
  },
  {
   "cell_type": "markdown",
   "id": "36f2d487-56ef-4c22-a1c9-d25e9df33e37",
   "metadata": {},
   "source": [
    "<div class=\"alert alert-block alert-warning\"  padding: 10px; text-align: center;\">\n",
    "    <font size=\"3\"> Programming Interveiw Questions</font>\n",
    "</div>"
   ]
  },
  {
   "cell_type": "markdown",
   "id": "d4e08c3f-3e5b-46a6-9fbb-456cbd850553",
   "metadata": {},
   "source": [
    "1. topic:\n",
    "    - question"
   ]
  },
  {
   "cell_type": "code",
   "execution_count": null,
   "id": "ee2b86c1-64b0-4abd-8ba9-54746bdc9007",
   "metadata": {},
   "outputs": [],
   "source": []
  },
  {
   "cell_type": "markdown",
   "id": "5454f2e3-4fa4-48f9-936a-35be52d769af",
   "metadata": {},
   "source": [
    "<!--- Mohammad Idrees Bhat | Mohammad Idrees Bhat --->"
   ]
  },
  {
   "cell_type": "markdown",
   "id": "3e92ba4c-672c-4e9f-b842-2b2d9234e5ff",
   "metadata": {},
   "source": [
    "<h2 style=\"background-color: #ffe4e1; color: #2f4f4f; padding: 10px; border-radius: 10px; width: 350px; text-align: center; float: right; margin: 20px 0;\">\n",
    "    Mohammad Idrees Bhat<br>\n",
    "    <span style=\"font-size: 12px; color: #696969;\">\n",
    "        Tech Skills Trainer | AI/ML Consultant\n",
    "    </span>\n",
    "</h2>"
   ]
  },
  {
   "cell_type": "markdown",
   "id": "15cc27b3-58d0-431e-8121-f1b4c08377c7",
   "metadata": {},
   "source": [
    "<!--- Mohammad Idrees Bhat | Tech Skills Trainer | AI/ML Consultant --->"
   ]
  }
 ],
 "metadata": {
  "kernelspec": {
   "display_name": "base",
   "language": "python",
   "name": "python3"
  },
  "language_info": {
   "codemirror_mode": {
    "name": "ipython",
    "version": 3
   },
   "file_extension": ".py",
   "mimetype": "text/x-python",
   "name": "python",
   "nbconvert_exporter": "python",
   "pygments_lexer": "ipython3",
   "version": "3.11.5"
  }
 },
 "nbformat": 4,
 "nbformat_minor": 5
}
