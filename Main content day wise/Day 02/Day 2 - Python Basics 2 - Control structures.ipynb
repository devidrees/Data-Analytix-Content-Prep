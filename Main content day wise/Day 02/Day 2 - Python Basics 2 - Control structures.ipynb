{
 "cells": [
  {
   "cell_type": "markdown",
   "id": "ca30346e-32a7-4110-81cc-c46f11c6a394",
   "metadata": {},
   "source": [
    "<!--- Mohammad Idrees Bhat | Tech Skills Trainer | AI/ML Consultant --->"
   ]
  },
  {
   "cell_type": "markdown",
   "id": "5e89244e-28cf-4133-ab10-d73310caf10b",
   "metadata": {},
   "source": [
    "<div style=\"background-color: #add8e6; padding: 10px; height: 70px; border-radius: 15px;\">\n",
    "    <div style=\"font-family: 'Georgia', serif; font-size: 20px; padding: 10px; text-align: right; position: absolute; right: 20px;\">\n",
    "        Mohammad Idrees Bhat<br>\n",
    "        <span style=\"font-family: 'Arial', sans-serif;font-size: 12px; color: #0a0a0a;\">Tech Skills Trainer | AI/ML Consultant</span>\n",
    "    </div>\n",
    "</div>"
   ]
  },
  {
   "cell_type": "markdown",
   "id": "6360f670-cd32-417c-be26-8438195b82df",
   "metadata": {},
   "source": [
    "<h1 style=\" background-color: #002147; color: White; padding: 30px; text-align:center\"> Python Programming Language (Part 2) </h1>"
   ]
  },
  {
   "cell_type": "markdown",
   "id": "19e9ec83-cf6b-4000-aa3b-4b2194c2bbf1",
   "metadata": {},
   "source": [
    "<div style=\"background-color: lightgreen; color: black; padding: 10px;\">\n",
    "    <h4>Python Notebooks\n",
    "</h4> </div>"
   ]
  },
  {
   "cell_type": "markdown",
   "id": "54f4978b-91f9-4675-92b2-a62b9f81110e",
   "metadata": {},
   "source": [
    "**ipynb**\n",
    "\n",
    "- i - interactive\n",
    "- py -python\n",
    "- nb - notebook\n",
    "\n",
    "Can use software like Jupyter Notebook or Google Colab for reading these files."
   ]
  },
  {
   "cell_type": "markdown",
   "id": "724c1d71-3fdb-4870-8d63-b0bfbaad9ed4",
   "metadata": {},
   "source": [
    "<div style=\"background-color: lightblue; color: black; padding: 10px;\">\n",
    "    <h4>Comments\n",
    "</h4> </div>"
   ]
  },
  {
   "cell_type": "markdown",
   "id": "f13df9ca-ebf7-499d-b37a-fe1452b3c462",
   "metadata": {},
   "source": [
    "1. Comments in Python start with the hash character, `#`, and extend to the end of the physical line. \n",
    "\n",
    "2. A comment may appear at the start of a line or following whitespace or code, but not within the quotation marks `\"\"` or `''` of a String itself. \n",
    "\n",
    "3. A hash character between quotation marks is just a hash character. \n",
    "\n",
    "4. Since comments are to clarify code and are not interpreted by Python, they may be omitted when typing in examples."
   ]
  },
  {
   "cell_type": "code",
   "execution_count": 4,
   "id": "2afa04bd-4d6b-4a4b-8a70-c4286630639c",
   "metadata": {},
   "outputs": [],
   "source": [
    "# This is the first comment - explaining point 1"
   ]
  },
  {
   "cell_type": "code",
   "execution_count": null,
   "id": "8c6a170f-4ed3-4ec3-b092-9aee3781aa18",
   "metadata": {},
   "outputs": [],
   "source": [
    "number = 1  # and this is the second comment - explaining point 2\n",
    "          # ... and now a third!"
   ]
  },
  {
   "cell_type": "code",
   "execution_count": null,
   "id": "e58e989e-0014-42f1-ab27-f65b346be3e8",
   "metadata": {},
   "outputs": [],
   "source": [
    "'#Meanwhile, this is not a comment' # explaining point 3"
   ]
  },
  {
   "cell_type": "code",
   "execution_count": 6,
   "id": "8852561b-2b1c-4a13-8a2e-77d220ba587c",
   "metadata": {},
   "outputs": [
    {
     "name": "stdout",
     "output_type": "stream",
     "text": [
      "Hi welcome to your first Python Program!\n"
     ]
    }
   ],
   "source": [
    "Welcome = \"Hi welcome to your first Python Program!\" # explaining point 4\n",
    "print(Welcome) #This is the 'print' Command  "
   ]
  },
  {
   "cell_type": "markdown",
   "id": "f2d5ce6f-c4d6-4667-acbd-22a64068b2fe",
   "metadata": {},
   "source": [
    "<div style=\"background-color: lightblue; color: black; padding: 10px;\">\n",
    "    <h2>Control Structures in Python\n",
    "</h2> </div>"
   ]
  },
  {
   "cell_type": "markdown",
   "id": "482cf9dd-0e0e-4387-b23b-436f9cecee6d",
   "metadata": {},
   "source": [
    "## What Are Control Structures?"
   ]
  },
  {
   "cell_type": "markdown",
   "id": "f9d33dff-e738-484d-b5cb-f78032745872",
   "metadata": {},
   "source": [
    "- Control structures allow us to control the flow of a program—deciding what parts of code get executed and under what conditions.\n",
    "- They help in decision-making and repeating actions.\n",
    "\n",
    "- In Python, the main types of control structures are:\n",
    "\n",
    "    - **Conditionals**  (if-else statements)\n",
    "    - <b>Loops</b>  (for loops, while loops)\n"
   ]
  },
  {
   "cell_type": "markdown",
   "id": "945b575f-ebc1-4e56-a8b8-c19e9a8b7bbf",
   "metadata": {},
   "source": [
    "<div style=\"background-color: lightblue; color: black; padding: 10px;\">\n",
    "    <h4> Conditionals (if-else statements)\n",
    "</h4> </div>"
   ]
  },
  {
   "cell_type": "markdown",
   "id": "5de602eb-9c9a-4ec0-87b6-f9a733a2e4e6",
   "metadata": {},
   "source": [
    "Conditionals allow you to execute certain blocks of code only if a specific condition is met. Think of them as decision-making points in your program."
   ]
  },
  {
   "cell_type": "code",
   "execution_count": null,
   "id": "1e6b08c7-5fc2-4f7e-b965-fe165dd1c7ac",
   "metadata": {},
   "outputs": [],
   "source": [
    "if condition:\n",
    "    # code to execute if the condition is True"
   ]
  },
  {
   "cell_type": "markdown",
   "id": "4c0924b6-42ba-49ff-87a2-70506c76d3ed",
   "metadata": {},
   "source": [
    "### How Do Conditionals Work?\n",
    "- You check a condition (e.g., if a number is greater than 10).\n",
    "- If the condition is true, the corresponding block of code runs.\n",
    "- If the condition is false, the program checks the next condition, or executes the else block."
   ]
  },
  {
   "cell_type": "code",
   "execution_count": 4,
   "id": "dfe2f6d4-ff03-4758-969f-2ea318674c2d",
   "metadata": {},
   "outputs": [],
   "source": [
    "number = 10\n",
    "if number < 0:\n",
    "    print(\"The number is positive\")"
   ]
  },
  {
   "cell_type": "code",
   "execution_count": null,
   "id": "fc5c23d4-96cd-43fd-9cf5-651ab7b88781",
   "metadata": {},
   "outputs": [],
   "source": [
    "number = -5\n",
    "if number > 0:\n",
    "    print(\"The number is positive\")\n",
    "else:\n",
    "    print(\"The number is not positive\")"
   ]
  },
  {
   "cell_type": "code",
   "execution_count": null,
   "id": "b19e040e-cbe9-4ddb-93f8-35a91f7934c8",
   "metadata": {},
   "outputs": [],
   "source": [
    "if condition:\n",
    "    # code to execute if the condition is True\n",
    "elif another_condition:\n",
    "    # code to execute if the first condition is False, but this one is True\n",
    "else:\n",
    "    # code to execute if all conditions are False"
   ]
  },
  {
   "cell_type": "markdown",
   "id": "100b4357-8c46-4bb7-ba5f-1dcd78374d2c",
   "metadata": {},
   "source": [
    "**Example: Checking if a Number is Positive, Negative, or Zero**\n",
    "\n",
    "In this example, we will write a program that checks if a number is positive, negative, or zero using conditional statements.\n"
   ]
  },
  {
   "cell_type": "code",
   "execution_count": null,
   "id": "e1c42941-d394-4f8c-b806-b5ac796eee1d",
   "metadata": {},
   "outputs": [],
   "source": [
    "# Checking if a number is positive, negative, or zero\n",
    "num = 5\n",
    "\n",
    "if num > 0:\n",
    "    print(\"The number is positive.\")\n",
    "elif num == 0:\n",
    "    print(\"The number is zero.\")\n",
    "else:\n",
    "    print(\"The number is negative.\")\n"
   ]
  },
  {
   "cell_type": "markdown",
   "id": "55142d4d-c5a0-4084-a9a8-47a788019d5f",
   "metadata": {},
   "source": [
    "**Example: Conditionals with Logical Operators**\n",
    "\n",
    "You can combine multiple conditions using logical operators like and, or, and not to create more complex decision-making processes."
   ]
  },
  {
   "cell_type": "code",
   "execution_count": null,
   "id": "df536d5d-d8d6-4e8c-b22e-99f1531d9171",
   "metadata": {},
   "outputs": [],
   "source": [
    "# Checking if a number is between 1 and 10\n",
    "num = 7\n",
    "\n",
    "if num > 1 and num < 10:\n",
    "    print(\"The number is between 1 and 10.\")\n",
    "else:\n",
    "    print(\"The number is not in the range.\")\n"
   ]
  },
  {
   "cell_type": "markdown",
   "id": "a6e8b6cd-6cd9-41fd-b449-acba564feed9",
   "metadata": {},
   "source": [
    "**Example: Even or Odd in Python**\n",
    "\n",
    "You can use the modulus operator % to check if a number is even or odd. The modulus operator returns the remainder of a division."
   ]
  },
  {
   "cell_type": "code",
   "execution_count": null,
   "id": "ed74b8d2-ef66-48d6-8de3-d3c0ce5a2885",
   "metadata": {},
   "outputs": [],
   "source": [
    "number = 7\n",
    "\n",
    "if number % 2 == 0:\n",
    "    print(f\"{number} is even\")\n",
    "else:\n",
    "    print(f\"{number} is odd\")"
   ]
  },
  {
   "cell_type": "markdown",
   "id": "d83b45b1-015a-4d87-b897-7bf0f838a952",
   "metadata": {},
   "source": [
    "<div style=\"background-color: lightblue; color: black; padding: 10px;\">\n",
    "    <h4> Loops in Python\n",
    "</h4> </div>"
   ]
  },
  {
   "cell_type": "markdown",
   "id": "64566a9f-bcca-4197-8238-fb74692c859e",
   "metadata": {},
   "source": [
    "Loops allow you to execute a block of code multiple times without rewriting it. \n",
    "The two main types of loops in Python are:\n",
    "- **for** loop\n",
    "- **while** loop"
   ]
  },
  {
   "cell_type": "markdown",
   "id": "7c6a6146-ffd8-42ca-8611-d56fc4dd3920",
   "metadata": {},
   "source": [
    "### For loops"
   ]
  },
  {
   "cell_type": "code",
   "execution_count": null,
   "id": "fa897ec2-7260-4f61-b2aa-c8777dd88290",
   "metadata": {},
   "outputs": [],
   "source": [
    "for variable in sequence:\n",
    "    # code to execute for each item\n"
   ]
  },
  {
   "cell_type": "markdown",
   "id": "f34e8505-ad10-4a93-898b-4ebc301ca4f9",
   "metadata": {},
   "source": [
    "**Example: Iterating Over a List of Numbers**\n",
    "\n",
    "We will write a program to print each number in a list using a `for` loop.\n"
   ]
  },
  {
   "cell_type": "code",
   "execution_count": 8,
   "id": "88cd25d5-7706-48bb-b95d-c379b9659810",
   "metadata": {},
   "outputs": [
    {
     "name": "stdout",
     "output_type": "stream",
     "text": [
      "1\n",
      "2\n",
      "3\n",
      "4\n",
      "5\n"
     ]
    }
   ],
   "source": [
    "# List of numbers\n",
    "numbers = [1, 2, 3, 4, 5]\n",
    "\n",
    "# Using a for loop to iterate through the list\n",
    "for num in numbers:\n",
    "    print(num)\n"
   ]
  },
  {
   "cell_type": "code",
   "execution_count": 10,
   "id": "13084be9-c91c-4a05-854c-c563a2e0a2a9",
   "metadata": {},
   "outputs": [
    {
     "name": "stdout",
     "output_type": "stream",
     "text": [
      "0\n",
      "1\n",
      "2\n",
      "3\n",
      "4\n"
     ]
    }
   ],
   "source": [
    "# For Loop with Range\n",
    "# Python's built-in range() function is often used with for loops to generate sequences of numbers.\n",
    "\n",
    "# Using range to print numbers from 0 to 4\n",
    "for i in range(5):\n",
    "    print(i)\n"
   ]
  },
  {
   "cell_type": "code",
   "execution_count": null,
   "id": "33e79c84-80a9-4171-ba88-598927d3cc20",
   "metadata": {},
   "outputs": [],
   "source": [
    "# range(start, stop, step)\n",
    "x = range(1, 20, 5)\n",
    "\n",
    "for i in x:\n",
    "    print(i)"
   ]
  },
  {
   "cell_type": "markdown",
   "id": "ad6d26b2-1d99-4df0-ba93-9a1a90021617",
   "metadata": {},
   "source": [
    "### While Loops\n",
    "A while loop continues to execute a block of code as long as a specified condition is true."
   ]
  },
  {
   "cell_type": "code",
   "execution_count": null,
   "id": "355c394b-7c6f-40db-a9ec-397739a25f5b",
   "metadata": {},
   "outputs": [],
   "source": [
    "while condition:\n",
    "    # code to execute as long as the condition is true\n"
   ]
  },
  {
   "cell_type": "markdown",
   "id": "edff5666-ea52-4020-bb88-670617dcc1c6",
   "metadata": {},
   "source": [
    "**Example: Countdown from 5**\n",
    "We will write a program to count down from 5 to 1 using a `while` loop.\n"
   ]
  },
  {
   "cell_type": "code",
   "execution_count": null,
   "id": "ce467484-91a2-4d39-86d2-bdad703f43d6",
   "metadata": {},
   "outputs": [],
   "source": [
    "# Countdown using a while loop\n",
    "count = 5\n",
    "\n",
    "while count > 0:\n",
    "    print(count)\n",
    "    count -= 1  # Decrement the count\n"
   ]
  },
  {
   "cell_type": "markdown",
   "id": "a8288448-52a3-447f-b909-8e87504855df",
   "metadata": {},
   "source": [
    "## Breaking out of loops\n",
    "\n",
    "You can control the flow within a loop using break and continue:\n",
    "\n",
    "- break: Exits the loop completely.\n",
    "- continue: Skips the rest of the loop body for the current iteration and moves to the next."
   ]
  },
  {
   "cell_type": "code",
   "execution_count": null,
   "id": "f4cf8846-5e69-40ae-b9eb-ef3ec4644794",
   "metadata": {},
   "outputs": [],
   "source": [
    "# Breaking out of a loop\n",
    "for num in range(10):\n",
    "    if num == 5:\n",
    "        break  # Exit the loop when num is 5\n",
    "    print(num)\n"
   ]
  },
  {
   "cell_type": "code",
   "execution_count": null,
   "id": "eec64f8b-6b40-4c37-af57-5d980b516230",
   "metadata": {},
   "outputs": [],
   "source": [
    "# Skipping an iteration\n",
    "for num in range(10):\n",
    "    if num % 2 == 0:\n",
    "        continue  # Skip even numbers\n",
    "    print(num)  # This will only print odd numbers\n"
   ]
  },
  {
   "cell_type": "markdown",
   "id": "155e8ec7-547b-41f4-b6f6-6e6e719c198c",
   "metadata": {},
   "source": [
    "<div style=\"background-color: lightgreen; color: black; padding: 10px;\">\n",
    "    <h1>Let's create a simple games\n",
    "</h1> </div>"
   ]
  },
  {
   "cell_type": "markdown",
   "id": "d80d5534-eb1c-4f74-a473-688262a5a509",
   "metadata": {},
   "source": [
    "But before we do that, let's understand one very small thing first."
   ]
  },
  {
   "cell_type": "markdown",
   "id": "57c16236-3739-4dfb-950c-c38418920048",
   "metadata": {},
   "source": [
    "## Taking input from users"
   ]
  },
  {
   "cell_type": "markdown",
   "id": "97149b83-6df5-4da8-b019-ac356c418181",
   "metadata": {},
   "source": [
    "The `input()` function reads a line from the input (usually from the keyboard) and returns it as a string. \n",
    "You can also provide a prompt message to guide the user."
   ]
  },
  {
   "cell_type": "code",
   "execution_count": null,
   "id": "8f87a3cb-4709-43b7-80bb-00e9fde4c550",
   "metadata": {},
   "outputs": [],
   "source": [
    "user_input = input(\"Enter your prompt here: \")"
   ]
  },
  {
   "cell_type": "code",
   "execution_count": null,
   "id": "9f1c28fe-49c9-4d19-95ec-c9afa8155a5e",
   "metadata": {},
   "outputs": [],
   "source": [
    "name = input(\"What is your name? \")\n",
    "print(f\"Hello, {name}!\")\n",
    "\n",
    "age = int(input(\"How old are you? \"))  # Converts the input to an integer\n",
    "print(f\"You are {age} years old.\")"
   ]
  },
  {
   "cell_type": "markdown",
   "id": "6ff16fd1-905d-48fb-8ef1-349c910abdbf",
   "metadata": {},
   "source": [
    "<div style=\"background-color: lightgreen; color: black; padding: 4px;\">\n",
    "    <h4>Game 1 - Rock, Paper, Scissor \n",
    "</h4> </div>"
   ]
  },
  {
   "cell_type": "code",
   "execution_count": null,
   "id": "7060b45a-663f-4b34-81a7-eaf9fb5714e9",
   "metadata": {},
   "outputs": [],
   "source": [
    "import random #Command to import packages (pre-made libraries of code)\n",
    "\n",
    "# Define the choices\n",
    "choices = [\"rock\", \"paper\", \"scissors\"]\n",
    "\n",
    "# Random choice for the computer\n",
    "computer_choice = random.choice(choices)\n",
    "\n",
    "# Player input\n",
    "player_choice = input(\"Enter rock, paper, or scissors: \").lower()\n",
    "\n",
    "# Determine the winner\n",
    "if player_choice == computer_choice:\n",
    "    print(f\"Both chose {player_choice}. It's a tie!\")\n",
    "elif (player_choice == \"rock\" and computer_choice == \"scissors\") or \\\n",
    "     (player_choice == \"scissors\" and computer_choice == \"paper\") or \\\n",
    "     (player_choice == \"paper\" and computer_choice == \"rock\"):\n",
    "    print(f\"You chose {player_choice} and the computer chose {computer_choice}. You win!\")\n",
    "else:\n",
    "    print(f\"You chose {player_choice} and the computer chose {computer_choice}. You lose!\")"
   ]
  },
  {
   "cell_type": "markdown",
   "id": "68d5d19e-c658-4467-8871-7f064f077bbe",
   "metadata": {},
   "source": [
    "<div style=\"background-color: lightgreen; color: black; padding: 4px;\">\n",
    "    <h4>Game 2 - Guess the number! \n",
    "</h4> </div>"
   ]
  },
  {
   "cell_type": "code",
   "execution_count": null,
   "id": "cedfce6d-2e23-4b31-bac3-4533cdab9936",
   "metadata": {},
   "outputs": [],
   "source": [
    "import random\n",
    "\n",
    "# Computer picks a random number between 1 and 10\n",
    "secret_number = random.randint(1, 10)\n",
    "\n",
    "# Player's guess\n",
    "while True:\n",
    "    guess = int(input(\"Guess the number (between 1 and 10): \"))\n",
    "    \n",
    "    if guess == secret_number:\n",
    "        print(\"Correct! You guessed the number.\")\n",
    "        break\n",
    "    else:\n",
    "        print(\"Try again!\")"
   ]
  },
  {
   "cell_type": "markdown",
   "id": "b69ed7ea-1940-434d-bb2d-601d07994783",
   "metadata": {},
   "source": [
    "<div style=\"background-color: lightblue; color: white; padding: 10px; text-align: center;\">\n",
    "    <h1>____________________________________________________________________\n",
    "</h1> </div>"
   ]
  },
  {
   "cell_type": "markdown",
   "id": "01ede1e3-7668-4ca3-bb69-64344a1e070b",
   "metadata": {},
   "source": [
    "<div class=\"alert alert-block alert-warning\">\n",
    "    <b><font size=\"5\"> Live Exercise</font> </b>\n",
    "</div>"
   ]
  },
  {
   "cell_type": "markdown",
   "id": "8bc1cea8-d999-464a-9ed1-d760c38a57fb",
   "metadata": {},
   "source": [
    "Now it's your turn!\n",
    "### Task 1: Simple Voting Eligibility Check\n",
    "- Task: Write a program that checks if a user is eligible to vote.\n",
    "\n",
    "- Instructions:\n",
    "\n",
    "    - Ask the user for their age and use a conditional statement to check if they are at least 18 years old.\n",
    "    - Print a message indicating whether they are eligible to vote or not.\n",
    "\n",
    "### Task 2: Create a simple calculator\n",
    "- Task: Create a simple calculator that performs basic arithmetic operations.\n",
    "\n",
    "- Instructions:\n",
    "    - Prompt the user for two numbers and an operation (addition, subtraction, multiplication, or division).\n",
    "    - Use conditional statements to perform the requested operation and display the result.\n",
    "\n"
   ]
  },
  {
   "cell_type": "markdown",
   "id": "13e86481-eae2-4019-9515-66a43a30f0fb",
   "metadata": {},
   "source": [
    "<div style=\"background-color: #002147; color: #fff; padding: 30px; text-align: center;\">\n",
    "    <h1>THANK YOU!\n",
    "</h1> </div>"
   ]
  },
  {
   "cell_type": "markdown",
   "id": "eabe4e17-193c-4895-b4a3-b71f577ac7e1",
   "metadata": {},
   "source": [
    "<div class=\"alert alert-block alert-warning\"  padding: 10px; text-align: center;\">\n",
    "    <font size=\"3\"> Programming Questions</font>\n",
    "</div>"
   ]
  },
  {
   "cell_type": "markdown",
   "id": "71beb3fb-e8c2-4063-bda5-844fae4212fb",
   "metadata": {},
   "source": [
    "1. Find the Maximum and Minimum of a List\n",
    "    - Question: Given a list of numbers, find the maximum and minimum values.\n",
    "\n",
    "2. Check for Prime Number\n",
    "    - Question: Write a function to check if a given number is a prime number.\n",
    "    \n",
    "3. Factorial of a Number\n",
    "    - Question: Compute the factorial of a given number using recursion.\n",
    "    \n",
    "4. Fibonacci Sequence\n",
    "    - Question: Generate the Fibonacci sequence up to a given number of terms.\n",
    "    \n",
    "5. Sum of Digits\n",
    "    - Question: Write a function to calculate the sum of digits of a given integer.\n",
    "\n",
    "6. Convert Decimal to Binary\n",
    "    - Question: Convert a decimal number to its binary representation.\n",
    "        \n",
    "7. Greatest Common Divisor (GCD)\n",
    "    - Question: Compute the greatest common divisor of two numbers using Euclid’s algorithm.\n",
    "        \n",
    "8. Find the Second Largest Number in a List\n",
    "    - Question: Given a list of numbers, find the second largest number.\n",
    "        \n",
    "9. Count the Number of Digits in a Number\n",
    "     - Question: Count the number of digits in a given integer.\n",
    "        \n",
    "10. Check if a Number is a Power of Two\n",
    "    - Question: Determine if a given number is a power of two."
   ]
  }
 ],
 "metadata": {
  "kernelspec": {
   "display_name": "Python 3 (ipykernel)",
   "language": "python",
   "name": "python3"
  },
  "language_info": {
   "codemirror_mode": {
    "name": "ipython",
    "version": 3
   },
   "file_extension": ".py",
   "mimetype": "text/x-python",
   "name": "python",
   "nbconvert_exporter": "python",
   "pygments_lexer": "ipython3",
   "version": "3.12.4"
  }
 },
 "nbformat": 4,
 "nbformat_minor": 5
}
