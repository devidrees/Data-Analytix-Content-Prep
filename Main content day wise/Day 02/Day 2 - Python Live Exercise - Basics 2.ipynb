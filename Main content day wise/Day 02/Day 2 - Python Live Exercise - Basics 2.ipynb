{
 "cells": [
  {
   "cell_type": "markdown",
   "id": "1ab8b20b-9024-402c-b3c9-b89e914426ea",
   "metadata": {},
   "source": [
    "<!--- Mohammad Idrees Bhat | Tech Skills Trainer | AI/ML Consultant --->"
   ]
  },
  {
   "cell_type": "markdown",
   "id": "672a7ace-9b40-4381-a35b-6b78b40cf3ef",
   "metadata": {},
   "source": [
    "<div style=\"background-color: #add8e6; padding: 10px; height: 70px; border-radius: 15px;\">\n",
    "    <div style=\"font-family: 'Georgia', serif; font-size: 20px; padding: 10px; text-align: right; position: absolute; right: 20px;\">\n",
    "        Mohammad Idrees Bhat<br>\n",
    "        <span style=\"font-family: 'Arial', sans-serif;font-size: 12px; color: #0a0a0a;\">Tech Skills Trainer | AI/ML Consultant</span>\n",
    "    </div>\n",
    "</div>"
   ]
  },
  {
   "cell_type": "markdown",
   "id": "01ede1e3-7668-4ca3-bb69-64344a1e070b",
   "metadata": {},
   "source": [
    "<div class=\"alert alert-block alert-warning\">\n",
    "    <b><font size=\"5\"> Live Exercise</font> </b>\n",
    "</div>"
   ]
  },
  {
   "cell_type": "markdown",
   "id": "8bc1cea8-d999-464a-9ed1-d760c38a57fb",
   "metadata": {},
   "source": [
    "Now it's your turn!\n",
    "### Task 1: Simple Voting Eligibility Check\n",
    "- Task: Write a program that checks if a user is eligible to vote.\n",
    "\n",
    "- Instructions:\n",
    "\n",
    "    - Ask the user for their age and use a conditional statement to check if they are at least 18 years old.\n",
    "    - Print a message indicating whether they are eligible to vote or not.\n",
    "\n",
    "### Task 2: Create a simple calculator\n",
    "- Task: Create a simple calculator that performs basic arithmetic operations.\n",
    "\n",
    "- Instructions:\n",
    "    - Prompt the user for two numbers and an operation (addition, subtraction, multiplication, or division).\n",
    "    - Use conditional statements to perform the requested operation and display the result.\n",
    "\n"
   ]
  },
  {
   "cell_type": "markdown",
   "id": "13e86481-eae2-4019-9515-66a43a30f0fb",
   "metadata": {},
   "source": [
    "<div style=\"background-color: #002147; color: #fff; padding: 30px; text-align: center;\">\n",
    "    <h1>THANK YOU!\n",
    "</h1> </div>"
   ]
  },
  {
   "cell_type": "markdown",
   "id": "a1427f05-95b5-4871-b02d-9c7affab1088",
   "metadata": {},
   "source": [
    "<div style=\"background-color: lightgreen; color: #002147; padding: 10px; text-align: center;\">\n",
    "    <h1> Live Exercise Solutions\n",
    "</h1> </div>"
   ]
  },
  {
   "cell_type": "markdown",
   "id": "333b6b3c-2ee3-42a2-9323-c4ebf0c4c3f7",
   "metadata": {},
   "source": [
    "### Simple Voting Eligibility Check"
   ]
  },
  {
   "cell_type": "code",
   "execution_count": null,
   "id": "65105047-6bd9-417a-8505-f9432bfd1c5d",
   "metadata": {},
   "outputs": [],
   "source": [
    "# Input age\n",
    "age = int(input(\"Enter your age: \"))\n",
    "\n",
    "# Eligibility check\n",
    "if age >= 18:\n",
    "    print(\"You are eligible to vote.\")\n",
    "else:\n",
    "    print(\"You are not eligible to vote.\")\n"
   ]
  },
  {
   "cell_type": "markdown",
   "id": "c026e0fc-6b61-4ffb-99ea-003a3f9553d3",
   "metadata": {},
   "source": [
    "### Simple Calculator\n",
    "This is a basic calculator that performs addition, subtraction, multiplication, and division based on the user's input. It’s a practical exercise for handling input, conditionals, and basic operations."
   ]
  },
  {
   "cell_type": "code",
   "execution_count": null,
   "id": "85c548e7-344d-40ee-9bda-9e1bd713df64",
   "metadata": {},
   "outputs": [],
   "source": [
    "# Simple calculator\n",
    "print(\"Welcome to the simple calculator!\")\n",
    "print(\"Choose an operation: +, -, *, /\")\n",
    "\n",
    "# User input for the operation\n",
    "operation = input(\"Enter operation: \")\n",
    "\n",
    "# User input for two numbers\n",
    "num1 = float(input(\"Enter first number: \"))\n",
    "num2 = float(input(\"Enter second number: \"))\n",
    "\n",
    "# Perform the chosen operation\n",
    "if operation == \"+\":\n",
    "    result = num1 + num2\n",
    "elif operation == \"-\":\n",
    "    result = num1 - num2\n",
    "elif operation == \"*\":\n",
    "    result = num1 * num2\n",
    "elif operation == \"/\":\n",
    "    result = num1 / num2\n",
    "else:\n",
    "    result = \"Invalid operation\"\n",
    "\n",
    "print(f\"The result is: {result}\")"
   ]
  }
 ],
 "metadata": {
  "kernelspec": {
   "display_name": "Python 3 (ipykernel)",
   "language": "python",
   "name": "python3"
  },
  "language_info": {
   "codemirror_mode": {
    "name": "ipython",
    "version": 3
   },
   "file_extension": ".py",
   "mimetype": "text/x-python",
   "name": "python",
   "nbconvert_exporter": "python",
   "pygments_lexer": "ipython3",
   "version": "3.12.4"
  }
 },
 "nbformat": 4,
 "nbformat_minor": 5
}
