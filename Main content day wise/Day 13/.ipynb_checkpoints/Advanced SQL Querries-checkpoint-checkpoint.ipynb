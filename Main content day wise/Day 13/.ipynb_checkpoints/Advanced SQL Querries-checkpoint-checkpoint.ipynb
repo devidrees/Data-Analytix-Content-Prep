{
 "cells": [
  {
   "cell_type": "markdown",
   "id": "8c4bc666-34a1-47b6-8018-1ad79dafae95",
   "metadata": {},
   "source": [
    "<div style=\"background-color: #add8e6; padding: 10px; height: 70px; border-radius: 15px;\">\n",
    "    <div style=\"font-family: 'Georgia', serif; font-size: 20px; padding: 10px; text-align: right; position: absolute; right: 20px;\">\n",
    "        Mohammad Idrees Bhat <br>\n",
    "        <span style=\"font-family: 'Arial', sans-serif;font-size: 12px; color: #0a0a0a;\">Tech Skills Trainer | AI/ML Consultant</span> <!--- Mohammad Idrees Bhat | Tech Skills Trainer | AI/ML Consultant --->\n",
    "    </div>\n",
    "</div>"
   ]
  },
  {
   "cell_type": "markdown",
   "id": "ef444d2e-97e9-49a8-bf3d-0119a2dfebb5",
   "metadata": {},
   "source": [
    "<!--- Mohammad Idrees Bhat | Tech Skills Trainer | AI/ML Consultant --->"
   ]
  },
  {
   "cell_type": "markdown",
   "id": "151ad3d8-0bce-4e29-86da-5ea91b5a69df",
   "metadata": {},
   "source": [
    "<div style=\"background-color: #002147; padding: 10px; text-align: center; color: white; font-size: 32px; font-family: 'Arial', sans-serif;\">\n",
    "    Advanced SQL <br>\n",
    "    <h3 style=\"text-align: center; color: white; font-size: 15px; font-family: 'Arial', sans-serif;\">Joins, subqueries, window functions.</h3>\n",
    "</div>"
   ]
  },
  {
   "cell_type": "markdown",
   "id": "155e8ec7-547b-41f4-b6f6-6e6e719c198c",
   "metadata": {},
   "source": [
    "<div style=\"color: black; padding: 10px;\">\n",
    "    <h4><b>Skills Covered</b> <p><p>\n",
    "        \n",
    "1.  Complex SQL querying techniques.<p><p> \n",
    "2.  Advanced joins, including self and recursive joins. <p>\n",
    "3.  Writing and optimizing subqueries (simple and correlated). <p>\n",
    "4.  Use of window functions for analytical queries. <p> \n",
    "5.  Efficient data retrieval with partitioning and window functions. <p> \n",
    "</h4> </div>"
   ]
  },
  {
   "cell_type": "markdown",
   "id": "ab230408-3102-4ee4-9138-ecc3a8c0e542",
   "metadata": {},
   "source": [
    "<div style=\"background-color: #fff; color: black; padding: 10px;\">\n",
    "    <h4><b>Learning Outcomes</b> <p><p>\n",
    "1.  Students will be able to perform complex joins in SQL, including self-joins and recursive joins.<p><p> \n",
    "2.  Students will write and use subqueries in various SQL clauses (SELECT, WHERE, FROM).<p>\n",
    "3.  Students will understand and apply window functions like ROW_NUMBER(), RANK(), and LAG(). <p>\n",
    "4.  Students will develop skills to query and analyze large datasets efficiently using advanced SQL techniques.<p> \n",
    "5.  Students will gain the ability to design and optimize complex SQL queries for real-world applications.<p> \n",
    "</h4> </div>"
   ]
  },
  {
   "cell_type": "markdown",
   "id": "f8978fea-cbf0-4fc7-b62e-58e2f0297b44",
   "metadata": {},
   "source": [
    "<div style=\"background-color: #fff; color: black; padding: 10px;\">\n",
    "    <h4><b>AGENDA</b> <p><p>\n",
    "1.  SQL Basics - SQL Joins.<p><p> \n",
    "2.  Correlated subqueries in SELECT, WHERE, and FROM clauses. <p>\n",
    "3.  Window functions, Cumulative sums and ranking <p> \n",
    "5.  Hands-on examples using real-world data. <p> \n",
    "</h4> </div>"
   ]
  },
  {
   "cell_type": "markdown",
   "id": "19b1c30b-e766-4658-8d70-1b0af10ae2f4",
   "metadata": {},
   "source": [
    "<!-- Link the Montserrat font -->\n",
    "<link href=\"https://fonts.googleapis.com/css2?family=Montserrat:wght@700&display=swap\" rel=\"stylesheet\">\n",
    "\n",
    "<!-- Main div with centered content and a flexible box size, no scroll bar -->\n",
    "<div style=\"background-color: #baf733; min-height: 100px; width: 100%; display: flex; justify-content: center; align-items: center; position: relative; padding: 20px; box-sizing: border-box; font-family: 'Montserrat', sans-serif; font-weight: 700; font-size: 20px; border-radius: 15px;\">\n",
    "    <div style=\"position: absolute; top: 10px; right: 10px; padding: 5px 10px; font-size: 14px; color: rgba(0, 0, 0, 0.05); border-radius: 10px;\">Mohammad Idrees Bhat</div>\n",
    "    <!-- Fill the below text with question -->\n",
    "    <!-- Fill the below text with question -->\n",
    "    What’s something about Nepal you find yourself explaining to your American friends?\n",
    "    <!-- Fill the above text with question -->\n",
    "    <!-- Fill the above text with question -->\n",
    "\n",
    "</div>"
   ]
  },
  {
   "cell_type": "markdown",
   "id": "6a27720c-32cb-44c7-a037-fc7a77b6fcc9",
   "metadata": {},
   "source": [
    "<div style=\"background-color: lightgreen; color: black; padding: 4px;\">\n",
    "    <h3>1. SQL Basics - SQL Joins.\n",
    "</h3> </div>"
   ]
  },
  {
   "cell_type": "markdown",
   "id": "28962ca7-3365-43cc-8378-ecd0c5fe0917",
   "metadata": {},
   "source": [
    "<div style=\"background-color: lightblue; color: black; padding: 4px;\">\n",
    "    <h4> Introduction to Data and database management\n",
    "</h4> </div>"
   ]
  },
  {
   "cell_type": "markdown",
   "id": "7285386e-c68b-4c9b-af08-0d18fe2dc368",
   "metadata": {},
   "source": [
    "A **database** is an organized collection of data, typically stored electronically. It allows efficient data management and retrieval, ensuring data is stored in a structured and easily accessible way.\n",
    "\n",
    "Databases allow for efficient data storage, retrieval, and management, enabling users to work with large volumes of data effectively."
   ]
  },
  {
   "cell_type": "markdown",
   "id": "da438ee5-fdb2-4a37-94d4-c1e788a12bfc",
   "metadata": {},
   "source": [
    "#### **Ways to Work with Database Data and Tables**\n",
    "\n",
    "1. **Inserting Data**: Add new data into a table using SQL commands like `INSERT`.\n",
    "2. **Retrieving Data**: Query and retrieve data using `SELECT` statements, applying filters and sorting.\n",
    "3. **Updating Data**: Modify existing data with the `UPDATE` command.\n",
    "4. **Deleting Data**: Remove data from tables using `DELETE`.\n",
    "5. **Joining Tables**: Combine data from multiple tables using `JOIN` operations to gather comprehensive insights.\n",
    "\n",
    "---"
   ]
  },
  {
   "cell_type": "markdown",
   "id": "771a92af-8548-4ef3-a2fe-3e521600b08e",
   "metadata": {},
   "source": [
    "#### Relational Databases (RDBMS)\n",
    "\n",
    "A **relational database** organizes data into tables (also known as relations) where each row represents a record, and each column represents an attribute of the data. \n",
    "\n",
    "These databases use **SQL (Structured Query Language)** for managing and querying data and are based on the concept of relationships between tables.\n",
    "\n",
    "---"
   ]
  },
  {
   "cell_type": "markdown",
   "id": "dbfc0bb4-2f07-4aae-a123-37d35af63824",
   "metadata": {},
   "source": [
    "#### Other Types of Databases\n",
    "\n",
    "1. **NoSQL Databases**: These databases handle large amounts of unstructured or semi-structured data, like key-value stores (e.g., MongoDB, Cassandra).\n",
    "2. **Object-Oriented Databases**: Stores data as objects, similar to object-oriented programming (e.g., db4o, ObjectDB).\n",
    "3. **Graph Databases**: Focus on relationships between entities and represent them as nodes connected by edges (e.g., Neo4j).\n",
    "4. **Column-Oriented Databases**: Store data in columns rather than rows for fast retrieval in analytical queries (e.g., Apache Cassandra, HBase).\n",
    "\n",
    "---"
   ]
  },
  {
   "cell_type": "markdown",
   "id": "e10f8aa6-b985-46bb-aaed-6e70fd2046cf",
   "metadata": {},
   "source": [
    "#### Versions of SQL\n",
    "\n",
    "1. **MySQL**: Open-source, widely used for web applications due to its speed and flexibility.\n",
    "2. **PostgreSQL**: An open-source relational database known for advanced features and strict adherence to SQL standards.\n",
    "3. **SQLite**: A lightweight, serverless database often embedded within applications for local data storage.\n",
    "4. **SQL Server**: Microsoft's relational database with deep integration into Windows environments.\n",
    "5. **Oracle SQL**: A robust, enterprise-grade SQL used in large-scale applications with powerful tools for transaction management and optimization."
   ]
  },
  {
   "cell_type": "markdown",
   "id": "c4093e96-bdbb-42f2-85b7-b74267a7cd03",
   "metadata": {},
   "source": [
    "#### **Why PostgreSQL?**\n",
    "\n",
    "We are using **PostgreSQL** here for its balance of advanced features, reliability, and ease of use. (considering that we need to be beginner friendly too) \n",
    "\n",
    "It's a powerful open-source relational database that adheres strictly to SQL standards, making it great for learning complex queries like **joins**, **subqueries**, and **window functions**.\n",
    "\n",
    "Unlike other database systems like **Oracle** or **SQL Server**, which can be heavy to install and configure, PostgreSQL is lightweight and straightforward. It offers advanced capabilities without overwhelming students with unnecessary complexity, making it ideal for learning and later scaling to more complex systems.\n",
    "\n",
    "Additionally, **SQLite** may be too limited for some advanced features (like certain window functions), while PostgreSQL handles them efficiently. Which is why we didn't  choose to continue working with SQLite.\n"
   ]
  },
  {
   "cell_type": "markdown",
   "id": "9cc9b4e9-bc75-48d4-853e-b176194e1581",
   "metadata": {},
   "source": [
    "<div style=\"background-color: lightblue; color: black; padding: 4px;\">\n",
    "    <h4> Databases and Tables\n",
    "</h4> </div>"
   ]
  },
  {
   "cell_type": "markdown",
   "id": "8f343ede-8b92-4055-abee-3fcfd84c465b",
   "metadata": {},
   "source": [
    "### 1. **Create a Database**\n",
    "\n",
    "First, we need to create a database in PostgreSQL that we will use for all our queries throughout the class. For this example, let's create a fun and engaging **Movie Database** where we'll manage information about movies, actors, and directors.\n",
    "\n",
    "```sql\n",
    "CREATE DATABASE moviedb;"
   ]
  },
  {
   "cell_type": "markdown",
   "id": "2e408c67-f44a-41ee-b671-72800acb5ac6",
   "metadata": {},
   "source": [
    "To start using the database, we need to connect to it:\n",
    "\n",
    "```sql\n",
    "\\c moviedb;"
   ]
  },
  {
   "cell_type": "markdown",
   "id": "e710ef33-550d-4fbb-b41b-95382531c9ad",
   "metadata": {},
   "source": [
    "### 2. **Creating Tables**\n",
    "\n",
    "Next, we’ll create some tables for the Movie Database:\n",
    "\n",
    "- movies: Stores details about different movies.\n",
    "- actors: Stores information about actors.\n",
    "- directors: Stores information about directors.\n",
    "- movie_cast: Links movies to actors.\n",
    "- movie_directors: Links movies to directors.\n",
    "\n",
    "##### Movies table\n",
    "```sql\n",
    "CREATE TABLE movies (\n",
    "    movie_id SERIAL PRIMARY KEY,\n",
    "    title VARCHAR(100) NOT NULL,\n",
    "    release_year INT,\n",
    "    genre VARCHAR(50)\n",
    ");"
   ]
  },
  {
   "cell_type": "markdown",
   "id": "348e5a26-6b96-4274-aa7f-f46a155ca93c",
   "metadata": {},
   "source": [
    "#### a. **Primary Key**\n",
    "A **primary key** is a column (or set of columns) in a table that uniquely identifies each row in that table. It ensures that no two rows have the same value for this column, maintaining data integrity. A primary key cannot have `NULL` values.\n",
    "\n",
    "##### **Example:**\n",
    "In the `movies` table, `movie_id` is the primary key. \n",
    "\n",
    "Each movie has a unique `movie_id` to identify it.\n"
   ]
  },
  {
   "cell_type": "markdown",
   "id": "ea74cfef-0d03-4b88-8021-13ac55c5e421",
   "metadata": {},
   "source": [
    "##### Actor table\n",
    "```sql\n",
    "CREATE TABLE actors (\n",
    "    actor_id SERIAL PRIMARY KEY,\n",
    "    first_name VARCHAR(50),\n",
    "    last_name VARCHAR(50),\n",
    "    birthdate DATE\n",
    ");"
   ]
  },
  {
   "cell_type": "markdown",
   "id": "ba3300ec",
   "metadata": {},
   "source": [
    "#### b. **Foreign Key**\n",
    "A **foreign key** is a column (or set of columns) in one table that refers to the **primary key** in another table. \n",
    "\n",
    "It establishes a relationship between two tables, enforcing referential integrity — meaning the foreign key value must correspond to an existing primary key value in the referenced table.\n",
    "\n",
    "##### **Example:**\n",
    "In the `movie_cast table`, `movie_id` and `actor_id` are foreign keys, referring to the `movie_id` in the `movies` table and the `actor_id` in the `actors` table. \n",
    "\n",
    "This ensures that the movie and actor exist in their respective tables before we can link them in `movie_cast`.\n",
    "\n",
    "It's like saying, \"I can only use movie IDs that are already in the movies table.\"\n"
   ]
  },
  {
   "cell_type": "markdown",
   "id": "4917bb2a-b4b8-4ff0-9891-0b5872d93b0d",
   "metadata": {},
   "source": [
    "##### movie_cast table\n",
    "```sql\n",
    "CREATE TABLE movie_cast (\n",
    "    movie_id INT REFERENCES movies(movie_id), \n",
    "    actor_id INT REFERENCES actors(actor_id),\n",
    "    role VARCHAR(100),\n",
    "    PRIMARY KEY (movie_id, actor_id)\n",
    ");"
   ]
  },
  {
   "cell_type": "markdown",
   "id": "73a7bae5-dced-4ebb-8e6a-686ca053d38c",
   "metadata": {},
   "source": [
    "Primary Key ensures that each record in a table is unique and can be retrieved efficiently.\n",
    "\n",
    "Foreign Key establishes relationships between tables, ensuring that data is consistently linked and enforcing referential integrity."
   ]
  },
  {
   "cell_type": "markdown",
   "id": "75beefa1-57ba-4327-aab6-35e0fc3eaf53",
   "metadata": {},
   "source": [
    "##### Directors table\n",
    "```sql\n",
    "CREATE TABLE directors (\n",
    "    director_id SERIAL PRIMARY KEY,\n",
    "    first_name VARCHAR(50),\n",
    "    last_name VARCHAR(50),\n",
    "    birthdate DATE\n",
    ");"
   ]
  },
  {
   "cell_type": "markdown",
   "id": "152a3624-4b92-4de9-8516-152b179bf419",
   "metadata": {},
   "source": [
    "##### movie_directors table\n",
    "```sql\n",
    "CREATE TABLE movie_directors (\n",
    "    movie_id INT REFERENCES movies(movie_id),\n",
    "    director_id INT REFERENCES directors(director_id),\n",
    "    PRIMARY KEY (movie_id, director_id)\n",
    ");"
   ]
  },
  {
   "cell_type": "markdown",
   "id": "a0e3dfd5-4d36-4ade-9584-975425db32e1",
   "metadata": {},
   "source": [
    "<div style=\"background-color: lightblue; color: black; padding: 4px;\">\n",
    "    <h4> Basic SQL Queries - Inserting, Updating, Deleting\n",
    "</h4> </div>"
   ]
  },
  {
   "cell_type": "markdown",
   "id": "6a478708-78a0-4a20-90f4-8c2f1bca2d2d",
   "metadata": {},
   "source": [
    "#### 1. **Inserting Data into a Table**\n",
    "\n",
    "To add data into a table, we use the `INSERT INTO` statement. \n",
    "\n",
    "This statement allows us to add a new record (row) to the table. You can either specify the values for all columns or only for specific ones.\n"
   ]
  },
  {
   "cell_type": "markdown",
   "id": "e07bd479",
   "metadata": {},
   "source": [
    "**Syntax for Insert:**\n",
    "\n",
    "```sql\n",
    "INSERT INTO table_name (column1, column2, column3, ...)\n",
    "VALUES (value1, value2, value3, ...);"
   ]
  },
  {
   "cell_type": "markdown",
   "id": "cb1ba9b7",
   "metadata": {},
   "source": [
    "**Example:**\n",
    "**Insert data into the `movies` table**\n",
    "\n",
    "```sql\n",
    "INSERT INTO movies (title, release_year, genre)\n",
    "VALUES ('Inception', 2010, 'Sci-Fi'),\n",
    "       ('The Dark Knight', 2008, 'Action'),\n",
    "       ('The Matrix', 1999, 'Action');"
   ]
  },
  {
   "cell_type": "markdown",
   "id": "1d5efa20",
   "metadata": {},
   "source": [
    "Similar method can be used for all the other tables:\n",
    "\n",
    "```sql\n",
    "INSERT INTO actors (first_name, last_name, birthdate)\n",
    "VALUES ('Leonardo', 'DiCaprio', '1974-11-11'),\n",
    "       ('Christian', 'Bale', '1974-01-30'),\n",
    "       ('Keanu', 'Reeves', '1964-09-02');\n",
    "\n",
    "INSERT INTO directors (first_name, last_name, birthdate)\n",
    "VALUES ('Christopher', 'Nolan', '1970-07-30'),\n",
    "       ('Wachowski', 'Brothers', '1967-06-21');\n",
    "\n",
    "-- Establishing the roles of each actor\n",
    "--    Leonardo DiCaprio played the role of Cobb in the movie Inception.\n",
    "--    Christian Bale played the role of Bruce Wayne in The Dark Knight.\n",
    "--    Keanu Reeves played Neo in The Matrix.\n",
    "\n",
    "INSERT INTO movie_cast (movie_id, actor_id, role)\n",
    "VALUES (1, 1, 'Cobb'),\n",
    "       (2, 2, 'Bruce Wayne'),\n",
    "       (3, 3, 'Neo');\n",
    "\n",
    "INSERT INTO movie_directors (movie_id, director_id)\n",
    "VALUES (1, 1), -- Inception by Christopher Nolan\n",
    "       (2, 1), -- The Dark Knight by Christopher Nolan\n",
    "       (3, 2); -- The Matrix by Wachowski Brothers        "
   ]
  },
  {
   "cell_type": "markdown",
   "id": "04c03d97",
   "metadata": {},
   "source": [
    "#### 2. **Updating Data in a Table**\n",
    "\n",
    "To modify existing records, we use the `UPDATE` statement. This allows us to change the values of one or more columns for a specific row or set of rows in a table.\n",
    "\n",
    "**Syntax for Update:**\n",
    "```sql\n",
    "UPDATE table_name\n",
    "SET column1 = value1, column2 = value2\n",
    "WHERE condition;"
   ]
  },
  {
   "cell_type": "markdown",
   "id": "f5a6b384",
   "metadata": {},
   "source": [
    "**Example:**\n",
    "Let’s update the `movies` table. Suppose we need to change the release year of **The Matrix** from 1999 to 2000.\n",
    "\n",
    "```sql\n",
    "UPDATE movies\n",
    "SET release_year = 2000\n",
    "WHERE title = 'The Matrix';"
   ]
  },
  {
   "cell_type": "markdown",
   "id": "70c4616f",
   "metadata": {},
   "source": [
    "`WHERE` keyword is extremely important in SQL, especially when performing operations like **UPDATE** and **DELETE**.\n",
    "\n",
    "**`WHERE`** filters the rows that the SQL command affects.\n",
    "\n",
    "Without `WHERE`, the operation will affect **all rows** in the table, which is usually not desirable.\n",
    "\n",
    "In the example earlier if we do not use `WHERE`, that statement will update the release_year for every record in the movies table to 2023."
   ]
  },
  {
   "cell_type": "markdown",
   "id": "7b20717d",
   "metadata": {},
   "source": [
    "#### 3. **Deleting Data from a Table**\n",
    "\n",
    "To remove records from a table, we use the `DELETE` statement. This statement removes one or more rows from the table based on a condition.\n",
    "\n",
    "**Syntax for Delete:**\n",
    "```sql\n",
    "DELETE FROM table_name\n",
    "WHERE condition;"
   ]
  },
  {
   "cell_type": "markdown",
   "id": "41d4ca85",
   "metadata": {},
   "source": [
    "**Example:**\n",
    "Let’s say we want to delete the movie The Dark Knight from the `movies` table\n",
    "\n",
    "```sql\n",
    "DELETE FROM movies\n",
    "WHERE title = 'The Dark Knight';"
   ]
  },
  {
   "cell_type": "markdown",
   "id": "3d6259d4",
   "metadata": {},
   "source": [
    "To drop **(remove) a column** from a table in PostgreSQL, you can use the `ALTER TABLE` command with the `DROP COLUMN` clause.\n",
    "\n",
    "```sql\n",
    "ALTER TABLE table_name\n",
    "DROP COLUMN column_name;\n",
    "```"
   ]
  },
  {
   "cell_type": "markdown",
   "id": "f7c0a1e4",
   "metadata": {},
   "source": [
    "**Example:** You can drop multiple columns in one go by separating them with commas:\n",
    "```sql\n",
    "ALTER TABLE movies\n",
    "DROP COLUMN release_year, \n",
    "DROP COLUMN genre;\n",
    "```"
   ]
  },
  {
   "cell_type": "markdown",
   "id": "b104cef5",
   "metadata": {},
   "source": [
    "To drop **remove (delete) a row** from a table in PostgreSQL, you can use the `DELETE` command with the `WHERE` clause.\n",
    "\n",
    "```sql\n",
    "DELETE FROM table_name\n",
    "WHERE condition;\n",
    "```"
   ]
  },
  {
   "cell_type": "markdown",
   "id": "071d037a",
   "metadata": {},
   "source": [
    "**Example:** Suppose you have a movies table and you want to delete the row where the movie_id is 5. You can run:\n",
    "```sql\n",
    "DELETE FROM movies\n",
    "WHERE movie_id = 5;\n",
    "```\n",
    "Removing multiple rows at once:\n",
    "```sql\n",
    "DELETE FROM movies\n",
    "WHERE release_year < 2000;\n",
    "```\n",
    "\n",
    "Removing multiple rows using operations:\n",
    "```sql\n",
    "DELETE FROM movies\n",
    "WHERE release_year > 200 and release_year < 300;\n",
    "```"
   ]
  },
  {
   "cell_type": "markdown",
   "id": "449f867c",
   "metadata": {},
   "source": [
    "#### 4. **Modifying Table Structure (Adding Keys)** **[Advanced/Optional]**\n",
    "\n",
    "If you forgot to add a primary key or foreign key when creating a table, you can modify the table structure using the `ALTER TABLE` statement.\n"
   ]
  },
  {
   "cell_type": "markdown",
   "id": "e967b127",
   "metadata": {},
   "source": [
    "**Syntax for Alter (Primary key):**\n",
    "```sql\n",
    "ALTER TABLE table_name\n",
    "ADD CONSTRAINT constraint_name PRIMARY KEY (column_name);\n",
    "```\n",
    "**Example:**\n",
    "Suppose we forgot to add a primary key to the actors table on the actor_id column. We can add it using the following query:\n",
    "\n",
    "```sql\n",
    "ALTER TABLE actors\n",
    "ADD CONSTRAINT pk_actor_id PRIMARY KEY (actor_id);"
   ]
  },
  {
   "cell_type": "markdown",
   "id": "d8880c3a",
   "metadata": {},
   "source": [
    "**Syntax for Alter (Foreign key):**\n",
    "```sql\n",
    "ALTER TABLE table_name\n",
    "ADD CONSTRAINT constraint_name FOREIGN KEY (column_name) REFERENCES referenced_table(referenced_column);\n",
    "```\n",
    "\n",
    "**Example:**\n",
    "Let’s say the movie_cast table doesn’t have the foreign key constraints linking movie_id and actor_id to the respective tables. You can add them as follows:\n",
    "\n",
    "```sql\n",
    "ALTER TABLE movie_cast\n",
    "ADD CONSTRAINT fk_movie FOREIGN KEY (movie_id) REFERENCES movies(movie_id),\n",
    "ADD CONSTRAINT fk_actor FOREIGN KEY (actor_id) REFERENCES actors(actor_id);"
   ]
  },
  {
   "cell_type": "markdown",
   "id": "08246489",
   "metadata": {},
   "source": [
    "#### 5. **Aggregate Functions in SQL** **[Advanced/Optional]**\n",
    "\n",
    "Aggregate functions are used to perform calculations on a set of values and return a single result. \n",
    "\n",
    "These are extremely useful when working with large datasets to summarize, group, or aggregate data. Examples are Sum, average, minimum, maximum, group by, having, \n",
    "\n",
    "**Syntax:**\n",
    "```sql\n",
    "SELECT COUNT(*) FROM movies;\n",
    "\n",
    "SELECT SUM(revenue) FROM movies;\n",
    "--Adds up all the values in a numeric column.\n",
    "\n",
    "SELECT AVG(rating) FROM movies;\n",
    "-- Returns the average of a numeric column.\n",
    "\n",
    "SELECT MIN(release_year) FROM movies;\n",
    "\n",
    "SELECT MAX(release_year) FROM movies;\n",
    "\n",
    "SELECT release_year, AVG(rating)\n",
    "FROM movies\n",
    "GROUP BY release_year;\n",
    "--groups the movies by their release year and calculates the average rating for each year\n",
    "\n",
    "SELECT release_year, AVG(rating)\n",
    "FROM movies\n",
    "GROUP BY release_year\n",
    "HAVING AVG(rating) > 7;\n",
    "-- will return only the years where the average movie rating is greater than 7"
   ]
  },
  {
   "cell_type": "markdown",
   "id": "094d209b-8431-44a8-8056-a61963aa6c53",
   "metadata": {},
   "source": [
    "<div style=\"background-color: lightblue; color: black; padding: 4px;\">\n",
    "    <h4> JOINS\n",
    "</h4> </div>"
   ]
  },
  {
   "attachments": {
    "image.png": {
     "image/png": "[encoded data removed]"
    }
   },
   "cell_type": "markdown",
   "id": "cbfff1a2",
   "metadata": {},
   "source": [
    "![image.png](attachment:image.png)"
   ]
  },
  {
   "cell_type": "markdown",
   "id": "192b0c8b",
   "metadata": {},
   "source": [
    "Joins are used in SQL to combine data from two or more tables based on a related column between them. \n",
    "\n",
    "Joins allow us to retrieve comprehensive information by linking records from different tables.\n"
   ]
  },
  {
   "cell_type": "markdown",
   "id": "5dc1e0ab",
   "metadata": {},
   "source": [
    "**Types of Joins**\n",
    "\n",
    "There are several types of joins, each useful for different situations. Let's cover the most common ones:\n"
   ]
  },
  {
   "cell_type": "markdown",
   "id": "f5b3e8cc",
   "metadata": {},
   "source": [
    "**1. INNER JOIN**\n",
    "\n",
    "- **Purpose**: Returns only the rows where there is a match in both tables.\n",
    "- **How it works**: The INNER JOIN finds records that have matching values in both tables. If there is no match, those records are excluded from the result.\n",
    "- **Example**:\n",
    "  ```sql\n",
    "    SELECT actors.actor_name, movies.title\n",
    "    FROM actors\n",
    "    INNER JOIN movie_cast ON actors.actor_id = movie_cast.actor_id\n",
    "    INNER JOIN movies ON movie_cast.movie_id = movies.movie_id;\n",
    "\n",
    "  -- returns a list of actors and the movies they appeared in. It only includes actors who have appeared in movies."
   ]
  },
  {
   "cell_type": "markdown",
   "id": "d8a4f027",
   "metadata": {},
   "source": [
    "**2. LEFT JOIN (or LEFT OUTER JOIN)**\n",
    "\n",
    "- **Purpose**: Returns all the rows from the left table and the matched rows from the right table. If there is no match, the result is NULL on the side of the right table.\n",
    "\n",
    "- **How it works**: The LEFT JOIN ensures that all records from the left table are returned, even if there is no matching record in the right table.\n",
    "\n",
    "- **Example:**\n",
    "\n",
    "```sql\n",
    "SELECT actors.actor_name, movies.title\n",
    "FROM actors\n",
    "LEFT JOIN movie_cast ON actors.actor_id = movie_cast.actor_id\n",
    "LEFT JOIN movies ON movie_cast.movie_id = movies.movie_id;\n",
    "--returns a list of actors and the movies they appeared in. If an actor has not appeared in any movie, the movie title will be NULL."
   ]
  },
  {
   "cell_type": "markdown",
   "id": "0eaf0e16",
   "metadata": {},
   "source": [
    "**3. RIGHT JOIN (or RIGHT OUTER JOIN)**\n",
    "\n",
    "- **Purpose**: Returns all the rows from the right table and the matched rows from the left table. If there is no match, the result is NULL on the side of the left table.\n",
    "\n",
    "- **How it works**: The RIGHT JOIN ensures that all records from the right table are returned, even if there is no matching record in the left table.\n",
    "\n",
    "- **Example:**\n",
    "\n",
    "```sql\n",
    "SELECT actors.actor_name, movies.title\n",
    "FROM actors\n",
    "RIGHT JOIN movie_cast ON actors.actor_id = movie_cast.actor_id\n",
    "RIGHT JOIN movies ON movie_cast.movie_id = movies.movie_id;\n",
    "--This query returns a list of movies and their actors. If a movie has no actors associated with it, the actor name will be NULL."
   ]
  },
  {
   "cell_type": "markdown",
   "id": "654c9e57",
   "metadata": {},
   "source": [
    "**4. FULL OUTER JOIN**\n",
    "\n",
    "- **Purpose**: Returns all records when there is a match in either the left or right table. It returns `NULL` for non-matching rows from both tables.\n",
    "\n",
    "- **How it works**: The FULL OUTER JOIN returns all rows from both tables, with `NULL` in places where there is no match.\n",
    "\n",
    "- **Example:**\n",
    "\n",
    "```sql\n",
    "SELECT actors.actor_name, movies.title\n",
    "FROM actors\n",
    "FULL OUTER JOIN movie_cast ON actors.actor_id = movie_cast.actor_id\n",
    "FULL OUTER JOIN movies ON movie_cast.movie_id = movies.movie_id;\n",
    "--This query returns all actors and movies, regardless of whether they match. If an actor has no movies, the movie title will be NULL, and if a movie has no actors, the actor name will be NULL."
   ]
  },
  {
   "cell_type": "markdown",
   "id": "e8397707",
   "metadata": {},
   "source": [
    "**(ADVANCED/OPTIONAL)**"
   ]
  },
  {
   "cell_type": "markdown",
   "id": "c5495f5e",
   "metadata": {},
   "source": [
    "**5. Use of Aliases in Joins**\n",
    "\n",
    "You can simplify table references using aliases for better readability.\n",
    "\n",
    "- **Example:**\n",
    "\n",
    "```sql\n",
    "SELECT a.actor_name, m.title\n",
    "FROM actors a\n",
    "INNER JOIN movie_cast mc ON a.actor_id = mc.actor_id\n",
    "INNER JOIN movies m ON mc.movie_id = m.movie_id;\n",
    "\n",
    "--Here, a, mc, and m are aliases for the actors, movie_cast, and movies tables, respectively. This makes the query shorter and easier to read."
   ]
  },
  {
   "cell_type": "markdown",
   "id": "d4bb25c4",
   "metadata": {},
   "source": [
    "**6. Joins with Multiple Tables**\n",
    "\n",
    "Joins can also be performed between multiple tables.\n",
    "\n",
    "**Example:**\n",
    "\n",
    "```sql\n",
    "SELECT actors.actor_name, movies.title, movie_cast.role\n",
    "FROM actors\n",
    "JOIN movie_cast ON actors.actor_id = movie_cast.actor_id\n",
    "JOIN movies ON movie_cast.movie_id = movies.movie_id;\n",
    "--will return a list of actors, the movies they appeared in, and their role in those movies by combining three tables (actors, movie_cast, and movies)"
   ]
  },
  {
   "cell_type": "markdown",
   "id": "d17cf481",
   "metadata": {},
   "source": [
    "**7. SELF JOIN**\n",
    "\n",
    "**Purpose**: A self join is a regular join but the table is joined with itself.\n",
    "\n",
    "**How it works**: It is useful when we want to relate rows in the same table.\n",
    "\n",
    "- **Example:**\n",
    "\n",
    "```sql\n",
    "SELECT a.actor_name AS actor1, b.actor_name AS actor2\n",
    "FROM actors a\n",
    "INNER JOIN actors b ON a.actor_id <> b.actor_id\n",
    "WHERE a.actor_id = 1;\n",
    "--returns the names of all actors (except the one with actor_id = 1) that are not the same actor, for comparison or analysis."
   ]
  },
  {
   "cell_type": "markdown",
   "id": "c0c1c5fb-c009-43a9-874c-b0a26e93224d",
   "metadata": {},
   "source": [
    "<div style=\"background-color: lightgreen; color: black; padding: 4px;\">\n",
    "    <h3>2. Correlated subqueries in SELECT, WHERE, and FROM clauses.\n",
    "</h3> </div>"
   ]
  },
  {
   "cell_type": "markdown",
   "id": "98a0410b",
   "metadata": {},
   "source": [
    "A subquery (also known as a nested query or inner query) is a query that is embedded inside another query, usually within the WHERE, FROM, or SELECT clauses.\n",
    "\n",
    "A correlated subquery is a subquery that depends on the outer query.\n",
    "\n",
    "Unlike a regular subquery, which can be executed independently, a correlated subquery is evaluated once for each row processed by the outer query."
   ]
  },
  {
   "cell_type": "markdown",
   "id": "fcea23ec",
   "metadata": {},
   "source": [
    "**Sub query Example:**\n",
    "```sql\n",
    "\n",
    "    SELECT employee_name\n",
    "    FROM employees\n",
    "    WHERE department_id = (SELECT department_id FROM departments WHERE department_name = 'Sales');"
   ]
  },
  {
   "cell_type": "markdown",
   "id": "bf9724e3",
   "metadata": {},
   "source": [
    "**Correlated Subquery Example**\n",
    "\n",
    "The inner query cannot run independently. It relies on values from the outer query (e.department_id) for each row.\n",
    "\n",
    "```sql\n",
    "SELECT employee_name\n",
    "FROM employees e\n",
    "WHERE salary > (\n",
    "    SELECT AVG(salary)\n",
    "    FROM employees e2\n",
    "    WHERE e2.department_id = e.department_id\n",
    ");"
   ]
  },
  {
   "cell_type": "markdown",
   "id": "19ffd2b0",
   "metadata": {},
   "source": [
    "<div style=\"background-color: lightblue; color: black; padding: 4px;\">\n",
    "    <h4> Use Cases and examples\n",
    "</h4> </div>"
   ]
  },
  {
   "cell_type": "markdown",
   "id": "04f7b11a",
   "metadata": {},
   "source": [
    "- Finding Records Based on a Condition Related to Other Records: \n",
    "\n",
    "For example, finding actors whose movies have a higher box office collection than a specific value.\n",
    "\n",
    "- Complex Filtering: \n",
    "\n",
    "Correlated subqueries allow for more complex filtering criteria when comparing rows between two tables."
   ]
  },
  {
   "cell_type": "markdown",
   "id": "d64fc3fc",
   "metadata": {},
   "source": [
    "##### Example 1: Find all actors who acted in movies that have a box office collection greater than $500 million.\n"
   ]
  },
  {
   "cell_type": "markdown",
   "id": "18ec499a",
   "metadata": {},
   "source": [
    "```sql\n",
    "SELECT actor_name\n",
    "FROM actors a\n",
    "WHERE EXISTS (\n",
    "    SELECT 1\n",
    "    FROM movies m\n",
    "    WHERE m.movie_id = a.movie_id\n",
    "    AND m.box_office > 500000000\n",
    ");"
   ]
  },
  {
   "cell_type": "markdown",
   "id": "d188ac2a",
   "metadata": {},
   "source": [
    "The subquery checks each movie that the actor is linked to and compares the box office collection. \n",
    "\n",
    "For each actor (outer query), it runs the subquery, checking if the box office collection of their movies exceeds $500 million.\n",
    "\n",
    "---\n"
   ]
  },
  {
   "cell_type": "markdown",
   "id": "1e4601cc",
   "metadata": {},
   "source": [
    "##### Example 2: Get actors who appeared in movies where the release year is greater than the average release year of all movies."
   ]
  },
  {
   "cell_type": "markdown",
   "id": "71e3192b",
   "metadata": {},
   "source": [
    "```sql\n",
    "SELECT actor_name\n",
    "FROM actors a\n",
    "WHERE EXISTS (\n",
    "    SELECT 1\n",
    "    FROM movies m\n",
    "    WHERE m.movie_id = a.movie_id\n",
    "    AND m.release_year > (SELECT AVG(release_year) FROM movies)\n",
    ");"
   ]
  },
  {
   "cell_type": "markdown",
   "id": "4263feb8-f53b-47b2-b4ed-d609ab6a7871",
   "metadata": {},
   "source": [
    "<div style=\"background-color: lightgreen; color: black; padding: 4px;\">\n",
    "    <h3>3. Window functions for advanced analytics.  (Advanced/Optional)\n",
    "</h3> </div>"
   ]
  },
  {
   "cell_type": "markdown",
   "id": "3cf6fbc2",
   "metadata": {},
   "source": [
    "Window functions allow you to perform calculations across a set of table rows that are somehow related to the current row. \n",
    "\n",
    "Unlike aggregate functions, which return a single result for an entire query, window functions return a value for each row, based on a set of rows that are related to the current one."
   ]
  },
  {
   "cell_type": "markdown",
   "id": "7103c49c",
   "metadata": {},
   "source": [
    "**Key Concepts**\n",
    "\n",
    "**Window:** The set of rows that the window function operates on. It is defined using the OVER() clause, which allows specifying how rows should be grouped (e.g., by partitioning and ordering).\n",
    "\n",
    "**Partitioning:** Grouping rows into subsets (partitions) where window functions are applied independently to each subset.\n",
    "\n",
    "**Ordering:** Sorting the rows within each partition, which is useful for functions like ROW_NUMBER() and LEAD()."
   ]
  },
  {
   "cell_type": "markdown",
   "id": "d8cc36d0",
   "metadata": {},
   "source": [
    "#### Common Window Functions"
   ]
  },
  {
   "cell_type": "markdown",
   "id": "1c3d6ce3",
   "metadata": {},
   "source": [
    "### 1. ROW_NUMBER()\n",
    "\n",
    "Assigns a unique sequential integer to rows within a partition of a result set, starting from 1 for the first row in each partition.\n",
    "\n",
    "```sql\n",
    "SELECT actor_name, ROW_NUMBER() OVER (ORDER BY actor_name) AS rank\n",
    "FROM actors;\n",
    "```\n",
    "Use case: You might use ROW_NUMBER() to rank actors alphabetically or in another meaningful order."
   ]
  },
  {
   "cell_type": "markdown",
   "id": "5f66e639",
   "metadata": {},
   "source": [
    "**Example:** Assign a unique rank to each actor, ordered by their salary:\n",
    "\n",
    "```sql\n",
    "SELECT actor_name, salary, \n",
    "ROW_NUMBER() OVER (ORDER BY salary DESC) AS salary_rank\n",
    "FROM actors;"
   ]
  },
  {
   "cell_type": "markdown",
   "id": "0045976d",
   "metadata": {},
   "source": [
    "### 2. RANK()\n",
    "\n",
    "**Rank** is a way of ordering or assigning a position to items (or rows) based on a specific value or criterion. \n",
    "\n",
    "In SQL, you often rank rows based on a column's values using window functions like `RANK()`.\n",
    "\n",
    "Similar to `ROW_NUMBER()`, but it gives the same rank to tied rows and skips the subsequent ranks.\n",
    "\n",
    "```sql\n",
    "SELECT actor_name, RANK() OVER (ORDER BY actor_name) AS rank\n",
    "FROM actors;\n",
    "```\n",
    "Use case: Useful when you want to rank actors or employees but keep the ranking gap if there are ties."
   ]
  },
  {
   "attachments": {
    "image.png": {
     "image/png": "[encoded data removed]"
    }
   },
   "cell_type": "markdown",
   "id": "ab709489",
   "metadata": {},
   "source": [
    "![image.png](attachment:image.png)"
   ]
  },
  {
   "attachments": {
    "image.png": {
     "image/png": "[encoded data removed]"
    }
   },
   "cell_type": "markdown",
   "id": "73158c47",
   "metadata": {},
   "source": [
    "![image.png](attachment:image.png)"
   ]
  },
  {
   "cell_type": "markdown",
   "id": "3a3b06e7",
   "metadata": {},
   "source": [
    "Actor Name\tSalary\n",
    "John\t    50000\n",
    "Alice\t    50000\n",
    "Bob\t        40000\n",
    "Charlie\t    30000"
   ]
  },
  {
   "cell_type": "markdown",
   "id": "ff92201a",
   "metadata": {},
   "source": [
    "After applying Rank():\n",
    "\n",
    "Actor Name\tSalary\tRank\n",
    "John\t    50000\t1\n",
    "Alice\t    50000\t1\n",
    "Bob\t        40000\t3\n",
    "Charlie\t    30000\t4"
   ]
  },
  {
   "cell_type": "markdown",
   "id": "5632154f",
   "metadata": {},
   "source": [
    "Notice that both John and Alice have the same salary, so they are both given rank 1. \n",
    "\n",
    "However, the next rank given to Bob is 3, skipping 2 because there was a tie for rank 1."
   ]
  },
  {
   "cell_type": "markdown",
   "id": "f816432a",
   "metadata": {},
   "source": [
    "**Example:** Assign a rank to each actor, ordered by their salary:\n",
    "```sql\n",
    "SELECT actor_name, salary, \n",
    "RANK() OVER (ORDER BY salary DESC) AS salary_rank\n",
    "FROM actors;"
   ]
  },
  {
   "cell_type": "markdown",
   "id": "23dc09a0",
   "metadata": {},
   "source": [
    "### 3. DENSE_RANK()\n",
    "\n",
    "Like `RANK()`, but it does not skip the next rank for tied rows. It ensures that the ranks are continuous.\n",
    "\n",
    "\n",
    "```sql\n",
    "SELECT actor_name, DENSE_RANK() OVER (ORDER BY actor_name) AS rank\n",
    "FROM actors;\n",
    "```\n",
    "Use case: Useful when you want to rank actors or employees but keep the ranking gap if there are ties."
   ]
  },
  {
   "cell_type": "markdown",
   "id": "c0b65775",
   "metadata": {},
   "source": [
    "**Example:** Assign a rank to each actor, ordered by their salary (No skipped ranks)\n",
    "```sql\n",
    "    SELECT actor_name, salary, \n",
    "    DENSE_RANK() OVER (ORDER BY salary DESC) AS dense_salary_rank\n",
    "    FROM actors;"
   ]
  },
  {
   "cell_type": "markdown",
   "id": "4742d394",
   "metadata": {},
   "source": [
    "### 4. SUM() (Cumulative Sum)\n",
    "\n",
    "Sums values over a window (partition) and returns the cumulative total.\n",
    "\n",
    "\n",
    "\n",
    "```sql\n",
    "SELECT actor_name, salary, SUM(salary) OVER (ORDER BY salary) AS cumulative_salary\n",
    "FROM actors;\n",
    "```\n",
    "Use case: Calculating running totals or cumulative metrics, such as cumulative sales or cumulative salary."
   ]
  },
  {
   "cell_type": "markdown",
   "id": "8b0239a4",
   "metadata": {},
   "source": [
    "**Example:**Find the running total of actor salaries, ordered by salary\n",
    "```sql\n",
    "SELECT actor_name, salary, \n",
    "SUM(salary) OVER (ORDER BY salary) AS cumulative_salary\n",
    "FROM actors;"
   ]
  },
  {
   "cell_type": "markdown",
   "id": "d68d41cb",
   "metadata": {},
   "source": [
    "**Example:**Find the running total of total salary paid to all actors in the database:\n",
    "```sql\n",
    "SELECT SUM(salary) AS total_salary\n",
    "FROM actors;"
   ]
  },
  {
   "cell_type": "markdown",
   "id": "7cefe471",
   "metadata": {},
   "source": [
    "### 5. LEAD()\n",
    "\n",
    "Returns the value of a column from the next row in the result set, within the same partition.\n",
    "\n",
    "\n",
    "```sql\n",
    "SELECT actor_name, salary, LEAD(salary, 1) OVER (ORDER BY salary) AS next_salary\n",
    "FROM actors;\n",
    "```\n",
    "Use case: Use `LEAD()` to compare current row data with the next row’s data, such as comparing an employee's salary to the next employee."
   ]
  },
  {
   "cell_type": "markdown",
   "id": "37e5a896",
   "metadata": {},
   "source": [
    "**Example:** Retrieve the next actor's name and next salary for each actor\n",
    "```sql\n",
    "\n",
    "SELECT actor_name, salary, \n",
    "LEAD(actor_name) OVER (ORDER BY salary DESC) AS next_actor_name,\n",
    "LEAD(salary) OVER (ORDER BY salary DESC) AS next_actor_salary\n",
    "FROM actors;"
   ]
  },
  {
   "cell_type": "markdown",
   "id": "3876beef",
   "metadata": {},
   "source": [
    "### 6. LAG()\n",
    "\n",
    "Similar to `LEAD()`, but it returns the value of a column from the previous row.\n",
    "\n",
    "\n",
    "```sql\n",
    "    SELECT actor_name, salary, LAG(salary, 1) OVER (ORDER BY salary) AS prev_salary\n",
    "    FROM actors;\n",
    "```\n",
    "Use case: Useful for comparing a row's data with the previous row, such as comparing sales or salary changes between periods."
   ]
  },
  {
   "cell_type": "markdown",
   "id": "b799557b",
   "metadata": {},
   "source": [
    "**Example:** Retrieve the previous actor's name and previous salary for each actor:\n",
    "```sql\n",
    "\n",
    "SELECT actor_name, salary, \n",
    "LAG(actor_name) OVER (ORDER BY salary DESC) AS previous_actor_name,\n",
    "LAG(salary) OVER (ORDER BY salary DESC) AS previous_actor_salary\n",
    "FROM actors;"
   ]
  },
  {
   "cell_type": "markdown",
   "id": "6f68307a-3384-4e75-932a-97dd684d12f4",
   "metadata": {},
   "source": [
    "<div style=\"background-color: lightgreen; color: black; padding: 4px;\">\n",
    "    <h3>4. Hands-on examples using real-world datasets.\n",
    "</h3> </div>"
   ]
  },
  {
   "cell_type": "markdown",
   "id": "eca01e46",
   "metadata": {},
   "source": [
    "This activity will help them understand data cleaning, querying, and basic data analysis techniques.\n",
    "\n",
    "**Objective:** Import real-world movie datasets into PostgreSQL and visualize the data.\n",
    "\n",
    "---\n",
    "\n",
    "### Instructions:\n",
    "\n",
    "1. **Import Datasets:**\n",
    "   - Use the `\\copy` command in PSQL Tool to import the cleaned `movies.csv` and `ratings.csv` datasets into their respective tables.\n",
    "   (this will have its own challenges)\n",
    "\n",
    "2. **View Imported Data:**\n",
    "   - Execute the following commands to see the first 10 entries from each table:\n",
    "     ```sql\n",
    "     SELECT * FROM movies LIMIT 10;\n",
    "     SELECT * FROM ratings LIMIT 10;\n",
    "     ```\n",
    "\n",
    "3a. **Create Smaller Tables:**\n",
    "   - Create smaller tables to work with queries: (To understand the processes from SQL)\n",
    "\n",
    "     ```sql\n",
    "      CREATE TABLE movies_500 AS\n",
    "      SELECT * FROM ratings\n",
    "      LIMIT 500; \n",
    "\n",
    "      CREATE TABLE ratings_500 AS\n",
    "      SELECT * FROM ratings\n",
    "      LIMIT 500; \n",
    "     ```\n",
    "\n",
    "3b. **Truncate Datasets (Optional):**\n",
    "   - If needed, run the following commands to clear the tables for a fresh import:\n",
    "     ```sql\n",
    "     TRUNCATE TABLE movies;\n",
    "     TRUNCATE TABLE ratings;\n",
    "     ```\n",
    "\n",
    "4. **Optional Advanced Queries:**\n",
    "   - Perform JOIN operations to analyze relationships. For example:\n",
    "     ```sql\n",
    "     SELECT m.title, AVG(r.rating)\n",
    "     FROM movies m\n",
    "     JOIN ratings r ON m.movieId = r.movieId\n",
    "     GROUP BY m.title;\n",
    "     ```\n",
    "   - This query will find the average rating for each movie.\n",
    "\n"
   ]
  },
  {
   "cell_type": "markdown",
   "id": "309baa49",
   "metadata": {},
   "source": [
    "---\n"
   ]
  },
  {
   "cell_type": "markdown",
   "id": "f2185430-3791-45df-824f-bdec6d7145e3",
   "metadata": {},
   "source": [
    "<div class=\"alert alert-block alert-warning\">\n",
    "    <b><font size=\"5\"> Live Exercise</font> </b>\n",
    "</div>\n",
    "\n",
    "<!--- Mohammad Idrees Bhat | Tech Skills Trainer | AI/ML Consultant --->"
   ]
  },
  {
   "cell_type": "markdown",
   "id": "420ae7b8",
   "metadata": {},
   "source": [
    "Now it's your turn!\n",
    "\n",
    "### Task 0: Super Simple Movie Database\n",
    "\n",
    "In this easy and fun exercise, you'll work with a very basic movie database to help you revise the ultimate basics of SQL. \n",
    "\n",
    "This activity will cover creating tables, inserting data, and writing simple queries.\n",
    "\n",
    "Step 1: Create Tables\n",
    "You will create two small tables:\n",
    "\n",
    "- movies: Contains information about movies.\n",
    "- directors: Contains information about directors.\n",
    "\n",
    "```sql\n",
    "CREATE TABLE movies (\n",
    "    movie_id SERIAL PRIMARY KEY,\n",
    "    movie_name VARCHAR(100),\n",
    "    release_year INT\n",
    ");\n",
    "\n",
    "CREATE TABLE directors (\n",
    "    director_id SERIAL PRIMARY KEY,\n",
    "    director_name VARCHAR(100),\n",
    "    movie_id INT REFERENCES movies(movie_id)\n",
    ");\n",
    "```\n",
    "Step 2: Insert Data\n",
    "Add some fun movie and director data into these tables.\n",
    "\n",
    "```sql\n",
    "INSERT INTO movies (movie_name, release_year)\n",
    "VALUES \n",
    "('Inception', 2010),\n",
    "('Interstellar', 2014),\n",
    "('The Dark Knight', 2008);\n",
    "\n",
    "INSERT INTO directors (director_name, movie_id)\n",
    "VALUES \n",
    "('Christopher Nolan', 1),\n",
    "('Christopher Nolan', 2),\n",
    "('Christopher Nolan', 3);\n",
    "```\n",
    "\n",
    "Step 3: Query Data\n",
    "Now, run some super simple queries to revise the basics.\n",
    "\n"
   ]
  },
  {
   "cell_type": "markdown",
   "id": "f5a80eb9",
   "metadata": {},
   "source": [
    "**Practice querying now:**\n",
    "\n",
    "Query 1: Retrieve All Movies\n",
    "\n",
    "Goal: Display all the movies in the database.\n",
    "\n",
    "```sql\n",
    "SELECT * FROM movies;\n",
    "```\n",
    "\n",
    "Query 2: Find Movies Released After 2010\n",
    "\n",
    "Goal: Use the WHERE clause to filter movies based on the release year.\n",
    "\n",
    "```sql\n",
    "SELECT movie_name, release_year \n",
    "FROM movies\n",
    "WHERE release_year > 2010;\n",
    "```\n",
    "\n",
    "Query 3: Find the Director of a Movie\n",
    "\n",
    "Goal: Use a JOIN to find the director of a specific movie.\n",
    "\n",
    "```sql\n",
    "SELECT m.movie_name, d.director_name\n",
    "FROM movies m\n",
    "JOIN directors d ON m.movie_id = d.movie_id\n",
    "WHERE m.movie_name = 'Inception';\n",
    "```\n",
    "\n",
    "Query 4: Count the Number of Movies\n",
    "\n",
    "Goal: Use an aggregate function (COUNT()) to count how many movies are in the database.\n",
    "\n",
    "```sql\n",
    "SELECT COUNT(*) AS total_movies FROM movies;\n",
    "```\n",
    "---"
   ]
  },
  {
   "cell_type": "markdown",
   "id": "bdc4d8ee",
   "metadata": {},
   "source": [
    "### Task 1: Restaurant Orders & Customers Data Analysis\n",
    "\n",
    "In this exercise, you'll manage and analyze data from a fictional restaurant’s orders and customers. Your goal is to query the database to get meaningful insights such as customer behavior and order details. This task focuses on basic SQL querying with an emphasis on joins.\n",
    "\n",
    "Step 1: Create Tables\n",
    "You'll create two simple tables:\n",
    "\n",
    "customers: Contains customer information.\n",
    "orders: Contains details of food orders made by customers.\n",
    "\n",
    "Step 2: Insert Data into Tables\n",
    "Populate the tables with some fun, fictional data for customers and their food orders.\n",
    "- Use these sample values:\n",
    "\n",
    "```sql\n",
    "\n",
    "VALUES\n",
    "('Alice', 'alice@mail.com'),\n",
    "('Bob', 'bob@mail.com'),\n",
    "('Charlie', 'charlie@mail.com'),\n",
    "('Daisy', 'daisy@mail.com');\n",
    "\n",
    "\n",
    "VALUES\n",
    "(1, '2024-10-10', 'Pizza', 12.99),\n",
    "(2, '2024-10-10', 'Burger', 9.50),\n",
    "(1, '2024-10-11', 'Salad', 7.50),\n",
    "(3, '2024-10-11', 'Pasta', 11.00),\n",
    "(4, '2024-10-12', 'Sandwich', 6.99),\n",
    "(2, '2024-10-12', 'Fries', 4.00);\n",
    "\n",
    "```\n",
    "\n",
    "Step 3: Query Basic Information\n",
    "Start by retrieving basic information from the orders table to get familiar with the data.\n",
    "\n",
    "- Retrieve all the order details including customer names.\n",
    "\n",
    "Step 4: Find Customers Who Ordered Specific Items\n",
    "Let’s find out which customers ordered a \"Pizza.\"\n",
    "\n",
    "- Use a JOIN to get the names of customers who ordered Pizza.\n",
    "\n",
    "Step 5: Calculate Total Spending per Customer\n",
    "Find out how much each customer spent at the restaurant in total.\n",
    "\n",
    "- Use SUM() to calculate the total amount spent by each customer.\n",
    "\n",
    "Step 6: Identify the Most Frequent Customer\n",
    "Let’s see who has placed the most orders.\n",
    "\n",
    "- Use COUNT() and GROUP BY to find out which customer placed the highest number of orders.\n",
    "\n",
    "\n",
    "Step 7: Query Recent Orders\n",
    "Find out all the orders placed in the last two days (from the current date).\n",
    "\n",
    "- Use WHERE to filter orders based on the date.\n",
    "\n",
    "Step 8: Customers with Multiple Orders on the Same Day\n",
    "Check if any customers placed more than one order on the same day.\n",
    "\n",
    "- Use HAVING to find customers with multiple orders on a single day.\n",
    "\n",
    "---"
   ]
  },
  {
   "cell_type": "markdown",
   "id": "bf8d61af-f3e8-4afc-a66b-3814e160aaf3",
   "metadata": {},
   "source": [
    "### Task 2: Sales Data Analysis\n",
    "This exercise simulates a scenario you might encounter in data warehousing and data analytics. You will work with sales data to analyze product sales, revenue, and customer behavior—tasks similar to what analysts perform in companies.\n",
    "\n",
    "#### Instructions\n",
    "\n",
    "Step 1: Create Tables\n",
    "You'll create two tables for this exercise:\n",
    "\n",
    "products: Contains information about products, such as product name and price.\n",
    "sales: Contains information about sales transactions, including product sold, quantity, and the total revenue.\n",
    "\n",
    "Step 2: Insert Data into Tables\n",
    "Populate the tables with products and sales data.\n",
    "\n",
    "Step 3: Calculate Total Sales and Revenue\n",
    "Calculate the total quantity sold and the total revenue for each product using SUM().\n",
    "        \n",
    "- Use SUM() to calculate the total revenue and total sales for each product.\n",
    "\n",
    "Step 4: Ranking Products by Sales Performance\n",
    "Rank the products based on their total sales and revenue using RANK().\n",
    "- Use RANK() to rank products by sales performance.\n",
    "\n",
    "Step 5: Cumulative Revenue\n",
    "Calculate the cumulative total revenue across products to see how revenue adds up.\n",
    "- Use a window function to calculate cumulative sums for revenue.\n",
    "\n",
    "Step 6: Compare Sales with Lead and Lag\n",
    "Compare sales and revenue between consecutive products using LEAD() and LAG().\n",
    "\n",
    "- Use LEAD() and LAG() to analyze differences in total revenue between consecutive products.\n",
    "\n",
    "---\n"
   ]
  },
  {
   "cell_type": "markdown",
   "id": "b69ed7ea-1940-434d-bb2d-601d07994783",
   "metadata": {},
   "source": [
    "<div style=\"background-color: lightblue; color: white; padding: 10px; text-align: center;\">\n",
    "    <h1>_________________________________END________________________________\n",
    "        <!--- Mohammad Idrees Bhat | Tech Skills Trainer | AI/ML Consultant --->\n",
    "</h1> </div>"
   ]
  },
  {
   "cell_type": "markdown",
   "id": "36cb6d13-361e-453b-b906-b18a963fd7fc",
   "metadata": {},
   "source": [
    "Some Additional Resources:\n",
    "\n",
    "- Installation tutorial for postgreSQL -> https://www.youtube.com/watch?v=4qH-7w5LZsA\n",
    "\n",
    "- PSQL exercises - https://pgexercises.com/questions/basic/\n",
    "\n",
    "- Data Source - Grouplens - https://grouplens.org/datasets/movielens/\n",
    "- Large data tables on movie ratings - https://files.grouplens.org/datasets/movielens/ml-32m.zip\n",
    "- Online Retail Dataset on UCI ML Repo: https://archive.ics.uci.edu/dataset/502/online+retail"
   ]
  },
  {
   "cell_type": "markdown",
   "id": "13e86481-eae2-4019-9515-66a43a30f0fb",
   "metadata": {},
   "source": [
    "<div style=\"background-color: #002147; color: #fff; padding: 30px; text-align: center;\">\n",
    "    <h1>THANK YOU!\n",
    "        <!--- Mohammad Idrees Bhat | Tech Skills Trainer | AI/ML Consultant --->\n",
    "</h1> </div>"
   ]
  },
  {
   "cell_type": "markdown",
   "id": "aefa2f04-f141-405d-8a9f-8cf186d66f41",
   "metadata": {},
   "source": [
    "<div style=\"background-color: lightgreen; color: black; padding: 30px;\">\n",
    "    <h4> Live Exercise Solutions\n",
    "        \n",
    "</h4> </div>"
   ]
  },
  {
   "cell_type": "markdown",
   "id": "1b08bdaa",
   "metadata": {},
   "source": [
    "### Task 1: Restaurant Orders & Customers Data Analysis\n",
    "In this exercise, you'll manage and analyze data from a fictional restaurant’s orders and customers. Your goal is to query the database to get meaningful insights such as customer behavior and order details. This task focuses on basic SQL querying with an emphasis on joins.\n",
    "\n",
    "Step 1: Create Tables\n",
    "You'll create two simple tables:\n",
    "\n",
    "customers: Contains customer information.\n",
    "orders: Contains details of food orders made by customers.\n",
    "\n",
    "```sql\n",
    "CREATE TABLE customers (\n",
    "    customer_id SERIAL PRIMARY KEY,\n",
    "    customer_name VARCHAR(100),\n",
    "    contact_info VARCHAR(100)\n",
    ");\n",
    "\n",
    "CREATE TABLE orders (\n",
    "    order_id SERIAL PRIMARY KEY,\n",
    "    customer_id INT REFERENCES customers(customer_id),\n",
    "    order_date DATE,\n",
    "    food_item VARCHAR(100),\n",
    "    amount DECIMAL(10, 2)\n",
    ");\n",
    "```\n",
    "\n",
    "\n",
    "Step 2: Insert Data into Tables\n",
    "Populate the tables with some fun, fictional data for customers and their food orders.\n",
    "```sql\n",
    "INSERT INTO customers (customer_name, contact_info)\n",
    "VALUES\n",
    "('Alice', 'alice@mail.com'),\n",
    "('Bob', 'bob@mail.com'),\n",
    "('Charlie', 'charlie@mail.com'),\n",
    "('Daisy', 'daisy@mail.com');\n",
    "\n",
    "INSERT INTO orders (customer_id, order_date, food_item, amount)\n",
    "VALUES\n",
    "(1, '2024-10-10', 'Pizza', 12.99),\n",
    "(2, '2024-10-10', 'Burger', 9.50),\n",
    "(1, '2024-10-11', 'Salad', 7.50),\n",
    "(3, '2024-10-11', 'Pasta', 11.00),\n",
    "(4, '2024-10-12', 'Sandwich', 6.99),\n",
    "(2, '2024-10-12', 'Fries', 4.00);\n",
    "```\n",
    "\n",
    "\n",
    "\n",
    "Step 3: Query Basic Information\n",
    "Start by retrieving basic information from the orders table to get familiar with the data.\n",
    "\n",
    "- Retrieve all the order details including customer names.\n",
    "```sql\n",
    "SELECT o.order_id, c.customer_name, o.food_item, o.amount\n",
    "FROM orders o\n",
    "JOIN customers c ON o.customer_id = c.customer_id;\n",
    "```\n",
    "\n",
    "\n",
    "\n",
    "Step 4: Find Customers Who Ordered Specific Items\n",
    "Let’s find out which customers ordered a \"Pizza.\"\n",
    "\n",
    "- Use a JOIN to get the names of customers who ordered Pizza.\n",
    "```sql\n",
    "SELECT c.customer_name, o.food_item\n",
    "FROM orders o\n",
    "JOIN customers c ON o.customer_id = c.customer_id\n",
    "WHERE o.food_item = 'Pizza';\n",
    "```\n",
    "\n",
    "\n",
    "\n",
    "\n",
    "Step 5: Calculate Total Spending per Customer\n",
    "Find out how much each customer spent at the restaurant in total.\n",
    "\n",
    "- Use SUM() to calculate the total amount spent by each customer.\n",
    "```sql\n",
    "SELECT c.customer_name, SUM(o.amount) AS total_spent\n",
    "FROM orders o\n",
    "JOIN customers c ON o.customer_id = c.customer_id\n",
    "GROUP BY c.customer_name;\n",
    "```\n",
    "\n",
    "\n",
    "\n",
    "\n",
    "Step 6: Identify the Most Frequent Customer\n",
    "Let’s see who has placed the most orders.\n",
    "\n",
    "- Use COUNT() and GROUP BY to find out which customer placed the highest number of orders.\n",
    "```sql\n",
    "SELECT c.customer_name, COUNT(o.order_id) AS order_count\n",
    "FROM orders o\n",
    "JOIN customers c ON o.customer_id = c.customer_id\n",
    "GROUP BY c.customer_name\n",
    "ORDER BY order_count DESC;\n",
    "```\n",
    "\n",
    "\n",
    "\n",
    "\n",
    "Step 7: Query Recent Orders\n",
    "Find out all the orders placed in the last two days (from the current date).\n",
    "\n",
    "- Use WHERE to filter orders based on the date.\n",
    "```sql\n",
    "SELECT o.order_id, c.customer_name, o.food_item, o.order_date\n",
    "FROM orders o\n",
    "JOIN customers c ON o.customer_id = c.customer_id\n",
    "WHERE o.order_date >= '2024-10-11';\n",
    "```\n",
    "\n",
    "\n",
    "\n",
    "\n",
    "Step 8: Customers with Multiple Orders on the Same Day\n",
    "Check if any customers placed more than one order on the same day.\n",
    "\n",
    "- Use HAVING to find customers with multiple orders on a single day.\n",
    "```sql\n",
    "SELECT c.customer_name, o.order_date, COUNT(o.order_id) AS order_count\n",
    "FROM orders o\n",
    "JOIN customers c ON o.customer_id = c.customer_id\n",
    "GROUP BY c.customer_name, o.order_date\n",
    "HAVING COUNT(o.order_id) > 1;\n",
    "```\n",
    "\n",
    "\n",
    "\n"
   ]
  },
  {
   "cell_type": "markdown",
   "id": "7e4b7d30",
   "metadata": {},
   "source": [
    "### Task 2: Sales Data Analysis\n",
    "This exercise simulates a scenario you might encounter in data warehousing and data analytics. You will work with sales data to analyze product sales, revenue, and customer behavior—tasks similar to what analysts perform in companies.\n",
    "\n",
    "#### Instructions\n",
    "\n",
    "Step 1: Create Tables\n",
    "You'll create two tables for this exercise:\n",
    "products: Contains information about products, such as product name and price.\n",
    "sales: Contains information about sales transactions, including product sold, quantity, and the total revenue.\n",
    "\n",
    "```sql\n",
    "CREATE TABLE products (\n",
    "    product_id SERIAL PRIMARY KEY,\n",
    "    product_name VARCHAR(100),\n",
    "    price DECIMAL(10, 2)\n",
    ");\n",
    "\n",
    "CREATE TABLE sales (\n",
    "    sale_id SERIAL PRIMARY KEY,\n",
    "    product_id INT REFERENCES products(product_id),\n",
    "    quantity_sold INT,\n",
    "    sale_date DATE,\n",
    "    total_revenue DECIMAL(10, 2)\n",
    ");\n",
    "```\n",
    "\n",
    "\n",
    "\n",
    "\n",
    "Step 2: Insert Data into Tables\n",
    "Populate the tables with products and sales data.\n",
    "```sql\n",
    "INSERT INTO products (product_name, price)\n",
    "VALUES \n",
    "('Laptop', 1000.00),\n",
    "('Smartphone', 500.00),\n",
    "('Tablet', 300.00);\n",
    "\n",
    "INSERT INTO sales (product_id, quantity_sold, sale_date, total_revenue)\n",
    "VALUES\n",
    "(1, 5, '2024-10-10', 5000.00),\n",
    "(2, 10, '2024-10-11', 5000.00),\n",
    "(3, 3, '2024-10-12', 900.00),\n",
    "(1, 2, '2024-10-13', 2000.00);\n",
    "```\n",
    "\n",
    "Step 3: Calculate Total Sales and Revenue\n",
    "Calculate the total quantity sold and the total revenue for each product using SUM().\n",
    "        \n",
    "- Use SUM() to calculate the total revenue and total sales for each product.\n",
    "\n",
    "```sql\n",
    "SELECT p.product_name, \n",
    "SUM(s.quantity_sold) AS total_quantity_sold,\n",
    "SUM(s.total_revenue) AS total_revenue\n",
    "FROM sales s\n",
    "JOIN products p ON s.product_id = p.product_id\n",
    "GROUP BY p.product_name;\n",
    "```\n",
    "\n",
    "\n",
    "Step 4: Ranking Products by Sales Performance\n",
    "Rank the products based on their total sales and revenue using RANK().\n",
    "- Use RANK() to rank products by sales performance.\n",
    "\n",
    "```sql\n",
    "SELECT p.product_name, \n",
    "SUM(s.total_revenue) AS total_revenue, \n",
    "RANK() OVER (ORDER BY SUM(s.total_revenue) DESC) AS revenue_rank\n",
    "FROM sales s\n",
    "JOIN products p ON s.product_id = p.product_id\n",
    "GROUP BY p.product_name;\n",
    "```\n",
    "\n",
    "Step 5: Cumulative Revenue\n",
    "Calculate the cumulative total revenue across products to see how revenue adds up.\n",
    "- Use a window function to calculate cumulative sums for revenue.\n",
    "\n",
    "```sql\n",
    "SELECT p.product_name, s.total_revenue, \n",
    "SUM(s.total_revenue) OVER (ORDER BY s.total_revenue DESC) AS cumulative_revenue\n",
    "FROM sales s\n",
    "JOIN products p ON s.product_id = p.product_id\n",
    "ORDER BY cumulative_revenue DESC;\n",
    "```\n",
    "\n",
    "Step 6: Compare Sales with Lead and Lag\n",
    "Compare sales and revenue between consecutive products using LEAD() and LAG().\n",
    "\n",
    "- Use LEAD() and LAG() to analyze differences in total revenue between consecutive products.\n",
    "\n",
    "```sql\n",
    "SELECT p.product_name, s.total_revenue,\n",
    "LAG(s.total_revenue) OVER (ORDER BY s.total_revenue DESC) AS previous_revenue,\n",
    "LEAD(s.total_revenue) OVER (ORDER BY s.total_revenue DESC) AS next_revenue\n",
    "FROM sales s\n",
    "JOIN products p ON s.product_id = p.product_id;\n",
    "```"
   ]
  },
  {
   "cell_type": "markdown",
   "id": "36f2d487-56ef-4c22-a1c9-d25e9df33e37",
   "metadata": {},
   "source": [
    "<div class=\"alert alert-block alert-warning\"  padding: 10px; text-align: center;\">\n",
    "    <font size=\"3\"> Programming Interveiw Questions</font>\n",
    "</div>"
   ]
  },
  {
   "cell_type": "markdown",
   "id": "d4e08c3f-3e5b-46a6-9fbb-456cbd850553",
   "metadata": {},
   "source": [
    "### 1. What is the difference between `TRUNCATE`, `DELETE`, and `DROP` commands in SQL?\n",
    "**Explanation:**\n",
    "- **`DELETE`**: Removes rows based on a condition; can use `WHERE`.\n",
    "- **`TRUNCATE`**: Removes all rows from a table, cannot use `WHERE`, faster than `DELETE`.\n",
    "- **`DROP`**: Removes the entire table (or database) including its structure.\n",
    "\n",
    "### 2. What is a `JOIN`? Can you explain different types of `JOINs` in SQL?\n",
    "**Explanation:**\n",
    "A `JOIN` is used to combine rows from two or more tables based on a related column. The main types are:\n",
    "- **INNER JOIN**: Returns rows with matching values in both tables.\n",
    "- **LEFT JOIN**: Returns all rows from the left table and matched rows from the right table.\n",
    "- **RIGHT JOIN**: Returns all rows from the right table and matched rows from the left table.\n",
    "- **FULL OUTER JOIN**: Returns all rows when there is a match in either table.\n",
    "\n",
    "### 3. What is the difference between `WHERE` and `HAVING` clauses?\n",
    "**Explanation:**\n",
    "- **`WHERE`**: Filters rows before any grouping is done in the `SELECT` statement.\n",
    "- **`HAVING`**: Filters groups after the `GROUP BY` clause is applied, used with aggregate functions (like `COUNT`, `SUM`).\n",
    "\n",
    "### 4. What is normalization, and what are the different normal forms?\n",
    "**Explanation:**\n",
    "Normalization is the process of organizing database tables to reduce redundancy and improve data integrity. The common normal forms are:\n",
    "- **1NF (First Normal Form)**: Ensures that each column contains atomic values, no repeating groups.\n",
    "- **2NF (Second Normal Form)**: Based on 1NF, ensures that non-key columns are fully dependent on the primary key.\n",
    "- **3NF (Third Normal Form)**: Based on 2NF, ensures that non-key columns are not transitively dependent on the primary key.\n",
    "\n",
    "### 5. What is an `INDEX` in SQL, and when should you use it?\n",
    "**Explanation:**\n",
    "An `INDEX` is used to speed up the retrieval of rows by creating a quick lookup reference for data in a table. You should use indexes when:\n",
    "- You have large datasets with frequent `SELECT` queries.\n",
    "- On columns that are used in `WHERE` clauses, `JOINs`, or `ORDER BY` statements.\n",
    "- However, be cautious as indexes slow down `INSERT`, `UPDATE`, and `DELETE` operations due to additional maintenance of the index structure.\n"
   ]
  },
  {
   "cell_type": "markdown",
   "id": "5454f2e3-4fa4-48f9-936a-35be52d769af",
   "metadata": {},
   "source": [
    "<!--- Mohammad Idrees Bhat | Mohammad Idrees Bhat --->"
   ]
  },
  {
   "cell_type": "markdown",
   "id": "3e92ba4c-672c-4e9f-b842-2b2d9234e5ff",
   "metadata": {},
   "source": [
    "<h2 style=\"background-color: #ffe4e1; color: #2f4f4f; padding: 10px; border-radius: 10px; width: 350px; text-align: center; float: right; margin: 20px 0;\">\n",
    "    Mohammad Idrees Bhat<br>\n",
    "    <span style=\"font-size: 12px; color: #696969;\">\n",
    "        Tech Skills Trainer | AI/ML Consultant\n",
    "    </span>\n",
    "</h2>"
   ]
  },
  {
   "cell_type": "markdown",
   "id": "15cc27b3-58d0-431e-8121-f1b4c08377c7",
   "metadata": {},
   "source": [
    "<!--- Mohammad Idrees Bhat | Tech Skills Trainer | AI/ML Consultant --->"
   ]
  }
 ],
 "metadata": {
  "kernelspec": {
   "display_name": "Python 3 (ipykernel)",
   "language": "python",
   "name": "python3"
  },
  "language_info": {
   "codemirror_mode": {
    "name": "ipython",
    "version": 3
   },
   "file_extension": ".py",
   "mimetype": "text/x-python",
   "name": "python",
   "nbconvert_exporter": "python",
   "pygments_lexer": "ipython3",
   "version": "3.12.4"
  }
 },
 "nbformat": 4,
 "nbformat_minor": 5
}
