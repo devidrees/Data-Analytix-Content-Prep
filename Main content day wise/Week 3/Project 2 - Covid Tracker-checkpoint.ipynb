{
 "cells": [
  {
   "cell_type": "markdown",
   "id": "8c4bc666-34a1-47b6-8018-1ad79dafae95",
   "metadata": {},
   "source": [
    "<div style=\"background-color: #add8e6; padding: 10px; height: 70px; border-radius: 15px;\">\n",
    "    <div style=\"font-family: 'Georgia', serif; font-size: 20px; padding: 10px; text-align: right; position: absolute; right: 50px;\">\n",
    "        Mohammad Idrees Bhat <br>\n",
    "        <span style=\"font-family: 'Arial', sans-serif;font-size: 12px; color: #0a0a0a;\">Tech Skills Trainer | AI/ML Consultant</span> <!--- Mohammad Idrees Bhat | Tech Skills Trainer | AI/ML Consultant --->\n",
    "    </div>\n",
    "</div>"
   ]
  },
  {
   "cell_type": "markdown",
   "id": "ef444d2e-97e9-49a8-bf3d-0119a2dfebb5",
   "metadata": {},
   "source": [
    "<!--- Mohammad Idrees Bhat | Tech Skills Trainer | AI/ML Consultant --->"
   ]
  },
  {
   "cell_type": "markdown",
   "id": "151ad3d8-0bce-4e29-86da-5ea91b5a69df",
   "metadata": {},
   "source": [
    "<div style=\"background-color: #002147; padding: 10px; text-align: center; color: white; font-size: 32px; font-family: 'Arial', sans-serif; border-radius: 100px;\">\n",
    "    Covid Tracker <br>\n",
    "    <h3 style=\"text-align: center; color: white; font-size: 15px; font-family: 'Arial', sans-serif;\">  EDA and Dashboard for COVID-19 Data \n",
    "ratings</h3>\n",
    "</div\n"
   ]
  },
  {
   "cell_type": "markdown",
   "id": "19b1c30b-e766-4658-8d70-1b0af10ae2f4",
   "metadata": {},
   "source": [
    "<!-- Link the Montserrat font -->\n",
    "<link href=\"https://fonts.googleapis.com/css2?family=Montserrat:wght@700&display=swap\" rel=\"stylesheet\">\n",
    "\n",
    "<!-- Main div with centered content and a flexible box size, no scroll bar -->\n",
    "<div style=\"background-color: #baf733; min-height: 100%; width: 100%; display: flex; justify-content: center; align-items: center; position: relative; padding: 20px; box-sizing: border-box; font-family: 'Montserrat', sans-serif; font-weight: 700; font-size: 20px; border-radius: 15px;\">\n",
    "    <div style=\"position: absolute; top: 10px; right: 10px; padding: 5px 10px; font-size: 14px; color: rgba(0, 0, 0, 0.05); border-radius: 10px;\">Mohammad Idrees Bhat</div>\n",
    "    <!-- Fill the below text with question -->\n",
    "    <!-- Fill the below text with question -->\n",
    "    <!-- Fill the above text with question -->\n",
    "    <!-- Fill the above text with question -->\n",
    "</div>"
   ]
  },
  {
   "cell_type": "markdown",
   "id": "53ec8637",
   "metadata": {},
   "source": [
    "<div style=\"background-color: lightgreen; color: black; padding: 4px;\">\n",
    "    <h3> PROJECT DESCRIPTION \n",
    "</h3> </div>"
   ]
  },
  {
   "cell_type": "markdown",
   "id": "9a9a0a74-0cc3-4ae6-bda6-0a4fee696267",
   "metadata": {},
   "source": [
    "Perform Exploratory Data Analysis (EDA) on the COVID-19 dataset from the Ministry of Health and create an interactive dashboard using Power BI to visualize the spread and impact of COVID-19. Students will uncover insights and present key findings effectively."
   ]
  },
  {
   "cell_type": "markdown",
   "id": "5f2800db-e384-470c-9c9e-ded21e2c4ded",
   "metadata": {},
   "source": [
    "<div style=\"background-color: lightgreen; color: black; padding: 4px;\">\n",
    "    <h3> PROJECT DELIVERABLES\n",
    "</h3> </div>"
   ]
  },
  {
   "cell_type": "markdown",
   "id": "f7e91682-272f-4380-89f9-25897439e77f",
   "metadata": {},
   "source": [
    "1. **EDA Report:** \n",
    "\n",
    "    A detailed report on the Exploratory Data Analysis conducted on the dataset.\n",
    "\n",
    "2. **Visualizations:** \n",
    "\n",
    "    Effective data visualizations that show the trends, spread, and impact of COVID-19.\n",
    "\n",
    "3. **Power BI Dashboard File:** \n",
    "\n",
    "    An interactive Power BI dashboard that displays the key metrics and insights.\n",
    "    \n",
    "4. **Brief Report on Key Insights:** \n",
    "\n",
    "    A summary of the most important findings from the analysis."
   ]
  },
  {
   "cell_type": "markdown",
   "id": "b8cb6dbf-8d7c-4d7b-9862-ee945c270263",
   "metadata": {},
   "source": [
    "<div style=\"background-color: lightgreen; color: black; padding: 4px;\">\n",
    "    <h3> FURTHER INSTRUCTIONS\n",
    "</h3> </div>"
   ]
  },
  {
   "cell_type": "markdown",
   "id": "146b6c1b-15ff-45bd-9643-790cbc3d958a",
   "metadata": {},
   "source": [
    "Here is a suggested pathway to complete this project:\n",
    "\n",
    "### 1. Data Acquisition:\n",
    "- Download the COVID-19 dataset from the Ministry of Health (or a similar open-source dataset).\n",
    "- Load the data into Power BI.\n",
    "\n",
    "### 2. Data Cleaning & Transformation:\n",
    "- Use Power Query to clean the data:\n",
    "  - Remove unnecessary columns.\n",
    "  - Handle missing values.\n",
    "  - Ensure data types (date, numbers) are correct.\n",
    "\n",
    "### 3. Exploratory Data Analysis (EDA):\n",
    "- Visualize trends over time using:\n",
    "  - Line charts for daily cases/deaths/recoveries.\n",
    "  - Bar charts to compare regions/countries.\n",
    "- Use filters to explore different time periods or regions.\n",
    "\n",
    "### 4. Create Key Visuals:\n",
    "- Build visuals for:\n",
    "  - Total cases, deaths, and recoveries.\n",
    "  - Active vs. closed cases.\n",
    "  - Geographic spread using a map visualization.\n",
    "\n",
    "### 5. Dashboard Creation:\n",
    "- Design an interactive dashboard:\n",
    "  - Add slicers to filter by country/region and time.\n",
    "  - Combine charts and visuals to tell a clear story.\n",
    "\n",
    "### 6. Extract Insights:\n",
    "- Summarize the key findings:\n",
    "  - Peak infection periods.\n",
    "  - Most affected regions.\n",
    "  - Rate of recovery.\n",
    "\n",
    "### 7. Final Presentation:\n",
    "- Present the Power BI dashboard and EDA report to highlight key insights and trends.\n"
   ]
  },
  {
   "cell_type": "markdown",
   "id": "b69ed7ea-1940-434d-bb2d-601d07994783",
   "metadata": {},
   "source": [
    "<div style=\"background-color: lightblue; color: white; padding: 10px; text-align: center;\">\n",
    "    <h1>____________________         BEST OF LUCK   ...  :)        _____________________\n",
    "        <!--- Mohammad Idrees Bhat | Tech Skills Trainer | AI/ML Consultant --->\n",
    "</h1> </div>"
   ]
  },
  {
   "cell_type": "markdown",
   "id": "13e86481-eae2-4019-9515-66a43a30f0fb",
   "metadata": {},
   "source": [
    "<div style=\"background-color: #002147; color: #fff; padding: 30px; text-align: center;\">\n",
    "    <h1>THANK YOU!\n",
    "        <!--- Mohammad Idrees Bhat | Tech Skills Trainer | AI/ML Consultant --->\n",
    "</h1> </div>"
   ]
  },
  {
   "cell_type": "markdown",
   "id": "5454f2e3-4fa4-48f9-936a-35be52d769af",
   "metadata": {},
   "source": [
    "<!--- Mohammad Idrees Bhat | Mohammad Idrees Bhat --->"
   ]
  },
  {
   "cell_type": "markdown",
   "id": "a93af2fc-1ba9-4656-b521-db9e215ce0ef",
   "metadata": {
    "vscode": {
     "languageId": "plaintext"
    }
   },
   "source": [
    "https://covid19dashboard.mohfw.gov.in/\n",
    "https://docs.owid.io/projects/etl/api/covid/#download-data\n",
    "https://data.who.int/dashboards/covid19/cases\n",
    "https://data.who.int/dashboards/covid19/data"
   ]
  },
  {
   "cell_type": "markdown",
   "id": "3e92ba4c-672c-4e9f-b842-2b2d9234e5ff",
   "metadata": {},
   "source": [
    "<h2 style=\"background-color: #ffe4e1; color: #2f4f4f; padding: 10px; border-radius: 10px; width: 350px; text-align: center; float: right; margin: 20px 0;\">\n",
    "    Mohammad Idrees Bhat<br>\n",
    "    <span style=\"font-size: 12px; color: #696969;\">\n",
    "        Tech Skills Trainer | AI/ML Consultant\n",
    "    </span>\n",
    "</h2>"
   ]
  },
  {
   "cell_type": "markdown",
   "id": "15cc27b3-58d0-431e-8121-f1b4c08377c7",
   "metadata": {},
   "source": [
    "<!--- Mohammad Idrees Bhat | Tech Skills Trainer | AI/ML Consultant --->"
   ]
  }
 ],
 "metadata": {
  "kernelspec": {
   "display_name": "Python 3 (ipykernel)",
   "language": "python",
   "name": "python3"
  },
  "language_info": {
   "codemirror_mode": {
    "name": "ipython",
    "version": 3
   },
   "file_extension": ".py",
   "mimetype": "text/x-python",
   "name": "python",
   "nbconvert_exporter": "python",
   "pygments_lexer": "ipython3",
   "version": "3.12.4"
  }
 },
 "nbformat": 4,
 "nbformat_minor": 5
}
