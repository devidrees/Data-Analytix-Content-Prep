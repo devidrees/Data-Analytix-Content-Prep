{
 "cells": [
  {
   "cell_type": "code",
   "execution_count": 2,
   "id": "d33c1e22-4ae9-4617-be7e-b6bd76d6c82d",
   "metadata": {},
   "outputs": [
    {
     "name": "stdout",
     "output_type": "stream",
     "text": [
      "CSV file created successfully.\n"
     ]
    }
   ],
   "source": [
    "import csv\n",
    "\n",
    "header = ['Id','Species','Location']\n",
    "\n",
    "rows = [\n",
    "    [1,'Versicolor','India'],[2,'Versicolor','India'],[3,'Versicolor','India'],\n",
    "    [4,'Versicolor','India'],[5,'Versicolor','India'],[6,'Versicolor','India']\n",
    "]\n",
    "\n",
    "with open('species.csv', mode='w', newline='') as file:\n",
    "    writer = csv.writer(file)\n",
    "\n",
    "    # Write the header\n",
    "    writer.writerow(header)\n",
    "\n",
    "    # Write the data rows\n",
    "    writer.writerows(rows)\n",
    "\n",
    "print(\"CSV file created successfully.\")"
   ]
  },
  {
   "cell_type": "code",
   "execution_count": 6,
   "id": "cdfe7812-9050-47f0-8ffc-110158dba661",
   "metadata": {},
   "outputs": [
    {
     "data": {
      "text/html": [
       "<div>\n",
       "<style scoped>\n",
       "    .dataframe tbody tr th:only-of-type {\n",
       "        vertical-align: middle;\n",
       "    }\n",
       "\n",
       "    .dataframe tbody tr th {\n",
       "        vertical-align: top;\n",
       "    }\n",
       "\n",
       "    .dataframe thead th {\n",
       "        text-align: right;\n",
       "    }\n",
       "</style>\n",
       "<table border=\"1\" class=\"dataframe\">\n",
       "  <thead>\n",
       "    <tr style=\"text-align: right;\">\n",
       "      <th></th>\n",
       "      <th>Id</th>\n",
       "      <th>Species</th>\n",
       "      <th>Location</th>\n",
       "    </tr>\n",
       "  </thead>\n",
       "  <tbody>\n",
       "    <tr>\n",
       "      <th>0</th>\n",
       "      <td>1</td>\n",
       "      <td>Versicolor</td>\n",
       "      <td>India</td>\n",
       "    </tr>\n",
       "    <tr>\n",
       "      <th>1</th>\n",
       "      <td>2</td>\n",
       "      <td>Versicolor</td>\n",
       "      <td>India</td>\n",
       "    </tr>\n",
       "    <tr>\n",
       "      <th>2</th>\n",
       "      <td>3</td>\n",
       "      <td>Versicolor</td>\n",
       "      <td>India</td>\n",
       "    </tr>\n",
       "    <tr>\n",
       "      <th>3</th>\n",
       "      <td>4</td>\n",
       "      <td>Versicolor</td>\n",
       "      <td>India</td>\n",
       "    </tr>\n",
       "    <tr>\n",
       "      <th>4</th>\n",
       "      <td>5</td>\n",
       "      <td>Versicolor</td>\n",
       "      <td>India</td>\n",
       "    </tr>\n",
       "    <tr>\n",
       "      <th>5</th>\n",
       "      <td>6</td>\n",
       "      <td>Versicolor</td>\n",
       "      <td>India</td>\n",
       "    </tr>\n",
       "  </tbody>\n",
       "</table>\n",
       "</div>"
      ],
      "text/plain": [
       "   Id     Species Location\n",
       "0   1  Versicolor    India\n",
       "1   2  Versicolor    India\n",
       "2   3  Versicolor    India\n",
       "3   4  Versicolor    India\n",
       "4   5  Versicolor    India\n",
       "5   6  Versicolor    India"
      ]
     },
     "execution_count": 6,
     "metadata": {},
     "output_type": "execute_result"
    }
   ],
   "source": [
    "import pandas as pd\n",
    "\n",
    "df = pd.read_csv('species.csv')\n",
    "df"
   ]
  },
  {
   "cell_type": "code",
   "execution_count": 8,
   "id": "29c31329-fdb3-46d3-861c-d3e930c8ae76",
   "metadata": {},
   "outputs": [
    {
     "data": {
      "text/plain": [
       "[{'id': 10, 'specie': 'gentoo', 'location': 'New York'},\n",
       " {'id': 11, 'specie': 'gentoo', 'location': 'London'},\n",
       " {'id': 12, 'specie': 'king', 'location': 'New York'},\n",
       " {'id': 13, 'specie': 'gentoo', 'location': 'London'},\n",
       " {'id': 14, 'specie': 'king', 'location': 'New York'}]"
      ]
     },
     "execution_count": 8,
     "metadata": {},
     "output_type": "execute_result"
    }
   ],
   "source": [
    "[ \n",
    " {\n",
    "    \"id\": 10,\n",
    "    \"specie\": 'gentoo',\n",
    "    \"location\": \"New York\"\n",
    "  },\n",
    " {\n",
    "    \"id\": 11,\n",
    "    \"specie\": 'gentoo',\n",
    "    \"location\": \"London\"\n",
    "  },\n",
    " {\n",
    "    \"id\": 12,\n",
    "    \"specie\": 'king',\n",
    "    \"location\": \"New York\"\n",
    "  }, {\n",
    "    \"id\": 13,\n",
    "    \"specie\": 'gentoo',\n",
    "    \"location\": \"London\"\n",
    "  }, {\n",
    "    \"id\": 14,\n",
    "    \"specie\": 'king',\n",
    "    \"location\": \"New York\"\n",
    "  },    \n",
    "]"
   ]
  },
  {
   "cell_type": "code",
   "execution_count": 10,
   "id": "f7adc880-88c8-432b-b31f-f2c5e4044056",
   "metadata": {},
   "outputs": [],
   "source": [
    "import json\n",
    "\n",
    "data = [ \n",
    " {\n",
    "    \"id\": 10,\n",
    "    \"specie\": 'gentoo',\n",
    "    \"location\": \"New York\"\n",
    "  },\n",
    " {\n",
    "    \"id\": 11,\n",
    "    \"specie\": 'gentoo',\n",
    "    \"location\": \"London\"\n",
    "  },\n",
    " {\n",
    "    \"id\": 12,\n",
    "    \"specie\": 'king',\n",
    "    \"location\": \"New York\"\n",
    "  }, {\n",
    "    \"id\": 13,\n",
    "    \"specie\": 'gentoo',\n",
    "    \"location\": \"London\"\n",
    "  }, {\n",
    "    \"id\": 14,\n",
    "    \"specie\": 'king',\n",
    "    \"location\": \"New York\"\n",
    "  },    \n",
    "]\n",
    "\n",
    "with open('penguins.json', mode='w') as file:\n",
    "    json.dump(data, file, indent=4)  # The indent parameter makes the JSON file readable\n",
    "\n"
   ]
  },
  {
   "cell_type": "code",
   "execution_count": null,
   "id": "09225cb4-cab3-469e-a74b-25f3e272fa97",
   "metadata": {},
   "outputs": [],
   "source": [
    "tags\n",
    "\n"
   ]
  },
  {
   "cell_type": "markdown",
   "id": "55fccff9-e965-4002-9689-064c576687b0",
   "metadata": {},
   "source": [
    "python, c, java script,\n",
    "\n",
    "html -> webpages\n",
    "\n",
    "SQL syntax -> querry data\n",
    "\n",
    "\r\n",
    "</people>"
   ]
  },
  {
   "cell_type": "markdown",
   "id": "7fd7b0be-e9c7-475f-b125-533b3735dafa",
   "metadata": {},
   "source": [
    "database management XXXXX\n",
    "basics that can help us manipulate data"
   ]
  },
  {
   "cell_type": "markdown",
   "id": "ef71adae-22f9-47a6-80e8-ee9eeb409bd6",
   "metadata": {},
   "source": [
    "SQL - syntax differs.... google \n",
    "\n",
    "concepts; SQL \n",
    "\n"
   ]
  },
  {
   "cell_type": "markdown",
   "id": "1752e880-40ee-4eb1-8a3f-db79c4ffced7",
   "metadata": {},
   "source": [
    "databases -> db that have tables, \n",
    "school db\n",
    "\n",
    "student table\n",
    "teachers table\n",
    "\n",
    "class table  -> id subject teachers students\n",
    "\n",
    "(primary and foriegn keys)"
   ]
  },
  {
   "cell_type": "code",
   "execution_count": 16,
   "id": "2141e9a7-f362-4925-83e3-8c4e12898ed0",
   "metadata": {},
   "outputs": [],
   "source": [
    "import sqlite3 as sql\n",
    "\n",
    "# Connect to a database (or create it if it doesn't exist)\n",
    "connection = sql.connect('idrees.db')\n",
    "\n",
    "# Create a cursor object using the connection. A cursor is a control structure that enables traversal over the records in a database.\n",
    "cursor = connection.cursor()"
   ]
  },
  {
   "cell_type": "code",
   "execution_count": 18,
   "id": "ffd8273f-657c-43c6-ba4d-39b01cb98c23",
   "metadata": {},
   "outputs": [
    {
     "data": {
      "text/plain": [
       "<sqlite3.Cursor at 0x2113afe2140>"
      ]
     },
     "execution_count": 18,
     "metadata": {},
     "output_type": "execute_result"
    }
   ],
   "source": [
    "# Create an sql table in python\n",
    "\n",
    "cursor.execute('''\n",
    "CREATE TABLE idrees_students(\n",
    "    id INTEGER PRIMARY KEY,\n",
    "    name TEXT NOT NULL,\n",
    "    city TEXT\n",
    ");\n",
    "''')"
   ]
  },
  {
   "cell_type": "code",
   "execution_count": 20,
   "id": "7406db8b-623c-438c-ab38-aedf5d509089",
   "metadata": {},
   "outputs": [],
   "source": [
    "# Commit the changes and close the connection\n",
    "connection.commit()"
   ]
  },
  {
   "cell_type": "code",
   "execution_count": 28,
   "id": "d5aa8ac2-3515-4302-8b8e-ef443607fa37",
   "metadata": {},
   "outputs": [],
   "source": [
    "# Insert data in sql table in python\n",
    "cursor.execute(\"INSERT INTO idrees_students (id, name, city) VALUES (3, 'Sagar','Texas')\")\n",
    "\n",
    "# Commit the changes\n",
    "connection.commit()"
   ]
  },
  {
   "cell_type": "code",
   "execution_count": 30,
   "id": "0b302ae8-ff1a-4ea3-aa3a-bca2c95c89cc",
   "metadata": {},
   "outputs": [],
   "source": [
    "# Insert data in sql table in python\n",
    "cursor.execute(\"INSERT INTO idrees_students (id, name, city) VALUES (4, 'Santosh','Austin')\")\n",
    "\n",
    "# Commit the changes\n",
    "connection.commit()"
   ]
  },
  {
   "cell_type": "code",
   "execution_count": 36,
   "id": "2008d63b-e23b-443e-8fab-b55c2413dba7",
   "metadata": {},
   "outputs": [],
   "source": [
    "# Query the data from sql table using python\n",
    "cursor.execute(\"SELECT * FROM idrees_students\")\n",
    "\n",
    "# Fetch all results\n",
    "res = cursor.fetchall()"
   ]
  },
  {
   "cell_type": "code",
   "execution_count": 40,
   "id": "ec6be982-d102-44dc-a9b9-677f08785dda",
   "metadata": {},
   "outputs": [
    {
     "data": {
      "text/plain": [
       "[(1, 'Sagar', 'Texas'),\n",
       " (2, 'Ritika', 'Irving'),\n",
       " (3, 'Sagar', 'Texas'),\n",
       " (4, 'Santosh', 'Austin')]"
      ]
     },
     "execution_count": 40,
     "metadata": {},
     "output_type": "execute_result"
    }
   ],
   "source": [
    "res"
   ]
  },
  {
   "cell_type": "code",
   "execution_count": 42,
   "id": "3d80f1c2-0c17-4c67-804a-a5fde3f92ba1",
   "metadata": {},
   "outputs": [],
   "source": [
    "import pandas as pd\n",
    "\n",
    "x = pd.DataFrame(res)"
   ]
  },
  {
   "cell_type": "code",
   "execution_count": 44,
   "id": "635261ff-d298-4d26-87d4-e5383e3ca4d8",
   "metadata": {},
   "outputs": [
    {
     "data": {
      "text/html": [
       "<div>\n",
       "<style scoped>\n",
       "    .dataframe tbody tr th:only-of-type {\n",
       "        vertical-align: middle;\n",
       "    }\n",
       "\n",
       "    .dataframe tbody tr th {\n",
       "        vertical-align: top;\n",
       "    }\n",
       "\n",
       "    .dataframe thead th {\n",
       "        text-align: right;\n",
       "    }\n",
       "</style>\n",
       "<table border=\"1\" class=\"dataframe\">\n",
       "  <thead>\n",
       "    <tr style=\"text-align: right;\">\n",
       "      <th></th>\n",
       "      <th>0</th>\n",
       "      <th>1</th>\n",
       "      <th>2</th>\n",
       "    </tr>\n",
       "  </thead>\n",
       "  <tbody>\n",
       "    <tr>\n",
       "      <th>0</th>\n",
       "      <td>1</td>\n",
       "      <td>Sagar</td>\n",
       "      <td>Texas</td>\n",
       "    </tr>\n",
       "    <tr>\n",
       "      <th>1</th>\n",
       "      <td>2</td>\n",
       "      <td>Ritika</td>\n",
       "      <td>Irving</td>\n",
       "    </tr>\n",
       "    <tr>\n",
       "      <th>2</th>\n",
       "      <td>3</td>\n",
       "      <td>Sagar</td>\n",
       "      <td>Texas</td>\n",
       "    </tr>\n",
       "    <tr>\n",
       "      <th>3</th>\n",
       "      <td>4</td>\n",
       "      <td>Santosh</td>\n",
       "      <td>Austin</td>\n",
       "    </tr>\n",
       "  </tbody>\n",
       "</table>\n",
       "</div>"
      ],
      "text/plain": [
       "   0        1       2\n",
       "0  1    Sagar   Texas\n",
       "1  2   Ritika  Irving\n",
       "2  3    Sagar   Texas\n",
       "3  4  Santosh  Austin"
      ]
     },
     "execution_count": 44,
     "metadata": {},
     "output_type": "execute_result"
    }
   ],
   "source": [
    "x"
   ]
  },
  {
   "cell_type": "code",
   "execution_count": 46,
   "id": "7e5ceabb-decb-42da-8222-53b74b9637b4",
   "metadata": {},
   "outputs": [],
   "source": [
    "# Close the connection\n",
    "connection.close()"
   ]
  },
  {
   "cell_type": "code",
   "execution_count": 48,
   "id": "129e3aa0-57d7-4ee4-835e-9eb9524ac682",
   "metadata": {},
   "outputs": [
    {
     "ename": "ProgrammingError",
     "evalue": "Cannot operate on a closed database.",
     "output_type": "error",
     "traceback": [
      "\u001b[1;31m---------------------------------------------------------------------------\u001b[0m",
      "\u001b[1;31mProgrammingError\u001b[0m                          Traceback (most recent call last)",
      "Cell \u001b[1;32mIn[48], line 2\u001b[0m\n\u001b[0;32m      1\u001b[0m \u001b[38;5;66;03m# Query the data from sql table using python\u001b[39;00m\n\u001b[1;32m----> 2\u001b[0m cursor\u001b[38;5;241m.\u001b[39mexecute(\u001b[38;5;124m\"\u001b[39m\u001b[38;5;124mSELECT * FROM idrees_students\u001b[39m\u001b[38;5;124m\"\u001b[39m)\n\u001b[0;32m      4\u001b[0m \u001b[38;5;66;03m# Fetch all results\u001b[39;00m\n\u001b[0;32m      5\u001b[0m res \u001b[38;5;241m=\u001b[39m cursor\u001b[38;5;241m.\u001b[39mfetchall()\n",
      "\u001b[1;31mProgrammingError\u001b[0m: Cannot operate on a closed database."
     ]
    }
   ],
   "source": [
    "# Query the data from sql table using python\n",
    "cursor.execute(\"SELECT * FROM idrees_students\")\n",
    "\n",
    "# Fetch all results\n",
    "res = cursor.fetchall()"
   ]
  },
  {
   "cell_type": "code",
   "execution_count": 50,
   "id": "6a76341e-d481-4764-9a22-08689218e121",
   "metadata": {},
   "outputs": [
    {
     "name": "stdout",
     "output_type": "stream",
     "text": [
      "Note: you may need to restart the kernel to use updated packages.\n"
     ]
    },
    {
     "name": "stderr",
     "output_type": "stream",
     "text": [
      "ERROR: Could not find a version that satisfies the requirement sqlite3 (from versions: none)\n",
      "ERROR: No matching distribution found for sqlite3\n"
     ]
    }
   ],
   "source": [
    "pip install sqlite3"
   ]
  },
  {
   "cell_type": "code",
   "execution_count": 52,
   "id": "fbd5d38d-8cc5-44ad-8b6b-add5d3ac96d6",
   "metadata": {},
   "outputs": [],
   "source": [
    "import sqlite3 as sql"
   ]
  },
  {
   "cell_type": "code",
   "execution_count": 54,
   "id": "e96508bf-0f10-420d-b2b2-ac529ca9cab9",
   "metadata": {},
   "outputs": [],
   "source": [
    "# import mysql dependency\n",
    "import mysql.connector # cmd/terminal -> pip install \n",
    "import pandas as pd"
   ]
  },
  {
   "cell_type": "code",
   "execution_count": 56,
   "id": "72be1a00-a8d8-4ab8-9e88-37dbe15acc1f",
   "metadata": {},
   "outputs": [],
   "source": [
    "# Connect to the MySQL database\n",
    "connection = mysql.connector.connect(\n",
    "    host='localhost',\n",
    "    user='idrees',\n",
    "    password='qwerty12345',\n",
    "    database='idrees_db'\n",
    ")"
   ]
  },
  {
   "cell_type": "code",
   "execution_count": 60,
   "id": "8f1f8d5a-2816-427c-bde6-dd142dbf236a",
   "metadata": {},
   "outputs": [],
   "source": [
    "# Create a cursor object\n",
    "cursor = connection.cursor()"
   ]
  },
  {
   "cell_type": "code",
   "execution_count": 62,
   "id": "3db88696-8774-4101-93b6-96899ad90e2d",
   "metadata": {},
   "outputs": [],
   "source": [
    "# Query the data\n",
    "cursor.execute(\"SELECT * FROM users\")\n",
    "\n",
    "# Fetch all results\n",
    "results = cursor.fetchall()"
   ]
  },
  {
   "cell_type": "code",
   "execution_count": 64,
   "id": "1fe4b699-2ff9-4093-9a0e-9918b3562c73",
   "metadata": {},
   "outputs": [
    {
     "data": {
      "text/plain": [
       "[(1, 'Alice', 30), (2, 'Bob', 25)]"
      ]
     },
     "execution_count": 64,
     "metadata": {},
     "output_type": "execute_result"
    }
   ],
   "source": [
    "results"
   ]
  },
  {
   "cell_type": "code",
   "execution_count": 66,
   "id": "b70097a1-f95b-4bee-af49-b7131c27cd20",
   "metadata": {},
   "outputs": [
    {
     "data": {
      "text/html": [
       "<div>\n",
       "<style scoped>\n",
       "    .dataframe tbody tr th:only-of-type {\n",
       "        vertical-align: middle;\n",
       "    }\n",
       "\n",
       "    .dataframe tbody tr th {\n",
       "        vertical-align: top;\n",
       "    }\n",
       "\n",
       "    .dataframe thead th {\n",
       "        text-align: right;\n",
       "    }\n",
       "</style>\n",
       "<table border=\"1\" class=\"dataframe\">\n",
       "  <thead>\n",
       "    <tr style=\"text-align: right;\">\n",
       "      <th></th>\n",
       "      <th>0</th>\n",
       "      <th>1</th>\n",
       "      <th>2</th>\n",
       "    </tr>\n",
       "  </thead>\n",
       "  <tbody>\n",
       "    <tr>\n",
       "      <th>0</th>\n",
       "      <td>1</td>\n",
       "      <td>Alice</td>\n",
       "      <td>30</td>\n",
       "    </tr>\n",
       "    <tr>\n",
       "      <th>1</th>\n",
       "      <td>2</td>\n",
       "      <td>Bob</td>\n",
       "      <td>25</td>\n",
       "    </tr>\n",
       "  </tbody>\n",
       "</table>\n",
       "</div>"
      ],
      "text/plain": [
       "   0      1   2\n",
       "0  1  Alice  30\n",
       "1  2    Bob  25"
      ]
     },
     "execution_count": 66,
     "metadata": {},
     "output_type": "execute_result"
    }
   ],
   "source": [
    "df = pd.DataFrame(results)\n",
    "df"
   ]
  },
  {
   "cell_type": "code",
   "execution_count": null,
   "id": "7e9f840b-55fe-41bd-856d-fc69af040454",
   "metadata": {},
   "outputs": [],
   "source": []
  }
 ],
 "metadata": {
  "kernelspec": {
   "display_name": "Python 3 (ipykernel)",
   "language": "python",
   "name": "python3"
  },
  "language_info": {
   "codemirror_mode": {
    "name": "ipython",
    "version": 3
   },
   "file_extension": ".py",
   "mimetype": "text/x-python",
   "name": "python",
   "nbconvert_exporter": "python",
   "pygments_lexer": "ipython3",
   "version": "3.12.4"
  }
 },
 "nbformat": 4,
 "nbformat_minor": 5
}
