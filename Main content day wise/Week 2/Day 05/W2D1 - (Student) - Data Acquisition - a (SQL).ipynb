{
 "cells": [
  {
   "cell_type": "markdown",
   "id": "8c4bc666-34a1-47b6-8018-1ad79dafae95",
   "metadata": {},
   "source": [
    "<div style=\"background-color: #add8e6; padding: 10px; height: 70px; border-radius: 15px;\">\n",
    "    <div style=\"font-family: 'Georgia', serif; font-size: 20px; padding: 10px; text-align: right; position: absolute; right: 20px;\">\n",
    "        Mohammad Idrees Bhat<br>\n",
    "        <span style=\"font-family: 'Arial', sans-serif;font-size: 12px; color: #0a0a0a;\">Tech Skills Trainer | AI/ML Consultant</span>\n",
    "    </div>\n",
    "</div>"
   ]
  },
  {
   "cell_type": "markdown",
   "id": "151ad3d8-0bce-4e29-86da-5ea91b5a69df",
   "metadata": {},
   "source": [
    "<h2 style=\"background-color: #002147; padding: 20px; text-align: center; color: white; font-size: 32px; font-family: 'Arial', sans-serif;\">\n",
    "    Data Acquisition: Understanding data sources, using SQL\n",
    "</h2>\r\n"
   ]
  },
  {
   "cell_type": "markdown",
   "id": "19e9ec83-cf6b-4000-aa3b-4b2194c2bbf1",
   "metadata": {},
   "source": [
    "<div style=\"background-color: lightgreen; color: black; padding: 10px;\">\n",
    "    <h3> Week 2 - Day 1 (SQLite and mySQL)\n",
    "</h1> </div>"
   ]
  },
  {
   "cell_type": "markdown",
   "id": "155e8ec7-547b-41f4-b6f6-6e6e719c198c",
   "metadata": {},
   "source": [
    "<div style=\"background-color: grey; color: black; padding: 10px;\">\n",
    "    <h4><b>AGENDA</b><p><p>\n",
    "1.  Data Sources, Types, and Methods of Acquiring Data<p><p> \n",
    "2.  Basics of SQL for Data Acquisition\n",
    "</h4> </div>"
   ]
  },
  {
   "cell_type": "markdown",
   "id": "096a26ff-f98d-4b19-af3e-4d403a5f1eff",
   "metadata": {},
   "source": [
    "<!-- Now, use the font inside your div -->\n",
    "<div style=\"background-color: #baf733; padding: 40px; border-radius: 15px; font-family: 'Montserrat', sans-serif; font-weight: 700; font-size: 20px;\">\n",
    "    What's your go-to karaoke song?<br>\n",
    "</div>"
   ]
  },
  {
   "cell_type": "markdown",
   "id": "53ec8637",
   "metadata": {},
   "source": [
    "<div style=\"background-color: lightgreen; color: black; padding: 4px;\">\n",
    "    <h3>1. Data Sources, Types, and Methods of Acquiring Data \n",
    "</h4> </div>"
   ]
  },
  {
   "cell_type": "markdown",
   "id": "10a27b2a-0370-43aa-b972-7cc31b88203d",
   "metadata": {},
   "source": [
    "<div style=\"background-color: lightblue; color: black; padding: 4px;\">\n",
    "    <h4>Data Types\n",
    "</h4> </div>"
   ]
  },
  {
   "cell_type": "markdown",
   "id": "1bd7bf3d-ea0e-4959-8448-ac666514452f",
   "metadata": {},
   "source": [
    "1. **Structured Data**\n",
    "   - Organized data in a fixed format, typically in tables.\n",
    "   - Example Formats: SQL databases, CSV files, Excel spreadsheets.\n",
    "\n",
    "2. **Semi-Structured Data**\n",
    "   - Data that does not conform to a strict schema but contains tags or markers to separate elements.\n",
    "   - Example Formats: JSON, XML.\n",
    "\n",
    "3. **Unstructured Data**\n",
    "   - Data that lacks a predefined format or organization, making it more complex to process.\n",
    "   - Example Formats: Text documents, images, videos, social media posts.\n"
   ]
  },
  {
   "cell_type": "markdown",
   "id": "80a2d8ad-d5cd-457f-8614-e653e00ae830",
   "metadata": {},
   "source": [
    "### Different Types of Data Storage Formats:\n",
    "\n",
    "1. **CSV (Comma-Separated Values)**\n",
    "   - **Structure:** A simple text format where each line corresponds to a row in a table, and columns are separated by commas.\n",
    "   - **Usage:** Widely used for storing tabular data due to its simplicity and ease of use in spreadsheet applications (e.g., Excel).\n",
    "   - **Example:**\n",
    "\n",
    "     ```csv\n",
    "     Name,Age,City\n",
    "     Alice,30,New York\n",
    "     Bob,25,Los Angeles\n",
    "     ```"
   ]
  },
  {
   "cell_type": "markdown",
   "id": "f12bfbe5-7c16-4bcf-8354-bd775b8d474a",
   "metadata": {},
   "source": [
    "##### Can we create a csv file using python?"
   ]
  },
  {
   "cell_type": "code",
   "execution_count": null,
   "id": "e4870a42-701b-4193-a440-e8196c913f1a",
   "metadata": {},
   "outputs": [],
   "source": [
    "import csv\n",
    "\n",
    "# Data to be written to the CSV file\n",
    "header = ['Name', 'Age', 'City']\n",
    "rows = [\n",
    "    ['Alice', 30, 'New York'],\n",
    "    ['Bob', 25, 'Los Angeles'],\n",
    "    ['Charlie', 28, 'Chicago']\n",
    "]\n",
    "\n",
    "# Create a CSV file\n",
    "with open('people.csv', mode='w', newline='') as file:\n",
    "    writer = csv.writer(file)\n",
    "\n",
    "    # Write the header\n",
    "    writer.writerow(header)\n",
    "\n",
    "    # Write the data rows\n",
    "    writer.writerows(rows)\n",
    "\n",
    "print(\"CSV file created successfully.\")"
   ]
  },
  {
   "cell_type": "markdown",
   "id": "f5db87fd-7cc3-4767-b43c-f304fc7e9bbb",
   "metadata": {},
   "source": [
    "\n",
    "\n",
    "2. **JSON (JavaScript Object Notation)**\n",
    "   - **Structure:** A lightweight data interchange format that uses a key-value pair structure. Data is represented as objects (enclosed in braces) and arrays (enclosed in brackets).\n",
    "   - **Usage:** Commonly used for APIs and configuration files due to its readability and compatibility with many programming languages.\n",
    "   - **Example:**\n",
    "     ```json\n",
    "     [\n",
    "       {\n",
    "         \"Name\": \"Alice\",\n",
    "         \"Age\": 30,\n",
    "         \"City\": \"New York\"\n",
    "       },\n",
    "       {\n",
    "         \"Name\": \"Bob\",\n",
    "         \"Age\": 25,\n",
    "         \"City\": \"Los Angeles\"\n",
    "       }\n",
    "     ]\n",
    "     ```\n"
   ]
  },
  {
   "cell_type": "markdown",
   "id": "8ad1335f-fcf8-4ddc-9de3-be5d64287aca",
   "metadata": {},
   "source": [
    "##### Can we create a json file using python? (Optional Learning)"
   ]
  },
  {
   "cell_type": "code",
   "execution_count": null,
   "id": "a0b8c60e-377e-48a1-8ce8-c8a48629c599",
   "metadata": {},
   "outputs": [],
   "source": [
    "import json\n",
    "\n",
    "# Data to be written to the JSON file\n",
    "data = [\n",
    "    {\"Name\": \"Alice\", \"Age\": 30, \"City\": \"New York\"},\n",
    "    {\"Name\": \"Bob\", \"Age\": 25, \"City\": \"Los Angeles\"},\n",
    "    {\"Name\": \"Charlie\", \"Age\": 28, \"City\": \"Chicago\"}\n",
    "]\n",
    "\n",
    "# Create a JSON file\n",
    "with open('people.json', mode='w') as file:\n",
    "    json.dump(data, file, indent=4)  # The indent parameter makes the JSON file readable\n",
    "\n",
    "print(\"JSON file created successfully.\")\n"
   ]
  },
  {
   "cell_type": "markdown",
   "id": "26694264-2f80-415a-a0ce-b2a09095b345",
   "metadata": {},
   "source": [
    "3. **XML (eXtensible Markup Language)**\n",
    "   - **Structure:** A markup language that uses tags to define elements and structure data hierarchically. Each piece of data is enclosed within custom tags.\n",
    "   - **Usage:** Often used in web services and for configuration files. While more verbose than JSON, it is also highly flexible and can represent complex data structures.\n",
    "   - **Example:**\n",
    "     ```xml\n",
    "     <people>\n",
    "       <person>\n",
    "         <Name>Alice</Name>\n",
    "         <Age>30</Age>\n",
    "         <City>New York</City>\n",
    "       </person>\n",
    "       <person>\n",
    "         <Name>Bob</Name>\n",
    "         <Age>25</Age>\n",
    "         <City>Los Angeles</City>\n",
    "       </person>\n",
    "     </people>\n",
    "     ```"
   ]
  },
  {
   "cell_type": "markdown",
   "id": "a7ce3393-e7c8-4c6c-9267-33636c5ab9ff",
   "metadata": {},
   "source": [
    "##### Can we create an xml file using python? (Optional Learning)"
   ]
  },
  {
   "cell_type": "code",
   "execution_count": null,
   "id": "d87b81e6-4cb2-4da1-9de5-75568bf8cf35",
   "metadata": {},
   "outputs": [],
   "source": [
    "import xml.etree.ElementTree as ET\n",
    "\n",
    "# Create the root element\n",
    "root = ET.Element('people')\n",
    "\n",
    "# Data to be added to the XML file\n",
    "data = [\n",
    "    {\"Name\": \"Alice\", \"Age\": \"30\", \"City\": \"New York\"},\n",
    "    {\"Name\": \"Bob\", \"Age\": \"25\", \"City\": \"Los Angeles\"},\n",
    "    {\"Name\": \"Charlie\", \"Age\": \"28\", \"City\": \"Chicago\"}\n",
    "]\n",
    "\n",
    "# Append each person's data as a child element\n",
    "for person in data:\n",
    "    person_elem = ET.SubElement(root, 'person')\n",
    "    for key, value in person.items():\n",
    "        child_elem = ET.SubElement(person_elem, key)\n",
    "        child_elem.text = value\n",
    "\n",
    "# Create an XML tree from the root element\n",
    "tree = ET.ElementTree(root)\n",
    "\n",
    "# Write the XML tree to a file\n",
    "with open('people.xml', mode='wb') as file:\n",
    "    tree.write(file)\n",
    "\n",
    "print(\"XML file created successfully.\")\n"
   ]
  },
  {
   "cell_type": "markdown",
   "id": "0b3df9e6-2577-48cb-8c1e-4b68a23b1d64",
   "metadata": {},
   "source": [
    "4. **SQL (Structured Query Language)**\r\n",
    "   - **Structure:** A domain-specific language used for managing and manipulating relational databases. SQL scripts consist of commands that define database schema and operations on the data. Common commands include `CREATE`, `INSERT`, `SELECT`, `UPDATE`, and `DELETE`.\r\n",
    "   - **Usage:** Used to perform various tasks, including creating database structures, inserting data, updating records, and querying data for reports. SQL is widely used across many relational database management systems (RDBMS).\r\n",
    "   - **Example:**\r\n",
    "     ```sql\r\n",
    "     -- Create a new database\r\n",
    "     CREATE DATABASE PeopleDB;\r\n",
    "\r\n",
    "     -- Use the new database\r\n",
    "     USE PeopleDB;\r\n",
    "\r\n",
    "     -- Create a table named \"people\"\r\n",
    "     CREATE TABLE people (\r\n",
    "         id INT AUTO_INCREMENT PRIMARY KEY,\r\n",
    "         name VARCHAR(100),\r\n",
    "         age INT,\r\n",
    "         city VARCHAR(100)\r\n",
    "     );\r\n",
    "\r\n",
    "     -- Insert data into the \"people\" table\r\n",
    "     INSERT INTO people (name, age, city) VALUES\r\n",
    "     ('Alice', 30, 'New York'),\r\n",
    "     ('Bob', 25, 'Los Angeles');\r\n",
    "\r\n",
    "     -- Query the data from the \"people\" table\r\n",
    "     SELECT * FROM people;\r\n",
    "     ```\r\n"
   ]
  },
  {
   "cell_type": "markdown",
   "id": "48ea997b-dfa9-4e67-9e2b-7485e68d2a4d",
   "metadata": {},
   "source": [
    "##### Can we create an SQL file using python? (Optional Learning)"
   ]
  },
  {
   "cell_type": "code",
   "execution_count": null,
   "id": "79394fbf-fc9e-48ac-90b3-70d3d3b6652a",
   "metadata": {},
   "outputs": [],
   "source": [
    "# Define the SQL commands\n",
    "# Define the SQL commands\n",
    "sql_commands = \"\"\"\n",
    "-- Create a new database\n",
    "CREATE DATABASE PeopleDB;\n",
    "\n",
    "-- Use the new database\n",
    "USE PeopleDB;\n",
    "\n",
    "-- Create a table named \"people\"\n",
    "CREATE TABLE people (\n",
    "    id INT AUTO_INCREMENT PRIMARY KEY,\n",
    "    name VARCHAR(100),\n",
    "    age INT,\n",
    "    city VARCHAR(100)\n",
    ");\n",
    "\n",
    "-- Insert data into the \"people\" table\n",
    "INSERT INTO people (name, age, city) VALUES\n",
    "('Alice', 30, 'New York'),\n",
    "('Bob', 25, 'Los Angeles');\n",
    "\n",
    "-- Query the data from the \"people\" table\n",
    "SELECT * FROM people;\n",
    "\"\"\"\n",
    "\n",
    "# Specify the file path\n",
    "file_path = \"people_db_setup.sql\"\n",
    "\n",
    "# Create and write to the SQL file\n",
    "with open(file_path, 'w') as file:\n",
    "    file.write(sql_commands)\n",
    "\n",
    "print(f\"SQL file '{file_path}' created successfully.\")\n",
    "\n",
    "# Specify the file path\n",
    "file_path = \"people_db_setup.sql\"\n",
    "\n",
    "# Create and write to the SQL file\n",
    "with open(file_path, 'w') as file:\n",
    "    file.write(sql_commands)\n",
    "\n",
    "print(f\"SQL file '{file_path}' created successfully.\")\n"
   ]
  },
  {
   "cell_type": "markdown",
   "id": "5ac13217-5ce3-4f5b-b30f-7f17bbaf485b",
   "metadata": {},
   "source": [
    "<div style=\"background-color: lightblue; color: black; padding: 4px;\">\n",
    "    <h4>Sources of Data\n",
    "</h4> </div>"
   ]
  },
  {
   "cell_type": "markdown",
   "id": "d83ebc78-b628-471d-b0f2-742d5bd8bc9e",
   "metadata": {},
   "source": [
    "**Based on Collection methodology**"
   ]
  },
  {
   "attachments": {
    "affb6bbc-144a-472b-ace7-a27077f46c2c.png": {
     "image/png": "[encoded data removed]"
    }
   },
   "cell_type": "markdown",
   "id": "512b96f1-a5fb-46a5-b649-63f99fa588fc",
   "metadata": {},
   "source": [
    "![image.png](attachment:affb6bbc-144a-472b-ace7-a27077f46c2c.png)"
   ]
  },
  {
   "cell_type": "markdown",
   "id": "0fffbb29-027a-423d-b8d9-ad7332b92b88",
   "metadata": {},
   "source": [
    "**Based on Type of data**"
   ]
  },
  {
   "cell_type": "markdown",
   "id": "bf157e43-554f-4443-9586-3c6fcb2ce4ec",
   "metadata": {},
   "source": [
    "1. **For Structured Data:**\n",
    "   - **Databases:** \n",
    "     - Relational databases (e.g., MySQL, PostgreSQL, MongoDB, Oracle DB, etc).\n",
    "   - **Files:**\n",
    "     - CSV files, Excel spreadsheets.\n",
    "\n",
    "2. **For Semi-Structured Data:**\n",
    "   - **APIs:**\n",
    "     - RESTful APIs providing data in JSON or XML formats.\n",
    "   - **Files:**\n",
    "     - JSON and XML files.\n",
    "\n",
    "3. **For Unstructured Data:**\n",
    "   - **Web Pages:**\n",
    "     - Data extracted from websites through web scraping.\n",
    "   - **Text Data:**\n",
    "     - Documents, emails, and social media posts."
   ]
  },
  {
   "cell_type": "markdown",
   "id": "58857833-fdbe-4dbb-bd68-ee9e30e2e835",
   "metadata": {},
   "source": [
    "<div style=\"background-color: lightblue; color: black; padding: 4px;\">\n",
    "    <h4>Real-Life Sources of Data for Data Analysts\n",
    "</h4> </div>"
   ]
  },
  {
   "cell_type": "markdown",
   "id": "a5d3d183-35e0-44a9-be69-d6233a2f1a8f",
   "metadata": {},
   "source": [
    "1. **Internal Databases:**\n",
    "   - Companies often maintain their own databases that contain sales records, customer information, and operational data.\n",
    "   - Analysts use SQL to extract relevant information for analysis.\n",
    "\n",
    "2. **Business Intelligence Tools:**\n",
    "   - Platforms like Tableau, Power BI, and Google Data Studio provide dashboards and visualizations that aggregate data from multiple sources.\n",
    "   - Analysts access these tools to extract data and generate reports.\n",
    "\n",
    "3. **Public APIs:**\n",
    "   - Many organizations offer APIs that provide real-time or historical data, such as financial market data, weather information, and social media metrics.\n",
    "   - Analysts use these APIs to fetch data programmatically.\n",
    "\n",
    "4. **Surveys and Questionnaires:**\n",
    "   - Companies often conduct surveys to gather feedback from customers, employees, or other stakeholders.\n",
    "   - Data analysts analyze the responses to inform business decisions.\n",
    "\n",
    "5. **Web Scraping:**\n",
    "   - When data is available on public websites, analysts may use web scraping techniques to collect information that isn't available via APIs.\n",
    "   - Common targets for web scraping include e-commerce sites, job boards, and news articles.\n",
    "\n",
    "6. **Third-Party Data Providers:**\n",
    "   - Analysts may purchase datasets from third-party vendors that specialize in data aggregation and analytics.\n",
    "   - These datasets can include market research, demographic information, or industry-specific data.\n",
    "\n",
    "7. **Social Media Platforms:**\n",
    "   - Data analysts leverage social media APIs to gather data about user engagement, trends, and sentiment analysis.\n",
    "   - Insights from social media data can drive marketing strategies and product development."
   ]
  },
  {
   "cell_type": "markdown",
   "id": "78ff60c0-93eb-4020-8d05-cc8162d63937",
   "metadata": {},
   "source": [
    "<div style=\"background-color: lightgreen; color: black; padding: 4px;\">\n",
    "    <h4>2. Basics of SQL for Data Acquisition \n",
    "</h4> </div>"
   ]
  },
  {
   "cell_type": "markdown",
   "id": "85237267-cc39-4c37-96f1-637d93675915",
   "metadata": {},
   "source": [
    "#### 1. Introduction to SQL\n",
    "\n",
    "##### What is SQL?\n",
    "SQL (Structured Query Language) is a standardized programming language used to manage and manipulate relational databases. It allows you to perform various operations on the data, such as querying, updating, and managing databases.\n",
    "\n",
    "### Types of SQL\n",
    "SQL has several types or dialects, including:\n",
    "- **MySQL:** An open-source relational database management system.\n",
    "- **PostgreSQL:** An advanced, open-source object-relational database.\n",
    "- **SQLite:** A lightweight, serverless SQL database commonly used for testing and prototyping.\n",
    "- **Microsoft SQL Server:** A relational database management system developed by Microsoft.\n",
    "- **Oracle Database:** A multi-model database management system produced by Oracle Corporation.\n",
    "\n",
    "#### Why Use SQL?\n",
    "- **Data Management:** Easily manage and manipulate large volumes of data.\n",
    "- **Data Retrieval:** Efficiently retrieve specific information from databases.\n",
    "- **Data Integrity:** Maintain the accuracy and consistency of data.\n",
    "\n",
    "---"
   ]
  },
  {
   "cell_type": "markdown",
   "id": "6754d2e2-0247-4b21-b320-c341cc8eeadf",
   "metadata": {},
   "source": [
    "#### 2. Setting Up SQL\n",
    "\n",
    "#### Using SQLite in Python\n",
    "For beginners, SQLite is a great way to practice SQL because it's lightweight and doesn't require a separate server.\n",
    "\n",
    "#### Installation\n",
    "Make sure you have Python installed. You can use the built-in `sqlite3` library. It comes preinstalled with Python>2.5.\n",
    "\n"
   ]
  },
  {
   "cell_type": "markdown",
   "id": "c53872cf-d542-4efb-8f33-110c2a17eafa",
   "metadata": {},
   "source": [
    "<div style=\"background-color: lightblue; color: black; padding: 4px;\">\n",
    "    <h4> Data from SQLite\n",
    "</h4> </div>"
   ]
  },
  {
   "cell_type": "markdown",
   "id": "c59138eb-c35e-425a-97f1-597cc2de6568",
   "metadata": {},
   "source": [
    "- Is a C language library that is used to implement lightweight disk-based databases that are small, fast, self-contained, and highly reliable. <br><br>\n",
    "- This makes it popular across organizations for regular application development as these databases don’t require a separate server process and can be directly integrated into applications.<br><br>\n",
    "- Python provides the sqlite3 module that can help you interact with SQLite databases. <br><br>\n",
    "- No need to install this dependency as it already comes preinstalled with Python>2.5. <br><br>\n",
    "- To select data from the SQLite database the code will look like this:<br>"
   ]
  },
  {
   "cell_type": "markdown",
   "id": "472c717d-1e8e-410c-8f97-5fc2ee6f7a48",
   "metadata": {},
   "source": [
    "#### Creating a Database"
   ]
  },
  {
   "cell_type": "code",
   "execution_count": 1,
   "id": "3e7ed33c-45be-4548-99d2-a94695f2d854",
   "metadata": {},
   "outputs": [],
   "source": [
    "import sqlite3 as sql\n",
    "\n",
    "# Connect to a database (or create it if it doesn't exist)\n",
    "connection = sql.connect('demo.db')\n",
    "\n",
    "# Create a cursor object using the connection. A cursor is a control structure that enables traversal over the records in a database.\n",
    "cursor = connection.cursor()"
   ]
  },
  {
   "cell_type": "markdown",
   "id": "878cf9fd-2949-4f28-867e-3819ae23439a",
   "metadata": {},
   "source": [
    "#### 3. Creating a Table\n",
    "\n",
    "#### SQL Syntax for Creating a Table\n",
    "To store data, you first need to create a table.\n",
    "\n",
    "```sql\n",
    "CREATE TABLE people (\r\n",
    "    id INTEGER PRIMARY KEY,\r\n",
    "    name TEXT NOT NULL,\r\n",
    "    age INTEGER,\r\n",
    "    city TEXT```\n",
    ");\r\n",
    "\n"
   ]
  },
  {
   "cell_type": "code",
   "execution_count": 11,
   "id": "46a6a29d-717a-44e8-a60f-e7458554cda8",
   "metadata": {},
   "outputs": [
    {
     "data": {
      "text/plain": [
       "<sqlite3.Cursor at 0x160ee662840>"
      ]
     },
     "execution_count": 11,
     "metadata": {},
     "output_type": "execute_result"
    }
   ],
   "source": [
    "# Create an sql table in python\n",
    "\n",
    "cursor.execute('''\n",
    "CREATE TABLE people1(\n",
    "    id INTEGER PRIMARY KEY,\n",
    "    name TEXT NOT NULL,\n",
    "    age INTEGER,\n",
    "    city TEXT\n",
    ");\n",
    "''')\n"
   ]
  },
  {
   "cell_type": "code",
   "execution_count": 13,
   "id": "59c4d090-22df-4b11-a5f2-ea1060432928",
   "metadata": {},
   "outputs": [],
   "source": [
    "# Commit the changes and close the connection\n",
    "connection.commit()"
   ]
  },
  {
   "cell_type": "markdown",
   "id": "1eb80421-4daf-4039-857f-aa3bf8f886c1",
   "metadata": {},
   "source": [
    "#### 4. Inserting Data\n",
    "\n",
    "#### SQL Syntax for Inserting Data\n",
    "\n",
    "To add data to the table, you use the INSERT statement.\n",
    "\n",
    "```sql\n",
    "INSERT INTO people (name, age, city) VALUES ('Alice', 30, 'New York');\r\n",
    "INSERT INTO people (name, age, city) VALUES ('Bob', 25, 'Los Angeles');\n",
    "\n",
    "```"
   ]
  },
  {
   "cell_type": "code",
   "execution_count": 24,
   "id": "61cbe10f-1444-450f-b2c9-ed86f88dc9ce",
   "metadata": {},
   "outputs": [],
   "source": [
    "# Insert data in sql table in python\n",
    "cursor.execute(\"INSERT INTO people (name, age, city) VALUES ('Alice', 30, 'New York')\")\n",
    "cursor.execute(\"INSERT INTO people (name, age, city) VALUES ('Bob', 25, 'Los Angeles')\")\n",
    "\n",
    "# Commit the changes\n",
    "connection.commit()"
   ]
  },
  {
   "cell_type": "markdown",
   "id": "2454876b-3c40-4d87-be8a-d2509232becd",
   "metadata": {},
   "source": [
    "#### 5. Querying Data\n",
    "\n",
    "#### SQL Syntax for Querying Data\n",
    "To retrieve data from the table, you use the SELECT statement.\n",
    "\n",
    "```sql\n",
    "SELECT * FROM people;\r\n",
    "\n",
    "```"
   ]
  },
  {
   "cell_type": "code",
   "execution_count": 28,
   "id": "5f7a7298-895b-473c-9c4f-3402a2809048",
   "metadata": {},
   "outputs": [
    {
     "name": "stdout",
     "output_type": "stream",
     "text": [
      "(1, 'Alice', 30, 'New York')\n",
      "(2, 'Bob', 25, 'Los Angeles')\n",
      "(3, 'Alice', 30, 'New York')\n",
      "(4, 'Bob', 25, 'Los Angeles')\n",
      "(5, 'Alice', 30, 'New York')\n",
      "(6, 'Bob', 25, 'Los Angeles')\n"
     ]
    }
   ],
   "source": [
    "# Query the data from sql table using python\r\n",
    "cursor.execute(\"SELECT * FROM people\")\r\n",
    "\r\n",
    "# Fetch all results\r\n",
    "results = cursor.fetchall()\r\n",
    "\r\n",
    "# Display the results\r\n",
    "for row in results:\r\n",
    "    print(row)\r\n"
   ]
  },
  {
   "cell_type": "code",
   "execution_count": 92,
   "id": "dbf9d276-def9-4b7f-9845-30c6da04f197",
   "metadata": {},
   "outputs": [
    {
     "data": {
      "text/html": [
       "<div>\n",
       "<style scoped>\n",
       "    .dataframe tbody tr th:only-of-type {\n",
       "        vertical-align: middle;\n",
       "    }\n",
       "\n",
       "    .dataframe tbody tr th {\n",
       "        vertical-align: top;\n",
       "    }\n",
       "\n",
       "    .dataframe thead th {\n",
       "        text-align: right;\n",
       "    }\n",
       "</style>\n",
       "<table border=\"1\" class=\"dataframe\">\n",
       "  <thead>\n",
       "    <tr style=\"text-align: right;\">\n",
       "      <th></th>\n",
       "      <th>0</th>\n",
       "      <th>1</th>\n",
       "      <th>2</th>\n",
       "    </tr>\n",
       "  </thead>\n",
       "  <tbody>\n",
       "    <tr>\n",
       "      <th>0</th>\n",
       "      <td>Monty Python and the Holy Grail</td>\n",
       "      <td>1975</td>\n",
       "      <td>8.2</td>\n",
       "    </tr>\n",
       "    <tr>\n",
       "      <th>1</th>\n",
       "      <td>And Now for Something Completely Different</td>\n",
       "      <td>1971</td>\n",
       "      <td>7.5</td>\n",
       "    </tr>\n",
       "    <tr>\n",
       "      <th>2</th>\n",
       "      <td>Monty Python Live at the Hollywood Bowl</td>\n",
       "      <td>1982</td>\n",
       "      <td>7.9</td>\n",
       "    </tr>\n",
       "    <tr>\n",
       "      <th>3</th>\n",
       "      <td>Monty Python's The Meaning of Life</td>\n",
       "      <td>1983</td>\n",
       "      <td>7.5</td>\n",
       "    </tr>\n",
       "    <tr>\n",
       "      <th>4</th>\n",
       "      <td>Monty Python's Life of Brian</td>\n",
       "      <td>1979</td>\n",
       "      <td>8.0</td>\n",
       "    </tr>\n",
       "  </tbody>\n",
       "</table>\n",
       "</div>"
      ],
      "text/plain": [
       "                                            0     1    2\n",
       "0             Monty Python and the Holy Grail  1975  8.2\n",
       "1  And Now for Something Completely Different  1971  7.5\n",
       "2     Monty Python Live at the Hollywood Bowl  1982  7.9\n",
       "3          Monty Python's The Meaning of Life  1983  7.5\n",
       "4                Monty Python's Life of Brian  1979  8.0"
      ]
     },
     "execution_count": 92,
     "metadata": {},
     "output_type": "execute_result"
    }
   ],
   "source": [
    "# create dataframe of your results\n",
    "import pandas as pd\n",
    "df = pd.DataFrame(results)\n",
    "df"
   ]
  },
  {
   "cell_type": "markdown",
   "id": "0f89ff60-2e6c-4e81-ad13-8fe66f429c9f",
   "metadata": {},
   "source": [
    "#### 6. Closing the Connection`"
   ]
  },
  {
   "cell_type": "code",
   "execution_count": 44,
   "id": "d83cf1ef-5d1a-4528-9f03-e258a7e03a71",
   "metadata": {},
   "outputs": [],
   "source": [
    "# Close the connection\n",
    "connection.close()"
   ]
  },
  {
   "cell_type": "markdown",
   "id": "f1d3a5ef-21eb-441f-bdf3-1ad90b53f1b0",
   "metadata": {},
   "source": [
    "#### Example 2"
   ]
  },
  {
   "cell_type": "code",
   "execution_count": 58,
   "id": "4ddc87a3-76bb-4b61-ac38-959c66899537",
   "metadata": {},
   "outputs": [],
   "source": [
    "# import dependency \n",
    "import sqlite3 as sql"
   ]
  },
  {
   "cell_type": "code",
   "execution_count": 60,
   "id": "182586da-c4e9-43bd-9d1e-407ae84b23e3",
   "metadata": {},
   "outputs": [],
   "source": [
    "# create a connection to the database and a cursor to execute queries\n",
    "conn = sql.connect('demo.db')\n",
    "cur = conn.cursor()"
   ]
  },
  {
   "cell_type": "code",
   "execution_count": 62,
   "id": "b5649276-4a9f-4373-9855-66f0c0b97f8c",
   "metadata": {},
   "outputs": [
    {
     "data": {
      "text/plain": [
       "<sqlite3.Cursor at 0x160f0f8c8c0>"
      ]
     },
     "execution_count": 62,
     "metadata": {},
     "output_type": "execute_result"
    }
   ],
   "source": [
    "# create the table\n",
    "cur.execute(\"CREATE TABLE movies(title, year, score)\")"
   ]
  },
  {
   "cell_type": "code",
   "execution_count": 66,
   "id": "943063c1-939a-4dfc-aa27-67c3f4568017",
   "metadata": {},
   "outputs": [
    {
     "data": {
      "text/plain": [
       "<sqlite3.Cursor at 0x160f0f8c8c0>"
      ]
     },
     "execution_count": 66,
     "metadata": {},
     "output_type": "execute_result"
    }
   ],
   "source": [
    "cur.execute(\"\"\"\n",
    "    INSERT INTO movies VALUES\n",
    "        ('Monty Python and the Holy Grail', 1975, 8.2),\n",
    "        ('And Now for Something Completely Different', 1971, 7.5)\n",
    "\"\"\")"
   ]
  },
  {
   "cell_type": "code",
   "execution_count": 74,
   "id": "4eceae42-e044-4283-81e0-0f2d0efa01d7",
   "metadata": {},
   "outputs": [],
   "source": [
    "conn.commit() # Remember to commit the transaction after executing INSERT."
   ]
  },
  {
   "cell_type": "code",
   "execution_count": 78,
   "id": "b13482cd-4c70-4271-bef8-6c294ab66cda",
   "metadata": {},
   "outputs": [],
   "source": [
    "data = [\n",
    "    (\"Monty Python Live at the Hollywood Bowl\", 1982, 7.9),\n",
    "    (\"Monty Python's The Meaning of Life\", 1983, 7.5),\n",
    "    (\"Monty Python's Life of Brian\", 1979, 8.0),\n",
    "]\n",
    "cur.executemany(\"INSERT INTO movies VALUES(?, ?, ?)\", data)\n",
    "conn.commit()  # Remember to commit the transaction after executing INSERT."
   ]
  },
  {
   "cell_type": "code",
   "execution_count": 80,
   "id": "7e1457e4-8711-424e-93e8-1c0b361d27dd",
   "metadata": {},
   "outputs": [
    {
     "data": {
      "text/plain": [
       "[('Monty Python and the Holy Grail', 1975, 8.2),\n",
       " ('And Now for Something Completely Different', 1971, 7.5),\n",
       " ('Monty Python Live at the Hollywood Bowl', 1982, 7.9),\n",
       " (\"Monty Python's The Meaning of Life\", 1983, 7.5),\n",
       " (\"Monty Python's Life of Brian\", 1979, 8.0)]"
      ]
     },
     "execution_count": 80,
     "metadata": {},
     "output_type": "execute_result"
    }
   ],
   "source": [
    "# query data from database\n",
    "query = \"SELECT * FROM movies\"\n",
    "results = cur.execute(query).fetchall()\n",
    "results"
   ]
  },
  {
   "cell_type": "code",
   "execution_count": 84,
   "id": "06811546-904d-4836-8537-503676129790",
   "metadata": {},
   "outputs": [
    {
     "name": "stdout",
     "output_type": "stream",
     "text": [
      "(1971, 'And Now for Something Completely Different')\n",
      "(1975, 'Monty Python and the Holy Grail')\n",
      "(1979, \"Monty Python's Life of Brian\")\n",
      "(1982, 'Monty Python Live at the Hollywood Bowl')\n",
      "(1983, \"Monty Python's The Meaning of Life\")\n"
     ]
    }
   ],
   "source": [
    "for row in cur.execute(\"SELECT year, title FROM movies ORDER BY year\"):\n",
    "    print(row)"
   ]
  },
  {
   "cell_type": "code",
   "execution_count": 88,
   "id": "c4e3e4cf-3f8e-45d7-9460-1b93132d6015",
   "metadata": {},
   "outputs": [
    {
     "data": {
      "text/html": [
       "<div>\n",
       "<style scoped>\n",
       "    .dataframe tbody tr th:only-of-type {\n",
       "        vertical-align: middle;\n",
       "    }\n",
       "\n",
       "    .dataframe tbody tr th {\n",
       "        vertical-align: top;\n",
       "    }\n",
       "\n",
       "    .dataframe thead th {\n",
       "        text-align: right;\n",
       "    }\n",
       "</style>\n",
       "<table border=\"1\" class=\"dataframe\">\n",
       "  <thead>\n",
       "    <tr style=\"text-align: right;\">\n",
       "      <th></th>\n",
       "      <th>0</th>\n",
       "      <th>1</th>\n",
       "      <th>2</th>\n",
       "    </tr>\n",
       "  </thead>\n",
       "  <tbody>\n",
       "    <tr>\n",
       "      <th>0</th>\n",
       "      <td>Monty Python and the Holy Grail</td>\n",
       "      <td>1975</td>\n",
       "      <td>8.2</td>\n",
       "    </tr>\n",
       "    <tr>\n",
       "      <th>1</th>\n",
       "      <td>And Now for Something Completely Different</td>\n",
       "      <td>1971</td>\n",
       "      <td>7.5</td>\n",
       "    </tr>\n",
       "    <tr>\n",
       "      <th>2</th>\n",
       "      <td>Monty Python Live at the Hollywood Bowl</td>\n",
       "      <td>1982</td>\n",
       "      <td>7.9</td>\n",
       "    </tr>\n",
       "    <tr>\n",
       "      <th>3</th>\n",
       "      <td>Monty Python's The Meaning of Life</td>\n",
       "      <td>1983</td>\n",
       "      <td>7.5</td>\n",
       "    </tr>\n",
       "    <tr>\n",
       "      <th>4</th>\n",
       "      <td>Monty Python's Life of Brian</td>\n",
       "      <td>1979</td>\n",
       "      <td>8.0</td>\n",
       "    </tr>\n",
       "  </tbody>\n",
       "</table>\n",
       "</div>"
      ],
      "text/plain": [
       "                                            0     1    2\n",
       "0             Monty Python and the Holy Grail  1975  8.2\n",
       "1  And Now for Something Completely Different  1971  7.5\n",
       "2     Monty Python Live at the Hollywood Bowl  1982  7.9\n",
       "3          Monty Python's The Meaning of Life  1983  7.5\n",
       "4                Monty Python's Life of Brian  1979  8.0"
      ]
     },
     "execution_count": 88,
     "metadata": {},
     "output_type": "execute_result"
    }
   ],
   "source": [
    "import pandas as pd\n",
    "df = pd.DataFrame(results)\n",
    "df"
   ]
  },
  {
   "cell_type": "markdown",
   "id": "022c542d-672f-4ea3-92bf-77cb3de451b1",
   "metadata": {},
   "source": [
    "<div style=\"background-color: lightblue; color: black; padding: 4px;\">\n",
    "    <h4> Data from MySQL DB\n",
    "</h4> </div>"
   ]
  },
  {
   "cell_type": "markdown",
   "id": "82a729ee-2785-4e94-938c-8539cbcc1a72",
   "metadata": {},
   "source": [
    "SQLite is a specific implementation of SQL that is lightweight and easy to use. Most basic SQL syntax, such as creating tables, inserting data, and querying, remains the same in both. \n",
    "\n",
    "- MySQL is an open-source relational database management system (RDBMS) that uses SQL (Structured Query Language) for database operations. <br>\n",
    "\n",
    "- It is widely used for web applications and is known for its reliability, performance, and ease of use. MySQL is part of the LAMP stack (Linux, Apache, MySQL, PHP) and is commonly used with various programming languages, including Python. <br>\n",
    "\n",
    "- Many organizations use this DB to store business data for different purposes due to its performance, reliability, and versatility. <br>\n",
    "\n",
    "- Python provides a lot of connector modules to connect to MySQL, one of them is mysql-connector. <br>\n",
    "\n",
    "- It can be downloaded using PIP as follows:<br>\n",
    "pip install mysql-connector"
   ]
  },
  {
   "cell_type": "markdown",
   "id": "6a8cd4b0-f889-49b6-b7c0-54ff360c624a",
   "metadata": {},
   "source": [
    "#### Demo: Using MySQL with Python\n",
    "\n",
    "You need to have a MySQL database for this. You can create your own by going here: https://dev.mysql.com/downloads/mysql\n",
    "1. Download the Installer\n",
    "2. Run the installer\n",
    "3. Configure the MySQL Server.\n",
    "4. Set a root password (make sure to remember this) and configure other settings as needed.\n",
    "5. Go to MySql CL client\n",
    "6. Enter the root password\n",
    "7. Create a database using: CREATE DATABASE idrees_db;\n",
    "\n",
    "\n",
    "\n",
    "#### Step 1: Install MySQL Connector\n",
    "Before we start, make sure to install the MySQL Connector for Python. You can do this using pip:\n",
    "```bash\n",
    "pip install mysql-connector-python"
   ]
  },
  {
   "cell_type": "code",
   "execution_count": null,
   "id": "1cd3ada1-2e3e-4b75-8de0-6ff497f8c122",
   "metadata": {},
   "outputs": [],
   "source": [
    "# pip install mysql-connector-python"
   ]
  },
  {
   "cell_type": "code",
   "execution_count": 113,
   "id": "3db23347-bb79-4d8c-af7a-162ac0732a9d",
   "metadata": {},
   "outputs": [],
   "source": [
    "# import mysql dependency\n",
    "import mysql.connector # cmd/terminal -> pip install \n",
    "import pandas as pd"
   ]
  },
  {
   "cell_type": "code",
   "execution_count": 117,
   "id": "5be057e8-3314-4920-aebf-5be89d864822",
   "metadata": {},
   "outputs": [],
   "source": [
    "# Connect to the MySQL database\n",
    "connection = mysql.connector.connect(\n",
    "    host='localhost',\n",
    "    user='idrees',\n",
    "    password='qwerty12345',\n",
    "    database='idrees_db'\n",
    ")\n",
    "\n",
    "# Create a cursor object\n",
    "cursor = connection.cursor()"
   ]
  },
  {
   "cell_type": "code",
   "execution_count": 119,
   "id": "c18be8c5-56ea-4353-bde2-2c65a366adf9",
   "metadata": {},
   "outputs": [],
   "source": [
    "# Create a table\n",
    "cursor.execute('''\n",
    "CREATE TABLE users (\n",
    "    id INT AUTO_INCREMENT PRIMARY KEY,\n",
    "    name VARCHAR(100) NOT NULL,\n",
    "    age INT\n",
    ");\n",
    "''')"
   ]
  },
  {
   "cell_type": "code",
   "execution_count": 121,
   "id": "0de47518-5f0f-4144-b9ae-704894f84710",
   "metadata": {},
   "outputs": [],
   "source": [
    "# Insert sample data\n",
    "cursor.execute(\"INSERT INTO users (name, age) VALUES ('Alice', 30)\")\n",
    "cursor.execute(\"INSERT INTO users (name, age) VALUES ('Bob', 25)\")\n",
    "\n",
    "# Commit the changes\n",
    "connection.commit()"
   ]
  },
  {
   "cell_type": "code",
   "execution_count": 123,
   "id": "b96c0cff-b33c-4845-8822-4a812404c280",
   "metadata": {},
   "outputs": [
    {
     "name": "stdout",
     "output_type": "stream",
     "text": [
      "(1, 'Alice', 30)\n",
      "(2, 'Bob', 25)\n"
     ]
    }
   ],
   "source": [
    "# Query the data\n",
    "cursor.execute(\"SELECT * FROM users\")\n",
    "\n",
    "# Fetch all results\n",
    "results = cursor.fetchall()\n",
    "\n",
    "# Display the results\n",
    "for row in results:\n",
    "    print(row)"
   ]
  },
  {
   "cell_type": "code",
   "execution_count": 127,
   "id": "6884af38-f938-4094-be7c-33947a666647",
   "metadata": {},
   "outputs": [
    {
     "data": {
      "text/html": [
       "<div>\n",
       "<style scoped>\n",
       "    .dataframe tbody tr th:only-of-type {\n",
       "        vertical-align: middle;\n",
       "    }\n",
       "\n",
       "    .dataframe tbody tr th {\n",
       "        vertical-align: top;\n",
       "    }\n",
       "\n",
       "    .dataframe thead th {\n",
       "        text-align: right;\n",
       "    }\n",
       "</style>\n",
       "<table border=\"1\" class=\"dataframe\">\n",
       "  <thead>\n",
       "    <tr style=\"text-align: right;\">\n",
       "      <th></th>\n",
       "      <th>0</th>\n",
       "      <th>1</th>\n",
       "      <th>2</th>\n",
       "    </tr>\n",
       "  </thead>\n",
       "  <tbody>\n",
       "    <tr>\n",
       "      <th>0</th>\n",
       "      <td>1</td>\n",
       "      <td>Alice</td>\n",
       "      <td>30</td>\n",
       "    </tr>\n",
       "    <tr>\n",
       "      <th>1</th>\n",
       "      <td>2</td>\n",
       "      <td>Bob</td>\n",
       "      <td>25</td>\n",
       "    </tr>\n",
       "  </tbody>\n",
       "</table>\n",
       "</div>"
      ],
      "text/plain": [
       "   0      1   2\n",
       "0  1  Alice  30\n",
       "1  2    Bob  25"
      ]
     },
     "execution_count": 127,
     "metadata": {},
     "output_type": "execute_result"
    }
   ],
   "source": [
    "import pandas as pd\n",
    "df = pd.DataFrame(results)\n",
    "df"
   ]
  },
  {
   "cell_type": "markdown",
   "id": "f2185430-3791-45df-824f-bdec6d7145e3",
   "metadata": {},
   "source": [
    "<div class=\"alert alert-block alert-warning\">\n",
    "    <b><font size=\"5\"> Live Exercise</font> </b>\n",
    "</div>"
   ]
  },
  {
   "cell_type": "markdown",
   "id": "bf8d61af-f3e8-4afc-a66b-3814e160aaf3",
   "metadata": {},
   "source": [
    "Now it's your turn!\n",
    "### Task 1: Create a Customer Database in SQLite\n",
    "\n",
    "- Objective:\n",
    "    You will create an SQLite database to manage customer data for a fictional bookstore called \"Bookshelf Haven.\" This task will help you practice your SQL skills in creating tables, inserting data, and retrieving information.\n",
    "  \n",
    "- Sample Data:\n",
    "You will create a customers table and populate it with the following sample data:  "
   ]
  },
  {
   "attachments": {
    "d019cd1d-777c-4719-ab00-f327535821c9.png": {
     "image/png": "[encoded data removed]"
    }
   },
   "cell_type": "markdown",
   "id": "58dcadbe-4836-4a82-aec6-9018ae83e960",
   "metadata": {},
   "source": [
    "![image.png](attachment:d019cd1d-777c-4719-ab00-f327535821c9.png)"
   ]
  },
  {
   "cell_type": "markdown",
   "id": "b7ffe229-7aa2-4f4b-a559-8b01f1753f55",
   "metadata": {},
   "source": [
    "### Task 2: Create a Library Database in mySQL (Optional - Advanced)\n",
    "\n",
    "- Objective:\n",
    "    You will create a MySQL database to manage data for a fictional library 'Reader Closet'. This task will help you practice your SQL skills in creating tables, inserting data, and retrieving information.\n",
    "  \n",
    "- Sample Data:\n",
    "You will create two tables: ```members``` and ```books```. Populate them with the given sample data."
   ]
  },
  {
   "cell_type": "markdown",
   "id": "702d6252-7fca-4b4e-9fcc-8485297ca673",
   "metadata": {},
   "source": [
    "#### Members Table"
   ]
  },
  {
   "attachments": {
    "6c586493-71fe-4c88-b739-255f97034a8a.png": {
     "image/png": "[encoded data removed]"
    }
   },
   "cell_type": "markdown",
   "id": "8aeec3d0-e364-441b-add7-faba7bba76cd",
   "metadata": {},
   "source": [
    "![image.png](attachment:6c586493-71fe-4c88-b739-255f97034a8a.png)"
   ]
  },
  {
   "cell_type": "markdown",
   "id": "996e53f2-1de0-4f74-bdc8-2122f1bd4218",
   "metadata": {},
   "source": [
    "#### Books Table"
   ]
  },
  {
   "attachments": {
    "780c35d4-6e8b-467c-a260-e4cedd041f21.png": {
     "image/png": "[encoded data removed]"
    }
   },
   "cell_type": "markdown",
   "id": "9c94cae1-de2f-4e16-bb86-c22cc8b24f7b",
   "metadata": {},
   "source": [
    "![image.png](attachment:780c35d4-6e8b-467c-a260-e4cedd041f21.png)"
   ]
  },
  {
   "cell_type": "markdown",
   "id": "c94de7c0-7425-4758-a5ec-068399a4d08f",
   "metadata": {},
   "source": [
    "#### Instructions:\r\n",
    "\r\n",
    "1. Create a new MySQL database named `library_db`.\r\n",
    "2. Create the `members` table with the following columns:\r\n",
    "   - `member_id` (Primary Key, auto-incremented)\r\n",
    "   - `name` (VARCHAR)\r\n",
    "   - `email` (VARCHAR, must be unique)\r\n",
    "   - `join_date` (DATE)\r\n",
    "3. Create the `books` table with the following columns:\r\n",
    "   - `book_id` (Primary Key, auto-incremented)\r\n",
    "   - `title` (VARCHAR)\r\n",
    "   - `author` (VARCHAR)\r\n",
    "   - `published_year` (YEAR)\r\n",
    "   - `available_copies` (INT)\r\n",
    "4. Insert the provided sample data into the `members` and `books` tables.\r\n",
    "5. Write SQL queries to:\r\n",
    "   - List all members who joined after January 1, 2024.\r\n",
    "   - Find the total number of available copies for all books.\r\n",
    "   - Get the details of the book with the highest published year.\r\n"
   ]
  },
  {
   "cell_type": "markdown",
   "id": "b69ed7ea-1940-434d-bb2d-601d07994783",
   "metadata": {},
   "source": [
    "<div style=\"background-color: lightblue; color: white; padding: 10px; text-align: center;\">\n",
    "    <h1>_________________________________END________________________________\n",
    "</h1> </div>"
   ]
  },
  {
   "cell_type": "markdown",
   "id": "13e86481-eae2-4019-9515-66a43a30f0fb",
   "metadata": {},
   "source": [
    "<div style=\"background-color: #002147; color: #fff; padding: 30px; text-align: center;\">\n",
    "    <h1>THANK YOU!\n",
    "</h1> </div>"
   ]
  },
  {
   "cell_type": "markdown",
   "id": "aefa2f04-f141-405d-8a9f-8cf186d66f41",
   "metadata": {},
   "source": [
    "<div style=\"background-color: lightgreen; color: black; padding: 30px;\">\n",
    "    <h4> Live Exercise Solutions\n",
    "        \n",
    "</h4> </div>"
   ]
  },
  {
   "cell_type": "markdown",
   "id": "b5a4b07f-8108-4124-8ce6-3d3ff1028fc4",
   "metadata": {},
   "source": [
    "### Task 1: Create a Customer Database in SQLite"
   ]
  },
  {
   "cell_type": "code",
   "execution_count": null,
   "id": "41d961ea-d250-46bf-ab73-139415180ab6",
   "metadata": {},
   "outputs": [],
   "source": [
    "# Fill with your code\n"
   ]
  },
  {
   "cell_type": "markdown",
   "id": "28d2d0ea-79f2-4be1-b79e-3363a49fc36c",
   "metadata": {},
   "source": [
    "#### Create a Library Database in mySQL (Optional - Advanced)"
   ]
  },
  {
   "cell_type": "code",
   "execution_count": null,
   "id": "2f30a074-97cc-4956-8532-986e1ac7149e",
   "metadata": {},
   "outputs": [],
   "source": [
    "# Fill with your code\n"
   ]
  },
  {
   "cell_type": "markdown",
   "id": "36f2d487-56ef-4c22-a1c9-d25e9df33e37",
   "metadata": {},
   "source": [
    "<div class=\"alert alert-block alert-warning\"  padding: 10px; text-align: center;\">\n",
    "    <font size=\"3\"> Programming Interveiw Questions</font>\n",
    "</div>"
   ]
  },
  {
   "cell_type": "markdown",
   "id": "d4e08c3f-3e5b-46a6-9fbb-456cbd850553",
   "metadata": {},
   "source": [
    "\r\n",
    "1. **Data Types**\r\n",
    "   - **Question:** What are the main types of data that data analysts work with? Can you briefly explain each type?\r\n",
    "   - **Source:** Frequently asked in **entry-level data analyst interviews** at companies like **IBM** and **Google**.\r\n",
    "\r\n",
    "2. **Data Sources**\r\n",
    "   - **Question:** Where can data analysts obtain data from? Provide at least three examples of data sources.\r\n",
    "   - **Source:** Found in **data acquisition** discussions in interviews at companies like **Facebook** and **Amazon**.\r\n",
    "\r\n",
    "3. **Data Formats**\r\n",
    "   - **Question:** What is a CSV file, and how is it structured? Can you provide a simple example?\r\n",
    "   - **Source:** Frequently asked by **data engineering teams** at **Apple** and **Tesla**.\r\n",
    "\r\n",
    "4. **JSON Structure**\r\n",
    "   - **Question:** Describe the structure of a JSON file. How does it differ from a CSV file in terms of data representation?\r\n",
    "   - **Source:** Common in **data acquisition roles** at companies like **Google** and **Netflix**.\r\n",
    "\r\n",
    "5. **XML Overview**\r\n",
    "   - **Question:** What is XML, and how is it used in data storage? Can you give an example of a simple XML file?\r\n",
    "   - **Source:** Frequently covered in **database administration interviews** at **Oracle** and **IBM**.\r\n",
    "\r\n",
    "6. **SQL Basics**\r\n",
    "   - **Question:** What is SQL, and why is it important for data analysts?\r\n",
    "   - **Source:** Frequently asked at **entry-level SQL developer interviews** at companies like **Uber** and **Salesforce**.\r\n",
    "\r\n",
    "7. **MySQL vs. SQLite**\r\n",
    "   - **Question:** What are some key differences between MySQL and SQLite in terms of usage and features?\r\n",
    "   - **Source:** Discussed in interviews for **data platform engineers** at **Microsoft** and **Airbnb**.\r\n",
    "\r\n",
    "8. **Creating a Database**\r\n",
    "   - **Question:** How would you create a new database in MySQL using the command line?\r\n",
    "   - **Source:** Asked in **database engineering interviews** at companies like **Stripe** and **PayPal**.\r\n",
    "\r\n",
    "9. **Inserting Data**\r\n",
    "   - **Question:** Explain how to insert data into a table in SQL. Can you provide a simple SQL command example?\r\n",
    "   - **Source:** Found in **SQL interviews** at companies like **Amazon** and **Spotify**.\r\n",
    "\r\n",
    "10. **Data Acquisition**\r\n",
    "    - **Question:** What are the primary methods for acquiring data? Can you briefly explain how SQL can be used for this purpose?\r\n",
    "    - **Source:** Frequently asked at **data analyst interviews** at companies like **Google** and **IBM**.\r\n"
   ]
  },
  {
   "cell_type": "code",
   "execution_count": null,
   "id": "e7e36dfa-ea9c-4613-9b13-0c9fcc270d60",
   "metadata": {},
   "outputs": [],
   "source": []
  },
  {
   "cell_type": "code",
   "execution_count": null,
   "id": "71b804d2-30ba-4da7-b821-c42b4a367c83",
   "metadata": {},
   "outputs": [],
   "source": []
  },
  {
   "cell_type": "markdown",
   "id": "3e92ba4c-672c-4e9f-b842-2b2d9234e5ff",
   "metadata": {},
   "source": [
    "<h2 style=\"background-color: #ffe4e1; color: #2f4f4f; padding: 10px; border-radius: 10px; width: 350px; text-align: center; float: right; margin: 20px 0;\">\n",
    "    Mohammad Idrees Bhat<br>\n",
    "    <span style=\"font-size: 12px; color: #696969;\">\n",
    "        Tech Skills Trainer | AI/ML Consultant\n",
    "    </span>\n",
    "</h2>"
   ]
  }
 ],
 "metadata": {
  "kernelspec": {
   "display_name": "Python 3 (ipykernel)",
   "language": "python",
   "name": "python3"
  },
  "language_info": {
   "codemirror_mode": {
    "name": "ipython",
    "version": 3
   },
   "file_extension": ".py",
   "mimetype": "text/x-python",
   "name": "python",
   "nbconvert_exporter": "python",
   "pygments_lexer": "ipython3",
   "version": "3.12.4"
  }
 },
 "nbformat": 4,
 "nbformat_minor": 5
}
