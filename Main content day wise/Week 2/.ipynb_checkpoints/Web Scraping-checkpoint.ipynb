{
 "cells": [
  {
   "cell_type": "markdown",
   "id": "5d5646b1",
   "metadata": {},
   "source": [
    "# Web Scraping using Python (and Beautiful Soup)"
   ]
  },
  {
   "cell_type": "markdown",
   "id": "6af1973e",
   "metadata": {},
   "source": [
    "- Web scraping is a term used to describe the use of a program or algorithm to extract and process large amounts of data from the web. \n",
    "\n",
    "- Whether you are a data scientist, engineer, or anybody who analyzes large amounts of datasets, the ability to scrape data from the web is a useful skill to have. \n",
    "\n",
    "- Let's say you find data from the web, and there is no direct way to download it, web scraping using Python is a skill you can use to extract the data into a useful form that can be imported."
   ]
  },
  {
   "cell_type": "markdown",
   "id": "c704df72",
   "metadata": {},
   "source": [
    "In this session, you will learn about the following:\n",
    "\n",
    "- Data extraction from the web using Python's Beautiful Soup module\n",
    "- Data manipulation and cleaning using Python's Pandas library\n",
    "- Data visualization using Python's Matplotlib library"
   ]
  },
  {
   "cell_type": "markdown",
   "id": "07065ee4",
   "metadata": {},
   "source": [
    "The dataset used in this tutorial was taken from a 10K race that took place in Hillsboro, OR on June 2017. Specifically, you will analyze the performance of the 10K runners and answer questions such as:\n",
    "\n",
    "- What was the average finish time for the runners?\n",
    "- Did the runners' finish times follow a normal distribution?\n",
    "- Were there any performance differences between males and females of various age groups?"
   ]
  },
  {
   "cell_type": "code",
   "execution_count": 10,
   "id": "5b2e8088",
   "metadata": {},
   "outputs": [],
   "source": [
    "# Importing the necessary modules (pandas, numpy, matplotlib.pyplot, seaborn)\n",
    "import pandas as pd\n",
    "import numpy as np\n",
    "import matplotlib.pyplot as plt\n",
    "import seaborn as sns\n",
    "%matplotlib inline"
   ]
  },
  {
   "cell_type": "code",
   "execution_count": 17,
   "id": "8f3b27a3",
   "metadata": {},
   "outputs": [],
   "source": [
    "# To perform web scraping, you should also import the libraries shown below. \n",
    "# The urllib.request module is used to open URLs. \n",
    "# The Beautiful Soup package is used to extract data from html files. \n",
    "# The Beautiful Soup library's name is bs4 which stands for Beautiful Soup, version 4.\n",
    "\n",
    "from urllib.request import urlopen\n",
    "from bs4 import BeautifulSoup"
   ]
  },
  {
   "cell_type": "code",
   "execution_count": 18,
   "id": "e9596572",
   "metadata": {},
   "outputs": [
    {
     "data": {
      "text/plain": [
       "<http.client.HTTPResponse at 0x1491940a0>"
      ]
     },
     "execution_count": 18,
     "metadata": {},
     "output_type": "execute_result"
    }
   ],
   "source": [
    "# Getting the html of the page is just the first step.\n",
    "# After importing necessary modules,specify the URL containing the dataset and pass it to urlopen() to get the html of the page.\n",
    "url = \"http://www.hubertiming.com/results/2017GPTR10K\"\n",
    "html = urlopen(url)\n",
    "html"
   ]
  },
  {
   "cell_type": "code",
   "execution_count": 19,
   "id": "27bb914f",
   "metadata": {},
   "outputs": [
    {
     "data": {
      "text/plain": [
       "bs4.BeautifulSoup"
      ]
     },
     "execution_count": 19,
     "metadata": {},
     "output_type": "execute_result"
    }
   ],
   "source": [
    "# Next step is to create a Beautiful Soup object from the html. \n",
    "# This is done by passing the html to the BeautifulSoup() function. \n",
    "# The Beautiful Soup package is used to parse the html, that is, take the raw html text and break it into Python objects. \n",
    "# The second argument 'lxml' is the html parser whose details you do not need to worry about at this point.\n",
    "\n",
    "soup = BeautifulSoup(html, 'lxml')\n",
    "type(soup)\n"
   ]
  },
  {
   "cell_type": "code",
   "execution_count": 20,
   "id": "b2e4206b",
   "metadata": {},
   "outputs": [
    {
     "data": {
      "text/plain": [
       "bs4.BeautifulSoup"
      ]
     },
     "execution_count": 20,
     "metadata": {},
     "output_type": "execute_result"
    }
   ],
   "source": [
    "bs4.BeautifulSoup\n"
   ]
  },
  {
   "cell_type": "code",
   "execution_count": 21,
   "id": "37c9328d",
   "metadata": {},
   "outputs": [
    {
     "name": "stdout",
     "output_type": "stream",
     "text": [
      "<title>Race results for the 2017 Intel Great Place to Run \\ Urban Clash Games!</title>\n"
     ]
    }
   ],
   "source": [
    "# The soup object allows you to extract interesting information about the website you're scraping such as getting the title of the page as shown below.\n",
    "\n",
    "# Get the title\n",
    "title = soup.title\n",
    "print(title)\n"
   ]
  },
  {
   "cell_type": "code",
   "execution_count": null,
   "id": "0c4eca84",
   "metadata": {},
   "outputs": [],
   "source": [
    "# You can also get the text of the webpage and quickly print it out to check if it is what you expect.\n",
    "\n",
    "# Print out the text\n",
    "text = soup.get_text()\n",
    "print(soup.text)\n",
    "\n"
   ]
  },
  {
   "cell_type": "code",
   "execution_count": null,
   "id": "8793a6d6",
   "metadata": {},
   "outputs": [],
   "source": [
    "\"\"\"\n",
    "You can use the find_all() method of soup to extract useful html tags within a webpage. \n",
    "Examples of useful tags include < a > for hyperlinks, < table > for tables, < tr > for table rows, < th > for table headers, and < td > for table cells. \n",
    "The code below shows how to extract all the hyperlinks within the webpage.\n",
    "\n",
    "\"\"\""
   ]
  },
  {
   "cell_type": "code",
   "execution_count": null,
   "id": "7e79eadb",
   "metadata": {},
   "outputs": [],
   "source": [
    "soup.find_all('a')"
   ]
  },
  {
   "cell_type": "code",
   "execution_count": null,
   "id": "37ef39d8",
   "metadata": {},
   "outputs": [],
   "source": [
    "# As you can see from the output above, html tags sometimes come with attributes such as class, src, etc. \n",
    "# These attributes provide additional information about html elements. \n",
    "# You can use a for loop and the get('\"href\") method to extract and print out only hyperlinks.\n",
    "\n",
    "all_links = soup.find_all(\"a\")\n",
    "for link in all_links:\n",
    "    print(link.get(\"href\"))"
   ]
  },
  {
   "cell_type": "code",
   "execution_count": null,
   "id": "ce098b6c",
   "metadata": {},
   "outputs": [],
   "source": [
    "# To print out table rows only, pass the 'tr' argument in soup.find_all().\n",
    "\n",
    "# Print the first 10 rows for sanity check\n",
    "rows = soup.find_all('tr')\n",
    "print(rows[:10])"
   ]
  },
  {
   "cell_type": "code",
   "execution_count": null,
   "id": "bf350d28",
   "metadata": {},
   "outputs": [],
   "source": [
    "\"\"\"\n",
    "The goal of this tutorial is to take a table from a webpage and convert it into a dataframe for easier manipulation using Python. \n",
    "To get there, you should get all table rows in list form first and then convert that list into a dataframe. \n",
    "Below is a for loop that iterates through table rows and prints out the cells of the rows.\n",
    "\n",
    "\"\"\""
   ]
  },
  {
   "cell_type": "code",
   "execution_count": null,
   "id": "947f1d2c",
   "metadata": {},
   "outputs": [],
   "source": [
    "for row in rows:\n",
    "    row_td = row.find_all('td')\n",
    "print(row_td)\n",
    "type(row_td)\n"
   ]
  },
  {
   "cell_type": "markdown",
   "id": "ce01ecf8",
   "metadata": {},
   "source": [
    "The output above shows that each row is printed with html tags embedded in each row. This is not what you want. You can use remove the html tags using Beautiful Soup or regular expressions.\n",
    "\n",
    "The easiest way to remove html tags is to use Beautiful Soup, and it takes just one line of code to do this. Pass the string of interest into BeautifulSoup() and use the get_text() method to extract the text without html tags."
   ]
  },
  {
   "cell_type": "code",
   "execution_count": null,
   "id": "526614bd",
   "metadata": {},
   "outputs": [],
   "source": [
    "str_cells = str(row_td)\n",
    "cleantext = BeautifulSoup(str_cells, \"lxml\").get_text()\n",
    "print(cleantext)\n"
   ]
  },
  {
   "cell_type": "markdown",
   "id": "2c94cc5e",
   "metadata": {},
   "source": [
    "Using regular expressions is highly discouraged since it requires several lines of code and one can easily make mistakes. It requires importing the re (for regular expressions) module. The code below shows how to build a regular expression that finds all the characters inside the < td > html tags and replace them with an empty string for each table row. First, you compile a regular expression by passing a string to match to re.compile(). The dot, star, and question mark (.*?) will match an opening angle bracket followed by anything and followed by a closing angle bracket. It matches text in a non-greedy fashion, that is, it matches the shortest possible string. If you omit the question mark, it will match all the text between the first opening angle bracket and the last closing angle bracket. After compiling a regular expression, you can use the re.sub() method to find all the substrings where the regular expression matches and replace them with an empty string. The full code below generates an empty list, extract text in between html tags for each row, and append it to the assigned list."
   ]
  },
  {
   "cell_type": "code",
   "execution_count": null,
   "id": "4c277fbf",
   "metadata": {},
   "outputs": [],
   "source": [
    "import re\n",
    "\n",
    "list_rows = []\n",
    "for row in rows:\n",
    "    cells = row.find_all('td')\n",
    "    str_cells = str(cells)\n",
    "    clean = re.compile('<.*?>')\n",
    "    clean2 = (re.sub(clean, '',str_cells))\n",
    "    list_rows.append(clean2)\n",
    "print(clean2)\n",
    "type(clean2)"
   ]
  },
  {
   "cell_type": "markdown",
   "id": "57c141a1",
   "metadata": {},
   "source": [
    "The next step is to convert the list into a dataframe and get a quick view of the first 10 rows using Pandas.\n",
    "\n",
    "\n",
    "\n"
   ]
  },
  {
   "cell_type": "code",
   "execution_count": null,
   "id": "3f8892e2",
   "metadata": {},
   "outputs": [],
   "source": [
    "df = pd.DataFrame(list_rows)\n",
    "df.head(10)\n"
   ]
  },
  {
   "cell_type": "markdown",
   "id": "411b9b7a",
   "metadata": {},
   "source": [
    "# Data Manipulation and Cleaning\n"
   ]
  },
  {
   "cell_type": "markdown",
   "id": "37d74c33",
   "metadata": {},
   "source": [
    "The dataframe is not in the format we want. To clean it up, you should split the \"0\" column into multiple columns at the comma position. This is accomplished by using the str.split() method.\n",
    "\n",
    "\n"
   ]
  },
  {
   "cell_type": "code",
   "execution_count": null,
   "id": "f746aed1",
   "metadata": {},
   "outputs": [],
   "source": [
    "df1 = df[0].str.split(',', expand=True)\n",
    "df1.head(10)\n"
   ]
  },
  {
   "cell_type": "markdown",
   "id": "e71cda09",
   "metadata": {},
   "source": [
    "This looks much better, but there is still work to do. The dataframe has unwanted square brackets surrounding each row. You can use the strip() method to remove the opening square bracket on column \"0.\"\n",
    "\n",
    "\n"
   ]
  },
  {
   "cell_type": "code",
   "execution_count": null,
   "id": "5b2756df",
   "metadata": {},
   "outputs": [],
   "source": [
    "df1[0] = df1[0].str.strip('[')\n",
    "df1.head(10)\n"
   ]
  },
  {
   "cell_type": "markdown",
   "id": "c85ceeb7",
   "metadata": {},
   "source": [
    "The table is missing table headers. You can use the find_all() method to get the table headers.\n",
    "\n",
    "\n"
   ]
  },
  {
   "cell_type": "code",
   "execution_count": null,
   "id": "9d0a41c3",
   "metadata": {},
   "outputs": [],
   "source": [
    "col_labels = soup.find_all('th')\n"
   ]
  },
  {
   "cell_type": "markdown",
   "id": "e6b1e4a3",
   "metadata": {},
   "source": [
    "Similar to table rows, you can use Beautiful Soup to extract text in between html tags for table headers.\n",
    "\n",
    "\n"
   ]
  },
  {
   "cell_type": "code",
   "execution_count": null,
   "id": "616a0eeb",
   "metadata": {},
   "outputs": [],
   "source": [
    "all_header = []\n",
    "col_str = str(col_labels)\n",
    "cleantext2 = BeautifulSoup(col_str, \"lxml\").get_text()\n",
    "all_header.append(cleantext2)\n",
    "print(all_header)\n"
   ]
  },
  {
   "cell_type": "markdown",
   "id": "979a79be",
   "metadata": {},
   "source": [
    "You can then convert the list of headers into a pandas dataframe.\n",
    "\n",
    "\n"
   ]
  },
  {
   "cell_type": "code",
   "execution_count": null,
   "id": "5c68781b",
   "metadata": {},
   "outputs": [],
   "source": [
    "df2 = pd.DataFrame(all_header)\n",
    "df2.head()\n"
   ]
  },
  {
   "cell_type": "markdown",
   "id": "681b3cc9",
   "metadata": {},
   "source": [
    "Similarly, you can split column \"0\" into multiple columns at the comma position for all rows.\n",
    "\n",
    "\n"
   ]
  },
  {
   "cell_type": "code",
   "execution_count": null,
   "id": "d9416f62",
   "metadata": {},
   "outputs": [],
   "source": [
    "df3 = df2[0].str.split(',', expand=True)\n",
    "df3.head()\n"
   ]
  },
  {
   "cell_type": "markdown",
   "id": "c67c6d42",
   "metadata": {},
   "source": [
    "The two dataframes can be concatenated into one using the concat() method as illustrated below.\n",
    "\n",
    "\n"
   ]
  },
  {
   "cell_type": "code",
   "execution_count": null,
   "id": "b1581f84",
   "metadata": {},
   "outputs": [],
   "source": [
    "frames = [df3, df1]\n",
    "\n",
    "df4 = pd.concat(frames)\n",
    "df4.head(10)\n"
   ]
  },
  {
   "cell_type": "markdown",
   "id": "e78d9de7",
   "metadata": {},
   "source": [
    "Below shows how to assign the first row to be the table header.\n",
    "\n",
    "\n"
   ]
  },
  {
   "cell_type": "code",
   "execution_count": null,
   "id": "8989c782",
   "metadata": {},
   "outputs": [],
   "source": [
    "df5 = df4.rename(columns=df4.iloc[0])\n",
    "df5.head()\n"
   ]
  },
  {
   "cell_type": "markdown",
   "id": "3deeb5cc",
   "metadata": {},
   "source": [
    "At this point, the table is almost properly formatted. For analysis, you can start by getting an overview of the data as shown below.\n",
    "\n",
    "\n"
   ]
  },
  {
   "cell_type": "code",
   "execution_count": null,
   "id": "baa42436",
   "metadata": {},
   "outputs": [],
   "source": [
    "df5.info()\n",
    "df5.shape\n"
   ]
  },
  {
   "cell_type": "code",
   "execution_count": null,
   "id": "a6143aae",
   "metadata": {},
   "outputs": [],
   "source": [
    "df6 = df5.dropna(axis=0, how='any')\n"
   ]
  },
  {
   "cell_type": "markdown",
   "id": "b7d0c34d",
   "metadata": {},
   "source": [
    "The table has 597 rows and 14 columns. You can drop all rows with any missing values.\n",
    "\n",
    "\n"
   ]
  },
  {
   "cell_type": "markdown",
   "id": "b05c77fa",
   "metadata": {},
   "source": [
    "Also, notice how the table header is replicated as the first row in df5. It can be dropped using the following line of code.\n",
    "\n",
    "\n"
   ]
  },
  {
   "cell_type": "code",
   "execution_count": null,
   "id": "ae37be59",
   "metadata": {},
   "outputs": [],
   "source": [
    "df7 = df6.drop(df6.index[0])\n",
    "df7.head()\n"
   ]
  },
  {
   "cell_type": "markdown",
   "id": "5afe2bef",
   "metadata": {},
   "source": [
    "You can perform more data cleaning by renaming the '[Place' and ' Team]' columns. Python is very picky about space. Make sure you include space after the quotation mark in ' Team]'.\n",
    "\n",
    "\n"
   ]
  },
  {
   "cell_type": "code",
   "execution_count": null,
   "id": "7d28d2f9",
   "metadata": {},
   "outputs": [],
   "source": [
    "df7.rename(columns={'[Place': 'Place'},inplace=True)\n",
    "df7.rename(columns={' Team]': 'Team'},inplace=True)\n",
    "df7.head()\n"
   ]
  },
  {
   "cell_type": "markdown",
   "id": "2eebcef6",
   "metadata": {},
   "source": [
    "The final data cleaning step involves removing the closing bracket for cells in the \"Team\" column.\n",
    "\n",
    "\n"
   ]
  },
  {
   "cell_type": "code",
   "execution_count": null,
   "id": "81e84d79",
   "metadata": {},
   "outputs": [],
   "source": [
    "df7['Team'] = df7['Team'].str.strip(']')\n",
    "df7.head()\n"
   ]
  },
  {
   "cell_type": "markdown",
   "id": "a89567e5",
   "metadata": {},
   "source": [
    "It took a while to get here, but at this point, the dataframe is in the desired format. Now you can move on to the exciting part and start plotting the data and computing interesting statistics.\n",
    "\n"
   ]
  },
  {
   "cell_type": "markdown",
   "id": "a5248970",
   "metadata": {},
   "source": [
    "# Data Analysis and Visualization\n"
   ]
  },
  {
   "cell_type": "markdown",
   "id": "01194614",
   "metadata": {},
   "source": [
    "The first question to answer is, what was the average finish time (in minutes) for the runners? You need to convert the column \"Chip Time\" into just minutes. One way to do this is to convert the column to a list first for manipulation.\n",
    "\n",
    "\n"
   ]
  },
  {
   "cell_type": "code",
   "execution_count": null,
   "id": "4d391a51",
   "metadata": {},
   "outputs": [],
   "source": [
    "time_list = df7[' Chip Time'].tolist()\n",
    "\n",
    "# You can use a for loop to convert 'Chip Time' to minutes\n",
    "\n",
    "time_mins = []\n",
    "for i in time_list:\n",
    "    h, m, s = i.split(':')\n",
    "    math = (int(h) * 3600 + int(m) * 60 + int(s))/60\n",
    "    time_mins.append(math)\n",
    "print(time_mins)\n"
   ]
  },
  {
   "cell_type": "markdown",
   "id": "74617b46",
   "metadata": {},
   "source": [
    "The next step is to convert the list back into a dataframe and make a new column (\"Runner_mins\") for runner chip times expressed in just minutes.\n",
    "\n",
    "\n"
   ]
  },
  {
   "cell_type": "code",
   "execution_count": null,
   "id": "56db0e29",
   "metadata": {},
   "outputs": [],
   "source": [
    "df7['Runner_mins'] = time_mins\n",
    "df7.head()\n"
   ]
  },
  {
   "cell_type": "markdown",
   "id": "3d7d8604",
   "metadata": {},
   "source": [
    "The code below shows how to calculate statistics for numeric columns only in the dataframe.\n",
    "\n",
    "\n"
   ]
  },
  {
   "cell_type": "code",
   "execution_count": 9,
   "id": "f972d76b",
   "metadata": {
    "collapsed": true
   },
   "outputs": [
    {
     "ename": "NameError",
     "evalue": "name 'df7' is not defined",
     "output_type": "error",
     "traceback": [
      "\u001b[0;31m---------------------------------------------------------------------------\u001b[0m",
      "\u001b[0;31mNameError\u001b[0m                                 Traceback (most recent call last)",
      "Cell \u001b[0;32mIn[9], line 1\u001b[0m\n\u001b[0;32m----> 1\u001b[0m df7\u001b[38;5;241m.\u001b[39mdescribe(include\u001b[38;5;241m=\u001b[39m[np\u001b[38;5;241m.\u001b[39mnumber])\n",
      "\u001b[0;31mNameError\u001b[0m: name 'df7' is not defined"
     ]
    }
   ],
   "source": [
    "df7.describe(include=[np.number])\n"
   ]
  },
  {
   "cell_type": "markdown",
   "id": "a8ae3ad2",
   "metadata": {},
   "source": [
    "Interestingly, the average chip time for all runners was ~60 mins. The fastest 10K runner finished in 36.35 mins, and the slowest runner finished in 101.30 minutes.\n",
    "\n",
    "A boxplot is another useful tool to visualize summary statistics (maximum, minimum, medium, first quartile, third quartile, including outliers). Below are data summary statistics for the runners shown in a boxplot. For data visualization, it is convenient to first import parameters from the pylab module that comes with matplotlib and set the same size for all figures to avoid doing it for each figure."
   ]
  },
  {
   "cell_type": "code",
   "execution_count": null,
   "id": "397bab8b",
   "metadata": {},
   "outputs": [],
   "source": [
    "from pylab import rcParams\n",
    "rcParams['figure.figsize'] = 15, 5"
   ]
  },
  {
   "cell_type": "code",
   "execution_count": null,
   "id": "87258697",
   "metadata": {},
   "outputs": [],
   "source": [
    "df7.boxplot(column='Runner_mins')\n",
    "plt.grid(True, axis='y')\n",
    "plt.ylabel('Chip Time')\n",
    "plt.xticks([1], ['Runners'])\n"
   ]
  },
  {
   "cell_type": "markdown",
   "id": "6d499ab0",
   "metadata": {},
   "source": [
    "The second question to answer is: Did the runners' finish times follow a normal distribution?\n",
    "\n",
    "Below is a distribution plot of runners' chip times plotted using the seaborn library. The distribution looks almost normal."
   ]
  },
  {
   "cell_type": "code",
   "execution_count": null,
   "id": "3f1c94c1",
   "metadata": {},
   "outputs": [],
   "source": [
    "x = df7['Runner_mins']\n",
    "ax = sns.distplot(x, hist=True, kde=True, rug=False, color='m', bins=25, hist_kws={'edgecolor':'black'})\n",
    "plt.show()\n"
   ]
  },
  {
   "cell_type": "markdown",
   "id": "e3497735",
   "metadata": {},
   "source": [
    "The third question deals with whether there were any performance differences between males and females of various age groups. Below is a distribution plot of chip times for males and females.\n",
    "\n",
    "\n"
   ]
  },
  {
   "cell_type": "code",
   "execution_count": null,
   "id": "0baf9b52",
   "metadata": {},
   "outputs": [],
   "source": [
    "f_fuko = df7.loc[df7[' Gender']==' F']['Runner_mins']\n",
    "m_fuko = df7.loc[df7[' Gender']==' M']['Runner_mins']\n",
    "sns.distplot(f_fuko, hist=True, kde=True, rug=False, hist_kws={'edgecolor':'black'}, label='Female')\n",
    "sns.distplot(m_fuko, hist=False, kde=True, rug=False, hist_kws={'edgecolor':'black'}, label='Male')\n",
    "plt.legend()"
   ]
  },
  {
   "cell_type": "markdown",
   "id": "a10ab5ff",
   "metadata": {},
   "source": [
    "The distribution indicates that females were slower than males on average. You can use the groupby() method to compute summary statistics for males and females separately as shown below.\n",
    "\n",
    "\n"
   ]
  },
  {
   "cell_type": "code",
   "execution_count": null,
   "id": "a0b02006",
   "metadata": {},
   "outputs": [],
   "source": [
    "g_stats = df7.groupby(\" Gender\", as_index=True).describe()\n",
    "print(g_stats)\n"
   ]
  },
  {
   "cell_type": "markdown",
   "id": "fe51e39b",
   "metadata": {},
   "source": [
    "The average chip time for all females and males was ~66 mins and ~58 mins, respectively. Below is a side-by-side boxplot comparison of male and female finish times.\n",
    "\n",
    "\n"
   ]
  },
  {
   "cell_type": "code",
   "execution_count": null,
   "id": "68eb1a55",
   "metadata": {},
   "outputs": [],
   "source": [
    "df7.boxplot(column='Runner_mins', by=' Gender')\n",
    "plt.ylabel('Chip Time')\n",
    "plt.suptitle(\"\")\n"
   ]
  },
  {
   "cell_type": "markdown",
   "id": "366e96c9",
   "metadata": {},
   "source": [
    "In this tutorial, you performed web scraping using Python. You used the Beautiful Soup library to parse html data and convert it into a form that can be used for analysis. You performed cleaning of the data in Python and created useful plots (box plots, bar plots, and distribution plots) to reveal interesting trends using Python's matplotlib and seaborn libraries. After this tutorial, you should be able to use Python to easily scrape data from the web, apply cleaning techniques and extract useful insights from the data.\n",
    "\n"
   ]
  },
  {
   "cell_type": "code",
   "execution_count": null,
   "id": "f88ed0b5",
   "metadata": {},
   "outputs": [],
   "source": []
  }
 ],
 "metadata": {
  "kernelspec": {
   "display_name": "Python 3 (ipykernel)",
   "language": "python",
   "name": "python3"
  },
  "language_info": {
   "codemirror_mode": {
    "name": "ipython",
    "version": 3
   },
   "file_extension": ".py",
   "mimetype": "text/x-python",
   "name": "python",
   "nbconvert_exporter": "python",
   "pygments_lexer": "ipython3",
   "version": "3.11.5"
  }
 },
 "nbformat": 4,
 "nbformat_minor": 5
}
