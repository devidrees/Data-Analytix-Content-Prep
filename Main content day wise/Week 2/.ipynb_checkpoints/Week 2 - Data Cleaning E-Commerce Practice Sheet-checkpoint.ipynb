{
 "cells": [
  {
   "cell_type": "code",
   "execution_count": 1,
   "id": "986a3ed8",
   "metadata": {
    "collapsed": true
   },
   "outputs": [
    {
     "name": "stdout",
     "output_type": "stream",
     "text": [
      "Data has been cleaned and saved to products.csv\n"
     ]
    }
   ],
   "source": [
    "from bs4 import BeautifulSoup\n",
    "import pandas as pd"
   ]
  },
  {
   "cell_type": "code",
   "execution_count": 23,
   "id": "191a75cb",
   "metadata": {},
   "outputs": [],
   "source": [
    "# Load the HTML content\n",
    "html_content = \"\"\"\n",
    "<!DOCTYPE html>\n",
    "<html lang=\"en\">\n",
    "<head>\n",
    "    <meta charset=\"UTF-8\">\n",
    "    <meta name=\"viewport\" content=\"width=device-width, initial-scale=1.0\">\n",
    "    <title>Sample E-commerce Website</title>\n",
    "</head>\n",
    "<body>\n",
    "    <h1>Welcome to Our Online Store</h1>\n",
    "    <div class=\"product\">\n",
    "        <h2>Product 1</h2>\n",
    "        <p><strong>Company:</strong> Company A</p>\n",
    "        <p><strong>Price:</strong> $100</p>\n",
    "        <p><strong>Description:</strong> This is a great product.</p>\n",
    "    </div>\n",
    "\n",
    "    <div class=\"product\">\n",
    "        <h2>Product 2</h2>\n",
    "        <p><strong>Company:</strong> Company B</p>\n",
    "        <p><strong>Price:</strong> $150</p>\n",
    "        <p><strong>Description:</strong> This product is even better.</p>\n",
    "    </div>\n",
    "\n",
    "    <div class=\"product\">\n",
    "        <h2>Product 3</h2>\n",
    "        <p><strong>Company:</strong> Company C</p>\n",
    "        <p><strong>Price:</strong> $200</p>\n",
    "        <p><strong>Description:</strong> The best product in the market.</p>\n",
    "    </div>\n",
    "</body>\n",
    "</html>\n",
    "\"\"\""
   ]
  },
  {
   "cell_type": "code",
   "execution_count": 22,
   "id": "4cab732e",
   "metadata": {},
   "outputs": [
    {
     "data": {
      "text/plain": [
       "\n",
       "<!DOCTYPE html>\n",
       "\n",
       "<html lang=\"en\">\n",
       "<head>\n",
       "<meta charset=\"utf-8\"/>\n",
       "<meta content=\"width=device-width, initial-scale=1.0\" name=\"viewport\"/>\n",
       "<title>Sample E-commerce Website</title>\n",
       "</head>\n",
       "<body>\n",
       "<h1>Welcome to Our Online Store</h1>\n",
       "<div class=\"product\">\n",
       "<h2>Product 1</h2>\n",
       "<p><strong>Company:</strong> Company A</p>\n",
       "<p><strong>Price:</strong> $100</p>\n",
       "<p><strong>Description:</strong> This is a great product.</p>\n",
       "</div>\n",
       "<div class=\"product\">\n",
       "<h2>Product 2</h2>\n",
       "<p><strong>Company:</strong> Company B</p>\n",
       "<p><strong>Price:</strong> $150</p>\n",
       "<p><strong>Description:</strong> This product is even better.</p>\n",
       "</div>\n",
       "<div class=\"product\">\n",
       "<h2>Product 3</h2>\n",
       "<p><strong>Company:</strong> Company C</p>\n",
       "<p><strong>Price:</strong> $200</p>\n",
       "<p><strong>Description:</strong> The best product in the market.</p>\n",
       "</div>\n",
       "</body>\n",
       "</html>"
      ]
     },
     "execution_count": 22,
     "metadata": {},
     "output_type": "execute_result"
    }
   ],
   "source": [
    "# Parse the HTML with BeautifulSoup\n",
    "soup = BeautifulSoup(html_content, 'html.parser')\n",
    "soup"
   ]
  },
  {
   "cell_type": "code",
   "execution_count": 34,
   "id": "06748b24",
   "metadata": {},
   "outputs": [
    {
     "ename": "AttributeError",
     "evalue": "ResultSet object has no attribute 'text'. You're probably treating a list of elements like a single element. Did you call find_all() when you meant to call find()?",
     "output_type": "error",
     "traceback": [
      "\u001b[0;31m---------------------------------------------------------------------------\u001b[0m",
      "\u001b[0;31mAttributeError\u001b[0m                            Traceback (most recent call last)",
      "Cell \u001b[0;32mIn[34], line 2\u001b[0m\n\u001b[1;32m      1\u001b[0m soup\u001b[38;5;241m.\u001b[39mtitle\n\u001b[0;32m----> 2\u001b[0m soup\u001b[38;5;241m.\u001b[39mfind_all(\u001b[38;5;124m'\u001b[39m\u001b[38;5;124mh2\u001b[39m\u001b[38;5;124m'\u001b[39m)\u001b[38;5;241m.\u001b[39mtext\n",
      "File \u001b[0;32m~/anaconda3/lib/python3.11/site-packages/bs4/element.py:2428\u001b[0m, in \u001b[0;36mResultSet.__getattr__\u001b[0;34m(self, key)\u001b[0m\n\u001b[1;32m   2426\u001b[0m \u001b[38;5;28;01mdef\u001b[39;00m \u001b[38;5;21m__getattr__\u001b[39m(\u001b[38;5;28mself\u001b[39m, key):\n\u001b[1;32m   2427\u001b[0m \u001b[38;5;250m    \u001b[39m\u001b[38;5;124;03m\"\"\"Raise a helpful exception to explain a common code fix.\"\"\"\u001b[39;00m\n\u001b[0;32m-> 2428\u001b[0m     \u001b[38;5;28;01mraise\u001b[39;00m \u001b[38;5;167;01mAttributeError\u001b[39;00m(\n\u001b[1;32m   2429\u001b[0m         \u001b[38;5;124m\"\u001b[39m\u001b[38;5;124mResultSet object has no attribute \u001b[39m\u001b[38;5;124m'\u001b[39m\u001b[38;5;132;01m%s\u001b[39;00m\u001b[38;5;124m'\u001b[39m\u001b[38;5;124m. You\u001b[39m\u001b[38;5;124m'\u001b[39m\u001b[38;5;124mre probably treating a list of elements like a single element. Did you call find_all() when you meant to call find()?\u001b[39m\u001b[38;5;124m\"\u001b[39m \u001b[38;5;241m%\u001b[39m key\n\u001b[1;32m   2430\u001b[0m     )\n",
      "\u001b[0;31mAttributeError\u001b[0m: ResultSet object has no attribute 'text'. You're probably treating a list of elements like a single element. Did you call find_all() when you meant to call find()?"
     ]
    }
   ],
   "source": [
    "soup.find_all('h2').text"
   ]
  },
  {
   "cell_type": "code",
   "execution_count": 21,
   "id": "feb87968",
   "metadata": {},
   "outputs": [],
   "source": [
    "# soup.string"
   ]
  },
  {
   "cell_type": "code",
   "execution_count": 26,
   "id": "e0c233f8",
   "metadata": {},
   "outputs": [
    {
     "data": {
      "text/plain": [
       "[{'Product Name': 'Product 1',\n",
       "  'Company': 'Company A',\n",
       "  'Price': 100.0,\n",
       "  'Description': 'This is a great product.'},\n",
       " {'Product Name': 'Product 2',\n",
       "  'Company': 'Company B',\n",
       "  'Price': 150.0,\n",
       "  'Description': 'This product is even better.'},\n",
       " {'Product Name': 'Product 3',\n",
       "  'Company': 'Company C',\n",
       "  'Price': 200.0,\n",
       "  'Description': 'The best product in the market.'}]"
      ]
     },
     "execution_count": 26,
     "metadata": {},
     "output_type": "execute_result"
    }
   ],
   "source": [
    "# Extract product details\n",
    "products = []\n",
    "for product in soup.find_all('div', class_='product'):\n",
    "    product_name = product.find('h2').text\n",
    "    company = product.find_all('p')[0].text.split(': ')[1] #[:]\n",
    "    price = product.find_all('p')[1].text.split(': ')[1].replace('$', '')\n",
    "    description = product.find_all('p')[2].text.split(': ')[1]\n",
    "    \n",
    "    products.append({\n",
    "        'Product Name': product_name,\n",
    "        'Company': company,\n",
    "        'Price': float(price),        # changing one type to another -> typecasting\n",
    "        'Description': description\n",
    "    })\n",
    "    \n",
    "products"
   ]
  },
  {
   "cell_type": "code",
   "execution_count": 27,
   "id": "55d749f6",
   "metadata": {},
   "outputs": [
    {
     "data": {
      "text/html": [
       "<div>\n",
       "<style scoped>\n",
       "    .dataframe tbody tr th:only-of-type {\n",
       "        vertical-align: middle;\n",
       "    }\n",
       "\n",
       "    .dataframe tbody tr th {\n",
       "        vertical-align: top;\n",
       "    }\n",
       "\n",
       "    .dataframe thead th {\n",
       "        text-align: right;\n",
       "    }\n",
       "</style>\n",
       "<table border=\"1\" class=\"dataframe\">\n",
       "  <thead>\n",
       "    <tr style=\"text-align: right;\">\n",
       "      <th></th>\n",
       "      <th>Product Name</th>\n",
       "      <th>Company</th>\n",
       "      <th>Price</th>\n",
       "      <th>Description</th>\n",
       "    </tr>\n",
       "  </thead>\n",
       "  <tbody>\n",
       "    <tr>\n",
       "      <th>0</th>\n",
       "      <td>Product 1</td>\n",
       "      <td>Company A</td>\n",
       "      <td>100.0</td>\n",
       "      <td>This is a great product.</td>\n",
       "    </tr>\n",
       "    <tr>\n",
       "      <th>1</th>\n",
       "      <td>Product 2</td>\n",
       "      <td>Company B</td>\n",
       "      <td>150.0</td>\n",
       "      <td>This product is even better.</td>\n",
       "    </tr>\n",
       "    <tr>\n",
       "      <th>2</th>\n",
       "      <td>Product 3</td>\n",
       "      <td>Company C</td>\n",
       "      <td>200.0</td>\n",
       "      <td>The best product in the market.</td>\n",
       "    </tr>\n",
       "  </tbody>\n",
       "</table>\n",
       "</div>"
      ],
      "text/plain": [
       "  Product Name    Company  Price                      Description\n",
       "0    Product 1  Company A  100.0         This is a great product.\n",
       "1    Product 2  Company B  150.0     This product is even better.\n",
       "2    Product 3  Company C  200.0  The best product in the market."
      ]
     },
     "execution_count": 27,
     "metadata": {},
     "output_type": "execute_result"
    }
   ],
   "source": [
    "# Create a DataFrame\n",
    "df = pd.DataFrame(products)\n",
    "df"
   ]
  },
  {
   "cell_type": "code",
   "execution_count": 33,
   "id": "7dc39d28",
   "metadata": {},
   "outputs": [
    {
     "name": "stdout",
     "output_type": "stream",
     "text": [
      "Data has been cleaned and saved to products.csv\n"
     ]
    }
   ],
   "source": [
    "# Save the data to a CSV file\n",
    "df.to_csv('products.csv', index=False)\n",
    "\n",
    "print(\"Data has been cleaned and saved to products.csv\")\n"
   ]
  },
  {
   "cell_type": "code",
   "execution_count": 30,
   "id": "956fc3d7",
   "metadata": {},
   "outputs": [
    {
     "name": "stdout",
     "output_type": "stream",
     "text": [
      "       Price\n",
      "count    3.0\n",
      "mean   150.0\n",
      "std     50.0\n",
      "min    100.0\n",
      "25%    125.0\n",
      "50%    150.0\n",
      "75%    175.0\n",
      "max    200.0\n"
     ]
    }
   ],
   "source": [
    "df = pd.read_csv('products.csv')\n",
    "\n",
    "# Display basic statistics\n",
    "print(df.describe())"
   ]
  },
  {
   "cell_type": "code",
   "execution_count": 31,
   "id": "9cbdb6fe",
   "metadata": {},
   "outputs": [
    {
     "name": "stdout",
     "output_type": "stream",
     "text": [
      "       Price\n",
      "count    3.0\n",
      "mean   150.0\n",
      "std     50.0\n",
      "min    100.0\n",
      "25%    125.0\n",
      "50%    150.0\n",
      "75%    175.0\n",
      "max    200.0\n"
     ]
    }
   ],
   "source": [
    "import pandas as pd\n",
    "import matplotlib.pyplot as plt\n",
    "\n",
    "# Load the data from the CSV file\n",
    "df = pd.read_csv('products.csv')\n",
    "\n",
    "# Display basic statistics\n",
    "print(df.describe())"
   ]
  },
  {
   "cell_type": "code",
   "execution_count": 7,
   "id": "78f6be88",
   "metadata": {},
   "outputs": [
    {
     "data": {
      "image/png": "[encoded data removed]",
      "text/plain": [
       "<Figure size 640x480 with 1 Axes>"
      ]
     },
     "metadata": {},
     "output_type": "display_data"
    }
   ],
   "source": [
    "# Plot a histogram of product prices\n",
    "plt.hist(df['Price'], bins=10, color='skyblue')\n",
    "plt.title('Distribution of Product Prices')\n",
    "plt.xlabel('Price')\n",
    "plt.ylabel('Frequency')\n",
    "plt.show()"
   ]
  },
  {
   "cell_type": "code",
   "execution_count": 32,
   "id": "06c66cda",
   "metadata": {},
   "outputs": [
    {
     "name": "stdout",
     "output_type": "stream",
     "text": [
      "Company\n",
      "Company A    1\n",
      "Company B    1\n",
      "Company C    1\n",
      "Name: count, dtype: int64\n"
     ]
    }
   ],
   "source": [
    "# Analyze products by company\n",
    "company_counts = df['Company'].value_counts()\n",
    "print(company_counts)"
   ]
  },
  {
   "cell_type": "code",
   "execution_count": null,
   "id": "93aaa77a",
   "metadata": {},
   "outputs": [],
   "source": [
    "<!DOCTYPE html>\n",
    "<html lang=\"en\">\n",
    "<head>\n",
    "<meta charset=\"UTF-8\">\n",
    "<meta name=\"viewport\" content=\"width=device-width, initial-scale=1.0\">\n",
    "<title>Movie Details - Sample Page</title>\n",
    "<style>\n",
    "        body {\n",
    "            font-family: Arial, sans-serif;\n",
    "            margin: 20px;\n",
    "            background-color: #f4f4f4;\n",
    "        }\n",
    "        .movie-container {\n",
    "            background-color: white;\n",
    "            padding: 20px;\n",
    "            border-radius: 8px;\n",
    "            box-shadow: 0px 0px 10px rgba(0, 0, 0, 0.1);\n",
    "            margin-bottom: 20px;\n",
    "        }\n",
    "        .movie-header {\n",
    "            text-align: center;\n",
    "        }\n",
    "        .movie-title {\n",
    "            font-size: 24px;\n",
    "            font-weight: bold;\n",
    "            margin-bottom: 10px;\n",
    "        }\n",
    "        .movie-info {\n",
    "            margin-bottom: 20px;\n",
    "        }\n",
    "        .movie-info p {\n",
    "            margin: 5px 0;\n",
    "        }\n",
    "        .ratings {\n",
    "            margin-top: 20px;\n",
    "        }\n",
    "        .ratings span {\n",
    "            font-weight: bold;\n",
    "        }\n",
    "        .ratings .star {\n",
    "            color: gold;\n",
    "        }\n",
    "</style>\n",
    "</head>\n",
    "<body>\n",
    " \n",
    "    <h1>Top 10 Movies</h1>\n",
    " \n",
    "    <div class=\"movie-container\">\n",
    "<div class=\"movie-header\">\n",
    "<h1 class=\"movie-title\">The Grand Adventure</h1>\n",
    "<p><em>Released on: July 21, 2023</em></p>\n",
    "</div>\n",
    "<div class=\"movie-info\">\n",
    "<p><strong>Genre:</strong> Action, Adventure, Fantasy</p>\n",
    "<p><strong>Director:</strong> Jane Doe</p>\n",
    "<p><strong>Cast:</strong> John Smith, Emily Johnson, Robert Brown, Anna White</p>\n",
    "<p><strong>Description:</strong> An epic tale of heroes on a quest to save their kingdom from an ancient evil.</p>\n",
    "</div>\n",
    "<div class=\"ratings\">\n",
    "<p><span>IMDb Rating:</span> <span class=\"star\">&#9733;&#9733;&#9733;&#9733;&#9734;</span> 8.4/10</p>\n",
    "<p><span>Rotten Tomatoes:</span> 92% Fresh</p>\n",
    "<p><span>Audience Rating:</span> 4.5/5</p>\n",
    "</div>\n",
    "</div>\n",
    " \n",
    "    <div class=\"movie-container\">\n",
    "<div class=\"movie-header\">\n",
    "<h1 class=\"movie-title\">The Silent Echo</h1>\n",
    "<p><em>Released on: March 15, 2023</em></p>\n",
    "</div>\n",
    "<div class=\"movie-info\">\n",
    "<p><strong>Genre:</strong> Drama, Mystery</p>\n",
    "<p><strong>Director:</strong> Alan Smith</p>\n",
    "<p><strong>Cast:</strong> Rachel Adams, Michael Lee, Laura Green, David Clarke</p>\n",
    "<p><strong>Description:</strong> A gripping mystery where the truth is buried deep within silence.</p>\n",
    "</div>\n",
    "<div class=\"ratings\">\n",
    "<p><span>IMDb Rating:</span> <span class=\"star\">&#9733;&#9733;&#9733;&#9734;&#9734;</span> 7.2/10</p>\n",
    "<p><span>Rotten Tomatoes:</span> 80% Fresh</p>\n",
    "<p><span>Audience Rating:</span> 3.8/5</p>\n",
    "</div>\n",
    "</div>\n",
    " \n",
    "    <div class=\"movie-container\">\n",
    "<div class=\"movie-header\">\n",
    "<h1 class=\"movie-title\">Space Odyssey 2077</h1>\n",
    "<p><em>Released on: December 1, 2022</em></p>\n",
    "</div>\n",
    "<div class=\"movie-info\">\n",
    "<p><strong>Genre:</strong> Sci-Fi, Adventure</p>\n",
    "<p><strong>Director:</strong> Samantha Wright</p>\n",
    "<p><strong>Cast:</strong> Tom Harris, Lisa Turner, Greg Wilson, Sarah King</p>\n",
    "<p><strong>Description:</strong> Journey through the stars in this visually stunning space adventure.</p>\n",
    "</div>\n",
    "<div class=\"ratings\">\n",
    "<p><span>IMDb Rating:</span> <span class=\"star\">&#9733;&#9733;&#9733;&#9733;&#9734;</span> 8.1/10</p>\n",
    "<p><span>Rotten Tomatoes:</span> 87% Fresh</p>\n",
    "<p><span>Audience Rating:</span> 4.2/5</p>\n",
    "</div>\n",
    "</div>\n",
    " \n",
    "    <div class=\"movie-container\">\n",
    "<div class=\"movie-header\">\n",
    "<h1 class=\"movie-title\">The Last Frontier</h1>\n",
    "<p><em>Released on: October 18, 2023</em></p>\n",
    "</div>\n",
    "<div class=\"movie-info\">\n",
    "<p><strong>Genre:</strong> Western, Action</p>\n",
    "<p><strong>Director:</strong> Clint Eastwood</p>\n",
    "<p><strong>Cast:</strong> Brad Pitt, Emma Watson, Morgan Freeman, Liam Neeson</p>\n",
    "<p><strong>Description:</strong> A wild west showdown with twists and turns at every corner.</p>\n",
    "</div>\n",
    "<div class=\"ratings\">\n",
    "<p><span>IMDb Rating:</span> <span class=\"star\">&#9733;&#9733;&#9733;&#9733;&#9734;</span> 7.9/10</p>\n",
    "<p><span>Rotten Tomatoes:</span> 85% Fresh</p>\n",
    "<p><span>Audience Rating:</span> 4.1/5</p>\n",
    "</div>\n",
    "</div>\n",
    " \n",
    "    <div class=\"movie-container\">\n",
    "<div class=\"movie-header\">\n",
    "<h1 class=\"movie-title\">Romance in Paris</h1>\n",
    "<p><em>Released on: February 14, 2023</em></p>\n",
    "</div>\n",
    "<div class=\"movie-info\">\n",
    "<p><strong>Genre:</strong> Romance, Drama</p>\n",
    "<p><strong>Director:</strong> Maria Lopez</p>\n",
    "<p><strong>Cast:</strong> Julia Roberts, Chris Evans, Natalie Portman, Hugh Jackman</p>\n",
    "<p><strong>Description:</strong> A love story set in the heart of Paris, filled with passion and drama.</p>\n",
    "</div>\n",
    "<div class=\"ratings\">\n",
    "<p><span>IMDb Rating:</span> <span class=\"star\">&#9733;&#9733;&#9733;&#9733;&#9733;</span> 9.0/10</p>\n",
    "<p><span>Rotten Tomatoes:</span> 95% Fresh</p>\n",
    "<p><span>Audience Rating:</span> 4.7/5</p>\n",
    "</div>\n",
    "</div>\n",
    " \n",
    "    <div class=\"movie-container\">\n",
    "<div class=\"movie-header\">\n",
    "<h1 class=\"movie-title\">Haunted Manor</h1>\n",
    "<p><em>Released on: October 31, 2023</em></p>\n",
    "</div>\n",
    "<div class=\"movie-info\">\n",
    "<p><strong>Genre:</strong> Horror, Thriller</p>\n",
    "<p><strong>Director:</strong> John Carpenter</p>\n",
    "<p><strong>Cast:</strong> Jamie Lee Curtis, Tom Hardy, Jessica Alba, Samuel L. Jackson</p>\n",
    "<p><strong>Description:</strong> A spine-chilling horror story set in a haunted mansion.</p>\n",
    "</div>\n",
    "<div class=\"ratings\">\n",
    "<p><span>IMDb Rating:</span> <span class=\"star\">&#9733;&#9733;&#9733;&#9733;&#9733;</span> 8.7/10</p>\n",
    "<p><span>Rotten Tomatoes:</span> 90% Fresh</p>\n",
    "<p><span>Audience Rating:</span> 4.5/5</p>\n",
    "</div>\n",
    "</div>\n",
    " \n",
    "    <div class=\"movie-container\">\n",
    "<div class=\"movie-header\">\n",
    "<h1 class=\"movie-title\">The Future is Now</h1>\n",
    "<p><em>Released on: May 12, 2023</em></p>\n",
    "</div>\n",
    "<div class=\"movie-info\">\n",
    "<p><strong>Genre:</strong> Sci-Fi, Thriller</p>\n",
    "<p><strong>Director:</strong> Christopher Nolan</p>\n",
    "<p><strong>Cast:</strong> Leonardo DiCaprio, Anne Hathaway, Matt Damon, Michael Caine</p>\n",
    "<p><strong>Description:</strong> A thrilling exploration of time and technology's impact on the future.</p>\n",
    "</div>\n",
    "<div class=\"ratings\">\n",
    "<p><span>IMDb Rating:</span> <span class=\"star\">&#9733;&#9733;&#9733;&#9733;&#9733;</span> 8.9/10</p>\n",
    "<p><span>Rotten Tomatoes:</span> 93% Fresh</p>\n",
    "<p><span>Audience Rating:</span> 4.6/5</p>\n",
    "</div>\n",
    "</div>\n",
    " \n",
    "    <div class=\"movie-container\">\n",
    "<div class=\"movie-header\">\n",
    "<h1 class=\"movie-title\">A Day in the Life</h1>\n",
    "<p><em>Released on: April 9, 2023</em></p>\n",
    "</div>\n",
    "<div class=\"movie-info\">\n",
    "<p><strong>Genre:</strong> Comedy, Drama</p>\n",
    "<p><strong>Director:</strong> Greta Gerwig</p>\n",
    "<p><strong>Cast:</strong> Saoirse Ronan, Timothée Chalamet, Florence Pugh, Adam Driver</p>\n",
    "<p><strong>Description:</strong> A heartwarming comedy-drama about the everyday life of an ordinary family.</p>\n",
    "</div>\n",
    "<div class=\"ratings\">\n",
    "<p><span>IMDb Rating:</span> <span class=\"star\">&#9733;&#9733;&#9733;&#9734;&#9734;</span> 7.6/10</p>\n",
    "<p><span>Rotten Tomatoes:</span> 82% Fresh</p>\n",
    "<p><span>Audience Rating:</span> 4.0/5</p>\n",
    "</div>\n",
    "</div>\n",
    " \n",
    "    <div class=\"movie-container\">\n",
    "<div class=\"movie-header\">\n",
    "<h1 class=\"movie-title\">Mystery of the Lost City</h1>\n",
    "<p><em>Released on: June 20, 2023</em></p>\n",
    "</div>\n",
    "<div class=\"movie-info\">\n",
    "<p><strong>Genre:</strong> Adventure, Mystery</p>\n",
    "<p><strong>Director:</strong> Steven Spielberg</p>\n",
    "<p><strong>Cast:</strong> Harrison Ford, Scarlett Johansson, Chris Pratt, Benedict Cumberbatch</p>\n",
    "<p><strong>Description:</strong> An adventure to uncover the secrets of a long-lost city.</p>\n",
    "</div>\n",
    "<div class=\"ratings\">\n",
    "<p><span>IMDb Rating:</span> <span class=\"star\">&#9733;&#9733;&#9733;&#9733;&#9733;</span> 8.5/10</p>\n",
    "<p><span>Rotten Tomatoes:</span> 88% Fresh</p>\n",
    "<p><span>Audience Rating:</span> 4.3/5</p>\n",
    "</div>\n",
    "</div>\n",
    " \n",
    "    <div class=\"movie-container\">\n",
    "<div class=\"movie-header\">\n",
    "<h1 class=\"movie-title\">Under the Sea</h1>\n",
    "<p><em>Released on: August 5, 2023</em></p>\n",
    "</div>\n",
    "<div class=\"movie-info\">\n",
    "<p><strong>Genre:</strong> Animation, Family</p>\n",
    "<p><strong>Director:</strong> John Lasseter</p>\n",
    "<p><strong>Cast:</strong> Tom Hanks, Ellen DeGeneres, Billy Crystal, John Goodman</p>\n",
    "<p><strong>Description:</strong> A delightful animated adventure set in the magical world beneath the ocean.</p>\n",
    "</div>\n",
    "<div class=\"ratings\">\n",
    "<p><span>IMDb Rating:</span> <span class=\"star\">&#9733;&#9733;&#9733;&#9733;&#9734;</span> 8.3/10</p>\n",
    "<p><span>Rotten Tomatoes:</span> 91% Fresh</p>\n",
    "<p><span>Audience Rating:</span> 4.4/5</p>\n",
    "</div>\n",
    "</div>\n",
    " \n",
    "</body>\n",
    "</html>"
   ]
  }
 ],
 "metadata": {
  "kernelspec": {
   "display_name": "Python 3 (ipykernel)",
   "language": "python",
   "name": "python3"
  },
  "language_info": {
   "codemirror_mode": {
    "name": "ipython",
    "version": 3
   },
   "file_extension": ".py",
   "mimetype": "text/x-python",
   "name": "python",
   "nbconvert_exporter": "python",
   "pygments_lexer": "ipython3",
   "version": "3.11.5"
  }
 },
 "nbformat": 4,
 "nbformat_minor": 5
}
