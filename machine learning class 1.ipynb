{
 "cells": [
  {
   "cell_type": "markdown",
   "metadata": {},
   "source": [
    "Tom Michele:\n",
    "\n",
    "Machine learning is a computer program that is said to learn from experience. \n",
    "For a Task 'T', performance 'P' increases with experience 'E'\n",
    "\n",
    "example:\n",
    "\n",
    "in email spam detection:\n",
    "\n",
    "1. Task (T) is, to classify, mails into 'Spam' and 'Not Spam'\n",
    "2. Performance measure (P), is the total number of mails being correctly classified as 'Spam' or 'Not Spam'\n",
    "3. Experience (E) is a set of mails with label, 'Spam'\n",
    "\n"
   ]
  },
  {
   "cell_type": "markdown",
   "metadata": {},
   "source": [
    "Designing of a Learning System:\n",
    "\n",
    "Choosing the:\n",
    "1. Training experience\n",
    "2. Target function\n",
    "3. representation of target function\n",
    "4. Function approxiamation\n",
    "5. Final Design"
   ]
  },
  {
   "cell_type": "markdown",
   "metadata": {},
   "source": []
  },
  {
   "cell_type": "markdown",
   "metadata": {},
   "source": []
  }
 ],
 "metadata": {
  "language_info": {
   "name": "python"
  }
 },
 "nbformat": 4,
 "nbformat_minor": 2
}
